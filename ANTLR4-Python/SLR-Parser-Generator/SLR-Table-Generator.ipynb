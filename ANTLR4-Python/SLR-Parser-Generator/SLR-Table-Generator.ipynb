{
 "cells": [
  {
   "cell_type": "code",
   "execution_count": null,
   "metadata": {},
   "outputs": [],
   "source": [
    "from IPython.core.display import HTML\n",
    "with open('../../style.css', 'r') as file:\n",
    "    css = file.read()\n",
    "HTML(css)"
   ]
  },
  {
   "cell_type": "markdown",
   "metadata": {},
   "source": [
    "# Implementing an SLR-Table-Generator"
   ]
  },
  {
   "cell_type": "markdown",
   "metadata": {},
   "source": [
    "## A Grammar for Grammars"
   ]
  },
  {
   "cell_type": "markdown",
   "metadata": {},
   "source": [
    "As the goal is to generate an *SLR-table-generator* we first need to implement a parser for context free grammars.\n",
    "The file `simple.g` contains an example grammar that describes arithmetic expressions."
   ]
  },
  {
   "cell_type": "code",
   "execution_count": null,
   "metadata": {},
   "outputs": [],
   "source": [
    "!cat simple.g"
   ]
  },
  {
   "cell_type": "markdown",
   "metadata": {},
   "source": [
    "We use <span style=\"font-variant:small-caps;\">Antlr</span> to develop a parser for context free grammars.  The pure grammar used to parse context free grammars is stored in the file `Pure.g4`."
   ]
  },
  {
   "cell_type": "code",
   "execution_count": null,
   "metadata": {},
   "outputs": [],
   "source": [
    "!cat Pure.g4"
   ]
  },
  {
   "cell_type": "markdown",
   "metadata": {},
   "source": [
    "The annotated grammar is stored in the file `Grammar.g4`. "
   ]
  },
  {
   "cell_type": "code",
   "execution_count": null,
   "metadata": {},
   "outputs": [],
   "source": [
    "!cat -n Grammar.g4"
   ]
  },
  {
   "cell_type": "markdown",
   "metadata": {},
   "source": [
    "We start by generating both scanner and parser.  "
   ]
  },
  {
   "cell_type": "code",
   "execution_count": null,
   "metadata": {},
   "outputs": [],
   "source": [
    "!antlr4 -Dlanguage=Python3 Grammar.g4"
   ]
  },
  {
   "cell_type": "code",
   "execution_count": null,
   "metadata": {},
   "outputs": [],
   "source": [
    "from GrammarLexer  import GrammarLexer\n",
    "from GrammarParser import GrammarParser\n",
    "import antlr4"
   ]
  },
  {
   "cell_type": "markdown",
   "metadata": {},
   "source": [
    "The function `parse_grammar` takes a `filename` as its argument and returns the grammar that is stored in the specified file.  The grammar is represented as list of rules.  Each rule is represented as a tuple.  The example below will clarify this structure."
   ]
  },
  {
   "cell_type": "code",
   "execution_count": null,
   "metadata": {},
   "outputs": [],
   "source": [
    "def parse_grammar(filename):\n",
    "    input_stream  = antlr4.FileStream(filename)\n",
    "    lexer         = GrammarLexer(input_stream)\n",
    "    token_stream  = antlr4.CommonTokenStream(lexer)\n",
    "    parser        = GrammarParser(token_stream)\n",
    "    grammar       = parser.start()\n",
    "    return grammar.g"
   ]
  },
  {
   "cell_type": "code",
   "execution_count": null,
   "metadata": {},
   "outputs": [],
   "source": [
    "grammar_arith = parse_grammar('simple.g')\n",
    "grammar_arith"
   ]
  },
  {
   "cell_type": "markdown",
   "metadata": {},
   "source": [
    "## SLR-Table-Generation"
   ]
  },
  {
   "cell_type": "code",
   "execution_count": null,
   "metadata": {},
   "outputs": [],
   "source": [
    "class MarkedRule():\n",
    "    def __init__(self, variable, alpha, beta):\n",
    "        self.mVariable = variable\n",
    "        self.mAlpha    = alpha\n",
    "        self.mBeta     = beta\n",
    "        \n",
    "    def __eq__(self, other):\n",
    "        return isinstance(other, MarkedRule)     and \\\n",
    "               self.mVariable == other.mVariable and \\\n",
    "               self.mAlpha    == other.mAlpha    and \\\n",
    "               self.mBeta     == other.mBeta\n",
    "    \n",
    "    def __ne__(self, other):\n",
    "        return not self.__eq__(other)\n",
    "    \n",
    "    def __hash__(self):\n",
    "        return hash(self.__repr__())\n",
    "    \n",
    "    def __repr__(self):\n",
    "        alphaStr = ' '.join(self.mAlpha)\n",
    "        betaStr  = ' '.join(self.mBeta)\n",
    "        return f'{self.mVariable} → {alphaStr} • {betaStr}'"
   ]
  },
  {
   "cell_type": "markdown",
   "metadata": {},
   "source": [
    "Given a *marked rule* `self`, the function `isComplete` checks, whether the Earley item `self` has the form\n",
    "$$A \\rightarrow \\alpha \\bullet,$$\n",
    "i.e. whether the $\\bullet$ is at the end of the grammar rule."
   ]
  },
  {
   "cell_type": "code",
   "execution_count": null,
   "metadata": {},
   "outputs": [],
   "source": [
    "def is_complete(self):\n",
    "    return self.mBeta == ()\n",
    "\n",
    "MarkedRule.is_complete = is_complete\n",
    "del is_complete"
   ]
  },
  {
   "cell_type": "code",
   "execution_count": null,
   "metadata": {},
   "outputs": [],
   "source": [
    "def symbol_after_dot(self):\n",
    "    if len(self.mBeta) > 0:\n",
    "        return self.mBeta[0]\n",
    "\n",
    "MarkedRule.symbol_after_dot = symbol_after_dot\n",
    "del symbol_after_dot"
   ]
  },
  {
   "cell_type": "markdown",
   "metadata": {},
   "source": [
    "Given a marked rule, this function returns the name of the variable following the dot.  If there is no variable following the dot, the function returns `None`.  The function can distinguish variables from token names because variable names consist only of lower case letters."
   ]
  },
  {
   "cell_type": "code",
   "execution_count": null,
   "metadata": {},
   "outputs": [],
   "source": [
    "def next_var(self):\n",
    "    if len(self.mBeta) > 0:\n",
    "        var = self.mBeta[0]\n",
    "        if is_var(var):\n",
    "            return var\n",
    "    return None\n",
    "\n",
    "MarkedRule.next_var = next_var\n",
    "del next_var"
   ]
  },
  {
   "cell_type": "markdown",
   "metadata": {},
   "source": [
    "The function `move_dot(self)` moves the $\\bullet$ in the *marked rule* `self`, where `self` has the form \n",
    "$$A \\rightarrow \\alpha \\bullet \\beta$$\n",
    "over the next variable, token, or literal in $\\beta$.  It assumes that $\\beta$ is not empty."
   ]
  },
  {
   "cell_type": "code",
   "execution_count": null,
   "metadata": {},
   "outputs": [],
   "source": [
    "def move_dot(self):\n",
    "    return MarkedRule(self.mVariable, \n",
    "                      self.mAlpha + (self.mBeta[0],), \n",
    "                      self.mBeta[1:])\n",
    "\n",
    "MarkedRule.move_dot = move_dot\n",
    "del move_dot"
   ]
  },
  {
   "cell_type": "code",
   "execution_count": null,
   "metadata": {},
   "outputs": [],
   "source": [
    "def to_rule(self):\n",
    "    return GrammarRule(self.mVariable, self.mAlpha + self.mBeta)\n",
    "\n",
    "MarkedRule.to_rule = to_rule\n",
    "del to_rule"
   ]
  },
  {
   "cell_type": "code",
   "execution_count": null,
   "metadata": {},
   "outputs": [],
   "source": [
    "def is_var(name):\n",
    "    return name[0] != \"'\" and name.islower()"
   ]
  },
  {
   "cell_type": "code",
   "execution_count": null,
   "metadata": {},
   "outputs": [],
   "source": [
    "def collect_variables(Rules):\n",
    "    Variables = set()\n",
    "    for rule in Rules:\n",
    "        for item in rule:\n",
    "            if is_var(item):\n",
    "                Variables.add(item)\n",
    "    return Variables"
   ]
  },
  {
   "cell_type": "code",
   "execution_count": null,
   "metadata": {},
   "outputs": [],
   "source": [
    "def collect_tokens(Rules):\n",
    "    Tokens = set()\n",
    "    for rule in Rules:\n",
    "        for item in rule:\n",
    "            if not is_var(item):\n",
    "                Tokens.add(item)\n",
    "    return Tokens"
   ]
  },
  {
   "cell_type": "code",
   "execution_count": null,
   "metadata": {},
   "outputs": [],
   "source": [
    "def initialize_dictionary(Variables):\n",
    "    return { a: set() for a in Variables }"
   ]
  },
  {
   "cell_type": "code",
   "execution_count": null,
   "metadata": {},
   "outputs": [],
   "source": [
    "class GrammarRule:\n",
    "    def __init__(self, variable, body):\n",
    "        self.mVariable = variable\n",
    "        self.mBody     = body\n",
    "        \n",
    "    def __repr__(self):\n",
    "        return f'{self.mVariable} → {\" \".join(self.mBody)}'"
   ]
  },
  {
   "cell_type": "markdown",
   "metadata": {},
   "source": [
    "The class `Grammar` represents a context free grammar.  It stores a list of the rules of the grammar.\n",
    "Each grammar rule of the form\n",
    "$$ a \\rightarrow \\beta $$\n",
    "is stored as the tuple $(a,) + \\beta$.  The start symbol is assumed to be the variable on the left hand side of\n",
    "the first rule. To distinguish syntactical variables form tokens, variables contain only lower case letters,\n",
    "while tokens either contain only upper case letters or they start and end with a single quote character \"`'`\"."
   ]
  },
  {
   "cell_type": "code",
   "execution_count": null,
   "metadata": {},
   "outputs": [],
   "source": [
    "class Grammar():\n",
    "    def __init__(self, Rules):\n",
    "        self.mRules      = [(head, tuple(body)) for (head, *body) in Rules]\n",
    "        self.mStart      = Rules[0][0]\n",
    "        self.mVariables  = collect_variables(Rules)\n",
    "        self.mTokens     = collect_tokens(Rules)\n",
    "        self.mStates     = set()\n",
    "        self.mStateNames = {}\n",
    "        self.mConflicts  = False\n",
    "        self.mVariables.add('ŝ')\n",
    "        self.mTokens.add('$')\n",
    "        self.mRules.append( ('ŝ', (self.mStart, '$')) )\n",
    "        self.compute_tables()"
   ]
  },
  {
   "cell_type": "code",
   "execution_count": null,
   "metadata": {},
   "outputs": [],
   "source": [
    "def compute_tables(self):\n",
    "    self.mFirst      = initialize_dictionary(self.mVariables)\n",
    "    self.mFollow     = initialize_dictionary(self.mVariables)\n",
    "    self.compute_first()\n",
    "    self.compute_follow()\n",
    "    self.all_states()\n",
    "    self.compute_action_table()\n",
    "    self.compute_goto_table()\n",
    "    \n",
    "Grammar.compute_tables = compute_tables\n",
    "del compute_tables"
   ]
  },
  {
   "cell_type": "code",
   "execution_count": null,
   "metadata": {},
   "outputs": [],
   "source": [
    "def compute_first(self):\n",
    "    change = True\n",
    "    while change:\n",
    "        change = False\n",
    "        for a, body in self.mRules:\n",
    "            first_body = self.first_list(body)\n",
    "            if not (first_body <= self.mFirst[a]):\n",
    "                change = True\n",
    "                self.mFirst[a] |= first_body           \n",
    "    print('First sets:')\n",
    "    for v in self.mVariables:\n",
    "        print(f'First({v}) = {self.mFirst[v]}')\n",
    "        \n",
    "Grammar.compute_first = compute_first\n",
    "del compute_first"
   ]
  },
  {
   "cell_type": "code",
   "execution_count": null,
   "metadata": {},
   "outputs": [],
   "source": [
    "def first_list(self, alpha):\n",
    "    if len(alpha) == 0:\n",
    "        return { '' }\n",
    "    elif is_var(alpha[0]): \n",
    "        v, *r = alpha\n",
    "        return eps_append(self.mFirst[v], self.first_list(r))\n",
    "    else:\n",
    "        t = alpha[0]\n",
    "        return { t }\n",
    "    \n",
    "Grammar.first_list = first_list\n",
    "del first_list"
   ]
  },
  {
   "cell_type": "code",
   "execution_count": null,
   "metadata": {},
   "outputs": [],
   "source": [
    "def eps_append(S, T):\n",
    "    if '' in S: \n",
    "        if '' in T: \n",
    "            return S | T\n",
    "        return (S - { '' }) | T\n",
    "    return S"
   ]
  },
  {
   "cell_type": "code",
   "execution_count": null,
   "metadata": {},
   "outputs": [],
   "source": [
    "def compute_follow(self):\n",
    "    self.mFollow[self.mStart] = { '$' }\n",
    "    change = True\n",
    "    while change:\n",
    "        change = False\n",
    "        for a, body in self.mRules:\n",
    "            for i in range(len(body)):\n",
    "                if is_var(body[i]):\n",
    "                    yi        = body[i]\n",
    "                    Tail      = self.first_list(body[i+1:])\n",
    "                    firstTail = eps_append(Tail, self.mFollow[a])\n",
    "                    if not (firstTail <= self.mFollow[yi]): \n",
    "                        change = True\n",
    "                        self.mFollow[yi] |= firstTail\n",
    "                            \n",
    "    print('Follow sets (note that \"$\" denotes the end of file):');\n",
    "    for v in self.mVariables:\n",
    "        print(f'Follow({v}) = {self.mFollow[v]}')\n",
    "        \n",
    "Grammar.compute_follow = compute_follow\n",
    "del compute_follow"
   ]
  },
  {
   "cell_type": "code",
   "execution_count": null,
   "metadata": {},
   "outputs": [],
   "source": [
    "def cmp_closure(self, Marked_Rules):\n",
    "    All_Rules = Marked_Rules\n",
    "    New_Rules = Marked_Rules\n",
    "    while True:\n",
    "        More_Rules = set()\n",
    "        for rule in New_Rules:\n",
    "            c = rule.next_var()\n",
    "            if c == None:\n",
    "                continue\n",
    "            for head, alpha in self.mRules:\n",
    "                if c == head:\n",
    "                    More_Rules |= { MarkedRule(head, (), alpha) }\n",
    "        if More_Rules <= All_Rules:\n",
    "            return frozenset(All_Rules)\n",
    "        New_Rules  = More_Rules - All_Rules\n",
    "        All_Rules |= New_Rules\n",
    "\n",
    "Grammar.cmp_closure = cmp_closure\n",
    "del cmp_closure"
   ]
  },
  {
   "cell_type": "code",
   "execution_count": null,
   "metadata": {},
   "outputs": [],
   "source": [
    "def goto(self, Marked_Rules, x):\n",
    "    Result = set()\n",
    "    for mr in Marked_Rules:\n",
    "        if mr.symbol_after_dot() == x:\n",
    "            Result.add(mr.move_dot())\n",
    "    return self.cmp_closure(Result)\n",
    "\n",
    "Grammar.goto = goto\n",
    "del goto"
   ]
  },
  {
   "cell_type": "code",
   "execution_count": null,
   "metadata": {},
   "outputs": [],
   "source": [
    "def all_states(self): \n",
    "    self.mStates = { self.cmp_closure({ MarkedRule('ŝ', (), (self.mStart, '$')) }) }\n",
    "    New_States   = self.mStates\n",
    "    while True:\n",
    "        More_States = set()\n",
    "        for Rule_Set in New_States:\n",
    "            for mr in Rule_Set: \n",
    "                if not mr.is_complete():\n",
    "                    x = mr.symbol_after_dot()\n",
    "                    More_States |= { self.goto(Rule_Set, x) }\n",
    "        if More_States <= self.mStates:\n",
    "            break\n",
    "        New_States = More_States - self.mStates;\n",
    "        self.mStates |= New_States\n",
    "    print(\"All SLR-states:\")\n",
    "    counter = 0;\n",
    "    for state in self.mStates:\n",
    "        self.mStateNames[state] = f's{counter}'\n",
    "        print(f's{counter} = {set(state)}')\n",
    "        counter += 1\n",
    "\n",
    "Grammar.all_states = all_states\n",
    "del all_states"
   ]
  },
  {
   "cell_type": "code",
   "execution_count": null,
   "metadata": {},
   "outputs": [],
   "source": [
    "def compute_action_table(self):\n",
    "    print('\\nAction Table:')\n",
    "    for state in self.mStates:\n",
    "        actionTable = {}\n",
    "        # compute shift actions\n",
    "        for token in self.mTokens:\n",
    "            stateName = self.mStateNames[state]\n",
    "            newState  = self.goto(state, token)\n",
    "            if newState != set():\n",
    "                newName = self.mStateNames[newState]\n",
    "                actionTable[token] = ('shift', newName)\n",
    "                print(f'action(\"{stateName}\", {token}) = (\"shift\", {newName})')\n",
    "        # compute reduce actions\n",
    "        for mr in state:\n",
    "            if mr.is_complete():\n",
    "                for token in self.mFollow[mr.mVariable]:\n",
    "                    action1 = actionTable.get(token)\n",
    "                    action2 = ('reduce', mr.to_rule())\n",
    "                    if action1 == None:\n",
    "                        actionTable[token] = action2\n",
    "                        print(f'action(\"{stateName}\", {token}) = {action2}')\n",
    "                    elif action1 != action2: \n",
    "                        this.mConflicts = True\n",
    "                        print('')\n",
    "                        print('conflict in state {self.stateName}:')\n",
    "                        print('{self.stateName} = {state}')\n",
    "                        print(f'action(\"{stateName}\", {token}) = {action1}')     \n",
    "                        print(f'action(\"{stateName}\", {token}) = {action2}')\n",
    "                        print('')\n",
    "\n",
    "Grammar.compute_action_table = compute_action_table\n",
    "del compute_action_table"
   ]
  },
  {
   "cell_type": "code",
   "execution_count": null,
   "metadata": {},
   "outputs": [],
   "source": [
    "def compute_goto_table(self):\n",
    "    print('\\nGoto Table:')\n",
    "    for state in self.mStates:\n",
    "        for var in self.mVariables:\n",
    "            newState = self.goto(state, var)\n",
    "            if newState != set():\n",
    "                stateName = self.mStateNames[state]\n",
    "                newName   = self.mStateNames[newState]\n",
    "                print(f'goto({stateName}, {var}) = {newName}')\n",
    "\n",
    "Grammar.compute_goto_table = compute_goto_table\n",
    "del compute_goto_table"
   ]
  },
  {
   "cell_type": "code",
   "execution_count": null,
   "metadata": {
    "scrolled": false
   },
   "outputs": [],
   "source": [
    "g = Grammar(grammar_arith)"
   ]
  },
  {
   "cell_type": "markdown",
   "metadata": {},
   "source": [
    "The command below cleans the directory.  If you are running windows, you have to replace `rm`with `del`."
   ]
  },
  {
   "cell_type": "code",
   "execution_count": null,
   "metadata": {},
   "outputs": [],
   "source": [
    "!rm GrammarLexer.* GrammarParser.* Grammar.tokens GrammarListener.py Grammar.interp\n",
    "!rm -r __pycache__"
   ]
  },
  {
   "cell_type": "code",
   "execution_count": null,
   "metadata": {},
   "outputs": [],
   "source": [
    "!ls"
   ]
  },
  {
   "cell_type": "code",
   "execution_count": null,
   "metadata": {},
   "outputs": [],
   "source": []
  }
 ],
 "metadata": {
  "kernelspec": {
   "display_name": "Python 3",
   "language": "python",
   "name": "python3"
  },
  "language_info": {
   "codemirror_mode": {
    "name": "ipython",
    "version": 3
   },
   "file_extension": ".py",
   "mimetype": "text/x-python",
   "name": "python",
   "nbconvert_exporter": "python",
   "pygments_lexer": "ipython3",
   "version": "3.9.0"
  },
  "varInspector": {
   "cols": {
    "lenName": 16,
    "lenType": 16,
    "lenVar": 40
   },
   "kernels_config": {
    "python": {
     "delete_cmd_postfix": "",
     "delete_cmd_prefix": "del ",
     "library": "var_list.py",
     "varRefreshCmd": "print(var_dic_list())"
    },
    "r": {
     "delete_cmd_postfix": ") ",
     "delete_cmd_prefix": "rm(",
     "library": "var_list.r",
     "varRefreshCmd": "cat(var_dic_list()) "
    }
   },
   "types_to_exclude": [
    "module",
    "function",
    "builtin_function_or_method",
    "instance",
    "_Feature"
   ],
   "window_display": false
  }
 },
 "nbformat": 4,
 "nbformat_minor": 4
}
