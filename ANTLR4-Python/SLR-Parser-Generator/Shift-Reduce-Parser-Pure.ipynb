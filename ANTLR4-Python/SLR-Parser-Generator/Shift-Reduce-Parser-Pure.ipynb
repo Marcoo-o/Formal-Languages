{
 "cells": [
  {
   "cell_type": "code",
   "execution_count": 1,
   "metadata": {},
   "outputs": [
    {
     "data": {
      "text/html": [
       "<link href='http://fonts.googleapis.com/css?family=Alegreya+Sans:100,300,400,500,700,800,900,100italic,300italic,400italic,500italic,700italic,800italic,900italic' rel='stylesheet' type='text/css'>\n",
       "<link href='http://fonts.googleapis.com/css?family=Arvo:400,700,400italic' rel='stylesheet' type='text/css'>\n",
       "<link href='http://fonts.googleapis.com/css?family=PT+Mono' rel='stylesheet' type='text/css'>\n",
       "<link href='http://fonts.googleapis.com/css?family=Shadows+Into+Light' rel='stylesheet' type='text/css'>\n",
       "<link href='http://fonts.googleapis.com/css?family=Philosopher:400,700,400italic,700italic' rel='stylesheet' type='text/css'>\n",
       "\n",
       "<style>\n",
       "\n",
       "@font-face {\n",
       "    font-family: \"Computer Modern\";\n",
       "    src: url('http://mirrors.ctan.org/fonts/cm-unicode/fonts/otf/cmunss.otf');\n",
       "}\n",
       "\n",
       ".container { width: 100% }\n",
       "\n",
       "/* Formatting for header cells */\n",
       ".text_cell_render h1 {\n",
       "    font-family: 'Philosopher', sans-serif;\n",
       "    font-weight: 400;\n",
       "    font-size: 2.2em;\n",
       "    line-height: 100%;\n",
       "    color: rgb(0, 80, 120);\n",
       "    margin-bottom: 0.1em;\n",
       "    margin-top: 0.1em;\n",
       "    display: block;\n",
       "}\t\n",
       ".text_cell_render h2 {\n",
       "    font-family: 'Philosopher', serif;\n",
       "    font-weight: 400;\n",
       "    font-size: 1.9em;\n",
       "    line-height: 100%;\n",
       "    color: rgb(200,100,0);\n",
       "    margin-bottom: 0.1em;\n",
       "    margin-top: 0.1em;\n",
       "    display: block;\n",
       "}\t\n",
       "\n",
       ".text_cell_render h3 {\n",
       "    font-family: 'Philosopher', serif;\n",
       "    margin-top:12px;\n",
       "    margin-bottom: 3px;\n",
       "    font-style: italic;\n",
       "    color: rgb(94,127,192);\n",
       "}\n",
       "\n",
       ".text_cell_render h4 {\n",
       "    font-family: 'Philosopher', serif;\n",
       "}\n",
       "\n",
       ".text_cell_render h5 {\n",
       "    font-family: 'Alegreya Sans', sans-serif;\n",
       "    font-weight: 300;\n",
       "    font-size: 16pt;\n",
       "    color: grey;\n",
       "    font-style: italic;\n",
       "    margin-bottom: .1em;\n",
       "    margin-top: 0.1em;\n",
       "    display: block;\n",
       "}\n",
       "\n",
       ".text_cell_render h6 {\n",
       "    font-family: 'PT Mono', sans-serif;\n",
       "    font-weight: 300;\n",
       "    font-size: 10pt;\n",
       "    color: grey;\n",
       "    margin-bottom: 1px;\n",
       "    margin-top: 1px;\n",
       "}\n",
       "\n",
       ".text_cell_render em {\n",
       "    font-family: 'Philosopher', sans-serif;\n",
       "    color:        blue;\n",
       "    background-color: rgb(255,220,180);\n",
       "    font-size:    110%;\n",
       "    margin-left:   2px;\n",
       "    margin-right:  2px;\n",
       "    font-weight:   100;\n",
       "}\n",
       "\n",
       ".text_cell_render b {\n",
       "    color:            rgb(255,195,195);\n",
       "    background-color: rgb(0,0,0);\n",
       "    font-size:    110%;\n",
       "    margin-left:   2px;\n",
       "    margin-right:  2px;\n",
       "    font-weight:   650;\n",
       "}\n",
       "\n",
       ".text_cell_render tt {\n",
       "    font-size:    120%;\n",
       "    margin-left:   2px;\n",
       "    margin-right:  2px;\n",
       "    font-weight:   150;\n",
       "}\n",
       "\n",
       ".Codemirror {\n",
       "    font-family: \"PT Mono\";\n",
       "    font-size: 100%;\n",
       "}\n",
       "\n",
       "</style>\n",
       "\n"
      ],
      "text/plain": [
       "<IPython.core.display.HTML object>"
      ]
     },
     "execution_count": 1,
     "metadata": {},
     "output_type": "execute_result"
    }
   ],
   "source": [
    "from IPython.core.display import HTML\n",
    "with open (\"../../style.css\", \"r\") as file:\n",
    "    css = file.read()\n",
    "HTML(css)"
   ]
  },
  {
   "cell_type": "markdown",
   "metadata": {},
   "source": [
    "# A Shift-Reduce Parser for Arithmetic Expressions\n",
    "\n",
    "In this notebook we implement a simple *recursive descend* parser for arithmetic expressions.\n",
    "This parser will implement the following grammar:\n",
    "$$\n",
    "  \\begin{eqnarray*}\n",
    "  \\mathrm{expr}        & \\rightarrow & \\mathrm{expr}\\;\\;\\texttt{'+'}\\;\\;\\mathrm{product}   \\\\\n",
    "                       & \\mid        & \\mathrm{expr}\\;\\;\\texttt{'-'}\\;\\;\\mathrm{product}   \\\\\n",
    "                       & \\mid        & \\mathrm{product}                                    \\\\[0.2cm]\n",
    "  \\mathrm{product}     & \\rightarrow & \\mathrm{product}\\;\\;\\texttt{'*'}\\;\\;\\mathrm{factor} \\\\\n",
    "                       & \\mid        & \\mathrm{product}\\;\\;\\texttt{'/'}\\;\\;\\mathrm{factor} \\\\\n",
    "                       & \\mid        & \\mathrm{factor}                                     \\\\[0.2cm]\n",
    "  \\mathrm{factor}      & \\rightarrow & \\texttt{'('} \\;\\;\\mathrm{expr} \\;\\;\\texttt{')'}     \\\\\n",
    "                       & \\mid        & \\texttt{NUMBER} \n",
    "  \\end{eqnarray*}\n",
    "$$"
   ]
  },
  {
   "cell_type": "markdown",
   "metadata": {},
   "source": [
    "## Implementing a Scanner"
   ]
  },
  {
   "cell_type": "code",
   "execution_count": 2,
   "metadata": {},
   "outputs": [],
   "source": [
    "import re"
   ]
  },
  {
   "cell_type": "markdown",
   "metadata": {},
   "source": [
    "The function `tokenize` transforms the string `s` into a list of tokens. See below for an example."
   ]
  },
  {
   "cell_type": "code",
   "execution_count": 3,
   "metadata": {},
   "outputs": [],
   "source": [
    "def tokenize(s):\n",
    "    '''Transform the string s into a list of tokens.  The string s\n",
    "       is supposed to represent an arithmetic expression.\n",
    "    '''\n",
    "    lexSpec = r'''([ \\t]+)        |  # blanks and tabs\n",
    "                  ([1-9][0-9]*|0) |  # number\n",
    "                  ([()])          |  # parentheses \n",
    "                  ([-+*/])        |  # arithmetical operators\n",
    "                  (.)                # unrecognized character\n",
    "               '''\n",
    "    tokenList = re.findall(lexSpec, s, re.VERBOSE)\n",
    "    result    = []\n",
    "    for ws, number, parenthesis, operator, error in tokenList:\n",
    "        if ws:        # skip blanks and tabs\n",
    "            continue\n",
    "        elif number:\n",
    "            result += [ 'NUMBER' ]\n",
    "        elif parenthesis:\n",
    "            result += [ parenthesis ]\n",
    "        elif operator:\n",
    "            result += [ operator ]\n",
    "        else:\n",
    "            result += [ f'ERROR({error})']\n",
    "    return result"
   ]
  },
  {
   "cell_type": "code",
   "execution_count": 4,
   "metadata": {},
   "outputs": [
    {
     "data": {
      "text/plain": [
       "['NUMBER', '+', 'NUMBER', '*', '(', 'NUMBER', '-', 'NUMBER', ')']"
      ]
     },
     "execution_count": 4,
     "metadata": {},
     "output_type": "execute_result"
    }
   ],
   "source": [
    "tokenize('1 + 2 * (3 - 4)')"
   ]
  },
  {
   "cell_type": "code",
   "execution_count": 5,
   "metadata": {},
   "outputs": [],
   "source": [
    "class ShiftReduceParser():\n",
    "    def __init__(self, actionTable, gotoTable):\n",
    "        self.mActionTable = actionTable\n",
    "        self.mGotoTable   = gotoTable"
   ]
  },
  {
   "cell_type": "code",
   "execution_count": 10,
   "metadata": {},
   "outputs": [],
   "source": [
    "def parse(self, TL):\n",
    "    index   = 0      # points to next token\n",
    "    Symbols = []     # stack of symbols\n",
    "    States  = ['s0'] # stack of states, s0 is start state\n",
    "    TL     += ['$']\n",
    "    while True:\n",
    "        q = States[-1]\n",
    "        t = TL[index]\n",
    "        print('Symbols:', ' '.join(Symbols + ['|'] + TL[index:]).strip())\n",
    "        p = self.mActionTable.get((q, t), 'error')\n",
    "        if p == 'error': \n",
    "            return False\n",
    "        elif p == 'accept':\n",
    "            return True\n",
    "        elif p[0] == 'shift':\n",
    "            s = p[1]\n",
    "            Symbols += [t]\n",
    "            States  += [s]\n",
    "            index   += 1\n",
    "        elif p[0] == 'reduce':\n",
    "            head, body = p[1]\n",
    "            n       = len(body)\n",
    "            Symbols = Symbols[:-n]\n",
    "            States  = States [:-n] \n",
    "            Symbols = Symbols + [head]\n",
    "            state   = States[-1]\n",
    "            States += [ self.mGotoTable[state, head] ]\n",
    "            \n",
    "ShiftReduceParser.parse = parse\n",
    "del parse"
   ]
  },
  {
   "cell_type": "code",
   "execution_count": 7,
   "metadata": {},
   "outputs": [],
   "source": [
    "%run parse-table.py"
   ]
  },
  {
   "cell_type": "markdown",
   "metadata": {},
   "source": [
    "## Testing"
   ]
  },
  {
   "cell_type": "code",
   "execution_count": 8,
   "metadata": {},
   "outputs": [],
   "source": [
    "def test(s): \n",
    "    parser = ShiftReduceParser(actionTable, gotoTable)\n",
    "    TL     = tokenize(s)\n",
    "    print(f'tokenlist: {TL}\\n')\n",
    "    if parser.parse(TL):\n",
    "        print('Parse successful!')\n",
    "    else:\n",
    "        print('Parse failed!')"
   ]
  },
  {
   "cell_type": "code",
   "execution_count": 11,
   "metadata": {},
   "outputs": [
    {
     "name": "stdout",
     "output_type": "stream",
     "text": [
      "tokenlist: ['(', 'NUMBER', '+', 'NUMBER', ')', '*', 'NUMBER']\n",
      "\n",
      "Symbols: | ( NUMBER + NUMBER ) * NUMBER $\n",
      "Symbols: ( | NUMBER + NUMBER ) * NUMBER $\n",
      "Symbols: ( NUMBER | + NUMBER ) * NUMBER $\n",
      "Symbols: ( factor | + NUMBER ) * NUMBER $\n",
      "Symbols: ( product | + NUMBER ) * NUMBER $\n",
      "Symbols: ( expr | + NUMBER ) * NUMBER $\n",
      "Symbols: ( expr + | NUMBER ) * NUMBER $\n",
      "Symbols: ( expr + NUMBER | ) * NUMBER $\n",
      "Symbols: ( expr + factor | ) * NUMBER $\n",
      "Symbols: ( expr + product | ) * NUMBER $\n",
      "Symbols: ( expr | ) * NUMBER $\n",
      "Symbols: ( expr ) | * NUMBER $\n",
      "Symbols: factor | * NUMBER $\n",
      "Symbols: product | * NUMBER $\n",
      "Symbols: product * | NUMBER $\n",
      "Symbols: product * NUMBER | $\n",
      "Symbols: product * factor | $\n",
      "Symbols: product | $\n",
      "Symbols: expr | $\n",
      "Parse successful!\n"
     ]
    }
   ],
   "source": [
    "test('(1 + 2) * 3')"
   ]
  },
  {
   "cell_type": "code",
   "execution_count": 12,
   "metadata": {
    "scrolled": false
   },
   "outputs": [
    {
     "name": "stdout",
     "output_type": "stream",
     "text": [
      "tokenlist: ['NUMBER', '*', 'NUMBER', '+', 'NUMBER', '*', '(', 'NUMBER', '-', 'NUMBER', ')', '/', 'NUMBER']\n",
      "\n",
      "Symbols: | NUMBER * NUMBER + NUMBER * ( NUMBER - NUMBER ) / NUMBER $\n",
      "Symbols: NUMBER | * NUMBER + NUMBER * ( NUMBER - NUMBER ) / NUMBER $\n",
      "Symbols: factor | * NUMBER + NUMBER * ( NUMBER - NUMBER ) / NUMBER $\n",
      "Symbols: product | * NUMBER + NUMBER * ( NUMBER - NUMBER ) / NUMBER $\n",
      "Symbols: product * | NUMBER + NUMBER * ( NUMBER - NUMBER ) / NUMBER $\n",
      "Symbols: product * NUMBER | + NUMBER * ( NUMBER - NUMBER ) / NUMBER $\n",
      "Symbols: product * factor | + NUMBER * ( NUMBER - NUMBER ) / NUMBER $\n",
      "Symbols: product | + NUMBER * ( NUMBER - NUMBER ) / NUMBER $\n",
      "Symbols: expr | + NUMBER * ( NUMBER - NUMBER ) / NUMBER $\n",
      "Symbols: expr + | NUMBER * ( NUMBER - NUMBER ) / NUMBER $\n",
      "Symbols: expr + NUMBER | * ( NUMBER - NUMBER ) / NUMBER $\n",
      "Symbols: expr + factor | * ( NUMBER - NUMBER ) / NUMBER $\n",
      "Symbols: expr + product | * ( NUMBER - NUMBER ) / NUMBER $\n",
      "Symbols: expr + product * | ( NUMBER - NUMBER ) / NUMBER $\n",
      "Symbols: expr + product * ( | NUMBER - NUMBER ) / NUMBER $\n",
      "Symbols: expr + product * ( NUMBER | - NUMBER ) / NUMBER $\n",
      "Symbols: expr + product * ( factor | - NUMBER ) / NUMBER $\n",
      "Symbols: expr + product * ( product | - NUMBER ) / NUMBER $\n",
      "Symbols: expr + product * ( expr | - NUMBER ) / NUMBER $\n",
      "Symbols: expr + product * ( expr - | NUMBER ) / NUMBER $\n",
      "Symbols: expr + product * ( expr - NUMBER | ) / NUMBER $\n",
      "Symbols: expr + product * ( expr - factor | ) / NUMBER $\n",
      "Symbols: expr + product * ( expr - product | ) / NUMBER $\n",
      "Symbols: expr + product * ( expr | ) / NUMBER $\n",
      "Symbols: expr + product * ( expr ) | / NUMBER $\n",
      "Symbols: expr + product * factor | / NUMBER $\n",
      "Symbols: expr + product | / NUMBER $\n",
      "Symbols: expr + product / | NUMBER $\n",
      "Symbols: expr + product / NUMBER | $\n",
      "Symbols: expr + product / factor | $\n",
      "Symbols: expr + product | $\n",
      "Symbols: expr | $\n",
      "Parse successful!\n"
     ]
    }
   ],
   "source": [
    "test('1 * 2 + 3 * (4 - 5) / 2')"
   ]
  },
  {
   "cell_type": "code",
   "execution_count": 13,
   "metadata": {},
   "outputs": [
    {
     "name": "stdout",
     "output_type": "stream",
     "text": [
      "tokenlist: ['NUMBER', '+', 'NUMBER', '*', '(', 'NUMBER', '-', 'NUMBER', ')', '/', '(', 'NUMBER', '-', 'NUMBER', '*', 'NUMBER', '/', '(', 'NUMBER', '-', 'NUMBER', ')', ')']\n",
      "\n",
      "Symbols: | NUMBER + NUMBER * ( NUMBER - NUMBER ) / ( NUMBER - NUMBER * NUMBER / ( NUMBER - NUMBER ) ) $\n",
      "Symbols: NUMBER | + NUMBER * ( NUMBER - NUMBER ) / ( NUMBER - NUMBER * NUMBER / ( NUMBER - NUMBER ) ) $\n",
      "Symbols: factor | + NUMBER * ( NUMBER - NUMBER ) / ( NUMBER - NUMBER * NUMBER / ( NUMBER - NUMBER ) ) $\n",
      "Symbols: product | + NUMBER * ( NUMBER - NUMBER ) / ( NUMBER - NUMBER * NUMBER / ( NUMBER - NUMBER ) ) $\n",
      "Symbols: expr | + NUMBER * ( NUMBER - NUMBER ) / ( NUMBER - NUMBER * NUMBER / ( NUMBER - NUMBER ) ) $\n",
      "Symbols: expr + | NUMBER * ( NUMBER - NUMBER ) / ( NUMBER - NUMBER * NUMBER / ( NUMBER - NUMBER ) ) $\n",
      "Symbols: expr + NUMBER | * ( NUMBER - NUMBER ) / ( NUMBER - NUMBER * NUMBER / ( NUMBER - NUMBER ) ) $\n",
      "Symbols: expr + factor | * ( NUMBER - NUMBER ) / ( NUMBER - NUMBER * NUMBER / ( NUMBER - NUMBER ) ) $\n",
      "Symbols: expr + product | * ( NUMBER - NUMBER ) / ( NUMBER - NUMBER * NUMBER / ( NUMBER - NUMBER ) ) $\n",
      "Symbols: expr + product * | ( NUMBER - NUMBER ) / ( NUMBER - NUMBER * NUMBER / ( NUMBER - NUMBER ) ) $\n",
      "Symbols: expr + product * ( | NUMBER - NUMBER ) / ( NUMBER - NUMBER * NUMBER / ( NUMBER - NUMBER ) ) $\n",
      "Symbols: expr + product * ( NUMBER | - NUMBER ) / ( NUMBER - NUMBER * NUMBER / ( NUMBER - NUMBER ) ) $\n",
      "Symbols: expr + product * ( factor | - NUMBER ) / ( NUMBER - NUMBER * NUMBER / ( NUMBER - NUMBER ) ) $\n",
      "Symbols: expr + product * ( product | - NUMBER ) / ( NUMBER - NUMBER * NUMBER / ( NUMBER - NUMBER ) ) $\n",
      "Symbols: expr + product * ( expr | - NUMBER ) / ( NUMBER - NUMBER * NUMBER / ( NUMBER - NUMBER ) ) $\n",
      "Symbols: expr + product * ( expr - | NUMBER ) / ( NUMBER - NUMBER * NUMBER / ( NUMBER - NUMBER ) ) $\n",
      "Symbols: expr + product * ( expr - NUMBER | ) / ( NUMBER - NUMBER * NUMBER / ( NUMBER - NUMBER ) ) $\n",
      "Symbols: expr + product * ( expr - factor | ) / ( NUMBER - NUMBER * NUMBER / ( NUMBER - NUMBER ) ) $\n",
      "Symbols: expr + product * ( expr - product | ) / ( NUMBER - NUMBER * NUMBER / ( NUMBER - NUMBER ) ) $\n",
      "Symbols: expr + product * ( expr | ) / ( NUMBER - NUMBER * NUMBER / ( NUMBER - NUMBER ) ) $\n",
      "Symbols: expr + product * ( expr ) | / ( NUMBER - NUMBER * NUMBER / ( NUMBER - NUMBER ) ) $\n",
      "Symbols: expr + product * factor | / ( NUMBER - NUMBER * NUMBER / ( NUMBER - NUMBER ) ) $\n",
      "Symbols: expr + product | / ( NUMBER - NUMBER * NUMBER / ( NUMBER - NUMBER ) ) $\n",
      "Symbols: expr + product / | ( NUMBER - NUMBER * NUMBER / ( NUMBER - NUMBER ) ) $\n",
      "Symbols: expr + product / ( | NUMBER - NUMBER * NUMBER / ( NUMBER - NUMBER ) ) $\n",
      "Symbols: expr + product / ( NUMBER | - NUMBER * NUMBER / ( NUMBER - NUMBER ) ) $\n",
      "Symbols: expr + product / ( factor | - NUMBER * NUMBER / ( NUMBER - NUMBER ) ) $\n",
      "Symbols: expr + product / ( product | - NUMBER * NUMBER / ( NUMBER - NUMBER ) ) $\n",
      "Symbols: expr + product / ( expr | - NUMBER * NUMBER / ( NUMBER - NUMBER ) ) $\n",
      "Symbols: expr + product / ( expr - | NUMBER * NUMBER / ( NUMBER - NUMBER ) ) $\n",
      "Symbols: expr + product / ( expr - NUMBER | * NUMBER / ( NUMBER - NUMBER ) ) $\n",
      "Symbols: expr + product / ( expr - factor | * NUMBER / ( NUMBER - NUMBER ) ) $\n",
      "Symbols: expr + product / ( expr - product | * NUMBER / ( NUMBER - NUMBER ) ) $\n",
      "Symbols: expr + product / ( expr - product * | NUMBER / ( NUMBER - NUMBER ) ) $\n",
      "Symbols: expr + product / ( expr - product * NUMBER | / ( NUMBER - NUMBER ) ) $\n",
      "Symbols: expr + product / ( expr - product * factor | / ( NUMBER - NUMBER ) ) $\n",
      "Symbols: expr + product / ( expr - product | / ( NUMBER - NUMBER ) ) $\n",
      "Symbols: expr + product / ( expr - product / | ( NUMBER - NUMBER ) ) $\n",
      "Symbols: expr + product / ( expr - product / ( | NUMBER - NUMBER ) ) $\n",
      "Symbols: expr + product / ( expr - product / ( NUMBER | - NUMBER ) ) $\n",
      "Symbols: expr + product / ( expr - product / ( factor | - NUMBER ) ) $\n",
      "Symbols: expr + product / ( expr - product / ( product | - NUMBER ) ) $\n",
      "Symbols: expr + product / ( expr - product / ( expr | - NUMBER ) ) $\n",
      "Symbols: expr + product / ( expr - product / ( expr - | NUMBER ) ) $\n",
      "Symbols: expr + product / ( expr - product / ( expr - NUMBER | ) ) $\n",
      "Symbols: expr + product / ( expr - product / ( expr - factor | ) ) $\n",
      "Symbols: expr + product / ( expr - product / ( expr - product | ) ) $\n",
      "Symbols: expr + product / ( expr - product / ( expr | ) ) $\n",
      "Symbols: expr + product / ( expr - product / ( expr ) | ) $\n",
      "Symbols: expr + product / ( expr - product / factor | ) $\n",
      "Symbols: expr + product / ( expr - product | ) $\n",
      "Symbols: expr + product / ( expr | ) $\n",
      "Symbols: expr + product / ( expr ) | $\n",
      "Symbols: expr + product / factor | $\n",
      "Symbols: expr + product | $\n",
      "Symbols: expr | $\n",
      "Parse successful!\n"
     ]
    }
   ],
   "source": [
    "test('11+22*(33-44)/(5-10*5/(4-3))')"
   ]
  },
  {
   "cell_type": "code",
   "execution_count": 14,
   "metadata": {},
   "outputs": [
    {
     "name": "stdout",
     "output_type": "stream",
     "text": [
      "tokenlist: ['NUMBER', '+', 'NUMBER', '*', 'NUMBER', '-']\n",
      "\n",
      "Symbols: | NUMBER + NUMBER * NUMBER - $\n",
      "Symbols: NUMBER | + NUMBER * NUMBER - $\n",
      "Symbols: factor | + NUMBER * NUMBER - $\n",
      "Symbols: product | + NUMBER * NUMBER - $\n",
      "Symbols: expr | + NUMBER * NUMBER - $\n",
      "Symbols: expr + | NUMBER * NUMBER - $\n",
      "Symbols: expr + NUMBER | * NUMBER - $\n",
      "Symbols: expr + factor | * NUMBER - $\n",
      "Symbols: expr + product | * NUMBER - $\n",
      "Symbols: expr + product * | NUMBER - $\n",
      "Symbols: expr + product * NUMBER | - $\n",
      "Symbols: expr + product * factor | - $\n",
      "Symbols: expr + product | - $\n",
      "Symbols: expr | - $\n",
      "Symbols: expr - | $\n",
      "Parse failed!\n"
     ]
    }
   ],
   "source": [
    "test('1+2*3-')"
   ]
  },
  {
   "cell_type": "code",
   "execution_count": null,
   "metadata": {},
   "outputs": [],
   "source": []
  }
 ],
 "metadata": {
  "@webio": {
   "lastCommId": null,
   "lastKernelId": null
  },
  "kernelspec": {
   "display_name": "Python 3",
   "language": "python",
   "name": "python3"
  },
  "language_info": {
   "codemirror_mode": {
    "name": "ipython",
    "version": 3
   },
   "file_extension": ".py",
   "mimetype": "text/x-python",
   "name": "python",
   "nbconvert_exporter": "python",
   "pygments_lexer": "ipython3",
   "version": "3.9.0"
  },
  "varInspector": {
   "cols": {
    "lenName": 16,
    "lenType": 16,
    "lenVar": 40
   },
   "kernels_config": {
    "python": {
     "delete_cmd_postfix": "",
     "delete_cmd_prefix": "del ",
     "library": "var_list.py",
     "varRefreshCmd": "print(var_dic_list())"
    },
    "r": {
     "delete_cmd_postfix": ") ",
     "delete_cmd_prefix": "rm(",
     "library": "var_list.r",
     "varRefreshCmd": "cat(var_dic_list()) "
    }
   },
   "types_to_exclude": [
    "module",
    "function",
    "builtin_function_or_method",
    "instance",
    "_Feature"
   ],
   "window_display": false
  }
 },
 "nbformat": 4,
 "nbformat_minor": 4
}
