{
 "cells": [
  {
   "cell_type": "code",
   "execution_count": null,
   "metadata": {},
   "outputs": [],
   "source": [
    "from IPython.core.display import HTML\n",
    "with open (\"../../style.css\", \"r\") as file:\n",
    "    css = file.read()\n",
    "HTML(css)"
   ]
  },
  {
   "cell_type": "markdown",
   "metadata": {},
   "source": [
    "# Generating Abstract Syntax Trees"
   ]
  },
  {
   "cell_type": "markdown",
   "metadata": {},
   "source": [
    "Our grammar is stored in the file `Differentiator.g4`.  The grammar describes arithmetical expression that contain variables.  Furthermore,\n",
    "the function symbols `ln` (*natural logarithm*) and `exp` (*exponential function*) are supported."
   ]
  },
  {
   "cell_type": "code",
   "execution_count": null,
   "metadata": {},
   "outputs": [],
   "source": [
    "!cat -n Differentiator.g4"
   ]
  },
  {
   "cell_type": "markdown",
   "metadata": {},
   "source": [
    "We start by generating both scanner and parser.  "
   ]
  },
  {
   "cell_type": "code",
   "execution_count": null,
   "metadata": {},
   "outputs": [],
   "source": [
    "!antlr4 -Dlanguage=Python3 Differentiator.g4"
   ]
  },
  {
   "cell_type": "markdown",
   "metadata": {},
   "source": [
    "The files `CalculatorLexer.py` and `CalculatorParser.py` contain the generated scanner and parser, respectively.  We have to import these files.  Furthermore, the runtime of \n",
    "<span style=\"font-variant:small-caps;\">Antlr</span>\n",
    "needs to be imported."
   ]
  },
  {
   "cell_type": "code",
   "execution_count": null,
   "metadata": {},
   "outputs": [],
   "source": [
    "from DifferentiatorLexer  import DifferentiatorLexer\n",
    "from DifferentiatorParser import DifferentiatorParser\n",
    "import antlr4"
   ]
  },
  {
   "cell_type": "markdown",
   "metadata": {},
   "source": [
    "The function `main` prompts for an expression that is then parsed and differentiated with respect to the variable `x`. "
   ]
  },
  {
   "cell_type": "code",
   "execution_count": null,
   "metadata": {},
   "outputs": [],
   "source": [
    "def main():\n",
    "    line = input('> ')\n",
    "    while line != '':\n",
    "        input_stream  = antlr4.InputStream(line)\n",
    "        lexer         = DifferentiatorLexer(input_stream)\n",
    "        token_stream  = antlr4.CommonTokenStream(lexer)\n",
    "        parser        = DifferentiatorParser(token_stream)\n",
    "        parser.Values = {}\n",
    "        context       = parser.expr()\n",
    "        derivative    = diff(context.result)\n",
    "        print(toString(derivative))\n",
    "        line = input('> ')"
   ]
  },
  {
   "cell_type": "markdown",
   "metadata": {},
   "source": [
    "The function `diff` takes the parse tree `e` of an arithmetic expression and differentiate this expressions e with respect to the variable `x`. "
   ]
  },
  {
   "cell_type": "code",
   "execution_count": null,
   "metadata": {},
   "outputs": [],
   "source": [
    "def diff(e):\n",
    "    if isinstance(e, int):\n",
    "        return '0'\n",
    "    if e[0] == '+':\n",
    "        f , g  = e[1:]\n",
    "        fs, gs = diff(f), diff(g)\n",
    "        return ('+', fs, gs)\n",
    "    if e[0] == '-':\n",
    "        f , g  = e[1:]\n",
    "        fs, gs = diff(f), diff(g)\n",
    "        return ('-', fs, gs)\n",
    "    if e[0] == '*':\n",
    "        f , g  = e[1:]\n",
    "        fs, gs = diff(f), diff(g)\n",
    "        return ('+', ('*', fs, g), ('*', f, gs))\n",
    "    if e[0] == '/':\n",
    "        f , g  = e[1:]\n",
    "        fs, gs = diff(f), diff(g)\n",
    "        return ('/', ('-', ('*', fs, g), ('*', f, gs)), ('*', g, g))\n",
    "    if e[0] == 'ln':\n",
    "        f  = e[1]\n",
    "        fs = diff(f) \n",
    "        return ('/', fs, f)\n",
    "    if e[0] == 'exp':\n",
    "        f  = e[1]\n",
    "        fs = diff(f) \n",
    "        return ('*', fs, e)\n",
    "    if e == 'x':\n",
    "        return '1'\n",
    "    return '0'"
   ]
  },
  {
   "cell_type": "markdown",
   "metadata": {},
   "source": [
    "The function `toString` takes an arithmetical expression that is represented as a nested tuple and converts it into a string."
   ]
  },
  {
   "cell_type": "code",
   "execution_count": null,
   "metadata": {},
   "outputs": [],
   "source": [
    "def toString(e):\n",
    "    if isinstance(e, int):\n",
    "        return str(e)\n",
    "    if e[0] == '+':\n",
    "        f, g = e[1:]\n",
    "        return toString(f) + ' + ' + toString(g)\n",
    "    if e[0] == '-':\n",
    "        f, g = e[1:]\n",
    "        return toString(f) + ' - (' + toString(g) + ')'\n",
    "    if e[0] == '*':\n",
    "        f, g = e[1:]\n",
    "        return parenString(f) + ' * ' + parenString(g)\n",
    "    if e[0] == '/':\n",
    "        f, g = e[1:]\n",
    "        return parenString(f) + ' / (' + toString(g) + ')'\n",
    "    if e[0] == 'ln':\n",
    "        return 'ln(' + toString(e[1]) + ')'\n",
    "    if e[0] == 'exp':\n",
    "        return 'exp(' + toString(e[1]) + ')'\n",
    "    return str(e)"
   ]
  },
  {
   "cell_type": "markdown",
   "metadata": {},
   "source": [
    "Convert `e` into a string that is parenthesized if necessary."
   ]
  },
  {
   "cell_type": "code",
   "execution_count": null,
   "metadata": {},
   "outputs": [],
   "source": [
    "def parenString(e):\n",
    "    if isinstance(e, int):\n",
    "        return toString(e)\n",
    "    if e[0] in ['+', '-']:\n",
    "        return '(' + toString(e) + ')'\n",
    "    else:\n",
    "        return toString(e)    "
   ]
  },
  {
   "cell_type": "code",
   "execution_count": null,
   "metadata": {},
   "outputs": [],
   "source": [
    "main()"
   ]
  },
  {
   "cell_type": "code",
   "execution_count": null,
   "metadata": {},
   "outputs": [],
   "source": [
    "!rm *.py *.tokens *.interp\n",
    "!rm -r __pycache__/"
   ]
  },
  {
   "cell_type": "code",
   "execution_count": null,
   "metadata": {},
   "outputs": [],
   "source": [
    "!ls"
   ]
  },
  {
   "cell_type": "code",
   "execution_count": null,
   "metadata": {},
   "outputs": [],
   "source": []
  }
 ],
 "metadata": {
  "kernelspec": {
   "display_name": "Python 3",
   "language": "python",
   "name": "python3"
  },
  "language_info": {
   "codemirror_mode": {
    "name": "ipython",
    "version": 3
   },
   "file_extension": ".py",
   "mimetype": "text/x-python",
   "name": "python",
   "nbconvert_exporter": "python",
   "pygments_lexer": "ipython3",
   "version": "3.9.0"
  },
  "varInspector": {
   "cols": {
    "lenName": 16,
    "lenType": 16,
    "lenVar": 40
   },
   "kernels_config": {
    "python": {
     "delete_cmd_postfix": "",
     "delete_cmd_prefix": "del ",
     "library": "var_list.py",
     "varRefreshCmd": "print(var_dic_list())"
    },
    "r": {
     "delete_cmd_postfix": ") ",
     "delete_cmd_prefix": "rm(",
     "library": "var_list.r",
     "varRefreshCmd": "cat(var_dic_list()) "
    }
   },
   "types_to_exclude": [
    "module",
    "function",
    "builtin_function_or_method",
    "instance",
    "_Feature"
   ],
   "window_display": false
  }
 },
 "nbformat": 4,
 "nbformat_minor": 4
}
