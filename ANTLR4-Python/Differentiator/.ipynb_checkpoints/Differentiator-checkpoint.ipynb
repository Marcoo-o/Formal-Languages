{
 "cells": [
  {
   "cell_type": "code",
   "execution_count": 1,
   "metadata": {},
   "outputs": [
    {
     "data": {
      "text/html": [
       "<style>\n",
       ".container { width: 100% }\n",
       "</style>\n"
      ],
      "text/plain": [
       "<IPython.core.display.HTML object>"
      ]
     },
     "metadata": {},
     "output_type": "display_data"
    }
   ],
   "source": [
    "%%HTML\n",
    "<style>\n",
    ".container { width: 100% }\n",
    "</style>"
   ]
  },
  {
   "cell_type": "markdown",
   "metadata": {},
   "source": [
    "# Generating Abstract Syntax Trees"
   ]
  },
  {
   "cell_type": "markdown",
   "metadata": {},
   "source": [
    "Our grammar is stored in the file `Differentiator.g4`.  The grammar describes arithmetical expression that contain variables.\n",
    "The function symbols `ln` (natural logarithm) and `exp` (exponential) are supported."
   ]
  },
  {
   "cell_type": "code",
   "execution_count": 2,
   "metadata": {},
   "outputs": [
    {
     "name": "stdout",
     "output_type": "stream",
     "text": [
      "grammar Differentiator;\r\n",
      "\r\n",
      "expr returns [result]\r\n",
      "    : e=expr '+' p=product {$result = ('+', $e.result, $p.result)}\r\n",
      "    | e=expr '-' p=product {$result = ('-', $e.result, $p.result)}\r\n",
      "    | product          {$result = $product.result                }    \r\n",
      "    ;\r\n",
      "\r\n",
      "product returns [result]\r\n",
      "    : p=product '*' f=factor {$result = ('*', $p.result, $f.result)}\r\n",
      "    | p=product '/' f=factor {$result = ('/', $p.result, $f.result)}\r\n",
      "    | f=factor               {$result = $f.result                  }\r\n",
      "    ;\r\n",
      "\r\n",
      "factor returns [result]\r\n",
      "    : '(' expr ')'       {$result = $expr.result;        }\r\n",
      "    | 'exp' '(' expr ')' {$result = ('exp', $expr.result)}\r\n",
      "    | 'ln'  '(' expr ')' {$result = ('ln' , $expr.result)}\r\n",
      "    | VAR                {$result = $VAR.text            }\r\n",
      "    | NUM                {$result = int($NUM.text)       }\r\n",
      "    ;\r\n",
      "\r\n",
      "VAR : [a-zA-Z][a-zA-Z0-9]*;\r\n",
      "NUM : '0'|[1-9][0-9]*;\r\n",
      "WS  : [ \\t\\n\\r] -> skip; \r\n"
     ]
    }
   ],
   "source": [
    "!cat Differentiator.g4"
   ]
  },
  {
   "cell_type": "markdown",
   "metadata": {},
   "source": [
    "We start by generating both scanner and parser.  "
   ]
  },
  {
   "cell_type": "code",
   "execution_count": 3,
   "metadata": {},
   "outputs": [],
   "source": [
    "!antlr4 -Dlanguage=Python3 Differentiator.g4"
   ]
  },
  {
   "cell_type": "markdown",
   "metadata": {},
   "source": [
    "The files `CalculatorLexer.py` and `CalculatorParser.py` contain the generated scanner and parser, respectively.  We have to import these files.  Furthermore, the runtime of \n",
    "<span style=\"font-variant:small-caps;\">Antlr</span>\n",
    "needs to be imported."
   ]
  },
  {
   "cell_type": "code",
   "execution_count": 4,
   "metadata": {},
   "outputs": [],
   "source": [
    "from DifferentiatorLexer  import DifferentiatorLexer\n",
    "from DifferentiatorParser import DifferentiatorParser\n",
    "import antlr4"
   ]
  },
  {
   "cell_type": "markdown",
   "metadata": {},
   "source": [
    "The function `main` prompts for an expression that is then parsed and differentiated with respect to the variable `x`. "
   ]
  },
  {
   "cell_type": "code",
   "execution_count": 5,
   "metadata": {},
   "outputs": [],
   "source": [
    "def main():\n",
    "    parser        = DifferentiatorParser(None)\n",
    "    parser.Values = {}\n",
    "    line          = input('> ')\n",
    "    while line != '':\n",
    "        input_stream  = antlr4.InputStream(line)\n",
    "        lexer         = DifferentiatorLexer(input_stream)\n",
    "        token_stream  = antlr4.CommonTokenStream(lexer)\n",
    "        parser.setInputStream(token_stream)\n",
    "        term = parser.expr()\n",
    "        d = diff(term.result)\n",
    "        print(toString(d))\n",
    "        line = input('> ')"
   ]
  },
  {
   "cell_type": "markdown",
   "metadata": {},
   "source": [
    "The function `diff` takes the parse tree `e` of an arithmetic expression and differentiate this expressions e with respect to the variable `x`. "
   ]
  },
  {
   "cell_type": "code",
   "execution_count": 6,
   "metadata": {},
   "outputs": [],
   "source": [
    "def diff(e):\n",
    "    \"differentiate the expressions e with respect to the variable x\"\n",
    "    if e[0] == '+':\n",
    "        f , g  = e[1:]\n",
    "        fs, gs = diff(f), diff(g)\n",
    "        return ('+', fs, gs)\n",
    "    if e[0] == '-':\n",
    "        f , g  = e[1:]\n",
    "        fs, gs = diff(f), diff(g)\n",
    "        return ('-', fs, gs)\n",
    "    if e[0] == '*':\n",
    "        f , g  = e[1:]\n",
    "        fs, gs = diff(f), diff(g)\n",
    "        return ('+', ('*', fs, g), ('*', f, gs))\n",
    "    if e[0] == '/':\n",
    "        f , g  = e[1:]\n",
    "        fs, gs = diff(f), diff(g)\n",
    "        return ('/', ('-', ('*', fs, g), ('*', f, gs)), ('*', g, g))\n",
    "    if e[0] == 'ln':\n",
    "        f  = e[1]\n",
    "        fs = diff(f) \n",
    "        return ('/', fs, f)\n",
    "    if e[0] == 'exp':\n",
    "        f  = e[1]\n",
    "        fs = diff(f) \n",
    "        return ('*', fs, e)\n",
    "    if e == 'x':\n",
    "        return '1'\n",
    "    return 0"
   ]
  },
  {
   "cell_type": "markdown",
   "metadata": {},
   "source": [
    "The function `toString` takes an arithmetical expression that is represented as a nested tuple and converts it into a string."
   ]
  },
  {
   "cell_type": "code",
   "execution_count": 7,
   "metadata": {},
   "outputs": [],
   "source": [
    "def toString(e):\n",
    "    if e[0] == '+':\n",
    "        f, g = e[1:]\n",
    "        return toString(f) + ' + ' + toString(g)\n",
    "    if e[0] == '-':\n",
    "        f, g = e[1:]\n",
    "        return toString(f) + ' - (' + toString(g) + ')'\n",
    "    if e[0] == '*':\n",
    "        f, g = e[1:]\n",
    "        return parenString(f) + ' * ' + parenString(g)\n",
    "    if e[0] == '/':\n",
    "        f, g = e[1:]\n",
    "        return parenString(f) + ' / (' + toString(g) + ')'\n",
    "    if e[0] == 'ln':\n",
    "        return 'ln(' + toString(e[1]) + ')'\n",
    "    if e[0] == 'exp':\n",
    "        return 'exp(' + toString(e[1]) + ')'\n",
    "    return str(e)"
   ]
  },
  {
   "cell_type": "markdown",
   "metadata": {},
   "source": [
    "Convert `e` into a string that is parenthesized if necessary."
   ]
  },
  {
   "cell_type": "code",
   "execution_count": 8,
   "metadata": {},
   "outputs": [],
   "source": [
    "def parenString(e):\n",
    "    if e[0] in ['+', '-']:\n",
    "        return '(' + toString(e) + ')'\n",
    "    else:\n",
    "        return toString(e)    "
   ]
  },
  {
   "cell_type": "code",
   "execution_count": 9,
   "metadata": {},
   "outputs": [
    {
     "name": "stdout",
     "output_type": "stream",
     "text": [
      "> x * ln(exp(x))\n",
      "1 * ln(exp(x)) + x * 1 * exp(x) / (exp(x))\n",
      "> ln(exp(x * x))\n",
      "(1 * x + x * 1) * exp(x * x) / (exp(x * x))\n",
      "> \n"
     ]
    }
   ],
   "source": [
    "main()"
   ]
  },
  {
   "cell_type": "markdown",
   "metadata": {},
   "source": []
  }
 ],
 "metadata": {
  "kernelspec": {
   "display_name": "Python 3",
   "language": "python",
   "name": "python3"
  },
  "language_info": {
   "codemirror_mode": {
    "name": "ipython",
    "version": 3
   },
   "file_extension": ".py",
   "mimetype": "text/x-python",
   "name": "python",
   "nbconvert_exporter": "python",
   "pygments_lexer": "ipython3",
   "version": "3.8.3"
  },
  "varInspector": {
   "cols": {
    "lenName": 16,
    "lenType": 16,
    "lenVar": 40
   },
   "kernels_config": {
    "python": {
     "delete_cmd_postfix": "",
     "delete_cmd_prefix": "del ",
     "library": "var_list.py",
     "varRefreshCmd": "print(var_dic_list())"
    },
    "r": {
     "delete_cmd_postfix": ") ",
     "delete_cmd_prefix": "rm(",
     "library": "var_list.r",
     "varRefreshCmd": "cat(var_dic_list()) "
    }
   },
   "types_to_exclude": [
    "module",
    "function",
    "builtin_function_or_method",
    "instance",
    "_Feature"
   ],
   "window_display": false
  }
 },
 "nbformat": 4,
 "nbformat_minor": 4
}
