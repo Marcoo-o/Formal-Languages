{
 "cells": [
  {
   "cell_type": "code",
   "execution_count": 1,
   "metadata": {},
   "outputs": [
    {
     "data": {
      "text/html": [
       "<link href='http://fonts.googleapis.com/css?family=Alegreya+Sans:100,300,400,500,700,800,900,100italic,300italic,400italic,500italic,700italic,800italic,900italic' rel='stylesheet' type='text/css'>\n",
       "<link href='http://fonts.googleapis.com/css?family=Arvo:400,700,400italic' rel='stylesheet' type='text/css'>\n",
       "<link href='http://fonts.googleapis.com/css?family=PT+Mono' rel='stylesheet' type='text/css'>\n",
       "<link href='http://fonts.googleapis.com/css?family=Shadows+Into+Light' rel='stylesheet' type='text/css'>\n",
       "<link href='http://fonts.googleapis.com/css?family=Philosopher:400,700,400italic,700italic' rel='stylesheet' type='text/css'>\n",
       "\n",
       "<style>\n",
       "\n",
       "@font-face {\n",
       "    font-family: \"Computer Modern\";\n",
       "    src: url('http://mirrors.ctan.org/fonts/cm-unicode/fonts/otf/cmunss.otf');\n",
       "}\n",
       "\n",
       ".container { width: 100% }\n",
       "\n",
       "/* Formatting for header cells */\n",
       ".text_cell_render h1 {\n",
       "    font-family: 'Philosopher', sans-serif;\n",
       "    font-weight: 400;\n",
       "    font-size: 2.2em;\n",
       "    line-height: 100%;\n",
       "    color: rgb(0, 80, 120);\n",
       "    margin-bottom: 0.1em;\n",
       "    margin-top: 0.1em;\n",
       "    display: block;\n",
       "}\t\n",
       ".text_cell_render h2 {\n",
       "    font-family: 'Philosopher', serif;\n",
       "    font-weight: 400;\n",
       "    font-size: 1.9em;\n",
       "    line-height: 100%;\n",
       "    color: rgb(200,100,0);\n",
       "    margin-bottom: 0.1em;\n",
       "    margin-top: 0.1em;\n",
       "    display: block;\n",
       "}\t\n",
       "\n",
       ".text_cell_render h3 {\n",
       "    font-family: 'Philosopher', serif;\n",
       "    margin-top:12px;\n",
       "    margin-bottom: 3px;\n",
       "    font-style: italic;\n",
       "    color: rgb(94,127,192);\n",
       "}\n",
       "\n",
       ".text_cell_render h4 {\n",
       "    font-family: 'Philosopher', serif;\n",
       "}\n",
       "\n",
       ".text_cell_render h5 {\n",
       "    font-family: 'Alegreya Sans', sans-serif;\n",
       "    font-weight: 300;\n",
       "    font-size: 16pt;\n",
       "    color: grey;\n",
       "    font-style: italic;\n",
       "    margin-bottom: .1em;\n",
       "    margin-top: 0.1em;\n",
       "    display: block;\n",
       "}\n",
       "\n",
       ".text_cell_render h6 {\n",
       "    font-family: 'PT Mono', sans-serif;\n",
       "    font-weight: 300;\n",
       "    font-size: 10pt;\n",
       "    color: grey;\n",
       "    margin-bottom: 1px;\n",
       "    margin-top: 1px;\n",
       "}\n",
       "\n",
       ".text_cell_render em {\n",
       "    font-family: 'Philosopher', sans-serif;\n",
       "    color:        blue;\n",
       "    background-color: rgb(255,220,180);\n",
       "    font-size:    110%;\n",
       "    margin-left:   2px;\n",
       "    margin-right:  2px;\n",
       "    font-weight:   100;\n",
       "}\n",
       "\n",
       ".text_cell_render b {\n",
       "    color:            rgb(255,195,195);\n",
       "    background-color: rgb(0,0,0);\n",
       "    font-size:    110%;\n",
       "    margin-left:   2px;\n",
       "    margin-right:  2px;\n",
       "    font-weight:   650;\n",
       "}\n",
       "\n",
       ".text_cell_render tt {\n",
       "    font-size:    120%;\n",
       "    margin-left:   2px;\n",
       "    margin-right:  2px;\n",
       "    font-weight:   150;\n",
       "}\n",
       "\n",
       ".Codemirror {\n",
       "    font-family: \"PT Mono\";\n",
       "    font-size: 100%;\n",
       "}\n",
       "\n",
       "</style>\n",
       "\n"
      ],
      "text/plain": [
       "<IPython.core.display.HTML object>"
      ]
     },
     "execution_count": 1,
     "metadata": {},
     "output_type": "execute_result"
    }
   ],
   "source": [
    "from IPython.core.display import HTML\n",
    "with open('../../style.css') as file:\n",
    "    css = file.read()\n",
    "HTML(css)"
   ]
  },
  {
   "cell_type": "markdown",
   "metadata": {},
   "source": [
    "# Embedded Actions in <span style=\"font-variant:small-caps;\">Antlr</span> Grammars"
   ]
  },
  {
   "cell_type": "markdown",
   "metadata": {},
   "source": [
    "The *pure grammar* is stored in the file `Grammar.g4`.  On *Unix-like* operating\n",
    "systems, the following command displays the file `Program.g4`.  "
   ]
  },
  {
   "cell_type": "code",
   "execution_count": 2,
   "metadata": {},
   "outputs": [
    {
     "name": "stderr",
     "output_type": "stream",
     "text": [
      "'cat' is not recognized as an internal or external command,\n",
      "operable program or batch file.\n"
     ]
    }
   ],
   "source": [
    "!cat -n Program.g4"
   ]
  },
  {
   "cell_type": "markdown",
   "metadata": {},
   "source": [
    "On a *Windows* operating system the cell given below prints the contend of\n",
    "the file `Program.g4`."
   ]
  },
  {
   "cell_type": "code",
   "execution_count": 3,
   "metadata": {},
   "outputs": [
    {
     "name": "stdout",
     "output_type": "stream",
     "text": [
      "grammar Program;\n",
      "\n",
      "start: statement+ ; \n",
      "\n",
      "statement\n",
      "    : IDENTIFIER ':=' expr ';' \n",
      "    | expr ';'                 \n",
      "    ;\n",
      "\n",
      "expr: expr '+' product \n",
      "    | expr '-' product \n",
      "    | product\n",
      "    ;\n",
      "\n",
      "product \n",
      "    : product '*' factor \n",
      "    | product '/' factor \n",
      "    | factor\n",
      "    ;\n",
      "\n",
      "factor\n",
      "    : 'sqrt' '(' expr ')'\n",
      "    | '(' expr ')'        \n",
      "    | FLOAT               \n",
      "    | IDENTIFIER          \n",
      "    ;\n",
      "\n",
      "IDENTIFIER: [a-zA-Z][a-zA-Z0-9_]*;\n",
      "FLOAT     : '0'([.][0-9]+)?\n",
      "          | [1-9][0-9]*([.][0-9]+)?;\n",
      "WS        : [ \\t\\n\\r] -> skip; \n"
     ]
    }
   ],
   "source": [
    "!type Program.g4"
   ]
  },
  {
   "cell_type": "markdown",
   "metadata": {},
   "source": [
    "The grammar shown above has no *semantic actions* (with the exception of the `skip` action). \n",
    "We extend this grammar now with *semantic actions* so that we can actually compute something.\n",
    "This grammar is stored in the file `Calculator.g4`.  It describes a language for a \n",
    "*symbolic calculator*: This calculator is able to evaluate arithmetic expressions and, furthermore, \n",
    "where we can store the results of our computations in variables.  "
   ]
  },
  {
   "cell_type": "code",
   "execution_count": null,
   "metadata": {},
   "outputs": [],
   "source": [
    "!cat -n Calculator.g4"
   ]
  },
  {
   "cell_type": "code",
   "execution_count": 4,
   "metadata": {},
   "outputs": [
    {
     "name": "stdout",
     "output_type": "stream",
     "text": [
      "grammar Calculator;\n",
      "\n",
      "@header {\n",
      "import math\n",
      "}\n",
      "\n",
      "start: statement+ ; \n",
      "\n",
      "statement\n",
      "    : IDENTIFIER ':=' expr ';' {self.Values[$IDENTIFIER.text] = $expr.result}\n",
      "    | expr ';'                 {print($expr.result)                         }\n",
      "    ;\n",
      "\n",
      "expr returns[result]\n",
      "    : e=expr '+' p=product {$result = $e.result + $p.result}\n",
      "    | e=expr '-' p=product {$result = $e.result - $p.result}\n",
      "    | p=product            {$result = $p.result            }\n",
      "    ;\n",
      "\n",
      "product returns[result]\n",
      "    : p=product '*' f=factor {$result = $p.result * $f.result}\n",
      "    | p=product '/' f=factor {$result = $p.result / $f.result}\n",
      "    | f=factor               {$result = $f.result            }\n",
      "    ;\n",
      "\n",
      "factor returns[result]\n",
      "    : 'sqrt' '(' expr ')' {$result = math.sqrt($expr.result)      }\n",
      "    | '(' expr ')'        {$result = $expr.result                 }\n",
      "    | FLOAT               {$result = float($FLOAT.text)           }\n",
      "    | IDENTIFIER          {$result = self.Values[$IDENTIFIER.text]}\n",
      "    ;\n",
      "\n",
      "IDENTIFIER: [a-zA-Z][a-zA-Z0-9_]*;\n",
      "FLOAT     : '0'([.][0-9]+)?\n",
      "          | [1-9][0-9]*([.][0-9]+)?;\n",
      "WS        : [ \\t\\n\\r] -> skip; \n"
     ]
    }
   ],
   "source": [
    "!type Calculator.g4"
   ]
  },
  {
   "cell_type": "markdown",
   "metadata": {},
   "source": [
    "First, we have to generate both the scanner and the parser.  "
   ]
  },
  {
   "cell_type": "code",
   "execution_count": 5,
   "metadata": {},
   "outputs": [
    {
     "name": "stdout",
     "output_type": "stream",
     "text": [
      "\n",
      "C:\\Users\\Karl\\Dropbox\\Kurse\\Formal-Languages\\ANTLR4-Python\\Calculator>java -Xmx500M -cp C:/Users/Karl/anaconda3/envs/fl\\Library\\lib\\\\antlr4-4.9.2_1-complete.jar; org.antlr.v4.Tool -Dlanguage=Python3 Calculator.g4  \n",
      "\n",
      "C:\\Users\\Karl\\Dropbox\\Kurse\\Formal-Languages\\ANTLR4-Python\\Calculator>IF 0 NEQ 0 EXIT /B 0  \n"
     ]
    }
   ],
   "source": [
    "!antlr4 -Dlanguage=Python3 Calculator.g4"
   ]
  },
  {
   "cell_type": "markdown",
   "metadata": {},
   "source": [
    "We can use the system command `ls` to see which files have been generated by <span style=\"font-variant:small-caps;\">Antlr</span>.\n",
    "If you are using a windows system you have to use the command `dir` instead."
   ]
  },
  {
   "cell_type": "code",
   "execution_count": null,
   "metadata": {},
   "outputs": [],
   "source": [
    "!ls -l"
   ]
  },
  {
   "cell_type": "code",
   "execution_count": null,
   "metadata": {},
   "outputs": [],
   "source": [
    "!dir"
   ]
  },
  {
   "cell_type": "markdown",
   "metadata": {},
   "source": [
    "The files `CalculatorLexer.py` and `CalculatorParser.py` contain the generated scanner and parser, respectively.  We have to import these files.  Furthermore, the runtime of \n",
    "<span style=\"font-variant:small-caps;\">Antlr</span>\n",
    "needs to be imported."
   ]
  },
  {
   "cell_type": "code",
   "execution_count": null,
   "metadata": {},
   "outputs": [],
   "source": [
    "from CalculatorLexer  import CalculatorLexer\n",
    "from CalculatorParser import CalculatorParser\n",
    "import antlr4"
   ]
  },
  {
   "cell_type": "markdown",
   "metadata": {},
   "source": [
    "Let us parse and evaluate the input that we read from a prompt."
   ]
  },
  {
   "cell_type": "code",
   "execution_count": null,
   "metadata": {},
   "outputs": [],
   "source": [
    "def main():\n",
    "    parser        = CalculatorParser(None) # generate parser without lexer\n",
    "    parser.Values = {}\n",
    "    line          = input('> ')\n",
    "    while line != '':\n",
    "        input_stream  = antlr4.InputStream(line)\n",
    "        lexer         = CalculatorLexer(input_stream)\n",
    "        token_stream  = antlr4.CommonTokenStream(lexer)\n",
    "        parser.setInputStream(token_stream)\n",
    "        parser.start()\n",
    "        line = input('Input an arithmetic expression: ')\n",
    "    return parser.Values"
   ]
  },
  {
   "cell_type": "code",
   "execution_count": null,
   "metadata": {},
   "outputs": [],
   "source": [
    "main()"
   ]
  },
  {
   "cell_type": "markdown",
   "metadata": {},
   "source": [
    "On a *Unix-like* system, i.e. on *MacOs* or *Linux* the following cell removes the\n",
    "generated files."
   ]
  },
  {
   "cell_type": "code",
   "execution_count": null,
   "metadata": {},
   "outputs": [],
   "source": [
    "!rm *.py *.tokens *.interp\n",
    "!rm -r __pycache__/\n",
    "!ls -l"
   ]
  },
  {
   "cell_type": "markdown",
   "metadata": {},
   "source": [
    "On *Windows*, the following cell removes the generated files."
   ]
  },
  {
   "cell_type": "code",
   "execution_count": null,
   "metadata": {},
   "outputs": [],
   "source": [
    "!del *.py *.tokens *.interp\n",
    "!rmdir __pycache__ /s /q\n",
    "!dir"
   ]
  },
  {
   "cell_type": "code",
   "execution_count": null,
   "metadata": {},
   "outputs": [],
   "source": []
  }
 ],
 "metadata": {
  "kernelspec": {
   "display_name": "Python 3 (ipykernel)",
   "language": "python",
   "name": "python3"
  },
  "language_info": {
   "codemirror_mode": {
    "name": "ipython",
    "version": 3
   },
   "file_extension": ".py",
   "mimetype": "text/x-python",
   "name": "python",
   "nbconvert_exporter": "python",
   "pygments_lexer": "ipython3",
   "version": "3.9.7"
  },
  "varInspector": {
   "cols": {
    "lenName": 16,
    "lenType": 16,
    "lenVar": 40
   },
   "kernels_config": {
    "python": {
     "delete_cmd_postfix": "",
     "delete_cmd_prefix": "del ",
     "library": "var_list.py",
     "varRefreshCmd": "print(var_dic_list())"
    },
    "r": {
     "delete_cmd_postfix": ") ",
     "delete_cmd_prefix": "rm(",
     "library": "var_list.r",
     "varRefreshCmd": "cat(var_dic_list()) "
    }
   },
   "types_to_exclude": [
    "module",
    "function",
    "builtin_function_or_method",
    "instance",
    "_Feature"
   ],
   "window_display": false
  }
 },
 "nbformat": 4,
 "nbformat_minor": 4
}
