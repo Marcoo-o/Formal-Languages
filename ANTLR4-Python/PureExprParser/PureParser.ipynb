{
 "cells": [
  {
   "cell_type": "code",
   "execution_count": 1,
   "metadata": {},
   "outputs": [
    {
     "data": {
      "text/html": [
       "<link href='http://fonts.googleapis.com/css?family=Alegreya+Sans:100,300,400,500,700,800,900,100italic,300italic,400italic,500italic,700italic,800italic,900italic' rel='stylesheet' type='text/css'>\n",
       "<link href='http://fonts.googleapis.com/css?family=Arvo:400,700,400italic' rel='stylesheet' type='text/css'>\n",
       "<link href='http://fonts.googleapis.com/css?family=PT+Mono' rel='stylesheet' type='text/css'>\n",
       "<link href='http://fonts.googleapis.com/css?family=Shadows+Into+Light' rel='stylesheet' type='text/css'>\n",
       "<link href='http://fonts.googleapis.com/css?family=Philosopher:400,700,400italic,700italic' rel='stylesheet' type='text/css'>\n",
       "\n",
       "<style>\n",
       "\n",
       "@font-face {\n",
       "    font-family: \"Computer Modern\";\n",
       "    src: url('http://mirrors.ctan.org/fonts/cm-unicode/fonts/otf/cmunss.otf');\n",
       "}\n",
       "\n",
       ".container { width: 100% }\n",
       "\n",
       "/* Formatting for header cells */\n",
       ".text_cell_render h1 {\n",
       "    font-family: 'Philosopher', sans-serif;\n",
       "    font-weight: 400;\n",
       "    font-size: 2.2em;\n",
       "    line-height: 100%;\n",
       "    color: rgb(0, 80, 120);\n",
       "    margin-bottom: 0.1em;\n",
       "    margin-top: 0.1em;\n",
       "    display: block;\n",
       "}\t\n",
       ".text_cell_render h2 {\n",
       "    font-family: 'Philosopher', serif;\n",
       "    font-weight: 400;\n",
       "    font-size: 1.9em;\n",
       "    line-height: 100%;\n",
       "    color: rgb(200,100,0);\n",
       "    margin-bottom: 0.1em;\n",
       "    margin-top: 0.1em;\n",
       "    display: block;\n",
       "}\t\n",
       "\n",
       ".text_cell_render h3 {\n",
       "    font-family: 'Philosopher', serif;\n",
       "    margin-top:12px;\n",
       "    margin-bottom: 3px;\n",
       "    font-style: italic;\n",
       "    color: rgb(94,127,192);\n",
       "}\n",
       "\n",
       ".text_cell_render h4 {\n",
       "    font-family: 'Philosopher', serif;\n",
       "}\n",
       "\n",
       ".text_cell_render h5 {\n",
       "    font-family: 'Alegreya Sans', sans-serif;\n",
       "    font-weight: 300;\n",
       "    font-size: 16pt;\n",
       "    color: grey;\n",
       "    font-style: italic;\n",
       "    margin-bottom: .1em;\n",
       "    margin-top: 0.1em;\n",
       "    display: block;\n",
       "}\n",
       "\n",
       ".text_cell_render h6 {\n",
       "    font-family: 'PT Mono', sans-serif;\n",
       "    font-weight: 300;\n",
       "    font-size: 10pt;\n",
       "    color: grey;\n",
       "    margin-bottom: 1px;\n",
       "    margin-top: 1px;\n",
       "}\n",
       "\n",
       ".text_cell_render em {\n",
       "    font-family: 'Philosopher', sans-serif;\n",
       "    color:        blue;\n",
       "    background-color: rgb(255,220,180);\n",
       "    font-size:    110%;\n",
       "    margin-left:   2px;\n",
       "    margin-right:  2px;\n",
       "    font-weight:   100;\n",
       "}\n",
       "\n",
       ".text_cell_render b {\n",
       "    color:            rgb(255,195,195);\n",
       "    background-color: rgb(0,0,0);\n",
       "    font-size:    110%;\n",
       "    margin-left:   2px;\n",
       "    margin-right:  2px;\n",
       "    font-weight:   650;\n",
       "}\n",
       "\n",
       ".text_cell_render tt {\n",
       "    font-size:    120%;\n",
       "    margin-left:   2px;\n",
       "    margin-right:  2px;\n",
       "    font-weight:   150;\n",
       "}\n",
       "\n",
       ".Codemirror {\n",
       "    font-family: \"PT Mono\";\n",
       "    font-size: 100%;\n",
       "}\n",
       "\n",
       "</style>\n",
       "\n"
      ],
      "text/plain": [
       "<IPython.core.display.HTML object>"
      ]
     },
     "execution_count": 1,
     "metadata": {},
     "output_type": "execute_result"
    }
   ],
   "source": [
    "from IPython.core.display import HTML\n",
    "with open('../../style.css') as file:\n",
    "    css = file.read()\n",
    "HTML(css)"
   ]
  },
  {
   "cell_type": "markdown",
   "metadata": {},
   "source": [
    "# Testing an <span style=\"font-variant:small-caps;\">Antlr</span> Grammar via `grun`"
   ]
  },
  {
   "cell_type": "markdown",
   "metadata": {},
   "source": [
    "In order for the examples using <span style=\"font-variant:small-caps;\">Antlr</span> to work, \n",
    "we first have to install <span style=\"font-variant:small-caps;\">Antlr</span>.  This can be done by executing \n",
    "the following commands in an *Anaconda environment*:\n",
    "```\n",
    "conda install -y -c conda-forge antlr4-python3-runtime\n",
    "conda install -y -c conda-forge antlr\n",
    "```\n",
    "Alternatively, you can download https://www.antlr.org/download/antlr-4.9-complete.jar.  I will assume that this `.jar`file is \n",
    "stored in the directory `/usr/local/lib/`.  Furthermore, I assume that both a *java runtime*\n",
    "and a *java compiler* are available.  Then you also need to install the *python language bindings* \n",
    "using the following command:\n",
    "```\n",
    "   pip install antlr4-python3-runtime\n",
    "```"
   ]
  },
  {
   "cell_type": "markdown",
   "metadata": {},
   "source": [
    "Our grammar is stored in the file `Expr.g4`.  In order to inspect it, we use the command line tool `cat`.  This will work with MacOs and Linux.  On Windows,\n",
    "either use the power shell, which understands `cat`,  or use the command `type` instead.  The option  `-n` of `cat` provides numbered output."
   ]
  },
  {
   "cell_type": "code",
   "execution_count": 2,
   "metadata": {},
   "outputs": [
    {
     "name": "stdout",
     "output_type": "stream",
     "text": [
      "     1\tgrammar Expr;\r\n",
      "     2\t\r\n",
      "     3\texpr    : expr '+' product \r\n",
      "     4\t        | expr '-' product\r\n",
      "     5\t        | product        \r\n",
      "     6\t        ;\r\n",
      "     7\t\r\n",
      "     8\tproduct : product '*' factor \r\n",
      "     9\t        | product '/' factor \r\n",
      "    10\t        | factor\r\n",
      "    11\t        ;\r\n",
      "    12\t\r\n",
      "    13\tfactor  : '(' expr ')'\r\n",
      "    14\t        | NUMBER\r\n",
      "    15\t        ;\r\n",
      "    16\t\r\n",
      "    17\tNUMBER  : '0'|[1-9][0-9]*;\r\n",
      "    18\tWS      : [ \\t\\n\\r] -> skip;\r\n"
     ]
    }
   ],
   "source": [
    "!cat -n Expr.g4"
   ]
  },
  {
   "cell_type": "code",
   "execution_count": null,
   "metadata": {},
   "outputs": [],
   "source": [
    "!type Expr.g4  "
   ]
  },
  {
   "cell_type": "markdown",
   "metadata": {},
   "source": [
    "Note that this grammar does not contain any *embedded actions*.  \n",
    "Hence we cannot compute anything with it.  We will only be able to \n",
    "check whether a given string is generated by this grammar.  Provided you have stored the file \n",
    "`antlr-4.9-complete.jar` in the directory\n",
    "`/usr/local/lib/` we can generate both the scanner and the parser using the following command:"
   ]
  },
  {
   "cell_type": "code",
   "execution_count": 3,
   "metadata": {},
   "outputs": [],
   "source": [
    "!antlr4 -Dlanguage=Python3 Expr.g4"
   ]
  },
  {
   "cell_type": "code",
   "execution_count": 4,
   "metadata": {},
   "outputs": [
    {
     "name": "stdout",
     "output_type": "stream",
     "text": [
      "total 176\r\n",
      "-rw-r--r--@ 1 karlstroetmann  staff    302 Oct 31  2020 Expr.g4\r\n",
      "-rw-r--r--@ 1 karlstroetmann  staff   1433 Nov  9 15:56 Expr.interp\r\n",
      "-rw-r--r--@ 1 karlstroetmann  staff     92 Nov  9 15:56 Expr.tokens\r\n",
      "-rw-r--r--@ 1 karlstroetmann  staff   1924 Nov  9 15:55 ExprBaseListener.java\r\n",
      "-rw-r--r--@ 1 karlstroetmann  staff   1634 Nov  9 15:56 ExprLexer.interp\r\n",
      "-rw-r--r--@ 1 karlstroetmann  staff   4020 Nov  9 15:55 ExprLexer.java\r\n",
      "-rw-r--r--@ 1 karlstroetmann  staff   2480 Nov  9 15:56 ExprLexer.py\r\n",
      "-rw-r--r--@ 1 karlstroetmann  staff     92 Nov  9 15:56 ExprLexer.tokens\r\n",
      "-rw-r--r--@ 1 karlstroetmann  staff   1153 Nov  9 15:55 ExprListener.java\r\n",
      "-rw-r--r--@ 1 karlstroetmann  staff   1080 Nov  9 15:56 ExprListener.py\r\n",
      "-rw-r--r--@ 1 karlstroetmann  staff  11344 Nov  9 15:55 ExprParser.java\r\n",
      "-rw-r--r--@ 1 karlstroetmann  staff  12613 Nov  9 15:56 ExprParser.py\r\n",
      "-rw-r--r--@ 1 karlstroetmann  staff  16409 Nov  9 15:55 PureParser.ipynb\r\n",
      "drwxr-xr-x@ 4 karlstroetmann  staff    128 Nov  9 15:51 \u001b[34m__pycache__\u001b[m\u001b[m\r\n"
     ]
    }
   ],
   "source": [
    "!ls -l"
   ]
  },
  {
   "cell_type": "code",
   "execution_count": null,
   "metadata": {},
   "outputs": [],
   "source": [
    "!dir /B  "
   ]
  },
  {
   "cell_type": "markdown",
   "metadata": {},
   "source": [
    "The files `ExprLexer.py` and `ExprParser.py` contain the generated scanner and parser, respectively.\n",
    "If we want to test the parser in this notebook, we have to import these files."
   ]
  },
  {
   "cell_type": "code",
   "execution_count": 5,
   "metadata": {},
   "outputs": [],
   "source": [
    "from ExprLexer  import ExprLexer\n",
    "from ExprParser import ExprParser"
   ]
  },
  {
   "cell_type": "code",
   "execution_count": 6,
   "metadata": {},
   "outputs": [],
   "source": [
    "import antlr4"
   ]
  },
  {
   "cell_type": "markdown",
   "metadata": {},
   "source": [
    "Now we can parse a string.  The function `parser_string` takes the string `s` as its argument and checks,\n",
    "whether this string can be parsed as an arithmetic expression.  This is done in five steps:\n",
    "- The string is converted into an `antlr4.InputStream`.\n",
    "- The input stream is converted into a lexer.\n",
    "- The lexer is converted into an `antlr4.CommonTokenStream`.\n",
    "- The token stream is converted into a parser.\n",
    "- The parser tries to parse with `start` symbol."
   ]
  },
  {
   "cell_type": "code",
   "execution_count": 7,
   "metadata": {},
   "outputs": [],
   "source": [
    "def parse_string(string): \n",
    "    inputStream = antlr4.InputStream(string)\n",
    "    lexer       = ExprLexer(inputStream)\n",
    "    tokenStream = antlr4.CommonTokenStream(lexer)\n",
    "    parser      = ExprParser(tokenStream)\n",
    "    parser.expr()"
   ]
  },
  {
   "cell_type": "code",
   "execution_count": 8,
   "metadata": {},
   "outputs": [],
   "source": [
    "parse_string('1 + 2 * 3 - 4')"
   ]
  },
  {
   "cell_type": "markdown",
   "metadata": {},
   "source": [
    "As there is no syntax error, the string `'1 + 2 * 3 - 4'` adheres to the specification given by our grammar.\n",
    "Lets try a string that is not generated by our grammar."
   ]
  },
  {
   "cell_type": "code",
   "execution_count": null,
   "metadata": {},
   "outputs": [],
   "source": [
    "parse_string('1 + 2 * 3 ** 4')"
   ]
  },
  {
   "cell_type": "markdown",
   "metadata": {},
   "source": [
    "As the operator `**` is not supported by our grammar, we get a *syntax error* at the \n",
    "last occurrence of the character `*` in the given string."
   ]
  },
  {
   "cell_type": "code",
   "execution_count": null,
   "metadata": {},
   "outputs": [],
   "source": [
    "parse_string('1 < 2')"
   ]
  },
  {
   "cell_type": "markdown",
   "metadata": {},
   "source": [
    "This time we get a *lexical error* as the character `<` is not a legal token."
   ]
  },
  {
   "cell_type": "markdown",
   "metadata": {},
   "source": [
    "We can also generate a *parse tree* with our grammar.  However, for this to work <span style=\"font-variant:small-caps;\">Antlr</span>\n",
    "first has to generate a `java` parser.  Hence we have to call `antlr4` again, but this time with `Java` as the target language."
   ]
  },
  {
   "cell_type": "code",
   "execution_count": 9,
   "metadata": {},
   "outputs": [],
   "source": [
    "!java -jar /usr/local/lib/antlr-4.9.2-complete.jar -Dlanguage=Java Expr.g4"
   ]
  },
  {
   "cell_type": "code",
   "execution_count": null,
   "metadata": {},
   "outputs": [],
   "source": [
    "!java -jar C:/Users/Karl/anaconda3/envs/fl/Library/lib/antlr4-4.9.2_1-complete.jar -Dlanguage=Java Expr.g4"
   ]
  },
  {
   "cell_type": "markdown",
   "metadata": {},
   "source": [
    "This command has generated some files for us that contain a both a lexer and a parser.  \n",
    "However, this time these are `.java`-files."
   ]
  },
  {
   "cell_type": "code",
   "execution_count": null,
   "metadata": {},
   "outputs": [],
   "source": [
    "!ls -l *.java"
   ]
  },
  {
   "cell_type": "code",
   "execution_count": null,
   "metadata": {},
   "outputs": [],
   "source": [
    "!dir /B *.java"
   ]
  },
  {
   "cell_type": "markdown",
   "metadata": {},
   "source": [
    "We have to compile the generated `.java` files.  Below, you might have to change the path to \n",
    "the file `antlr-4.8-complete.jar` to make this work."
   ]
  },
  {
   "cell_type": "code",
   "execution_count": 11,
   "metadata": {},
   "outputs": [],
   "source": [
    "!javac -cp .:/usr/local/lib/antlr-4.9.2-complete.jar *.java"
   ]
  },
  {
   "cell_type": "code",
   "execution_count": null,
   "metadata": {},
   "outputs": [],
   "source": [
    "!javac -cp .;C:/Users/Karl/anaconda3/envs/fl/Library/lib/antlr4-4.9.2_1-complete.jar *.java"
   ]
  },
  {
   "cell_type": "markdown",
   "metadata": {},
   "source": [
    "Next, we can start the so called *TestRig* to generate and display the <em style=\"color:blue\">parse tree</em> for a given string."
   ]
  },
  {
   "cell_type": "code",
   "execution_count": 14,
   "metadata": {},
   "outputs": [
    {
     "name": "stdout",
     "output_type": "stream",
     "text": [
      "Warning: the fonts \"Times\" and \"Times\" are not available for the Java logical font \"Serif\", which may have unexpected appearance or behavior. Re-enable the \"Times\" font to remove this warning.\r\n"
     ]
    }
   ],
   "source": [
    "!echo \"1+2*3-4*5*(2-3)\" | java -cp .:/usr/local/lib/antlr-4.9.2-complete.jar org.antlr.v4.gui.TestRig Expr expr -gui"
   ]
  },
  {
   "cell_type": "code",
   "execution_count": null,
   "metadata": {},
   "outputs": [],
   "source": [
    "!echo 1+2*3-4 | java -cp .;C:/Users/Karl/anaconda3/envs/fl/Library/lib/antlr4-4.9.2_1-complete.jar org.antlr.v4.gui.TestRig Expr expr -gui"
   ]
  },
  {
   "cell_type": "markdown",
   "metadata": {},
   "source": [
    "Let us clean up the working directory."
   ]
  },
  {
   "cell_type": "code",
   "execution_count": null,
   "metadata": {},
   "outputs": [],
   "source": [
    "!ls"
   ]
  },
  {
   "cell_type": "code",
   "execution_count": null,
   "metadata": {},
   "outputs": [],
   "source": [
    "!dir /B "
   ]
  },
  {
   "cell_type": "code",
   "execution_count": null,
   "metadata": {},
   "outputs": [],
   "source": [
    "!rm *.py *.tokens *.interp *.java *.class\n",
    "!rm -r __pycache__/"
   ]
  },
  {
   "cell_type": "code",
   "execution_count": null,
   "metadata": {},
   "outputs": [],
   "source": [
    "!del *.py *.tokens *.interp *.java *.class /Q\n",
    "!rmdir __pycache__ /S /Q"
   ]
  },
  {
   "cell_type": "code",
   "execution_count": null,
   "metadata": {},
   "outputs": [],
   "source": [
    "!ls -l"
   ]
  },
  {
   "cell_type": "code",
   "execution_count": null,
   "metadata": {},
   "outputs": [],
   "source": [
    "!dir /B  "
   ]
  },
  {
   "cell_type": "code",
   "execution_count": null,
   "metadata": {},
   "outputs": [],
   "source": []
  }
 ],
 "metadata": {
  "kernelspec": {
   "display_name": "Python 3 (ipykernel)",
   "language": "python",
   "name": "python3"
  },
  "language_info": {
   "codemirror_mode": {
    "name": "ipython",
    "version": 3
   },
   "file_extension": ".py",
   "mimetype": "text/x-python",
   "name": "python",
   "nbconvert_exporter": "python",
   "pygments_lexer": "ipython3",
   "version": "3.9.7"
  },
  "varInspector": {
   "cols": {
    "lenName": 16,
    "lenType": 16,
    "lenVar": 40
   },
   "kernels_config": {
    "python": {
     "delete_cmd_postfix": "",
     "delete_cmd_prefix": "del ",
     "library": "var_list.py",
     "varRefreshCmd": "print(var_dic_list())"
    },
    "r": {
     "delete_cmd_postfix": ") ",
     "delete_cmd_prefix": "rm(",
     "library": "var_list.r",
     "varRefreshCmd": "cat(var_dic_list()) "
    }
   },
   "types_to_exclude": [
    "module",
    "function",
    "builtin_function_or_method",
    "instance",
    "_Feature"
   ],
   "window_display": false
  }
 },
 "nbformat": 4,
 "nbformat_minor": 4
}
