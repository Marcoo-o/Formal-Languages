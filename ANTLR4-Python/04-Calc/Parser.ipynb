{
 "cells": [
  {
   "cell_type": "code",
   "execution_count": 1,
   "metadata": {},
   "outputs": [
    {
     "data": {
      "text/html": [
       "<style>\n",
       ".container { width: 100% }\n",
       "</style>\n"
      ],
      "text/plain": [
       "<IPython.core.display.HTML object>"
      ]
     },
     "metadata": {},
     "output_type": "display_data"
    }
   ],
   "source": [
    "%%HTML\n",
    "<style>\n",
    ".container { width: 100% }\n",
    "</style>"
   ]
  },
  {
   "cell_type": "markdown",
   "metadata": {},
   "source": [
    "# Parsing with a Visitor"
   ]
  },
  {
   "cell_type": "markdown",
   "metadata": {},
   "source": [
    "This notebooks shows how we can parse and evaluate assignments using the visitor pattern."
   ]
  },
  {
   "cell_type": "code",
   "execution_count": 2,
   "metadata": {},
   "outputs": [],
   "source": [
    "import sys\n",
    "import antlr4 "
   ]
  },
  {
   "cell_type": "markdown",
   "metadata": {},
   "source": [
    "Our grammar is stored in the file `Expr.g4`.  Let's have a look:"
   ]
  },
  {
   "cell_type": "code",
   "execution_count": 3,
   "metadata": {},
   "outputs": [
    {
     "name": "stdout",
     "output_type": "stream",
     "text": [
      "grammar Expr; \r\n",
      "\r\n",
      "prog: stat+ ;\r\n",
      "\r\n",
      "stat: 'print' '(' expr ')' ';' # Print\r\n",
      "    | ID '=' expr ';'          # Assign\r\n",
      "    ;\r\n",
      "\r\n",
      "expr: expr '+' prod            # Add\r\n",
      "    | expr '-' prod            # Sub\r\n",
      "    | prod                     # ExprProd\r\n",
      "    ;\r\n",
      "\r\n",
      "prod: prod '*' fact            # Mul\r\n",
      "    | prod '/' fact            # Div\r\n",
      "    | fact                     # ProdFact\r\n",
      "    ;\r\n",
      "\r\n",
      "fact: INT                      # int\r\n",
      "    | ID                       # id\r\n",
      "    | '(' expr ')'             # parens\r\n",
      "    ;\r\n",
      "\r\n",
      "ID  : [a-zA-Z][a-zA-Z0-9]* ; // match identifiers\r\n",
      "INT : [0-9]|[1-9][0-9]* ;    // match integers\r\n",
      "WS  : [ \\t\\n\\r]+ -> skip ;   // toss out whitespace\r\n"
     ]
    }
   ],
   "source": [
    "!cat Expr.g4"
   ]
  },
  {
   "cell_type": "markdown",
   "metadata": {},
   "source": [
    "Note that this grammar does not contain any embedded actions.  However, we have <em style=\"color:blue\">marked</em>\n",
    "the grammar rules in order to be able to refer to them later.  For example, the grammar rule\n",
    "```\n",
    "stat: expr ';' # Print\n",
    "```\n",
    "has been marked as `Print`.  Marking is done using the character `#` followed by the name of the mark.\n",
    "In addition to the scanner and the parser we generate a visitor using the option `-visitor` below."
   ]
  },
  {
   "cell_type": "code",
   "execution_count": 4,
   "metadata": {},
   "outputs": [],
   "source": [
    "!java -jar /usr/local/lib/antlr-4.8-complete.jar -Dlanguage=Python3 -visitor Expr.g4"
   ]
  },
  {
   "cell_type": "markdown",
   "metadata": {},
   "source": [
    "The files `ExprLexer.py` and `ExprParser.py` contain the generated scanner and parser, respectively. \n",
    "Additionally we also have the file `ExprVisitor` which contains a generic visitor for our grammar. \n",
    "We have to import these files."
   ]
  },
  {
   "cell_type": "code",
   "execution_count": 5,
   "metadata": {},
   "outputs": [],
   "source": [
    "from ExprLexer   import ExprLexer\n",
    "from ExprParser  import ExprParser\n",
    "from ExprVisitor import ExprVisitor"
   ]
  },
  {
   "cell_type": "markdown",
   "metadata": {},
   "source": [
    "The visitor `ExprVisitor` implements a lot of methods which traverse the parse tree without performing any actions.\n",
    "In order to evaluate expressions, we have to override some of the methods of this visitor.  To this end we define the class\n",
    "`MyVisitor`.  This class maintains the dictionary `Values` that maps variable names to values."
   ]
  },
  {
   "cell_type": "code",
   "execution_count": 6,
   "metadata": {},
   "outputs": [],
   "source": [
    "class MyVisitor(ExprVisitor):\n",
    "    def __init__(self):\n",
    "        self.Values = {}"
   ]
  },
  {
   "cell_type": "code",
   "execution_count": 7,
   "metadata": {},
   "outputs": [],
   "source": [
    "def visitAssign(self, ctx):\n",
    "    name  = ctx.ID().getText()\n",
    "    value = self.visit(ctx.expr())\n",
    "    self.Values[name] = value\n",
    "    return value\n",
    "\n",
    "MyVisitor.visitAssign = visitAssign\n",
    "del visitAssign"
   ]
  },
  {
   "cell_type": "code",
   "execution_count": 8,
   "metadata": {},
   "outputs": [],
   "source": [
    "def visitPrint(self, ctx):\n",
    "    value = self.visit(ctx.expr())\n",
    "    print(value)\n",
    "    return 0\n",
    "    \n",
    "MyVisitor.visitPrint = visitPrint\n",
    "del visitPrint"
   ]
  },
  {
   "cell_type": "code",
   "execution_count": 9,
   "metadata": {},
   "outputs": [],
   "source": [
    "def visitAdd(self, ctx):\n",
    "    lhs = self.visit(ctx.expr())\n",
    "    rhs = self.visit(ctx.prod())\n",
    "    return lhs + rhs\n",
    "\n",
    "MyVisitor.visitAdd = visitAdd\n",
    "del visitAdd"
   ]
  },
  {
   "cell_type": "code",
   "execution_count": 10,
   "metadata": {},
   "outputs": [],
   "source": [
    "def visitSub(self, ctx):\n",
    "    lhs = self.visit(ctx.expr())\n",
    "    rhs = self.visit(ctx.prod())\n",
    "    return lhs - rhs\n",
    "\n",
    "MyVisitor.visitSub = visitSub\n",
    "del visitSub"
   ]
  },
  {
   "cell_type": "code",
   "execution_count": 11,
   "metadata": {},
   "outputs": [],
   "source": [
    "def visitMul(self, ctx):\n",
    "    lhs = self.visit(ctx.prod())\n",
    "    rhs = self.visit(ctx.fact())\n",
    "    return lhs * rhs\n",
    "\n",
    "MyVisitor.visitMul = visitMul\n",
    "del visitMul"
   ]
  },
  {
   "cell_type": "code",
   "execution_count": 12,
   "metadata": {},
   "outputs": [],
   "source": [
    "def visitDiv(self, ctx):\n",
    "    lhs = self.visit(ctx.prod())\n",
    "    rhs = self.visit(ctx.fact())\n",
    "    return lhs // rhs\n",
    "\n",
    "MyVisitor.visitDiv = visitDiv\n",
    "del visitDiv"
   ]
  },
  {
   "cell_type": "code",
   "execution_count": 13,
   "metadata": {},
   "outputs": [],
   "source": [
    "def visitParens(self, ctx):\n",
    "    return self.visit(ctx.expr())\n",
    "\n",
    "MyVisitor.visitParens = visitParens\n",
    "del visitParens"
   ]
  },
  {
   "cell_type": "code",
   "execution_count": 14,
   "metadata": {},
   "outputs": [],
   "source": [
    "def visitInt(self, ctx):\n",
    "        return int(ctx.INT().getText())\n",
    "    \n",
    "MyVisitor.visitInt = visitInt\n",
    "del visitInt"
   ]
  },
  {
   "cell_type": "code",
   "execution_count": 15,
   "metadata": {},
   "outputs": [],
   "source": [
    "def visitId(self, ctx):\n",
    "    name = ctx.ID().getText()\n",
    "    return self.Values.get(name, 0)\n",
    "\n",
    "MyVisitor.visitId = visitId\n",
    "del visitId"
   ]
  },
  {
   "cell_type": "code",
   "execution_count": 16,
   "metadata": {},
   "outputs": [],
   "source": [
    "data = \\\n",
    "'''\n",
    "a = 3;\n",
    "b = 4;\n",
    "x = a * a + b * b;\n",
    "c = 5;\n",
    "print(c * c);\n",
    "print(x);\n",
    "'''"
   ]
  },
  {
   "cell_type": "markdown",
   "metadata": {},
   "source": [
    "Now we can parse a file of simple statements.  The function `parser_file` takes the string `data` as its argument and\n",
    "executes the statements in this string by calling the method `visit` of the visitor we have defined."
   ]
  },
  {
   "cell_type": "code",
   "execution_count": 17,
   "metadata": {},
   "outputs": [],
   "source": [
    "def parse_data(data):\n",
    "    input_stream = antlr4.InputStream(data)\n",
    "    lexer        = ExprLexer(input_stream)\n",
    "    token_stream = antlr4.CommonTokenStream(lexer)\n",
    "    parser       = ExprParser(token_stream)\n",
    "    tree         = parser.prog()\n",
    "    visitor      = MyVisitor()\n",
    "    visitor.visit(tree)"
   ]
  },
  {
   "cell_type": "code",
   "execution_count": 18,
   "metadata": {},
   "outputs": [
    {
     "name": "stdout",
     "output_type": "stream",
     "text": [
      "25\n",
      "25\n"
     ]
    }
   ],
   "source": [
    "parse_data(data)"
   ]
  },
  {
   "cell_type": "code",
   "execution_count": null,
   "metadata": {},
   "outputs": [],
   "source": []
  }
 ],
 "metadata": {
  "kernelspec": {
   "display_name": "Python 3",
   "language": "python",
   "name": "python3"
  },
  "language_info": {
   "codemirror_mode": {
    "name": "ipython",
    "version": 3
   },
   "file_extension": ".py",
   "mimetype": "text/x-python",
   "name": "python",
   "nbconvert_exporter": "python",
   "pygments_lexer": "ipython3",
   "version": "3.8.3"
  },
  "varInspector": {
   "cols": {
    "lenName": 16,
    "lenType": 16,
    "lenVar": 40
   },
   "kernels_config": {
    "python": {
     "delete_cmd_postfix": "",
     "delete_cmd_prefix": "del ",
     "library": "var_list.py",
     "varRefreshCmd": "print(var_dic_list())"
    },
    "r": {
     "delete_cmd_postfix": ") ",
     "delete_cmd_prefix": "rm(",
     "library": "var_list.r",
     "varRefreshCmd": "cat(var_dic_list()) "
    }
   },
   "types_to_exclude": [
    "module",
    "function",
    "builtin_function_or_method",
    "instance",
    "_Feature"
   ],
   "window_display": false
  }
 },
 "nbformat": 4,
 "nbformat_minor": 4
}
