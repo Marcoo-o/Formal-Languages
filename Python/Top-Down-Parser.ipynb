{
 "cells": [
  {
   "cell_type": "code",
   "execution_count": null,
   "metadata": {},
   "outputs": [],
   "source": [
    "from IPython.core.display import HTML\n",
    "with open (\"../style.css\", \"r\") as file:\n",
    "    css = file.read()\n",
    "HTML(css)"
   ]
  },
  {
   "cell_type": "markdown",
   "metadata": {},
   "source": [
    "# A Recursive Parser for Arithmetic Expressions\n",
    "\n",
    "In this notebook we implement a simple *recursive descend* parser for arithmetic expressions.\n",
    "This parser will implement the following grammar:\n",
    "$$\n",
    "  \\begin{eqnarray*}\n",
    "  \\mathrm{expr}        & \\rightarrow & \\mathrm{product}\\;\\;\\mathrm{exprRest}            \\\\[0.2cm]\n",
    "  \\mathrm{exprRest}    & \\rightarrow & \\texttt{'+'} \\;\\;\\mathrm{product}\\;\\;\\mathrm{exprRest}   \\\\\n",
    "                       & \\mid        & \\texttt{'-'} \\;\\;\\mathrm{product}\\;\\;\\mathrm{exprRest}   \\\\\n",
    "                       & \\mid        & \\varepsilon                                      \\\\[0.2cm]\n",
    "  \\mathrm{product}     & \\rightarrow & \\mathrm{factor}\\;\\;\\mathrm{productRest}          \\\\[0.2cm]\n",
    "  \\mathrm{productRest} & \\rightarrow & \\texttt{'*'} \\;\\;\\mathrm{factor}\\;\\;\\mathrm{productRest} \\\\\n",
    "                       & \\mid        & \\texttt{'/'} \\;\\;\\mathrm{factor}\\;\\;\\mathrm{productRest} \\\\\n",
    "                       & \\mid        & \\varepsilon                                      \\\\[0.2cm]\n",
    "  \\mathrm{factor}      & \\rightarrow & \\texttt{'('} \\;\\;\\mathrm{expr} \\;\\;\\texttt{')'}                \\\\\n",
    "                       & \\mid        & \\texttt{NUMBER} \n",
    "  \\end{eqnarray*}\n",
    "$$"
   ]
  },
  {
   "cell_type": "markdown",
   "metadata": {},
   "source": [
    "## Implementing a Scanner\n",
    "\n",
    "We implement a scanner with the help of the module `re`."
   ]
  },
  {
   "cell_type": "code",
   "execution_count": null,
   "metadata": {},
   "outputs": [],
   "source": [
    "import re"
   ]
  },
  {
   "cell_type": "markdown",
   "metadata": {},
   "source": [
    "The function `tokenize` receives a string `s` as argument and returns a list of tokens.\n",
    "The string `s` is supposed to represent an arithmetical expression. \n",
    "\n",
    "**Note:** \n",
    "1. We need to set the flag `re.VERBOSE` in our call of the function `findall`\n",
    "   below because otherwise we are not able to format the regular expression `lexSpec` the way \n",
    "   we have done it.\n",
    "2. The regular expression `lexSpec` contains 5 parenthesized groups.  Therefore,\n",
    "   `findall` returns a list of 5-tuples where the 5 components correspond to the 5\n",
    "   groups of the regular expression."
   ]
  },
  {
   "cell_type": "code",
   "execution_count": null,
   "metadata": {},
   "outputs": [],
   "source": [
    "def tokenize(s):\n",
    "    '''Transform the string s into a list of tokens.  The string s\n",
    "       is supposed to represent an arithmetic expression.\n",
    "    '''\n",
    "    lexSpec = r'''([ \\t]+)        |  # blanks and tabs\n",
    "                  ([1-9][0-9]*|0) |  # number\n",
    "                  ([()])          |  # parentheses \n",
    "                  ([-+*/])        |  # arithmetical operators\n",
    "                  (.)                # unrecognized character\n",
    "               '''\n",
    "    tokenList = re.findall(lexSpec, s, re.VERBOSE)\n",
    "    result    = []\n",
    "    # print(tokenList)\n",
    "    for ws, number, parenthesis, operator, error in tokenList:\n",
    "        if ws:        # skip blanks and tabs\n",
    "            pass\n",
    "        if number:\n",
    "            result += [ number ]\n",
    "        if parenthesis:\n",
    "            result += [ parenthesis ]\n",
    "        if operator:\n",
    "            result += [ operator ]\n",
    "        if error:\n",
    "            result += [ f'ERROR({error})']\n",
    "    return result"
   ]
  },
  {
   "cell_type": "code",
   "execution_count": null,
   "metadata": {},
   "outputs": [],
   "source": [
    "tokenize('1 + (2 + @ 34 - 2**0)/7')"
   ]
  },
  {
   "cell_type": "markdown",
   "metadata": {},
   "source": [
    "## Implementing the Recursive Descent Parser"
   ]
  },
  {
   "cell_type": "markdown",
   "metadata": {},
   "source": [
    "The function `parse` takes a string `s` as input and parses this string according to the recursive grammar\n",
    "shown above."
   ]
  },
  {
   "cell_type": "code",
   "execution_count": null,
   "metadata": {},
   "outputs": [],
   "source": [
    "def parse(s):\n",
    "     TL           = tokenize(s)\n",
    "     result, Rest = parseExpr(TL)\n",
    "     assert Rest == [], f'Parse Error: could not parse {TL}'\n",
    "     return result"
   ]
  },
  {
   "cell_type": "markdown",
   "metadata": {},
   "source": [
    "The function `parseExpr` implements the following grammar rule:\n",
    "$$ \\mathrm{expr} \\rightarrow \\;\\mathrm{product}\\;\\;\\mathrm{exprRest} $$\n",
    "It takes a token list `TL` as its input and returns a pair of the form `(value, Rest)` where\n",
    "- `value` is the result of evaluating the arithmetical expression\n",
    "  that is represented by `TL` and\n",
    "- `Rest` is a list of those tokens that have not been consumed during the parse process. "
   ]
  },
  {
   "cell_type": "code",
   "execution_count": null,
   "metadata": {},
   "outputs": [],
   "source": [
    "def parseExpr(TL):\n",
    "    product, Rest = parseProduct(TL)\n",
    "    return parseExprRest(product, Rest)"
   ]
  },
  {
   "cell_type": "markdown",
   "metadata": {},
   "source": [
    "The function `parseExprRest` implements the following grammar rules:\n",
    "$$\n",
    "  \\begin{eqnarray*}\n",
    "  \\mathrm{exprRest}    & \\rightarrow & \\texttt{'+'} \\;\\;\\mathrm{product}\\;\\;\\mathrm{exprRest}   \\\\\n",
    "                       & \\mid        & \\texttt{'-'} \\;\\;\\mathrm{product}\\;\\;\\mathrm{exprRest}   \\\\\n",
    "                       & \\mid        & \\;\\varepsilon                                      \\\\[0.2cm]\n",
    "  \\end{eqnarray*}\n",
    "$$\n",
    "It takes two arguments:\n",
    "- `sum` is the value that has already been parsed,\n",
    "- `TL` is the list of tokens that still need to be consumed.\n",
    "\n",
    "It returns a pair of the form `(value, Rest)` where\n",
    "- `value` is the result of evaluating the arithmetical expression\n",
    "  that is represented by `TL` and\n",
    "- `Rest` is a list of those tokens that have not been consumed during the parse process. "
   ]
  },
  {
   "cell_type": "code",
   "execution_count": null,
   "metadata": {},
   "outputs": [],
   "source": [
    "def parseExprRest(sum, TL):\n",
    "    if TL == []:\n",
    "        return sum, []\n",
    "    elif TL[0] == '+':\n",
    "        product, Rest = parseProduct(TL[1:])\n",
    "        return parseExprRest(sum + product, Rest)\n",
    "    elif TL[0] == '-':\n",
    "        product, Rest = parseProduct(TL[1:])\n",
    "        return parseExprRest(sum - product, Rest)\n",
    "    else:\n",
    "        return sum, TL"
   ]
  },
  {
   "cell_type": "markdown",
   "metadata": {},
   "source": [
    "The function `parseProduct` implements the following grammar rule:\n",
    "$$ \\mathrm{product} \\rightarrow \\;\\mathrm{factor}\\;\\;\\mathrm{productRest} $$\n",
    "\n",
    "It takes one argument:\n",
    "- `TL` is the list of tokens that need to be consumed.\n",
    "\n",
    "It returns a pair of the form `(value, Rest)` where\n",
    "- `value` is the result of evaluating the arithmetical expression\n",
    "  that is represented by `TL` and\n",
    "- `Rest` is a list of those tokens that have not been consumed while trying to parse a product."
   ]
  },
  {
   "cell_type": "code",
   "execution_count": null,
   "metadata": {},
   "outputs": [],
   "source": [
    "def parseProduct(TL):\n",
    "    factor, Rest = parseFactor(TL)\n",
    "    return parseProductRest(factor, Rest)"
   ]
  },
  {
   "cell_type": "markdown",
   "metadata": {},
   "source": [
    "The function `parseProductRest` implements the following grammar rules:\n",
    "$$\n",
    "  \\begin{eqnarray*}\n",
    "  \\mathrm{productRest} & \\rightarrow & \\texttt{'*'} \\;\\;\\mathrm{factor}\\;\\;\\mathrm{productRest} \\\\\n",
    "                       & \\mid        & \\texttt{'/'} \\;\\;\\mathrm{factor}\\;\\;\\mathrm{productRest} \\\\\n",
    "                       & \\mid        & \\;\\varepsilon    \\\\                                  \n",
    "  \\end{eqnarray*}\n",
    "$$\n",
    "\n",
    "It takes two arguments:\n",
    "- `product` is the value that has already been parsed,\n",
    "- `TL` is the list of tokens that still need to be consumed.\n",
    "\n",
    "It returns a pair of the form `(value, Rest)` where\n",
    "- `value` is the result of evaluating the arithmetical expression\n",
    "  that is represented by `TL` and\n",
    "- `Rest` is a list of those tokens that have not been consumed while trying to parse the rest of a product."
   ]
  },
  {
   "cell_type": "code",
   "execution_count": null,
   "metadata": {},
   "outputs": [],
   "source": [
    "def parseProductRest(product, TL):\n",
    "    if TL == []:\n",
    "        return product, []\n",
    "    elif TL[0] == '*': \n",
    "        factor, Rest = parseFactor(TL[1:])\n",
    "        return parseProductRest(product * factor, Rest)\n",
    "    elif TL[0] == '/':\n",
    "        factor, Rest = parseFactor(TL[1:])\n",
    "        return parseProductRest(product / factor, Rest)\n",
    "    else:\n",
    "        return product, TL"
   ]
  },
  {
   "cell_type": "markdown",
   "metadata": {},
   "source": [
    "The function `parseFactor` implements the following grammar rules:\n",
    "$$\n",
    "  \\begin{eqnarray*}\n",
    "  \\mathrm{factor}      & \\rightarrow & \\texttt{'('} \\;\\;\\mathrm{expr} \\;\\;\\texttt{')'}                \\\\\n",
    "                       & \\mid        & \\;\\texttt{NUMBER} \n",
    "  \\end{eqnarray*}\n",
    "$$\n",
    "\n",
    "It takes one argument:\n",
    "- `TL` is the list of tokens that still need to be consumed.\n",
    "\n",
    "It returns a pair of the form `(value, Rest)` where\n",
    "- `value` is the result of evaluating the arithmetical expression\n",
    "  that is represented by `TL` and\n",
    "- `Rest` is a list of those tokens that have not been consumed while trying to parse a factor."
   ]
  },
  {
   "cell_type": "code",
   "execution_count": null,
   "metadata": {},
   "outputs": [],
   "source": [
    "def parseFactor(TL):\n",
    "    if TL[0] == '(': \n",
    "        expr, Rest = parseExpr(TL[1:])\n",
    "        assert Rest[0] == ')', 'Parse Error: expected \")\"'\n",
    "        return expr, Rest[1:]\n",
    "    else: \n",
    "        return int(TL[0]), TL[1:]"
   ]
  },
  {
   "cell_type": "markdown",
   "metadata": {},
   "source": [
    "## Testing"
   ]
  },
  {
   "cell_type": "code",
   "execution_count": null,
   "metadata": {},
   "outputs": [],
   "source": [
    "def test(s):\n",
    "    r1 = parse(s)\n",
    "    r2 = eval(s)\n",
    "    assert r1 == r2\n",
    "    return r1"
   ]
  },
  {
   "cell_type": "code",
   "execution_count": null,
   "metadata": {},
   "outputs": [],
   "source": [
    "test('11+22*(33-44)/(5-10*5/(4-3))')"
   ]
  },
  {
   "cell_type": "code",
   "execution_count": null,
   "metadata": {},
   "outputs": [],
   "source": [
    "test('0*11+22*(33-44)/(5-10*5/(4-3))')"
   ]
  },
  {
   "cell_type": "code",
   "execution_count": null,
   "metadata": {},
   "outputs": [],
   "source": []
  }
 ],
 "metadata": {
  "@webio": {
   "lastCommId": null,
   "lastKernelId": null
  },
  "kernelspec": {
   "display_name": "Python 3",
   "language": "python",
   "name": "python3"
  },
  "language_info": {
   "codemirror_mode": {
    "name": "ipython",
    "version": 3
   },
   "file_extension": ".py",
   "mimetype": "text/x-python",
   "name": "python",
   "nbconvert_exporter": "python",
   "pygments_lexer": "ipython3",
   "version": "3.8.3"
  },
  "varInspector": {
   "cols": {
    "lenName": 16,
    "lenType": 16,
    "lenVar": 40
   },
   "kernels_config": {
    "python": {
     "delete_cmd_postfix": "",
     "delete_cmd_prefix": "del ",
     "library": "var_list.py",
     "varRefreshCmd": "print(var_dic_list())"
    },
    "r": {
     "delete_cmd_postfix": ") ",
     "delete_cmd_prefix": "rm(",
     "library": "var_list.r",
     "varRefreshCmd": "cat(var_dic_list()) "
    }
   },
   "types_to_exclude": [
    "module",
    "function",
    "builtin_function_or_method",
    "instance",
    "_Feature"
   ],
   "window_display": false
  }
 },
 "nbformat": 4,
 "nbformat_minor": 4
}
