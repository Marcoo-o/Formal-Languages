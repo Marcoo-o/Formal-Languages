{
 "cells": [
  {
   "cell_type": "code",
   "execution_count": 1,
   "metadata": {},
   "outputs": [
    {
     "data": {
      "text/html": [
       "<link href='http://fonts.googleapis.com/css?family=Alegreya+Sans:100,300,400,500,700,800,900,100italic,300italic,400italic,500italic,700italic,800italic,900italic' rel='stylesheet' type='text/css'>\n",
       "<link href='http://fonts.googleapis.com/css?family=Arvo:400,700,400italic' rel='stylesheet' type='text/css'>\n",
       "<link href='http://fonts.googleapis.com/css?family=PT+Mono' rel='stylesheet' type='text/css'>\n",
       "<link href='http://fonts.googleapis.com/css?family=Shadows+Into+Light' rel='stylesheet' type='text/css'>\n",
       "<link href='http://fonts.googleapis.com/css?family=Philosopher:400,700,400italic,700italic' rel='stylesheet' type='text/css'>\n",
       "\n",
       "<style>\n",
       "\n",
       "@font-face {\n",
       "    font-family: \"Computer Modern\";\n",
       "    src: url('http://mirrors.ctan.org/fonts/cm-unicode/fonts/otf/cmunss.otf');\n",
       "}\n",
       "\n",
       ".container { width: 100% }\n",
       "\n",
       "/* Formatting for header cells */\n",
       ".text_cell_render h1 {\n",
       "    font-family: 'Philosopher', sans-serif;\n",
       "    font-weight: 400;\n",
       "    font-size: 2.2em;\n",
       "    line-height: 100%;\n",
       "    color: rgb(0, 80, 120);\n",
       "    margin-bottom: 0.1em;\n",
       "    margin-top: 0.1em;\n",
       "    display: block;\n",
       "}\t\n",
       ".text_cell_render h2 {\n",
       "    font-family: 'Philosopher', serif;\n",
       "    font-weight: 400;\n",
       "    font-size: 1.9em;\n",
       "    line-height: 100%;\n",
       "    color: rgb(200,100,0);\n",
       "    margin-bottom: 0.1em;\n",
       "    margin-top: 0.1em;\n",
       "    display: block;\n",
       "}\t\n",
       "\n",
       ".text_cell_render h3 {\n",
       "    font-family: 'Philosopher', serif;\n",
       "    margin-top:12px;\n",
       "    margin-bottom: 3px;\n",
       "    font-style: italic;\n",
       "    color: rgb(94,127,192);\n",
       "}\n",
       "\n",
       ".text_cell_render h4 {\n",
       "    font-family: 'Philosopher', serif;\n",
       "}\n",
       "\n",
       ".text_cell_render h5 {\n",
       "    font-family: 'Alegreya Sans', sans-serif;\n",
       "    font-weight: 300;\n",
       "    font-size: 16pt;\n",
       "    color: grey;\n",
       "    font-style: italic;\n",
       "    margin-bottom: .1em;\n",
       "    margin-top: 0.1em;\n",
       "    display: block;\n",
       "}\n",
       "\n",
       ".text_cell_render h6 {\n",
       "    font-family: 'PT Mono', sans-serif;\n",
       "    font-weight: 300;\n",
       "    font-size: 10pt;\n",
       "    color: grey;\n",
       "    margin-bottom: 1px;\n",
       "    margin-top: 1px;\n",
       "}\n",
       "\n",
       ".text_cell_render em {\n",
       "    font-family: 'Philosopher', sans-serif;\n",
       "    color:        blue;\n",
       "    background-color: rgb(255,220,180);\n",
       "    font-size:    110%;\n",
       "    margin-left:   2px;\n",
       "    margin-right:  2px;\n",
       "    font-weight:   100;\n",
       "}\n",
       "\n",
       ".text_cell_render b {\n",
       "    color:            rgb(255,195,195);\n",
       "    background-color: rgb(0,0,0);\n",
       "    font-size:    110%;\n",
       "    margin-left:   2px;\n",
       "    margin-right:  2px;\n",
       "    font-weight:   650;\n",
       "}\n",
       "\n",
       ".text_cell_render tt {\n",
       "    font-size:    120%;\n",
       "    margin-left:   2px;\n",
       "    margin-right:  2px;\n",
       "    font-weight:   150;\n",
       "}\n",
       "\n",
       ".CodeMirror{\n",
       "        font-family: \"PT Mono\";\n",
       "        font-size: 100%;\n",
       "}\n",
       "\n",
       "</style>\n",
       "\n"
      ],
      "text/plain": [
       "<IPython.core.display.HTML object>"
      ]
     },
     "execution_count": 1,
     "metadata": {},
     "output_type": "execute_result"
    }
   ],
   "source": [
    "from IPython.core.display import HTML\n",
    "with open (\"../style.css\", \"r\") as file:\n",
    "    css = file.read()\n",
    "HTML(css)"
   ]
  },
  {
   "cell_type": "markdown",
   "metadata": {},
   "source": [
    "# Test DFA-2-RegExp"
   ]
  },
  {
   "cell_type": "code",
   "execution_count": 2,
   "metadata": {},
   "outputs": [
    {
     "name": "stderr",
     "output_type": "stream",
     "text": [
      "Version 1.0.5\n"
     ]
    }
   ],
   "source": [
    "%run DFA-2-RegExp.ipynb"
   ]
  },
  {
   "cell_type": "code",
   "execution_count": 3,
   "metadata": {},
   "outputs": [],
   "source": [
    "%run FSM-2-Dot.ipynb"
   ]
  },
  {
   "cell_type": "code",
   "execution_count": 4,
   "metadata": {},
   "outputs": [],
   "source": [
    "%unload_ext nb_mypy"
   ]
  },
  {
   "cell_type": "code",
   "execution_count": 5,
   "metadata": {},
   "outputs": [],
   "source": [
    "delta = { (0, 'a'): 0,\n",
    "          (0, 'b'): 1,\n",
    "          (1, 'a'): 1\n",
    "        }"
   ]
  },
  {
   "cell_type": "code",
   "execution_count": 6,
   "metadata": {},
   "outputs": [],
   "source": [
    "A = {0, 1}, {'a', 'b'}, delta, 0, {1}"
   ]
  },
  {
   "cell_type": "code",
   "execution_count": 7,
   "metadata": {},
   "outputs": [],
   "source": [
    "delta = { (0, 'a'): 1,\n",
    "          (1, 'b'): 0,\n",
    "          (1, 'a'): 2\n",
    "        }"
   ]
  },
  {
   "cell_type": "code",
   "execution_count": 8,
   "metadata": {},
   "outputs": [],
   "source": [
    "A = {0, 1, 2}, {'a', 'b'}, delta, 0, {2}"
   ]
  },
  {
   "cell_type": "code",
   "execution_count": 9,
   "metadata": {},
   "outputs": [
    {
     "data": {
      "image/svg+xml": [
       "<?xml version=\"1.0\" encoding=\"UTF-8\" standalone=\"no\"?>\n",
       "<!DOCTYPE svg PUBLIC \"-//W3C//DTD SVG 1.1//EN\"\n",
       " \"http://www.w3.org/Graphics/SVG/1.1/DTD/svg11.dtd\">\n",
       "<!-- Generated by graphviz version 2.50.0 (0)\n",
       " -->\n",
       "<!-- Title: Deterministic FSM Pages: 1 -->\n",
       "<svg width=\"308pt\" height=\"52pt\"\n",
       " viewBox=\"0.00 0.00 308.00 52.00\" xmlns=\"http://www.w3.org/2000/svg\" xmlns:xlink=\"http://www.w3.org/1999/xlink\">\n",
       "<g id=\"graph0\" class=\"graph\" transform=\"scale(1 1) rotate(0) translate(4 48)\">\n",
       "<title>Deterministic FSM</title>\n",
       "<polygon fill=\"white\" stroke=\"transparent\" points=\"-4,4 -4,-48 304,-48 304,4 -4,4\"/>\n",
       "<!-- 1 -->\n",
       "<g id=\"node1\" class=\"node\">\n",
       "<title>1</title>\n",
       "<ellipse fill=\"blue\" stroke=\"blue\" cx=\"3.5\" cy=\"-22\" rx=\"3.5\" ry=\"3.5\"/>\n",
       "</g>\n",
       "<!-- S0 -->\n",
       "<g id=\"node2\" class=\"node\">\n",
       "<title>S0</title>\n",
       "<ellipse fill=\"none\" stroke=\"black\" cx=\"71\" cy=\"-22\" rx=\"27\" ry=\"18\"/>\n",
       "<text text-anchor=\"middle\" x=\"71\" y=\"-18.3\" font-family=\"Times,serif\" font-size=\"14.00\">S0</text>\n",
       "</g>\n",
       "<!-- 1&#45;&gt;S0 -->\n",
       "<g id=\"edge1\" class=\"edge\">\n",
       "<title>1&#45;&gt;S0</title>\n",
       "<path fill=\"none\" stroke=\"black\" d=\"M7.31,-22C12.15,-22 22.59,-22 33.58,-22\"/>\n",
       "<polygon fill=\"black\" stroke=\"black\" points=\"33.69,-25.5 43.69,-22 33.69,-18.5 33.69,-25.5\"/>\n",
       "</g>\n",
       "<!-- S1 -->\n",
       "<g id=\"node3\" class=\"node\">\n",
       "<title>S1</title>\n",
       "<ellipse fill=\"none\" stroke=\"black\" cx=\"168\" cy=\"-22\" rx=\"27\" ry=\"18\"/>\n",
       "<text text-anchor=\"middle\" x=\"168\" y=\"-18.3\" font-family=\"Times,serif\" font-size=\"14.00\">S1</text>\n",
       "</g>\n",
       "<!-- S0&#45;&gt;S1 -->\n",
       "<g id=\"edge2\" class=\"edge\">\n",
       "<title>S0&#45;&gt;S1</title>\n",
       "<path fill=\"none\" stroke=\"black\" d=\"M98.21,-22C108.28,-22 119.96,-22 130.81,-22\"/>\n",
       "<polygon fill=\"black\" stroke=\"black\" points=\"130.87,-25.5 140.87,-22 130.87,-18.5 130.87,-25.5\"/>\n",
       "<text text-anchor=\"middle\" x=\"119.5\" y=\"-25.8\" font-family=\"Times,serif\" font-size=\"14.00\">a</text>\n",
       "</g>\n",
       "<!-- S1&#45;&gt;S0 -->\n",
       "<g id=\"edge4\" class=\"edge\">\n",
       "<title>S1&#45;&gt;S0</title>\n",
       "<path fill=\"none\" stroke=\"black\" d=\"M148.04,-9.42C138.61,-4.6 126.92,-0.74 116,-3 111.48,-3.93 106.85,-5.36 102.37,-7.01\"/>\n",
       "<polygon fill=\"black\" stroke=\"black\" points=\"100.83,-3.86 92.91,-10.91 103.49,-10.34 100.83,-3.86\"/>\n",
       "<text text-anchor=\"middle\" x=\"119.5\" y=\"-6.8\" font-family=\"Times,serif\" font-size=\"14.00\">b</text>\n",
       "</g>\n",
       "<!-- S2 -->\n",
       "<g id=\"node4\" class=\"node\">\n",
       "<title>S2</title>\n",
       "<ellipse fill=\"none\" stroke=\"black\" cx=\"269\" cy=\"-22\" rx=\"27\" ry=\"18\"/>\n",
       "<ellipse fill=\"none\" stroke=\"black\" cx=\"269\" cy=\"-22\" rx=\"31\" ry=\"22\"/>\n",
       "<text text-anchor=\"middle\" x=\"269\" y=\"-18.3\" font-family=\"Times,serif\" font-size=\"14.00\">S2</text>\n",
       "</g>\n",
       "<!-- S1&#45;&gt;S2 -->\n",
       "<g id=\"edge3\" class=\"edge\">\n",
       "<title>S1&#45;&gt;S2</title>\n",
       "<path fill=\"none\" stroke=\"black\" d=\"M195.01,-22C205,-22 216.64,-22 227.66,-22\"/>\n",
       "<polygon fill=\"black\" stroke=\"black\" points=\"227.96,-25.5 237.96,-22 227.96,-18.5 227.96,-25.5\"/>\n",
       "<text text-anchor=\"middle\" x=\"216.5\" y=\"-25.8\" font-family=\"Times,serif\" font-size=\"14.00\">a</text>\n",
       "</g>\n",
       "</g>\n",
       "</svg>\n"
      ],
      "text/plain": [
       "<graphviz.graphs.Digraph at 0x109917110>"
      ]
     },
     "execution_count": 9,
     "metadata": {},
     "output_type": "execute_result"
    }
   ],
   "source": [
    "g, _ = dfa2dot(A)\n",
    "g"
   ]
  },
  {
   "cell_type": "code",
   "execution_count": 10,
   "metadata": {},
   "outputs": [
    {
     "data": {
      "text/plain": [
       "('+',\n",
       " ('+',\n",
       "  ('+', 0, ('&', ('&', 0, ('*', '𝜀')), '𝜀')),\n",
       "  ('&',\n",
       "   ('&',\n",
       "    ('+', 'a', ('&', ('&', 0, ('*', '𝜀')), 0)),\n",
       "    ('*', ('+', '𝜀', ('&', ('&', 'a', ('*', '𝜀')), 0)))),\n",
       "   ('+', 'a', ('&', ('&', 'a', ('*', '𝜀')), '𝜀')))),\n",
       " ('&',\n",
       "  ('&',\n",
       "   ('+',\n",
       "    ('+', '𝜀', ('&', ('&', 0, ('*', '𝜀')), 0)),\n",
       "    ('&',\n",
       "     ('&',\n",
       "      ('+', 'a', ('&', ('&', 0, ('*', '𝜀')), 0)),\n",
       "      ('*', ('+', '𝜀', ('&', ('&', 'a', ('*', '𝜀')), 0)))),\n",
       "     ('+', 'b', ('&', ('&', 'a', ('*', '𝜀')), 0)))),\n",
       "   ('*',\n",
       "    ('+',\n",
       "     ('+', '𝜀', ('&', ('&', 0, ('*', '𝜀')), 0)),\n",
       "     ('&',\n",
       "      ('&',\n",
       "       ('+', 'a', ('&', ('&', 0, ('*', '𝜀')), 0)),\n",
       "       ('*', ('+', '𝜀', ('&', ('&', 'a', ('*', '𝜀')), 0)))),\n",
       "      ('+', 'b', ('&', ('&', 'a', ('*', '𝜀')), 0)))))),\n",
       "  ('+',\n",
       "   ('+', 0, ('&', ('&', 0, ('*', '𝜀')), '𝜀')),\n",
       "   ('&',\n",
       "    ('&',\n",
       "     ('+', 'a', ('&', ('&', 0, ('*', '𝜀')), 0)),\n",
       "     ('*', ('+', '𝜀', ('&', ('&', 'a', ('*', '𝜀')), 0)))),\n",
       "    ('+', 'a', ('&', ('&', 'a', ('*', '𝜀')), '𝜀'))))))"
      ]
     },
     "execution_count": 10,
     "metadata": {},
     "output_type": "execute_result"
    }
   ],
   "source": [
    "r = dfa_2_regexp(A)\n",
    "r"
   ]
  },
  {
   "cell_type": "markdown",
   "metadata": {},
   "source": [
    "As this regular expression is nearly unreadable,  The notebook `Rewrite.ipynb` contains the definition of the function `simplify` that can be used to simplify this expression."
   ]
  },
  {
   "cell_type": "code",
   "execution_count": 11,
   "metadata": {},
   "outputs": [],
   "source": [
    "%run Rewrite.ipynb"
   ]
  },
  {
   "cell_type": "code",
   "execution_count": 12,
   "metadata": {},
   "outputs": [
    {
     "data": {
      "text/plain": [
       "('&', ('&', ('*', ('&', 'a', 'b')), 'a'), 'a')"
      ]
     },
     "execution_count": 12,
     "metadata": {},
     "output_type": "execute_result"
    }
   ],
   "source": [
    "s = simplify(r, Rules)\n",
    "s"
   ]
  },
  {
   "cell_type": "markdown",
   "metadata": {},
   "source": [
    "The function `regexp_2_string` takes a regular expression that is represented as a nested tuple and transforms it into a string."
   ]
  },
  {
   "cell_type": "code",
   "execution_count": 13,
   "metadata": {},
   "outputs": [],
   "source": [
    "def regexp_2_string(r):\n",
    "    if r == 0: \n",
    "        return '0'\n",
    "    if r == '': # epsilon\n",
    "        return '\"\"'\n",
    "    if isinstance(r, str): # single characters\n",
    "        return r\n",
    "    if r[0] == '&': # concatenation\n",
    "        r1, r2 = r[1:]\n",
    "        return regexp_2_string(r1) + regexp_2_string(r2)        \n",
    "    if r[0] == '+':\n",
    "        r1, r2 = r[1:]\n",
    "        return '(' + regexp_2_string(r1) + '+' + regexp_2_string(r2) + ')'\n",
    "    if r[0] == '*': \n",
    "        r1 = r[1]\n",
    "        if isinstance(r1, str):\n",
    "            return regexp_2_string(r1) +'*'\n",
    "        else:\n",
    "            return '(' + regexp_2_string(r1) + ')*'\n",
    "    raise Exception(f'{r} is not a suitable regular expression')"
   ]
  },
  {
   "cell_type": "code",
   "execution_count": 14,
   "metadata": {},
   "outputs": [
    {
     "name": "stdout",
     "output_type": "stream",
     "text": [
      "(ab)*aa\n"
     ]
    }
   ],
   "source": [
    "print(regexp_2_string(s))"
   ]
  },
  {
   "cell_type": "code",
   "execution_count": null,
   "metadata": {},
   "outputs": [],
   "source": []
  }
 ],
 "metadata": {
  "kernelspec": {
   "display_name": "Python 3 (ipykernel)",
   "language": "python",
   "name": "python3"
  },
  "language_info": {
   "codemirror_mode": {
    "name": "ipython",
    "version": 3
   },
   "file_extension": ".py",
   "mimetype": "text/x-python",
   "name": "python",
   "nbconvert_exporter": "python",
   "pygments_lexer": "ipython3",
   "version": "3.11.5"
  },
  "varInspector": {
   "cols": {
    "lenName": 16,
    "lenType": 16,
    "lenVar": 40
   },
   "kernels_config": {
    "python": {
     "delete_cmd_postfix": "",
     "delete_cmd_prefix": "del ",
     "library": "var_list.py",
     "varRefreshCmd": "print(var_dic_list())"
    },
    "r": {
     "delete_cmd_postfix": ") ",
     "delete_cmd_prefix": "rm(",
     "library": "var_list.r",
     "varRefreshCmd": "cat(var_dic_list()) "
    }
   },
   "types_to_exclude": [
    "module",
    "function",
    "builtin_function_or_method",
    "instance",
    "_Feature"
   ],
   "window_display": false
  }
 },
 "nbformat": 4,
 "nbformat_minor": 4
}
