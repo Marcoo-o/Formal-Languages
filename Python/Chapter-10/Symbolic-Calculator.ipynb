{
 "cells": [
  {
   "cell_type": "code",
   "execution_count": 1,
   "metadata": {},
   "outputs": [
    {
     "data": {
      "text/html": [
       "<link href='http://fonts.googleapis.com/css?family=Alegreya+Sans:100,300,400,500,700,800,900,100italic,300italic,400italic,500italic,700italic,800italic,900italic' rel='stylesheet' type='text/css'>\n",
       "<link href='http://fonts.googleapis.com/css?family=Arvo:400,700,400italic' rel='stylesheet' type='text/css'>\n",
       "<link href='http://fonts.googleapis.com/css?family=PT+Mono' rel='stylesheet' type='text/css'>\n",
       "<link href='http://fonts.googleapis.com/css?family=Shadows+Into+Light' rel='stylesheet' type='text/css'>\n",
       "<link href='http://fonts.googleapis.com/css?family=Philosopher:400,700,400italic,700italic' rel='stylesheet' type='text/css'>\n",
       "\n",
       "<style>\n",
       "\n",
       "@font-face {\n",
       "    font-family: \"Computer Modern\";\n",
       "    src: url('http://mirrors.ctan.org/fonts/cm-unicode/fonts/otf/cmunss.otf');\n",
       "}\n",
       "\n",
       ".container { width: 100% }\n",
       "\n",
       "/* Formatting for header cells */\n",
       ".text_cell_render h1 {\n",
       "    font-family: 'Philosopher', sans-serif;\n",
       "    font-weight: 400;\n",
       "    font-size: 2.2em;\n",
       "    line-height: 100%;\n",
       "    color: rgb(0, 80, 120);\n",
       "    margin-bottom: 0.1em;\n",
       "    margin-top: 0.1em;\n",
       "    display: block;\n",
       "}\t\n",
       ".text_cell_render h2 {\n",
       "    font-family: 'Philosopher', serif;\n",
       "    font-weight: 400;\n",
       "    font-size: 1.9em;\n",
       "    line-height: 100%;\n",
       "    color: rgb(200,100,0);\n",
       "    margin-bottom: 0.1em;\n",
       "    margin-top: 0.1em;\n",
       "    display: block;\n",
       "}\t\n",
       "\n",
       ".text_cell_render h3 {\n",
       "    font-family: 'Philosopher', serif;\n",
       "    margin-top:12px;\n",
       "    margin-bottom: 3px;\n",
       "    font-style: italic;\n",
       "    color: rgb(94,127,192);\n",
       "}\n",
       "\n",
       ".text_cell_render h4 {\n",
       "    font-family: 'Philosopher', serif;\n",
       "}\n",
       "\n",
       ".text_cell_render h5 {\n",
       "    font-family: 'Alegreya Sans', sans-serif;\n",
       "    font-weight: 300;\n",
       "    font-size: 16pt;\n",
       "    color: grey;\n",
       "    font-style: italic;\n",
       "    margin-bottom: .1em;\n",
       "    margin-top: 0.1em;\n",
       "    display: block;\n",
       "}\n",
       "\n",
       ".text_cell_render h6 {\n",
       "    font-family: 'PT Mono', sans-serif;\n",
       "    font-weight: 300;\n",
       "    font-size: 10pt;\n",
       "    color: grey;\n",
       "    margin-bottom: 1px;\n",
       "    margin-top: 1px;\n",
       "}\n",
       "\n",
       ".text_cell_render em {\n",
       "    font-family: 'Philosopher', sans-serif;\n",
       "    color:        blue;\n",
       "    background-color: rgb(255,220,180);\n",
       "    font-size:    110%;\n",
       "    margin-left:   2px;\n",
       "    margin-right:  2px;\n",
       "    font-weight:   100;\n",
       "}\n",
       "\n",
       ".text_cell_render b {\n",
       "    color:            rgb(255,195,195);\n",
       "    background-color: rgb(0,0,0);\n",
       "    font-size:    110%;\n",
       "    margin-left:   2px;\n",
       "    margin-right:  2px;\n",
       "    font-weight:   650;\n",
       "}\n",
       "\n",
       ".text_cell_render tt {\n",
       "    font-size:    120%;\n",
       "    margin-left:   2px;\n",
       "    margin-right:  2px;\n",
       "    font-weight:   150;\n",
       "}\n",
       "\n",
       ".CodeMirror{\n",
       "        font-family: \"PT Mono\";\n",
       "        font-size: 100%;\n",
       "}\n",
       "\n",
       "</style>\n",
       "\n"
      ],
      "text/plain": [
       "<IPython.core.display.HTML object>"
      ]
     },
     "execution_count": 1,
     "metadata": {},
     "output_type": "execute_result"
    }
   ],
   "source": [
    "from IPython.core.display import HTML\n",
    "with open (\"../style.css\", \"r\") as file:\n",
    "    css = file.read()\n",
    "HTML(css)"
   ]
  },
  {
   "cell_type": "markdown",
   "metadata": {},
   "source": [
    "# A Simple Symbolic Calculator\n",
    "\n",
    "This file shows how a simple symbolic calculator can be implemented using `Ply`.  The grammar for the language implemented by this parser is as follows:\n",
    "$$\n",
    "\\begin{array}{lcl}\n",
    "  \\texttt{stmnt}   & \\rightarrow & \\;\\texttt{IDENTIFIER} \\;\\texttt{':='}\\; \\texttt{expr}\\; \\texttt{';'}\\\\\n",
    "                   & \\mid        & \\;\\texttt{expr}\\; \\texttt{';'}                      \\\\[0.2cm]\n",
    "  \\texttt{expr}    & \\rightarrow & \\;\\texttt{expr}\\; \\texttt{'+'} \\; \\texttt{product}  \\\\\n",
    "                   & \\mid        & \\;\\texttt{expr}\\; \\texttt{'-'} \\; \\texttt{product}  \\\\\n",
    "                   & \\mid        & \\;\\texttt{product}                                  \\\\[0.2cm]\n",
    "  \\texttt{product} & \\rightarrow & \\;\\texttt{product}\\; \\texttt{'*'} \\;\\texttt{factor} \\\\\n",
    "                   & \\mid        & \\;\\texttt{product}\\; \\texttt{'/'} \\;\\texttt{factor} \\\\\n",
    "                   & \\mid        & \\;\\texttt{factor}                                   \\\\[0.2cm]\n",
    "  \\texttt{factor}  & \\rightarrow &   \\texttt{'('} \\; \\texttt{expr} \\;\\texttt{')'}        \\\\\n",
    "                   & \\mid        & \\;\\texttt{NUMBER}                                   \\\\\n",
    "                   & \\mid        & \\;\\texttt{IDENTIFIER}                        \n",
    "\\end{array}\n",
    "$$"
   ]
  },
  {
   "cell_type": "markdown",
   "metadata": {},
   "source": [
    "## Specification of the Scanner"
   ]
  },
  {
   "cell_type": "code",
   "execution_count": 2,
   "metadata": {},
   "outputs": [],
   "source": [
    "import ply.lex as lex"
   ]
  },
  {
   "cell_type": "markdown",
   "metadata": {},
   "source": [
    "There are only three tokens that need to be defined via regular expressions.  The other tokens consist only of a single character and can therefore be defined as literals."
   ]
  },
  {
   "cell_type": "code",
   "execution_count": 3,
   "metadata": {},
   "outputs": [],
   "source": [
    "tokens = [ 'NUMBER', 'IDENTIFIER', 'ASSIGN_OP' ]"
   ]
  },
  {
   "cell_type": "markdown",
   "metadata": {},
   "source": [
    "The token `NUMBER` specifies a fully featured *floating point number*."
   ]
  },
  {
   "cell_type": "code",
   "execution_count": 4,
   "metadata": {},
   "outputs": [],
   "source": [
    "def t_NUMBER(t):\n",
    "    r'0|[1-9][0-9]*(\\.[0-9]+)?([eE][+-]?([0-9]+))?'\n",
    "    t.value = float(t.value)\n",
    "    return t"
   ]
  },
  {
   "cell_type": "markdown",
   "metadata": {},
   "source": [
    "The token `IDENTIFIER` specifies the name of a *variable*."
   ]
  },
  {
   "cell_type": "code",
   "execution_count": 5,
   "metadata": {},
   "outputs": [],
   "source": [
    "def t_IDENTIFIER(t):\n",
    "    r'[a-zA-Z][a-zA-Z0-9_]*'\n",
    "    return t"
   ]
  },
  {
   "cell_type": "markdown",
   "metadata": {},
   "source": [
    "The token `ASSIGN_OP` specifies the *assignment operator*.  As this operator consists of two characters, it can't be defined as a literal."
   ]
  },
  {
   "cell_type": "code",
   "execution_count": 6,
   "metadata": {},
   "outputs": [],
   "source": [
    "def t_ASSIGN_OP(t):\n",
    "    r':='\n",
    "    return t"
   ]
  },
  {
   "cell_type": "markdown",
   "metadata": {},
   "source": [
    "`literals` is a list of operator symbols that consist of a single character."
   ]
  },
  {
   "cell_type": "code",
   "execution_count": 7,
   "metadata": {},
   "outputs": [],
   "source": [
    "literals = ['+', '-', '*', '/', '(', ')', ';']"
   ]
  },
  {
   "cell_type": "markdown",
   "metadata": {},
   "source": [
    "Blanks and tabulators are ignored."
   ]
  },
  {
   "cell_type": "code",
   "execution_count": 8,
   "metadata": {},
   "outputs": [],
   "source": [
    "t_ignore  = ' \\t'"
   ]
  },
  {
   "cell_type": "markdown",
   "metadata": {},
   "source": [
    "Newlines are counted in order to give precise error messages.  Otherwise they are ignored."
   ]
  },
  {
   "cell_type": "code",
   "execution_count": 9,
   "metadata": {},
   "outputs": [],
   "source": [
    "def t_newline(t):\n",
    "    r'\\n+'\n",
    "    t.lexer.lineno += t.value.count('\\n')"
   ]
  },
  {
   "cell_type": "markdown",
   "metadata": {},
   "source": [
    "Unkown characters are reported as lexical errors."
   ]
  },
  {
   "cell_type": "code",
   "execution_count": 10,
   "metadata": {},
   "outputs": [],
   "source": [
    "def t_error(t):\n",
    "    print(f\"Illegal character '{t.value[0]}' at character number {t.lexer.lexpos} in line {t.lexer.lineno}.\")\n",
    "    t.lexer.skip(1)"
   ]
  },
  {
   "cell_type": "markdown",
   "metadata": {},
   "source": [
    "The next line is necessary because we use `Ply` from a notebook."
   ]
  },
  {
   "cell_type": "code",
   "execution_count": 11,
   "metadata": {},
   "outputs": [],
   "source": [
    "__file__ = 'main'"
   ]
  },
  {
   "cell_type": "markdown",
   "metadata": {},
   "source": [
    "We generate the lexer."
   ]
  },
  {
   "cell_type": "code",
   "execution_count": 12,
   "metadata": {},
   "outputs": [],
   "source": [
    "lexer = lex.lex()"
   ]
  },
  {
   "cell_type": "markdown",
   "metadata": {},
   "source": [
    "## Specification of the Parser"
   ]
  },
  {
   "cell_type": "code",
   "execution_count": 13,
   "metadata": {},
   "outputs": [],
   "source": [
    "import ply.yacc as yacc"
   ]
  },
  {
   "cell_type": "markdown",
   "metadata": {},
   "source": [
    "The *start variable* of our grammar is `statement`."
   ]
  },
  {
   "cell_type": "code",
   "execution_count": 14,
   "metadata": {},
   "outputs": [],
   "source": [
    "start = 'stmnt'"
   ]
  },
  {
   "cell_type": "markdown",
   "metadata": {},
   "source": [
    "There are two grammar rules for `stmnt`s:\n",
    "```\n",
    "    stmnt : IDENTIFIER \":=\" expr \";\"\n",
    "          | expr ';'\n",
    "          ;\n",
    "```\n",
    "- If a *stmnt* is an assignment, the expression on the right hand side of the assignment operator is \n",
    "  evaluated and the value is stored in the dictionary `Names2Values`.  The key used in this dictionary\n",
    "  is the name of the variable on the left hand side ofthe assignment operator.\n",
    "- If a *stmnt* is an expression, the expression is evaluated and the result of this evaluation is printed.\n",
    "\n",
    "It is <b>very important</b> that in the grammar rules below the `:` is surrounded by space characters, for otherwise `Ply` will throw mysterious error messages at us!\n",
    "\n",
    "Below, `Names2Values` is a dictionary mapping variable names to their values.  It will be defined later."
   ]
  },
  {
   "cell_type": "code",
   "execution_count": 15,
   "metadata": {},
   "outputs": [],
   "source": [
    "def p_stmnt_assign(p):\n",
    "    \"stmnt : IDENTIFIER ASSIGN_OP expr ';'\"\n",
    "    Names2Values[p[1]] = p[3]\n",
    "\n",
    "def p_stmnt_expr(p):\n",
    "    \"stmnt : expr ';'\"\n",
    "    print(p[1])"
   ]
  },
  {
   "cell_type": "markdown",
   "metadata": {},
   "source": [
    "An *expr* is a sequence of *products* that are combined with the operators `+` and `-`.\n",
    "The corresponding grammar rules are:\n",
    "```\n",
    "    expr : expr '+' product\n",
    "         | expr '-' product\n",
    "         | product\n",
    "         ;\n",
    "```"
   ]
  },
  {
   "cell_type": "code",
   "execution_count": 16,
   "metadata": {},
   "outputs": [],
   "source": [
    "def p_expr_plus(p):\n",
    "    \"expr : expr '+' product\"\n",
    "    p[0] = p[1] + p[3]\n",
    "    \n",
    "def p_expr_minus(p):\n",
    "    \"expr : expr '-' product\"\n",
    "    p[0] = p[1] - p[3]\n",
    "    \n",
    "def p_expr_product(p):\n",
    "    \"expr : product\"\n",
    "    p[0] = p[1]"
   ]
  },
  {
   "cell_type": "markdown",
   "metadata": {},
   "source": [
    "A *product* is a sequence of *factors* that are combined with the operators `*` and `/`.\n",
    "The corresponding grammar rules are:\n",
    "```\n",
    "    product : product '*' factor\n",
    "            | product '/' factor\n",
    "            | factor\n",
    "            ;\n",
    "```"
   ]
  },
  {
   "cell_type": "code",
   "execution_count": 17,
   "metadata": {},
   "outputs": [],
   "source": [
    "def p_product_multiply(p):\n",
    "    \"product : product '*' factor\"\n",
    "    p[0] = p[1] * p[3]\n",
    "    \n",
    "def p_product_divide(p):\n",
    "    \"product : product '/' factor\"\n",
    "    p[0] = p[1] / p[3]\n",
    "    \n",
    "def p_product_factor(p):\n",
    "    \"product : factor\"\n",
    "    p[0] = p[1]"
   ]
  },
  {
   "cell_type": "markdown",
   "metadata": {},
   "source": [
    "A factor can is either an expression in parenthesis, a number, or an identifier.\n",
    "```\n",
    "   factor : '(' expr ')'\n",
    "          | NUMBER\n",
    "          | IDENTIFIER\n",
    "          ;\n",
    "```\n",
    "If an identifier is undefined, its value is `NaN`, which is short for *not a number*."
   ]
  },
  {
   "cell_type": "code",
   "execution_count": 18,
   "metadata": {},
   "outputs": [],
   "source": [
    "def p_factor_group(p):\n",
    "    \"factor : '(' expr ')'\"\n",
    "    p[0] = p[2]\n",
    "\n",
    "def p_factor_number(p):\n",
    "    \"factor : NUMBER\"\n",
    "    p[0] = p[1]\n",
    "\n",
    "def p_factor_identifier(p):\n",
    "    \"factor : IDENTIFIER\"\n",
    "    p[0] = Names2Values.get(p[1], float('NaN'))"
   ]
  },
  {
   "cell_type": "markdown",
   "metadata": {},
   "source": [
    "The expression `float('NaN')` stands for an undefined number."
   ]
  },
  {
   "cell_type": "code",
   "execution_count": 19,
   "metadata": {},
   "outputs": [],
   "source": [
    "import math"
   ]
  },
  {
   "cell_type": "code",
   "execution_count": 21,
   "metadata": {},
   "outputs": [
    {
     "data": {
      "text/plain": [
       "(nan, inf, nan)"
      ]
     },
     "execution_count": 21,
     "metadata": {},
     "output_type": "execute_result"
    }
   ],
   "source": [
    "math.nan, float('Inf'), float('Inf') - float('Inf') "
   ]
  },
  {
   "cell_type": "markdown",
   "metadata": {},
   "source": [
    "The method `p_error` is called if a syntax error occurs.  The argument `p` is the token that could not be read.  If `p` is `None` then the syntax error occurs at the end of the input."
   ]
  },
  {
   "cell_type": "code",
   "execution_count": 22,
   "metadata": {},
   "outputs": [],
   "source": [
    "def p_error(p):\n",
    "    if p:\n",
    "        print(f\"Syntax error at character number {p.lexer.lexpos} at token '{p.value}' in line {p.lexer.lineno}.\")\n",
    "    else:\n",
    "        print('Syntax error at end of input.')"
   ]
  },
  {
   "cell_type": "markdown",
   "metadata": {},
   "source": [
    "Setting the optional argument `write_tables` to `False` <B style=\"color:red\">is required</B> to prevent an *obscure bug* where the parser generator tries to read an empty parse table.\n",
    "We set `debug` to `True` so that the parse tables are dumped into the file `parser.out`."
   ]
  },
  {
   "cell_type": "code",
   "execution_count": 23,
   "metadata": {},
   "outputs": [
    {
     "name": "stderr",
     "output_type": "stream",
     "text": [
      "Generating LALR tables\n"
     ]
    }
   ],
   "source": [
    "parser = yacc.yacc(write_tables=False, debug=True)"
   ]
  },
  {
   "cell_type": "markdown",
   "metadata": {},
   "source": [
    "Let's look at the action table that is generated."
   ]
  },
  {
   "cell_type": "code",
   "execution_count": 24,
   "metadata": {
    "scrolled": true
   },
   "outputs": [
    {
     "name": "stdout",
     "output_type": "stream",
     "text": [
      "Created by PLY version 3.11 (http://www.dabeaz.com/ply)\r\n",
      "\r\n",
      "Grammar\r\n",
      "\r\n",
      "Rule 0     S' -> stmnt\r\n",
      "Rule 1     expr -> expr + product\r\n",
      "Rule 2     factor -> ( expr )\r\n",
      "Rule 3     product -> product * factor\r\n",
      "Rule 4     stmnt -> IDENTIFIER ASSIGN_OP expr ;\r\n",
      "Rule 5     expr -> expr - product\r\n",
      "Rule 6     factor -> NUMBER\r\n",
      "Rule 7     product -> product / factor\r\n",
      "Rule 8     stmnt -> expr ;\r\n",
      "Rule 9     expr -> product\r\n",
      "Rule 10    factor -> IDENTIFIER\r\n",
      "Rule 11    product -> factor\r\n",
      "\r\n",
      "Terminals, with rules where they appear\r\n",
      "\r\n",
      "(                    : 2\r\n",
      ")                    : 2\r\n",
      "*                    : 3\r\n",
      "+                    : 1\r\n",
      "-                    : 5\r\n",
      "/                    : 7\r\n",
      ";                    : 4 8\r\n",
      "ASSIGN_OP            : 4\r\n",
      "IDENTIFIER           : 4 10\r\n",
      "NUMBER               : 6\r\n",
      "error                : \r\n",
      "\r\n",
      "Nonterminals, with rules where they appear\r\n",
      "\r\n",
      "expr                 : 1 2 4 5 8\r\n",
      "factor               : 3 7 11\r\n",
      "product              : 1 3 5 7 9\r\n",
      "stmnt                : 0\r\n",
      "\r\n",
      "Parsing method: LALR\r\n",
      "\r\n",
      "state 0\r\n",
      "\r\n",
      "    (0) S' -> . stmnt\r\n",
      "    (4) stmnt -> . IDENTIFIER ASSIGN_OP expr ;\r\n",
      "    (8) stmnt -> . expr ;\r\n",
      "    (1) expr -> . expr + product\r\n",
      "    (5) expr -> . expr - product\r\n",
      "    (9) expr -> . product\r\n",
      "    (3) product -> . product * factor\r\n",
      "    (7) product -> . product / factor\r\n",
      "    (11) product -> . factor\r\n",
      "    (2) factor -> . ( expr )\r\n",
      "    (6) factor -> . NUMBER\r\n",
      "    (10) factor -> . IDENTIFIER\r\n",
      "\r\n",
      "    IDENTIFIER      shift and go to state 2\r\n",
      "    (               shift and go to state 6\r\n",
      "    NUMBER          shift and go to state 7\r\n",
      "\r\n",
      "    stmnt                          shift and go to state 1\r\n",
      "    expr                           shift and go to state 3\r\n",
      "    product                        shift and go to state 4\r\n",
      "    factor                         shift and go to state 5\r\n",
      "\r\n",
      "state 1\r\n",
      "\r\n",
      "    (0) S' -> stmnt .\r\n",
      "\r\n",
      "\r\n",
      "\r\n",
      "state 2\r\n",
      "\r\n",
      "    (4) stmnt -> IDENTIFIER . ASSIGN_OP expr ;\r\n",
      "    (10) factor -> IDENTIFIER .\r\n",
      "\r\n",
      "    ASSIGN_OP       shift and go to state 8\r\n",
      "    *               reduce using rule 10 (factor -> IDENTIFIER .)\r\n",
      "    /               reduce using rule 10 (factor -> IDENTIFIER .)\r\n",
      "    ;               reduce using rule 10 (factor -> IDENTIFIER .)\r\n",
      "    +               reduce using rule 10 (factor -> IDENTIFIER .)\r\n",
      "    -               reduce using rule 10 (factor -> IDENTIFIER .)\r\n",
      "\r\n",
      "\r\n",
      "state 3\r\n",
      "\r\n",
      "    (8) stmnt -> expr . ;\r\n",
      "    (1) expr -> expr . + product\r\n",
      "    (5) expr -> expr . - product\r\n",
      "\r\n",
      "    ;               shift and go to state 9\r\n",
      "    +               shift and go to state 10\r\n",
      "    -               shift and go to state 11\r\n",
      "\r\n",
      "\r\n",
      "state 4\r\n",
      "\r\n",
      "    (9) expr -> product .\r\n",
      "    (3) product -> product . * factor\r\n",
      "    (7) product -> product . / factor\r\n",
      "\r\n",
      "    ;               reduce using rule 9 (expr -> product .)\r\n",
      "    +               reduce using rule 9 (expr -> product .)\r\n",
      "    -               reduce using rule 9 (expr -> product .)\r\n",
      "    )               reduce using rule 9 (expr -> product .)\r\n",
      "    *               shift and go to state 12\r\n",
      "    /               shift and go to state 13\r\n",
      "\r\n",
      "\r\n",
      "state 5\r\n",
      "\r\n",
      "    (11) product -> factor .\r\n",
      "\r\n",
      "    *               reduce using rule 11 (product -> factor .)\r\n",
      "    /               reduce using rule 11 (product -> factor .)\r\n",
      "    ;               reduce using rule 11 (product -> factor .)\r\n",
      "    +               reduce using rule 11 (product -> factor .)\r\n",
      "    -               reduce using rule 11 (product -> factor .)\r\n",
      "    )               reduce using rule 11 (product -> factor .)\r\n",
      "\r\n",
      "\r\n",
      "state 6\r\n",
      "\r\n",
      "    (2) factor -> ( . expr )\r\n",
      "    (1) expr -> . expr + product\r\n",
      "    (5) expr -> . expr - product\r\n",
      "    (9) expr -> . product\r\n",
      "    (3) product -> . product * factor\r\n",
      "    (7) product -> . product / factor\r\n",
      "    (11) product -> . factor\r\n",
      "    (2) factor -> . ( expr )\r\n",
      "    (6) factor -> . NUMBER\r\n",
      "    (10) factor -> . IDENTIFIER\r\n",
      "\r\n",
      "    (               shift and go to state 6\r\n",
      "    NUMBER          shift and go to state 7\r\n",
      "    IDENTIFIER      shift and go to state 15\r\n",
      "\r\n",
      "    expr                           shift and go to state 14\r\n",
      "    product                        shift and go to state 4\r\n",
      "    factor                         shift and go to state 5\r\n",
      "\r\n",
      "state 7\r\n",
      "\r\n",
      "    (6) factor -> NUMBER .\r\n",
      "\r\n",
      "    *               reduce using rule 6 (factor -> NUMBER .)\r\n",
      "    /               reduce using rule 6 (factor -> NUMBER .)\r\n",
      "    ;               reduce using rule 6 (factor -> NUMBER .)\r\n",
      "    +               reduce using rule 6 (factor -> NUMBER .)\r\n",
      "    -               reduce using rule 6 (factor -> NUMBER .)\r\n",
      "    )               reduce using rule 6 (factor -> NUMBER .)\r\n",
      "\r\n",
      "\r\n",
      "state 8\r\n",
      "\r\n",
      "    (4) stmnt -> IDENTIFIER ASSIGN_OP . expr ;\r\n",
      "    (1) expr -> . expr + product\r\n",
      "    (5) expr -> . expr - product\r\n",
      "    (9) expr -> . product\r\n",
      "    (3) product -> . product * factor\r\n",
      "    (7) product -> . product / factor\r\n",
      "    (11) product -> . factor\r\n",
      "    (2) factor -> . ( expr )\r\n",
      "    (6) factor -> . NUMBER\r\n",
      "    (10) factor -> . IDENTIFIER\r\n",
      "\r\n",
      "    (               shift and go to state 6\r\n",
      "    NUMBER          shift and go to state 7\r\n",
      "    IDENTIFIER      shift and go to state 15\r\n",
      "\r\n",
      "    expr                           shift and go to state 16\r\n",
      "    product                        shift and go to state 4\r\n",
      "    factor                         shift and go to state 5\r\n",
      "\r\n",
      "state 9\r\n",
      "\r\n",
      "    (8) stmnt -> expr ; .\r\n",
      "\r\n",
      "    $end            reduce using rule 8 (stmnt -> expr ; .)\r\n",
      "\r\n",
      "\r\n",
      "state 10\r\n",
      "\r\n",
      "    (1) expr -> expr + . product\r\n",
      "    (3) product -> . product * factor\r\n",
      "    (7) product -> . product / factor\r\n",
      "    (11) product -> . factor\r\n",
      "    (2) factor -> . ( expr )\r\n",
      "    (6) factor -> . NUMBER\r\n",
      "    (10) factor -> . IDENTIFIER\r\n",
      "\r\n",
      "    (               shift and go to state 6\r\n",
      "    NUMBER          shift and go to state 7\r\n",
      "    IDENTIFIER      shift and go to state 15\r\n",
      "\r\n",
      "    product                        shift and go to state 17\r\n",
      "    factor                         shift and go to state 5\r\n",
      "\r\n",
      "state 11\r\n",
      "\r\n",
      "    (5) expr -> expr - . product\r\n",
      "    (3) product -> . product * factor\r\n",
      "    (7) product -> . product / factor\r\n",
      "    (11) product -> . factor\r\n",
      "    (2) factor -> . ( expr )\r\n",
      "    (6) factor -> . NUMBER\r\n",
      "    (10) factor -> . IDENTIFIER\r\n",
      "\r\n",
      "    (               shift and go to state 6\r\n",
      "    NUMBER          shift and go to state 7\r\n",
      "    IDENTIFIER      shift and go to state 15\r\n",
      "\r\n",
      "    product                        shift and go to state 18\r\n",
      "    factor                         shift and go to state 5\r\n",
      "\r\n",
      "state 12\r\n",
      "\r\n",
      "    (3) product -> product * . factor\r\n",
      "    (2) factor -> . ( expr )\r\n",
      "    (6) factor -> . NUMBER\r\n",
      "    (10) factor -> . IDENTIFIER\r\n",
      "\r\n",
      "    (               shift and go to state 6\r\n",
      "    NUMBER          shift and go to state 7\r\n",
      "    IDENTIFIER      shift and go to state 15\r\n",
      "\r\n",
      "    factor                         shift and go to state 19\r\n",
      "\r\n",
      "state 13\r\n",
      "\r\n",
      "    (7) product -> product / . factor\r\n",
      "    (2) factor -> . ( expr )\r\n",
      "    (6) factor -> . NUMBER\r\n",
      "    (10) factor -> . IDENTIFIER\r\n",
      "\r\n",
      "    (               shift and go to state 6\r\n",
      "    NUMBER          shift and go to state 7\r\n",
      "    IDENTIFIER      shift and go to state 15\r\n",
      "\r\n",
      "    factor                         shift and go to state 20\r\n",
      "\r\n",
      "state 14\r\n",
      "\r\n",
      "    (2) factor -> ( expr . )\r\n",
      "    (1) expr -> expr . + product\r\n",
      "    (5) expr -> expr . - product\r\n",
      "\r\n",
      "    )               shift and go to state 21\r\n",
      "    +               shift and go to state 10\r\n",
      "    -               shift and go to state 11\r\n",
      "\r\n",
      "\r\n",
      "state 15\r\n",
      "\r\n",
      "    (10) factor -> IDENTIFIER .\r\n",
      "\r\n",
      "    *               reduce using rule 10 (factor -> IDENTIFIER .)\r\n",
      "    /               reduce using rule 10 (factor -> IDENTIFIER .)\r\n",
      "    )               reduce using rule 10 (factor -> IDENTIFIER .)\r\n",
      "    +               reduce using rule 10 (factor -> IDENTIFIER .)\r\n",
      "    -               reduce using rule 10 (factor -> IDENTIFIER .)\r\n",
      "    ;               reduce using rule 10 (factor -> IDENTIFIER .)\r\n",
      "\r\n",
      "\r\n",
      "state 16\r\n",
      "\r\n",
      "    (4) stmnt -> IDENTIFIER ASSIGN_OP expr . ;\r\n",
      "    (1) expr -> expr . + product\r\n",
      "    (5) expr -> expr . - product\r\n",
      "\r\n",
      "    ;               shift and go to state 22\r\n",
      "    +               shift and go to state 10\r\n",
      "    -               shift and go to state 11\r\n",
      "\r\n",
      "\r\n",
      "state 17\r\n",
      "\r\n",
      "    (1) expr -> expr + product .\r\n",
      "    (3) product -> product . * factor\r\n",
      "    (7) product -> product . / factor\r\n",
      "\r\n",
      "    ;               reduce using rule 1 (expr -> expr + product .)\r\n",
      "    +               reduce using rule 1 (expr -> expr + product .)\r\n",
      "    -               reduce using rule 1 (expr -> expr + product .)\r\n",
      "    )               reduce using rule 1 (expr -> expr + product .)\r\n",
      "    *               shift and go to state 12\r\n",
      "    /               shift and go to state 13\r\n",
      "\r\n",
      "\r\n",
      "state 18\r\n",
      "\r\n",
      "    (5) expr -> expr - product .\r\n",
      "    (3) product -> product . * factor\r\n",
      "    (7) product -> product . / factor\r\n",
      "\r\n",
      "    ;               reduce using rule 5 (expr -> expr - product .)\r\n",
      "    +               reduce using rule 5 (expr -> expr - product .)\r\n",
      "    -               reduce using rule 5 (expr -> expr - product .)\r\n",
      "    )               reduce using rule 5 (expr -> expr - product .)\r\n",
      "    *               shift and go to state 12\r\n",
      "    /               shift and go to state 13\r\n",
      "\r\n",
      "\r\n",
      "state 19\r\n",
      "\r\n",
      "    (3) product -> product * factor .\r\n",
      "\r\n",
      "    *               reduce using rule 3 (product -> product * factor .)\r\n",
      "    /               reduce using rule 3 (product -> product * factor .)\r\n",
      "    ;               reduce using rule 3 (product -> product * factor .)\r\n",
      "    +               reduce using rule 3 (product -> product * factor .)\r\n",
      "    -               reduce using rule 3 (product -> product * factor .)\r\n",
      "    )               reduce using rule 3 (product -> product * factor .)\r\n",
      "\r\n",
      "\r\n",
      "state 20\r\n",
      "\r\n",
      "    (7) product -> product / factor .\r\n",
      "\r\n",
      "    *               reduce using rule 7 (product -> product / factor .)\r\n",
      "    /               reduce using rule 7 (product -> product / factor .)\r\n",
      "    ;               reduce using rule 7 (product -> product / factor .)\r\n",
      "    +               reduce using rule 7 (product -> product / factor .)\r\n",
      "    -               reduce using rule 7 (product -> product / factor .)\r\n",
      "    )               reduce using rule 7 (product -> product / factor .)\r\n",
      "\r\n",
      "\r\n",
      "state 21\r\n",
      "\r\n",
      "    (2) factor -> ( expr ) .\r\n",
      "\r\n",
      "    *               reduce using rule 2 (factor -> ( expr ) .)\r\n",
      "    /               reduce using rule 2 (factor -> ( expr ) .)\r\n",
      "    ;               reduce using rule 2 (factor -> ( expr ) .)\r\n",
      "    +               reduce using rule 2 (factor -> ( expr ) .)\r\n",
      "    -               reduce using rule 2 (factor -> ( expr ) .)\r\n",
      "    )               reduce using rule 2 (factor -> ( expr ) .)\r\n",
      "\r\n",
      "\r\n",
      "state 22\r\n",
      "\r\n",
      "    (4) stmnt -> IDENTIFIER ASSIGN_OP expr ; .\r\n",
      "\r\n",
      "    $end            reduce using rule 4 (stmnt -> IDENTIFIER ASSIGN_OP expr ; .)\r\n",
      "\r\n"
     ]
    }
   ],
   "source": [
    "!cat parser.out"
   ]
  },
  {
   "cell_type": "markdown",
   "metadata": {},
   "source": [
    "`Names2Values` is the dictionary that maps variable names to their values.  Initially the dictionary is empty as no variables have yet been defined."
   ]
  },
  {
   "cell_type": "code",
   "execution_count": 25,
   "metadata": {},
   "outputs": [],
   "source": [
    "Names2Values = {}"
   ]
  },
  {
   "cell_type": "markdown",
   "metadata": {},
   "source": [
    "The parser is invoked by calling the method `yacc.parse(s)` where `s` is a string that is to be parsed."
   ]
  },
  {
   "cell_type": "code",
   "execution_count": 26,
   "metadata": {},
   "outputs": [],
   "source": [
    "def main():\n",
    "    while True:\n",
    "        s = input('calc> ')\n",
    "        if s == '':\n",
    "            break\n",
    "        yacc.parse(s)"
   ]
  },
  {
   "cell_type": "code",
   "execution_count": 27,
   "metadata": {},
   "outputs": [
    {
     "name": "stdout",
     "output_type": "stream",
     "text": [
      "calc> a := 4 * 4;\n",
      "calc> b := 3 * 3;\n",
      "calc> c := a + b;\n",
      "calc> c;\n",
      "25.0\n",
      "calc> a = 3 + 4;\n",
      "Illegal character '=' at character number 2 in line 1.\n",
      "Syntax error at character number 5 at token '3.0' in line 1.\n",
      "4.0\n",
      "calc> \n"
     ]
    }
   ],
   "source": [
    "main()"
   ]
  },
  {
   "cell_type": "code",
   "execution_count": null,
   "metadata": {},
   "outputs": [],
   "source": []
  }
 ],
 "metadata": {
  "kernelspec": {
   "display_name": "Python 3 (ipykernel)",
   "language": "python",
   "name": "python3"
  },
  "language_info": {
   "codemirror_mode": {
    "name": "ipython",
    "version": 3
   },
   "file_extension": ".py",
   "mimetype": "text/x-python",
   "name": "python",
   "nbconvert_exporter": "python",
   "pygments_lexer": "ipython3",
   "version": "3.11.5"
  },
  "varInspector": {
   "cols": {
    "lenName": 16,
    "lenType": 16,
    "lenVar": 40
   },
   "kernels_config": {
    "python": {
     "delete_cmd_postfix": "",
     "delete_cmd_prefix": "del ",
     "library": "var_list.py",
     "varRefreshCmd": "print(var_dic_list())"
    },
    "r": {
     "delete_cmd_postfix": ") ",
     "delete_cmd_prefix": "rm(",
     "library": "var_list.r",
     "varRefreshCmd": "cat(var_dic_list()) "
    }
   },
   "types_to_exclude": [
    "module",
    "function",
    "builtin_function_or_method",
    "instance",
    "_Feature"
   ],
   "window_display": false
  }
 },
 "nbformat": 4,
 "nbformat_minor": 4
}
