{
 "cells": [
  {
   "cell_type": "code",
   "execution_count": null,
   "metadata": {},
   "outputs": [],
   "source": [
    "from IPython.core.display import HTML\n",
    "with open (\"../style.css\", \"r\") as file:\n",
    "    css = file.read()\n",
    "HTML(css)"
   ]
  },
  {
   "cell_type": "markdown",
   "metadata": {},
   "source": [
    "# Dealing with Conflicts\n",
    "\n",
    "This file shows how `Ply` deals with *shift-reduce* and *reduce-reduce* conflicts.\n",
    "The following grammar is *ambiguous* because it does not specify the precedence of the arithmetical operators:\n",
    "```\n",
    "    expr : expr '+' expr\n",
    "         | expr '*' expr\n",
    "         | NUMBER      \n",
    "         ;\n",
    "```"
   ]
  },
  {
   "cell_type": "markdown",
   "metadata": {},
   "source": [
    "## Specification of the Scanner\n",
    "\n",
    "We implement a minimal scanner for arithmetic expressions."
   ]
  },
  {
   "cell_type": "code",
   "execution_count": null,
   "metadata": {},
   "outputs": [],
   "source": [
    "import ply.lex as lex\n",
    "\n",
    "tokens = [ 'NUMBER' ]\n",
    "\n",
    "def t_NUMBER(t):\n",
    "    r'0|[1-9][0-9]*'\n",
    "    t.value = int(t.value)\n",
    "    return t\n",
    "\n",
    "literals = ['+', '*']\n",
    "\n",
    "t_ignore = ' \\t'\n",
    "\n",
    "def t_newline(t):\n",
    "    r'\\n+'\n",
    "    t.lexer.lineno += t.value.count('\\n')\n",
    "\n",
    "def t_error(t):\n",
    "    print(f\"Illegal character '{t.value[0]}'\")\n",
    "    t.lexer.skip(1)\n",
    "\n",
    "__file__ = 'main'\n",
    "\n",
    "lexer = lex.lex()"
   ]
  },
  {
   "cell_type": "markdown",
   "metadata": {},
   "source": [
    "## Specification of the Parser"
   ]
  },
  {
   "cell_type": "code",
   "execution_count": null,
   "metadata": {},
   "outputs": [],
   "source": [
    "import ply.yacc as yacc"
   ]
  },
  {
   "cell_type": "markdown",
   "metadata": {},
   "source": [
    "The *start variable* of our grammar is `expr`, but we don't have to specify that.  The default\n",
    "start variable is the first variable that is defined."
   ]
  },
  {
   "cell_type": "markdown",
   "metadata": {},
   "source": [
    "We can specify multiple expressions in a single rule.  In this case, we have used the `pass`statement \n",
    "as we just want to generate the *shift/reduce conflicts* that are associated with this grammar. "
   ]
  },
  {
   "cell_type": "markdown",
   "metadata": {},
   "source": [
    "def p_expr(p):\n",
    "    \"\"\"\n",
    "    expr : expr '+' expr\n",
    "         | expr '*' expr\n",
    "         | NUMBER            \n",
    "    \"\"\"\n",
    "    pass\n",
    " "
   ]
  },
  {
   "cell_type": "markdown",
   "metadata": {},
   "source": [
    "If we want to generate a parse tree, we have to do more work."
   ]
  },
  {
   "cell_type": "code",
   "execution_count": null,
   "metadata": {},
   "outputs": [],
   "source": [
    "def p_expr_plus(p):\n",
    "    \"expr : expr '+' expr\"\n",
    "    p[0] = ('+', p[1], p[3])\n",
    "    \n",
    "def p_expr_mult(p): \n",
    "    \"expr : expr '*' expr\"\n",
    "    p[0] = ('*', p[1], p[3])\n",
    "    \n",
    "def p_expr_NUMBER(p):\n",
    "    \"expr : NUMBER\"\n",
    "    p[0] = p[1]"
   ]
  },
  {
   "cell_type": "markdown",
   "metadata": {},
   "source": [
    "We define `p_error`in order to prevent a warning."
   ]
  },
  {
   "cell_type": "code",
   "execution_count": null,
   "metadata": {},
   "outputs": [],
   "source": [
    "def p_error(p):\n",
    "    print(f'Syntax error.')"
   ]
  },
  {
   "cell_type": "markdown",
   "metadata": {},
   "source": [
    "Setting the optional argument `write_tables` to `False` <B style=\"color:red\">is required</B> to prevent an obscure bug where the parser generator tries  to read an empty parse table."
   ]
  },
  {
   "cell_type": "code",
   "execution_count": null,
   "metadata": {},
   "outputs": [],
   "source": [
    "parser = yacc.yacc(write_tables=False, debug=True)"
   ]
  },
  {
   "cell_type": "markdown",
   "metadata": {},
   "source": [
    "Let's look at the action table that is generated.  Note that all *conflicts are resolved in favour of shifting*."
   ]
  },
  {
   "cell_type": "code",
   "execution_count": null,
   "metadata": {
    "scrolled": false
   },
   "outputs": [],
   "source": [
    "!cat parser.out"
   ]
  },
  {
   "cell_type": "code",
   "execution_count": null,
   "metadata": {},
   "outputs": [],
   "source": [
    "%run ../Chapter-07/AST-2-Dot.ipynb"
   ]
  },
  {
   "cell_type": "markdown",
   "metadata": {},
   "source": [
    "The function `test(s)` takes a string `s` as its argument an tries to parse this string.  If all goes well, an abstract syntax tree is returned.\n",
    "If the string can't be parsed,  an error message is printed by the parser."
   ]
  },
  {
   "cell_type": "code",
   "execution_count": null,
   "metadata": {},
   "outputs": [],
   "source": [
    "def test(s):\n",
    "    t = yacc.parse(s)\n",
    "    d = tuple2dot(t)\n",
    "    display(d)\n",
    "    return t"
   ]
  },
  {
   "cell_type": "markdown",
   "metadata": {},
   "source": [
    "The next example shows that this parser does not produce the abstract syntax that reflects the precedences of the arithmetical operators."
   ]
  },
  {
   "cell_type": "code",
   "execution_count": null,
   "metadata": {},
   "outputs": [],
   "source": [
    "test('1*2+3')"
   ]
  },
  {
   "cell_type": "markdown",
   "metadata": {},
   "source": [
    "Due to the fact that all shift-reduce conflicts are resolved in favor of shift, all operators have the same precedence and associate to the right."
   ]
  },
  {
   "cell_type": "code",
   "execution_count": null,
   "metadata": {},
   "outputs": [],
   "source": []
  }
 ],
 "metadata": {
  "kernelspec": {
   "display_name": "Python 3 (ipykernel)",
   "language": "python",
   "name": "python3"
  },
  "language_info": {
   "codemirror_mode": {
    "name": "ipython",
    "version": 3
   },
   "file_extension": ".py",
   "mimetype": "text/x-python",
   "name": "python",
   "nbconvert_exporter": "python",
   "pygments_lexer": "ipython3",
   "version": "3.11.5"
  },
  "varInspector": {
   "cols": {
    "lenName": 16,
    "lenType": 16,
    "lenVar": 40
   },
   "kernels_config": {
    "python": {
     "delete_cmd_postfix": "",
     "delete_cmd_prefix": "del ",
     "library": "var_list.py",
     "varRefreshCmd": "print(var_dic_list())"
    },
    "r": {
     "delete_cmd_postfix": ") ",
     "delete_cmd_prefix": "rm(",
     "library": "var_list.r",
     "varRefreshCmd": "cat(var_dic_list()) "
    }
   },
   "types_to_exclude": [
    "module",
    "function",
    "builtin_function_or_method",
    "instance",
    "_Feature"
   ],
   "window_display": false
  }
 },
 "nbformat": 4,
 "nbformat_minor": 4
}
