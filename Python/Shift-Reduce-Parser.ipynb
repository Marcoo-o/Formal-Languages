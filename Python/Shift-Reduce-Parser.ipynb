{
 "cells": [
  {
   "cell_type": "code",
   "execution_count": null,
   "metadata": {},
   "outputs": [],
   "source": [
    "from IPython.core.display import HTML\n",
    "with open (\"../style.css\", \"r\") as file:\n",
    "    css = file.read()\n",
    "HTML(css)"
   ]
  },
  {
   "cell_type": "markdown",
   "metadata": {},
   "source": [
    "# A Shift-Reduce Parser for Arithmetic Expressions\n",
    "\n",
    "In this notebook we implement a simple *recursive descend* parser for arithmetic expressions.\n",
    "This parser will implement the following grammar:\n",
    "$$\n",
    "  \\begin{eqnarray*}\n",
    "  \\mathrm{expr}        & \\rightarrow & \\mathrm{expr}\\;\\;\\texttt{'+'}\\;\\;\\mathrm{product}   \\\\\n",
    "                       & \\mid        & \\mathrm{expr}\\;\\;\\texttt{'-'}\\;\\;\\mathrm{product}   \\\\\n",
    "                       & \\mid        & \\mathrm{product}                                    \\\\[0.2cm]\n",
    "  \\mathrm{product}     & \\rightarrow & \\mathrm{product}\\;\\;\\texttt{'*'}\\;\\;\\mathrm{factor} \\\\\n",
    "                       & \\mid        & \\mathrm{product}\\;\\;\\texttt{'/'}\\;\\;\\mathrm{factor} \\\\\n",
    "                       & \\mid        & \\mathrm{factor}                                     \\\\[0.2cm]\n",
    "  \\mathrm{factor}      & \\rightarrow & \\texttt{'('} \\;\\;\\mathrm{expr} \\;\\;\\texttt{')'}     \\\\\n",
    "                       & \\mid        & \\texttt{NUMBER} \n",
    "  \\end{eqnarray*}\n",
    "$$"
   ]
  },
  {
   "cell_type": "code",
   "execution_count": null,
   "metadata": {},
   "outputs": [],
   "source": [
    "import re"
   ]
  },
  {
   "cell_type": "markdown",
   "metadata": {},
   "source": [
    "The function `tokenize` transforms the string `s` into a list of tokens. See below for an example."
   ]
  },
  {
   "cell_type": "code",
   "execution_count": null,
   "metadata": {},
   "outputs": [],
   "source": [
    "def tokenize(s):\n",
    "    '''Transform the string s into a list of tokens.  The string s\n",
    "       is supposed to represent an arithmetic expression.\n",
    "    '''\n",
    "    lexSpec = r'''([ \\t]+)        |  # blanks and tabs\n",
    "                  ([1-9][0-9]*|0) |  # number\n",
    "                  ([()])          |  # parentheses \n",
    "                  ([-+*/])        |  # arithmetical operators\n",
    "                  (.)                # unrecognized character\n",
    "               '''\n",
    "    tokenList = re.findall(lexSpec, s, re.VERBOSE)\n",
    "    result    = []\n",
    "    for ws, number, parenthesis, operator, error in tokenList:\n",
    "        if ws:        # skip blanks and tabs\n",
    "            continue\n",
    "        elif number:\n",
    "            result += [ 'int' ]\n",
    "        elif parenthesis:\n",
    "            result += [ parenthesis ]\n",
    "        elif operator:\n",
    "            result += [ operator ]\n",
    "        else:\n",
    "            result += [ f'ERROR({error})']\n",
    "    return result"
   ]
  },
  {
   "cell_type": "code",
   "execution_count": null,
   "metadata": {},
   "outputs": [],
   "source": [
    "tokenize('1 + 2 * (3 - 4)')"
   ]
  },
  {
   "cell_type": "code",
   "execution_count": null,
   "metadata": {},
   "outputs": [],
   "source": [
    "class ShiftReduceParser():\n",
    "    def __init__(self, actionTable, gotoTable, stateTable):\n",
    "        self.mActionTable = actionTable\n",
    "        self.mGotoTable   = gotoTable\n",
    "        self.mStateTable  = stateTable"
   ]
  },
  {
   "cell_type": "code",
   "execution_count": null,
   "metadata": {},
   "outputs": [],
   "source": [
    "def parse(self, TL):\n",
    "    index   = 0      # points to next token\n",
    "    Symbols = []     # stack of symbols\n",
    "    States  = ['s0'] # stack of states, s0 is start state\n",
    "    while True:\n",
    "        q = States[-1]\n",
    "        t = TL[index]\n",
    "        print(f'States:  [ {\", \".join(States)} ]')\n",
    "        print(f'Symbols: {\" \".join(Symbols)} | {\" \".join(TL[index:])}')\n",
    "        print(f'State:   {\", \".join(self.mStateTable[q])}')\n",
    "        p = self.mActionTable.get((q, t))\n",
    "        if p == None: \n",
    "            print(f'Action({q}, {t}) undefined.')\n",
    "            print('Syntax error!\\n')\n",
    "            return False\n",
    "        elif p[0] == 'shift':\n",
    "            s = p[1]\n",
    "            print(f'Shifting state {s}')\n",
    "            print(f'State:   {\", \".join(self.mStateTable[s])}\\n')\n",
    "            Symbols += [t]\n",
    "            States  += [s]\n",
    "            index   += 1\n",
    "        elif p == 'accept':\n",
    "            print('Accepting!\\n')\n",
    "            return True\n",
    "        else:\n",
    "            head, body = p\n",
    "            print(f'Reducing with rule {head} → {\" \".join(body)}')\n",
    "            n       = len(body)\n",
    "            Symbols = Symbols[:-n]\n",
    "            States  = States [:-n] \n",
    "            Symbols = Symbols + [head]\n",
    "            state   = States[-1]\n",
    "            States += [ self.mGotoTable[state, head] ]\n",
    "            print(f'State:    {\", \".join(self.mStateTable[self.mGotoTable[state, head]])}\\n')\n",
    "            \n",
    "ShiftReduceParser.parse = parse\n",
    "del parse"
   ]
  },
  {
   "cell_type": "code",
   "execution_count": null,
   "metadata": {},
   "outputs": [],
   "source": [
    "%run Parse-Table.ipynb"
   ]
  },
  {
   "cell_type": "markdown",
   "metadata": {},
   "source": [
    "## Testing"
   ]
  },
  {
   "cell_type": "code",
   "execution_count": null,
   "metadata": {},
   "outputs": [],
   "source": [
    "def test(s): \n",
    "    parser = ShiftReduceParser(actionTable, gotoTable, stateTable)\n",
    "    TL     = tokenize(s)\n",
    "    print(f'tokenlist: {TL}\\n')\n",
    "    if parser.parse(TL + ['EOF']):\n",
    "        print('Parse successful!')\n",
    "    else:\n",
    "        print('Parse failed!')"
   ]
  },
  {
   "cell_type": "code",
   "execution_count": null,
   "metadata": {
    "scrolled": true
   },
   "outputs": [],
   "source": [
    "test('1 + 2 * 3')"
   ]
  },
  {
   "cell_type": "code",
   "execution_count": null,
   "metadata": {
    "scrolled": true
   },
   "outputs": [],
   "source": [
    "test('0*11+22*(33-44)/(5-10*5/(4-3))')"
   ]
  },
  {
   "cell_type": "code",
   "execution_count": null,
   "metadata": {},
   "outputs": [],
   "source": [
    "test('11+22*(33-44)/(5-10*5/(4-3))')"
   ]
  },
  {
   "cell_type": "code",
   "execution_count": null,
   "metadata": {},
   "outputs": [],
   "source": []
  }
 ],
 "metadata": {
  "@webio": {
   "lastCommId": null,
   "lastKernelId": null
  },
  "kernelspec": {
   "display_name": "Python 3",
   "language": "python",
   "name": "python3"
  },
  "language_info": {
   "codemirror_mode": {
    "name": "ipython",
    "version": 3
   },
   "file_extension": ".py",
   "mimetype": "text/x-python",
   "name": "python",
   "nbconvert_exporter": "python",
   "pygments_lexer": "ipython3",
   "version": "3.9.0"
  },
  "varInspector": {
   "cols": {
    "lenName": 16,
    "lenType": 16,
    "lenVar": 40
   },
   "kernels_config": {
    "python": {
     "delete_cmd_postfix": "",
     "delete_cmd_prefix": "del ",
     "library": "var_list.py",
     "varRefreshCmd": "print(var_dic_list())"
    },
    "r": {
     "delete_cmd_postfix": ") ",
     "delete_cmd_prefix": "rm(",
     "library": "var_list.r",
     "varRefreshCmd": "cat(var_dic_list()) "
    }
   },
   "types_to_exclude": [
    "module",
    "function",
    "builtin_function_or_method",
    "instance",
    "_Feature"
   ],
   "window_display": false
  }
 },
 "nbformat": 4,
 "nbformat_minor": 4
}
