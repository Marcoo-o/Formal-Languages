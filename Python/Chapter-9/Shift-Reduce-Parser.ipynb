{
 "cells": [
  {
   "cell_type": "code",
   "execution_count": null,
   "metadata": {},
   "outputs": [],
   "source": [
    "from IPython.core.display import HTML\n",
    "with open (\"../style.css\", \"r\") as file:\n",
    "    css = file.read()\n",
    "HTML(css)"
   ]
  },
  {
   "cell_type": "code",
   "execution_count": null,
   "metadata": {},
   "outputs": [],
   "source": [
    "%load_ext nb_mypy"
   ]
  },
  {
   "cell_type": "markdown",
   "metadata": {},
   "source": [
    "# A Shift-Reduce Parser for Arithmetic Expressions\n",
    "\n",
    "In this notebook we implement a simple *recursive descend* parser for arithmetic expressions.\n",
    "This parser will implement the following grammar:\n",
    "$$\n",
    "  \\begin{eqnarray*}\n",
    "  \\mathrm{expr}        & \\rightarrow & \\mathrm{expr}\\;\\;\\texttt{'+'}\\;\\;\\mathrm{product}   \\\\\n",
    "                       & \\mid        & \\mathrm{expr}\\;\\;\\texttt{'-'}\\;\\;\\mathrm{product}   \\\\\n",
    "                       & \\mid        & \\mathrm{product}                                    \\\\[0.2cm]\n",
    "  \\mathrm{product}     & \\rightarrow & \\mathrm{product}\\;\\;\\texttt{'*'}\\;\\;\\mathrm{factor} \\\\\n",
    "                       & \\mid        & \\mathrm{product}\\;\\;\\texttt{'/'}\\;\\;\\mathrm{factor} \\\\\n",
    "                       & \\mid        & \\mathrm{factor}                                     \\\\[0.2cm]\n",
    "  \\mathrm{factor}      & \\rightarrow & \\texttt{'('} \\;\\;\\mathrm{expr} \\;\\;\\texttt{')'}     \\\\\n",
    "                       & \\mid        & \\texttt{NUMBER} \n",
    "  \\end{eqnarray*}\n",
    "$$"
   ]
  },
  {
   "cell_type": "code",
   "execution_count": null,
   "metadata": {},
   "outputs": [],
   "source": [
    "import re"
   ]
  },
  {
   "cell_type": "markdown",
   "metadata": {},
   "source": [
    "The function `tokenize` transforms the string `s` into a list of tokens. See below for an example."
   ]
  },
  {
   "cell_type": "code",
   "execution_count": null,
   "metadata": {},
   "outputs": [],
   "source": [
    "def tokenize(s: str) -> list[str]:\n",
    "    '''Transform the string s into a list of tokens.  The string s\n",
    "       is supposed to represent an arithmetic expression.\n",
    "    '''\n",
    "    lexSpec = r'''([ \\t\\n]+)      |  # blanks and tabs\n",
    "                  ([1-9][0-9]*|0) |  # number\n",
    "                  ([-+*/()])      |  # arithmetical operators\n",
    "                  (.)                # unrecognized character\n",
    "               '''\n",
    "    tokenList = re.findall(lexSpec, s, re.VERBOSE)\n",
    "    result    = []\n",
    "    for ws, number, operator, error in tokenList:\n",
    "        if ws:        # skip blanks and tabs\n",
    "            continue\n",
    "        elif number:\n",
    "            result += [ 'NUMBER' ]\n",
    "        elif operator:\n",
    "            result += [ operator ]\n",
    "        else:\n",
    "            result += [ f'ERROR({error})']\n",
    "    return result"
   ]
  },
  {
   "cell_type": "code",
   "execution_count": null,
   "metadata": {},
   "outputs": [],
   "source": [
    "tokenize('1 + 2 * (3 - 4)')"
   ]
  },
  {
   "cell_type": "code",
   "execution_count": null,
   "metadata": {},
   "outputs": [],
   "source": [
    "Rule       = tuple[str, tuple[str, ...]]\n",
    "Action     = str | tuple[str, str] | tuple[str, Rule]\n",
    "actionTable: dict[tuple[str, str], Action]\n",
    "gotoTable  : dict[tuple[str, str], str]\n",
    "stateTable : dict[str, set[str]]"
   ]
  },
  {
   "cell_type": "code",
   "execution_count": null,
   "metadata": {},
   "outputs": [],
   "source": [
    "class ShiftReduceParser():\n",
    "    def __init__(self, \n",
    "                 actionTable: dict[tuple[str, str], Action],\n",
    "                 gotoTable  : dict[tuple[str, str], str], \n",
    "                 stateTable : dict[str, set[str]]):\n",
    "        self.mActionTable = actionTable\n",
    "        self.mGotoTable   = gotoTable\n",
    "        self.mStateTable  = stateTable\n",
    "        \n",
    "    def parse(self, TL: list[str]) -> bool:\n",
    "        return None # type: ignore"
   ]
  },
  {
   "cell_type": "code",
   "execution_count": null,
   "metadata": {},
   "outputs": [],
   "source": [
    "def parse(self, TL: list[str]) -> bool:\n",
    "    index   = 0      # points to next token\n",
    "    Symbols: list[str] = []     # stack of symbols\n",
    "    States : list[str] = ['s0'] # stack of states, s0 is start state\n",
    "    TL     += ['EOF']\n",
    "    while True:\n",
    "        q = States[-1]\n",
    "        t = TL[index]\n",
    "        print(f'States:  [ {\", \".join(States)} ]')\n",
    "        print('Symbols:', ' '.join(Symbols + ['|'] + TL[index:]).strip())\n",
    "        print('State:   {', \", \".join(self.mStateTable[q]), '}')\n",
    "        match self.mActionTable.get((q, t), 'error'):\n",
    "            case 'error': \n",
    "                print(f'Action({q}, {t}) undefined.')\n",
    "                print('Syntax error!\\n')\n",
    "                return False\n",
    "            case 'accept':\n",
    "                print('Accepting!\\n')\n",
    "                return True\n",
    "            case 'shift', s:\n",
    "                print(f'Shifting state {s}')\n",
    "                print('State:   {', ', '.join(self.mStateTable[s]), '}\\n')\n",
    "                Symbols += [t]\n",
    "                States  += [s]\n",
    "                index   += 1\n",
    "            case 'reduce', rule:\n",
    "                head, body = rule\n",
    "                print(f'Reducing with rule {head} → {\" \".join(body)}')\n",
    "                n       = len(body)\n",
    "                Symbols = Symbols[:-n]\n",
    "                States  = States [:-n] \n",
    "                Symbols = Symbols + [head]\n",
    "                state   = States[-1]\n",
    "                States += [ self.mGotoTable[state, head] ]\n",
    "                print('State:   {', ', '.join(self.mStateTable[self.mGotoTable[state, head]]), '}\\n')\n",
    "            \n",
    "ShiftReduceParser.parse = parse # type: ignore\n",
    "del parse"
   ]
  },
  {
   "cell_type": "code",
   "execution_count": null,
   "metadata": {},
   "outputs": [],
   "source": [
    "%run Parse-Table.ipynb"
   ]
  },
  {
   "cell_type": "markdown",
   "metadata": {},
   "source": [
    "## Testing"
   ]
  },
  {
   "cell_type": "code",
   "execution_count": null,
   "metadata": {},
   "outputs": [],
   "source": [
    "def test(s: str) -> None: \n",
    "    parser = ShiftReduceParser(actionTable, gotoTable, stateTable)\n",
    "    TL     = tokenize(s)\n",
    "    print(f'tokenlist: {TL}\\n')\n",
    "    if parser.parse(TL):\n",
    "        print('Parse successful!')\n",
    "    else:\n",
    "        print('Parse failed!')"
   ]
  },
  {
   "cell_type": "code",
   "execution_count": null,
   "metadata": {
    "scrolled": false
   },
   "outputs": [],
   "source": [
    "test('1 + 2 * 3')"
   ]
  },
  {
   "cell_type": "code",
   "execution_count": null,
   "metadata": {
    "scrolled": true
   },
   "outputs": [],
   "source": [
    "test('1 + 2 * (3 - 4)')"
   ]
  },
  {
   "cell_type": "code",
   "execution_count": null,
   "metadata": {},
   "outputs": [],
   "source": []
  }
 ],
 "metadata": {
  "@webio": {
   "lastCommId": null,
   "lastKernelId": null
  },
  "kernelspec": {
   "display_name": "Python 3 (ipykernel)",
   "language": "python",
   "name": "python3"
  },
  "language_info": {
   "codemirror_mode": {
    "name": "ipython",
    "version": 3
   },
   "file_extension": ".py",
   "mimetype": "text/x-python",
   "name": "python",
   "nbconvert_exporter": "python",
   "pygments_lexer": "ipython3",
   "version": "3.11.5"
  },
  "varInspector": {
   "cols": {
    "lenName": 16,
    "lenType": 16,
    "lenVar": 40
   },
   "kernels_config": {
    "python": {
     "delete_cmd_postfix": "",
     "delete_cmd_prefix": "del ",
     "library": "var_list.py",
     "varRefreshCmd": "print(var_dic_list())"
    },
    "r": {
     "delete_cmd_postfix": ") ",
     "delete_cmd_prefix": "rm(",
     "library": "var_list.r",
     "varRefreshCmd": "cat(var_dic_list()) "
    }
   },
   "types_to_exclude": [
    "module",
    "function",
    "builtin_function_or_method",
    "instance",
    "_Feature"
   ],
   "window_display": false
  }
 },
 "nbformat": 4,
 "nbformat_minor": 4
}
