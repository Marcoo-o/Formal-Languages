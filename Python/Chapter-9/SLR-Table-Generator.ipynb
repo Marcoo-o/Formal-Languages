{
 "cells": [
  {
   "cell_type": "code",
   "execution_count": 1,
   "metadata": {},
   "outputs": [
    {
     "data": {
      "text/html": [
       "<link href='http://fonts.googleapis.com/css?family=Alegreya+Sans:100,300,400,500,700,800,900,100italic,300italic,400italic,500italic,700italic,800italic,900italic' rel='stylesheet' type='text/css'>\n",
       "<link href='http://fonts.googleapis.com/css?family=Arvo:400,700,400italic' rel='stylesheet' type='text/css'>\n",
       "<link href='http://fonts.googleapis.com/css?family=PT+Mono' rel='stylesheet' type='text/css'>\n",
       "<link href='http://fonts.googleapis.com/css?family=Shadows+Into+Light' rel='stylesheet' type='text/css'>\n",
       "<link href='http://fonts.googleapis.com/css?family=Philosopher:400,700,400italic,700italic' rel='stylesheet' type='text/css'>\n",
       "\n",
       "<style>\n",
       "\n",
       "@font-face {\n",
       "    font-family: \"Computer Modern\";\n",
       "    src: url('http://mirrors.ctan.org/fonts/cm-unicode/fonts/otf/cmunss.otf');\n",
       "}\n",
       "\n",
       ".container { width: 100% }\n",
       "\n",
       "/* Formatting for header cells */\n",
       ".text_cell_render h1 {\n",
       "    font-family: 'Philosopher', sans-serif;\n",
       "    font-weight: 400;\n",
       "    font-size: 2.2em;\n",
       "    line-height: 100%;\n",
       "    color: rgb(0, 80, 120);\n",
       "    margin-bottom: 0.1em;\n",
       "    margin-top: 0.1em;\n",
       "    display: block;\n",
       "}\t\n",
       ".text_cell_render h2 {\n",
       "    font-family: 'Philosopher', serif;\n",
       "    font-weight: 400;\n",
       "    font-size: 1.9em;\n",
       "    line-height: 100%;\n",
       "    color: rgb(200,100,0);\n",
       "    margin-bottom: 0.1em;\n",
       "    margin-top: 0.1em;\n",
       "    display: block;\n",
       "}\t\n",
       "\n",
       ".text_cell_render h3 {\n",
       "    font-family: 'Philosopher', serif;\n",
       "    margin-top:12px;\n",
       "    margin-bottom: 3px;\n",
       "    font-style: italic;\n",
       "    color: rgb(94,127,192);\n",
       "}\n",
       "\n",
       ".text_cell_render h4 {\n",
       "    font-family: 'Philosopher', serif;\n",
       "}\n",
       "\n",
       ".text_cell_render h5 {\n",
       "    font-family: 'Alegreya Sans', sans-serif;\n",
       "    font-weight: 300;\n",
       "    font-size: 16pt;\n",
       "    color: grey;\n",
       "    font-style: italic;\n",
       "    margin-bottom: .1em;\n",
       "    margin-top: 0.1em;\n",
       "    display: block;\n",
       "}\n",
       "\n",
       ".text_cell_render h6 {\n",
       "    font-family: 'PT Mono', sans-serif;\n",
       "    font-weight: 300;\n",
       "    font-size: 10pt;\n",
       "    color: grey;\n",
       "    margin-bottom: 1px;\n",
       "    margin-top: 1px;\n",
       "}\n",
       "\n",
       ".text_cell_render em {\n",
       "    font-family: 'Philosopher', sans-serif;\n",
       "    color:        blue;\n",
       "    background-color: rgb(255,220,180);\n",
       "    font-size:    110%;\n",
       "    margin-left:   2px;\n",
       "    margin-right:  2px;\n",
       "    font-weight:   100;\n",
       "}\n",
       "\n",
       ".text_cell_render b {\n",
       "    color:            rgb(255,195,195);\n",
       "    background-color: rgb(0,0,0);\n",
       "    font-size:    110%;\n",
       "    margin-left:   2px;\n",
       "    margin-right:  2px;\n",
       "    font-weight:   650;\n",
       "}\n",
       "\n",
       ".text_cell_render tt {\n",
       "    font-size:    120%;\n",
       "    margin-left:   2px;\n",
       "    margin-right:  2px;\n",
       "    font-weight:   150;\n",
       "}\n",
       "\n",
       ".Codemirror {\n",
       "    font-family: \"PT Mono\";\n",
       "    font-size: 100%;\n",
       "}\n",
       "\n",
       "</style>\n",
       "\n"
      ],
      "text/plain": [
       "<IPython.core.display.HTML object>"
      ]
     },
     "execution_count": 1,
     "metadata": {},
     "output_type": "execute_result"
    }
   ],
   "source": [
    "from IPython.core.display import HTML\n",
    "with open('../../style.css', 'r') as file:\n",
    "    css = file.read()\n",
    "HTML(css)"
   ]
  },
  {
   "cell_type": "markdown",
   "metadata": {},
   "source": [
    "# Implementing an SLR-Table-Generator"
   ]
  },
  {
   "cell_type": "markdown",
   "metadata": {},
   "source": [
    "## A Grammar for Grammars"
   ]
  },
  {
   "cell_type": "markdown",
   "metadata": {},
   "source": [
    "As the goal is to generate an *SLR-table-generator* we first need to implement a parser for context free grammars.\n",
    "The file `arith.g` contains an example grammar that describes arithmetic expressions."
   ]
  },
  {
   "cell_type": "code",
   "execution_count": 2,
   "metadata": {},
   "outputs": [
    {
     "name": "stdout",
     "output_type": "stream",
     "text": [
      "expr: expr '+' product\r\n",
      "    | expr '-' product\r\n",
      "    | product\r\n",
      "    ;\r\n",
      " \r\n",
      "product: product '*' factor\r\n",
      "       | product '/' factor\r\n",
      "       | factor\r\n",
      "       ;\r\n",
      "       \r\n",
      "factor: '(' expr ')'\r\n",
      "      | NUMBER\r\n",
      "      ;\r\n"
     ]
    }
   ],
   "source": [
    "!cat Examples/arith.g"
   ]
  },
  {
   "cell_type": "markdown",
   "metadata": {},
   "source": [
    "We use <span style=\"font-variant:small-caps;\">Antlr</span> to develop a parser for context free grammars.  The pure grammar used to parse context free grammars is stored in the file `Pure.g4`.  It is similar to the grammar that we have already used to implement *Earley's algorithm*, but allows additionally the use of the operator `|`, so that all grammar rules that define a variable can be combined in one rule."
   ]
  },
  {
   "cell_type": "code",
   "execution_count": 3,
   "metadata": {},
   "outputs": [
    {
     "name": "stdout",
     "output_type": "stream",
     "text": [
      "grammar Pure;\r\n",
      "\r\n",
      "start: grmrl+;\r\n",
      "\r\n",
      "grmrl: VARIABLE ':' body ('|' body)* ';';\r\n",
      "\r\n",
      "body: item* ;\r\n",
      " \r\n",
      "item : VARIABLE \r\n",
      "     | TOKEN  \r\n",
      "     | LITERAL\r\n",
      "     ;\r\n",
      "\r\n",
      "VARIABLE: [a-z][a-zA-Z_]*;\r\n",
      "TOKEN   : [A-Z][a-zA-Z_]*;\r\n",
      "LITERAL : '\\'' ~('\\'')+ '\\'';\r\n",
      "        \r\n",
      "WS      : [ \\t\\n\\r]     -> skip;\r\n",
      "COMMENT : '//' ~('\\n')* -> skip;\r\n"
     ]
    }
   ],
   "source": [
    "!cat Pure.g4"
   ]
  },
  {
   "cell_type": "markdown",
   "metadata": {},
   "source": [
    "The annotated grammar is stored in the file `Grammar.g4`.\n",
    "The parser will return a list of grammar rules, where each rule of the form\n",
    "$$ a \\rightarrow \\beta $$\n",
    "is stored as the tuple `(a,) + 𝛽`."
   ]
  },
  {
   "cell_type": "code",
   "execution_count": 4,
   "metadata": {},
   "outputs": [
    {
     "name": "stdout",
     "output_type": "stream",
     "text": [
      "     1\tgrammar Grammar;\r\n",
      "     2\t\r\n",
      "     3\tstart returns [g]\r\n",
      "     4\t    : {Rules = []}\r\n",
      "     5\t      (grmrl {Rules += $grmrl.rl})+\r\n",
      "     6\t      {$g = Rules}\r\n",
      "     7\t    ;\r\n",
      "     8\t\r\n",
      "     9\tgrmrl returns [rl]\r\n",
      "    10\t    : {RuleList = []}\r\n",
      "    11\t      v=VARIABLE ':' b1=body {RuleList.append(($v.text,) + $b1.il)}\r\n",
      "    12\t      ('|' b2=body {RuleList.append(($v.text,) + $b2.il)})* ';' \r\n",
      "    13\t      {$rl = RuleList}\r\n",
      "    14\t    ;\r\n",
      "    15\t\r\n",
      "    16\tbody returns [il]\r\n",
      "    17\t    : {Body = []} (i=item {Body.append($i.atom)})*\r\n",
      "    18\t      {$il = tuple(Body)}\r\n",
      "    19\t    ;\r\n",
      "    20\t\r\n",
      "    21\titem returns [atom]\r\n",
      "    22\t    : v=VARIABLE {$atom = $v.text}\r\n",
      "    23\t    | t=TOKEN    {$atom = $t.text}\r\n",
      "    24\t    | l=LITERAL  {$atom = $l.text}\r\n",
      "    25\t    ;\r\n",
      "    26\t\r\n",
      "    27\tVARIABLE: [a-z][a-zA-Z_]*;\r\n",
      "    28\tTOKEN   : [A-Z][a-zA-Z_]*;\r\n",
      "    29\tLITERAL : '\\'' ~('\\'')+ '\\'';\r\n",
      "    30\t        \r\n",
      "    31\tWS      : [ \\t\\n\\r]     -> skip ;\r\n",
      "    32\tCOMMENT : '//' ~('\\n')* -> skip ;\r\n"
     ]
    }
   ],
   "source": [
    "!cat -n Grammar.g4"
   ]
  },
  {
   "cell_type": "markdown",
   "metadata": {},
   "source": [
    "We start by generating both scanner and parser.  "
   ]
  },
  {
   "cell_type": "code",
   "execution_count": 5,
   "metadata": {},
   "outputs": [],
   "source": [
    "!antlr4 -Dlanguage=Python3 Grammar.g4"
   ]
  },
  {
   "cell_type": "code",
   "execution_count": 6,
   "metadata": {},
   "outputs": [],
   "source": [
    "from GrammarLexer  import GrammarLexer\n",
    "from GrammarParser import GrammarParser"
   ]
  },
  {
   "cell_type": "code",
   "execution_count": 7,
   "metadata": {},
   "outputs": [
    {
     "name": "stderr",
     "output_type": "stream",
     "text": [
      "Version 1.0.5\n"
     ]
    }
   ],
   "source": [
    "%load_ext nb_mypy"
   ]
  },
  {
   "cell_type": "markdown",
   "metadata": {},
   "source": [
    "We define a few *type aliases* in order to make the types more readable."
   ]
  },
  {
   "cell_type": "code",
   "execution_count": 8,
   "metadata": {},
   "outputs": [],
   "source": [
    "Variable = str\n",
    "Token    = str\n",
    "Symbol   = Variable | Token\n",
    "Symbols  = tuple[Symbol, ...]"
   ]
  },
  {
   "cell_type": "markdown",
   "metadata": {},
   "source": [
    "## The Class `GrammarRule`"
   ]
  },
  {
   "cell_type": "markdown",
   "metadata": {},
   "source": [
    "The class `GrammarRule` is used to store a single grammar rule.  As we have to use objects of type `GrammarRule` as *keys* in a dictionary later, we have to provide the methods `__eq__`, `__ne__`, and `__hash__`."
   ]
  },
  {
   "cell_type": "code",
   "execution_count": 9,
   "metadata": {},
   "outputs": [],
   "source": [
    "class GrammarRule:\n",
    "    def __init__(self, variable: Variable, body: Symbols) -> None:\n",
    "        self.mVariable: Variable = variable\n",
    "        self.mBody    : Symbols  = tuple(body)\n",
    "        \n",
    "    def __eq__(self, other) -> bool:\n",
    "        return isinstance(other, GrammarRule)    and \\\n",
    "               self.mVariable == other.mVariable and \\\n",
    "               self.mBody     == other.mBody\n",
    "    \n",
    "    def __ne__(self, other) -> bool:\n",
    "        return not self.__eq__(other)\n",
    "    \n",
    "    def __hash__(self) -> int:\n",
    "        return hash(self.__repr__())\n",
    "    \n",
    "    def __repr__(self) -> str:\n",
    "        return f'{self.mVariable} → {\" \".join(self.mBody)}'"
   ]
  },
  {
   "cell_type": "markdown",
   "metadata": {},
   "source": [
    "The function `parse_grammar` takes a string `filename` as its argument and returns the grammar that is stored in the specified file.  The grammar is represented as list of rules.  Each rule is represented as a tuple.  The example below will clarify this structure."
   ]
  },
  {
   "cell_type": "code",
   "execution_count": 10,
   "metadata": {},
   "outputs": [],
   "source": [
    "import antlr4"
   ]
  },
  {
   "cell_type": "code",
   "execution_count": 11,
   "metadata": {},
   "outputs": [],
   "source": [
    "def parse_grammar(filename: str) -> list[GrammarRule]:\n",
    "    input_stream  = antlr4.FileStream(filename, encoding=\"utf-8\")\n",
    "    lexer         = GrammarLexer(input_stream)       # type: ignore\n",
    "    token_stream  = antlr4.CommonTokenStream(lexer)  \n",
    "    parser        = GrammarParser(token_stream)      # type: ignore\n",
    "    grammar       = parser.start()\n",
    "    return [GrammarRule(head, body) for head, *body in grammar.g]"
   ]
  },
  {
   "cell_type": "code",
   "execution_count": 12,
   "metadata": {
    "scrolled": true
   },
   "outputs": [
    {
     "data": {
      "text/plain": [
       "[expr → expr '+' product,\n",
       " expr → expr '-' product,\n",
       " expr → product,\n",
       " product → product '*' factor,\n",
       " product → product '/' factor,\n",
       " product → factor,\n",
       " factor → '(' expr ')',\n",
       " factor → NUMBER]"
      ]
     },
     "execution_count": 12,
     "metadata": {},
     "output_type": "execute_result"
    }
   ],
   "source": [
    "grammar = parse_grammar('Examples/arith.g')\n",
    "grammar"
   ]
  },
  {
   "cell_type": "markdown",
   "metadata": {},
   "source": [
    "Given a string `name`, which is either a *variable*, a *token*, or a *literal*, the function `is_var` checks whether `name` is a variable.  The function can distinguish variable names from tokens and literals because variable names consist only of lower case letters, while tokens are all uppercase and literals start with the character \"`'`\"."
   ]
  },
  {
   "cell_type": "code",
   "execution_count": 13,
   "metadata": {},
   "outputs": [],
   "source": [
    "def is_var(name: Symbol) -> bool:\n",
    "    return name[0] != \"'\" and name.islower()"
   ]
  },
  {
   "cell_type": "markdown",
   "metadata": {},
   "source": [
    "**Fun Fact:** The invocation of `\"'return'\".islower()` returns `True`.  This is the reason that we have to test that\n",
    "`name` does not start with a `\"'\"` character because otherwise keywords like `'return'` or `'while'` appearing in a grammar would be mistaken for variables."
   ]
  },
  {
   "cell_type": "code",
   "execution_count": 14,
   "metadata": {},
   "outputs": [
    {
     "data": {
      "text/plain": [
       "True"
      ]
     },
     "execution_count": 14,
     "metadata": {},
     "output_type": "execute_result"
    }
   ],
   "source": [
    "\"'return'\".islower()"
   ]
  },
  {
   "cell_type": "markdown",
   "metadata": {},
   "source": [
    "Given a list `Rules` of `GrammarRules`, the function `collect_variables(Rules)` returns the set of all *variables* occuring in `Rules`."
   ]
  },
  {
   "cell_type": "code",
   "execution_count": 15,
   "metadata": {},
   "outputs": [],
   "source": [
    "def collect_variables(Rules: list[GrammarRule]) -> set[Variable]:\n",
    "    Variables: set[str] = set()\n",
    "    for rule in Rules:\n",
    "        Variables.add(rule.mVariable)\n",
    "        for item in rule.mBody:\n",
    "            if is_var(item):\n",
    "                Variables.add(item)\n",
    "    return Variables"
   ]
  },
  {
   "cell_type": "code",
   "execution_count": 16,
   "metadata": {},
   "outputs": [
    {
     "data": {
      "text/plain": [
       "{'expr', 'factor', 'product'}"
      ]
     },
     "execution_count": 16,
     "metadata": {},
     "output_type": "execute_result"
    }
   ],
   "source": [
    "collect_variables(grammar)"
   ]
  },
  {
   "cell_type": "markdown",
   "metadata": {},
   "source": [
    "Given a set `Rules` of `GrammarRules`, the function `collect_tokens(Rules)` returns the set of all *tokens* and *literals* occuring in `Rules`."
   ]
  },
  {
   "cell_type": "code",
   "execution_count": 17,
   "metadata": {},
   "outputs": [],
   "source": [
    "def collect_tokens(Rules: list[GrammarRule]) -> set[Token]:\n",
    "    Tokens: set[str] = set()\n",
    "    for rule in Rules:\n",
    "        for item in rule.mBody:\n",
    "            if not is_var(item):\n",
    "                Tokens.add(item)\n",
    "    return Tokens"
   ]
  },
  {
   "cell_type": "code",
   "execution_count": 18,
   "metadata": {},
   "outputs": [
    {
     "data": {
      "text/plain": [
       "{\"'('\", \"')'\", \"'*'\", \"'+'\", \"'-'\", \"'/'\", 'NUMBER'}"
      ]
     },
     "execution_count": 18,
     "metadata": {},
     "output_type": "execute_result"
    }
   ],
   "source": [
    "collect_tokens(grammar)"
   ]
  },
  {
   "cell_type": "markdown",
   "metadata": {},
   "source": [
    "## Marked Rules"
   ]
  },
  {
   "cell_type": "markdown",
   "metadata": {},
   "source": [
    "The class `MarkedRule` stores a single *marked rule* of the form\n",
    "$$ v \\rightarrow \\alpha \\bullet \\beta $$\n",
    "where the *variable* $v$ is stored in the member variable `mVariable`, while $\\alpha$ and $\\beta$ are stored in the variables `mAlpha`and `mBeta` respectively.  These variables are assumed to contain tuples of *grammar symbols*.  A *grammar symbol* is either\n",
    "- a *variable*,\n",
    "- a *token*, or\n",
    "- a *literal*, i.e. a string enclosed in single quotes.\n",
    "\n",
    "\n",
    "Later, we need to maintain sets of *marked rules* to represent *states*.  Therefore, we have to define the methods `__eq__`, `__ne__`, and `__hash__`."
   ]
  },
  {
   "cell_type": "code",
   "execution_count": 19,
   "metadata": {},
   "outputs": [],
   "source": [
    "class MarkedRule():\n",
    "    def __init__(self, variable: Variable, alpha: Symbols, beta: Symbols) -> None:\n",
    "        self.mVariable: Variable = variable\n",
    "        self.mAlpha   : Symbols  = alpha\n",
    "        self.mBeta    : Symbols  = beta\n",
    "        \n",
    "    def __eq__(self, other) -> bool:\n",
    "        return isinstance(other, MarkedRule)     and \\\n",
    "               self.mVariable == other.mVariable and \\\n",
    "               self.mAlpha    == other.mAlpha    and \\\n",
    "               self.mBeta     == other.mBeta\n",
    "    \n",
    "    def __ne__(self, other) -> bool:\n",
    "        return not self.__eq__(other)\n",
    "    \n",
    "    def __hash__(self) -> int:\n",
    "        return hash(self.__repr__())\n",
    "    \n",
    "    def __repr__(self) -> str:\n",
    "        alphaStr = ' '.join(self.mAlpha)\n",
    "        betaStr  = ' '.join(self.mBeta)\n",
    "        return f'{self.mVariable} → {alphaStr} • {betaStr}'"
   ]
  },
  {
   "cell_type": "markdown",
   "metadata": {},
   "source": [
    "Given a *marked rule* `self`, the function `is_complete` checks, whether the *marked rule* `self` has the form\n",
    "$$ c \\rightarrow \\alpha\\; \\bullet,$$\n",
    "i.e. it checks, whether the $\\bullet$ is at the end of the grammar rule."
   ]
  },
  {
   "cell_type": "code",
   "execution_count": 20,
   "metadata": {},
   "outputs": [],
   "source": [
    "def is_complete(self: MarkedRule) -> bool:\n",
    "    return len(self.mBeta) == 0\n",
    "\n",
    "MarkedRule.is_complete = is_complete # type: ignore\n",
    "del is_complete"
   ]
  },
  {
   "cell_type": "markdown",
   "metadata": {},
   "source": [
    "Given a *marked rule* `self` of the form\n",
    "$$ c \\rightarrow \\alpha \\bullet X\\, \\delta, $$\n",
    "the function `symbol_after_dot` returns the *symbol* $X$. If there is no symbol after the $\\bullet$, the method returns `None`."
   ]
  },
  {
   "cell_type": "code",
   "execution_count": 21,
   "metadata": {},
   "outputs": [],
   "source": [
    "def symbol_after_dot(self: MarkedRule) -> Symbol | None:\n",
    "    if len(self.mBeta) > 0:\n",
    "        return self.mBeta[0]\n",
    "    return None\n",
    "\n",
    "MarkedRule.symbol_after_dot = symbol_after_dot # type: ignore\n",
    "del symbol_after_dot"
   ]
  },
  {
   "cell_type": "markdown",
   "metadata": {},
   "source": [
    "Given a marked rule of the form\n",
    "$$ c \\rightarrow \\alpha \\bullet b \\delta, $$\n",
    "this function returns the variable $b$ following the dot.  If there is no variable following the dot, the function returns `None`.  "
   ]
  },
  {
   "cell_type": "code",
   "execution_count": 22,
   "metadata": {},
   "outputs": [],
   "source": [
    "def next_var(self: MarkedRule) -> Variable | None:\n",
    "    if len(self.mBeta) > 0:\n",
    "        var = self.mBeta[0]\n",
    "        if is_var(var):\n",
    "            return var\n",
    "    return None\n",
    "\n",
    "MarkedRule.next_var = next_var # type: ignore\n",
    "del next_var"
   ]
  },
  {
   "cell_type": "markdown",
   "metadata": {},
   "source": [
    "The function `move_dot(self)` transforms a *marked rule*  of the form \n",
    "$$ c \\rightarrow \\alpha \\bullet X\\, \\beta $$\n",
    "into a *marked rule* of the form\n",
    "$$ c \\rightarrow \\alpha\\, X \\bullet \\beta, $$\n",
    "i.e. the $\\bullet$ is moved over the next symbol.  Invocation of this method assumes that there is a symbol\n",
    "following the $\\bullet$."
   ]
  },
  {
   "cell_type": "code",
   "execution_count": 23,
   "metadata": {},
   "outputs": [],
   "source": [
    "def move_dot(self: MarkedRule) -> MarkedRule:\n",
    "    return MarkedRule(self.mVariable, \n",
    "                      self.mAlpha + (self.mBeta[0],), \n",
    "                      self.mBeta[1:])\n",
    "\n",
    "MarkedRule.move_dot = move_dot # type: ignore\n",
    "del move_dot"
   ]
  },
  {
   "cell_type": "markdown",
   "metadata": {},
   "source": [
    "The function `to_rule(self)` turns the *marked rule* `self` into  a `GrammarRule`, i.e. the *marked rule*\n",
    "$$ c \\rightarrow \\alpha \\bullet \\beta $$\n",
    "is turned into the grammar rule\n",
    "$$ c \\rightarrow \\alpha\\, \\beta. $$"
   ]
  },
  {
   "cell_type": "code",
   "execution_count": 24,
   "metadata": {},
   "outputs": [],
   "source": [
    "def to_rule(self: MarkedRule) -> GrammarRule:\n",
    "    return GrammarRule(self.mVariable, self.mAlpha + self.mBeta)\n",
    "\n",
    "MarkedRule.to_rule = to_rule # type: ignore\n",
    "del to_rule"
   ]
  },
  {
   "cell_type": "markdown",
   "metadata": {},
   "source": [
    "## SLR-Table-Generation"
   ]
  },
  {
   "cell_type": "markdown",
   "metadata": {},
   "source": [
    "The class `Grammar` represents a context free grammar.  It stores a list of the `GrammarRules` of the given grammar.\n",
    "Each grammar rule is of the form\n",
    "$$ a \\rightarrow \\beta $$\n",
    "where $\\beta$ is a tuple of variables, tokens, and literals.\n",
    "The start symbol is assumed to be the variable on the left hand side of the first rule. The grammar is *augmented* with the rule\n",
    "$$ \\widehat{s} \\rightarrow s\\, \\$. $$\n",
    "Here $s$ is the start variable of the given grammar and $\\widehat{s}$ is a new variable that is the start variable of the *augmented grammar*. The symbol `$` denotes the end of input.  The non-obvious member variables of the class `Grammar` have the following interpretation\n",
    "- `mStates` is the set of all states of the *SLR-parser*.  These states are sets of *marked rules*.\n",
    "- `mStateNames`is a dictionary assigning names of the form `s0`, `s1`, $\\cdots$, `sn` to the states stored in \n",
    "  `mStates`.  The functions `action` and `goto` will be defined for *state names*, not for *states*, because \n",
    "  otherwise the table representing these functions would become both huge and unreadable.\n",
    "- `mConflicts` is a Boolean variable that will be set to true if the table generation discovers \n",
    "  *shift/reduce conflicts* or *reduce/reduce conflicts*."
   ]
  },
  {
   "cell_type": "code",
   "execution_count": 29,
   "metadata": {},
   "outputs": [],
   "source": [
    "class Grammar():\n",
    "    def __init__(self, Rules: list[GrammarRule]):\n",
    "        self.mRules     : list[GrammarRule] = Rules\n",
    "        self.mStart     : Variable          = Rules[0].mVariable\n",
    "        self.mVariables : set[Variable]     = collect_variables(Rules)\n",
    "        self.mTokens    : set[Token]        = collect_tokens(Rules)\n",
    "        self.mStates    : set[MarkedRule]   = set()\n",
    "        self.mConflicts : bool              = False\n",
    "        self.mStateNames: dict[str, set[MarkedRule]] = {}\n",
    "        self.mVariables.add('ŝ')\n",
    "        self.mTokens.add('$') # short fo EOF\n",
    "        self.mRules.append(GrammarRule('ŝ', (self.mStart, '$'))) # augment the grammar\n",
    "        self.mRuleNames: dict[GrammarRule, str] = {} \n",
    "        self.compute_tables()                                    # type: ignore"
   ]
  },
  {
   "cell_type": "markdown",
   "metadata": {},
   "source": [
    "Given a set of `Variables`, the function `initialize_dictionary` returns a dictionary that assigns the empty set to all variables.\n",
    "This function is needed to initialize the member variable `mFirst` and `mFollow` that are dictionaries storing the *first-set* and\n",
    "*follow-sets* of the syntactical variables."
   ]
  },
  {
   "cell_type": "code",
   "execution_count": 30,
   "metadata": {},
   "outputs": [],
   "source": [
    "def initialize_dictionary(Variables: set[Variable]) -> dict[Variable, set[Token]]:\n",
    "    return { a: set() for a in Variables }"
   ]
  },
  {
   "cell_type": "markdown",
   "metadata": {},
   "source": [
    "Given a `Grammar`, the function `compute_tables` computes\n",
    "- the sets `First(v)` and `Follow(v)` for every variable `v`,\n",
    "- the set of all *states* of the *SLR-Parser*,\n",
    "- the *action table*, and\n",
    "- the *goto table*. \n",
    "\n",
    "Given a grammar `g`,\n",
    "- the set `g.mFirst` is a dictionary such that `g.mFirst[a] = First(a)` and\n",
    "- the set `g.mFollow` is a dictionary such that `g.mFollow[a] = Follow(a)` for all variables `a`."
   ]
  },
  {
   "cell_type": "code",
   "execution_count": 31,
   "metadata": {},
   "outputs": [],
   "source": [
    "def compute_tables(self: Grammar) -> None:\n",
    "    self.mFirst  = initialize_dictionary(self.mVariables) # type: ignore\n",
    "    self.mFollow = initialize_dictionary(self.mVariables) # type: ignore\n",
    "    self.compute_first()         # type: ignore\n",
    "    self.compute_follow()        # type: ignore\n",
    "    self.compute_rule_names()    # type: ignore\n",
    "    self.all_states()            # type: ignore\n",
    "    self.compute_action_table()  # type: ignore\n",
    "    self.compute_goto_table()    # type: ignore\n",
    "    \n",
    "Grammar.compute_tables = compute_tables # type: ignore\n",
    "del compute_tables"
   ]
  },
  {
   "cell_type": "markdown",
   "metadata": {},
   "source": [
    "The function `compute_rule_names` assigns a unique name to each *rule* of the grammar.  These names are used later\n",
    "to represent *reduce actions* in the *action table*."
   ]
  },
  {
   "cell_type": "code",
   "execution_count": 32,
   "metadata": {},
   "outputs": [],
   "source": [
    "def compute_rule_names(self: Grammar) -> None:\n",
    "    counter = 0\n",
    "    for rule in self.mRules:\n",
    "        self.mRuleNames[rule] = 'r' + str(counter)\n",
    "        counter += 1\n",
    "        \n",
    "Grammar.compute_rule_names = compute_rule_names # type: ignore\n",
    "del compute_rule_names"
   ]
  },
  {
   "cell_type": "markdown",
   "metadata": {},
   "source": [
    "The function `compute_first(self)` computes the sets $\\texttt{First}(c)$ for all variables $c$ and stores them in the dictionary `mFirst`.  Abstractly, given a variable $c$ the function $\\texttt{First}(c)$ is the set of all tokens that can start a string that is derived from $c$:\n",
    "$$\\texttt{First}(\\texttt{c}) := \n",
    "  \\Bigl\\{ t \\in T \\Bigm| \\exists \\gamma \\in (V \\cup T)^*: \\texttt{c} \\Rightarrow^* t\\,\\gamma \\Bigr\\}.\n",
    "$$\n",
    "The definition of the function $\\texttt{First}()$ is extended to strings from $(V \\cup T)^*$ as follows:\n",
    "- $\\texttt{FirstList}(\\varepsilon) = \\{\\}$.\n",
    "- $\\texttt{FirstList}(t \\beta) = \\{ t \\}$  if $t \\in T$.\n",
    "- $\\texttt{FirstList}(\\texttt{a} \\beta) = \\left\\{\n",
    "       \\begin{array}[c]{ll}\n",
    "         \\texttt{First}(\\texttt{a}) \\cup \\texttt{FirstList}(\\beta) & \\mbox{if $\\texttt{a} \\Rightarrow^* \\varepsilon$;} \\\\\n",
    "         \\texttt{First}(\\texttt{a})                                & \\mbox{otherwise.}\n",
    "       \\end{array}\n",
    "       \\right.\n",
    "      $ \n",
    "\n",
    "If $\\texttt{a}$ is a variable of $G$ and the rules defining $\\texttt{a}$ are given as \n",
    "$$\\texttt{a} \\rightarrow \\alpha_1 \\mid \\cdots \\mid \\alpha_n, $$\n",
    "then we have\n",
    "$$\\texttt{First}(\\texttt{a}) = \\bigcup\\limits_{i=1}^n \\texttt{FirstList}(\\alpha_i). $$\n",
    "The dictionary `mFirst` that stores this function is computed via a *fixed point iteration*."
   ]
  },
  {
   "cell_type": "code",
   "execution_count": 34,
   "metadata": {},
   "outputs": [],
   "source": [
    "def compute_first(self: Grammar) -> None:\n",
    "    change = True\n",
    "    while change:\n",
    "        change = False\n",
    "        for rule in self.mRules:\n",
    "            a, body = rule.mVariable, rule.mBody\n",
    "            first_body = self.first_list(body)      # type: ignore\n",
    "            if not (first_body <= self.mFirst[a]):  # type: ignore\n",
    "                change = True\n",
    "                self.mFirst[a] |= first_body        # type: ignore   \n",
    "    print('First sets:')\n",
    "    for v in self.mVariables:\n",
    "        print(f'First({v}) = {self.mFirst[v]}')     # type: ignore\n",
    "        \n",
    "Grammar.compute_first = compute_first               # type: ignore\n",
    "del compute_first"
   ]
  },
  {
   "cell_type": "markdown",
   "metadata": {},
   "source": [
    "Given a tuple of variables and tokens `alpha`, the function `first_list(alpha)` computes the function $\\texttt{FirstList}(\\alpha)$ that has been defined above.  If `alpha` is *nullable*, then the result will contain the empty string $\\lambda$."
   ]
  },
  {
   "cell_type": "code",
   "execution_count": 36,
   "metadata": {},
   "outputs": [],
   "source": [
    "def first_list(self: Grammar, alpha: Symbols) -> set[Token]:\n",
    "    if len(alpha) == 0:\n",
    "        return { '' }\n",
    "    elif is_var(alpha[0]): \n",
    "        v, *r = alpha\n",
    "        return eps_union(self.mFirst[v], self.first_list(r)) # type: ignore\n",
    "    else:\n",
    "        t = alpha[0]\n",
    "        return { t }\n",
    "    \n",
    "Grammar.first_list = first_list                              # type: ignore\n",
    "del first_list"
   ]
  },
  {
   "cell_type": "markdown",
   "metadata": {},
   "source": [
    "The arguments `S` and `T` of `eps_union` are sets that contain tokens and, additionally, they might contain the empty string $\\lambda$.  The specification of `eps_union` is:\n",
    "$$ \\texttt{eps_union}(S, T) = \\left\\{ \\begin{array}{ll}\n",
    "                                       S          & \\mbox{if $\\lambda \\not\\in S$} \\\\\n",
    "                                       S \\cup T   & \\mbox{if $\\lambda \\in S \\wedge \\lambda \\in T$} \\\\\n",
    "                                       S \\cup T - \\{\\lambda \\} & \\mbox{if $\\lambda \\in S \\wedge \\lambda \\not\\in T$}\n",
    "                                      \\end{array}\n",
    "                              \\right.\n",
    "$$"
   ]
  },
  {
   "cell_type": "code",
   "execution_count": 38,
   "metadata": {},
   "outputs": [],
   "source": [
    "def eps_union(S: set[Token], T: set[Token]) -> set[Token]:\n",
    "    if '' in S: \n",
    "        if '' in T: \n",
    "            return S | T\n",
    "        return (S - { '' }) | T\n",
    "    return S"
   ]
  },
  {
   "cell_type": "markdown",
   "metadata": {},
   "source": [
    "Given an augmented grammar $G = \\langle V,T,R\\cup\\{\\widehat{s} \\rightarrow s\\,\\$\\}, \\widehat{s}\\rangle$ \n",
    "and a variable $a$, the set of tokens that might follow $a$ is defined as:\n",
    "$$\\texttt{Follow}(a) := \n",
    " \\bigl\\{ t \\in \\widehat{T} \\,\\bigm|\\, \\exists \\beta,\\gamma \\in (V \\cup \\widehat{T})^*: \n",
    "                           \\widehat{s} \\Rightarrow^* \\beta \\,a\\, t\\, \\gamma \n",
    "  \\bigr\\}.\n",
    "$$\n",
    "The function `compute_follow` computes the sets $\\texttt{Follow}(a)$ for all variables $a$ via a *fixed-point iteration*."
   ]
  },
  {
   "cell_type": "code",
   "execution_count": 41,
   "metadata": {},
   "outputs": [],
   "source": [
    "def compute_follow(self: Grammar) -> None:\n",
    "    self.mFollow[self.mStart] = { '$' }                           # type: ignore\n",
    "    change = True\n",
    "    while change:\n",
    "        change = False\n",
    "        for rule in self.mRules:\n",
    "            a, body = rule.mVariable, rule.mBody\n",
    "            for i in range(len(body)):\n",
    "                if is_var(body[i]):\n",
    "                    yi        = body[i]\n",
    "                    Tail      = self.first_list(body[i+1:])       # type: ignore\n",
    "                    firstTail = eps_union(Tail, self.mFollow[a])  # type: ignore\n",
    "                    if not (firstTail <= self.mFollow[yi]):       # type: ignore\n",
    "                        change = True\n",
    "                        self.mFollow[yi] |= firstTail             # type: ignore\n",
    "    print('Follow sets (note that \"$\" denotes the end of file):')\n",
    "    for v in self.mVariables:\n",
    "        print(f'Follow({v}) = {self.mFollow[v]}')                 # type: ignore\n",
    "        \n",
    "Grammar.compute_follow = compute_follow                           # type: ignore\n",
    "del compute_follow"
   ]
  },
  {
   "cell_type": "markdown",
   "metadata": {},
   "source": [
    "If $\\mathcal{M}$ is a set of *marked rules*, then the *closure* of $\\mathcal{M}$ is the smallest set $\\mathcal{K}$ such that\n",
    "we have the following:\n",
    "- $\\mathcal{M} \\subseteq \\mathcal{K}$,\n",
    "- If $a \\rightarrow \\beta \\bullet c\\, \\delta$ is a *marked rule* from \n",
    "  $\\mathcal{K}$, and $c$ is a variable and if, furthermore,\n",
    "  $c \\rightarrow \\gamma$ is a grammar rule,\n",
    "  then the marked rule $c \\rightarrow \\bullet \\gamma$\n",
    "  is an element of $\\mathcal{K}$:\n",
    "  $$(a \\rightarrow \\beta \\bullet c\\, \\delta) \\in \\mathcal{K} \n",
    "         \\;\\wedge\\; \n",
    "         (c \\rightarrow \\gamma) \\in R\n",
    "         \\;\\Rightarrow\\; (c \\rightarrow \\bullet \\gamma) \\in \\mathcal{K}\n",
    "  $$\n",
    "\n",
    "We define $\\texttt{closure}(\\mathcal{M}) := \\mathcal{K}$.  The function `cmp_closure` computes this closure for a given set of *marked rules* via a *fixed-point iteration*."
   ]
  },
  {
   "cell_type": "code",
   "execution_count": 45,
   "metadata": {},
   "outputs": [],
   "source": [
    "def cmp_closure(self, Marked_Rules: set[MarkedRule]) -> frozenset[MarkedRule]:\n",
    "    All_Rules = Marked_Rules\n",
    "    New_Rules = Marked_Rules\n",
    "    while True:\n",
    "        More_Rules = set()\n",
    "        for rule in New_Rules:\n",
    "            c = rule.next_var()                                  # type: ignore\n",
    "            if c == None:\n",
    "                continue\n",
    "            for rule in self.mRules:\n",
    "                head, alpha = rule.mVariable, rule.mBody         # type: ignore\n",
    "                if c == head:\n",
    "                    More_Rules |= { MarkedRule(head, (), alpha) }\n",
    "        if More_Rules <= All_Rules:\n",
    "            return frozenset(All_Rules)\n",
    "        New_Rules  = More_Rules - All_Rules\n",
    "        All_Rules |= New_Rules\n",
    "\n",
    "Grammar.cmp_closure = cmp_closure                                 # type: ignore\n",
    "del cmp_closure"
   ]
  },
  {
   "cell_type": "markdown",
   "metadata": {},
   "source": [
    "Given a set of *marked rules* $\\mathcal{M}$ and a *grammar symbol* $X$, the function $\\texttt{goto}(\\mathcal{M}, X)$ \n",
    "is defined as follows:\n",
    "$$\\texttt{goto}(\\mathcal{M}, X) := \\texttt{closure}\\Bigl( \\bigl\\{ \n",
    "   a \\rightarrow \\beta\\, X \\bullet \\delta \\bigm| (a \\rightarrow \\beta \\bullet X\\, \\delta) \\in \\mathcal{M} \n",
    "   \\bigr\\} \\Bigr).\n",
    "$$"
   ]
  },
  {
   "cell_type": "code",
   "execution_count": 47,
   "metadata": {},
   "outputs": [],
   "source": [
    "def goto(self, Marked_Rules, x):\n",
    "    Result = set()\n",
    "    for mr in Marked_Rules:\n",
    "        if mr.symbol_after_dot() == x:\n",
    "            Result.add(mr.move_dot())\n",
    "    return self.cmp_closure(Result)\n",
    "\n",
    "Grammar.goto = goto  # type: ignore\n",
    "del goto"
   ]
  },
  {
   "cell_type": "markdown",
   "metadata": {},
   "source": [
    "The function `all_states` computes the set of all states of an *SLR-parser*.  The function starts with the state\n",
    "$$ \\texttt{closure}\\bigl(\\{ \\widehat{s} \\rightarrow \\bullet s \\, $\\}\\bigr) $$\n",
    "and then tries to compute new states by using the function `goto`.  This computation proceeds via a \n",
    "*fixed-point iteration*.  Once all states have been computed, the function assigns names to these states.\n",
    "This association is stored in the dictionary *mStateNames*."
   ]
  },
  {
   "cell_type": "code",
   "execution_count": 50,
   "metadata": {},
   "outputs": [],
   "source": [
    "def all_states(self) -> None: \n",
    "    start_state  = self.cmp_closure({ MarkedRule('ŝ', (), (self.mStart, '$')) })\n",
    "    self.mStates = { start_state }\n",
    "    New_States   = self.mStates\n",
    "    while True:\n",
    "        More_States = set()\n",
    "        for Rule_Set in New_States:\n",
    "            for mr in Rule_Set: \n",
    "                if not mr.is_complete():\n",
    "                    x = mr.symbol_after_dot()\n",
    "                    if x != '$':\n",
    "                        More_States |= { self.goto(Rule_Set, x) }\n",
    "        if More_States <= self.mStates:\n",
    "            break\n",
    "        New_States = More_States - self.mStates;\n",
    "        self.mStates |= New_States\n",
    "    print(\"All SLR-states:\")\n",
    "    counter = 1\n",
    "    self.mStateNames[start_state] = 's0'\n",
    "    print(f's0 = {set(start_state)}')\n",
    "    for state in self.mStates - { start_state }:\n",
    "        self.mStateNames[state] = f's{counter}'\n",
    "        print(f's{counter} = {set(state)}')\n",
    "        counter += 1\n",
    "\n",
    "Grammar.all_states = all_states # type: ignore\n",
    "del all_states"
   ]
  },
  {
   "cell_type": "markdown",
   "metadata": {},
   "source": [
    "The following function computes the *action table* and is defined as follows:\n",
    "- If $\\mathcal{M}$ contains a *marked rule* of the form $a \\rightarrow \\beta \\bullet t\\, \\delta$\n",
    "  then we have\n",
    "  $$\\texttt{action}(\\mathcal{M},t) := \\langle \\texttt{shift}, \\texttt{goto}(\\mathcal{M},t) \\rangle.$$\n",
    "- If $\\mathcal{M}$ contains a marked rule of the form $a \\rightarrow \\beta\\, \\bullet$ and we have\n",
    "  $t \\in \\texttt{Follow}(a)$, then we define\n",
    "  $$\\texttt{action}(\\mathcal{M},t) := \\langle \\texttt{reduce}, a \\rightarrow \\beta \\rangle$$\n",
    "- If $\\mathcal{M}$ contains the marked rule $\\widehat{s} \\rightarrow s \\bullet \\$ $, then we define \n",
    "  $$\\texttt{action}(\\mathcal{M},\\$) := \\texttt{accept}. $$\n",
    "- Otherwise, we have\n",
    "  $$\\texttt{action}(\\mathcal{M},t) := \\texttt{error}. $$"
   ]
  },
  {
   "cell_type": "code",
   "execution_count": 51,
   "metadata": {},
   "outputs": [],
   "source": [
    "def compute_action_table(self):\n",
    "    self.mActionTable = {}\n",
    "    print('\\nAction Table:')\n",
    "    for state in self.mStates:\n",
    "        stateName = self.mStateNames[state]\n",
    "        actionTable = {}\n",
    "        # compute shift actions\n",
    "        for token in self.mTokens:\n",
    "            if token != '$':\n",
    "                newState  = self.goto(state, token)\n",
    "                if newState != set():\n",
    "                    newName = self.mStateNames[newState]\n",
    "                    actionTable[token] = ('shift', newName)\n",
    "                    self.mActionTable[stateName, token] = ('shift', newName)\n",
    "                    print(f'action(\"{stateName}\", {token}) = (\"shift\", {newName})')\n",
    "        # compute reduce actions\n",
    "        for mr in state:\n",
    "            if mr.is_complete():\n",
    "                for token in self.mFollow[mr.mVariable]:\n",
    "                    action1 = actionTable.get(token)\n",
    "                    action2 = ('reduce', mr.to_rule())\n",
    "                    if action1 == None:\n",
    "                        actionTable[token] = action2  \n",
    "                        r = self.mRuleNames[mr.to_rule()]\n",
    "                        self.mActionTable[stateName, token] = ('reduce', r)\n",
    "                        print(f'action(\"{stateName}\", {token}) = {action2}')\n",
    "                    elif action1 != action2: \n",
    "                        self.mConflicts = True\n",
    "                        print('')\n",
    "                        print(f'conflict in state {stateName}:')\n",
    "                        print(f'{stateName} = {state}')\n",
    "                        print(f'action(\"{stateName}\", {token}) = {action1}')     \n",
    "                        print(f'action(\"{stateName}\", {token}) = {action2}')\n",
    "                        print('')\n",
    "        for mr in state:\n",
    "            if mr == MarkedRule('ŝ', (self.mStart,), ('$',)):\n",
    "                actionTable['$'] = 'accept'\n",
    "                self.mActionTable[stateName, '$'] = 'accept'\n",
    "                print(f'action(\"{stateName}\", $) = accept')\n",
    "\n",
    "Grammar.compute_action_table = compute_action_table # type: ignore\n",
    "del compute_action_table"
   ]
  },
  {
   "cell_type": "markdown",
   "metadata": {},
   "source": [
    "The function `compute_goto_table` computes the *goto table*."
   ]
  },
  {
   "cell_type": "code",
   "execution_count": 53,
   "metadata": {},
   "outputs": [],
   "source": [
    "def compute_goto_table(self) -> None:\n",
    "    self.mGotoTable = {}\n",
    "    print('\\nGoto Table:')\n",
    "    for state in self.mStates:\n",
    "        for var in self.mVariables:\n",
    "            newState = self.goto(state, var)\n",
    "            if newState != set():\n",
    "                stateName = self.mStateNames[state]\n",
    "                newName   = self.mStateNames[newState]\n",
    "                self.mGotoTable[stateName, var] = newName\n",
    "                print(f'goto({stateName}, {var}) = {newName}')\n",
    "\n",
    "Grammar.compute_goto_table = compute_goto_table # type: ignore\n",
    "del compute_goto_table"
   ]
  },
  {
   "cell_type": "code",
   "execution_count": 54,
   "metadata": {},
   "outputs": [
    {
     "data": {
      "text/plain": [
       "[expr → expr '+' product,\n",
       " expr → expr '-' product,\n",
       " expr → product,\n",
       " product → product '*' factor,\n",
       " product → product '/' factor,\n",
       " product → factor,\n",
       " factor → '(' expr ')',\n",
       " factor → NUMBER]"
      ]
     },
     "execution_count": 54,
     "metadata": {},
     "output_type": "execute_result"
    }
   ],
   "source": [
    "grammar"
   ]
  },
  {
   "cell_type": "code",
   "execution_count": 55,
   "metadata": {
    "scrolled": false
   },
   "outputs": [
    {
     "name": "stdout",
     "output_type": "stream",
     "text": [
      "First sets:\n",
      "First(factor) = {\"'('\", 'NUMBER'}\n",
      "First(expr) = {\"'('\", 'NUMBER'}\n",
      "First(ŝ) = {\"'('\", 'NUMBER'}\n",
      "First(product) = {\"'('\", 'NUMBER'}\n",
      "Follow sets (note that \"$\" denotes the end of file):\n",
      "Follow(factor) = {\"')'\", '$', \"'/'\", \"'+'\", \"'*'\", \"'-'\"}\n",
      "Follow(expr) = {\"'+'\", '$', \"'-'\", \"')'\"}\n",
      "Follow(ŝ) = set()\n",
      "Follow(product) = {\"')'\", '$', \"'/'\", \"'+'\", \"'*'\", \"'-'\"}\n",
      "All SLR-states:\n",
      "s0 = {ŝ →  • expr $, expr →  • expr '-' product, product →  • factor, expr →  • product, expr →  • expr '+' product, product →  • product '*' factor, factor →  • '(' expr ')', factor →  • NUMBER, product →  • product '/' factor}\n",
      "s1 = {product → product • '/' factor, product → product • '*' factor, expr → expr '-' product • }\n",
      "s2 = {factor →  • '(' expr ')', factor →  • NUMBER, product → product '/' • factor}\n",
      "s3 = {product → product • '/' factor, expr → expr '+' product • , product → product • '*' factor}\n",
      "s4 = {product → product '/' factor • }\n",
      "s5 = {factor →  • '(' expr ')', factor →  • NUMBER, product → product '*' • factor}\n",
      "s6 = {expr → expr • '+' product, expr → expr • '-' product, ŝ → expr • $}\n",
      "s7 = {product → product • '/' factor, expr → product • , product → product • '*' factor}\n",
      "s8 = {product →  • product '*' factor, expr → expr '+' • product, factor →  • NUMBER, factor →  • '(' expr ')', product →  • factor, product →  • product '/' factor}\n",
      "s9 = {product → factor • }\n",
      "s10 = {factor → NUMBER • }\n",
      "s11 = {factor → '(' expr • ')', expr → expr • '-' product, expr → expr • '+' product}\n",
      "s12 = {expr →  • expr '-' product, product →  • factor, factor → '(' • expr ')', expr →  • product, expr →  • expr '+' product, product →  • product '*' factor, factor →  • '(' expr ')', factor →  • NUMBER, product →  • product '/' factor}\n",
      "s13 = {factor → '(' expr ')' • }\n",
      "s14 = {expr → expr '-' • product, product →  • product '*' factor, factor →  • NUMBER, factor →  • '(' expr ')', product →  • factor, product →  • product '/' factor}\n",
      "s15 = {product → product '*' factor • }\n",
      "\n",
      "Action Table:\n",
      "action(\"s8\", '(') = (\"shift\", s12)\n",
      "action(\"s8\", NUMBER) = (\"shift\", s10)\n",
      "action(\"s9\", ')') = ('reduce', product → factor)\n",
      "action(\"s9\", $) = ('reduce', product → factor)\n",
      "action(\"s9\", '/') = ('reduce', product → factor)\n",
      "action(\"s9\", '+') = ('reduce', product → factor)\n",
      "action(\"s9\", '*') = ('reduce', product → factor)\n",
      "action(\"s9\", '-') = ('reduce', product → factor)\n",
      "action(\"s1\", '/') = (\"shift\", s2)\n",
      "action(\"s1\", '*') = (\"shift\", s5)\n",
      "action(\"s1\", '+') = ('reduce', expr → expr '-' product)\n",
      "action(\"s1\", $) = ('reduce', expr → expr '-' product)\n",
      "action(\"s1\", '-') = ('reduce', expr → expr '-' product)\n",
      "action(\"s1\", ')') = ('reduce', expr → expr '-' product)\n",
      "action(\"s2\", '(') = (\"shift\", s12)\n",
      "action(\"s2\", NUMBER) = (\"shift\", s10)\n",
      "action(\"s3\", '/') = (\"shift\", s2)\n",
      "action(\"s3\", '*') = (\"shift\", s5)\n",
      "action(\"s3\", '+') = ('reduce', expr → expr '+' product)\n",
      "action(\"s3\", $) = ('reduce', expr → expr '+' product)\n",
      "action(\"s3\", '-') = ('reduce', expr → expr '+' product)\n",
      "action(\"s3\", ')') = ('reduce', expr → expr '+' product)\n",
      "action(\"s10\", ')') = ('reduce', factor → NUMBER)\n",
      "action(\"s10\", $) = ('reduce', factor → NUMBER)\n",
      "action(\"s10\", '/') = ('reduce', factor → NUMBER)\n",
      "action(\"s10\", '+') = ('reduce', factor → NUMBER)\n",
      "action(\"s10\", '*') = ('reduce', factor → NUMBER)\n",
      "action(\"s10\", '-') = ('reduce', factor → NUMBER)\n",
      "action(\"s4\", ')') = ('reduce', product → product '/' factor)\n",
      "action(\"s4\", $) = ('reduce', product → product '/' factor)\n",
      "action(\"s4\", '/') = ('reduce', product → product '/' factor)\n",
      "action(\"s4\", '+') = ('reduce', product → product '/' factor)\n",
      "action(\"s4\", '*') = ('reduce', product → product '/' factor)\n",
      "action(\"s4\", '-') = ('reduce', product → product '/' factor)\n",
      "action(\"s11\", ')') = (\"shift\", s13)\n",
      "action(\"s11\", '+') = (\"shift\", s8)\n",
      "action(\"s11\", '-') = (\"shift\", s14)\n",
      "action(\"s5\", '(') = (\"shift\", s12)\n",
      "action(\"s5\", NUMBER) = (\"shift\", s10)\n",
      "action(\"s0\", '(') = (\"shift\", s12)\n",
      "action(\"s0\", NUMBER) = (\"shift\", s10)\n",
      "action(\"s12\", '(') = (\"shift\", s12)\n",
      "action(\"s12\", NUMBER) = (\"shift\", s10)\n",
      "action(\"s13\", ')') = ('reduce', factor → '(' expr ')')\n",
      "action(\"s13\", $) = ('reduce', factor → '(' expr ')')\n",
      "action(\"s13\", '/') = ('reduce', factor → '(' expr ')')\n",
      "action(\"s13\", '+') = ('reduce', factor → '(' expr ')')\n",
      "action(\"s13\", '*') = ('reduce', factor → '(' expr ')')\n",
      "action(\"s13\", '-') = ('reduce', factor → '(' expr ')')\n",
      "action(\"s14\", '(') = (\"shift\", s12)\n",
      "action(\"s14\", NUMBER) = (\"shift\", s10)\n",
      "action(\"s15\", ')') = ('reduce', product → product '*' factor)\n",
      "action(\"s15\", $) = ('reduce', product → product '*' factor)\n",
      "action(\"s15\", '/') = ('reduce', product → product '*' factor)\n",
      "action(\"s15\", '+') = ('reduce', product → product '*' factor)\n",
      "action(\"s15\", '*') = ('reduce', product → product '*' factor)\n",
      "action(\"s15\", '-') = ('reduce', product → product '*' factor)\n",
      "action(\"s6\", '+') = (\"shift\", s8)\n",
      "action(\"s6\", '-') = (\"shift\", s14)\n",
      "action(\"s6\", $) = accept\n",
      "action(\"s7\", '/') = (\"shift\", s2)\n",
      "action(\"s7\", '*') = (\"shift\", s5)\n",
      "action(\"s7\", '+') = ('reduce', expr → product)\n",
      "action(\"s7\", $) = ('reduce', expr → product)\n",
      "action(\"s7\", '-') = ('reduce', expr → product)\n",
      "action(\"s7\", ')') = ('reduce', expr → product)\n",
      "\n",
      "Goto Table:\n",
      "goto(s8, factor) = s9\n",
      "goto(s8, product) = s3\n",
      "goto(s2, factor) = s4\n",
      "goto(s5, factor) = s15\n",
      "goto(s0, factor) = s9\n",
      "goto(s0, expr) = s6\n",
      "goto(s0, product) = s7\n",
      "goto(s12, factor) = s9\n",
      "goto(s12, expr) = s11\n",
      "goto(s12, product) = s7\n",
      "goto(s14, factor) = s9\n",
      "goto(s14, product) = s1\n",
      "CPU times: user 2.01 ms, sys: 6 µs, total: 2.02 ms\n",
      "Wall time: 2.02 ms\n"
     ]
    }
   ],
   "source": [
    "%%time\n",
    "g = Grammar(grammar)"
   ]
  },
  {
   "cell_type": "code",
   "execution_count": 56,
   "metadata": {},
   "outputs": [],
   "source": [
    "def strip_quotes(t):\n",
    "    if t[0] == \"'\" and t[-1] == \"'\":\n",
    "        return t[1:-1]\n",
    "    return t"
   ]
  },
  {
   "cell_type": "code",
   "execution_count": 58,
   "metadata": {},
   "outputs": [],
   "source": [
    "def dump_parse_table(self, file: str) -> None:\n",
    "    with open(file, 'w', encoding=\"utf-8\") as handle:\n",
    "        handle.write('# Grammar rules:\\n')\n",
    "        for rule in self.mRules:\n",
    "            rule_name = self.mRuleNames[rule] \n",
    "            handle.write(f'{rule_name} = (\"{rule.mVariable}\", {rule.mBody})\\n')\n",
    "        handle.write('\\n# Action table:\\n')\n",
    "        handle.write('actionTable = {}\\n')\n",
    "        for s, t in self.mActionTable:\n",
    "            action = self.mActionTable[s, t]\n",
    "            t = strip_quotes(t)\n",
    "            if action[0] == 'reduce':\n",
    "                rule_name = action[1]\n",
    "                handle.write(f\"actionTable['{s}', '{t}'] = ('reduce', {rule_name})\\n\")\n",
    "            elif action == 'accept':\n",
    "                handle.write(f\"actionTable['{s}', '{t}'] = 'accept'\\n\")\n",
    "            else:\n",
    "                handle.write(f\"actionTable['{s}', '{t}'] = {action}\\n\")\n",
    "        handle.write('\\n# Goto table:\\n')\n",
    "        handle.write('gotoTable = {}\\n')\n",
    "        for s, v in self.mGotoTable:\n",
    "            state = self.mGotoTable[s, v]\n",
    "            handle.write(f\"gotoTable['{s}', '{v}'] = '{state}'\\n\")\n",
    "        \n",
    "Grammar.dump_parse_table = dump_parse_table # type: ignore\n",
    "del dump_parse_table"
   ]
  },
  {
   "cell_type": "code",
   "execution_count": 60,
   "metadata": {},
   "outputs": [],
   "source": [
    "g.dump_parse_table('parse-table.py') # type: ignore"
   ]
  },
  {
   "cell_type": "code",
   "execution_count": 61,
   "metadata": {
    "scrolled": false
   },
   "outputs": [
    {
     "name": "stdout",
     "output_type": "stream",
     "text": [
      "# Grammar rules:\r\n",
      "r0 = (\"expr\", ('expr', \"'+'\", 'product'))\r\n",
      "r1 = (\"expr\", ('expr', \"'-'\", 'product'))\r\n",
      "r2 = (\"expr\", ('product',))\r\n",
      "r3 = (\"product\", ('product', \"'*'\", 'factor'))\r\n",
      "r4 = (\"product\", ('product', \"'/'\", 'factor'))\r\n",
      "r5 = (\"product\", ('factor',))\r\n",
      "r6 = (\"factor\", (\"'('\", 'expr', \"')'\"))\r\n",
      "r7 = (\"factor\", ('NUMBER',))\r\n",
      "r8 = (\"ŝ\", ('expr', '$'))\r\n",
      "\r\n",
      "# Action table:\r\n",
      "actionTable = {}\r\n",
      "actionTable['s8', '('] = ('shift', 's12')\r\n",
      "actionTable['s8', 'NUMBER'] = ('shift', 's10')\r\n",
      "actionTable['s9', ')'] = ('reduce', r5)\r\n",
      "actionTable['s9', '$'] = ('reduce', r5)\r\n",
      "actionTable['s9', '/'] = ('reduce', r5)\r\n",
      "actionTable['s9', '+'] = ('reduce', r5)\r\n",
      "actionTable['s9', '*'] = ('reduce', r5)\r\n",
      "actionTable['s9', '-'] = ('reduce', r5)\r\n",
      "actionTable['s1', '/'] = ('shift', 's2')\r\n",
      "actionTable['s1', '*'] = ('shift', 's5')\r\n",
      "actionTable['s1', '+'] = ('reduce', r1)\r\n",
      "actionTable['s1', '$'] = ('reduce', r1)\r\n",
      "actionTable['s1', '-'] = ('reduce', r1)\r\n",
      "actionTable['s1', ')'] = ('reduce', r1)\r\n",
      "actionTable['s2', '('] = ('shift', 's12')\r\n",
      "actionTable['s2', 'NUMBER'] = ('shift', 's10')\r\n",
      "actionTable['s3', '/'] = ('shift', 's2')\r\n",
      "actionTable['s3', '*'] = ('shift', 's5')\r\n",
      "actionTable['s3', '+'] = ('reduce', r0)\r\n",
      "actionTable['s3', '$'] = ('reduce', r0)\r\n",
      "actionTable['s3', '-'] = ('reduce', r0)\r\n",
      "actionTable['s3', ')'] = ('reduce', r0)\r\n",
      "actionTable['s10', ')'] = ('reduce', r7)\r\n",
      "actionTable['s10', '$'] = ('reduce', r7)\r\n",
      "actionTable['s10', '/'] = ('reduce', r7)\r\n",
      "actionTable['s10', '+'] = ('reduce', r7)\r\n",
      "actionTable['s10', '*'] = ('reduce', r7)\r\n",
      "actionTable['s10', '-'] = ('reduce', r7)\r\n",
      "actionTable['s4', ')'] = ('reduce', r4)\r\n",
      "actionTable['s4', '$'] = ('reduce', r4)\r\n",
      "actionTable['s4', '/'] = ('reduce', r4)\r\n",
      "actionTable['s4', '+'] = ('reduce', r4)\r\n",
      "actionTable['s4', '*'] = ('reduce', r4)\r\n",
      "actionTable['s4', '-'] = ('reduce', r4)\r\n",
      "actionTable['s11', ')'] = ('shift', 's13')\r\n",
      "actionTable['s11', '+'] = ('shift', 's8')\r\n",
      "actionTable['s11', '-'] = ('shift', 's14')\r\n",
      "actionTable['s5', '('] = ('shift', 's12')\r\n",
      "actionTable['s5', 'NUMBER'] = ('shift', 's10')\r\n",
      "actionTable['s0', '('] = ('shift', 's12')\r\n",
      "actionTable['s0', 'NUMBER'] = ('shift', 's10')\r\n",
      "actionTable['s12', '('] = ('shift', 's12')\r\n",
      "actionTable['s12', 'NUMBER'] = ('shift', 's10')\r\n",
      "actionTable['s13', ')'] = ('reduce', r6)\r\n",
      "actionTable['s13', '$'] = ('reduce', r6)\r\n",
      "actionTable['s13', '/'] = ('reduce', r6)\r\n",
      "actionTable['s13', '+'] = ('reduce', r6)\r\n",
      "actionTable['s13', '*'] = ('reduce', r6)\r\n",
      "actionTable['s13', '-'] = ('reduce', r6)\r\n",
      "actionTable['s14', '('] = ('shift', 's12')\r\n",
      "actionTable['s14', 'NUMBER'] = ('shift', 's10')\r\n",
      "actionTable['s15', ')'] = ('reduce', r3)\r\n",
      "actionTable['s15', '$'] = ('reduce', r3)\r\n",
      "actionTable['s15', '/'] = ('reduce', r3)\r\n",
      "actionTable['s15', '+'] = ('reduce', r3)\r\n",
      "actionTable['s15', '*'] = ('reduce', r3)\r\n",
      "actionTable['s15', '-'] = ('reduce', r3)\r\n",
      "actionTable['s6', '+'] = ('shift', 's8')\r\n",
      "actionTable['s6', '-'] = ('shift', 's14')\r\n",
      "actionTable['s6', '$'] = 'accept'\r\n",
      "actionTable['s7', '/'] = ('shift', 's2')\r\n",
      "actionTable['s7', '*'] = ('shift', 's5')\r\n",
      "actionTable['s7', '+'] = ('reduce', r2)\r\n",
      "actionTable['s7', '$'] = ('reduce', r2)\r\n",
      "actionTable['s7', '-'] = ('reduce', r2)\r\n",
      "actionTable['s7', ')'] = ('reduce', r2)\r\n",
      "\r\n",
      "# Goto table:\r\n",
      "gotoTable = {}\r\n",
      "gotoTable['s8', 'factor'] = 's9'\r\n",
      "gotoTable['s8', 'product'] = 's3'\r\n",
      "gotoTable['s2', 'factor'] = 's4'\r\n",
      "gotoTable['s5', 'factor'] = 's15'\r\n",
      "gotoTable['s0', 'factor'] = 's9'\r\n",
      "gotoTable['s0', 'expr'] = 's6'\r\n",
      "gotoTable['s0', 'product'] = 's7'\r\n",
      "gotoTable['s12', 'factor'] = 's9'\r\n",
      "gotoTable['s12', 'expr'] = 's11'\r\n",
      "gotoTable['s12', 'product'] = 's7'\r\n",
      "gotoTable['s14', 'factor'] = 's9'\r\n",
      "gotoTable['s14', 'product'] = 's1'\r\n"
     ]
    }
   ],
   "source": [
    "!cat parse-table.py"
   ]
  },
  {
   "cell_type": "code",
   "execution_count": 62,
   "metadata": {},
   "outputs": [],
   "source": [
    "!rm GrammarLexer.* GrammarParser.* Grammar.tokens GrammarListener.py Grammar.interp \n",
    "!rm -r __pycache__"
   ]
  },
  {
   "cell_type": "code",
   "execution_count": 63,
   "metadata": {},
   "outputs": [
    {
     "name": "stdout",
     "output_type": "stream",
     "text": [
      "\u001b[34mExamples\u001b[m\u001b[m                       SLR-Table-Generator.ipynb\r\n",
      "Grammar.g4                     Shift-Reduce-Parser-Pure.ipynb\r\n",
      "Parse-Table.ipynb              Shift-Reduce-Parser.ipynb\r\n",
      "Pure.g4                        parse-table.py\r\n"
     ]
    }
   ],
   "source": [
    "!ls"
   ]
  },
  {
   "cell_type": "code",
   "execution_count": null,
   "metadata": {},
   "outputs": [],
   "source": []
  }
 ],
 "metadata": {
  "kernelspec": {
   "display_name": "Python 3 (ipykernel)",
   "language": "python",
   "name": "python3"
  },
  "language_info": {
   "codemirror_mode": {
    "name": "ipython",
    "version": 3
   },
   "file_extension": ".py",
   "mimetype": "text/x-python",
   "name": "python",
   "nbconvert_exporter": "python",
   "pygments_lexer": "ipython3",
   "version": "3.11.5"
  },
  "varInspector": {
   "cols": {
    "lenName": 16,
    "lenType": 16,
    "lenVar": 40
   },
   "kernels_config": {
    "python": {
     "delete_cmd_postfix": "",
     "delete_cmd_prefix": "del ",
     "library": "var_list.py",
     "varRefreshCmd": "print(var_dic_list())"
    },
    "r": {
     "delete_cmd_postfix": ") ",
     "delete_cmd_prefix": "rm(",
     "library": "var_list.r",
     "varRefreshCmd": "cat(var_dic_list()) "
    }
   },
   "types_to_exclude": [
    "module",
    "function",
    "builtin_function_or_method",
    "instance",
    "_Feature"
   ],
   "window_display": false
  }
 },
 "nbformat": 4,
 "nbformat_minor": 4
}
