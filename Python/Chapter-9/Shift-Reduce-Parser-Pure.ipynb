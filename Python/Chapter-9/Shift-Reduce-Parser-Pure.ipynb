{
 "cells": [
  {
   "cell_type": "code",
   "execution_count": null,
   "metadata": {},
   "outputs": [],
   "source": [
    "from IPython.core.display import HTML\n",
    "with open (\"../style.css\", \"r\") as file:\n",
    "    css = file.read()\n",
    "HTML(css)"
   ]
  },
  {
   "cell_type": "markdown",
   "metadata": {},
   "source": [
    "# A Shift-Reduce Parser for Arithmetic Expressions\n",
    "\n",
    "In this notebook we implement a generic *shift reduce parser*.  The parse table that we use \n",
    "implements the following grammar for arithmetic expressions:\n",
    "$$\n",
    "  \\begin{eqnarray*}\n",
    "  \\mathrm{expr}        & \\rightarrow & \\mathrm{expr}\\;\\;\\texttt{'+'}\\;\\;\\mathrm{product}   \\\\\n",
    "                       & \\mid        & \\mathrm{expr}\\;\\;\\texttt{'-'}\\;\\;\\mathrm{product}   \\\\\n",
    "                       & \\mid        & \\mathrm{product}                                    \\\\[0.2cm]\n",
    "  \\mathrm{product}     & \\rightarrow & \\mathrm{product}\\;\\;\\texttt{'*'}\\;\\;\\mathrm{factor} \\\\\n",
    "                       & \\mid        & \\mathrm{product}\\;\\;\\texttt{'/'}\\;\\;\\mathrm{factor} \\\\\n",
    "                       & \\mid        & \\mathrm{factor}                                     \\\\[0.2cm]\n",
    "  \\mathrm{factor}      & \\rightarrow & \\texttt{'('} \\;\\;\\mathrm{expr} \\;\\;\\texttt{')'}     \\\\\n",
    "                       & \\mid        & \\texttt{NUMBER} \n",
    "  \\end{eqnarray*}\n",
    "$$"
   ]
  },
  {
   "cell_type": "code",
   "execution_count": null,
   "metadata": {},
   "outputs": [],
   "source": [
    "%load_ext nb_mypy"
   ]
  },
  {
   "cell_type": "markdown",
   "metadata": {},
   "source": [
    "## Implementing a Scanner"
   ]
  },
  {
   "cell_type": "markdown",
   "metadata": {},
   "source": [
    "In order to parse, we need a scanner.  We will use a scanner that is similar to the one that we have already used for our *top down parser* discussed earlier in Chapter 7."
   ]
  },
  {
   "cell_type": "code",
   "execution_count": null,
   "metadata": {},
   "outputs": [],
   "source": [
    "import re"
   ]
  },
  {
   "cell_type": "markdown",
   "metadata": {},
   "source": [
    "The function `tokenize` scans the string `s` into a list of tokens using Python's regular expressions.  The scanner distinguishes between\n",
    "* whitespace, which is discarded,\n",
    "* numbers,\n",
    "* arithmetical operators and parenthesis,\n",
    "* all remaining characters, which are treated as lexical errors.\n",
    "\n",
    "See below for an example."
   ]
  },
  {
   "cell_type": "code",
   "execution_count": null,
   "metadata": {},
   "outputs": [],
   "source": [
    "def tokenize(s: str) -> list[str]:\n",
    "    '''Transform the string s into a list of tokens.  The string s\n",
    "       is supposed to represent an arithmetic expression.\n",
    "    '''\n",
    "    lexSpec = r'''([ \\t\\n]+)      |  # blanks and tabs\n",
    "                  ([1-9][0-9]*|0) |  # number\n",
    "                  ([-+*/()])      |  # arithmetical operators and parentheses \n",
    "                  (.)                # unrecognized character\n",
    "               '''\n",
    "    tokenList = re.findall(lexSpec, s, re.VERBOSE)\n",
    "    result    = []\n",
    "    for ws, number, operator, error in tokenList:\n",
    "        if ws:        # skip blanks and tabs\n",
    "            continue\n",
    "        elif number:\n",
    "            result += [ 'NUMBER' ]\n",
    "        elif operator:\n",
    "            result += [ operator ]\n",
    "        else:\n",
    "            result += [ f'ERROR({error})']\n",
    "    return result"
   ]
  },
  {
   "cell_type": "code",
   "execution_count": null,
   "metadata": {},
   "outputs": [],
   "source": [
    "tokenize('1 + 2 * (3 - 4)')"
   ]
  },
  {
   "cell_type": "code",
   "execution_count": null,
   "metadata": {},
   "outputs": [],
   "source": [
    "Rule       = tuple[str, tuple[str, ...]]\n",
    "Action     = str | tuple[str, str] | tuple[str, Rule]\n",
    "actionTable: dict[tuple[str, str], Action]\n",
    "gotoTable:   dict[tuple[str, str], str]"
   ]
  },
  {
   "cell_type": "markdown",
   "metadata": {},
   "source": [
    "Assume a grammar $G = \\langle V, T, R, S \\rangle$ is given.  A  *shift-reduce parser*\n",
    "is defined as a 4-Tuple\n",
    "$$P = \\langle Q, q_0, \\texttt{action}, \\texttt{goto} \\rangle$$\n",
    "where\n",
    "- $Q$ is the set of *states* of the shift-reduce parser.  \n",
    "\n",
    "  For the purpose of the shift-reduce-parser, states are purely abstract. \n",
    "- $q_0 \\in Q$ is the *start state*.\n",
    "- $\\texttt{action}$ is a function taking two arguments. The first argument is a state $q \\in Q$\n",
    "  and the second argument is a token $t \\in T$.  The result of this function is an element from the set\n",
    "  $$\\texttt{Action} :=\n",
    "       \\bigl\\{ \\langle\\texttt{shift}, q\\rangle  \\mid q \\in Q \\bigr\\}               \\cup \n",
    "       \\bigl\\{ \\langle\\texttt{reduce}, r\\rangle \\mid r \\in R \\bigr\\} \\cup \n",
    "       \\bigl\\{ \\texttt{accept} \\bigr\\}                        \\cup\n",
    "       \\bigl\\{ \\texttt{error}  \\bigr\\}.                         \n",
    "  $$\n",
    "  Here `shift`, `reduce`, `accept`, and `error` are strings that serve to\n",
    "  distinguish the different kinds of results returned by the function \n",
    "  `action`.  Therefore the signature of the function `action` is given as follows:\n",
    "  $$\\texttt{action}: Q \\times T \\rightarrow \\texttt{Action}.$$\n",
    "- `goto` is a function that takes a state $q \\in Q$ and a syntactical variable\n",
    "  $v \\in V$ and computes a new state.  Therefore the signature of `goto` is as follows:\n",
    "  $$\\texttt{goto}: Q \\times V \\rightarrow Q.$$\n",
    "\n",
    "The class `ShiftReduceParser` maintains two tables that are implemented as dictionaries:\n",
    "- `mActionTable` encodes the function $\\texttt{action}: Q \\times T \\rightarrow \\texttt{Action}$.\n",
    "- `mGotoTable` encodes the function $\\texttt{goto}: Q \\times V \\rightarrow Q$.\n",
    "\n",
    "The constructor takes these tables as arguments and stores them in the member variables `mActionTable` and `mGotoTable`."
   ]
  },
  {
   "cell_type": "code",
   "execution_count": null,
   "metadata": {},
   "outputs": [],
   "source": [
    "class ShiftReduceParser():\n",
    "    def __init__(self, actionTable:dict[tuple[str, str], Action], \n",
    "                       gotoTable: dict[tuple[str, str], str]) -> None:\n",
    "        self.mActionTable: dict[tuple[str, str], Action] = actionTable\n",
    "        self.mGotoTable:   dict[tuple[str, str], str]    = gotoTable\n",
    "        \n",
    "    def parse(self, TL: list[str]) -> bool:\n",
    "        return None # type: ignore"
   ]
  },
  {
   "cell_type": "markdown",
   "metadata": {},
   "source": [
    "The method `parse` takes a list of tokens `TL` as its argument.  It returns `True` if the token list can be parsed successfully or `False` otherwise.  \n",
    "The algorithm that is applied is known as *shift/reduce parsing*."
   ]
  },
  {
   "cell_type": "code",
   "execution_count": null,
   "metadata": {},
   "outputs": [],
   "source": [
    "def parse(self, TL: list[str]) -> bool:\n",
    "    index              = 0      # points to next token\n",
    "    Symbols: list[str] = []     # stack of symbols, i.e. tokens or variables\n",
    "    States:  list[str] = ['s0'] # stack of states, s0 is start state\n",
    "    TL += ['EOF']\n",
    "    while True:\n",
    "        q = States[-1]\n",
    "        t = TL[index]\n",
    "        # Below, an undefined table entry is interpreted as an error entry.\n",
    "        match self.mActionTable.get((q, t), 'error'):\n",
    "            case 'error': \n",
    "                return False\n",
    "            case 'accept':\n",
    "                return True\n",
    "            case 'shift', s: \n",
    "                Symbols += [t]\n",
    "                States  += [s]\n",
    "                index   += 1\n",
    "            case 'reduce', rule:\n",
    "                head, body = rule\n",
    "                n       = len(body)\n",
    "                Symbols = Symbols[:-n]\n",
    "                States  = States [:-n] \n",
    "                Symbols = Symbols + [head]\n",
    "                state   = States[-1]\n",
    "                States += [ self.mGotoTable[state, head] ]\n",
    "            \n",
    "ShiftReduceParser.parse = parse # type: ignore\n",
    "del parse"
   ]
  },
  {
   "cell_type": "markdown",
   "metadata": {},
   "source": [
    "## Testing"
   ]
  },
  {
   "cell_type": "code",
   "execution_count": null,
   "metadata": {},
   "outputs": [],
   "source": [
    "%run Parse-Table.ipynb"
   ]
  },
  {
   "cell_type": "code",
   "execution_count": null,
   "metadata": {},
   "outputs": [],
   "source": [
    "def test(s:str) -> None: \n",
    "    parser = ShiftReduceParser(actionTable, gotoTable)\n",
    "    TL     = tokenize(s)\n",
    "    if parser.parse(TL):\n",
    "        print('Parse successful!')\n",
    "    else:\n",
    "        print('Parse failed!')"
   ]
  },
  {
   "cell_type": "code",
   "execution_count": null,
   "metadata": {},
   "outputs": [],
   "source": [
    "test('(1 + 2) * 3')"
   ]
  },
  {
   "cell_type": "code",
   "execution_count": null,
   "metadata": {
    "scrolled": false
   },
   "outputs": [],
   "source": [
    "test('1 * 2 + 3 * (4 - 5) / 2')"
   ]
  },
  {
   "cell_type": "code",
   "execution_count": null,
   "metadata": {},
   "outputs": [],
   "source": [
    "test('11+22*(33-44)/(5-10*5/(4-3))')"
   ]
  },
  {
   "cell_type": "code",
   "execution_count": null,
   "metadata": {},
   "outputs": [],
   "source": [
    "test('1+2*3-')"
   ]
  },
  {
   "cell_type": "code",
   "execution_count": null,
   "metadata": {},
   "outputs": [],
   "source": []
  }
 ],
 "metadata": {
  "@webio": {
   "lastCommId": null,
   "lastKernelId": null
  },
  "kernelspec": {
   "display_name": "Python 3 (ipykernel)",
   "language": "python",
   "name": "python3"
  },
  "language_info": {
   "codemirror_mode": {
    "name": "ipython",
    "version": 3
   },
   "file_extension": ".py",
   "mimetype": "text/x-python",
   "name": "python",
   "nbconvert_exporter": "python",
   "pygments_lexer": "ipython3",
   "version": "3.11.5"
  },
  "varInspector": {
   "cols": {
    "lenName": 16,
    "lenType": 16,
    "lenVar": 40
   },
   "kernels_config": {
    "python": {
     "delete_cmd_postfix": "",
     "delete_cmd_prefix": "del ",
     "library": "var_list.py",
     "varRefreshCmd": "print(var_dic_list())"
    },
    "r": {
     "delete_cmd_postfix": ") ",
     "delete_cmd_prefix": "rm(",
     "library": "var_list.r",
     "varRefreshCmd": "cat(var_dic_list()) "
    }
   },
   "types_to_exclude": [
    "module",
    "function",
    "builtin_function_or_method",
    "instance",
    "_Feature"
   ],
   "window_display": false
  }
 },
 "nbformat": 4,
 "nbformat_minor": 4
}
