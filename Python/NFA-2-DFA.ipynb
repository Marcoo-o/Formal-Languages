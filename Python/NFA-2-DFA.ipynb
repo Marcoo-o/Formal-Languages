{
 "cells": [
  {
   "cell_type": "code",
   "execution_count": null,
   "metadata": {},
   "outputs": [],
   "source": [
    "from IPython.core.display import HTML\n",
    "with open('../style.css', 'r') as file:\n",
    "    css = file.read()\n",
    "HTML(css)"
   ]
  },
  {
   "cell_type": "markdown",
   "metadata": {},
   "source": [
    "# Converting a Non-Deterministic <span style=\"font-variant:small-caps;\">Fsm</span> into a Deterministic <span style=\"font-variant:small-caps;\">Fsm</span>"
   ]
  },
  {
   "cell_type": "markdown",
   "metadata": {},
   "source": [
    "In this notebook we show how a non-deterministic <span style=\"font-variant:small-caps;\">Fsm</span>\n",
    "$$ F = \\langle Q, \\Sigma, \\delta, q_0, A \\rangle $$\n",
    "can be transformed into a deterministic <span style=\"font-variant:small-caps;\">Fsm</span> $\\texttt{det}(F)$ such that both <span style=\"font-variant:small-caps;\">Fsm</span>s accept the\n",
    "same language, that is we have\n",
    "$$ L(F) = L\\bigl(\\texttt{det}(F)\\bigr). $$\n",
    "The idea behind this transformation is that the <span style=\"font-variant:small-caps;\">Fsm</span> $\\texttt{det}(F)$ has to \n",
    "compute the set of all states that the <span style=\"font-variant:small-caps;\">Fsm</span> $F$ could be in. \n",
    "Hence the states of the deterministic <span style=\"font-variant:small-caps;\">Fsm</span> $\\texttt{det}(F)$ are \n",
    "**sets** of states of the non-deterministic <span style=\"font-variant:small-caps;\">Fsm</span> $F$.  A set of these states contains all those states that the non-deterministic <span style=\"font-variant:small-caps;\">Fsm</span> \n",
    "$F$ could have reached.  Furthermore, a set $M$ of states of the <span style=\"font-variant:small-caps;\">Fsm</span> $F$ is an accepting state of the <span style=\"font-variant:small-caps;\">Fsm</span> $\\texttt{det}(F)$ if the set $M$ contains an accepting state of the <span style=\"font-variant:small-caps;\">Fsm</span> $F$."
   ]
  },
  {
   "cell_type": "markdown",
   "metadata": {},
   "source": [
    "<hr style=\"height:5px;background-color:blue\">"
   ]
  },
  {
   "cell_type": "markdown",
   "metadata": {},
   "source": [
    "In order to present the construction of $\\texttt{det}(F)$ we first have to define two auxiliary functions.\n",
    "We start with the <em style=\"color:blue\">$\\varepsilon$-closure</em> of a given state. \n",
    "\n",
    "The function `epsClosure` takes two arguments:\n",
    "- `s` is a state, \n",
    "- `delta` is the transition function of the non-deterministic <span style=\"font-variant:small-caps;\">Fsm</span> $F$.\n",
    "\n",
    "The function computes the set of all those states that can be reached from the state\n",
    "`s` via $\\varepsilon$-transitions.\n",
    "Formally, the set $\\texttt{epsClosure}(q)$ is defined inductively:\n",
    "- $s \\in \\texttt{epsClosure}(s)$.\n",
    "- $p \\in \\texttt{epsClosure}(s) \\wedge r \\in \\delta(p, \\varepsilon) \\;\\rightarrow\\; r \\in \\texttt{epsClosure}(s)$.\n",
    " \n",
    "  If the state $p$ is an element of the $\\varepsilon$-closure of the state $s$ \n",
    "  and there is an $\\varepsilon$-transition from $p$ to some state $r$, then $r$ \n",
    "  is also an element of the $\\varepsilon$-transition of $s$."
   ]
  },
  {
   "cell_type": "code",
   "execution_count": null,
   "metadata": {},
   "outputs": [],
   "source": [
    "def epsClosure(s, delta):\n",
    "    Result = { s }\n",
    "    while True:\n",
    "        NewStates = { p for q in Result \n",
    "                        for p in delta.get((q, ''), set())\n",
    "                    }\n",
    "        if NewStates <= Result:\n",
    "            return frozenset(Result)\n",
    "        Result |= NewStates"
   ]
  },
  {
   "cell_type": "markdown",
   "metadata": {},
   "source": [
    "In order to transform a non-deterministic <span style=\"font-variant:small-caps;\">Fsm</span> $F$ into a deterministic \n",
    "<span style=\"font-variant:small-caps;\">Fsm</span>\n",
    "$\\texttt{det}(F)$ we have to extend the function $\\delta:Q \\times \\Sigma \\rightarrow 2^Q$ into the function\n",
    "$$\\delta^*: Q \\times \\Sigma \\rightarrow 2^Q. $$\n",
    "The idea is that given a state $q$ and a character $c$,  the value of $\\delta^*(q,c)$ is the set of all states that the\n",
    "<span style=\"font-variant:small-caps;\">Fsm</span> $F$ could reach when it reads the character $c$ in state $q$ and then performs an arbitrary number of $\\varepsilon$-transitions.  Formally, the definition of $\\delta^*$ is as follows:\n",
    "$$ \\delta^*(q_1, c) := \\bigcup \\bigl\\{ \\texttt{epsClosure}(q_2) \\bigm| q_2 \\in \\delta(q_1, c) \\bigr \\}. $$\n",
    "This formula is to be read as follows:\n",
    "- For every state $q_2 \\in Q$ that can be reached from the state $q_1$ by reading the character $c$ we\n",
    "  compute $\\texttt{epsClosure}(q_2)$.\n",
    "- Then we take the union of all these sets $\\texttt{epsClosure}(q_2)$.\n",
    "\n",
    "The function $\\delta^*$ is implemented as the function `deltaStar`, which takes three arguments:\n",
    "- `s` is a state,\n",
    "- `c` is a character,\n",
    "- `𝛿` is the transition function of a deterministic \n",
    "  <span style=\"font-variant:small-caps;\">Fsm</span>.\n",
    "\n",
    "This function computes the set of all those states that can be reached \n",
    "from `s` when we first have a transition from state `s` to some state `p` \n",
    "on reading the character `c` followed by any number of $\\varepsilon$-transitions\n",
    "starting in `p`."
   ]
  },
  {
   "cell_type": "code",
   "execution_count": null,
   "metadata": {},
   "outputs": [],
   "source": [
    "def deltaStar(s, c, delta):\n",
    "    return { p for q in delta.get((s, c), set())\n",
    "               for p in epsClosure(q, delta)\n",
    "           }"
   ]
  },
  {
   "cell_type": "markdown",
   "metadata": {},
   "source": [
    "The function  $\\delta^*$ maps a state into a set of states.  Since the <span style=\"font-variant:small-caps;\">Fsm</span> $\\texttt{det}(F)$ uses sets of states of the <span style=\"font-variant:small-caps;\">Fsm</span> $F$ as its states we need a function that maps sets of states of the <span style=\"font-variant:small-caps;\">Fsm</span> $F$ into sets of states.  Hence we generalize \n",
    "the function $\\delta^*$ to the function\n",
    "$$ \\Delta: 2^Q \\times \\Sigma \\rightarrow 2^Q $$\n",
    "such that for a set $M$ of states and a character $c$ the expression $\\Delta(M, c)$\n",
    "computes the set of all those states that the <span style=\"font-variant:small-caps;\">Fsm</span> $F$ could be in if it is in a state from the set $M$, then\n",
    "reads the character $c$, and finally makes some $\\varepsilon$-transitions.\n",
    "The formal definition is as follows: \n",
    "$$ \\Delta(M,c) := \\bigcup \\bigl\\{ \\delta^*(q,c) \\bigm| q \\in M \\bigr\\}. $$\n",
    "This formula is easy to understand:  For every state  $q \\in M$ we compute the set of states that the\n",
    "<span style=\"font-variant:small-caps;\">Fsm</span> could be in after reading the character $c$ and doing some \n",
    "$\\varepsilon$-transitions.  Then we take the union of these sets."
   ]
  },
  {
   "cell_type": "code",
   "execution_count": null,
   "metadata": {},
   "outputs": [],
   "source": [
    "def capitalDelta(M, c, delta):\n",
    "    Result = { s for q in M \n",
    "                 for s in deltaStar(q, c, delta) \n",
    "             }\n",
    "    return frozenset(Result)"
   ]
  },
  {
   "cell_type": "markdown",
   "metadata": {},
   "source": [
    "The function `allStates` takes three arguments:\n",
    "- $Q$ is $\\texttt{epsClosure}(q0)$, where $q_0$ is the start state of the deterministic <span style=\"font-variant:small-caps;\">Fsm</span> $\\texttt{det}(F)$,\n",
    "- $\\delta$ is the transition function of the non-deterministic <span style=\"font-variant:small-caps;\">Fsm</span> $F$, and\n",
    "- $\\Sigma$ is the alphabet of the non-deterministic <span style=\"font-variant:small-caps;\">Fsm</span> $F$.\n",
    "\n",
    "The function `allStates` computes the set of all states of the deterministic <span style=\"font-variant:small-caps;\">Fsm</span> $\\texttt{det}(F)$\n",
    "that can be reached from the start state."
   ]
  },
  {
   "cell_type": "code",
   "execution_count": null,
   "metadata": {},
   "outputs": [],
   "source": [
    "def allStates(Q, delta, Sigma):\n",
    "    Result = { Q }\n",
    "    while True:\n",
    "        NewStates = { capitalDelta(M, c, delta) for M in Result \n",
    "                                                for c in Sigma \n",
    "                    }\n",
    "        if NewStates <= Result:\n",
    "            return Result\n",
    "        Result |= NewStates"
   ]
  },
  {
   "cell_type": "markdown",
   "metadata": {},
   "source": [
    "Now we are ready to formally define how the deterministic <span style=\"font-variant:small-caps;\">Fsm</span> $\\texttt{det}(F)$\n",
    "is computed from the non-deterministic <span style=\"font-variant:small-caps;\">Fsm</span>\n",
    "$F = \\bigl\\langle Q, \\Sigma, \\delta, q_0, A \\bigr\\rangle$.\n",
    "We define: \n",
    "$$ \\texttt{det}(F) := \\bigl\\langle \\texttt{allStates}(\\texttt{epsClosure}(q_0)), \\Sigma, \\Delta, \\texttt{epsClosure}(q_0), \\widehat{A} \\bigr\\rangle $$\n",
    "where the components of this tuple are given as follows:\n",
    "- The set of states of $\\texttt{det}(F)$ is the set of all states that can be reached from the set $\\texttt{epsClosure}(q_0)$.\n",
    "- The input alphabet $\\Sigma$ does not change when going from $F$ to $\\texttt{det}(F)$.\n",
    "  After all, the deterministic <span style=\"font-variant:small-caps;\">Fsm</span> $\\texttt{det}(F)$ has to recognize the same language as the non-deterministic\n",
    "  <span style=\"font-variant:small-caps;\">Fsm</span> $F$.\n",
    "- The function $\\Delta$ that has been defined previously specified how the set of states change when a\n",
    "  character is read.\n",
    "- The start state $\\texttt{epsClosure}(q_0)$ of the non-deterministic <span style=\"font-variant:small-caps;\">Fsm</span> $\\texttt{det}(F)$ is the set of all states\n",
    "  that can be reached from the start state $q_0$ of the non-deterministic <span style=\"font-variant:small-caps;\">Fsm</span> $F$\n",
    "  via $\\varepsilon$-transitions.\n",
    "- The set of accepting states $\\widehat{F}$ is the set of those subsets of $Q$ that contain an accepting\n",
    "  state of the <span style=\"font-variant:small-caps;\">Fsm</span> $Q$:\n",
    "  $$\\widehat{A} := \\bigl\\{ M \\in 2^Q \\mid M \\cap A \\not= \\{\\} \\bigl\\}. $$"
   ]
  },
  {
   "cell_type": "code",
   "execution_count": null,
   "metadata": {},
   "outputs": [],
   "source": [
    "def nfa2dfa(nfa):\n",
    "    States, Sigma, delta, q0, Final = nfa\n",
    "    newStart   = epsClosure(q0, delta)\n",
    "    NewStates  = allStates(newStart, delta, Sigma)\n",
    "    newDelta   = { (M, c): capitalDelta(M, c, delta) for M in NewStates\n",
    "                                                     for c in Sigma\n",
    "                 }\n",
    "    NewFinal   = { M for M in NewStates \n",
    "                     if  M & Final != set() \n",
    "                 }\n",
    "    return NewStates, Sigma, newDelta, newStart, NewFinal"
   ]
  },
  {
   "cell_type": "markdown",
   "metadata": {},
   "source": [
    "To test this function, use the notebook `Test-NFA-2-DFA.ipynb`."
   ]
  },
  {
   "cell_type": "code",
   "execution_count": null,
   "metadata": {},
   "outputs": [],
   "source": []
  }
 ],
 "metadata": {
  "kernelspec": {
   "display_name": "Python 3",
   "language": "python",
   "name": "python3"
  },
  "language_info": {
   "codemirror_mode": {
    "name": "ipython",
    "version": 3
   },
   "file_extension": ".py",
   "mimetype": "text/x-python",
   "name": "python",
   "nbconvert_exporter": "python",
   "pygments_lexer": "ipython3",
   "version": "3.8.3"
  },
  "varInspector": {
   "cols": {
    "lenName": 16,
    "lenType": 16,
    "lenVar": 40
   },
   "kernels_config": {
    "python": {
     "delete_cmd_postfix": "",
     "delete_cmd_prefix": "del ",
     "library": "var_list.py",
     "varRefreshCmd": "print(var_dic_list())"
    },
    "r": {
     "delete_cmd_postfix": ") ",
     "delete_cmd_prefix": "rm(",
     "library": "var_list.r",
     "varRefreshCmd": "cat(var_dic_list()) "
    }
   },
   "types_to_exclude": [
    "module",
    "function",
    "builtin_function_or_method",
    "instance",
    "_Feature"
   ],
   "window_display": false
  }
 },
 "nbformat": 4,
 "nbformat_minor": 4
}
