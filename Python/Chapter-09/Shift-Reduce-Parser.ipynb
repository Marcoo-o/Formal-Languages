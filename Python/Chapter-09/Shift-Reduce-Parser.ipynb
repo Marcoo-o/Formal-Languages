{
 "cells": [
  {
   "cell_type": "code",
   "execution_count": 1,
   "metadata": {},
   "outputs": [
    {
     "data": {
      "text/html": [
       "<link href='http://fonts.googleapis.com/css?family=Alegreya+Sans:100,300,400,500,700,800,900,100italic,300italic,400italic,500italic,700italic,800italic,900italic' rel='stylesheet' type='text/css'>\n",
       "<link href='http://fonts.googleapis.com/css?family=Arvo:400,700,400italic' rel='stylesheet' type='text/css'>\n",
       "<link href='http://fonts.googleapis.com/css?family=PT+Mono' rel='stylesheet' type='text/css'>\n",
       "<link href='http://fonts.googleapis.com/css?family=Shadows+Into+Light' rel='stylesheet' type='text/css'>\n",
       "<link href='http://fonts.googleapis.com/css?family=Philosopher:400,700,400italic,700italic' rel='stylesheet' type='text/css'>\n",
       "\n",
       "<style>\n",
       "\n",
       "@font-face {\n",
       "    font-family: \"Computer Modern\";\n",
       "    src: url('http://mirrors.ctan.org/fonts/cm-unicode/fonts/otf/cmunss.otf');\n",
       "}\n",
       "\n",
       ".container { width: 100% }\n",
       "\n",
       "/* Formatting for header cells */\n",
       ".text_cell_render h1 {\n",
       "    font-family: 'Philosopher', sans-serif;\n",
       "    font-weight: 400;\n",
       "    font-size: 2.2em;\n",
       "    line-height: 100%;\n",
       "    color: rgb(0, 80, 120);\n",
       "    margin-bottom: 0.1em;\n",
       "    margin-top: 0.1em;\n",
       "    display: block;\n",
       "}\t\n",
       ".text_cell_render h2 {\n",
       "    font-family: 'Philosopher', serif;\n",
       "    font-weight: 400;\n",
       "    font-size: 1.9em;\n",
       "    line-height: 100%;\n",
       "    color: rgb(200,100,0);\n",
       "    margin-bottom: 0.1em;\n",
       "    margin-top: 0.1em;\n",
       "    display: block;\n",
       "}\t\n",
       "\n",
       ".text_cell_render h3 {\n",
       "    font-family: 'Philosopher', serif;\n",
       "    margin-top:12px;\n",
       "    margin-bottom: 3px;\n",
       "    font-style: italic;\n",
       "    color: rgb(94,127,192);\n",
       "}\n",
       "\n",
       ".text_cell_render h4 {\n",
       "    font-family: 'Philosopher', serif;\n",
       "}\n",
       "\n",
       ".text_cell_render h5 {\n",
       "    font-family: 'Alegreya Sans', sans-serif;\n",
       "    font-weight: 300;\n",
       "    font-size: 16pt;\n",
       "    color: grey;\n",
       "    font-style: italic;\n",
       "    margin-bottom: .1em;\n",
       "    margin-top: 0.1em;\n",
       "    display: block;\n",
       "}\n",
       "\n",
       ".text_cell_render h6 {\n",
       "    font-family: 'PT Mono', sans-serif;\n",
       "    font-weight: 300;\n",
       "    font-size: 10pt;\n",
       "    color: grey;\n",
       "    margin-bottom: 1px;\n",
       "    margin-top: 1px;\n",
       "}\n",
       "\n",
       ".text_cell_render em {\n",
       "    font-family: 'Philosopher', sans-serif;\n",
       "    color:        blue;\n",
       "    background-color: rgb(255,220,180);\n",
       "    font-size:    110%;\n",
       "    margin-left:   2px;\n",
       "    margin-right:  2px;\n",
       "    font-weight:   100;\n",
       "}\n",
       "\n",
       ".text_cell_render b {\n",
       "    color:            rgb(255,195,195);\n",
       "    background-color: rgb(0,0,0);\n",
       "    font-size:    110%;\n",
       "    margin-left:   2px;\n",
       "    margin-right:  2px;\n",
       "    font-weight:   650;\n",
       "}\n",
       "\n",
       ".text_cell_render tt {\n",
       "    font-size:    120%;\n",
       "    margin-left:   2px;\n",
       "    margin-right:  2px;\n",
       "    font-weight:   150;\n",
       "}\n",
       "\n",
       ".CodeMirror{\n",
       "        font-family: \"PT Mono\";\n",
       "        font-size: 100%;\n",
       "}\n",
       "\n",
       "</style>\n",
       "\n"
      ],
      "text/plain": [
       "<IPython.core.display.HTML object>"
      ]
     },
     "execution_count": 1,
     "metadata": {},
     "output_type": "execute_result"
    }
   ],
   "source": [
    "from IPython.core.display import HTML\n",
    "with open (\"../style.css\", \"r\") as file:\n",
    "    css = file.read()\n",
    "HTML(css)"
   ]
  },
  {
   "cell_type": "code",
   "execution_count": 2,
   "metadata": {},
   "outputs": [
    {
     "name": "stderr",
     "output_type": "stream",
     "text": [
      "Version 1.0.5\n"
     ]
    }
   ],
   "source": [
    "%load_ext nb_mypy"
   ]
  },
  {
   "cell_type": "markdown",
   "metadata": {},
   "source": [
    "# A Shift-Reduce Parser for Arithmetic Expressions\n",
    "\n",
    "In this notebook we implement a simple *recursive descend* parser for arithmetic expressions.\n",
    "This parser will implement the following grammar:\n",
    "$$\n",
    "  \\begin{eqnarray*}\n",
    "  \\mathrm{expr}        & \\rightarrow & \\mathrm{expr}\\;\\;\\texttt{'+'}\\;\\;\\mathrm{product}   \\\\\n",
    "                       & \\mid        & \\mathrm{expr}\\;\\;\\texttt{'-'}\\;\\;\\mathrm{product}   \\\\\n",
    "                       & \\mid        & \\mathrm{product}                                    \\\\[0.2cm]\n",
    "  \\mathrm{product}     & \\rightarrow & \\mathrm{product}\\;\\;\\texttt{'*'}\\;\\;\\mathrm{factor} \\\\\n",
    "                       & \\mid        & \\mathrm{product}\\;\\;\\texttt{'/'}\\;\\;\\mathrm{factor} \\\\\n",
    "                       & \\mid        & \\mathrm{factor}                                     \\\\[0.2cm]\n",
    "  \\mathrm{factor}      & \\rightarrow & \\texttt{'('} \\;\\;\\mathrm{expr} \\;\\;\\texttt{')'}     \\\\\n",
    "                       & \\mid        & \\texttt{NUMBER} \n",
    "  \\end{eqnarray*}\n",
    "$$"
   ]
  },
  {
   "cell_type": "code",
   "execution_count": 3,
   "metadata": {},
   "outputs": [],
   "source": [
    "import re"
   ]
  },
  {
   "cell_type": "markdown",
   "metadata": {},
   "source": [
    "The function `tokenize` transforms the string `s` into a list of tokens. See below for an example."
   ]
  },
  {
   "cell_type": "code",
   "execution_count": 4,
   "metadata": {},
   "outputs": [],
   "source": [
    "def tokenize(s: str) -> list[str]:\n",
    "    '''Transform the string s into a list of tokens.  The string s\n",
    "       is supposed to represent an arithmetic expression.\n",
    "    '''\n",
    "    lexSpec = r'''([ \\t\\n]+)      |  # blanks and tabs\n",
    "                  ([1-9][0-9]*|0) |  # number\n",
    "                  ([-+*/()])      |  # arithmetical operators\n",
    "                  (.)                # unrecognized character\n",
    "               '''\n",
    "    tokenList = re.findall(lexSpec, s, re.VERBOSE)\n",
    "    result    = []\n",
    "    for ws, number, operator, error in tokenList:\n",
    "        if ws:        # skip blanks and tabs\n",
    "            continue\n",
    "        elif number:\n",
    "            result += [ 'NUMBER' ]\n",
    "        elif operator:\n",
    "            result += [ operator ]\n",
    "        else:\n",
    "            result += [ f'ERROR({error})']\n",
    "    return result"
   ]
  },
  {
   "cell_type": "code",
   "execution_count": 5,
   "metadata": {},
   "outputs": [
    {
     "data": {
      "text/plain": [
       "['NUMBER', '+', 'NUMBER', '*', '(', 'NUMBER', '-', 'NUMBER', ')']"
      ]
     },
     "execution_count": 5,
     "metadata": {},
     "output_type": "execute_result"
    }
   ],
   "source": [
    "tokenize('1 + 2 * (3 - 4)')"
   ]
  },
  {
   "cell_type": "code",
   "execution_count": 6,
   "metadata": {},
   "outputs": [],
   "source": [
    "Rule       = tuple[str, tuple[str, ...]]\n",
    "Action     = str | tuple[str, str] | tuple[str, Rule]\n",
    "actionTable: dict[tuple[str, str], Action]\n",
    "gotoTable  : dict[tuple[str, str], str]\n",
    "stateTable : dict[str, set[str]]"
   ]
  },
  {
   "cell_type": "code",
   "execution_count": 7,
   "metadata": {},
   "outputs": [],
   "source": [
    "class ShiftReduceParser():\n",
    "    def __init__(self, \n",
    "                 actionTable: dict[tuple[str, str], Action],\n",
    "                 gotoTable  : dict[tuple[str, str], str], \n",
    "                 stateTable : dict[str, set[str]]):\n",
    "        self.mActionTable = actionTable\n",
    "        self.mGotoTable   = gotoTable\n",
    "        self.mStateTable  = stateTable\n",
    "        \n",
    "    def parse(self, TL: list[str]) -> bool:\n",
    "        return None # type: ignore"
   ]
  },
  {
   "cell_type": "code",
   "execution_count": 8,
   "metadata": {},
   "outputs": [],
   "source": [
    "def parse(self, TL: list[str]) -> bool:\n",
    "    index   = 0      # points to next token\n",
    "    Symbols: list[str] = []     # stack of symbols\n",
    "    States : list[str] = ['s0'] # stack of states, s0 is start state\n",
    "    TL     += ['EOF']\n",
    "    while True:\n",
    "        q = States[-1]\n",
    "        t = TL[index]\n",
    "        print(f'States:  [ {\", \".join(States)} ]')\n",
    "        print('Symbols:', ' '.join(Symbols + ['|'] + TL[index:]).strip())\n",
    "        print('State:   {', \", \".join(self.mStateTable[q]), '}')\n",
    "        match self.mActionTable.get((q, t), 'error'):\n",
    "            case 'error': \n",
    "                print(f'Action({q}, {t}) undefined.')\n",
    "                print('Syntax error!\\n')\n",
    "                return False\n",
    "            case 'accept':\n",
    "                print('Accepting!\\n')\n",
    "                return True\n",
    "            case 'shift', s:\n",
    "                print(f'Shifting state {s}')\n",
    "                print('State:   {', ', '.join(self.mStateTable[s]), '}\\n')\n",
    "                Symbols += [t]\n",
    "                States  += [s]\n",
    "                index   += 1\n",
    "            case 'reduce', rule:\n",
    "                head, body = rule\n",
    "                print(f'Reducing with rule {head} → {\" \".join(body)}')\n",
    "                n       = len(body)\n",
    "                Symbols = Symbols[:-n]\n",
    "                States  = States [:-n] \n",
    "                Symbols = Symbols + [head]\n",
    "                state   = States[-1]\n",
    "                States += [ self.mGotoTable[state, head] ]\n",
    "                print('State:   {', ', '.join(self.mStateTable[self.mGotoTable[state, head]]), '}\\n')\n",
    "            \n",
    "ShiftReduceParser.parse = parse # type: ignore\n",
    "del parse"
   ]
  },
  {
   "cell_type": "code",
   "execution_count": 9,
   "metadata": {},
   "outputs": [
    {
     "name": "stdout",
     "output_type": "stream",
     "text": [
      "The nb_mypy extension is already loaded. To reload it, use:\n",
      "  %reload_ext nb_mypy\n"
     ]
    }
   ],
   "source": [
    "%run Parse-Table.ipynb"
   ]
  },
  {
   "cell_type": "markdown",
   "metadata": {},
   "source": [
    "## Testing"
   ]
  },
  {
   "cell_type": "code",
   "execution_count": 10,
   "metadata": {},
   "outputs": [],
   "source": [
    "def test(s: str) -> None: \n",
    "    parser = ShiftReduceParser(actionTable, gotoTable, stateTable)\n",
    "    TL     = tokenize(s)\n",
    "    print(f'tokenlist: {TL}\\n')\n",
    "    if parser.parse(TL):\n",
    "        print('Parse successful!')\n",
    "    else:\n",
    "        print('Parse failed!')"
   ]
  },
  {
   "cell_type": "code",
   "execution_count": 11,
   "metadata": {
    "scrolled": false
   },
   "outputs": [
    {
     "name": "stdout",
     "output_type": "stream",
     "text": [
      "tokenlist: ['NUMBER', '+', 'NUMBER', '*', 'NUMBER']\n",
      "\n",
      "States:  [ s0 ]\n",
      "Symbols: | NUMBER + NUMBER * NUMBER EOF\n",
      "State:   { f -> • NUMBER, e -> • e \"-\" p, s -> • e, e -> • p, p -> • p \"/\" f, e -> • e \"+\" p, p -> • p \"*\" f, f -> • \"(\" e \")\", p -> • f }\n",
      "Shifting state s2\n",
      "State:   { f -> NUMBER • }\n",
      "\n",
      "States:  [ s0, s2 ]\n",
      "Symbols: NUMBER | + NUMBER * NUMBER EOF\n",
      "State:   { f -> NUMBER • }\n",
      "Reducing with rule f → NUMBER\n",
      "State:   { p -> f • }\n",
      "\n",
      "States:  [ s0, s1 ]\n",
      "Symbols: f | + NUMBER * NUMBER EOF\n",
      "State:   { p -> f • }\n",
      "Reducing with rule p → f\n",
      "State:   { p -> p • \"*\" f, p -> p • \"/\" f, e -> p • }\n",
      "\n",
      "States:  [ s0, s3 ]\n",
      "Symbols: p | + NUMBER * NUMBER EOF\n",
      "State:   { p -> p • \"*\" f, p -> p • \"/\" f, e -> p • }\n",
      "Reducing with rule e → p\n",
      "State:   { e -> e • \"+\" p, S -> e •, e -> e • \"-\" p }\n",
      "\n",
      "States:  [ s0, s4 ]\n",
      "Symbols: e | + NUMBER * NUMBER EOF\n",
      "State:   { e -> e • \"+\" p, S -> e •, e -> e • \"-\" p }\n",
      "Shifting state s8\n",
      "State:   { f -> • NUMBER, f -> • \"(\" e \")\", p -> • p \"*\" f, e -> e \"+\" • p, p -> • f, p -> • p \"/\" f }\n",
      "\n",
      "States:  [ s0, s4, s8 ]\n",
      "Symbols: e + | NUMBER * NUMBER EOF\n",
      "State:   { f -> • NUMBER, f -> • \"(\" e \")\", p -> • p \"*\" f, e -> e \"+\" • p, p -> • f, p -> • p \"/\" f }\n",
      "Shifting state s2\n",
      "State:   { f -> NUMBER • }\n",
      "\n",
      "States:  [ s0, s4, s8, s2 ]\n",
      "Symbols: e + NUMBER | * NUMBER EOF\n",
      "State:   { f -> NUMBER • }\n",
      "Reducing with rule f → NUMBER\n",
      "State:   { p -> f • }\n",
      "\n",
      "States:  [ s0, s4, s8, s1 ]\n",
      "Symbols: e + f | * NUMBER EOF\n",
      "State:   { p -> f • }\n",
      "Reducing with rule p → f\n",
      "State:   { p -> p • \"*\" f, e -> e \"+\" p •, p -> p • \"/\" f }\n",
      "\n",
      "States:  [ s0, s4, s8, s15 ]\n",
      "Symbols: e + p | * NUMBER EOF\n",
      "State:   { p -> p • \"*\" f, e -> e \"+\" p •, p -> p • \"/\" f }\n",
      "Shifting state s12\n",
      "State:   { f -> • NUMBER, f -> • \"(\" e \")\", p -> p \"*\" • f }\n",
      "\n",
      "States:  [ s0, s4, s8, s15, s12 ]\n",
      "Symbols: e + p * | NUMBER EOF\n",
      "State:   { f -> • NUMBER, f -> • \"(\" e \")\", p -> p \"*\" • f }\n",
      "Shifting state s2\n",
      "State:   { f -> NUMBER • }\n",
      "\n",
      "States:  [ s0, s4, s8, s15, s12, s2 ]\n",
      "Symbols: e + p * NUMBER | EOF\n",
      "State:   { f -> NUMBER • }\n",
      "Reducing with rule f → NUMBER\n",
      "State:   { p -> p \"*\" f • }\n",
      "\n",
      "States:  [ s0, s4, s8, s15, s12, s13 ]\n",
      "Symbols: e + p * f | EOF\n",
      "State:   { p -> p \"*\" f • }\n",
      "Reducing with rule p → p * f\n",
      "State:   { p -> p • \"*\" f, e -> e \"+\" p •, p -> p • \"/\" f }\n",
      "\n",
      "States:  [ s0, s4, s8, s15 ]\n",
      "Symbols: e + p | EOF\n",
      "State:   { p -> p • \"*\" f, e -> e \"+\" p •, p -> p • \"/\" f }\n",
      "Reducing with rule e → e + p\n",
      "State:   { e -> e • \"+\" p, S -> e •, e -> e • \"-\" p }\n",
      "\n",
      "States:  [ s0, s4 ]\n",
      "Symbols: e | EOF\n",
      "State:   { e -> e • \"+\" p, S -> e •, e -> e • \"-\" p }\n",
      "Accepting!\n",
      "\n",
      "Parse successful!\n"
     ]
    }
   ],
   "source": [
    "test('1 + 2 * 3')"
   ]
  },
  {
   "cell_type": "code",
   "execution_count": null,
   "metadata": {
    "scrolled": true
   },
   "outputs": [],
   "source": [
    "test('1 + 2 * (3 - 4)')"
   ]
  },
  {
   "cell_type": "code",
   "execution_count": null,
   "metadata": {},
   "outputs": [],
   "source": []
  }
 ],
 "metadata": {
  "@webio": {
   "lastCommId": null,
   "lastKernelId": null
  },
  "kernelspec": {
   "display_name": "Python 3 (ipykernel)",
   "language": "python",
   "name": "python3"
  },
  "language_info": {
   "codemirror_mode": {
    "name": "ipython",
    "version": 3
   },
   "file_extension": ".py",
   "mimetype": "text/x-python",
   "name": "python",
   "nbconvert_exporter": "python",
   "pygments_lexer": "ipython3",
   "version": "3.11.5"
  },
  "varInspector": {
   "cols": {
    "lenName": 16,
    "lenType": 16,
    "lenVar": 40
   },
   "kernels_config": {
    "python": {
     "delete_cmd_postfix": "",
     "delete_cmd_prefix": "del ",
     "library": "var_list.py",
     "varRefreshCmd": "print(var_dic_list())"
    },
    "r": {
     "delete_cmd_postfix": ") ",
     "delete_cmd_prefix": "rm(",
     "library": "var_list.r",
     "varRefreshCmd": "cat(var_dic_list()) "
    }
   },
   "types_to_exclude": [
    "module",
    "function",
    "builtin_function_or_method",
    "instance",
    "_Feature"
   ],
   "window_display": false
  }
 },
 "nbformat": 4,
 "nbformat_minor": 4
}
