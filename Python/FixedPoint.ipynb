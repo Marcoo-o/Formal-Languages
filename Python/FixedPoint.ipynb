{
 "cells": [
  {
   "cell_type": "code",
   "execution_count": null,
   "metadata": {},
   "outputs": [],
   "source": [
    "from IPython.core.display import HTML\n",
    "with open (\"style.css\", \"r\") as file:\n",
    "    css = file.read()\n",
    "HTML(css)"
   ]
  },
  {
   "cell_type": "markdown",
   "metadata": {},
   "source": [
    "The function `fixpoint` takes two arguments:\n",
    "  - $S_0$ is a set of elements, \n",
    "  - $f$ is a function mapping elements to sets of elements.  \n",
    "  \n",
    "The function `fixpoint` computes the smallest set $S$ such the following conditions holds: \n",
    "- $S_0 \\subseteq S$,\n",
    "- $S = \\bigcup \\{ f(x) \\mid x \\in S \\}$.  \n",
    "\n",
    "This set is computed via fix-point iteration."
   ]
  },
  {
   "cell_type": "code",
   "execution_count": null,
   "metadata": {},
   "outputs": [],
   "source": [
    "def fixpoint(S0, f):\n",
    "    Result = S0.copy() # don't change S0\n",
    "    while True:\n",
    "        NewElements = { x for M in Result \n",
    "                          for x in f(M) \n",
    "                      }\n",
    "        if NewElements.issubset(Result):\n",
    "            return Result\n",
    "        Result |= NewElements"
   ]
  },
  {
   "cell_type": "code",
   "execution_count": null,
   "metadata": {},
   "outputs": [],
   "source": [
    "fixpoint(set(range(80, 91)), lambda x: { x // 2 })"
   ]
  },
  {
   "cell_type": "markdown",
   "metadata": {},
   "source": [
    "The function `fpMap` takes two parameters:\n",
    "- `D` is a dictionary,\n",
    "- `f` is a function taking a dictionary as its argument and\n",
    "   updating this dictionary.  `f` will return `True` if \n",
    "   the dictionary is changed and `False` otherwise.\n",
    "   \n",
    "The function `fpMap` computes a <em style=\"color:blue\">fixpoint</em> of `f`: It returns \n",
    "a dictionary `D` such that `f(D) = False`."
   ]
  },
  {
   "cell_type": "code",
   "execution_count": null,
   "metadata": {},
   "outputs": [],
   "source": [
    "def fpMap(D, f):\n",
    "    change = True;\n",
    "    while change:\n",
    "        change = f(D)    \n",
    "    return D"
   ]
  },
  {
   "cell_type": "code",
   "execution_count": null,
   "metadata": {},
   "outputs": [],
   "source": []
  }
 ],
 "metadata": {
  "kernelspec": {
   "display_name": "Python 3",
   "language": "python",
   "name": "python3"
  },
  "language_info": {
   "codemirror_mode": {
    "name": "ipython",
    "version": 3
   },
   "file_extension": ".py",
   "mimetype": "text/x-python",
   "name": "python",
   "nbconvert_exporter": "python",
   "pygments_lexer": "ipython3",
   "version": "3.8.3"
  },
  "varInspector": {
   "cols": {
    "lenName": 16,
    "lenType": 16,
    "lenVar": 40
   },
   "kernels_config": {
    "python": {
     "delete_cmd_postfix": "",
     "delete_cmd_prefix": "del ",
     "library": "var_list.py",
     "varRefreshCmd": "print(var_dic_list())"
    },
    "r": {
     "delete_cmd_postfix": ") ",
     "delete_cmd_prefix": "rm(",
     "library": "var_list.r",
     "varRefreshCmd": "cat(var_dic_list()) "
    }
   },
   "types_to_exclude": [
    "module",
    "function",
    "builtin_function_or_method",
    "instance",
    "_Feature"
   ],
   "window_display": false
  }
 },
 "nbformat": 4,
 "nbformat_minor": 4
}
