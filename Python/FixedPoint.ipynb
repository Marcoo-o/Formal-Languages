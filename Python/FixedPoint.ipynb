{
 "cells": [
  {
   "cell_type": "code",
   "execution_count": null,
   "metadata": {},
   "outputs": [],
   "source": [
    "from IPython.core.display import HTML\n",
    "with open (\"style.css\", \"r\") as file:\n",
    "    css = file.read()\n",
    "HTML(css)"
   ]
  },
  {
   "cell_type": "markdown",
   "metadata": {},
   "source": [
    "# Fixed-Point Iteration "
   ]
  },
  {
   "cell_type": "markdown",
   "metadata": {},
   "source": [
    "The function `fixpoint` takes two arguments:\n",
    "  - $S_0$ is a set of elements, \n",
    "  - $f$ is a function mapping elements to sets of elements.  \n",
    "  \n",
    "The function `fixpoint` computes the smallest set $S$ such the following conditions holds: \n",
    "- $S_0 \\subseteq S$,\n",
    "- $S = \\bigcup \\{ f(x) \\mid x \\in S \\}$.  "
   ]
  },
  {
   "cell_type": "code",
   "execution_count": null,
   "metadata": {},
   "outputs": [],
   "source": [
    "def fixpoint(S0, f):\n",
    "    Result = S0.copy() # don't change S0\n",
    "    while True:\n",
    "        NewElements = { x for o in Result \n",
    "                          for x in f(o) \n",
    "                      }\n",
    "        if NewElements.issubset(Result):\n",
    "            return Result\n",
    "        Result |= NewElements"
   ]
  },
  {
   "cell_type": "markdown",
   "metadata": {},
   "source": [
    "The function `fixpoint2` takes two arguments:\n",
    "  - $S_0$ is a set of elements, \n",
    "  - $f$ is a function mapping sets of elements to sets of elements.  \n",
    "  \n",
    "The function `fixpoint2` computes the smallest set $S$ such the following conditions holds: \n",
    "- $S_0 \\subseteq S$,\n",
    "- $S = f(S)$.  "
   ]
  },
  {
   "cell_type": "code",
   "execution_count": null,
   "metadata": {},
   "outputs": [],
   "source": [
    "def fixpoint2(S0, f):\n",
    "    Result = S0.copy() # don't change S0\n",
    "    while True:\n",
    "        NewElements = f(Result)\n",
    "        if NewElements.issubset(Result):\n",
    "            return Result\n",
    "        Result |= NewElements"
   ]
  },
  {
   "cell_type": "code",
   "execution_count": null,
   "metadata": {},
   "outputs": [],
   "source": []
  }
 ],
 "metadata": {
  "kernelspec": {
   "display_name": "Python 3",
   "language": "python",
   "name": "python3"
  },
  "language_info": {
   "codemirror_mode": {
    "name": "ipython",
    "version": 3
   },
   "file_extension": ".py",
   "mimetype": "text/x-python",
   "name": "python",
   "nbconvert_exporter": "python",
   "pygments_lexer": "ipython3",
   "version": "3.9.0"
  },
  "varInspector": {
   "cols": {
    "lenName": 16,
    "lenType": 16,
    "lenVar": 40
   },
   "kernels_config": {
    "python": {
     "delete_cmd_postfix": "",
     "delete_cmd_prefix": "del ",
     "library": "var_list.py",
     "varRefreshCmd": "print(var_dic_list())"
    },
    "r": {
     "delete_cmd_postfix": ") ",
     "delete_cmd_prefix": "rm(",
     "library": "var_list.r",
     "varRefreshCmd": "cat(var_dic_list()) "
    }
   },
   "types_to_exclude": [
    "module",
    "function",
    "builtin_function_or_method",
    "instance",
    "_Feature"
   ],
   "window_display": false
  }
 },
 "nbformat": 4,
 "nbformat_minor": 4
}
