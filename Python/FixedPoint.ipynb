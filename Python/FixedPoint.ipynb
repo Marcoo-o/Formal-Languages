{
 "cells": [
  {
   "cell_type": "code",
   "execution_count": 1,
   "metadata": {},
   "outputs": [
    {
     "data": {
      "text/html": [
       "<style>\n",
       ".container { width: 100% }\n",
       "</style>\n"
      ],
      "text/plain": [
       "<IPython.core.display.HTML object>"
      ]
     },
     "metadata": {},
     "output_type": "display_data"
    }
   ],
   "source": [
    "%%HTML\n",
    "<style>\n",
    ".container { width: 100% }\n",
    "</style>"
   ]
  },
  {
   "cell_type": "markdown",
   "metadata": {},
   "source": [
    "The function `fixpoint` takes two arguments:\n",
    "  - $S_0$ is a set of elements, \n",
    "  - $f$ is a function mapping elements to sets of elements.  \n",
    "  \n",
    "The function `fixpoint` computes the smallest set $S$ such the following conditions holds: \n",
    "- $S_0 \\subseteq S$,\n",
    "- $S = \\bigcup \\{ f(x) \\mid x \\in S \\}$.  \n",
    "\n",
    "This set is computed via fix-point iteration."
   ]
  },
  {
   "cell_type": "code",
   "execution_count": 2,
   "metadata": {},
   "outputs": [],
   "source": [
    "def fixpoint(S0, f):\n",
    "    Result = S0.copy()\n",
    "    while True:\n",
    "        NewElements = { x for M in Result \n",
    "                          for x in f(M) \n",
    "                      }\n",
    "        if NewElements.issubset(Result):\n",
    "            return Result\n",
    "        Result |= NewElements"
   ]
  },
  {
   "cell_type": "code",
   "execution_count": 3,
   "metadata": {},
   "outputs": [
    {
     "data": {
      "text/plain": [
       "{0,\n",
       " 1,\n",
       " 2,\n",
       " 5,\n",
       " 10,\n",
       " 11,\n",
       " 20,\n",
       " 21,\n",
       " 22,\n",
       " 40,\n",
       " 41,\n",
       " 42,\n",
       " 43,\n",
       " 44,\n",
       " 45,\n",
       " 80,\n",
       " 81,\n",
       " 82,\n",
       " 83,\n",
       " 84,\n",
       " 85,\n",
       " 86,\n",
       " 87,\n",
       " 88,\n",
       " 89,\n",
       " 90}"
      ]
     },
     "execution_count": 3,
     "metadata": {},
     "output_type": "execute_result"
    }
   ],
   "source": [
    "fixpoint(set(range(80, 91)), lambda x: { x // 2 })"
   ]
  },
  {
   "cell_type": "markdown",
   "metadata": {},
   "source": [
    "The function `fpMap` takes two parameters:\n",
    "- `D` is a dictionary,\n",
    "- `f` is a function taking a dictionary as its argument and\n",
    "   updating this dictionary.  `f` will return `True` if \n",
    "   the dictionary is changed and `False` otherwise.\n",
    "   \n",
    "The function `fpMap` computes a <em style=\"color:blue\">fixpoint</em> of `f`: It returns \n",
    "a dictionary `D` such that `f(D) = False`."
   ]
  },
  {
   "cell_type": "code",
   "execution_count": 4,
   "metadata": {},
   "outputs": [],
   "source": [
    "def fpMap(D, f):\n",
    "    change = True;\n",
    "    while change:\n",
    "        change = f(D)    \n",
    "    return D"
   ]
  },
  {
   "cell_type": "code",
   "execution_count": null,
   "metadata": {},
   "outputs": [],
   "source": []
  }
 ],
 "metadata": {
  "kernelspec": {
   "display_name": "Python 3",
   "language": "python",
   "name": "python3"
  },
  "language_info": {
   "codemirror_mode": {
    "name": "ipython",
    "version": 3
   },
   "file_extension": ".py",
   "mimetype": "text/x-python",
   "name": "python",
   "nbconvert_exporter": "python",
   "pygments_lexer": "ipython3",
   "version": "3.8.3"
  }
 },
 "nbformat": 4,
 "nbformat_minor": 4
}
