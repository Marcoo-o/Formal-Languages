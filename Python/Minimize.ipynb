{
 "cells": [
  {
   "cell_type": "code",
   "execution_count": null,
   "metadata": {},
   "outputs": [],
   "source": [
    "from IPython.core.display import HTML\n",
    "with open (\"style.css\", \"r\") as file:\n",
    "    css = file.read()\n",
    "HTML(css)"
   ]
  },
  {
   "cell_type": "markdown",
   "metadata": {},
   "source": [
    "# Minimizing a <span style=\"font-variant:small-caps;\">Fsm</span>"
   ]
  },
  {
   "cell_type": "code",
   "execution_count": null,
   "metadata": {},
   "outputs": [],
   "source": [
    "%run FixedPoint.ipynb"
   ]
  },
  {
   "cell_type": "code",
   "execution_count": null,
   "metadata": {},
   "outputs": [],
   "source": [
    "from typing import TypeVar, Set, FrozenSet, Dict, Tuple, Optional\n",
    "\n",
    "S = TypeVar('S')\n",
    "T = TypeVar('T')\n",
    "K = TypeVar('K')\n",
    "V = TypeVar('V')"
   ]
  },
  {
   "cell_type": "code",
   "execution_count": null,
   "metadata": {},
   "outputs": [],
   "source": [
    "%mypy\n",
    "def arb(M: Set[T]) -> T:\n",
    "    for x in M:\n",
    "        return x\n",
    "    assert False, 'Error: arb called with empty set!'"
   ]
  },
  {
   "cell_type": "markdown",
   "metadata": {},
   "source": [
    "The function `cart_prod(A, B)` computes the <em style=\"color:blue\">Cartesian product</em> $A \\times B$ of the sets $A$ and $B$ where\n",
    "$$ A \\times B := \\{ (x, y) \\mid x \\in A \\wedge y \\in B \\}. $$"
   ]
  },
  {
   "cell_type": "code",
   "execution_count": null,
   "metadata": {},
   "outputs": [],
   "source": [
    "%mypy\n",
    "def cart_prod(A: Set[S], B: Set[T]) -> Set[Tuple[S, T]]:\n",
    "    return { (x, y) for x in A for y in B }"
   ]
  },
  {
   "cell_type": "markdown",
   "metadata": {},
   "source": [
    "This function takes three arguments:\n",
    "- `Pairs`  a set `Pairs` of pairs of states from some <span style=\"font-variant:small-caps;\">Fsm</span> $F$.\n",
    "   If $(p_1, p_2) \\in \\texttt{Pairs}$, then $p_1$ and $p_2$ are known to be *separable*,\n",
    "- `States` is the set of states of the <span style=\"font-variant:small-caps;\">Fsm</span> $F$,\n",
    "- `Sigma`  is the alphabet of the underlying <span style=\"font-variant:small-caps;\">Fsm</span> $F$.\n",
    "\n",
    "The function `separate(Pairs)` computes the set of pairs of states $(q_1, q_2)$ that are separable because there is some\n",
    "$c \\in \\Sigma$ such that \n",
    "$$\\delta(q_1,c) = p_1, \\quad \\delta(q_2,c) = p_2. $$"
   ]
  },
  {
   "cell_type": "code",
   "execution_count": null,
   "metadata": {},
   "outputs": [],
   "source": [
    "%mypy\n",
    "def separate(Pairs: Set[Tuple[T, T]], \n",
    "             States: Set[T], \n",
    "             Sigma: Set[str], \n",
    "             delta: Dict[Tuple[T, str], T]\n",
    "            ) -> Set[Tuple[T, T]]:\n",
    "    return { (q1, q2) for q1 in States\n",
    "                      for q2 in States\n",
    "                      for c in Sigma \n",
    "                      if (delta[q1, c], delta[q2, c]) in Pairs\n",
    "           }"
   ]
  },
  {
   "cell_type": "markdown",
   "metadata": {},
   "source": [
    "Given a state $p$, find the equivalence class of $p$.  Here, `eqClasses` is a set of sets of states."
   ]
  },
  {
   "cell_type": "code",
   "execution_count": null,
   "metadata": {},
   "outputs": [],
   "source": [
    "%mypy\n",
    "def find_equivalence_class(p: T, eqClasses: Set[FrozenSet[T]]) -> FrozenSet[T]:\n",
    "    return arb({ C for C in eqClasses if p in C })"
   ]
  },
  {
   "cell_type": "markdown",
   "metadata": {},
   "source": [
    "The function `minimize(A)` takes a deterministic \n",
    "<span style=\"font-variant:small-caps;\">Fsm</span> `F` as its input.\n",
    "Here `F` is a 5-tuple of the form\n",
    "$$ F = (Q, \\Sigma, \\delta, q_0, A) $$\n",
    "The algorithm performs the following steps:\n",
    "1. All unreachable states are eliminated.\n",
    "2. All accepting states are separated form all non-accepting states.\n",
    "3. States are separated as long as possible.\n",
    "   Two states $p_1$ and $p_2$ are separable if there is a character \n",
    "   $c \\in \\Sigma$ such that \n",
    "   $$\\delta(p_1,c) = q_1, \\quad \\delta(p_2,c) = q_2, \\quad \\textrm{and} \\quad\n",
    "     \\mbox{$q_1$ and $q_2$ are separable.}\n",
    "   $$\n",
    "4. States that are not separable are *equivalent* and are therefore identified and grouped\n",
    "   in equivalence classes. "
   ]
  },
  {
   "cell_type": "code",
   "execution_count": null,
   "metadata": {},
   "outputs": [],
   "source": [
    "%mypy\n",
    "FSM = Tuple[Set[T], Set[str], Dict[Tuple[T, str], T], T, Set[T]]\n",
    "def minimize(F: FSM) -> FSM:\n",
    "    States, Sigma, delta, q0, Accepting = F\n",
    "    States       = fixpoint({q0}, lambda q: { delta[q, c] for c in Sigma })\n",
    "    Separable    = cart_prod(States - Accepting, Accepting) | \\\n",
    "                   cart_prod(Accepting, States - Accepting)\n",
    "    AllSeparable = fixpoint(Separable, lambda Pairs: separate(Pairs, States, Sigma, delta))\n",
    "    Equivalent   = cart_prod(States, States) - AllSeparable\n",
    "    EquivClasses = { frozenset({ p for p in States if (p, q) in Equivalent })\n",
    "                     for q in States \n",
    "                   }\n",
    "    newQ0        = arb({ M for M in EquivClasses if q0 in M })\n",
    "    newAccept    = { M for M in EquivClasses if arb(M) in Accepting }   \n",
    "    newDelta     = {}\n",
    "    for q in States:\n",
    "        for c in Sigma:\n",
    "            p = delta.get((q, c))\n",
    "            if p != None:\n",
    "                classOfP = find_equivalence_class(p, EquivClasses)\n",
    "                classOfQ = find_equivalence_class(q, EquivClasses)\n",
    "                newDelta[(classOfQ, c)] = classOfP\n",
    "    return EquivClasses, Sigma, newDelta, newQ0, newAccept"
   ]
  },
  {
   "cell_type": "code",
   "execution_count": null,
   "metadata": {},
   "outputs": [],
   "source": []
  }
 ],
 "metadata": {
  "kernelspec": {
   "display_name": "Python 3",
   "language": "python",
   "name": "python3"
  },
  "language_info": {
   "codemirror_mode": {
    "name": "ipython",
    "version": 3
   },
   "file_extension": ".py",
   "mimetype": "text/x-python",
   "name": "python",
   "nbconvert_exporter": "python",
   "pygments_lexer": "ipython3",
   "version": "3.9.0"
  },
  "varInspector": {
   "cols": {
    "lenName": 16,
    "lenType": 16,
    "lenVar": 40
   },
   "kernels_config": {
    "python": {
     "delete_cmd_postfix": "",
     "delete_cmd_prefix": "del ",
     "library": "var_list.py",
     "varRefreshCmd": "print(var_dic_list())"
    },
    "r": {
     "delete_cmd_postfix": ") ",
     "delete_cmd_prefix": "rm(",
     "library": "var_list.r",
     "varRefreshCmd": "cat(var_dic_list()) "
    }
   },
   "types_to_exclude": [
    "module",
    "function",
    "builtin_function_or_method",
    "instance",
    "_Feature"
   ],
   "window_display": false
  }
 },
 "nbformat": 4,
 "nbformat_minor": 4
}
