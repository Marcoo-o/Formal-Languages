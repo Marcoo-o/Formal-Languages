{
 "cells": [
  {
   "cell_type": "code",
   "execution_count": null,
   "metadata": {},
   "outputs": [],
   "source": [
    "%%HTML\n",
    "<style>\n",
    ".container { width: 100% }\n",
    "</style>"
   ]
  },
  {
   "cell_type": "markdown",
   "metadata": {},
   "source": [
    "# Minimizing a <span style=\"font-variant:small-caps;\">Fsm</span>"
   ]
  },
  {
   "cell_type": "code",
   "execution_count": null,
   "metadata": {},
   "outputs": [],
   "source": [
    "%run FixedPoint.ipynb"
   ]
  },
  {
   "cell_type": "code",
   "execution_count": null,
   "metadata": {},
   "outputs": [],
   "source": [
    "def arb(M):\n",
    "    for x in M:\n",
    "        return x"
   ]
  },
  {
   "cell_type": "markdown",
   "metadata": {},
   "source": [
    "The function `cart_prod(A, B)` computes the <em style=\"color:blue\">Cartesian product</em> $A \\times B$ of the sets $A$ and $B$ where\n",
    "$$ A \\times B := \\{ (x, y) \\mid x \\in A \\wedge y \\in B \\}. $$"
   ]
  },
  {
   "cell_type": "code",
   "execution_count": null,
   "metadata": {},
   "outputs": [],
   "source": [
    "def cart_prod(A, B):\n",
    "    return { (x, y) for x in A for y in B }"
   ]
  },
  {
   "cell_type": "markdown",
   "metadata": {},
   "source": [
    "Given a set `Pairs` of pairs of state that are known to be separable, the function\n",
    "`separate(Pairs)` computes the set of pairs of states $(q_1, q_2)$ that can be seen to be separable because there is some $c \\in \\Sigma$ such that \n",
    "$$\\delta(q_1,c) = p_1, \\quad \\delta(q_2,c) = p_2 $$\n",
    "and $p_1$ and $p_2$ are known to be separable."
   ]
  },
  {
   "cell_type": "code",
   "execution_count": null,
   "metadata": {},
   "outputs": [],
   "source": [
    "def separate(Pairs):\n",
    "    return { (q1, q2) for q1 in States\n",
    "                      for q2 in States\n",
    "                      for c in Sigma \n",
    "                      if (delta[q1, c], delta[q2, c]) in Pairs\n",
    "           }"
   ]
  },
  {
   "cell_type": "markdown",
   "metadata": {},
   "source": [
    "The function `minimize(A)` takes a deterministic \n",
    "<span style=\"font-variant:small-caps;\">Fsm</span> `A` as its input.\n",
    "Here `A` is a 5-tuple of the form\n",
    "$$ A = (Q, \\Sigma, \\delta, q_0, F) $$\n",
    "The algorithm performs the folllowing steps:\n",
    "1. All unreachable states are eliminated.\n",
    "2. All accepting states are separated form all non-accepting states.\n",
    "3. States are separated as long as possible.\n",
    "   Two states $p_1$ and $p_2$ are separable if there is a character \n",
    "   $c \\in \\Sigma$ such that \n",
    "   $$\\delta(p_1,c) = q_1, \\quad \\delta(p_2,c) = q_2, \\quad \\textrm{and} \\quad\n",
    "     \\mbox{$q_1$ and $q_2$ are separable.}\n",
    "   $$\n",
    "4. States that are equivalent are identified and grouped\n",
    "   in equivalence classes. "
   ]
  },
  {
   "cell_type": "code",
   "execution_count": null,
   "metadata": {},
   "outputs": [],
   "source": [
    "def minimize(A):\n",
    "    States, Sigma, delta, q0, Accepting = A\n",
    "    States    = fixpoint({q0}, lambda q: { delta[q, c] for c in Sigma })\n",
    "    Separable = cart_prod(States - Accepting, Accepting) | \\\n",
    "                cart_prod(Accepting, States - Accepting)\n",
    "    \n",
    "    def separate(Pairs):\n",
    "        return { (q1, q2) for q1 in States\n",
    "                          for q2 in States\n",
    "                          for c in Sigma \n",
    "                          if (delta[q1, c], delta[q2, c]) in Pairs\n",
    "               }\n",
    "    \n",
    "    AllSeparable = fixpoint(Separable, separate)\n",
    "    Equivalent   = cart_prod(States, States) - AllSeparable\n",
    "    EquivClasses = { frozenset({ p for p in States if (p, q) in Equivalent })\n",
    "                     for q in States \n",
    "                   }\n",
    "    newQ0        = arb({ M for M in EquivClasses if q0 in M })\n",
    "    newAccept    = { M for M in EquivClasses if arb(M) in Accepting }   \n",
    "    newDelta     = {}\n",
    "    for q in States:\n",
    "        for c in Sigma:\n",
    "            p = delta.get((q, c))\n",
    "            if p != None:\n",
    "                classOfP = find_equiv(p, EquivClasses)\n",
    "                classOfQ = find_equiv(q, EquivClasses)\n",
    "                newDelta[(classOfQ, c)] = classOfP\n",
    "    return EquivClasses, Sigma, newDelta, newQ0, newAccept"
   ]
  },
  {
   "cell_type": "markdown",
   "metadata": {},
   "source": [
    "Given a state $p$, find the equivalence class of $p$."
   ]
  },
  {
   "cell_type": "code",
   "execution_count": null,
   "metadata": {},
   "outputs": [],
   "source": [
    "def find_equiv(p, eqClasses):\n",
    "    return arb({ C for C in eqClasses if p in C })"
   ]
  },
  {
   "cell_type": "code",
   "execution_count": null,
   "metadata": {},
   "outputs": [],
   "source": []
  }
 ],
 "metadata": {
  "kernelspec": {
   "display_name": "Python 3",
   "language": "python",
   "name": "python3"
  },
  "language_info": {
   "codemirror_mode": {
    "name": "ipython",
    "version": 3
   },
   "file_extension": ".py",
   "mimetype": "text/x-python",
   "name": "python",
   "nbconvert_exporter": "python",
   "pygments_lexer": "ipython3",
   "version": "3.8.3"
  },
  "varInspector": {
   "cols": {
    "lenName": 16,
    "lenType": 16,
    "lenVar": 40
   },
   "kernels_config": {
    "python": {
     "delete_cmd_postfix": "",
     "delete_cmd_prefix": "del ",
     "library": "var_list.py",
     "varRefreshCmd": "print(var_dic_list())"
    },
    "r": {
     "delete_cmd_postfix": ") ",
     "delete_cmd_prefix": "rm(",
     "library": "var_list.r",
     "varRefreshCmd": "cat(var_dic_list()) "
    }
   },
   "types_to_exclude": [
    "module",
    "function",
    "builtin_function_or_method",
    "instance",
    "_Feature"
   ],
   "window_display": false
  }
 },
 "nbformat": 4,
 "nbformat_minor": 4
}
