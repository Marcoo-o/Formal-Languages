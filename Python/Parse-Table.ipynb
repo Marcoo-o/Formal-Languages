{
 "cells": [
  {
   "cell_type": "code",
   "execution_count": null,
   "metadata": {},
   "outputs": [],
   "source": [
    "from IPython.core.display import HTML\n",
    "with open (\"../style.css\", \"r\") as file:\n",
    "    css = file.read()\n",
    "HTML(css)"
   ]
  },
  {
   "cell_type": "markdown",
   "metadata": {},
   "source": [
    "# A Parse Table for a Shift-Reduce Parser\n",
    "\n",
    "This notebook contains the parse table that is needed for a *shift reduce parser* that parses the following grammar:\n",
    "$$\n",
    "  \\begin{eqnarray*}\n",
    "  \\mathrm{expr}        & \\rightarrow & \\mathrm{expr}\\;\\;\\texttt{'+'}\\;\\;\\mathrm{product}   \\\\\n",
    "                       & \\mid        & \\mathrm{expr}\\;\\;\\texttt{'-'}\\;\\;\\mathrm{product}   \\\\\n",
    "                       & \\mid        & \\mathrm{product}                                    \\\\[0.2cm]\n",
    "  \\mathrm{product}     & \\rightarrow & \\mathrm{product}\\;\\;\\texttt{'*'}\\;\\;\\mathrm{factor} \\\\\n",
    "                       & \\mid        & \\mathrm{product}\\;\\;\\texttt{'/'}\\;\\;\\mathrm{factor} \\\\\n",
    "                       & \\mid        & \\mathrm{factor}                                     \\\\[0.2cm]\n",
    "  \\mathrm{factor}      & \\rightarrow & \\texttt{'('} \\;\\;\\mathrm{expr} \\;\\;\\texttt{')'}     \\\\\n",
    "                       & \\mid        & \\texttt{NUMBER} \n",
    "  \\end{eqnarray*}\n",
    "$$"
   ]
  },
  {
   "cell_type": "markdown",
   "metadata": {},
   "source": [
    "Below, we define the *grammar rules*."
   ]
  },
  {
   "cell_type": "code",
   "execution_count": null,
   "metadata": {},
   "outputs": [],
   "source": [
    "r1 = ('E', ('E', '+', 'P'))\n",
    "r2 = ('E', ('E', '-', 'P'))\n",
    "r3 = ('E', ('P'))\n",
    "\n",
    "r4 = ('P', ('P', '*', 'F'))\n",
    "r5 = ('P', ('P', '/', 'F'))\n",
    "r6 = ('P', ('F'))\n",
    "\n",
    "r7 = ('F', ('(', 'E', ')'))\n",
    "r8 = ('F', ('NUMBER',))"
   ]
  },
  {
   "cell_type": "markdown",
   "metadata": {},
   "source": [
    "Next, we define the *action table* as a dictionary."
   ]
  },
  {
   "cell_type": "code",
   "execution_count": null,
   "metadata": {},
   "outputs": [],
   "source": [
    "actionTable = {}\n",
    "\n",
    "actionTable['s0', '('  ] = ('shift', 's5')\n",
    "actionTable['s0', 'NUMBER'] = ('shift', 's2')\n",
    "\n",
    "actionTable['s1', 'EOF'] = ('reduce', r6)\n",
    "actionTable['s1', '+'  ] = ('reduce', r6)\n",
    "actionTable['s1', '-'  ] = ('reduce', r6)\n",
    "actionTable['s1', '*'  ] = ('reduce', r6)\n",
    "actionTable['s1', '/'  ] = ('reduce', r6)\n",
    "actionTable['s1', ')'  ] = ('reduce', r6)\n",
    "\n",
    "actionTable['s2', 'EOF'] = ('reduce', r8)\n",
    "actionTable['s2', '+'  ] = ('reduce', r8)\n",
    "actionTable['s2', '-'  ] = ('reduce', r8)\n",
    "actionTable['s2', '*'  ] = ('reduce', r8)\n",
    "actionTable['s2', '/'  ] = ('reduce', r8)\n",
    "actionTable['s2', ')'  ] = ('reduce', r8)\n",
    "\n",
    "actionTable['s3', 'EOF'] = ('reduce', r3)\n",
    "actionTable['s3', '+'  ] = ('reduce', r3)\n",
    "actionTable['s3', '-'  ] = ('reduce', r3)\n",
    "actionTable['s3', '*'  ] = ('shift', 's12')\n",
    "actionTable['s3', '/'  ] = ('shift', 's11')\n",
    "actionTable['s3', ')'  ] = ('reduce', r3)\n",
    "\n",
    "actionTable['s4', 'EOF'] = 'accept'\n",
    "actionTable['s4', '+'  ] = ('shift', 's8')\n",
    "actionTable['s4', '-'  ] = ('shift', 's9')\n",
    "\n",
    "actionTable['s5', '('  ] = ('shift', 's5')\n",
    "actionTable['s5', 'NUMBER'] = ('shift', 's2')\n",
    "\n",
    "actionTable['s6', '+'  ] = ('shift', 's8')\n",
    "actionTable['s6', '-'  ] = ('shift', 's9')\n",
    "actionTable['s6', ')'  ] = ('shift', 's7')\n",
    "\n",
    "actionTable['s7', 'EOF'] = ('reduce', r7)\n",
    "actionTable['s7', '+'  ] = ('reduce', r7)\n",
    "actionTable['s7', '-'  ] = ('reduce', r7)\n",
    "actionTable['s7', '*'  ] = ('reduce', r7)\n",
    "actionTable['s7', '/'  ] = ('reduce', r7)\n",
    "actionTable['s7', ')'  ] = ('reduce', r7)\n",
    "\n",
    "actionTable['s8', '('  ] = ('shift', 's5')\n",
    "actionTable['s8', 'NUMBER'] = ('shift', 's2')\n",
    "\n",
    "actionTable['s9', '('  ] = ('shift', 's5')\n",
    "actionTable['s9', 'NUMBER'] = ('shift', 's2')\n",
    "\n",
    "actionTable['s10', 'EOF'] = ('reduce', r2)\n",
    "actionTable['s10', '+' ] = ('reduce', r2)\n",
    "actionTable['s10', '-' ] = ('reduce', r2)\n",
    "actionTable['s10', '*' ] = ('shift', 's12')\n",
    "actionTable['s10', '/' ] = ('shift', 's11')\n",
    "actionTable['s10', ')' ] = ('reduce', r2)\n",
    "\n",
    "actionTable['s11', '('  ] = ('shift', 's5')\n",
    "actionTable['s11', 'NUMBER'] = ('shift', 's2')\n",
    "\n",
    "actionTable['s12', '('  ] = ('shift', 's5')\n",
    "actionTable['s12', 'NUMBER'] = ('shift', 's2')\n",
    "\n",
    "actionTable['s13', 'EOF'] = ('reduce', r4)\n",
    "actionTable['s13', '+'  ] = ('reduce', r4)\n",
    "actionTable['s13', '-'  ] = ('reduce', r4)\n",
    "actionTable['s13', '*'  ] = ('reduce', r4)\n",
    "actionTable['s13', '/'  ] = ('reduce', r4)\n",
    "actionTable['s13', ')'  ] = ('reduce', r4)\n",
    "\n",
    "actionTable['s14', 'EOF'] = ('reduce', r5)\n",
    "actionTable['s14', '+'  ] = ('reduce', r5)\n",
    "actionTable['s14', '-'  ] = ('reduce', r5)\n",
    "actionTable['s14', '*'  ] = ('reduce', r5)\n",
    "actionTable['s14', '/'  ] = ('reduce', r5)\n",
    "actionTable['s14', ')'  ] = ('reduce', r5)\n",
    "\n",
    "actionTable['s15', 'EOF'] = ('reduce', r1)\n",
    "actionTable['s15', '+'  ] = ('reduce', r1)\n",
    "actionTable['s15', '-'  ] = ('reduce', r1)\n",
    "actionTable['s15', '*'  ] = ('shift', 's12')\n",
    "actionTable['s15', '/'  ] = ('shift', 's11')\n",
    "actionTable['s15', ')'  ] = ('reduce', r1)"
   ]
  },
  {
   "cell_type": "markdown",
   "metadata": {},
   "source": [
    "Below is the definition of the *goto table*."
   ]
  },
  {
   "cell_type": "code",
   "execution_count": null,
   "metadata": {},
   "outputs": [],
   "source": [
    "gotoTable   = {}\n",
    "\n",
    "gotoTable['s0', 'E'] = 's4'\n",
    "gotoTable['s0', 'P'] = 's3'\n",
    "gotoTable['s0', 'F'] = 's1'\n",
    "\n",
    "gotoTable['s5', 'E'] = 's6'\n",
    "gotoTable['s5', 'P'] = 's3'\n",
    "gotoTable['s5', 'F'] = 's1'\n",
    "\n",
    "gotoTable['s8', 'P'] = 's15'\n",
    "gotoTable['s8', 'F'] = 's1'\n",
    "\n",
    "gotoTable['s9', 'P'] = 's10'\n",
    "gotoTable['s9', 'F'] = 's1'\n",
    "\n",
    "gotoTable['s11', 'F'] = 's14'\n",
    "gotoTable['s12', 'F'] = 's13'"
   ]
  },
  {
   "cell_type": "markdown",
   "metadata": {},
   "source": [
    "Finally, we define the *state table*.  This is table is only used for pretty printing."
   ]
  },
  {
   "cell_type": "code",
   "execution_count": null,
   "metadata": {},
   "outputs": [],
   "source": [
    "stateTable = {}\n",
    "\n",
    "stateTable['s0']  = { 'S -> • E', \n",
    "                      'E -> • E \"+\" P', 'E -> • E \"-\" P', 'E -> • P', \n",
    "                      'P -> • P \"*\" F', 'P -> • P \"/\" F', 'P -> • F', \n",
    "                      'F -> • \"(\" E \")\"', 'F -> • NUMBER'\n",
    "                    }\n",
    "stateTable['s1']  = { 'P -> F •' } \n",
    "stateTable['s2']  = { 'F -> NUMBER •' } \n",
    "stateTable['s3']  = { 'P -> P • \"*\" F', 'P -> P • \"/\" F', 'E -> P •' } \n",
    "stateTable['s4']  = { 'S -> E •', 'E -> E • \"+\" P', 'E -> E • \"-\" P' }\n",
    "stateTable['s5']  = { 'F -> \"(\" • E \")\"', \n",
    "                      'E -> • E \"+\" P', 'E -> • E \"-\" P', 'E -> • P', \n",
    "                      'P -> • P \"*\" F', 'P -> • P \"/\" F', 'P -> • F', \n",
    "                      'F -> • \"(\" E \")\"', 'F -> • NUMBER'\n",
    "                    }\n",
    "stateTable['s6']  = { 'F -> \"(\" E • \")\"', 'E -> E • \"+\" P', 'E -> E • \"-\" P' }\n",
    "stateTable['s7']  = { 'F -> \"(\" E \")\" •' }\n",
    "stateTable['s8']  = { 'E -> E \"+\" • P',\n",
    "                      'P -> • P \"*\" F', 'P -> • P \"/\" F', 'P -> • F', \n",
    "                      'F -> • \"(\" E \")\"', 'F -> • NUMBER'\n",
    "                    }\n",
    "stateTable['s9' ] = { 'E -> E \"-\" • P',\n",
    "                      'P -> • P \"*\" F', 'P -> • P \"/\" F', 'P -> • F', \n",
    "                      'F -> • \"(\" E \")\"', 'F -> • NUMBER'\n",
    "                    }\n",
    "stateTable['s10'] = { 'E -> E \"-\" P •', 'P -> P • \"*\" F', 'P -> P • \"/\" F' }\n",
    "stateTable['s11'] = { 'P -> P \"/\" • F', 'F -> • \"(\" E \")\"', 'F -> • NUMBER' } \n",
    "stateTable['s12'] = { 'P -> P \"*\" • F', 'F -> • \"(\" E \")\"', 'F -> • NUMBER' } \n",
    "stateTable['s13'] = { 'P -> P \"*\" F •' } \n",
    "stateTable['s14'] = { 'P -> P \"/\" F •' } \n",
    "stateTable['s15'] = { 'E -> E \"+\" P •', 'P -> P • \"*\" F', 'P -> P • \"/\" F' }"
   ]
  },
  {
   "cell_type": "code",
   "execution_count": null,
   "metadata": {},
   "outputs": [],
   "source": []
  }
 ],
 "metadata": {
  "@webio": {
   "lastCommId": null,
   "lastKernelId": null
  },
  "kernelspec": {
   "display_name": "Python 3",
   "language": "python",
   "name": "python3"
  },
  "language_info": {
   "codemirror_mode": {
    "name": "ipython",
    "version": 3
   },
   "file_extension": ".py",
   "mimetype": "text/x-python",
   "name": "python",
   "nbconvert_exporter": "python",
   "pygments_lexer": "ipython3",
   "version": "3.9.0"
  },
  "varInspector": {
   "cols": {
    "lenName": 16,
    "lenType": 16,
    "lenVar": 40
   },
   "kernels_config": {
    "python": {
     "delete_cmd_postfix": "",
     "delete_cmd_prefix": "del ",
     "library": "var_list.py",
     "varRefreshCmd": "print(var_dic_list())"
    },
    "r": {
     "delete_cmd_postfix": ") ",
     "delete_cmd_prefix": "rm(",
     "library": "var_list.r",
     "varRefreshCmd": "cat(var_dic_list()) "
    }
   },
   "types_to_exclude": [
    "module",
    "function",
    "builtin_function_or_method",
    "instance",
    "_Feature"
   ],
   "window_display": false
  }
 },
 "nbformat": 4,
 "nbformat_minor": 4
}
