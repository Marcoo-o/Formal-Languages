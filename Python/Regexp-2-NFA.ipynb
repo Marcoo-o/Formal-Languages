{
 "cells": [
  {
   "cell_type": "code",
   "execution_count": null,
   "metadata": {},
   "outputs": [],
   "source": [
    "%%HTML\n",
    "<style>\n",
    ".container { width: 100% }\n",
    "</style>"
   ]
  },
  {
   "cell_type": "markdown",
   "metadata": {},
   "source": [
    "# From Regular Expressions to <span style=\"font-variant:small-caps;\">Fsm</span>s"
   ]
  },
  {
   "cell_type": "code",
   "execution_count": null,
   "metadata": {},
   "outputs": [],
   "source": [
    "class RegExp2NFA:\n",
    "    def __init__(self, Sigma):\n",
    "        self.Sigma       = Sigma\n",
    "        self.StateCount = 0"
   ]
  },
  {
   "cell_type": "code",
   "execution_count": null,
   "metadata": {},
   "outputs": [],
   "source": [
    "def toNFA(self, r):\n",
    "    if r == 0: \n",
    "        return self.genEmptyNFA()\n",
    "    if r == '': \n",
    "        return self.genEpsilonNFA()\n",
    "    if isinstance(r, str) and len(r) == 1: \n",
    "        return self.genCharNFA(r)\n",
    "    if r[0] == 'cat':\n",
    "        return self.catenate(self.toNFA(r[1]), self.toNFA(r[2]))\n",
    "    if r[0] == 'or':\n",
    "        return self.disjunction(self.toNFA(r[1]), self.toNFA(r[2]))\n",
    "    if r[0] == 'star':\n",
    "        return self.kleene(self.toNFA(r[1]))\n",
    "    raise ValueError(f'{r} is not a proper regular expression.')\n",
    "    \n",
    "RegExp2NFA.toNFA = toNFA\n",
    "del toNFA"
   ]
  },
  {
   "cell_type": "code",
   "execution_count": null,
   "metadata": {},
   "outputs": [],
   "source": [
    "def genEmptyNFA(self):\n",
    "        q0 = self.getNewState()\n",
    "        q1 = self.getNewState()\n",
    "        delta = {}\n",
    "        return {q0, q1}, self.Sigma, delta, q0, { q1 }\n",
    "\n",
    "RegExp2NFA.genEmptyNFA = genEmptyNFA\n",
    "del genEmptyNFA"
   ]
  },
  {
   "cell_type": "code",
   "execution_count": null,
   "metadata": {},
   "outputs": [],
   "source": [
    "def genEpsilonNFA(self):\n",
    "    q0 = self.getNewState()\n",
    "    q1 = self.getNewState()\n",
    "    delta = { (q0, ''): {q1} }\n",
    "    return {q0, q1}, self.Sigma, delta, q0, { q1 }\n",
    "\n",
    "RegExp2NFA.genEpsilonNFA = genEpsilonNFA \n",
    "del genEpsilonNFA"
   ]
  },
  {
   "cell_type": "code",
   "execution_count": null,
   "metadata": {},
   "outputs": [],
   "source": [
    "def genCharNFA(self, c):\n",
    "    q0 = self.getNewState()\n",
    "    q1 = self.getNewState()\n",
    "    delta = { (q0, c): {q1} } \n",
    "    return {q0, q1}, self.Sigma, delta, q0, { q1 }\n",
    "\n",
    "RegExp2NFA.genCharNFA = genCharNFA\n",
    "del genCharNFA"
   ]
  },
  {
   "cell_type": "code",
   "execution_count": null,
   "metadata": {},
   "outputs": [],
   "source": [
    "def catenate(self, f1, f2):\n",
    "        M1, Sigma, delta1, q1, A1 = f1\n",
    "        M2, Sigma, delta2, q3, A2 = f2\n",
    "        q2 = arb(A1)\n",
    "        q4 = arb(A2)\n",
    "        delta = dict_union(delta1, delta2)\n",
    "        delta[q2, ''] = {q3}\n",
    "        return M1 | M2, Sigma, delta, q1, A2\n",
    "\n",
    "RegExp2NFA.catenate = catenate\n",
    "del catenate"
   ]
  },
  {
   "cell_type": "code",
   "execution_count": null,
   "metadata": {},
   "outputs": [],
   "source": [
    "def disjunction(self, f1, f2):\n",
    "        M1, Sigma, delta1, q1, A1 = f1\n",
    "        M2, Sigma, delta2, q2, A2 = f2\n",
    "        q3 = arb(A1)\n",
    "        q4 = arb(A2)\n",
    "        q0 = self.getNewState()\n",
    "        q5 = self.getNewState() \n",
    "        delta = dict_union(delta1, delta2)\n",
    "        delta[q0, ''] = { q1, q2 }\n",
    "        delta[q3, ''] = { q5 }\n",
    "        delta[q4, ''] = { q5 }\n",
    "        return { q0, q5 } | M1 | M2, Sigma, delta, q0, { q5 }\n",
    "    \n",
    "RegExp2NFA.disjunction = disjunction\n",
    "del disjunction"
   ]
  },
  {
   "cell_type": "code",
   "execution_count": null,
   "metadata": {},
   "outputs": [],
   "source": [
    "def kleene(self, f):\n",
    "    M, Sigma, delta0, q1, A = f\n",
    "    q2 = arb(A)\n",
    "    q0 = self.getNewState()\n",
    "    q3 = self.getNewState()\n",
    "    delta = delta0\n",
    "    delta[q0, ''] = { q1, q3 }\n",
    "    delta[q2, ''] = { q1, q3 }\n",
    "    return { q0, q3 } | M, Sigma, delta, q0, { q3 }\n",
    "\n",
    "RegExp2NFA.kleene = kleene\n",
    "del kleene"
   ]
  },
  {
   "cell_type": "code",
   "execution_count": null,
   "metadata": {},
   "outputs": [],
   "source": [
    "def getNewState(self):\n",
    "    self.StateCount += 1\n",
    "    return self.StateCount\n",
    "\n",
    "RegExp2NFA.getNewState = getNewState\n",
    "del getNewState"
   ]
  },
  {
   "cell_type": "code",
   "execution_count": null,
   "metadata": {},
   "outputs": [],
   "source": [
    "def arb(S):\n",
    "    for x in S:\n",
    "        return x"
   ]
  },
  {
   "cell_type": "code",
   "execution_count": null,
   "metadata": {},
   "outputs": [],
   "source": [
    "def dict_union(d1, d2):\n",
    "    return { **d1, **d2 }"
   ]
  },
  {
   "cell_type": "code",
   "execution_count": null,
   "metadata": {},
   "outputs": [],
   "source": [
    "A = { 'a': 1, 'c': 3 }\n",
    "B = { 'b': 2, 'c': 4 }\n",
    "dict_union(A, B)"
   ]
  },
  {
   "cell_type": "code",
   "execution_count": null,
   "metadata": {},
   "outputs": [],
   "source": [
    "A, B"
   ]
  },
  {
   "cell_type": "code",
   "execution_count": null,
   "metadata": {},
   "outputs": [],
   "source": []
  }
 ],
 "metadata": {
  "kernelspec": {
   "display_name": "Python 3",
   "language": "python",
   "name": "python3"
  },
  "language_info": {
   "codemirror_mode": {
    "name": "ipython",
    "version": 3
   },
   "file_extension": ".py",
   "mimetype": "text/x-python",
   "name": "python",
   "nbconvert_exporter": "python",
   "pygments_lexer": "ipython3",
   "version": "3.8.3"
  },
  "varInspector": {
   "cols": {
    "lenName": 16,
    "lenType": 16,
    "lenVar": 40
   },
   "kernels_config": {
    "python": {
     "delete_cmd_postfix": "",
     "delete_cmd_prefix": "del ",
     "library": "var_list.py",
     "varRefreshCmd": "print(var_dic_list())"
    },
    "r": {
     "delete_cmd_postfix": ") ",
     "delete_cmd_prefix": "rm(",
     "library": "var_list.r",
     "varRefreshCmd": "cat(var_dic_list()) "
    }
   },
   "types_to_exclude": [
    "module",
    "function",
    "builtin_function_or_method",
    "instance",
    "_Feature"
   ],
   "window_display": false
  }
 },
 "nbformat": 4,
 "nbformat_minor": 4
}
