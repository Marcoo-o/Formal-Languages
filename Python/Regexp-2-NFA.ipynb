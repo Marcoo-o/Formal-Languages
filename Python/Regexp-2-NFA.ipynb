{
 "cells": [
  {
   "cell_type": "code",
   "execution_count": null,
   "metadata": {},
   "outputs": [],
   "source": [
    "from IPython.core.display import HTML\n",
    "with open('../style.css', 'r') as file:\n",
    "    css = file.read()\n",
    "HTML(css)"
   ]
  },
  {
   "cell_type": "markdown",
   "metadata": {},
   "source": [
    "# From Regular Expressions to <span style=\"font-variant:small-caps;\">Fsm</span>s"
   ]
  },
  {
   "cell_type": "markdown",
   "metadata": {},
   "source": [
    "This notebook shows how a given regular expression $r$ can be transformed into an equivalent finite state machine. \n",
    "It implements the theory that is outlined in section 4.4. of the \n",
    "lecture notes."
   ]
  },
  {
   "cell_type": "markdown",
   "metadata": {},
   "source": [
    "The class `RegExp2NFA` administers two member variables:\n",
    "- `Sigma` is the <em style=\"color:blue\">alphabet</em>, i.e. the set of characters used.\n",
    "- `StateCount` is a counter that is needed to create <em style=\"color:blue\">unique</em> state names."
   ]
  },
  {
   "cell_type": "code",
   "execution_count": null,
   "metadata": {},
   "outputs": [],
   "source": [
    "class RegExp2NFA:\n",
    "    def __init__(self, Sigma):\n",
    "        self.Sigma      = Sigma\n",
    "        self.StateCount = 0"
   ]
  },
  {
   "cell_type": "markdown",
   "metadata": {},
   "source": [
    "The member function `toNFA` takes an object `self` of class `RegExp2NFA` and a regular expression `r` and returns a finite state machine \n",
    "that accepts the same language as described by `r`.  The regular expression is represented in `Python` as follows:\n",
    "- The regular expression $\\emptyset$ is represented as the number `0`.\n",
    "- The regular expression $\\varepsilon$ is represented as the empty string `''`.\n",
    "- The regular expression $c$ that matches the character $c$ is represented by the character $c$.\n",
    "- The regular expression $r_1 \\cdot r_2$  is represented by the triple $\\bigl(\\texttt{'cat'}, \\texttt{repr}(r_1), \\texttt{repr}(r_2)\\bigr)$.\n",
    "\n",
    "  Here, and in the following, for a given regular expression $r$ the expression $\\texttt{repr}(r)$ denotes the `Python` representation of the regular \n",
    "  expressions  $r$.\n",
    "- The regular expression $r_1 + r_2$  is represented by the triple $\\bigl(\\texttt{'or'}, \\texttt{repr}(r_1), \\texttt{repr}(r_2)\\bigr)$.\n",
    "- The regular expression $r^*$  is represented by the pair $\\bigl(\\texttt{'star'}, \\texttt{repr}(r)\\bigr)$."
   ]
  },
  {
   "cell_type": "code",
   "execution_count": null,
   "metadata": {},
   "outputs": [],
   "source": [
    "def toNFA(self, r):\n",
    "    if r == 0: \n",
    "        return self.genEmptyNFA()\n",
    "    if r == '': \n",
    "        return self.genEpsilonNFA()\n",
    "    if isinstance(r, str) and len(r) == 1: \n",
    "        return self.genCharNFA(r)\n",
    "    if r[0] == 'cat':\n",
    "        return self.catenate(self.toNFA(r[1]), self.toNFA(r[2]))\n",
    "    if r[0] == 'or':\n",
    "        return self.disjunction(self.toNFA(r[1]), self.toNFA(r[2]))\n",
    "    if r[0] == 'star':\n",
    "        return self.kleene(self.toNFA(r[1]))\n",
    "    raise ValueError(f'{r} is not a proper regular expression.')\n",
    "    \n",
    "RegExp2NFA.toNFA = toNFA\n",
    "del toNFA"
   ]
  },
  {
   "cell_type": "markdown",
   "metadata": {},
   "source": [
    "The <span style=\"font-variant:small-caps;\">Fsm</span> `genEmptyNFA()` is defined as\n",
    "$$\\bigl\\langle \\{ q_0, q_1 \\}, \\Sigma, \\{\\}, q_0, \\{ q_1 \\} \\bigr\\rangle. $$\n",
    "Note that this <span style=\"font-variant:small-caps;\">Fsm</span> has no transitions at all."
   ]
  },
  {
   "cell_type": "code",
   "execution_count": null,
   "metadata": {},
   "outputs": [],
   "source": [
    "def genEmptyNFA(self):\n",
    "        q0 = self.getNewState()\n",
    "        q1 = self.getNewState()\n",
    "        delta = {}\n",
    "        return {q0, q1}, self.Sigma, delta, q0, { q1 }\n",
    "\n",
    "RegExp2NFA.genEmptyNFA = genEmptyNFA\n",
    "del genEmptyNFA"
   ]
  },
  {
   "cell_type": "markdown",
   "metadata": {},
   "source": [
    "The <span style=\"font-variant:small-caps;\">Fsm</span> `genEpsilonNFA` is defined as\n",
    "$$  \\bigl\\langle \\{ q_0, q_1 \\}, \\Sigma, \n",
    "                          \\bigl\\{ \\langle q_0, \\varepsilon\\rangle \\mapsto \\{q_1\\} \\bigr\\}, q_0, \\{ q_1 \\} \\bigr\\rangle.\n",
    "$$"
   ]
  },
  {
   "cell_type": "code",
   "execution_count": null,
   "metadata": {},
   "outputs": [],
   "source": [
    "def genEpsilonNFA(self):\n",
    "    q0 = self.getNewState()\n",
    "    q1 = self.getNewState()\n",
    "    delta = { (q0, ''): {q1} }\n",
    "    return {q0, q1}, self.Sigma, delta, q0, { q1 }\n",
    "\n",
    "RegExp2NFA.genEpsilonNFA = genEpsilonNFA \n",
    "del genEpsilonNFA"
   ]
  },
  {
   "cell_type": "markdown",
   "metadata": {},
   "source": [
    "For a letter $c \\in \\Sigma$ the <span style=\"font-variant:small-caps;\">Fsm</span> `genCharNFA`$(c)$ is defined as \n",
    "$$ A(c) = \n",
    "   \\bigl\\langle \\{ q_0, q_1 \\}, \\Sigma, \n",
    "   \\bigl\\{ \\langle q_0, c \\rangle \\mapsto \\{q_1\\}\\bigr\\}, q_0, \\{ q_1 \\} \\bigr\\rangle.\n",
    "$$"
   ]
  },
  {
   "cell_type": "code",
   "execution_count": null,
   "metadata": {},
   "outputs": [],
   "source": [
    "def genCharNFA(self, c):\n",
    "    q0 = self.getNewState()\n",
    "    q1 = self.getNewState()\n",
    "    delta = { (q0, c): {q1} } \n",
    "    return {q0, q1}, self.Sigma, delta, q0, { q1 }\n",
    "\n",
    "RegExp2NFA.genCharNFA = genCharNFA\n",
    "del genCharNFA"
   ]
  },
  {
   "cell_type": "markdown",
   "metadata": {},
   "source": [
    "Given two <span style=\"font-variant:small-caps;\">Fsm</span>s `f1` and `f2`, the function `catenate(f1, f2)` \n",
    "creates an <span style=\"font-variant:small-caps;\">Fsm</span> that recognizes a string $s$ if it can be written \n",
    "in the form\n",
    "$$ s = s_1s_2 $$\n",
    "and $s_1$ is recognized by `f1` and $s_2$ is recognized by `f2`. \n",
    "\n",
    "Assume that $f_1$ and $f_2$ have the following form:\n",
    "- $f_1 = \\langle Q_1, \\Sigma, \\delta_1, q_1, \\{ q_2 \\}\\rangle$,\n",
    "- $f_2 = \\langle Q_2, \\Sigma, \\delta_2, q_3, \\{ q_4 \\}\\rangle$,\n",
    "- $Q_1 \\cap Q_2 = \\{\\}$.\n",
    " \n",
    "Then $\\texttt{catenate}(f_1, f_2)$ is defined as:\n",
    "$$  \\bigl\\langle Q_1 \\cup Q_2, \\Sigma, \n",
    "   \\bigl\\{ \\langle q_2,\\varepsilon\\rangle  \\mapsto \\{q_3\\} \\bigr\\} \n",
    "         \\cup \\delta_1 \\cup \\delta_2, q_1, \\{ q_4 \\} \\bigr\\rangle.\n",
    "$$"
   ]
  },
  {
   "cell_type": "code",
   "execution_count": null,
   "metadata": {},
   "outputs": [],
   "source": [
    "def catenate(self, f1, f2):\n",
    "    M1, Sigma, delta1, q1, A1 = f1\n",
    "    M2, Sigma, delta2, q3, A2 = f2\n",
    "    q2 = arb(A1)\n",
    "    q4 = arb(A2)\n",
    "    delta = dict_union(delta1, delta2)\n",
    "    delta[q2, ''] = {q3}\n",
    "    return M1 | M2, Sigma, delta, q1, A2\n",
    "\n",
    "RegExp2NFA.catenate = catenate\n",
    "del catenate"
   ]
  },
  {
   "cell_type": "markdown",
   "metadata": {},
   "source": [
    "Given two <span style=\"font-variant:small-caps;\">Fsm</span>s `f1` and `f2`, the function `disjunction(f1, f2)` \n",
    "creates an <span style=\"font-variant:small-caps;\">Fsm</span> that recognizes a string $s$ if it is either \n",
    "is recognized by `f1` or by `f2`. \n",
    "\n",
    "Assume again that the states of \n",
    "$f_1$ and $f_2$ are different and that $f_1$ and $f_2$ have the following form:\n",
    "- $f_1 = \\langle Q_1, \\Sigma, \\delta_1, q_1, \\{ q_3 \\}\\rangle$,\n",
    "- $f_2 = \\langle Q_2, \\Sigma, \\delta_2, q_2, \\{ q_4 \\}\\rangle$,\n",
    "- $Q_1 \\cap Q_2 = \\{\\}$.\n",
    "\n",
    "Then $\\texttt{disjunction}(f_1, f_2)$ is defined as follows:\n",
    "$$ \\bigl\\langle \\{ q_0, q_5 \\} \\cup Q_1 \\cup Q_2, \\Sigma, \n",
    "                \\bigl\\{ \\langle q_0,\\varepsilon\\rangle \\mapsto \\{q_1, q_2\\},\n",
    "                   \\langle q_3,\\varepsilon\\rangle \\mapsto \\{q_5\\}, \n",
    "                   \\langle q_4,\\varepsilon\\rangle \\mapsto \\{q_5\\} \\bigr\\} \n",
    "                   \\cup \\delta_1 \\cup \\delta_2, q_0, \\{ q_5 \\} \\bigr\\rangle\n",
    "$$"
   ]
  },
  {
   "cell_type": "code",
   "execution_count": null,
   "metadata": {},
   "outputs": [],
   "source": [
    "def disjunction(self, f1, f2):\n",
    "        M1, Sigma, delta1, q1, A1 = f1\n",
    "        M2, Sigma, delta2, q2, A2 = f2\n",
    "        q3 = arb(A1)\n",
    "        q4 = arb(A2)\n",
    "        q0 = self.getNewState()\n",
    "        q5 = self.getNewState() \n",
    "        delta = dict_union(delta1, delta2)\n",
    "        delta[q0, ''] = { q1, q2 }\n",
    "        delta[q3, ''] = { q5 }\n",
    "        delta[q4, ''] = { q5 }\n",
    "        return { q0, q5 } | M1 | M2, Sigma, delta, q0, { q5 }\n",
    "    \n",
    "RegExp2NFA.disjunction = disjunction\n",
    "del disjunction"
   ]
  },
  {
   "cell_type": "markdown",
   "metadata": {},
   "source": [
    "Given an <span style=\"font-variant:small-caps;\">Fsm</span> `f`, the function `kleene(f)` \n",
    "creates an <span style=\"font-variant:small-caps;\">Fsm</span> that recognizes a string $s$ if it can be written as\n",
    "$$ s = s_1 s_2 \\cdots s_n $$\n",
    "and all $s_i$ are recognized by `f`.  Note that $n$ might be $0$. \n",
    "\n",
    "If `f` is defined as\n",
    "$$ f = \\langle Q, \\Sigma, \\delta, q_1, \\{ q_2 \\} \\rangle,\n",
    "$$\n",
    "then  `kleene(f)` is defined as follows:\n",
    "$$ \\bigl\\langle \\{ q_0, q_3 \\} \\cup Q, \\Sigma, \n",
    "                \\bigl\\{ \\langle q_0,\\varepsilon\\rangle \\mapsto \\{q_1, q_3\\},  \n",
    "                        \\langle q_2,\\varepsilon\\rangle \\mapsto \\{q_1, q_3\\}, \\bigr\\} \n",
    "                \\cup \\delta, q_0, \\{ q_3 \\} \\bigr\\rangle.\n",
    "$$"
   ]
  },
  {
   "cell_type": "code",
   "execution_count": null,
   "metadata": {},
   "outputs": [],
   "source": [
    "def kleene(self, f):\n",
    "    M, Sigma, delta0, q1, A = f\n",
    "    q2 = arb(A)\n",
    "    q0 = self.getNewState()\n",
    "    q3 = self.getNewState()\n",
    "    delta = delta0\n",
    "    delta[q0, ''] = { q1, q3 }\n",
    "    delta[q2, ''] = { q1, q3 }\n",
    "    return { q0, q3 } | M, Sigma, delta, q0, { q3 }\n",
    "\n",
    "RegExp2NFA.kleene = kleene\n",
    "del kleene"
   ]
  },
  {
   "cell_type": "markdown",
   "metadata": {},
   "source": [
    "The function `getNewState` returns a new number that has not yet been used as a state."
   ]
  },
  {
   "cell_type": "code",
   "execution_count": null,
   "metadata": {},
   "outputs": [],
   "source": [
    "def getNewState(self):\n",
    "    self.StateCount += 1\n",
    "    return self.StateCount\n",
    "\n",
    "RegExp2NFA.getNewState = getNewState\n",
    "del getNewState"
   ]
  },
  {
   "cell_type": "markdown",
   "metadata": {},
   "source": [
    "The function `arb(S)` returns an arbitrary member from the set `S`."
   ]
  },
  {
   "cell_type": "code",
   "execution_count": null,
   "metadata": {},
   "outputs": [],
   "source": [
    "def arb(S):\n",
    "    for x in S:\n",
    "        return x"
   ]
  },
  {
   "cell_type": "markdown",
   "metadata": {},
   "source": [
    "The function `dict_union` takes two dictionaries $d_1$ and $d_2$ as arguments.  It returns a new dictionary $d$ that is defined as follows:\n",
    "$$\n",
    "d[k] = \\left\\{ \\begin{array}{ll}\n",
    "                d_1[k] & \\mbox{if $d_1[k]$ is defined and $d_2[k]$ is undefined;} \\\\\n",
    "                d_2[k] & \\mbox{if $d_2[k]$ is defined.}\n",
    "               \\end{array}\n",
    "       \\right.\n",
    "$$\n",
    "The arguments $d_1$ and $d_2$ are left unchanged."
   ]
  },
  {
   "cell_type": "code",
   "execution_count": null,
   "metadata": {},
   "outputs": [],
   "source": [
    "def dict_union(d1, d2):\n",
    "    return { **d1, **d2 }"
   ]
  },
  {
   "cell_type": "code",
   "execution_count": null,
   "metadata": {},
   "outputs": [],
   "source": [
    "A = { 'a': 1, 'c': 3 }\n",
    "B = { 'b': 2, 'c': 4 }\n",
    "dict_union(A, B)"
   ]
  },
  {
   "cell_type": "code",
   "execution_count": null,
   "metadata": {},
   "outputs": [],
   "source": [
    "A, B"
   ]
  },
  {
   "cell_type": "markdown",
   "metadata": {},
   "source": [
    "The notebook `Test-Tegexp-2-NFA`can be used to test the functions implemented in this notebook."
   ]
  },
  {
   "cell_type": "code",
   "execution_count": null,
   "metadata": {},
   "outputs": [],
   "source": []
  }
 ],
 "metadata": {
  "kernelspec": {
   "display_name": "Python 3",
   "language": "python",
   "name": "python3"
  },
  "language_info": {
   "codemirror_mode": {
    "name": "ipython",
    "version": 3
   },
   "file_extension": ".py",
   "mimetype": "text/x-python",
   "name": "python",
   "nbconvert_exporter": "python",
   "pygments_lexer": "ipython3",
   "version": "3.8.3"
  },
  "varInspector": {
   "cols": {
    "lenName": 16,
    "lenType": 16,
    "lenVar": 40
   },
   "kernels_config": {
    "python": {
     "delete_cmd_postfix": "",
     "delete_cmd_prefix": "del ",
     "library": "var_list.py",
     "varRefreshCmd": "print(var_dic_list())"
    },
    "r": {
     "delete_cmd_postfix": ") ",
     "delete_cmd_prefix": "rm(",
     "library": "var_list.r",
     "varRefreshCmd": "cat(var_dic_list()) "
    }
   },
   "types_to_exclude": [
    "module",
    "function",
    "builtin_function_or_method",
    "instance",
    "_Feature"
   ],
   "window_display": false
  }
 },
 "nbformat": 4,
 "nbformat_minor": 4
}
