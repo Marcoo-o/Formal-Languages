{
 "cells": [
  {
   "cell_type": "code",
   "execution_count": null,
   "metadata": {},
   "outputs": [],
   "source": [
    "from IPython.core.display import HTML\n",
    "with open('../style.css', 'r') as file:\n",
    "    css = file.read()\n",
    "HTML(css)"
   ]
  },
  {
   "cell_type": "code",
   "execution_count": null,
   "metadata": {},
   "outputs": [],
   "source": [
    "%run FSM-2-Dot.ipynb"
   ]
  },
  {
   "cell_type": "code",
   "execution_count": null,
   "metadata": {},
   "outputs": [],
   "source": [
    "States = { 'Nüchtern', 'Angetrunken', 'Noch zu nüchtern', 'Betrunken', 'Hegeschlage', 'Ausnüchtern', 'Absturz', 'Krankenhaus', 'Toter Zustand' }"
   ]
  },
  {
   "cell_type": "code",
   "execution_count": null,
   "metadata": {},
   "outputs": [],
   "source": [
    "Sigma = { 'Radler', 'Glühwein', 'Hopfensmoothie', 'Pöbeln', 'Massenschlägerei', 'Jägermeister', 'Alkoholfreies Radler', 'Absinth', 'Schlaf', 'Eltern', 'Desinfektionsmittel', 'Ausnüchterungszelle', 'Kilkenny' }"
   ]
  },
  {
   "cell_type": "code",
   "execution_count": null,
   "metadata": {},
   "outputs": [],
   "source": [
    "delta = {\n",
    "    ('Nüchtern',  'Radler'): { 'Nüchtern' },\n",
    "    ('Nüchtern', 'Glühwein'): { 'Angetrunken' },\n",
    "    ('Nüchtern', 'Hopfensmoothie'): { 'Noch zu nüchtern' },\n",
    "    ('Angetrunken', 'Radler'): { 'Nüchtern' },\n",
    "    ('Angetrunken', 'Glühwein'): { 'Betrunken' },\n",
    "    ('Noch zu nüchtern', 'Kilkenny'): { 'Betrunken' },\n",
    "    ('Betrunken', 'Radler'): { 'Angetrunken' },\n",
    "    ('Betrunken', 'Pöbeln'): { 'Hegeschlage' },\n",
    "    ('Betrunken', 'Jägermeister'): { 'Absturz' },\n",
    "    ('Hegeschlage', 'Massenschlägerei'): { 'Toter Zustand' },\n",
    "    ('Hegeschlage', 'Ausnüchterungszelle'): { 'Nüchtern' },\n",
    "    ('Ausnüchtern', 'Schlaf'): { 'Nüchtern' },\n",
    "    ('Absturz', 'Alkoholfreies Radler'): { 'Ausnüchtern' },\n",
    "    ('Absturz', 'Absinth'): { 'Krankenhaus' },\n",
    "    ('Krankenhaus', 'Eltern'): { 'Hegeschlage' },\n",
    "    ('Krankenhaus', 'Desinfektionsmittel'): { 'Toter Zustand' }\n",
    "}"
   ]
  },
  {
   "cell_type": "code",
   "execution_count": null,
   "metadata": {},
   "outputs": [],
   "source": [
    "dfa = States, Sigma, delta, 'Nüchtern', { 'Betrunken', 'Absturz' }"
   ]
  },
  {
   "cell_type": "markdown",
   "metadata": {},
   "source": [
    "The following <span style=\"font-variant:small-caps;\">Fsm</span> shows some `Saufautomaton`."
   ]
  },
  {
   "cell_type": "code",
   "execution_count": null,
   "metadata": {},
   "outputs": [],
   "source": [
    "nfa2dot(dfa)"
   ]
  },
  {
   "cell_type": "code",
   "execution_count": null,
   "metadata": {},
   "outputs": [],
   "source": []
  }
 ],
 "metadata": {
  "kernelspec": {
   "display_name": "Python 3",
   "language": "python",
   "name": "python3"
  },
  "language_info": {
   "codemirror_mode": {
    "name": "ipython",
    "version": 3
   },
   "file_extension": ".py",
   "mimetype": "text/x-python",
   "name": "python",
   "nbconvert_exporter": "python",
   "pygments_lexer": "ipython3",
   "version": "3.8.5"
  },
  "varInspector": {
   "cols": {
    "lenName": 16,
    "lenType": 16,
    "lenVar": 40
   },
   "kernels_config": {
    "python": {
     "delete_cmd_postfix": "",
     "delete_cmd_prefix": "del ",
     "library": "var_list.py",
     "varRefreshCmd": "print(var_dic_list())"
    },
    "r": {
     "delete_cmd_postfix": ") ",
     "delete_cmd_prefix": "rm(",
     "library": "var_list.r",
     "varRefreshCmd": "cat(var_dic_list()) "
    }
   },
   "types_to_exclude": [
    "module",
    "function",
    "builtin_function_or_method",
    "instance",
    "_Feature"
   ],
   "window_display": false
  }
 },
 "nbformat": 4,
 "nbformat_minor": 4
}
