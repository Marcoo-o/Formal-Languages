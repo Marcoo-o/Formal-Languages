{
 "cells": [
  {
   "cell_type": "code",
   "execution_count": null,
   "metadata": {},
   "outputs": [],
   "source": [
    "%%HTML\n",
    "<style>\n",
    ".container { width: 100% }\n",
    "</style>"
   ]
  },
  {
   "cell_type": "markdown",
   "metadata": {},
   "source": [
    "# Checking the Equivalence of Regular Expressions"
   ]
  },
  {
   "cell_type": "code",
   "execution_count": null,
   "metadata": {},
   "outputs": [],
   "source": [
    "%run Regexp-2-NFA.ipynb\n",
    "%run NFA-2-DFA.ipynb"
   ]
  },
  {
   "cell_type": "markdown",
   "metadata": {},
   "source": [
    "Given two sets `A` and `B`, the function `cartesian_product(A, B)` computes the \n",
    "<em style=\"color:blue\">cartesian product</em> $A \\times B$ which is defined as\n",
    "$$ A \\times B := \\{ (x, y) \\mid x \\in A \\wedge y \\in B \\}. $$"
   ]
  },
  {
   "cell_type": "code",
   "execution_count": null,
   "metadata": {},
   "outputs": [],
   "source": [
    "def cartesian_product(A, B):\n",
    "    return { (x, y) for x in A\n",
    "                    for y in B\n",
    "           }"
   ]
  },
  {
   "cell_type": "code",
   "execution_count": null,
   "metadata": {},
   "outputs": [],
   "source": [
    "cartesian_product({1, 2}, {'a', 'b'})"
   ]
  },
  {
   "cell_type": "markdown",
   "metadata": {},
   "source": [
    "Given to deterministic <span style=\"font-variant:small-caps;\">Fsm</span>s `F1` and `F2`,\n",
    "the expression `fsm_complement(F1, F2)` computes a deterministic \n",
    "<span style=\"font-variant:small-caps;\">Fsm</span> that recognizes the language  $L(F_1)\\backslash L(F_2)$."
   ]
  },
  {
   "cell_type": "code",
   "execution_count": null,
   "metadata": {},
   "outputs": [],
   "source": [
    "def fsm_complement(F1, F2):\n",
    "    States1, Sigma, delta1, q1, A1 = F1\n",
    "    States2,     _, delta2, q2, A2 = F2\n",
    "    States = cartesian_product(States1, States2)\n",
    "    delta  = {}\n",
    "    for (p1, p2) in States:\n",
    "        for c in Sigma:\n",
    "            delta[(p1, p2), c] = (delta1[p1, c], delta2[p2, c])\n",
    "    return (States, Sigma, delta, (q1, q2), cartesian_product(A1, States2 - A2))"
   ]
  },
  {
   "cell_type": "code",
   "execution_count": null,
   "metadata": {},
   "outputs": [],
   "source": [
    "def regexp2DFA(r, Sigma):\n",
    "    converter = RegExp2NFA(Sigma)\n",
    "    States, Sigma, delta, q0, A = converter.toNFA(r)\n",
    "    return nfa2dfa((States, Sigma, delta, q0, A))"
   ]
  },
  {
   "cell_type": "code",
   "execution_count": null,
   "metadata": {},
   "outputs": [],
   "source": [
    "def is_empty(F):\n",
    "    States, Sigma, delta, q0, Accepting = F\n",
    "    Reachable = { q0 }\n",
    "    NewFound  = { q0 }\n",
    "    while True:\n",
    "        NewFound = { delta[q, c] for q in NewFound\n",
    "                                 for c in Sigma \n",
    "                   }\n",
    "        if NewFound <= Reachable:\n",
    "            break\n",
    "        Reachable |= NewFound\n",
    "    return Reachable & Accepting == set()"
   ]
  },
  {
   "cell_type": "code",
   "execution_count": null,
   "metadata": {},
   "outputs": [],
   "source": [
    "%run FSM-2-Dot.ipynb"
   ]
  },
  {
   "cell_type": "code",
   "execution_count": null,
   "metadata": {},
   "outputs": [],
   "source": [
    "def regExpEquiv(r1, r2, Sigma):\n",
    "    F1 = regexp2DFA(r1, Sigma)\n",
    "    F2 = regexp2DFA(r2, Sigma)    \n",
    "    r1_minus_r2 = fsm_complement(F1, F2)\n",
    "    r2_minus_r1 = fsm_complement(F2, F1)\n",
    "    return is_empty(r1_minus_r2) and is_empty(r2_minus_r1)"
   ]
  },
  {
   "cell_type": "code",
   "execution_count": null,
   "metadata": {},
   "outputs": [],
   "source": []
  }
 ],
 "metadata": {
  "kernelspec": {
   "display_name": "Python 3",
   "language": "python",
   "name": "python3"
  },
  "language_info": {
   "codemirror_mode": {
    "name": "ipython",
    "version": 3
   },
   "file_extension": ".py",
   "mimetype": "text/x-python",
   "name": "python",
   "nbconvert_exporter": "python",
   "pygments_lexer": "ipython3",
   "version": "3.8.3"
  },
  "varInspector": {
   "cols": {
    "lenName": 16,
    "lenType": 16,
    "lenVar": 40
   },
   "kernels_config": {
    "python": {
     "delete_cmd_postfix": "",
     "delete_cmd_prefix": "del ",
     "library": "var_list.py",
     "varRefreshCmd": "print(var_dic_list())"
    },
    "r": {
     "delete_cmd_postfix": ") ",
     "delete_cmd_prefix": "rm(",
     "library": "var_list.r",
     "varRefreshCmd": "cat(var_dic_list()) "
    }
   },
   "types_to_exclude": [
    "module",
    "function",
    "builtin_function_or_method",
    "instance",
    "_Feature"
   ],
   "window_display": false
  }
 },
 "nbformat": 4,
 "nbformat_minor": 4
}
