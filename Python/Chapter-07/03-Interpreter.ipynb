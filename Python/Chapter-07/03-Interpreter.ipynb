{
 "cells": [
  {
   "cell_type": "code",
   "execution_count": 1,
   "metadata": {},
   "outputs": [
    {
     "name": "stderr",
     "output_type": "stream",
     "text": [
      "Version 1.0.5\n"
     ]
    }
   ],
   "source": [
    "%load_ext nb_mypy"
   ]
  },
  {
   "cell_type": "markdown",
   "metadata": {},
   "source": [
    "# An Interpreter for a Simple Programming Language"
   ]
  },
  {
   "cell_type": "markdown",
   "metadata": {},
   "source": [
    "In this notebook we develop an interpreter for a small programming language."
   ]
  },
  {
   "cell_type": "code",
   "execution_count": 2,
   "metadata": {},
   "outputs": [],
   "source": [
    "import ply.lex as lex"
   ]
  },
  {
   "cell_type": "code",
   "execution_count": 3,
   "metadata": {},
   "outputs": [],
   "source": [
    "tokens = [ 'NUMBER',    # r'0|[1-9][0-9]*'\n",
    "           'ID',        # r'[a-zA-Z][a-zA-Z0-9_]*'\n",
    "           'ASSIGN',    # r':='\n",
    "           'EQ',        # r'=='\n",
    "           'NE',        # r'!='\n",
    "           'LE',        # r'<='\n",
    "           'GE',        # r'>='\n",
    "           'IF',        # see below\n",
    "           'WHILE'      # see below\n",
    "          ]"
   ]
  },
  {
   "cell_type": "markdown",
   "metadata": {},
   "source": [
    "We allow both *single-line comments* and *multi-line comments*.\n",
    "- The regular expression `/\\*(.|\\n)*?\\*/` recognizes multi-line comments.\n",
    "  Multi-line comments start with the string `/*` and end with the string `*/`.\n",
    "  Note the use of the *non-greedy* quantor `*?`.  If we have code like\n",
    "  ```\n",
    "  /* blah */ a = 1; /* blub */\n",
    "  ```\n",
    "  the greedy quantor would recognize the whole line as one comment. \n",
    "- The regular expression `//.*` recognizes single-line comments.\n",
    "  A single line comment starts with the string `//` and extends to the end of the line."
   ]
  },
  {
   "cell_type": "code",
   "execution_count": 4,
   "metadata": {},
   "outputs": [],
   "source": [
    "def t_COMMENT(t):\n",
    "    r'(/\\*(.|\\n)*?\\*/)|(//.*)'\n",
    "    t.lexer.lineno += t.value.count('\\n')\n",
    "    pass"
   ]
  },
  {
   "cell_type": "markdown",
   "metadata": {},
   "source": [
    "The token `NUMBER` specifies a natural number."
   ]
  },
  {
   "cell_type": "code",
   "execution_count": 5,
   "metadata": {},
   "outputs": [],
   "source": [
    "def t_NUMBER(t):\n",
    "    r'0|[1-9][0-9]*'\n",
    "    t.value = int(t.value)\n",
    "    return t"
   ]
  },
  {
   "cell_type": "code",
   "execution_count": 6,
   "metadata": {},
   "outputs": [],
   "source": [
    "t_ASSIGN = r':='\n",
    "t_EQ     = r'=='\n",
    "t_NE     = r'!='\n",
    "t_LE     = r'<='\n",
    "t_GE     = r'>='"
   ]
  },
  {
   "cell_type": "markdown",
   "metadata": {},
   "source": [
    "The keywords 'int', 'if', 'else', 'while', 'return' have to be dealt with separately as they are syntactical identical to identifiers. The dictionary Keywords shown below maps every keyword to its token type."
   ]
  },
  {
   "cell_type": "code",
   "execution_count": 7,
   "metadata": {},
   "outputs": [],
   "source": [
    "Keywords = { 'if': 'IF', 'while': 'WHILE' }"
   ]
  },
  {
   "cell_type": "markdown",
   "metadata": {},
   "source": [
    "When an identifier is read, we first have to check whether the identifier is one of our keywords.  If so, we assign the corresponding token type that is stored in the dictionary `Keywords`.  Otherwise, the token type is set to `ID`."
   ]
  },
  {
   "cell_type": "code",
   "execution_count": 8,
   "metadata": {},
   "outputs": [],
   "source": [
    "def t_ID(t):\n",
    "    r'[a-zA-Z][a-zA-Z0-9_]*'\n",
    "    t.type = Keywords.get(t.value, 'ID')\n",
    "    return t"
   ]
  },
  {
   "cell_type": "markdown",
   "metadata": {},
   "source": [
    "Operators consisting of a single character do not need an associated token type.\n",
    "They are declared via the keyword `literals`."
   ]
  },
  {
   "cell_type": "code",
   "execution_count": 9,
   "metadata": {},
   "outputs": [],
   "source": [
    "literals = ['+', '-', '*', '/', '%', '(', ')', '{', '}', ';', '<', '>', '!', ',']"
   ]
  },
  {
   "cell_type": "markdown",
   "metadata": {},
   "source": [
    "White space, i.e. *space characters*, *tabulators*, and *carriage returns* are ignored. "
   ]
  },
  {
   "cell_type": "code",
   "execution_count": 10,
   "metadata": {},
   "outputs": [],
   "source": [
    "t_ignore  = ' \\t\\r'"
   ]
  },
  {
   "cell_type": "markdown",
   "metadata": {},
   "source": [
    "Syntactically, newline characters are ignored. However, we still need to keep track of them in order to know the current line number, which is used for error messages."
   ]
  },
  {
   "cell_type": "code",
   "execution_count": 11,
   "metadata": {},
   "outputs": [],
   "source": [
    "def t_newline(t):\n",
    "    r'\\n'\n",
    "    t.lexer.lineno += 1\n",
    "    return"
   ]
  },
  {
   "cell_type": "markdown",
   "metadata": {},
   "source": [
    "Given a `token`, the function `find_colum` returns the column where `token` starts.  This is possible, because every token contains a reference to the current lexer as `token.lexer` and this lexer in turn stores the string that is given to it via the reference `lexer.lexdata`.  Furthermore, `token.lexpos` is the number of characters that precede `token`."
   ]
  },
  {
   "cell_type": "code",
   "execution_count": 12,
   "metadata": {},
   "outputs": [],
   "source": [
    "def find_column(token):\n",
    "    program    = token.lexer.lexdata  # the complete string given to the scanner\n",
    "    line_start = program.rfind('\\n', 0, token.lexpos)\n",
    "    return token.lexpos - line_start"
   ]
  },
  {
   "cell_type": "markdown",
   "metadata": {},
   "source": [
    "The function `t_error` is called for any token `t` that can not be scanned by the lexer.  In this case, `t.value[0]` is the first character that is not recognized by the scanner.  This character is discarded.  After that, scanning proceeeds as if nothing has happened."
   ]
  },
  {
   "cell_type": "code",
   "execution_count": 13,
   "metadata": {},
   "outputs": [],
   "source": [
    "def t_error(t):\n",
    "    column = find_column(t)\n",
    "    print(f\"Illegal character '{t.value[0]}' in line {t.lineno}, column {column}.\")\n",
    "    t.lexer.skip(1)"
   ]
  },
  {
   "cell_type": "code",
   "execution_count": 14,
   "metadata": {},
   "outputs": [],
   "source": [
    "__file__ = 'main'"
   ]
  },
  {
   "cell_type": "code",
   "execution_count": 15,
   "metadata": {},
   "outputs": [],
   "source": [
    "lexer = lex.lex()"
   ]
  },
  {
   "cell_type": "code",
   "execution_count": 16,
   "metadata": {},
   "outputs": [],
   "source": [
    "def test_scanner(file_name):\n",
    "    with open(file_name, 'r') as handle:\n",
    "        program = handle.read() \n",
    "    print(program)\n",
    "    lexer.input(program)\n",
    "    lexer.lineno = 1          # reset line number\n",
    "    for t in lexer:           # start scanning and collect all tokens\n",
    "        print(t) "
   ]
  },
  {
   "cell_type": "code",
   "execution_count": 17,
   "metadata": {},
   "outputs": [
    {
     "name": "stdout",
     "output_type": "stream",
     "text": [
      "n := read();\n",
      "s := 0;\n",
      "i := 0;\n",
      "while (i < n * n) {\n",
      "    i := i + 1;\n",
      "    s := s + i;\n",
      "}\n",
      "print(s);\n",
      "\n",
      "LexToken(ID,'n',1,0)\n",
      "LexToken(ASSIGN,':=',1,2)\n",
      "LexToken(ID,'read',1,5)\n",
      "LexToken((,'(',1,9)\n",
      "LexToken(),')',1,10)\n",
      "LexToken(;,';',1,11)\n",
      "LexToken(ID,'s',2,13)\n",
      "LexToken(ASSIGN,':=',2,15)\n",
      "LexToken(NUMBER,0,2,18)\n",
      "LexToken(;,';',2,19)\n",
      "LexToken(ID,'i',3,21)\n",
      "LexToken(ASSIGN,':=',3,23)\n",
      "LexToken(NUMBER,0,3,26)\n",
      "LexToken(;,';',3,27)\n",
      "LexToken(WHILE,'while',4,29)\n",
      "LexToken((,'(',4,35)\n",
      "LexToken(ID,'i',4,36)\n",
      "LexToken(<,'<',4,38)\n",
      "LexToken(ID,'n',4,40)\n",
      "LexToken(*,'*',4,42)\n",
      "LexToken(ID,'n',4,44)\n",
      "LexToken(),')',4,45)\n",
      "LexToken({,'{',4,47)\n",
      "LexToken(ID,'i',5,53)\n",
      "LexToken(ASSIGN,':=',5,55)\n",
      "LexToken(ID,'i',5,58)\n",
      "LexToken(+,'+',5,60)\n",
      "LexToken(NUMBER,1,5,62)\n",
      "LexToken(;,';',5,63)\n",
      "LexToken(ID,'s',6,69)\n",
      "LexToken(ASSIGN,':=',6,71)\n",
      "LexToken(ID,'s',6,74)\n",
      "LexToken(+,'+',6,76)\n",
      "LexToken(ID,'i',6,78)\n",
      "LexToken(;,';',6,79)\n",
      "LexToken(},'}',7,81)\n",
      "LexToken(ID,'print',8,83)\n",
      "LexToken((,'(',8,88)\n",
      "LexToken(ID,'s',8,89)\n",
      "LexToken(),')',8,90)\n",
      "LexToken(;,';',8,91)\n"
     ]
    }
   ],
   "source": [
    "test_scanner('sum.sl')"
   ]
  },
  {
   "cell_type": "code",
   "execution_count": 18,
   "metadata": {},
   "outputs": [
    {
     "name": "stdout",
     "output_type": "stream",
     "text": [
      "f := 1;\n",
      "i := 0;\n",
      "n := read();\n",
      "while (i < n) {\n",
      "    i := i + 1;\n",
      "    f := i * f;\n",
      "}\n",
      "print(f);\n",
      "\n",
      "\n",
      "LexToken(ID,'f',1,0)\n",
      "LexToken(ASSIGN,':=',1,2)\n",
      "LexToken(NUMBER,1,1,5)\n",
      "LexToken(;,';',1,6)\n",
      "LexToken(ID,'i',2,8)\n",
      "LexToken(ASSIGN,':=',2,10)\n",
      "LexToken(NUMBER,0,2,13)\n",
      "LexToken(;,';',2,14)\n",
      "LexToken(ID,'n',3,16)\n",
      "LexToken(ASSIGN,':=',3,18)\n",
      "LexToken(ID,'read',3,21)\n",
      "LexToken((,'(',3,25)\n",
      "LexToken(),')',3,26)\n",
      "LexToken(;,';',3,27)\n",
      "LexToken(WHILE,'while',4,29)\n",
      "LexToken((,'(',4,35)\n",
      "LexToken(ID,'i',4,36)\n",
      "LexToken(<,'<',4,38)\n",
      "LexToken(ID,'n',4,40)\n",
      "LexToken(),')',4,41)\n",
      "LexToken({,'{',4,43)\n",
      "LexToken(ID,'i',5,49)\n",
      "LexToken(ASSIGN,':=',5,51)\n",
      "LexToken(ID,'i',5,54)\n",
      "LexToken(+,'+',5,56)\n",
      "LexToken(NUMBER,1,5,58)\n",
      "LexToken(;,';',5,59)\n",
      "LexToken(ID,'f',6,65)\n",
      "LexToken(ASSIGN,':=',6,67)\n",
      "LexToken(ID,'i',6,70)\n",
      "LexToken(*,'*',6,72)\n",
      "LexToken(ID,'f',6,74)\n",
      "LexToken(;,';',6,75)\n",
      "LexToken(},'}',7,77)\n",
      "LexToken(ID,'print',8,79)\n",
      "LexToken((,'(',8,84)\n",
      "LexToken(ID,'f',8,85)\n",
      "LexToken(),')',8,86)\n",
      "LexToken(;,';',8,87)\n"
     ]
    }
   ],
   "source": [
    "test_scanner('factorial.sl')"
   ]
  },
  {
   "cell_type": "code",
   "execution_count": 19,
   "metadata": {},
   "outputs": [],
   "source": [
    "import ply.yacc as yacc"
   ]
  },
  {
   "cell_type": "markdown",
   "metadata": {},
   "source": [
    "Below is the grammar for our language:\n",
    "```\n",
    "program\n",
    "    : /* epsilon */\n",
    "    | stmnt program\n",
    "    \n",
    "stmnt \n",
    "    : IF '(' bool_expr ')' stmnt                 \n",
    "    | WHILE '(' bool_expr ')' stmnt\n",
    "    | '{' stmnt_list '}' \n",
    "    | ID ':=' expr ';'  \n",
    "    | expr ';'       \n",
    "\n",
    "bool_expr \n",
    "    : expr '==' expr     \n",
    "    | expr '!=' expr     \n",
    "    | expr '<=' expr     \n",
    "    | expr '>=' expr     \n",
    "    | expr '<'  expr      \n",
    "    | expr '>'  expr     \n",
    " \n",
    "expr: expr '+' product                 \n",
    "    | expr '-' product\n",
    "    | product\n",
    "              \n",
    "product\n",
    "    : product '*' factor               \n",
    "    | product '/' factor\n",
    "    | product '%' factor \n",
    "    | factor\n",
    "\n",
    "factor\n",
    "    : '(' expr ')' \n",
    "    | NUMBER\n",
    "    | ID\n",
    "    | ID '(' expr_list ')'\n",
    "\n",
    "expr_list\n",
    "    :\n",
    "    | expr ',' ne_expr_list\n",
    "\n",
    "ne_expr_list\n",
    "    : expr\n",
    "    | expr ',' ne_expr_list\n",
    "```"
   ]
  },
  {
   "cell_type": "markdown",
   "metadata": {},
   "source": [
    "The *start variable* of our grammar is `program`."
   ]
  },
  {
   "cell_type": "code",
   "execution_count": 20,
   "metadata": {},
   "outputs": [],
   "source": [
    "start = 'program'"
   ]
  },
  {
   "cell_type": "markdown",
   "metadata": {},
   "source": [
    "An example program that conforms to this grammar is stored in the file `sum.sl`."
   ]
  },
  {
   "cell_type": "code",
   "execution_count": 21,
   "metadata": {},
   "outputs": [
    {
     "name": "stdout",
     "output_type": "stream",
     "text": [
      "n := read();\n",
      "s := 0;\n",
      "i := 0;\n",
      "while (i < n * n) {\n",
      "    i := i + 1;\n",
      "    s := s + i;\n",
      "}\n",
      "print(s);\n"
     ]
    }
   ],
   "source": [
    "!cat sum.sl"
   ]
  },
  {
   "cell_type": "markdown",
   "metadata": {},
   "source": [
    "A program is a list of statements."
   ]
  },
  {
   "cell_type": "code",
   "execution_count": 22,
   "metadata": {},
   "outputs": [],
   "source": [
    "def p_program_one(p):\n",
    "    \"program : stmnt_list\"\n",
    "    p[0] = p[1]"
   ]
  },
  {
   "cell_type": "code",
   "execution_count": 23,
   "metadata": {},
   "outputs": [],
   "source": [
    "def p_stmnt_list_empty(p):\n",
    "    \"stmnt_list : \"\n",
    "    p[0] = ('.',)\n",
    "\n",
    "def p_stmnt_list_more(p):\n",
    "    \"stmnt_list : stmnt stmnt_list\"\n",
    "    p[0] = ('.', p[1]) + p[2][1:]"
   ]
  },
  {
   "cell_type": "code",
   "execution_count": 24,
   "metadata": {},
   "outputs": [],
   "source": [
    "def p_stmnt_if(p):\n",
    "    \"stmnt : IF '(' bool_expr ')' stmnt\"\n",
    "    p[0] = ('if', p[3], p[5])   \n",
    "\n",
    "def p_stmnt_while(p):\n",
    "    \"stmnt : WHILE '(' bool_expr ')' stmnt\"\n",
    "    p[0] = ('while', p[3], p[5])\n",
    "    \n",
    "def p_stmnt_block(p):\n",
    "    \"stmnt : '{' stmnt_list '}'\"\n",
    "    p[0] = p[2]\n",
    "    \n",
    "def p_stmnt_assign(p):\n",
    "    \"stmnt : ID ASSIGN expr ';'\"\n",
    "    p[0] = (':=', p[1], p[3])\n",
    "   \n",
    "def p_stmnt_expr(p):\n",
    "    \"stmnt : expr ';'\"\n",
    "    p[0] = p[1]"
   ]
  },
  {
   "cell_type": "code",
   "execution_count": 25,
   "metadata": {},
   "outputs": [],
   "source": [
    "def p_bool_expr_eq(p):\n",
    "    \"bool_expr : expr EQ expr\"\n",
    "    p[0] = ('==', p[1], p[3])\n",
    "\n",
    "def p_bool_expr_ne(p):\n",
    "    \"bool_expr : expr NE expr\"\n",
    "    p[0] = ('!=', p[1], p[3])\n",
    "\n",
    "def p_bool_expr_le(p):\n",
    "    \"bool_expr : expr LE expr\"\n",
    "    p[0] = ('<=', p[1], p[3])\n",
    "    \n",
    "def p_bool_expr_ge(p):\n",
    "    \"bool_expr : expr GE expr\"\n",
    "    p[0] = ('>=', p[1], p[3])\n",
    "    \n",
    "def p_bool_expr_lt(p):\n",
    "    \"bool_expr : expr '<' expr\"\n",
    "    p[0] = ('<', p[1], p[3])\n",
    "\n",
    "def p_bool_expr_gt(p):\n",
    "    \"bool_expr : expr '>' expr\"\n",
    "    p[0] = ('>', p[1], p[3])"
   ]
  },
  {
   "cell_type": "code",
   "execution_count": 26,
   "metadata": {},
   "outputs": [],
   "source": [
    "def p_expr_plus(p):\n",
    "    \"expr : expr '+' product\"\n",
    "    p[0] = ('+', p[1], p[3])\n",
    "    \n",
    "def p_expr_minus(p):\n",
    "    \"expr : expr '-' product\"\n",
    "    p[0] = ('-', p[1], p[3])\n",
    "\n",
    "def p_expr_product(p):\n",
    "    \"expr : product\"\n",
    "    p[0] = p[1]\n",
    "    \n",
    "def p_product_times(p):\n",
    "    \"product : product '*' expr\"\n",
    "    p[0] = ('*', p[1], p[3])\n",
    "    \n",
    "def p_product_divide(p):\n",
    "    \"product : product '/' expr\"\n",
    "    p[0] = ('/', p[1], p[3])\n",
    "\n",
    "def p_product_modulo(p):\n",
    "    \"product : product '%' factor\"\n",
    "    p[0] = ('%', p[1], p[3])\n",
    "\n",
    "def p_product_factor(p):\n",
    "    \"product : factor\"\n",
    "    p[0] = p[1]\n",
    "\n",
    "def p_factor_paren(p):\n",
    "    \"factor : '(' expr ')'\"\n",
    "    p[0] = p[2]\n",
    "\n",
    "def p_factor_number(p):\n",
    "    \"factor : NUMBER\"\n",
    "    p[0] = p[1]\n",
    "\n",
    "def p_factor_id(p):\n",
    "    \"factor : ID\"\n",
    "    p[0] = p[1]\n",
    "\n",
    "def p_factor_fct_call(p):\n",
    "    \"factor : ID '(' expr_list ')'\"\n",
    "    p[0] = ('call', p[1]) + p[3][1:]"
   ]
  },
  {
   "cell_type": "code",
   "execution_count": 27,
   "metadata": {},
   "outputs": [],
   "source": [
    "def p_expr_list_empty(p):\n",
    "    \"expr_list : \"\n",
    "    p[0] = ('.',)\n",
    "    \n",
    "def p_expr_list_one(p):\n",
    "    \"expr_list : expr\"\n",
    "    p[0] = ('.', p[1])     \n",
    "\n",
    "def p_expr_list_more(p):\n",
    "    \"expr_list : expr ',' ne_expr_list\"\n",
    "    p[0] = ('.', p[1]) + p[3][1:]     \n",
    "\n",
    "def p_ne_expr_list_one(p):\n",
    "    \"ne_expr_list : expr\"\n",
    "    p[0] = ('.', p[1]) \n",
    "    \n",
    "def p_ne_expr_list_more(p):\n",
    "    \"ne_expr_list : expr ',' ne_expr_list\"\n",
    "    p[0] = ('.', p[1]) + p[3][1:] "
   ]
  },
  {
   "cell_type": "code",
   "execution_count": 28,
   "metadata": {},
   "outputs": [],
   "source": [
    "def p_error(t):\n",
    "    column = find_column(t)\n",
    "    if t:\n",
    "        print(f'Syntax error at token \"{t.value}\" in line {t.lineno}, column {column}.')\n",
    "    else:\n",
    "        print('Syntax error at end of input.')"
   ]
  },
  {
   "cell_type": "code",
   "execution_count": 30,
   "metadata": {},
   "outputs": [],
   "source": [
    "parser = yacc.yacc()"
   ]
  },
  {
   "cell_type": "markdown",
   "metadata": {},
   "source": [
    "The parser shown above will transform the program `sum.sl` into the *nested tuple* stored in the file `sum.ast`."
   ]
  },
  {
   "cell_type": "code",
   "execution_count": 31,
   "metadata": {},
   "outputs": [],
   "source": [
    "%run AST-2-Dot.ipynb"
   ]
  },
  {
   "cell_type": "markdown",
   "metadata": {},
   "source": [
    "The function `parse` takes a `file_name` as ist sole argument.  The file is read and parsed. \n",
    "The resulting parse tree is visualized using `graphviz`.  It is important to reset the\n",
    "attribute `lineno` of the scanner, for otherwise error messages will not have the correct line numbers."
   ]
  },
  {
   "cell_type": "code",
   "execution_count": 32,
   "metadata": {},
   "outputs": [],
   "source": [
    "def parse(file_name):\n",
    "    lexer.lineno = 1\n",
    "    with open(file_name, 'r') as handle:\n",
    "        program = handle.read() \n",
    "    ast = yacc.parse(program)\n",
    "    print(ast)\n",
    "    return tuple2dot(ast)"
   ]
  },
  {
   "cell_type": "code",
   "execution_count": 33,
   "metadata": {},
   "outputs": [
    {
     "name": "stdout",
     "output_type": "stream",
     "text": [
      "('.', (':=', 'n', ('call', 'read')), (':=', 's', 0), (':=', 'i', 0), ('while', ('<', 'i', ('*', 'n', 'n')), ('.', (':=', 'i', ('+', 'i', 1)), (':=', 's', ('+', 's', 'i')))), ('call', 'print', 's'))\n"
     ]
    },
    {
     "data": {
      "image/svg+xml": [
       "<?xml version=\"1.0\" encoding=\"UTF-8\" standalone=\"no\"?>\n",
       "<!DOCTYPE svg PUBLIC \"-//W3C//DTD SVG 1.1//EN\"\n",
       " \"http://www.w3.org/Graphics/SVG/1.1/DTD/svg11.dtd\">\n",
       "<!-- Generated by graphviz version 12.0.0 (0)\n",
       " -->\n",
       "<!-- Title: Abstract Syntax Tree Pages: 1 -->\n",
       "<svg width=\"836pt\" height=\"404pt\"\n",
       " viewBox=\"0.00 0.00 836.00 404.00\" xmlns=\"http://www.w3.org/2000/svg\" xmlns:xlink=\"http://www.w3.org/1999/xlink\">\n",
       "<g id=\"graph0\" class=\"graph\" transform=\"scale(1 1) rotate(0) translate(4 400)\">\n",
       "<title>Abstract Syntax Tree</title>\n",
       "<polygon fill=\"white\" stroke=\"none\" points=\"-4,4 -4,-400 832,-400 832,4 -4,4\"/>\n",
       "<!-- 0 -->\n",
       "<g id=\"node1\" class=\"node\">\n",
       "<title>0</title>\n",
       "<ellipse fill=\"none\" stroke=\"black\" cx=\"349\" cy=\"-378\" rx=\"27\" ry=\"18\"/>\n",
       "<text text-anchor=\"middle\" x=\"349\" y=\"-372.95\" font-family=\"Times,serif\" font-size=\"14.00\">.</text>\n",
       "</g>\n",
       "<!-- 1 -->\n",
       "<g id=\"node2\" class=\"node\">\n",
       "<title>1</title>\n",
       "<ellipse fill=\"none\" stroke=\"black\" cx=\"99\" cy=\"-306\" rx=\"27\" ry=\"18\"/>\n",
       "<text text-anchor=\"middle\" x=\"99\" y=\"-300.95\" font-family=\"Times,serif\" font-size=\"14.00\">:=</text>\n",
       "</g>\n",
       "<!-- 0&#45;&gt;1 -->\n",
       "<g id=\"edge1\" class=\"edge\">\n",
       "<title>0&#45;&gt;1</title>\n",
       "<path fill=\"none\" stroke=\"black\" d=\"M324.57,-370.16C280.14,-357.72 185.93,-331.34 134.44,-316.92\"/>\n",
       "<polygon fill=\"black\" stroke=\"black\" points=\"135.56,-313.6 124.98,-314.28 133.67,-320.34 135.56,-313.6\"/>\n",
       "</g>\n",
       "<!-- 5 -->\n",
       "<g id=\"node6\" class=\"node\">\n",
       "<title>5</title>\n",
       "<ellipse fill=\"none\" stroke=\"black\" cx=\"243\" cy=\"-306\" rx=\"27\" ry=\"18\"/>\n",
       "<text text-anchor=\"middle\" x=\"243\" y=\"-300.95\" font-family=\"Times,serif\" font-size=\"14.00\">:=</text>\n",
       "</g>\n",
       "<!-- 0&#45;&gt;5 -->\n",
       "<g id=\"edge5\" class=\"edge\">\n",
       "<title>0&#45;&gt;5</title>\n",
       "<path fill=\"none\" stroke=\"black\" d=\"M330.54,-364.81C314.15,-353.98 289.95,-338 271.15,-325.59\"/>\n",
       "<polygon fill=\"black\" stroke=\"black\" points=\"273.14,-322.71 262.87,-320.12 269.29,-328.55 273.14,-322.71\"/>\n",
       "</g>\n",
       "<!-- 8 -->\n",
       "<g id=\"node9\" class=\"node\">\n",
       "<title>8</title>\n",
       "<ellipse fill=\"none\" stroke=\"black\" cx=\"349\" cy=\"-306\" rx=\"27\" ry=\"18\"/>\n",
       "<text text-anchor=\"middle\" x=\"349\" y=\"-300.95\" font-family=\"Times,serif\" font-size=\"14.00\">:=</text>\n",
       "</g>\n",
       "<!-- 0&#45;&gt;8 -->\n",
       "<g id=\"edge8\" class=\"edge\">\n",
       "<title>0&#45;&gt;8</title>\n",
       "<path fill=\"none\" stroke=\"black\" d=\"M349,-359.7C349,-352.41 349,-343.73 349,-335.54\"/>\n",
       "<polygon fill=\"black\" stroke=\"black\" points=\"352.5,-335.62 349,-325.62 345.5,-335.62 352.5,-335.62\"/>\n",
       "</g>\n",
       "<!-- 11 -->\n",
       "<g id=\"node12\" class=\"node\">\n",
       "<title>11</title>\n",
       "<ellipse fill=\"none\" stroke=\"black\" cx=\"459\" cy=\"-306\" rx=\"31.39\" ry=\"18\"/>\n",
       "<text text-anchor=\"middle\" x=\"459\" y=\"-300.95\" font-family=\"Times,serif\" font-size=\"14.00\">while</text>\n",
       "</g>\n",
       "<!-- 0&#45;&gt;11 -->\n",
       "<g id=\"edge11\" class=\"edge\">\n",
       "<title>0&#45;&gt;11</title>\n",
       "<path fill=\"none\" stroke=\"black\" d=\"M368.16,-364.81C384.93,-354.13 409.58,-338.45 428.98,-326.11\"/>\n",
       "<polygon fill=\"black\" stroke=\"black\" points=\"430.73,-329.14 437.29,-320.82 426.98,-323.23 430.73,-329.14\"/>\n",
       "</g>\n",
       "<!-- 28 -->\n",
       "<g id=\"node29\" class=\"node\">\n",
       "<title>28</title>\n",
       "<ellipse fill=\"none\" stroke=\"black\" cx=\"604\" cy=\"-306\" rx=\"27\" ry=\"18\"/>\n",
       "<text text-anchor=\"middle\" x=\"604\" y=\"-300.95\" font-family=\"Times,serif\" font-size=\"14.00\">call</text>\n",
       "</g>\n",
       "<!-- 0&#45;&gt;28 -->\n",
       "<g id=\"edge28\" class=\"edge\">\n",
       "<title>0&#45;&gt;28</title>\n",
       "<path fill=\"none\" stroke=\"black\" d=\"M373.45,-370.29C418.74,-357.85 515.86,-331.2 568.43,-316.76\"/>\n",
       "<polygon fill=\"black\" stroke=\"black\" points=\"569.07,-320.22 577.79,-314.2 567.22,-313.47 569.07,-320.22\"/>\n",
       "</g>\n",
       "<!-- 2 -->\n",
       "<g id=\"node3\" class=\"node\">\n",
       "<title>2</title>\n",
       "<ellipse fill=\"none\" stroke=\"black\" cx=\"27\" cy=\"-234\" rx=\"27\" ry=\"18\"/>\n",
       "<text text-anchor=\"middle\" x=\"27\" y=\"-228.95\" font-family=\"Times,serif\" font-size=\"14.00\">n</text>\n",
       "</g>\n",
       "<!-- 1&#45;&gt;2 -->\n",
       "<g id=\"edge2\" class=\"edge\">\n",
       "<title>1&#45;&gt;2</title>\n",
       "<path fill=\"none\" stroke=\"black\" d=\"M84.08,-290.5C74.23,-280.92 61.14,-268.19 49.97,-257.34\"/>\n",
       "<polygon fill=\"black\" stroke=\"black\" points=\"52.59,-255 42.98,-250.54 47.71,-260.02 52.59,-255\"/>\n",
       "</g>\n",
       "<!-- 3 -->\n",
       "<g id=\"node4\" class=\"node\">\n",
       "<title>3</title>\n",
       "<ellipse fill=\"none\" stroke=\"black\" cx=\"99\" cy=\"-234\" rx=\"27\" ry=\"18\"/>\n",
       "<text text-anchor=\"middle\" x=\"99\" y=\"-228.95\" font-family=\"Times,serif\" font-size=\"14.00\">call</text>\n",
       "</g>\n",
       "<!-- 1&#45;&gt;3 -->\n",
       "<g id=\"edge3\" class=\"edge\">\n",
       "<title>1&#45;&gt;3</title>\n",
       "<path fill=\"none\" stroke=\"black\" d=\"M99,-287.7C99,-280.41 99,-271.73 99,-263.54\"/>\n",
       "<polygon fill=\"black\" stroke=\"black\" points=\"102.5,-263.62 99,-253.62 95.5,-263.62 102.5,-263.62\"/>\n",
       "</g>\n",
       "<!-- 4 -->\n",
       "<g id=\"node5\" class=\"node\">\n",
       "<title>4</title>\n",
       "<ellipse fill=\"none\" stroke=\"black\" cx=\"99\" cy=\"-162\" rx=\"27\" ry=\"18\"/>\n",
       "<text text-anchor=\"middle\" x=\"99\" y=\"-156.95\" font-family=\"Times,serif\" font-size=\"14.00\">read</text>\n",
       "</g>\n",
       "<!-- 3&#45;&gt;4 -->\n",
       "<g id=\"edge4\" class=\"edge\">\n",
       "<title>3&#45;&gt;4</title>\n",
       "<path fill=\"none\" stroke=\"black\" d=\"M99,-215.7C99,-208.41 99,-199.73 99,-191.54\"/>\n",
       "<polygon fill=\"black\" stroke=\"black\" points=\"102.5,-191.62 99,-181.62 95.5,-191.62 102.5,-191.62\"/>\n",
       "</g>\n",
       "<!-- 6 -->\n",
       "<g id=\"node7\" class=\"node\">\n",
       "<title>6</title>\n",
       "<ellipse fill=\"none\" stroke=\"black\" cx=\"171\" cy=\"-234\" rx=\"27\" ry=\"18\"/>\n",
       "<text text-anchor=\"middle\" x=\"171\" y=\"-228.95\" font-family=\"Times,serif\" font-size=\"14.00\">s</text>\n",
       "</g>\n",
       "<!-- 5&#45;&gt;6 -->\n",
       "<g id=\"edge6\" class=\"edge\">\n",
       "<title>5&#45;&gt;6</title>\n",
       "<path fill=\"none\" stroke=\"black\" d=\"M228.08,-290.5C218.23,-280.92 205.14,-268.19 193.97,-257.34\"/>\n",
       "<polygon fill=\"black\" stroke=\"black\" points=\"196.59,-255 186.98,-250.54 191.71,-260.02 196.59,-255\"/>\n",
       "</g>\n",
       "<!-- 7 -->\n",
       "<g id=\"node8\" class=\"node\">\n",
       "<title>7</title>\n",
       "<ellipse fill=\"none\" stroke=\"black\" cx=\"243\" cy=\"-234\" rx=\"27\" ry=\"18\"/>\n",
       "<text text-anchor=\"middle\" x=\"243\" y=\"-228.95\" font-family=\"Times,serif\" font-size=\"14.00\">0</text>\n",
       "</g>\n",
       "<!-- 5&#45;&gt;7 -->\n",
       "<g id=\"edge7\" class=\"edge\">\n",
       "<title>5&#45;&gt;7</title>\n",
       "<path fill=\"none\" stroke=\"black\" d=\"M243,-287.7C243,-280.41 243,-271.73 243,-263.54\"/>\n",
       "<polygon fill=\"black\" stroke=\"black\" points=\"246.5,-263.62 243,-253.62 239.5,-263.62 246.5,-263.62\"/>\n",
       "</g>\n",
       "<!-- 9 -->\n",
       "<g id=\"node10\" class=\"node\">\n",
       "<title>9</title>\n",
       "<ellipse fill=\"none\" stroke=\"black\" cx=\"315\" cy=\"-234\" rx=\"27\" ry=\"18\"/>\n",
       "<text text-anchor=\"middle\" x=\"315\" y=\"-228.95\" font-family=\"Times,serif\" font-size=\"14.00\">i</text>\n",
       "</g>\n",
       "<!-- 8&#45;&gt;9 -->\n",
       "<g id=\"edge9\" class=\"edge\">\n",
       "<title>8&#45;&gt;9</title>\n",
       "<path fill=\"none\" stroke=\"black\" d=\"M340.94,-288.41C337.05,-280.39 332.28,-270.57 327.89,-261.54\"/>\n",
       "<polygon fill=\"black\" stroke=\"black\" points=\"331.18,-260.3 323.66,-252.83 324.88,-263.36 331.18,-260.3\"/>\n",
       "</g>\n",
       "<!-- 10 -->\n",
       "<g id=\"node11\" class=\"node\">\n",
       "<title>10</title>\n",
       "<ellipse fill=\"none\" stroke=\"black\" cx=\"387\" cy=\"-234\" rx=\"27\" ry=\"18\"/>\n",
       "<text text-anchor=\"middle\" x=\"387\" y=\"-228.95\" font-family=\"Times,serif\" font-size=\"14.00\">0</text>\n",
       "</g>\n",
       "<!-- 8&#45;&gt;10 -->\n",
       "<g id=\"edge10\" class=\"edge\">\n",
       "<title>8&#45;&gt;10</title>\n",
       "<path fill=\"none\" stroke=\"black\" d=\"M357.81,-288.76C362.27,-280.55 367.8,-270.37 372.84,-261.09\"/>\n",
       "<polygon fill=\"black\" stroke=\"black\" points=\"375.82,-262.94 377.51,-252.48 369.67,-259.6 375.82,-262.94\"/>\n",
       "</g>\n",
       "<!-- 12 -->\n",
       "<g id=\"node13\" class=\"node\">\n",
       "<title>12</title>\n",
       "<ellipse fill=\"none\" stroke=\"black\" cx=\"459\" cy=\"-234\" rx=\"27\" ry=\"18\"/>\n",
       "<text text-anchor=\"middle\" x=\"459\" y=\"-228.95\" font-family=\"Times,serif\" font-size=\"14.00\">&lt;</text>\n",
       "</g>\n",
       "<!-- 11&#45;&gt;12 -->\n",
       "<g id=\"edge12\" class=\"edge\">\n",
       "<title>11&#45;&gt;12</title>\n",
       "<path fill=\"none\" stroke=\"black\" d=\"M459,-287.7C459,-280.41 459,-271.73 459,-263.54\"/>\n",
       "<polygon fill=\"black\" stroke=\"black\" points=\"462.5,-263.62 459,-253.62 455.5,-263.62 462.5,-263.62\"/>\n",
       "</g>\n",
       "<!-- 17 -->\n",
       "<g id=\"node18\" class=\"node\">\n",
       "<title>17</title>\n",
       "<ellipse fill=\"none\" stroke=\"black\" cx=\"531\" cy=\"-234\" rx=\"27\" ry=\"18\"/>\n",
       "<text text-anchor=\"middle\" x=\"531\" y=\"-228.95\" font-family=\"Times,serif\" font-size=\"14.00\">.</text>\n",
       "</g>\n",
       "<!-- 11&#45;&gt;17 -->\n",
       "<g id=\"edge17\" class=\"edge\">\n",
       "<title>11&#45;&gt;17</title>\n",
       "<path fill=\"none\" stroke=\"black\" d=\"M474.27,-290.15C484.14,-280.56 497.16,-267.9 508.24,-257.13\"/>\n",
       "<polygon fill=\"black\" stroke=\"black\" points=\"510.43,-259.88 515.16,-250.4 505.55,-254.86 510.43,-259.88\"/>\n",
       "</g>\n",
       "<!-- 13 -->\n",
       "<g id=\"node14\" class=\"node\">\n",
       "<title>13</title>\n",
       "<ellipse fill=\"none\" stroke=\"black\" cx=\"387\" cy=\"-162\" rx=\"27\" ry=\"18\"/>\n",
       "<text text-anchor=\"middle\" x=\"387\" y=\"-156.95\" font-family=\"Times,serif\" font-size=\"14.00\">i</text>\n",
       "</g>\n",
       "<!-- 12&#45;&gt;13 -->\n",
       "<g id=\"edge13\" class=\"edge\">\n",
       "<title>12&#45;&gt;13</title>\n",
       "<path fill=\"none\" stroke=\"black\" d=\"M444.08,-218.5C434.23,-208.92 421.14,-196.19 409.97,-185.34\"/>\n",
       "<polygon fill=\"black\" stroke=\"black\" points=\"412.59,-183 402.98,-178.54 407.71,-188.02 412.59,-183\"/>\n",
       "</g>\n",
       "<!-- 14 -->\n",
       "<g id=\"node15\" class=\"node\">\n",
       "<title>14</title>\n",
       "<ellipse fill=\"none\" stroke=\"black\" cx=\"459\" cy=\"-162\" rx=\"27\" ry=\"18\"/>\n",
       "<text text-anchor=\"middle\" x=\"459\" y=\"-156.95\" font-family=\"Times,serif\" font-size=\"14.00\">*</text>\n",
       "</g>\n",
       "<!-- 12&#45;&gt;14 -->\n",
       "<g id=\"edge14\" class=\"edge\">\n",
       "<title>12&#45;&gt;14</title>\n",
       "<path fill=\"none\" stroke=\"black\" d=\"M459,-215.7C459,-208.41 459,-199.73 459,-191.54\"/>\n",
       "<polygon fill=\"black\" stroke=\"black\" points=\"462.5,-191.62 459,-181.62 455.5,-191.62 462.5,-191.62\"/>\n",
       "</g>\n",
       "<!-- 15 -->\n",
       "<g id=\"node16\" class=\"node\">\n",
       "<title>15</title>\n",
       "<ellipse fill=\"none\" stroke=\"black\" cx=\"387\" cy=\"-90\" rx=\"27\" ry=\"18\"/>\n",
       "<text text-anchor=\"middle\" x=\"387\" y=\"-84.95\" font-family=\"Times,serif\" font-size=\"14.00\">n</text>\n",
       "</g>\n",
       "<!-- 14&#45;&gt;15 -->\n",
       "<g id=\"edge15\" class=\"edge\">\n",
       "<title>14&#45;&gt;15</title>\n",
       "<path fill=\"none\" stroke=\"black\" d=\"M444.08,-146.5C434.23,-136.92 421.14,-124.19 409.97,-113.34\"/>\n",
       "<polygon fill=\"black\" stroke=\"black\" points=\"412.59,-111 402.98,-106.54 407.71,-116.02 412.59,-111\"/>\n",
       "</g>\n",
       "<!-- 16 -->\n",
       "<g id=\"node17\" class=\"node\">\n",
       "<title>16</title>\n",
       "<ellipse fill=\"none\" stroke=\"black\" cx=\"459\" cy=\"-90\" rx=\"27\" ry=\"18\"/>\n",
       "<text text-anchor=\"middle\" x=\"459\" y=\"-84.95\" font-family=\"Times,serif\" font-size=\"14.00\">n</text>\n",
       "</g>\n",
       "<!-- 14&#45;&gt;16 -->\n",
       "<g id=\"edge16\" class=\"edge\">\n",
       "<title>14&#45;&gt;16</title>\n",
       "<path fill=\"none\" stroke=\"black\" d=\"M459,-143.7C459,-136.41 459,-127.73 459,-119.54\"/>\n",
       "<polygon fill=\"black\" stroke=\"black\" points=\"462.5,-119.62 459,-109.62 455.5,-119.62 462.5,-119.62\"/>\n",
       "</g>\n",
       "<!-- 18 -->\n",
       "<g id=\"node19\" class=\"node\">\n",
       "<title>18</title>\n",
       "<ellipse fill=\"none\" stroke=\"black\" cx=\"531\" cy=\"-162\" rx=\"27\" ry=\"18\"/>\n",
       "<text text-anchor=\"middle\" x=\"531\" y=\"-156.95\" font-family=\"Times,serif\" font-size=\"14.00\">:=</text>\n",
       "</g>\n",
       "<!-- 17&#45;&gt;18 -->\n",
       "<g id=\"edge18\" class=\"edge\">\n",
       "<title>17&#45;&gt;18</title>\n",
       "<path fill=\"none\" stroke=\"black\" d=\"M531,-215.7C531,-208.41 531,-199.73 531,-191.54\"/>\n",
       "<polygon fill=\"black\" stroke=\"black\" points=\"534.5,-191.62 531,-181.62 527.5,-191.62 534.5,-191.62\"/>\n",
       "</g>\n",
       "<!-- 23 -->\n",
       "<g id=\"node24\" class=\"node\">\n",
       "<title>23</title>\n",
       "<ellipse fill=\"none\" stroke=\"black\" cx=\"675\" cy=\"-162\" rx=\"27\" ry=\"18\"/>\n",
       "<text text-anchor=\"middle\" x=\"675\" y=\"-156.95\" font-family=\"Times,serif\" font-size=\"14.00\">:=</text>\n",
       "</g>\n",
       "<!-- 17&#45;&gt;23 -->\n",
       "<g id=\"edge23\" class=\"edge\">\n",
       "<title>17&#45;&gt;23</title>\n",
       "<path fill=\"none\" stroke=\"black\" d=\"M552.56,-222.52C576.66,-210.8 615.92,-191.72 643.47,-178.32\"/>\n",
       "<polygon fill=\"black\" stroke=\"black\" points=\"644.94,-181.5 652.4,-173.98 641.88,-175.21 644.94,-181.5\"/>\n",
       "</g>\n",
       "<!-- 19 -->\n",
       "<g id=\"node20\" class=\"node\">\n",
       "<title>19</title>\n",
       "<ellipse fill=\"none\" stroke=\"black\" cx=\"531\" cy=\"-90\" rx=\"27\" ry=\"18\"/>\n",
       "<text text-anchor=\"middle\" x=\"531\" y=\"-84.95\" font-family=\"Times,serif\" font-size=\"14.00\">i</text>\n",
       "</g>\n",
       "<!-- 18&#45;&gt;19 -->\n",
       "<g id=\"edge19\" class=\"edge\">\n",
       "<title>18&#45;&gt;19</title>\n",
       "<path fill=\"none\" stroke=\"black\" d=\"M531,-143.7C531,-136.41 531,-127.73 531,-119.54\"/>\n",
       "<polygon fill=\"black\" stroke=\"black\" points=\"534.5,-119.62 531,-109.62 527.5,-119.62 534.5,-119.62\"/>\n",
       "</g>\n",
       "<!-- 20 -->\n",
       "<g id=\"node21\" class=\"node\">\n",
       "<title>20</title>\n",
       "<ellipse fill=\"none\" stroke=\"black\" cx=\"603\" cy=\"-90\" rx=\"27\" ry=\"18\"/>\n",
       "<text text-anchor=\"middle\" x=\"603\" y=\"-84.95\" font-family=\"Times,serif\" font-size=\"14.00\">+</text>\n",
       "</g>\n",
       "<!-- 18&#45;&gt;20 -->\n",
       "<g id=\"edge20\" class=\"edge\">\n",
       "<title>18&#45;&gt;20</title>\n",
       "<path fill=\"none\" stroke=\"black\" d=\"M545.92,-146.5C555.77,-136.92 568.86,-124.19 580.03,-113.34\"/>\n",
       "<polygon fill=\"black\" stroke=\"black\" points=\"582.29,-116.02 587.02,-106.54 577.41,-111 582.29,-116.02\"/>\n",
       "</g>\n",
       "<!-- 21 -->\n",
       "<g id=\"node22\" class=\"node\">\n",
       "<title>21</title>\n",
       "<ellipse fill=\"none\" stroke=\"black\" cx=\"549\" cy=\"-18\" rx=\"27\" ry=\"18\"/>\n",
       "<text text-anchor=\"middle\" x=\"549\" y=\"-12.95\" font-family=\"Times,serif\" font-size=\"14.00\">i</text>\n",
       "</g>\n",
       "<!-- 20&#45;&gt;21 -->\n",
       "<g id=\"edge21\" class=\"edge\">\n",
       "<title>20&#45;&gt;21</title>\n",
       "<path fill=\"none\" stroke=\"black\" d=\"M591.02,-73.46C584.23,-64.67 575.6,-53.48 567.92,-43.53\"/>\n",
       "<polygon fill=\"black\" stroke=\"black\" points=\"570.75,-41.47 561.88,-35.69 565.21,-45.75 570.75,-41.47\"/>\n",
       "</g>\n",
       "<!-- 22 -->\n",
       "<g id=\"node23\" class=\"node\">\n",
       "<title>22</title>\n",
       "<ellipse fill=\"none\" stroke=\"black\" cx=\"621\" cy=\"-18\" rx=\"27\" ry=\"18\"/>\n",
       "<text text-anchor=\"middle\" x=\"621\" y=\"-12.95\" font-family=\"Times,serif\" font-size=\"14.00\">1</text>\n",
       "</g>\n",
       "<!-- 20&#45;&gt;22 -->\n",
       "<g id=\"edge22\" class=\"edge\">\n",
       "<title>20&#45;&gt;22</title>\n",
       "<path fill=\"none\" stroke=\"black\" d=\"M607.36,-72.05C609.3,-64.49 611.65,-55.37 613.84,-46.85\"/>\n",
       "<polygon fill=\"black\" stroke=\"black\" points=\"617.21,-47.81 616.31,-37.25 610.43,-46.07 617.21,-47.81\"/>\n",
       "</g>\n",
       "<!-- 24 -->\n",
       "<g id=\"node25\" class=\"node\">\n",
       "<title>24</title>\n",
       "<ellipse fill=\"none\" stroke=\"black\" cx=\"675\" cy=\"-90\" rx=\"27\" ry=\"18\"/>\n",
       "<text text-anchor=\"middle\" x=\"675\" y=\"-84.95\" font-family=\"Times,serif\" font-size=\"14.00\">s</text>\n",
       "</g>\n",
       "<!-- 23&#45;&gt;24 -->\n",
       "<g id=\"edge24\" class=\"edge\">\n",
       "<title>23&#45;&gt;24</title>\n",
       "<path fill=\"none\" stroke=\"black\" d=\"M675,-143.7C675,-136.41 675,-127.73 675,-119.54\"/>\n",
       "<polygon fill=\"black\" stroke=\"black\" points=\"678.5,-119.62 675,-109.62 671.5,-119.62 678.5,-119.62\"/>\n",
       "</g>\n",
       "<!-- 25 -->\n",
       "<g id=\"node26\" class=\"node\">\n",
       "<title>25</title>\n",
       "<ellipse fill=\"none\" stroke=\"black\" cx=\"747\" cy=\"-90\" rx=\"27\" ry=\"18\"/>\n",
       "<text text-anchor=\"middle\" x=\"747\" y=\"-84.95\" font-family=\"Times,serif\" font-size=\"14.00\">+</text>\n",
       "</g>\n",
       "<!-- 23&#45;&gt;25 -->\n",
       "<g id=\"edge25\" class=\"edge\">\n",
       "<title>23&#45;&gt;25</title>\n",
       "<path fill=\"none\" stroke=\"black\" d=\"M689.92,-146.5C699.77,-136.92 712.86,-124.19 724.03,-113.34\"/>\n",
       "<polygon fill=\"black\" stroke=\"black\" points=\"726.29,-116.02 731.02,-106.54 721.41,-111 726.29,-116.02\"/>\n",
       "</g>\n",
       "<!-- 26 -->\n",
       "<g id=\"node27\" class=\"node\">\n",
       "<title>26</title>\n",
       "<ellipse fill=\"none\" stroke=\"black\" cx=\"729\" cy=\"-18\" rx=\"27\" ry=\"18\"/>\n",
       "<text text-anchor=\"middle\" x=\"729\" y=\"-12.95\" font-family=\"Times,serif\" font-size=\"14.00\">s</text>\n",
       "</g>\n",
       "<!-- 25&#45;&gt;26 -->\n",
       "<g id=\"edge26\" class=\"edge\">\n",
       "<title>25&#45;&gt;26</title>\n",
       "<path fill=\"none\" stroke=\"black\" d=\"M742.64,-72.05C740.7,-64.49 738.35,-55.37 736.16,-46.85\"/>\n",
       "<polygon fill=\"black\" stroke=\"black\" points=\"739.57,-46.07 733.69,-37.25 732.79,-47.81 739.57,-46.07\"/>\n",
       "</g>\n",
       "<!-- 27 -->\n",
       "<g id=\"node28\" class=\"node\">\n",
       "<title>27</title>\n",
       "<ellipse fill=\"none\" stroke=\"black\" cx=\"801\" cy=\"-18\" rx=\"27\" ry=\"18\"/>\n",
       "<text text-anchor=\"middle\" x=\"801\" y=\"-12.95\" font-family=\"Times,serif\" font-size=\"14.00\">i</text>\n",
       "</g>\n",
       "<!-- 25&#45;&gt;27 -->\n",
       "<g id=\"edge27\" class=\"edge\">\n",
       "<title>25&#45;&gt;27</title>\n",
       "<path fill=\"none\" stroke=\"black\" d=\"M758.98,-73.46C765.77,-64.67 774.4,-53.48 782.08,-43.53\"/>\n",
       "<polygon fill=\"black\" stroke=\"black\" points=\"784.79,-45.75 788.12,-35.69 779.25,-41.47 784.79,-45.75\"/>\n",
       "</g>\n",
       "<!-- 29 -->\n",
       "<g id=\"node30\" class=\"node\">\n",
       "<title>29</title>\n",
       "<ellipse fill=\"none\" stroke=\"black\" cx=\"604\" cy=\"-234\" rx=\"28.32\" ry=\"18\"/>\n",
       "<text text-anchor=\"middle\" x=\"604\" y=\"-228.95\" font-family=\"Times,serif\" font-size=\"14.00\">print</text>\n",
       "</g>\n",
       "<!-- 28&#45;&gt;29 -->\n",
       "<g id=\"edge29\" class=\"edge\">\n",
       "<title>28&#45;&gt;29</title>\n",
       "<path fill=\"none\" stroke=\"black\" d=\"M604,-287.7C604,-280.41 604,-271.73 604,-263.54\"/>\n",
       "<polygon fill=\"black\" stroke=\"black\" points=\"607.5,-263.62 604,-253.62 600.5,-263.62 607.5,-263.62\"/>\n",
       "</g>\n",
       "<!-- 30 -->\n",
       "<g id=\"node31\" class=\"node\">\n",
       "<title>30</title>\n",
       "<ellipse fill=\"none\" stroke=\"black\" cx=\"677\" cy=\"-234\" rx=\"27\" ry=\"18\"/>\n",
       "<text text-anchor=\"middle\" x=\"677\" y=\"-228.95\" font-family=\"Times,serif\" font-size=\"14.00\">s</text>\n",
       "</g>\n",
       "<!-- 28&#45;&gt;30 -->\n",
       "<g id=\"edge30\" class=\"edge\">\n",
       "<title>28&#45;&gt;30</title>\n",
       "<path fill=\"none\" stroke=\"black\" d=\"M618.77,-290.83C628.8,-281.22 642.26,-268.31 653.72,-257.32\"/>\n",
       "<polygon fill=\"black\" stroke=\"black\" points=\"656.11,-259.88 660.91,-250.43 651.27,-254.83 656.11,-259.88\"/>\n",
       "</g>\n",
       "</g>\n",
       "</svg>\n"
      ],
      "text/plain": [
       "<graphviz.graphs.Digraph at 0x11fa8ade0>"
      ]
     },
     "execution_count": 33,
     "metadata": {},
     "output_type": "execute_result"
    }
   ],
   "source": [
    "parse('sum.sl')"
   ]
  },
  {
   "cell_type": "code",
   "execution_count": 34,
   "metadata": {},
   "outputs": [],
   "source": [
    "from typing import TypeVar\n",
    "NestedTuple = TypeVar('NestedTuple')\n",
    "NestedTuple = int | str | tuple[NestedTuple, ...]\n",
    "Number      = int | float"
   ]
  },
  {
   "cell_type": "markdown",
   "metadata": {},
   "source": [
    "We need some forward declarations."
   ]
  },
  {
   "cell_type": "code",
   "execution_count": 35,
   "metadata": {},
   "outputs": [],
   "source": [
    "def execute(stmnt: NestedTuple, Values: dict[str, Number]) -> None:\n",
    "    return None"
   ]
  },
  {
   "cell_type": "code",
   "execution_count": 36,
   "metadata": {},
   "outputs": [],
   "source": [
    "def evaluate(expr: NestedTuple, Values: dict[str, Number]) -> Number:\n",
    "    return None # type: ignore"
   ]
  },
  {
   "cell_type": "code",
   "execution_count": 37,
   "metadata": {},
   "outputs": [],
   "source": [
    "def evaluate_bool(expr: NestedTuple, Values: dict[str, Number]) -> bool:\n",
    "    return None # type: ignore"
   ]
  },
  {
   "cell_type": "markdown",
   "metadata": {},
   "source": [
    "The function `execute_tuple` takes two arguments:\n",
    "- `Statement_List` is a list of statements,\n",
    "- `Values` is a dictionary assigning integer values to variable names.\n",
    "\n",
    "The function executes the statements in `Statement_List`.  If an assignment statement is executed,\n",
    "the dictionary `Values` is updated."
   ]
  },
  {
   "cell_type": "code",
   "execution_count": 38,
   "metadata": {},
   "outputs": [],
   "source": [
    "def execute_tuple(Statement_List: tuple[NestedTuple, ...], Values: dict[str, Number]={}) -> None:\n",
    "    for stmnt in Statement_List:\n",
    "        execute(stmnt, Values)"
   ]
  },
  {
   "cell_type": "markdown",
   "metadata": {},
   "source": [
    "The function `execute` takes two arguments:\n",
    "- `stmnt` is a statement,\n",
    "- `Values` is a dictionary assigning values to variable names.\n",
    "\n",
    "The function executes the statements in `Statement_List`.  If an assignment statement is executed,\n",
    "the dictionary `Values` is updated."
   ]
  },
  {
   "cell_type": "code",
   "execution_count": 39,
   "metadata": {},
   "outputs": [],
   "source": [
    "def execute(stmnt: NestedTuple, Values: dict[str, Number]) -> None:\n",
    "    match stmnt:\n",
    "        case ('.', *SL):\n",
    "            execute_tuple(tuple(SL), Values)\n",
    "        case (':=', var, value):\n",
    "            Values[var] = evaluate(value, Values)\n",
    "        case ('call', 'print', expr):\n",
    "            print(evaluate(expr, Values))\n",
    "        case ('if', test, stmnt):\n",
    "            if evaluate_bool(test, Values):\n",
    "                execute(stmnt, Values)\n",
    "        case ('while', test, stmnt):\n",
    "            while evaluate_bool(test, Values):\n",
    "                execute(stmnt, Values)\n",
    "        case _:\n",
    "            assert False, f'{stmnt} unexpected'"
   ]
  },
  {
   "cell_type": "markdown",
   "metadata": {},
   "source": [
    "The function `evaluate_bool` takes two arguments:\n",
    "- `expr` is a boolean expression expression,\n",
    "- `Values` is a dictionary assigning integer values to variable names.\n",
    "\n",
    "The function evaluates the given expression and returns this value."
   ]
  },
  {
   "cell_type": "code",
   "execution_count": 40,
   "metadata": {},
   "outputs": [],
   "source": [
    "def evaluate_bool(expr: NestedTuple, Values: dict[str, Number]) -> bool:\n",
    "    match expr:\n",
    "        case ('==', lhs, rhs):\n",
    "            return evaluate(lhs, Values) == evaluate(rhs, Values)\n",
    "        case ('!=', lhs, rhs):\n",
    "            return evaluate(lhs, Values) != evaluate(rhs, Values)\n",
    "        case ('<=', lhs, rhs):\n",
    "            return evaluate(lhs, Values) <= evaluate(rhs, Values)\n",
    "        case ('>=', lhs, rhs):\n",
    "            return evaluate(lhs, Values) >= evaluate(rhs, Values)\n",
    "        case ('<', lhs, rhs):\n",
    "            return evaluate(lhs, Values) <  evaluate(rhs, Values)\n",
    "        case ('>', lhs, rhs):\n",
    "            return evaluate(lhs, Values) >  evaluate(rhs, Values)\n",
    "        case _:\n",
    "            assert False, f'{expr} unexpected'"
   ]
  },
  {
   "cell_type": "markdown",
   "metadata": {},
   "source": [
    "The function `evaluate` takes two arguments:\n",
    "- `expr` is a logical expression or an arithmetic expression,\n",
    "- `Values` is a dictionary assigning integer values to variable names.\n",
    "\n",
    "The function evaluates the given expression and returns this value."
   ]
  },
  {
   "cell_type": "code",
   "execution_count": 41,
   "metadata": {},
   "outputs": [],
   "source": [
    "def evaluate(expr: NestedTuple, Values: dict[str, Number]) -> Number:\n",
    "    match expr:\n",
    "        case int():\n",
    "            return expr\n",
    "        case str():\n",
    "            return Values[expr] \n",
    "        case ('call', 'read'):\n",
    "            return int(input('Please enter a natural number: '))\n",
    "        case ('+', lhs, rhs):\n",
    "            return evaluate(lhs, Values) + evaluate(rhs, Values)\n",
    "        case ('-', lhs, rhs):\n",
    "            return evaluate(lhs, Values) - evaluate(rhs, Values)\n",
    "        case ('*', lhs, rhs):\n",
    "            return evaluate(lhs, Values) * evaluate(rhs, Values)\n",
    "        case ('/', lhs, rhs):\n",
    "            return evaluate(lhs, Values) / evaluate(rhs, Values)\n",
    "        case ('%', lhs, rhs):\n",
    "            return evaluate(lhs, Values) % evaluate(rhs, Values)\n",
    "        case _:\n",
    "            assert False, f'{expr} unexpected'"
   ]
  },
  {
   "cell_type": "code",
   "execution_count": 42,
   "metadata": {},
   "outputs": [
    {
     "name": "stdout",
     "output_type": "stream",
     "text": [
      "n := read();\n",
      "s := 0;\n",
      "i := 0;\n",
      "while (i < n * n) {\n",
      "    i := i + 1;\n",
      "    s := s + i;\n",
      "}\n",
      "print(s);\n"
     ]
    }
   ],
   "source": [
    "!cat sum.sl"
   ]
  },
  {
   "cell_type": "code",
   "execution_count": 45,
   "metadata": {},
   "outputs": [],
   "source": [
    "def main(file):\n",
    "    with open(file, 'r') as handle:\n",
    "        program = handle.read() \n",
    "    stmnt = yacc.parse(program)\n",
    "    print(stmnt)\n",
    "    Values = {}\n",
    "    execute(stmnt, Values)"
   ]
  },
  {
   "cell_type": "code",
   "execution_count": 46,
   "metadata": {},
   "outputs": [
    {
     "name": "stdout",
     "output_type": "stream",
     "text": [
      "('.', (':=', 'n', ('call', 'read')), (':=', 's', 0), (':=', 'i', 0), ('while', ('<', 'i', ('*', 'n', 'n')), ('.', (':=', 'i', ('+', 'i', 1)), (':=', 's', ('+', 's', 'i')))), ('call', 'print', 's'))\n"
     ]
    },
    {
     "name": "stdin",
     "output_type": "stream",
     "text": [
      "Please enter a natural number:  6\n"
     ]
    },
    {
     "name": "stdout",
     "output_type": "stream",
     "text": [
      "666\n"
     ]
    }
   ],
   "source": [
    "main('sum.sl')"
   ]
  },
  {
   "cell_type": "code",
   "execution_count": 47,
   "metadata": {},
   "outputs": [
    {
     "name": "stdout",
     "output_type": "stream",
     "text": [
      "f := 1;\n",
      "i := 0;\n",
      "n := read();\n",
      "while (i < n) {\n",
      "    i := i + 1;\n",
      "    f := i * f;\n",
      "}\n",
      "print(f);\n",
      "\n"
     ]
    }
   ],
   "source": [
    "!cat factorial.sl"
   ]
  },
  {
   "cell_type": "code",
   "execution_count": 48,
   "metadata": {},
   "outputs": [
    {
     "name": "stdout",
     "output_type": "stream",
     "text": [
      "('.', (':=', 'f', 1), (':=', 'i', 0), (':=', 'n', ('call', 'read')), ('while', ('<', 'i', 'n'), ('.', (':=', 'i', ('+', 'i', 1)), (':=', 'f', ('*', 'i', 'f')))), ('call', 'print', 'f'))\n"
     ]
    },
    {
     "name": "stdin",
     "output_type": "stream",
     "text": [
      "Please enter a natural number:  7\n"
     ]
    },
    {
     "name": "stdout",
     "output_type": "stream",
     "text": [
      "5040\n"
     ]
    }
   ],
   "source": [
    "main('factorial.sl')"
   ]
  },
  {
   "cell_type": "code",
   "execution_count": null,
   "metadata": {},
   "outputs": [],
   "source": []
  }
 ],
 "metadata": {
  "kernelspec": {
   "display_name": "Python 3 (ipykernel)",
   "language": "python",
   "name": "python3"
  },
  "language_info": {
   "codemirror_mode": {
    "name": "ipython",
    "version": 3
   },
   "file_extension": ".py",
   "mimetype": "text/x-python",
   "name": "python",
   "nbconvert_exporter": "python",
   "pygments_lexer": "ipython3",
   "version": "3.12.6"
  },
  "varInspector": {
   "cols": {
    "lenName": 16,
    "lenType": 16,
    "lenVar": 40
   },
   "kernels_config": {
    "python": {
     "delete_cmd_postfix": "",
     "delete_cmd_prefix": "del ",
     "library": "var_list.py",
     "varRefreshCmd": "print(var_dic_list())"
    },
    "r": {
     "delete_cmd_postfix": ") ",
     "delete_cmd_prefix": "rm(",
     "library": "var_list.r",
     "varRefreshCmd": "cat(var_dic_list()) "
    }
   },
   "types_to_exclude": [
    "module",
    "function",
    "builtin_function_or_method",
    "instance",
    "_Feature"
   ],
   "window_display": false
  }
 },
 "nbformat": 4,
 "nbformat_minor": 4
}
