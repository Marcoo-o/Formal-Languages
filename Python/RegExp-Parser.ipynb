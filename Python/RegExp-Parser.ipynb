{
 "cells": [
  {
   "cell_type": "code",
   "execution_count": null,
   "metadata": {},
   "outputs": [],
   "source": [
    "from IPython.core.display import HTML\n",
    "with open('../style.css', 'r') as file:\n",
    "    css = file.read()\n",
    "HTML(css)"
   ]
  },
  {
   "cell_type": "markdown",
   "metadata": {},
   "source": [
    "The following cells loads the `mypy` extension for notebooks.  This enables us to check the type annotation of cells."
   ]
  },
  {
   "cell_type": "code",
   "execution_count": null,
   "metadata": {},
   "outputs": [],
   "source": [
    "%load_ext nb_mypy"
   ]
  },
  {
   "cell_type": "markdown",
   "metadata": {},
   "source": [
    "# A Parser for Regular Expression"
   ]
  },
  {
   "cell_type": "markdown",
   "metadata": {},
   "source": [
    "This notebook implements a parser for regular expressions. The parser that is implemented in the function `parseExpr` parses a regular expression \n",
    "according to the following <em style=\"color:blue\">EBNF grammar</em>.\n",
    "```\n",
    "   regExp  -> product ('+' product)*\n",
    "   product -> factor factor*\n",
    "   factor  -> atom '*'?\n",
    "   atom    -> '(' expr ')' | CHAR | '\"\"' | '0'\n",
    "```\n",
    "The parse tree is represented as a nested tuple.\n",
    "- characters are represented by themselves,\n",
    "- `'0'` is interpreted as $\\emptyset$ and is represented as `0`,\n",
    "- `\"\"` is interpreted as the regular expression $\\varepsilon$ and represented as `''`,\n",
    "- $r_1 \\cdot r_2$ is represented as `('cat', 'a', 'b')`, \n",
    "- $r_1 + r_2$ is represented as `('or', `$r_1, r_2$ `)`,\n",
    "- $r^*$ is represented as `(star, r)` .\n",
    "\n",
    "The parser is implemented as a recursive *top-down* parser."
   ]
  },
  {
   "cell_type": "code",
   "execution_count": null,
   "metadata": {},
   "outputs": [],
   "source": [
    "from typing import List, Union, Tuple, TypeVar, Match"
   ]
  },
  {
   "cell_type": "markdown",
   "metadata": {},
   "source": [
    "We start with a definition of the type of the parse trees that are generated.  A parse tree is either\n",
    "* an integer,\n",
    "* a string,\n",
    "* a tuple of parse trees."
   ]
  },
  {
   "cell_type": "code",
   "execution_count": null,
   "metadata": {},
   "outputs": [],
   "source": [
    "ParseTree = TypeVar('ParseTree')\n",
    "\n",
    "# The type definition for the recursive tuple\n",
    "ParseTree = Union[int, str, Tuple[ParseTree, ...]]"
   ]
  },
  {
   "cell_type": "markdown",
   "metadata": {},
   "source": [
    "In order to tokenize strings, we need regular expressions from the module `re`."
   ]
  },
  {
   "cell_type": "code",
   "execution_count": null,
   "metadata": {},
   "outputs": [],
   "source": [
    "import re"
   ]
  },
  {
   "cell_type": "markdown",
   "metadata": {},
   "source": [
    "The function $\\texttt{isWhiteSpace}(s)$ checks whether the string $s$ contains only blanks and tabulators.\n",
    "If this is the case, it returns a `Match` object.  Otherwise, `None` is returned."
   ]
  },
  {
   "cell_type": "code",
   "execution_count": null,
   "metadata": {},
   "outputs": [],
   "source": [
    "def isWhiteSpace(s: str) -> Match[str] | None:\n",
    "    whitespace = re.compile(r'[ \\t]+')\n",
    "    return whitespace.fullmatch(s)"
   ]
  },
  {
   "cell_type": "markdown",
   "metadata": {},
   "source": [
    "The function `tokenize(s)` partitions the string `s` into a list of tokens.\n",
    "It recognizes \n",
    "- the operator symbols `+` and `*`, \n",
    "- the parentheses `(`, `)`, \n",
    "- single upper or lower case letters, \n",
    "- `0`, \n",
    "- the empty string `\"\"`.\n",
    "\n",
    "All whitespace characters are discarded."
   ]
  },
  {
   "cell_type": "code",
   "execution_count": null,
   "metadata": {},
   "outputs": [],
   "source": [
    "def tokenize(s: str) -> List[str]:\n",
    "    regExp = r'''\n",
    "              [+*()]   |  # operators and parentheses\n",
    "              [ \\t\\n]  |  # white space\n",
    "              [a-zA-Z] |  # single characters from the alphabet\n",
    "              0        |  # empty regular expression\n",
    "              \"\"          # epsilon\n",
    "              '''\n",
    "    return [t for t in re.findall(regExp, s, flags=re.VERBOSE) if not isWhiteSpace(t)]"
   ]
  },
  {
   "cell_type": "markdown",
   "metadata": {},
   "source": [
    "Below we have defined forward declarations of some functions that are mutually recursive. "
   ]
  },
  {
   "cell_type": "code",
   "execution_count": null,
   "metadata": {},
   "outputs": [],
   "source": [
    "def parseRegExp(TokenList: List[str]) -> Tuple[ParseTree, List[str]]: \n",
    "    return None # type: ignore\n",
    "\n",
    "def parseProduct(TokenList: List[str]) -> Tuple[ParseTree, List[str]]: \n",
    "    return None # type: ignore\n",
    "\n",
    "def parseFactor(TokenList: List[str]) -> Tuple[ParseTree, List[str]]: \n",
    "    return None # type: ignore\n",
    "\n",
    "def parseAtom(TokenList: List[str]) -> Tuple[Union[str, int, ParseTree], List[str]]:\n",
    "    return None # type: ignore"
   ]
  },
  {
   "cell_type": "markdown",
   "metadata": {},
   "source": [
    "The function `parse` takes a string `s` and tries to parse it as a regular expression.  \n",
    "The parse tree is returned as a nested tuple."
   ]
  },
  {
   "cell_type": "code",
   "execution_count": null,
   "metadata": {},
   "outputs": [],
   "source": [
    "def parse(s: str) -> ParseTree:\n",
    "     TokenList = tokenize(s)\n",
    "     regExp, Rest = parseRegExp(TokenList)\n",
    "     assert Rest == [], f'Parse Error: could not parse {TokenList}'\n",
    "     return regExp"
   ]
  },
  {
   "cell_type": "markdown",
   "metadata": {},
   "source": [
    "The function `parseRegExp` takes a token list `TokenList` and tries to interpret this list\n",
    "as a regular expression.  It returns the regular expression in the form of a nested tuple and\n",
    "a list of those tokens that could not be parsed.  It is implemented as a <em style=\"color:blue\">top-down-parser.</em>\n",
    "The function `parseRegExp` implements the following grammar rule:\n",
    "```\n",
    "regExp  -> product ('+' product)*\n",
    "```"
   ]
  },
  {
   "cell_type": "code",
   "execution_count": null,
   "metadata": {},
   "outputs": [],
   "source": [
    "def parseRegExp(TokenList: List[str]) -> Tuple[ParseTree, List[str]]:\n",
    "    result, Rest = parseProduct(TokenList)\n",
    "    while len(Rest) > 1 and Rest[0] == '+':\n",
    "        arg, Rest = parseProduct(Rest[1:])\n",
    "        result = ('or', result, arg)\n",
    "    return result, Rest"
   ]
  },
  {
   "cell_type": "markdown",
   "metadata": {},
   "source": [
    "The function `parseProduct` implements the following grammar rule:\n",
    "```\n",
    "product -> factor factor*\n",
    "```"
   ]
  },
  {
   "cell_type": "code",
   "execution_count": null,
   "metadata": {},
   "outputs": [],
   "source": [
    "def parseProduct(TokenList: List[str]) -> Tuple[ParseTree, List[str]]:\n",
    "    result, Rest = parseFactor(TokenList)\n",
    "    while len(Rest) > 0 and not (Rest[0] in [\"+\", \"*\", \")\"]):\n",
    "        arg, Rest = parseFactor(Rest)\n",
    "        result = ('cat', result, arg)\n",
    "    return result, Rest"
   ]
  },
  {
   "cell_type": "markdown",
   "metadata": {},
   "source": [
    "The function `parseFactor` implements the following grammar rule:\n",
    "```\n",
    "factor  -> atom '*'?\n",
    "```"
   ]
  },
  {
   "cell_type": "code",
   "execution_count": null,
   "metadata": {},
   "outputs": [],
   "source": [
    "def parseFactor(TokenList: List[str]) -> Tuple[ParseTree, List[str]]:\n",
    "    atom, Rest = parseAtom(TokenList)\n",
    "    if len(Rest) > 0 and Rest[0] == \"*\":\n",
    "        return ('star', atom), Rest[1:]\n",
    "    return atom, Rest"
   ]
  },
  {
   "cell_type": "markdown",
   "metadata": {},
   "source": [
    "The function `parseAtom` implements the following grammar rule:\n",
    "```\n",
    "atom    -> '0'\n",
    "         | '(' expr ')' \n",
    "         | '\"\"' \n",
    "         | CHAR \n",
    "```"
   ]
  },
  {
   "cell_type": "code",
   "execution_count": null,
   "metadata": {},
   "outputs": [],
   "source": [
    "def parseAtom(TokenList: List[str]) -> Tuple[Union[str, int, ParseTree], List[str]]:\n",
    "    if TokenList[0] == '0':\n",
    "        return 0, TokenList[1:]\n",
    "    if TokenList[0] == '(':\n",
    "        regExp, Rest = parseRegExp(TokenList[1:])\n",
    "        assert Rest[0] == \")\", \"Parse Error\"\n",
    "        return regExp, Rest[1:]\n",
    "    if TokenList[0] == '\"\"':\n",
    "        return '', TokenList[1:]\n",
    "    s = TokenList[0]\n",
    "    assert len(s) <= 1, f'parse error: {TokenList}'\n",
    "    return s, TokenList[1:]"
   ]
  },
  {
   "cell_type": "code",
   "execution_count": null,
   "metadata": {},
   "outputs": [],
   "source": [
    "parse('a*b + ba* + 0')"
   ]
  },
  {
   "cell_type": "code",
   "execution_count": null,
   "metadata": {},
   "outputs": [],
   "source": []
  }
 ],
 "metadata": {
  "kernelspec": {
   "display_name": "Python 3 (ipykernel)",
   "language": "python",
   "name": "python3"
  },
  "language_info": {
   "codemirror_mode": {
    "name": "ipython",
    "version": 3
   },
   "file_extension": ".py",
   "mimetype": "text/x-python",
   "name": "python",
   "nbconvert_exporter": "python",
   "pygments_lexer": "ipython3",
   "version": "3.11.5"
  },
  "varInspector": {
   "cols": {
    "lenName": 16,
    "lenType": 16,
    "lenVar": 40
   },
   "kernels_config": {
    "python": {
     "delete_cmd_postfix": "",
     "delete_cmd_prefix": "del ",
     "library": "var_list.py",
     "varRefreshCmd": "print(var_dic_list())"
    },
    "r": {
     "delete_cmd_postfix": ") ",
     "delete_cmd_prefix": "rm(",
     "library": "var_list.r",
     "varRefreshCmd": "cat(var_dic_list()) "
    }
   },
   "types_to_exclude": [
    "module",
    "function",
    "builtin_function_or_method",
    "instance",
    "_Feature"
   ],
   "window_display": false
  }
 },
 "nbformat": 4,
 "nbformat_minor": 4
}
