{
 "cells": [
  {
   "cell_type": "markdown",
   "metadata": {},
   "source": [
    "The parser implemented in the function parseExpr parses an arithmetic \n",
    "expression according to the following EBNF grammar.\n",
    "```\n",
    "   regExp  -> product (\"+\" product)*\n",
    "   product -> factor factor*\n",
    "   factor  -> atom \"*\"?\n",
    "   atom    -> \"(\" expr \")\" | CHAR | \"\" | 0\n",
    "```"
   ]
  },
  {
   "cell_type": "code",
   "execution_count": 1,
   "metadata": {},
   "outputs": [],
   "source": [
    "import re"
   ]
  },
  {
   "cell_type": "markdown",
   "metadata": {},
   "source": [
    "The function $\\texttt{isWhiteSpace}(s)$ checks whether $s$ contains only blanks and tabulators."
   ]
  },
  {
   "cell_type": "code",
   "execution_count": 2,
   "metadata": {},
   "outputs": [],
   "source": [
    "def isWhiteSpace(s):\n",
    "    whitespace = re.compile(r'[ \\t]+')\n",
    "    return whitespace.fullmatch(s)"
   ]
  },
  {
   "cell_type": "markdown",
   "metadata": {},
   "source": [
    "The function `tokenize(s)` partitions the string `s` into a list of tokens.\n",
    "It recognizes the operator symbols \"+\", \"*\", the parentheses \"(\", \")\", characters, `0`, the empty string `\"\"`\n",
    "and skips whitespace."
   ]
  },
  {
   "cell_type": "code",
   "execution_count": 3,
   "metadata": {},
   "outputs": [],
   "source": [
    "def tokenize(s):\n",
    "    regExp = r'''\n",
    "              [+*()]   |  # operators and parentheses\n",
    "              [ \\t\\n]  |  # white space\n",
    "              [a-zA-Z] |  # characters\n",
    "              0        |  # empty regular expression\n",
    "              \"\"          # epsilon\n",
    "              '''\n",
    "    return [t for t in re.findall(regExp, s, flags=re.VERBOSE) if not isWhiteSpace(t)]"
   ]
  },
  {
   "cell_type": "code",
   "execution_count": 4,
   "metadata": {},
   "outputs": [],
   "source": [
    "def parse(s):\n",
    "     TokenList = tokenize(s)\n",
    "     regExp, Rest = parseRegExp(TokenList)\n",
    "     assert Rest == [], f'Parse Error: could not parse {TokenList}'\n",
    "     return regExp"
   ]
  },
  {
   "cell_type": "markdown",
   "metadata": {},
   "source": [
    "The function `parseRegExp` takes a token list `TokenList` and tries to interpret this list\n",
    "as a regular expression.  It returns the regular expression in the form of a nested tuple and\n",
    "a list of those tokens that could not be parsed."
   ]
  },
  {
   "cell_type": "code",
   "execution_count": 5,
   "metadata": {},
   "outputs": [],
   "source": [
    "def parseRegExp(TokenList):\n",
    "    result, Rest = parseProduct(TokenList)\n",
    "    while len(Rest) > 1 and Rest[0] == '+':\n",
    "        arg, Rest = parseProduct(Rest[1:])\n",
    "        result = ('or', result, arg)\n",
    "    return result, Rest"
   ]
  },
  {
   "cell_type": "code",
   "execution_count": 6,
   "metadata": {},
   "outputs": [],
   "source": [
    "def parseProduct(TokenList):\n",
    "    result, Rest = parseFactor(TokenList)\n",
    "    while len(Rest) > 0 and not (Rest[0] in [\"+\", \"*\", \")\"]):\n",
    "        arg, Rest = parseFactor(Rest)\n",
    "        result = ('cat', result, arg)\n",
    "    return result, Rest"
   ]
  },
  {
   "cell_type": "code",
   "execution_count": 7,
   "metadata": {},
   "outputs": [],
   "source": [
    "def parseFactor(TokenList):\n",
    "    atom, Rest = parseAtom(TokenList)\n",
    "    if len(Rest) > 0 and Rest[0] == \"*\":\n",
    "        return ('star', atom), Rest[1:]\n",
    "    return atom, Rest"
   ]
  },
  {
   "cell_type": "code",
   "execution_count": 8,
   "metadata": {},
   "outputs": [],
   "source": [
    "def parseAtom(TokenList):\n",
    "    if TokenList[0] == '0':\n",
    "        return 0, TokenList[1:]\n",
    "    if TokenList[0] == '(':\n",
    "        regExp, Rest = parseRegExp(TokenList[1:])\n",
    "        assert Rest[0] == \")\", \"Parse Error\"\n",
    "        return regExp, Rest[1:]\n",
    "    if TokenList[0] == '\"\"':\n",
    "        return '', TokenList[1:]\n",
    "    s = TokenList[0]\n",
    "    assert len(s) <= 1, f'parse error: {TokenList}'\n",
    "    return s, TokenList[1:]"
   ]
  },
  {
   "cell_type": "code",
   "execution_count": null,
   "metadata": {},
   "outputs": [],
   "source": []
  }
 ],
 "metadata": {
  "kernelspec": {
   "display_name": "Python 3",
   "language": "python",
   "name": "python3"
  },
  "language_info": {
   "codemirror_mode": {
    "name": "ipython",
    "version": 3
   },
   "file_extension": ".py",
   "mimetype": "text/x-python",
   "name": "python",
   "nbconvert_exporter": "python",
   "pygments_lexer": "ipython3",
   "version": "3.8.3"
  },
  "varInspector": {
   "cols": {
    "lenName": 16,
    "lenType": 16,
    "lenVar": 40
   },
   "kernels_config": {
    "python": {
     "delete_cmd_postfix": "",
     "delete_cmd_prefix": "del ",
     "library": "var_list.py",
     "varRefreshCmd": "print(var_dic_list())"
    },
    "r": {
     "delete_cmd_postfix": ") ",
     "delete_cmd_prefix": "rm(",
     "library": "var_list.r",
     "varRefreshCmd": "cat(var_dic_list()) "
    }
   },
   "types_to_exclude": [
    "module",
    "function",
    "builtin_function_or_method",
    "instance",
    "_Feature"
   ],
   "window_display": false
  }
 },
 "nbformat": 4,
 "nbformat_minor": 4
}
