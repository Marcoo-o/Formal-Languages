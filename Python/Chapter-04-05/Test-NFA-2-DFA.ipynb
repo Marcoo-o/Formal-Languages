{
 "cells": [
  {
   "cell_type": "code",
   "execution_count": 1,
   "metadata": {},
   "outputs": [
    {
     "data": {
      "text/html": [
       "<link href='http://fonts.googleapis.com/css?family=Alegreya+Sans:100,300,400,500,700,800,900,100italic,300italic,400italic,500italic,700italic,800italic,900italic' rel='stylesheet' type='text/css'>\n",
       "<link href='http://fonts.googleapis.com/css?family=Arvo:400,700,400italic' rel='stylesheet' type='text/css'>\n",
       "<link href='http://fonts.googleapis.com/css?family=PT+Mono' rel='stylesheet' type='text/css'>\n",
       "<link href='http://fonts.googleapis.com/css?family=Shadows+Into+Light' rel='stylesheet' type='text/css'>\n",
       "<link href='http://fonts.googleapis.com/css?family=Philosopher:400,700,400italic,700italic' rel='stylesheet' type='text/css'>\n",
       "\n",
       "<style>\n",
       "\n",
       "@font-face {\n",
       "    font-family: \"Computer Modern\";\n",
       "    src: url('http://mirrors.ctan.org/fonts/cm-unicode/fonts/otf/cmunss.otf');\n",
       "}\n",
       "\n",
       ".container { width: 100% }\n",
       "\n",
       "/* Formatting for header cells */\n",
       ".text_cell_render h1 {\n",
       "    font-family: 'Philosopher', sans-serif;\n",
       "    font-weight: 400;\n",
       "    font-size: 2.2em;\n",
       "    line-height: 100%;\n",
       "    color: rgb(0, 80, 120);\n",
       "    margin-bottom: 0.1em;\n",
       "    margin-top: 0.1em;\n",
       "    display: block;\n",
       "}\t\n",
       ".text_cell_render h2 {\n",
       "    font-family: 'Philosopher', serif;\n",
       "    font-weight: 400;\n",
       "    font-size: 1.9em;\n",
       "    line-height: 100%;\n",
       "    color: rgb(200,100,0);\n",
       "    margin-bottom: 0.1em;\n",
       "    margin-top: 0.1em;\n",
       "    display: block;\n",
       "}\t\n",
       "\n",
       ".text_cell_render h3 {\n",
       "    font-family: 'Philosopher', serif;\n",
       "    margin-top:12px;\n",
       "    margin-bottom: 3px;\n",
       "    font-style: italic;\n",
       "    color: rgb(94,127,192);\n",
       "}\n",
       "\n",
       ".text_cell_render h4 {\n",
       "    font-family: 'Philosopher', serif;\n",
       "}\n",
       "\n",
       ".text_cell_render h5 {\n",
       "    font-family: 'Alegreya Sans', sans-serif;\n",
       "    font-weight: 300;\n",
       "    font-size: 16pt;\n",
       "    color: grey;\n",
       "    font-style: italic;\n",
       "    margin-bottom: .1em;\n",
       "    margin-top: 0.1em;\n",
       "    display: block;\n",
       "}\n",
       "\n",
       ".text_cell_render h6 {\n",
       "    font-family: 'PT Mono', sans-serif;\n",
       "    font-weight: 300;\n",
       "    font-size: 10pt;\n",
       "    color: grey;\n",
       "    margin-bottom: 1px;\n",
       "    margin-top: 1px;\n",
       "}\n",
       "\n",
       ".text_cell_render em {\n",
       "    font-family: 'Philosopher', sans-serif;\n",
       "    color:        blue;\n",
       "    background-color: rgb(255,220,180);\n",
       "    font-size:    110%;\n",
       "    margin-left:   2px;\n",
       "    margin-right:  2px;\n",
       "    font-weight:   100;\n",
       "}\n",
       "\n",
       ".text_cell_render b {\n",
       "    color:            rgb(255,195,195);\n",
       "    background-color: rgb(0,0,0);\n",
       "    font-size:    110%;\n",
       "    margin-left:   2px;\n",
       "    margin-right:  2px;\n",
       "    font-weight:   650;\n",
       "}\n",
       "\n",
       ".text_cell_render tt {\n",
       "    font-size:    120%;\n",
       "    margin-left:   2px;\n",
       "    margin-right:  2px;\n",
       "    font-weight:   150;\n",
       "}\n",
       "\n",
       ".CodeMirror{\n",
       "        font-family: \"PT Mono\";\n",
       "        font-size: 100%;\n",
       "}\n",
       "\n",
       "</style>\n",
       "\n"
      ],
      "text/plain": [
       "<IPython.core.display.HTML object>"
      ]
     },
     "execution_count": 1,
     "metadata": {},
     "output_type": "execute_result"
    }
   ],
   "source": [
    "from IPython.core.display import HTML\n",
    "with open('../style.css', 'r') as file:\n",
    "    css = file.read()\n",
    "HTML(css)"
   ]
  },
  {
   "cell_type": "markdown",
   "metadata": {},
   "source": [
    "This notebook is used to test the conversion of non-deterministic <span style=\"font-variant:small-caps;\">Fsm</span>s into deterministic <span style=\"font-variant:small-caps;\">Fsm</span>s."
   ]
  },
  {
   "cell_type": "code",
   "execution_count": 2,
   "metadata": {},
   "outputs": [
    {
     "name": "stderr",
     "output_type": "stream",
     "text": [
      "Version 1.0.5\n"
     ]
    }
   ],
   "source": [
    "%run NFA-2-DFA.ipynb"
   ]
  },
  {
   "cell_type": "markdown",
   "metadata": {},
   "source": [
    "Unfortunately, the `%run` magic does not work with the `mypy`extension for notebooks.  \n",
    "Hence we have to switch it off."
   ]
  },
  {
   "cell_type": "code",
   "execution_count": 3,
   "metadata": {},
   "outputs": [],
   "source": [
    "%nb_mypy Off"
   ]
  },
  {
   "cell_type": "markdown",
   "metadata": {},
   "source": [
    "In order to represent the <span style=\"font-variant:small-caps;\">Fsm</span>s graphically, we use the notebook `FSM-2-Dot.ipynb`.  This notebook uses the package `graphviz`, wich can be installed by the following commands."
   ]
  },
  {
   "cell_type": "code",
   "execution_count": 4,
   "metadata": {},
   "outputs": [
    {
     "name": "stdout",
     "output_type": "stream",
     "text": [
      "Retrieving notices: ...working... done\n",
      "Collecting package metadata (current_repodata.json): done\n",
      "Solving environment: done\n",
      "\n",
      "\n",
      "==> WARNING: A newer version of conda exists. <==\n",
      "  current version: 23.7.4\n",
      "  latest version: 23.9.0\n",
      "\n",
      "Please update conda by running\n",
      "\n",
      "    $ conda update -n base -c defaults conda\n",
      "\n",
      "Or to minimize the number of packages updated during conda update use\n",
      "\n",
      "     conda install conda=23.9.0\n",
      "\n",
      "\n",
      "\n",
      "# All requested packages already installed.\n",
      "\n",
      "Collecting package metadata (current_repodata.json): done\n",
      "Solving environment: done\n",
      "\n",
      "\n",
      "==> WARNING: A newer version of conda exists. <==\n",
      "  current version: 23.7.4\n",
      "  latest version: 23.9.0\n",
      "\n",
      "Please update conda by running\n",
      "\n",
      "    $ conda update -n base -c defaults conda\n",
      "\n",
      "Or to minimize the number of packages updated during conda update use\n",
      "\n",
      "     conda install conda=23.9.0\n",
      "\n",
      "\n",
      "\n",
      "# All requested packages already installed.\n",
      "\n"
     ]
    }
   ],
   "source": [
    "!conda install -y -c  anaconda graphviz\n",
    "!conda install -y -c  anaconda python-graphviz"
   ]
  },
  {
   "cell_type": "code",
   "execution_count": 5,
   "metadata": {},
   "outputs": [],
   "source": [
    "%run FSM-2-Dot.ipynb"
   ]
  },
  {
   "cell_type": "code",
   "execution_count": 6,
   "metadata": {},
   "outputs": [
    {
     "data": {
      "text/plain": [
       "{'q0', 'q1', 'q2', 'q3', 'q4', 'q5', 'q6', 'q7'}"
      ]
     },
     "execution_count": 6,
     "metadata": {},
     "output_type": "execute_result"
    }
   ],
   "source": [
    "States = { 'q' + str(i) for i in range(8) }\n",
    "States"
   ]
  },
  {
   "cell_type": "code",
   "execution_count": 7,
   "metadata": {},
   "outputs": [],
   "source": [
    "Sigma = { 'a', 'b' }"
   ]
  },
  {
   "cell_type": "code",
   "execution_count": null,
   "metadata": {},
   "outputs": [],
   "source": [
    "delta = {\n",
    "    ('q0',  '𝜀'): { 'q1', 'q2'},\n",
    "    ('q1', 'b'): { 'q3' },\n",
    "    ('q2', 'a'): { 'q4' },\n",
    "    ('q3', 'a'): { 'q5' },\n",
    "    ('q4', 'b'): { 'q6' },\n",
    "    ('q5',  '𝜀'): { 'q7' },\n",
    "    ('q6',  '𝜀'): { 'q7' },\n",
    "    ('q7',  '𝜀'): { 'q0' }\n",
    "}"
   ]
  },
  {
   "cell_type": "code",
   "execution_count": 28,
   "metadata": {},
   "outputs": [],
   "source": [
    "States = {'4', '1', '2', '3'}\n",
    "delta = {\n",
    "    ('4', 'a'): {'4'},\n",
    "    ('4', 'b'): {'4','1'},\n",
    "    ('1', 'a'): {'2'},\n",
    "    ('1', 'b'): {'2'},\n",
    "    ('2', 'a'): {'3'},\n",
    "    ('2', 'b'): {'3'}\n",
    "}"
   ]
  },
  {
   "cell_type": "markdown",
   "metadata": {},
   "source": [
    "The non-deterministic <span style=\"font-variant:small-caps;\">Fsm</span> defined below is taken from the lecture notes."
   ]
  },
  {
   "cell_type": "code",
   "execution_count": 29,
   "metadata": {},
   "outputs": [],
   "source": [
    "nfa_aufgabe6 = States, Sigma, delta, '4', { '3' }"
   ]
  },
  {
   "cell_type": "code",
   "execution_count": null,
   "metadata": {},
   "outputs": [],
   "source": [
    "nfa44 = States, Sigma, delta, 'q0', { 'q7' }"
   ]
  },
  {
   "cell_type": "markdown",
   "metadata": {},
   "source": [
    "The function `nfa2dot`can be used to render this <span style=\"font-variant:small-caps;\">Fsm</span>."
   ]
  },
  {
   "cell_type": "code",
   "execution_count": 30,
   "metadata": {},
   "outputs": [],
   "source": [
    "d = nfa2dot(nfa_aufgabe6)"
   ]
  },
  {
   "cell_type": "code",
   "execution_count": 31,
   "metadata": {},
   "outputs": [
    {
     "data": {
      "image/svg+xml": [
       "<?xml version=\"1.0\" encoding=\"UTF-8\" standalone=\"no\"?>\n",
       "<!DOCTYPE svg PUBLIC \"-//W3C//DTD SVG 1.1//EN\"\n",
       " \"http://www.w3.org/Graphics/SVG/1.1/DTD/svg11.dtd\">\n",
       "<!-- Generated by graphviz version 2.50.0 (0)\n",
       " -->\n",
       "<!-- Title: Non&#45;Deterministic FSM Pages: 1 -->\n",
       "<svg width=\"405pt\" height=\"114pt\"\n",
       " viewBox=\"0.00 0.00 405.00 114.00\" xmlns=\"http://www.w3.org/2000/svg\" xmlns:xlink=\"http://www.w3.org/1999/xlink\">\n",
       "<g id=\"graph0\" class=\"graph\" transform=\"scale(1 1) rotate(0) translate(4 110)\">\n",
       "<title>Non&#45;Deterministic FSM</title>\n",
       "<polygon fill=\"white\" stroke=\"transparent\" points=\"-4,4 -4,-110 401,-110 401,4 -4,4\"/>\n",
       "<!-- 0 -->\n",
       "<g id=\"node1\" class=\"node\">\n",
       "<title>0</title>\n",
       "<ellipse fill=\"blue\" stroke=\"blue\" cx=\"3.5\" cy=\"-22\" rx=\"3.5\" ry=\"3.5\"/>\n",
       "</g>\n",
       "<!-- 4 -->\n",
       "<g id=\"node2\" class=\"node\">\n",
       "<title>4</title>\n",
       "<ellipse fill=\"none\" stroke=\"black\" cx=\"71\" cy=\"-22\" rx=\"27\" ry=\"18\"/>\n",
       "<text text-anchor=\"middle\" x=\"71\" y=\"-18.3\" font-family=\"Times,serif\" font-size=\"14.00\">4</text>\n",
       "</g>\n",
       "<!-- 0&#45;&gt;4 -->\n",
       "<g id=\"edge1\" class=\"edge\">\n",
       "<title>0&#45;&gt;4</title>\n",
       "<path fill=\"none\" stroke=\"black\" d=\"M7.31,-22C12.15,-22 22.59,-22 33.58,-22\"/>\n",
       "<polygon fill=\"black\" stroke=\"black\" points=\"33.69,-25.5 43.69,-22 33.69,-18.5 33.69,-25.5\"/>\n",
       "</g>\n",
       "<!-- 4&#45;&gt;4 -->\n",
       "<g id=\"edge7\" class=\"edge\">\n",
       "<title>4&#45;&gt;4</title>\n",
       "<path fill=\"none\" stroke=\"black\" d=\"M67.02,-40.15C66.41,-49.54 67.73,-58 71,-58 72.99,-58 74.26,-54.86 74.81,-50.28\"/>\n",
       "<polygon fill=\"black\" stroke=\"black\" points=\"78.31,-50.21 74.98,-40.15 71.31,-50.09 78.31,-50.21\"/>\n",
       "<text text-anchor=\"middle\" x=\"71\" y=\"-61.8\" font-family=\"Times,serif\" font-size=\"14.00\">b</text>\n",
       "</g>\n",
       "<!-- 4&#45;&gt;4 -->\n",
       "<g id=\"edge8\" class=\"edge\">\n",
       "<title>4&#45;&gt;4</title>\n",
       "<path fill=\"none\" stroke=\"black\" d=\"M64.44,-39.7C60.82,-57 63.01,-76 71,-76 77.43,-76 80.1,-63.69 79.01,-49.87\"/>\n",
       "<polygon fill=\"black\" stroke=\"black\" points=\"82.44,-49.1 77.56,-39.7 75.51,-50.09 82.44,-49.1\"/>\n",
       "<text text-anchor=\"middle\" x=\"71\" y=\"-79.8\" font-family=\"Times,serif\" font-size=\"14.00\">a</text>\n",
       "</g>\n",
       "<!-- 1 -->\n",
       "<g id=\"node3\" class=\"node\">\n",
       "<title>1</title>\n",
       "<ellipse fill=\"none\" stroke=\"black\" cx=\"168\" cy=\"-22\" rx=\"27\" ry=\"18\"/>\n",
       "<text text-anchor=\"middle\" x=\"168\" y=\"-18.3\" font-family=\"Times,serif\" font-size=\"14.00\">1</text>\n",
       "</g>\n",
       "<!-- 4&#45;&gt;1 -->\n",
       "<g id=\"edge6\" class=\"edge\">\n",
       "<title>4&#45;&gt;1</title>\n",
       "<path fill=\"none\" stroke=\"black\" d=\"M98.21,-22C108.28,-22 119.96,-22 130.81,-22\"/>\n",
       "<polygon fill=\"black\" stroke=\"black\" points=\"130.87,-25.5 140.87,-22 130.87,-18.5 130.87,-25.5\"/>\n",
       "<text text-anchor=\"middle\" x=\"119.5\" y=\"-25.8\" font-family=\"Times,serif\" font-size=\"14.00\">b</text>\n",
       "</g>\n",
       "<!-- 2 -->\n",
       "<g id=\"node4\" class=\"node\">\n",
       "<title>2</title>\n",
       "<ellipse fill=\"none\" stroke=\"black\" cx=\"265\" cy=\"-22\" rx=\"27\" ry=\"18\"/>\n",
       "<text text-anchor=\"middle\" x=\"265\" y=\"-18.3\" font-family=\"Times,serif\" font-size=\"14.00\">2</text>\n",
       "</g>\n",
       "<!-- 1&#45;&gt;2 -->\n",
       "<g id=\"edge2\" class=\"edge\">\n",
       "<title>1&#45;&gt;2</title>\n",
       "<path fill=\"none\" stroke=\"black\" d=\"M195.21,-22C205.28,-22 216.96,-22 227.81,-22\"/>\n",
       "<polygon fill=\"black\" stroke=\"black\" points=\"227.87,-25.5 237.87,-22 227.87,-18.5 227.87,-25.5\"/>\n",
       "<text text-anchor=\"middle\" x=\"216.5\" y=\"-25.8\" font-family=\"Times,serif\" font-size=\"14.00\">b</text>\n",
       "</g>\n",
       "<!-- 1&#45;&gt;2 -->\n",
       "<g id=\"edge3\" class=\"edge\">\n",
       "<title>1&#45;&gt;2</title>\n",
       "<path fill=\"none\" stroke=\"black\" d=\"M189.91,-10.91C197.03,-7.69 205.18,-4.62 213,-3 220.51,-1.45 228.38,-2.79 235.63,-5.34\"/>\n",
       "<polygon fill=\"black\" stroke=\"black\" points=\"234.47,-8.66 245.04,-9.42 237.25,-2.23 234.47,-8.66\"/>\n",
       "<text text-anchor=\"middle\" x=\"216.5\" y=\"-6.8\" font-family=\"Times,serif\" font-size=\"14.00\">a</text>\n",
       "</g>\n",
       "<!-- 3 -->\n",
       "<g id=\"node5\" class=\"node\">\n",
       "<title>3</title>\n",
       "<ellipse fill=\"none\" stroke=\"black\" cx=\"366\" cy=\"-22\" rx=\"27\" ry=\"18\"/>\n",
       "<ellipse fill=\"none\" stroke=\"black\" cx=\"366\" cy=\"-22\" rx=\"31\" ry=\"22\"/>\n",
       "<text text-anchor=\"middle\" x=\"366\" y=\"-18.3\" font-family=\"Times,serif\" font-size=\"14.00\">3</text>\n",
       "</g>\n",
       "<!-- 2&#45;&gt;3 -->\n",
       "<g id=\"edge4\" class=\"edge\">\n",
       "<title>2&#45;&gt;3</title>\n",
       "<path fill=\"none\" stroke=\"black\" d=\"M292.01,-22C302,-22 313.64,-22 324.66,-22\"/>\n",
       "<polygon fill=\"black\" stroke=\"black\" points=\"324.96,-25.5 334.96,-22 324.96,-18.5 324.96,-25.5\"/>\n",
       "<text text-anchor=\"middle\" x=\"313.5\" y=\"-25.8\" font-family=\"Times,serif\" font-size=\"14.00\">b</text>\n",
       "</g>\n",
       "<!-- 2&#45;&gt;3 -->\n",
       "<g id=\"edge5\" class=\"edge\">\n",
       "<title>2&#45;&gt;3</title>\n",
       "<path fill=\"none\" stroke=\"black\" d=\"M286.91,-10.91C294.03,-7.69 302.18,-4.62 310,-3 317.35,-1.48 325.06,-2.44 332.3,-4.57\"/>\n",
       "<polygon fill=\"black\" stroke=\"black\" points=\"331.23,-7.91 341.82,-8.08 333.65,-1.34 331.23,-7.91\"/>\n",
       "<text text-anchor=\"middle\" x=\"313.5\" y=\"-6.8\" font-family=\"Times,serif\" font-size=\"14.00\">a</text>\n",
       "</g>\n",
       "</g>\n",
       "</svg>\n"
      ],
      "text/plain": [
       "<graphviz.graphs.Digraph at 0x10b225390>"
      ]
     },
     "execution_count": 31,
     "metadata": {},
     "output_type": "execute_result"
    }
   ],
   "source": [
    "d"
   ]
  },
  {
   "cell_type": "markdown",
   "metadata": {},
   "source": [
    "This recognizes the same language as the language described by\n",
    "$$ (a\\cdot b + b \\cdot a)  \\cdot (a\\cdot b + b \\cdot a)^* $$\n",
    "Let us convert it into a deterministic <span style=\"font-variant:small-caps;\">Fsm</span>: "
   ]
  },
  {
   "cell_type": "code",
   "execution_count": 32,
   "metadata": {},
   "outputs": [],
   "source": [
    "dfa44 = nfa2dfa(nfa_aufgabe6)"
   ]
  },
  {
   "cell_type": "markdown",
   "metadata": {},
   "source": [
    "The function `dfa2dot`can be used to render this <span style=\"font-variant:small-caps;\">Fsm</span>."
   ]
  },
  {
   "cell_type": "code",
   "execution_count": 33,
   "metadata": {},
   "outputs": [
    {
     "data": {
      "image/svg+xml": [
       "<?xml version=\"1.0\" encoding=\"UTF-8\" standalone=\"no\"?>\n",
       "<!DOCTYPE svg PUBLIC \"-//W3C//DTD SVG 1.1//EN\"\n",
       " \"http://www.w3.org/Graphics/SVG/1.1/DTD/svg11.dtd\">\n",
       "<!-- Generated by graphviz version 2.50.0 (0)\n",
       " -->\n",
       "<!-- Title: Deterministic FSM Pages: 1 -->\n",
       "<svg width=\"817pt\" height=\"295pt\"\n",
       " viewBox=\"0.00 0.00 817.00 295.00\" xmlns=\"http://www.w3.org/2000/svg\" xmlns:xlink=\"http://www.w3.org/1999/xlink\">\n",
       "<g id=\"graph0\" class=\"graph\" transform=\"scale(1 1) rotate(0) translate(4 291)\">\n",
       "<title>Deterministic FSM</title>\n",
       "<polygon fill=\"white\" stroke=\"transparent\" points=\"-4,4 -4,-291 813,-291 813,4 -4,4\"/>\n",
       "<!-- 1 -->\n",
       "<g id=\"node1\" class=\"node\">\n",
       "<title>1</title>\n",
       "<ellipse fill=\"blue\" stroke=\"blue\" cx=\"3.5\" cy=\"-18\" rx=\"3.5\" ry=\"3.5\"/>\n",
       "</g>\n",
       "<!-- S2 -->\n",
       "<g id=\"node2\" class=\"node\">\n",
       "<title>S2</title>\n",
       "<ellipse fill=\"none\" stroke=\"black\" cx=\"71\" cy=\"-18\" rx=\"27\" ry=\"18\"/>\n",
       "<text text-anchor=\"middle\" x=\"71\" y=\"-14.3\" font-family=\"Times,serif\" font-size=\"14.00\">S2</text>\n",
       "</g>\n",
       "<!-- 1&#45;&gt;S2 -->\n",
       "<g id=\"edge1\" class=\"edge\">\n",
       "<title>1&#45;&gt;S2</title>\n",
       "<path fill=\"none\" stroke=\"black\" d=\"M7.31,-18C12.15,-18 22.59,-18 33.58,-18\"/>\n",
       "<polygon fill=\"black\" stroke=\"black\" points=\"33.69,-21.5 43.69,-18 33.69,-14.5 33.69,-21.5\"/>\n",
       "</g>\n",
       "<!-- S2&#45;&gt;S2 -->\n",
       "<g id=\"edge7\" class=\"edge\">\n",
       "<title>S2&#45;&gt;S2</title>\n",
       "<path fill=\"none\" stroke=\"black\" d=\"M63.14,-35.41C61.68,-45.09 64.3,-54 71,-54 75.19,-54 77.78,-50.52 78.78,-45.54\"/>\n",
       "<polygon fill=\"black\" stroke=\"black\" points=\"82.28,-45.44 78.86,-35.41 75.28,-45.38 82.28,-45.44\"/>\n",
       "<text text-anchor=\"middle\" x=\"71\" y=\"-57.8\" font-family=\"Times,serif\" font-size=\"14.00\">a</text>\n",
       "</g>\n",
       "<!-- S1 -->\n",
       "<g id=\"node4\" class=\"node\">\n",
       "<title>S1</title>\n",
       "<ellipse fill=\"none\" stroke=\"black\" cx=\"168\" cy=\"-86\" rx=\"27\" ry=\"18\"/>\n",
       "<text text-anchor=\"middle\" x=\"168\" y=\"-82.3\" font-family=\"Times,serif\" font-size=\"14.00\">S1</text>\n",
       "</g>\n",
       "<!-- S2&#45;&gt;S1 -->\n",
       "<g id=\"edge6\" class=\"edge\">\n",
       "<title>S2&#45;&gt;S1</title>\n",
       "<path fill=\"none\" stroke=\"black\" d=\"M90.32,-31.11C104.6,-41.34 124.64,-55.68 140.64,-67.13\"/>\n",
       "<polygon fill=\"black\" stroke=\"black\" points=\"138.89,-70.19 149.06,-73.16 142.97,-64.49 138.89,-70.19\"/>\n",
       "<text text-anchor=\"middle\" x=\"119.5\" y=\"-57.8\" font-family=\"Times,serif\" font-size=\"14.00\">b</text>\n",
       "</g>\n",
       "<!-- S0 -->\n",
       "<g id=\"node3\" class=\"node\">\n",
       "<title>S0</title>\n",
       "<ellipse fill=\"none\" stroke=\"black\" cx=\"265\" cy=\"-115\" rx=\"27\" ry=\"18\"/>\n",
       "<text text-anchor=\"middle\" x=\"265\" y=\"-111.3\" font-family=\"Times,serif\" font-size=\"14.00\">S0</text>\n",
       "</g>\n",
       "<!-- S3 -->\n",
       "<g id=\"node5\" class=\"node\">\n",
       "<title>S3</title>\n",
       "<ellipse fill=\"none\" stroke=\"black\" cx=\"778\" cy=\"-69\" rx=\"27\" ry=\"18\"/>\n",
       "<ellipse fill=\"none\" stroke=\"black\" cx=\"778\" cy=\"-69\" rx=\"31\" ry=\"22\"/>\n",
       "<text text-anchor=\"middle\" x=\"778\" y=\"-65.3\" font-family=\"Times,serif\" font-size=\"14.00\">S3</text>\n",
       "</g>\n",
       "<!-- S0&#45;&gt;S3 -->\n",
       "<g id=\"edge3\" class=\"edge\">\n",
       "<title>S0&#45;&gt;S3</title>\n",
       "<path fill=\"none\" stroke=\"black\" d=\"M288.82,-106.2C308.65,-99.35 338.3,-91 365,-91 365,-91 365,-91 674,-91 696.11,-91 720.31,-86.09 739.7,-80.91\"/>\n",
       "<polygon fill=\"black\" stroke=\"black\" points=\"740.68,-84.27 749.36,-78.2 738.79,-77.53 740.68,-84.27\"/>\n",
       "<text text-anchor=\"middle\" x=\"515.5\" y=\"-94.8\" font-family=\"Times,serif\" font-size=\"14.00\">a</text>\n",
       "</g>\n",
       "<!-- S4 -->\n",
       "<g id=\"node6\" class=\"node\">\n",
       "<title>S4</title>\n",
       "<ellipse fill=\"none\" stroke=\"black\" cx=\"366\" cy=\"-146\" rx=\"27\" ry=\"18\"/>\n",
       "<ellipse fill=\"none\" stroke=\"black\" cx=\"366\" cy=\"-146\" rx=\"31\" ry=\"22\"/>\n",
       "<text text-anchor=\"middle\" x=\"366\" y=\"-142.3\" font-family=\"Times,serif\" font-size=\"14.00\">S4</text>\n",
       "</g>\n",
       "<!-- S0&#45;&gt;S4 -->\n",
       "<g id=\"edge2\" class=\"edge\">\n",
       "<title>S0&#45;&gt;S4</title>\n",
       "<path fill=\"none\" stroke=\"black\" d=\"M291.44,-118.86C299.69,-120.41 308.82,-122.44 317,-125 321.42,-126.38 325.97,-128.04 330.44,-129.82\"/>\n",
       "<polygon fill=\"black\" stroke=\"black\" points=\"329.41,-133.18 339.99,-133.82 332.12,-126.73 329.41,-133.18\"/>\n",
       "<text text-anchor=\"middle\" x=\"313.5\" y=\"-128.8\" font-family=\"Times,serif\" font-size=\"14.00\">b</text>\n",
       "</g>\n",
       "<!-- S1&#45;&gt;S0 -->\n",
       "<g id=\"edge5\" class=\"edge\">\n",
       "<title>S1&#45;&gt;S0</title>\n",
       "<path fill=\"none\" stroke=\"black\" d=\"M192.97,-93.32C204.22,-96.75 217.83,-100.91 230.11,-104.66\"/>\n",
       "<polygon fill=\"black\" stroke=\"black\" points=\"229.45,-108.11 240.04,-107.68 231.49,-101.42 229.45,-108.11\"/>\n",
       "<text text-anchor=\"middle\" x=\"216.5\" y=\"-104.8\" font-family=\"Times,serif\" font-size=\"14.00\">a</text>\n",
       "</g>\n",
       "<!-- S6 -->\n",
       "<g id=\"node8\" class=\"node\">\n",
       "<title>S6</title>\n",
       "<ellipse fill=\"none\" stroke=\"black\" cx=\"467\" cy=\"-189\" rx=\"27\" ry=\"18\"/>\n",
       "<text text-anchor=\"middle\" x=\"467\" y=\"-185.3\" font-family=\"Times,serif\" font-size=\"14.00\">S6</text>\n",
       "</g>\n",
       "<!-- S1&#45;&gt;S6 -->\n",
       "<g id=\"edge4\" class=\"edge\">\n",
       "<title>S1&#45;&gt;S6</title>\n",
       "<path fill=\"none\" stroke=\"black\" d=\"M184.06,-100.75C197.35,-113.12 217.71,-130.55 238,-142 308.59,-181.86 334.23,-179.09 415,-186 419.83,-186.41 424.92,-186.79 429.94,-187.12\"/>\n",
       "<polygon fill=\"black\" stroke=\"black\" points=\"429.84,-190.62 440.04,-187.74 430.27,-183.63 429.84,-190.62\"/>\n",
       "<text text-anchor=\"middle\" x=\"313.5\" y=\"-178.8\" font-family=\"Times,serif\" font-size=\"14.00\">b</text>\n",
       "</g>\n",
       "<!-- S3&#45;&gt;S2 -->\n",
       "<g id=\"edge9\" class=\"edge\">\n",
       "<title>S3&#45;&gt;S2</title>\n",
       "<path fill=\"none\" stroke=\"black\" d=\"M761.23,-50.34C742.6,-30.51 709.62,-2 674,-2 167,-2 167,-2 167,-2 146.73,-2 124.35,-5.59 106.42,-9.36\"/>\n",
       "<polygon fill=\"black\" stroke=\"black\" points=\"105.42,-6 96.41,-11.58 106.94,-12.83 105.42,-6\"/>\n",
       "<text text-anchor=\"middle\" x=\"418.5\" y=\"-5.8\" font-family=\"Times,serif\" font-size=\"14.00\">a</text>\n",
       "</g>\n",
       "<!-- S3&#45;&gt;S1 -->\n",
       "<g id=\"edge8\" class=\"edge\">\n",
       "<title>S3&#45;&gt;S1</title>\n",
       "<path fill=\"none\" stroke=\"black\" d=\"M749.33,-60.22C728.77,-54.46 699.91,-48 674,-48 264,-48 264,-48 264,-48 239.99,-48 214.85,-58.59 196.47,-68.59\"/>\n",
       "<polygon fill=\"black\" stroke=\"black\" points=\"194.72,-65.56 187.77,-73.56 198.19,-71.64 194.72,-65.56\"/>\n",
       "<text text-anchor=\"middle\" x=\"467\" y=\"-51.8\" font-family=\"Times,serif\" font-size=\"14.00\">b</text>\n",
       "</g>\n",
       "<!-- S4&#45;&gt;S0 -->\n",
       "<g id=\"edge11\" class=\"edge\">\n",
       "<title>S4&#45;&gt;S0</title>\n",
       "<path fill=\"none\" stroke=\"black\" d=\"M334.85,-144.94C326.65,-144.05 317.86,-142.54 310,-140 304.46,-138.21 298.84,-135.67 293.56,-132.89\"/>\n",
       "<polygon fill=\"black\" stroke=\"black\" points=\"294.91,-129.64 284.49,-127.74 291.45,-135.72 294.91,-129.64\"/>\n",
       "<text text-anchor=\"middle\" x=\"313.5\" y=\"-144.8\" font-family=\"Times,serif\" font-size=\"14.00\">a</text>\n",
       "</g>\n",
       "<!-- S4&#45;&gt;S6 -->\n",
       "<g id=\"edge10\" class=\"edge\">\n",
       "<title>S4&#45;&gt;S6</title>\n",
       "<path fill=\"none\" stroke=\"black\" d=\"M392.75,-157.19C405.57,-162.75 421.17,-169.53 434.67,-175.39\"/>\n",
       "<polygon fill=\"black\" stroke=\"black\" points=\"433.5,-178.7 444.07,-179.47 436.29,-172.28 433.5,-178.7\"/>\n",
       "<text text-anchor=\"middle\" x=\"418.5\" y=\"-171.8\" font-family=\"Times,serif\" font-size=\"14.00\">b</text>\n",
       "</g>\n",
       "<!-- S5 -->\n",
       "<g id=\"node7\" class=\"node\">\n",
       "<title>S5</title>\n",
       "<ellipse fill=\"none\" stroke=\"black\" cx=\"568\" cy=\"-232\" rx=\"27\" ry=\"18\"/>\n",
       "<ellipse fill=\"none\" stroke=\"black\" cx=\"568\" cy=\"-232\" rx=\"31\" ry=\"22\"/>\n",
       "<text text-anchor=\"middle\" x=\"568\" y=\"-228.3\" font-family=\"Times,serif\" font-size=\"14.00\">S5</text>\n",
       "</g>\n",
       "<!-- S5&#45;&gt;S5 -->\n",
       "<g id=\"edge12\" class=\"edge\">\n",
       "<title>S5&#45;&gt;S5</title>\n",
       "<path fill=\"none\" stroke=\"black\" d=\"M558.49,-252.99C557.31,-263.09 560.48,-272 568,-272 572.81,-272 575.85,-268.34 577.09,-263.06\"/>\n",
       "<polygon fill=\"black\" stroke=\"black\" points=\"580.59,-263.13 577.51,-252.99 573.6,-262.84 580.59,-263.13\"/>\n",
       "<text text-anchor=\"middle\" x=\"568\" y=\"-275.8\" font-family=\"Times,serif\" font-size=\"14.00\">b</text>\n",
       "</g>\n",
       "<!-- S7 -->\n",
       "<g id=\"node9\" class=\"node\">\n",
       "<title>S7</title>\n",
       "<ellipse fill=\"none\" stroke=\"black\" cx=\"673\" cy=\"-163\" rx=\"27\" ry=\"18\"/>\n",
       "<ellipse fill=\"none\" stroke=\"black\" cx=\"673\" cy=\"-163\" rx=\"31\" ry=\"22\"/>\n",
       "<text text-anchor=\"middle\" x=\"673\" y=\"-159.3\" font-family=\"Times,serif\" font-size=\"14.00\">S7</text>\n",
       "</g>\n",
       "<!-- S5&#45;&gt;S7 -->\n",
       "<g id=\"edge13\" class=\"edge\">\n",
       "<title>S5&#45;&gt;S7</title>\n",
       "<path fill=\"none\" stroke=\"black\" d=\"M591.1,-217.2C605.76,-207.37 625.21,-194.35 641.36,-183.53\"/>\n",
       "<polygon fill=\"black\" stroke=\"black\" points=\"643.58,-186.25 649.94,-177.78 639.68,-180.44 643.58,-186.25\"/>\n",
       "<text text-anchor=\"middle\" x=\"620.5\" y=\"-202.8\" font-family=\"Times,serif\" font-size=\"14.00\">a</text>\n",
       "</g>\n",
       "<!-- S6&#45;&gt;S5 -->\n",
       "<g id=\"edge14\" class=\"edge\">\n",
       "<title>S6&#45;&gt;S5</title>\n",
       "<path fill=\"none\" stroke=\"black\" d=\"M489.97,-198.54C502.28,-203.89 517.93,-210.68 531.89,-216.75\"/>\n",
       "<polygon fill=\"black\" stroke=\"black\" points=\"530.67,-220.04 541.24,-220.81 533.46,-213.62 530.67,-220.04\"/>\n",
       "<text text-anchor=\"middle\" x=\"515.5\" y=\"-213.8\" font-family=\"Times,serif\" font-size=\"14.00\">b</text>\n",
       "</g>\n",
       "<!-- S6&#45;&gt;S7 -->\n",
       "<g id=\"edge15\" class=\"edge\">\n",
       "<title>S6&#45;&gt;S7</title>\n",
       "<path fill=\"none\" stroke=\"black\" d=\"M493.84,-185.71C528.75,-181.26 591.33,-173.28 632.25,-168.07\"/>\n",
       "<polygon fill=\"black\" stroke=\"black\" points=\"632.94,-171.51 642.42,-166.77 632.05,-164.56 632.94,-171.51\"/>\n",
       "<text text-anchor=\"middle\" x=\"568\" y=\"-182.8\" font-family=\"Times,serif\" font-size=\"14.00\">a</text>\n",
       "</g>\n",
       "<!-- S7&#45;&gt;S3 -->\n",
       "<g id=\"edge17\" class=\"edge\">\n",
       "<title>S7&#45;&gt;S3</title>\n",
       "<path fill=\"none\" stroke=\"black\" d=\"M692.89,-145.76C709.01,-131.05 732.36,-109.74 750.37,-93.3\"/>\n",
       "<polygon fill=\"black\" stroke=\"black\" points=\"753.2,-95.46 758.23,-86.13 748.48,-90.29 753.2,-95.46\"/>\n",
       "<text text-anchor=\"middle\" x=\"725.5\" y=\"-121.8\" font-family=\"Times,serif\" font-size=\"14.00\">a</text>\n",
       "</g>\n",
       "<!-- S7&#45;&gt;S4 -->\n",
       "<g id=\"edge16\" class=\"edge\">\n",
       "<title>S7&#45;&gt;S4</title>\n",
       "<path fill=\"none\" stroke=\"black\" d=\"M641.7,-161.31C586.4,-158.23 469.16,-151.69 407.25,-148.24\"/>\n",
       "<polygon fill=\"black\" stroke=\"black\" points=\"407.26,-144.74 397.08,-147.68 406.87,-151.73 407.26,-144.74\"/>\n",
       "<text text-anchor=\"middle\" x=\"515.5\" y=\"-157.8\" font-family=\"Times,serif\" font-size=\"14.00\">b</text>\n",
       "</g>\n",
       "</g>\n",
       "</svg>\n"
      ],
      "text/plain": [
       "<graphviz.graphs.Digraph at 0x10730cb10>"
      ]
     },
     "execution_count": 33,
     "metadata": {},
     "output_type": "execute_result"
    }
   ],
   "source": [
    "dot, states2Names = dfa2dot(dfa44)\n",
    "dot"
   ]
  },
  {
   "cell_type": "markdown",
   "metadata": {},
   "source": [
    "In order to inspect the states of this deterministic <span style=\"font-variant:small-caps;\">Fsm</span> we print the dictionary  `states2Names`."
   ]
  },
  {
   "cell_type": "code",
   "execution_count": 34,
   "metadata": {},
   "outputs": [
    {
     "data": {
      "text/plain": [
       "{frozenset({'2', '4'}): 'S0',\n",
       " frozenset({'1', '4'}): 'S1',\n",
       " frozenset({'4'}): 'S2',\n",
       " frozenset({'3', '4'}): 'S3',\n",
       " frozenset({'1', '3', '4'}): 'S4',\n",
       " frozenset({'1', '2', '3', '4'}): 'S5',\n",
       " frozenset({'1', '2', '4'}): 'S6',\n",
       " frozenset({'2', '3', '4'}): 'S7'}"
      ]
     },
     "execution_count": 34,
     "metadata": {},
     "output_type": "execute_result"
    }
   ],
   "source": [
    "states2Names"
   ]
  },
  {
   "cell_type": "markdown",
   "metadata": {},
   "source": [
    "We can also print the <span style=\"font-variant:small-caps;\">Fsm</span>."
   ]
  },
  {
   "cell_type": "code",
   "execution_count": null,
   "metadata": {},
   "outputs": [],
   "source": [
    "dfa44"
   ]
  },
  {
   "cell_type": "code",
   "execution_count": null,
   "metadata": {},
   "outputs": [],
   "source": []
  }
 ],
 "metadata": {
  "kernelspec": {
   "display_name": "Python 3 (ipykernel)",
   "language": "python",
   "name": "python3"
  },
  "language_info": {
   "codemirror_mode": {
    "name": "ipython",
    "version": 3
   },
   "file_extension": ".py",
   "mimetype": "text/x-python",
   "name": "python",
   "nbconvert_exporter": "python",
   "pygments_lexer": "ipython3",
   "version": "3.11.5"
  },
  "varInspector": {
   "cols": {
    "lenName": 16,
    "lenType": 16,
    "lenVar": 40
   },
   "kernels_config": {
    "python": {
     "delete_cmd_postfix": "",
     "delete_cmd_prefix": "del ",
     "library": "var_list.py",
     "varRefreshCmd": "print(var_dic_list())"
    },
    "r": {
     "delete_cmd_postfix": ") ",
     "delete_cmd_prefix": "rm(",
     "library": "var_list.r",
     "varRefreshCmd": "cat(var_dic_list()) "
    }
   },
   "types_to_exclude": [
    "module",
    "function",
    "builtin_function_or_method",
    "instance",
    "_Feature"
   ],
   "window_display": false
  }
 },
 "nbformat": 4,
 "nbformat_minor": 4
}
