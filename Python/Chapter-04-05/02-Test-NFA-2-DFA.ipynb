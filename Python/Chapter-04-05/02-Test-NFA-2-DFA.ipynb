{
 "cells": [
  {
   "cell_type": "markdown",
   "metadata": {},
   "source": [
    "This notebook is used to test the conversion of non-deterministic <span style=\"font-variant:small-caps;\">Fsm</span>s into deterministic <span style=\"font-variant:small-caps;\">Fsm</span>s."
   ]
  },
  {
   "cell_type": "code",
   "execution_count": 1,
   "metadata": {},
   "outputs": [
    {
     "name": "stdout",
     "output_type": "stream",
     "text": [
      "Requirement already satisfied: mypy in /Users/stroetmann/opt/anaconda3/envs/fl/lib/python3.12/site-packages (1.12.0)\n",
      "Requirement already satisfied: typing-extensions>=4.6.0 in /Users/stroetmann/opt/anaconda3/envs/fl/lib/python3.12/site-packages (from mypy) (4.12.2)\n",
      "Requirement already satisfied: mypy-extensions>=1.0.0 in /Users/stroetmann/opt/anaconda3/envs/fl/lib/python3.12/site-packages (from mypy) (1.0.0)\n",
      "Requirement already satisfied: nb_mypy in /Users/stroetmann/opt/anaconda3/envs/fl/lib/python3.12/site-packages (1.0.5)\n",
      "Requirement already satisfied: astor<1,>=0.8 in /Users/stroetmann/opt/anaconda3/envs/fl/lib/python3.12/site-packages (from nb_mypy) (0.8.1)\n",
      "Requirement already satisfied: mypy<2,>=1 in /Users/stroetmann/opt/anaconda3/envs/fl/lib/python3.12/site-packages (from nb_mypy) (1.12.0)\n",
      "Requirement already satisfied: ipython<9,>=8.0 in /Users/stroetmann/opt/anaconda3/envs/fl/lib/python3.12/site-packages (from nb_mypy) (8.27.0)\n",
      "Requirement already satisfied: decorator in /Users/stroetmann/opt/anaconda3/envs/fl/lib/python3.12/site-packages (from ipython<9,>=8.0->nb_mypy) (5.1.1)\n",
      "Requirement already satisfied: jedi>=0.16 in /Users/stroetmann/opt/anaconda3/envs/fl/lib/python3.12/site-packages (from ipython<9,>=8.0->nb_mypy) (0.19.1)\n",
      "Requirement already satisfied: matplotlib-inline in /Users/stroetmann/opt/anaconda3/envs/fl/lib/python3.12/site-packages (from ipython<9,>=8.0->nb_mypy) (0.1.7)\n",
      "Requirement already satisfied: prompt-toolkit<3.1.0,>=3.0.41 in /Users/stroetmann/opt/anaconda3/envs/fl/lib/python3.12/site-packages (from ipython<9,>=8.0->nb_mypy) (3.0.48)\n",
      "Requirement already satisfied: pygments>=2.4.0 in /Users/stroetmann/opt/anaconda3/envs/fl/lib/python3.12/site-packages (from ipython<9,>=8.0->nb_mypy) (2.18.0)\n",
      "Requirement already satisfied: stack-data in /Users/stroetmann/opt/anaconda3/envs/fl/lib/python3.12/site-packages (from ipython<9,>=8.0->nb_mypy) (0.6.2)\n",
      "Requirement already satisfied: traitlets>=5.13.0 in /Users/stroetmann/opt/anaconda3/envs/fl/lib/python3.12/site-packages (from ipython<9,>=8.0->nb_mypy) (5.14.3)\n",
      "Requirement already satisfied: pexpect>4.3 in /Users/stroetmann/opt/anaconda3/envs/fl/lib/python3.12/site-packages (from ipython<9,>=8.0->nb_mypy) (4.9.0)\n",
      "Requirement already satisfied: typing-extensions>=4.6.0 in /Users/stroetmann/opt/anaconda3/envs/fl/lib/python3.12/site-packages (from mypy<2,>=1->nb_mypy) (4.12.2)\n",
      "Requirement already satisfied: mypy-extensions>=1.0.0 in /Users/stroetmann/opt/anaconda3/envs/fl/lib/python3.12/site-packages (from mypy<2,>=1->nb_mypy) (1.0.0)\n",
      "Requirement already satisfied: parso<0.9.0,>=0.8.3 in /Users/stroetmann/opt/anaconda3/envs/fl/lib/python3.12/site-packages (from jedi>=0.16->ipython<9,>=8.0->nb_mypy) (0.8.4)\n",
      "Requirement already satisfied: ptyprocess>=0.5 in /Users/stroetmann/opt/anaconda3/envs/fl/lib/python3.12/site-packages (from pexpect>4.3->ipython<9,>=8.0->nb_mypy) (0.7.0)\n",
      "Requirement already satisfied: wcwidth in /Users/stroetmann/opt/anaconda3/envs/fl/lib/python3.12/site-packages (from prompt-toolkit<3.1.0,>=3.0.41->ipython<9,>=8.0->nb_mypy) (0.2.13)\n",
      "Requirement already satisfied: executing>=1.2.0 in /Users/stroetmann/opt/anaconda3/envs/fl/lib/python3.12/site-packages (from stack-data->ipython<9,>=8.0->nb_mypy) (2.1.0)\n",
      "Requirement already satisfied: asttokens>=2.1.0 in /Users/stroetmann/opt/anaconda3/envs/fl/lib/python3.12/site-packages (from stack-data->ipython<9,>=8.0->nb_mypy) (2.4.1)\n",
      "Requirement already satisfied: pure-eval in /Users/stroetmann/opt/anaconda3/envs/fl/lib/python3.12/site-packages (from stack-data->ipython<9,>=8.0->nb_mypy) (0.2.3)\n",
      "Requirement already satisfied: six>=1.12.0 in /Users/stroetmann/opt/anaconda3/envs/fl/lib/python3.12/site-packages (from asttokens>=2.1.0->stack-data->ipython<9,>=8.0->nb_mypy) (1.16.0)\n"
     ]
    },
    {
     "name": "stderr",
     "output_type": "stream",
     "text": [
      "Version 1.0.5\n"
     ]
    }
   ],
   "source": [
    "%run 01-NFA-2-DFA.ipynb"
   ]
  },
  {
   "cell_type": "markdown",
   "metadata": {},
   "source": [
    "Unfortunately, the `%run` magic does not work with the `mypy`extension for notebooks.  \n",
    "Hence we have to switch it off."
   ]
  },
  {
   "cell_type": "code",
   "execution_count": 2,
   "metadata": {},
   "outputs": [],
   "source": [
    "%nb_mypy Off"
   ]
  },
  {
   "cell_type": "markdown",
   "metadata": {},
   "source": [
    "In order to represent the <span style=\"font-variant:small-caps;\">Fsm</span>s graphically, we use the notebook `FSM-2-Dot.ipynb`.  This notebook uses the package `graphviz`, wich can be installed by the following commands."
   ]
  },
  {
   "cell_type": "markdown",
   "metadata": {},
   "source": [
    "!conda install -y -c  anaconda graphviz\n",
    "!conda install -y -c  anaconda python-graphviz"
   ]
  },
  {
   "cell_type": "code",
   "execution_count": 3,
   "metadata": {},
   "outputs": [],
   "source": [
    "%run FSM-2-Dot.ipynb"
   ]
  },
  {
   "cell_type": "code",
   "execution_count": 4,
   "metadata": {},
   "outputs": [
    {
     "data": {
      "text/plain": [
       "{'q0', 'q1', 'q2', 'q3', 'q4', 'q5', 'q6', 'q7'}"
      ]
     },
     "execution_count": 4,
     "metadata": {},
     "output_type": "execute_result"
    }
   ],
   "source": [
    "States = { 'q' + str(i) for i in range(8) }\n",
    "States"
   ]
  },
  {
   "cell_type": "code",
   "execution_count": 5,
   "metadata": {},
   "outputs": [],
   "source": [
    "Σ = { 'a', 'b' }"
   ]
  },
  {
   "cell_type": "code",
   "execution_count": 6,
   "metadata": {},
   "outputs": [],
   "source": [
    "δ = {\n",
    "    ('q0',  '𝜀'): { 'q1', 'q2'},\n",
    "    ('q1', 'b'): { 'q3' },\n",
    "    ('q2', 'a'): { 'q4' },\n",
    "    ('q3', 'a'): { 'q5' },\n",
    "    ('q4', 'b'): { 'q6' },\n",
    "    ('q5',  '𝜀'): { 'q7' },\n",
    "    ('q6',  '𝜀'): { 'q7' },\n",
    "    ('q7',  '𝜀'): { 'q0' }\n",
    "}"
   ]
  },
  {
   "cell_type": "markdown",
   "metadata": {},
   "source": [
    "States = {'4', '1', '2', '3'}\n",
    "δ = {\n",
    "    ('4', 'a'): {'4'},\n",
    "    ('4', 'b'): {'4','1'},\n",
    "    ('1', 'a'): {'2'},\n",
    "    ('1', 'b'): {'2'},\n",
    "    ('2', 'a'): {'3'},\n",
    "    ('2', 'b'): {'3'}\n",
    "}"
   ]
  },
  {
   "cell_type": "markdown",
   "metadata": {},
   "source": [
    "The non-deterministic <span style=\"font-variant:small-caps;\">Fsm</span> defined below is taken from the lecture notes."
   ]
  },
  {
   "cell_type": "code",
   "execution_count": 7,
   "metadata": {},
   "outputs": [],
   "source": [
    "nfa44 = States, Σ, δ, 'q0', { 'q7' }"
   ]
  },
  {
   "cell_type": "markdown",
   "metadata": {},
   "source": [
    "The function `nfa2dot`can be used to render this <span style=\"font-variant:small-caps;\">Fsm</span>."
   ]
  },
  {
   "cell_type": "code",
   "execution_count": 8,
   "metadata": {},
   "outputs": [],
   "source": [
    "d = nfa2dot(nfa44)"
   ]
  },
  {
   "cell_type": "code",
   "execution_count": 9,
   "metadata": {},
   "outputs": [
    {
     "data": {
      "image/svg+xml": [
       "<?xml version=\"1.0\" encoding=\"UTF-8\" standalone=\"no\"?>\n",
       "<!DOCTYPE svg PUBLIC \"-//W3C//DTD SVG 1.1//EN\"\n",
       " \"http://www.w3.org/Graphics/SVG/1.1/DTD/svg11.dtd\">\n",
       "<!-- Generated by graphviz version 12.0.0 (0)\n",
       " -->\n",
       "<!-- Title: Non&#45;Deterministic FSM Pages: 1 -->\n",
       "<svg width=\"498pt\" height=\"127pt\"\n",
       " viewBox=\"0.00 0.00 498.20 127.00\" xmlns=\"http://www.w3.org/2000/svg\" xmlns:xlink=\"http://www.w3.org/1999/xlink\">\n",
       "<g id=\"graph0\" class=\"graph\" transform=\"scale(1 1) rotate(0) translate(4 123)\">\n",
       "<title>Non&#45;Deterministic FSM</title>\n",
       "<polygon fill=\"white\" stroke=\"none\" points=\"-4,4 -4,-123 494.2,-123 494.2,4 -4,4\"/>\n",
       "<!-- 0 -->\n",
       "<g id=\"node1\" class=\"node\">\n",
       "<title>0</title>\n",
       "<ellipse fill=\"blue\" stroke=\"blue\" cx=\"3.6\" cy=\"-20\" rx=\"3.6\" ry=\"3.6\"/>\n",
       "</g>\n",
       "<!-- q0 -->\n",
       "<g id=\"node2\" class=\"node\">\n",
       "<title>q0</title>\n",
       "<ellipse fill=\"none\" stroke=\"black\" cx=\"71.2\" cy=\"-20\" rx=\"27\" ry=\"18\"/>\n",
       "<text text-anchor=\"middle\" x=\"71.2\" y=\"-14.95\" font-family=\"Times,serif\" font-size=\"14.00\">q0</text>\n",
       "</g>\n",
       "<!-- 0&#45;&gt;q0 -->\n",
       "<g id=\"edge1\" class=\"edge\">\n",
       "<title>0&#45;&gt;q0</title>\n",
       "<path fill=\"none\" stroke=\"black\" d=\"M7.42,-20C12.07,-20 21.87,-20 32.38,-20\"/>\n",
       "<polygon fill=\"black\" stroke=\"black\" points=\"32.34,-23.5 42.34,-20 32.34,-16.5 32.34,-23.5\"/>\n",
       "</g>\n",
       "<!-- q2 -->\n",
       "<g id=\"node5\" class=\"node\">\n",
       "<title>q2</title>\n",
       "<ellipse fill=\"none\" stroke=\"black\" cx=\"166.45\" cy=\"-101\" rx=\"27\" ry=\"18\"/>\n",
       "<text text-anchor=\"middle\" x=\"166.45\" y=\"-95.95\" font-family=\"Times,serif\" font-size=\"14.00\">q2</text>\n",
       "</g>\n",
       "<!-- q0&#45;&gt;q2 -->\n",
       "<g id=\"edge4\" class=\"edge\">\n",
       "<title>q0&#45;&gt;q2</title>\n",
       "<path fill=\"none\" stroke=\"black\" d=\"M88.44,-34.11C102.8,-46.58 123.95,-64.95 140.46,-79.29\"/>\n",
       "<polygon fill=\"black\" stroke=\"black\" points=\"138.09,-81.87 147.94,-85.79 142.68,-76.59 138.09,-81.87\"/>\n",
       "<text text-anchor=\"middle\" x=\"118.83\" y=\"-61.7\" font-family=\"Times,serif\" font-size=\"14.00\">𝜀</text>\n",
       "</g>\n",
       "<!-- q1 -->\n",
       "<g id=\"node9\" class=\"node\">\n",
       "<title>q1</title>\n",
       "<ellipse fill=\"none\" stroke=\"black\" cx=\"166.45\" cy=\"-47\" rx=\"27\" ry=\"18\"/>\n",
       "<text text-anchor=\"middle\" x=\"166.45\" y=\"-41.95\" font-family=\"Times,serif\" font-size=\"14.00\">q1</text>\n",
       "</g>\n",
       "<!-- q0&#45;&gt;q1 -->\n",
       "<g id=\"edge5\" class=\"edge\">\n",
       "<title>q0&#45;&gt;q1</title>\n",
       "<path fill=\"none\" stroke=\"black\" d=\"M96.21,-26.95C106.58,-29.95 118.9,-33.52 130.26,-36.81\"/>\n",
       "<polygon fill=\"black\" stroke=\"black\" points=\"129.16,-40.14 139.74,-39.56 131.11,-33.41 129.16,-40.14\"/>\n",
       "<text text-anchor=\"middle\" x=\"118.83\" y=\"-34.7\" font-family=\"Times,serif\" font-size=\"14.00\">𝜀</text>\n",
       "</g>\n",
       "<!-- q7 -->\n",
       "<g id=\"node3\" class=\"node\">\n",
       "<title>q7</title>\n",
       "<ellipse fill=\"none\" stroke=\"black\" cx=\"459.2\" cy=\"-22\" rx=\"27\" ry=\"18\"/>\n",
       "<ellipse fill=\"none\" stroke=\"black\" cx=\"459.2\" cy=\"-22\" rx=\"31\" ry=\"22\"/>\n",
       "<text text-anchor=\"middle\" x=\"459.2\" y=\"-16.95\" font-family=\"Times,serif\" font-size=\"14.00\">q7</text>\n",
       "</g>\n",
       "<!-- q7&#45;&gt;q0 -->\n",
       "<g id=\"edge2\" class=\"edge\">\n",
       "<title>q7&#45;&gt;q0</title>\n",
       "<path fill=\"none\" stroke=\"black\" d=\"M428.43,-17.4C385.86,-11.36 305.13,-1.85 236.2,-5 192.7,-6.99 142.92,-11.92 109.72,-15.59\"/>\n",
       "<polygon fill=\"black\" stroke=\"black\" points=\"109.33,-12.11 99.79,-16.71 110.11,-19.06 109.33,-12.11\"/>\n",
       "<text text-anchor=\"middle\" x=\"263.2\" y=\"-6.7\" font-family=\"Times,serif\" font-size=\"14.00\">𝜀</text>\n",
       "</g>\n",
       "<!-- q6 -->\n",
       "<g id=\"node4\" class=\"node\">\n",
       "<title>q6</title>\n",
       "<ellipse fill=\"none\" stroke=\"black\" cx=\"359.95\" cy=\"-101\" rx=\"27\" ry=\"18\"/>\n",
       "<text text-anchor=\"middle\" x=\"359.95\" y=\"-95.95\" font-family=\"Times,serif\" font-size=\"14.00\">q6</text>\n",
       "</g>\n",
       "<!-- q6&#45;&gt;q7 -->\n",
       "<g id=\"edge3\" class=\"edge\">\n",
       "<title>q6&#45;&gt;q7</title>\n",
       "<path fill=\"none\" stroke=\"black\" d=\"M377.89,-87.24C392.03,-75.75 412.51,-59.12 429.24,-45.52\"/>\n",
       "<polygon fill=\"black\" stroke=\"black\" points=\"431.36,-48.31 436.92,-39.29 426.95,-42.88 431.36,-48.31\"/>\n",
       "<text text-anchor=\"middle\" x=\"407.58\" y=\"-64.7\" font-family=\"Times,serif\" font-size=\"14.00\">𝜀</text>\n",
       "</g>\n",
       "<!-- q4 -->\n",
       "<g id=\"node6\" class=\"node\">\n",
       "<title>q4</title>\n",
       "<ellipse fill=\"none\" stroke=\"black\" cx=\"263.2\" cy=\"-101\" rx=\"27\" ry=\"18\"/>\n",
       "<text text-anchor=\"middle\" x=\"263.2\" y=\"-95.95\" font-family=\"Times,serif\" font-size=\"14.00\">q4</text>\n",
       "</g>\n",
       "<!-- q2&#45;&gt;q4 -->\n",
       "<g id=\"edge7\" class=\"edge\">\n",
       "<title>q2&#45;&gt;q4</title>\n",
       "<path fill=\"none\" stroke=\"black\" d=\"M193.84,-101C203.39,-101 214.36,-101 224.68,-101\"/>\n",
       "<polygon fill=\"black\" stroke=\"black\" points=\"224.43,-104.5 234.43,-101 224.43,-97.5 224.43,-104.5\"/>\n",
       "<text text-anchor=\"middle\" x=\"214.83\" y=\"-104.2\" font-family=\"Times,serif\" font-size=\"14.00\">a</text>\n",
       "</g>\n",
       "<!-- q4&#45;&gt;q6 -->\n",
       "<g id=\"edge8\" class=\"edge\">\n",
       "<title>q4&#45;&gt;q6</title>\n",
       "<path fill=\"none\" stroke=\"black\" d=\"M290.59,-101C300.14,-101 311.11,-101 321.43,-101\"/>\n",
       "<polygon fill=\"black\" stroke=\"black\" points=\"321.18,-104.5 331.18,-101 321.18,-97.5 321.18,-104.5\"/>\n",
       "<text text-anchor=\"middle\" x=\"311.58\" y=\"-104.2\" font-family=\"Times,serif\" font-size=\"14.00\">b</text>\n",
       "</g>\n",
       "<!-- q3 -->\n",
       "<g id=\"node7\" class=\"node\">\n",
       "<title>q3</title>\n",
       "<ellipse fill=\"none\" stroke=\"black\" cx=\"263.2\" cy=\"-47\" rx=\"27\" ry=\"18\"/>\n",
       "<text text-anchor=\"middle\" x=\"263.2\" y=\"-41.95\" font-family=\"Times,serif\" font-size=\"14.00\">q3</text>\n",
       "</g>\n",
       "<!-- q5 -->\n",
       "<g id=\"node8\" class=\"node\">\n",
       "<title>q5</title>\n",
       "<ellipse fill=\"none\" stroke=\"black\" cx=\"359.95\" cy=\"-47\" rx=\"27\" ry=\"18\"/>\n",
       "<text text-anchor=\"middle\" x=\"359.95\" y=\"-41.95\" font-family=\"Times,serif\" font-size=\"14.00\">q5</text>\n",
       "</g>\n",
       "<!-- q3&#45;&gt;q5 -->\n",
       "<g id=\"edge9\" class=\"edge\">\n",
       "<title>q3&#45;&gt;q5</title>\n",
       "<path fill=\"none\" stroke=\"black\" d=\"M290.59,-47C300.14,-47 311.11,-47 321.43,-47\"/>\n",
       "<polygon fill=\"black\" stroke=\"black\" points=\"321.18,-50.5 331.18,-47 321.18,-43.5 321.18,-50.5\"/>\n",
       "<text text-anchor=\"middle\" x=\"311.58\" y=\"-50.2\" font-family=\"Times,serif\" font-size=\"14.00\">a</text>\n",
       "</g>\n",
       "<!-- q5&#45;&gt;q7 -->\n",
       "<g id=\"edge6\" class=\"edge\">\n",
       "<title>q5&#45;&gt;q7</title>\n",
       "<path fill=\"none\" stroke=\"black\" d=\"M385.74,-40.63C395.79,-38.04 407.63,-35 418.81,-32.13\"/>\n",
       "<polygon fill=\"black\" stroke=\"black\" points=\"419.38,-35.59 428.2,-29.71 417.64,-28.81 419.38,-35.59\"/>\n",
       "<text text-anchor=\"middle\" x=\"407.58\" y=\"-36.7\" font-family=\"Times,serif\" font-size=\"14.00\">𝜀</text>\n",
       "</g>\n",
       "<!-- q1&#45;&gt;q3 -->\n",
       "<g id=\"edge10\" class=\"edge\">\n",
       "<title>q1&#45;&gt;q3</title>\n",
       "<path fill=\"none\" stroke=\"black\" d=\"M193.84,-47C203.39,-47 214.36,-47 224.68,-47\"/>\n",
       "<polygon fill=\"black\" stroke=\"black\" points=\"224.43,-50.5 234.43,-47 224.43,-43.5 224.43,-50.5\"/>\n",
       "<text text-anchor=\"middle\" x=\"214.83\" y=\"-50.2\" font-family=\"Times,serif\" font-size=\"14.00\">b</text>\n",
       "</g>\n",
       "</g>\n",
       "</svg>\n"
      ],
      "text/plain": [
       "<graphviz.graphs.Digraph at 0x1061b1af0>"
      ]
     },
     "execution_count": 9,
     "metadata": {},
     "output_type": "execute_result"
    }
   ],
   "source": [
    "d"
   ]
  },
  {
   "cell_type": "markdown",
   "metadata": {},
   "source": [
    "This recognizes the same language as the language described by\n",
    "$$ (a + b)^* \\cdot b \\cdot (a + b)  \\cdot (a + b) $$\n",
    "Let us convert it into a deterministic <span style=\"font-variant:small-caps;\">Fsm</span>: "
   ]
  },
  {
   "cell_type": "code",
   "execution_count": 10,
   "metadata": {},
   "outputs": [],
   "source": [
    "dfa44 = nfa2dfa(nfa44)"
   ]
  },
  {
   "cell_type": "markdown",
   "metadata": {},
   "source": [
    "The function `dfa2dot`can be used to render this <span style=\"font-variant:small-caps;\">Fsm</span>."
   ]
  },
  {
   "cell_type": "code",
   "execution_count": 11,
   "metadata": {},
   "outputs": [
    {
     "data": {
      "image/svg+xml": [
       "<?xml version=\"1.0\" encoding=\"UTF-8\" standalone=\"no\"?>\n",
       "<!DOCTYPE svg PUBLIC \"-//W3C//DTD SVG 1.1//EN\"\n",
       " \"http://www.w3.org/Graphics/SVG/1.1/DTD/svg11.dtd\">\n",
       "<!-- Generated by graphviz version 12.0.0 (0)\n",
       " -->\n",
       "<!-- Title: Deterministic FSM Pages: 1 -->\n",
       "<svg width=\"509pt\" height=\"222pt\"\n",
       " viewBox=\"0.00 0.00 509.20 222.00\" xmlns=\"http://www.w3.org/2000/svg\" xmlns:xlink=\"http://www.w3.org/1999/xlink\">\n",
       "<g id=\"graph0\" class=\"graph\" transform=\"scale(1 1) rotate(0) translate(4 218)\">\n",
       "<title>Deterministic FSM</title>\n",
       "<polygon fill=\"white\" stroke=\"none\" points=\"-4,4 -4,-218 505.2,-218 505.2,4 -4,4\"/>\n",
       "<!-- 1 -->\n",
       "<g id=\"node1\" class=\"node\">\n",
       "<title>1</title>\n",
       "<ellipse fill=\"blue\" stroke=\"blue\" cx=\"3.6\" cy=\"-18\" rx=\"3.6\" ry=\"3.6\"/>\n",
       "</g>\n",
       "<!-- S1 -->\n",
       "<g id=\"node2\" class=\"node\">\n",
       "<title>S1</title>\n",
       "<ellipse fill=\"none\" stroke=\"black\" cx=\"71.2\" cy=\"-18\" rx=\"27\" ry=\"18\"/>\n",
       "<text text-anchor=\"middle\" x=\"71.2\" y=\"-12.95\" font-family=\"Times,serif\" font-size=\"14.00\">S1</text>\n",
       "</g>\n",
       "<!-- 1&#45;&gt;S1 -->\n",
       "<g id=\"edge1\" class=\"edge\">\n",
       "<title>1&#45;&gt;S1</title>\n",
       "<path fill=\"none\" stroke=\"black\" d=\"M7.42,-18C12.07,-18 21.87,-18 32.38,-18\"/>\n",
       "<polygon fill=\"black\" stroke=\"black\" points=\"32.34,-21.5 42.34,-18 32.34,-14.5 32.34,-21.5\"/>\n",
       "</g>\n",
       "<!-- S0 -->\n",
       "<g id=\"node3\" class=\"node\">\n",
       "<title>S0</title>\n",
       "<ellipse fill=\"none\" stroke=\"black\" cx=\"167.95\" cy=\"-82\" rx=\"27\" ry=\"18\"/>\n",
       "<text text-anchor=\"middle\" x=\"167.95\" y=\"-76.95\" font-family=\"Times,serif\" font-size=\"14.00\">S0</text>\n",
       "</g>\n",
       "<!-- S1&#45;&gt;S0 -->\n",
       "<g id=\"edge5\" class=\"edge\">\n",
       "<title>S1&#45;&gt;S0</title>\n",
       "<path fill=\"none\" stroke=\"black\" d=\"M90.92,-30.64C104.68,-39.94 123.59,-52.72 139.12,-63.2\"/>\n",
       "<polygon fill=\"black\" stroke=\"black\" points=\"136.77,-65.84 147.02,-68.53 140.69,-60.04 136.77,-65.84\"/>\n",
       "<text text-anchor=\"middle\" x=\"119.58\" y=\"-54.2\" font-family=\"Times,serif\" font-size=\"14.00\">b</text>\n",
       "</g>\n",
       "<!-- S4 -->\n",
       "<g id=\"node6\" class=\"node\">\n",
       "<title>S4</title>\n",
       "<ellipse fill=\"none\" stroke=\"black\" cx=\"369.45\" cy=\"-42\" rx=\"27\" ry=\"18\"/>\n",
       "<text text-anchor=\"middle\" x=\"369.45\" y=\"-36.95\" font-family=\"Times,serif\" font-size=\"14.00\">S4</text>\n",
       "</g>\n",
       "<!-- S1&#45;&gt;S4 -->\n",
       "<g id=\"edge4\" class=\"edge\">\n",
       "<title>S1&#45;&gt;S4</title>\n",
       "<path fill=\"none\" stroke=\"black\" d=\"M98.33,-15.96C140.84,-13.18 227.5,-9.73 299.7,-21 311.32,-22.81 323.71,-26.14 334.72,-29.62\"/>\n",
       "<polygon fill=\"black\" stroke=\"black\" points=\"333.57,-32.92 344.17,-32.76 335.78,-26.28 333.57,-32.92\"/>\n",
       "<text text-anchor=\"middle\" x=\"216.33\" y=\"-16.2\" font-family=\"Times,serif\" font-size=\"14.00\">a</text>\n",
       "</g>\n",
       "<!-- S2 -->\n",
       "<g id=\"node4\" class=\"node\">\n",
       "<title>S2</title>\n",
       "<ellipse fill=\"none\" stroke=\"black\" cx=\"268.7\" cy=\"-52\" rx=\"27\" ry=\"18\"/>\n",
       "<ellipse fill=\"none\" stroke=\"black\" cx=\"268.7\" cy=\"-52\" rx=\"31\" ry=\"22\"/>\n",
       "<text text-anchor=\"middle\" x=\"268.7\" y=\"-46.95\" font-family=\"Times,serif\" font-size=\"14.00\">S2</text>\n",
       "</g>\n",
       "<!-- S0&#45;&gt;S2 -->\n",
       "<g id=\"edge2\" class=\"edge\">\n",
       "<title>S0&#45;&gt;S2</title>\n",
       "<path fill=\"none\" stroke=\"black\" d=\"M181.83,-66.18C189.79,-57.69 200.79,-48.07 212.95,-43.5 218.08,-41.57 223.64,-40.92 229.19,-41.08\"/>\n",
       "<polygon fill=\"black\" stroke=\"black\" points=\"228.56,-44.53 238.9,-42.21 229.37,-37.58 228.56,-44.53\"/>\n",
       "<text text-anchor=\"middle\" x=\"216.33\" y=\"-46.2\" font-family=\"Times,serif\" font-size=\"14.00\">a</text>\n",
       "</g>\n",
       "<!-- S5 -->\n",
       "<g id=\"node7\" class=\"node\">\n",
       "<title>S5</title>\n",
       "<ellipse fill=\"none\" stroke=\"black\" cx=\"470.2\" cy=\"-127\" rx=\"27\" ry=\"18\"/>\n",
       "<text text-anchor=\"middle\" x=\"470.2\" y=\"-121.95\" font-family=\"Times,serif\" font-size=\"14.00\">S5</text>\n",
       "</g>\n",
       "<!-- S0&#45;&gt;S5 -->\n",
       "<g id=\"edge3\" class=\"edge\">\n",
       "<title>S0&#45;&gt;S5</title>\n",
       "<path fill=\"none\" stroke=\"black\" d=\"M189.69,-93.18C196.94,-96.87 205.2,-100.83 212.95,-104 223.65,-108.38 226.48,-109.22 237.7,-112 272.74,-120.68 281.75,-122.76 317.7,-126 356.32,-129.48 400.7,-129.29 431.4,-128.49\"/>\n",
       "<polygon fill=\"black\" stroke=\"black\" points=\"431.46,-131.99 441.35,-128.2 431.25,-125 431.46,-131.99\"/>\n",
       "<text text-anchor=\"middle\" x=\"321.08\" y=\"-129.2\" font-family=\"Times,serif\" font-size=\"14.00\">b</text>\n",
       "</g>\n",
       "<!-- S2&#45;&gt;S0 -->\n",
       "<g id=\"edge7\" class=\"edge\">\n",
       "<title>S2&#45;&gt;S0</title>\n",
       "<path fill=\"none\" stroke=\"black\" d=\"M239.59,-60.54C228.48,-63.92 215.58,-67.83 203.87,-71.39\"/>\n",
       "<polygon fill=\"black\" stroke=\"black\" points=\"203.11,-67.97 194.56,-74.22 205.14,-74.66 203.11,-67.97\"/>\n",
       "<text text-anchor=\"middle\" x=\"216.33\" y=\"-70.2\" font-family=\"Times,serif\" font-size=\"14.00\">b</text>\n",
       "</g>\n",
       "<!-- S2&#45;&gt;S4 -->\n",
       "<g id=\"edge6\" class=\"edge\">\n",
       "<title>S2&#45;&gt;S4</title>\n",
       "<path fill=\"none\" stroke=\"black\" d=\"M299.86,-48.95C309.76,-47.94 320.86,-46.82 331.21,-45.77\"/>\n",
       "<polygon fill=\"black\" stroke=\"black\" points=\"331.37,-49.27 340.97,-44.78 330.66,-42.31 331.37,-49.27\"/>\n",
       "<text text-anchor=\"middle\" x=\"321.08\" y=\"-50.2\" font-family=\"Times,serif\" font-size=\"14.00\">a</text>\n",
       "</g>\n",
       "<!-- S3 -->\n",
       "<g id=\"node5\" class=\"node\">\n",
       "<title>S3</title>\n",
       "<ellipse fill=\"none\" stroke=\"black\" cx=\"470.2\" cy=\"-42\" rx=\"27\" ry=\"18\"/>\n",
       "<ellipse fill=\"none\" stroke=\"black\" cx=\"470.2\" cy=\"-42\" rx=\"31\" ry=\"22\"/>\n",
       "<text text-anchor=\"middle\" x=\"470.2\" y=\"-36.95\" font-family=\"Times,serif\" font-size=\"14.00\">S3</text>\n",
       "</g>\n",
       "<!-- S3&#45;&gt;S0 -->\n",
       "<g id=\"edge9\" class=\"edge\">\n",
       "<title>S3&#45;&gt;S0</title>\n",
       "<path fill=\"none\" stroke=\"black\" d=\"M458.41,-62.71C450.19,-76.07 437.52,-92.32 421.2,-100 383.96,-117.52 265.95,-99.72 205.47,-88.94\"/>\n",
       "<polygon fill=\"black\" stroke=\"black\" points=\"206.13,-85.5 195.67,-87.16 204.88,-92.39 206.13,-85.5\"/>\n",
       "<text text-anchor=\"middle\" x=\"321.08\" y=\"-108.2\" font-family=\"Times,serif\" font-size=\"14.00\">b</text>\n",
       "</g>\n",
       "<!-- S3&#45;&gt;S4 -->\n",
       "<g id=\"edge8\" class=\"edge\">\n",
       "<title>S3&#45;&gt;S4</title>\n",
       "<path fill=\"none\" stroke=\"black\" d=\"M438.82,-42C429.19,-42 418.42,-42 408.34,-42\"/>\n",
       "<polygon fill=\"black\" stroke=\"black\" points=\"408.43,-38.5 398.43,-42 408.43,-45.5 408.43,-38.5\"/>\n",
       "<text text-anchor=\"middle\" x=\"417.83\" y=\"-45.2\" font-family=\"Times,serif\" font-size=\"14.00\">a</text>\n",
       "</g>\n",
       "<!-- S4&#45;&gt;S3 -->\n",
       "<g id=\"edge11\" class=\"edge\">\n",
       "<title>S4&#45;&gt;S3</title>\n",
       "<path fill=\"none\" stroke=\"black\" d=\"M390.39,-30.47C397.71,-26.85 406.22,-23.32 414.45,-21.5 421.6,-19.92 429.08,-20.85 436.12,-23.02\"/>\n",
       "<polygon fill=\"black\" stroke=\"black\" points=\"434.73,-26.24 445.32,-26.69 437.32,-19.73 434.73,-26.24\"/>\n",
       "<text text-anchor=\"middle\" x=\"417.83\" y=\"-24.2\" font-family=\"Times,serif\" font-size=\"14.00\">b</text>\n",
       "</g>\n",
       "<!-- S4&#45;&gt;S5 -->\n",
       "<g id=\"edge10\" class=\"edge\">\n",
       "<title>S4&#45;&gt;S5</title>\n",
       "<path fill=\"none\" stroke=\"black\" d=\"M386.76,-56.04C402.48,-69.57 426.48,-90.23 444.54,-105.78\"/>\n",
       "<polygon fill=\"black\" stroke=\"black\" points=\"441.86,-108.08 451.72,-111.96 446.43,-102.78 441.86,-108.08\"/>\n",
       "<text text-anchor=\"middle\" x=\"417.83\" y=\"-87.2\" font-family=\"Times,serif\" font-size=\"14.00\">a</text>\n",
       "</g>\n",
       "<!-- S5&#45;&gt;S5 -->\n",
       "<g id=\"edge12\" class=\"edge\">\n",
       "<title>S5&#45;&gt;S5</title>\n",
       "<path fill=\"none\" stroke=\"black\" d=\"M465.46,-145.15C464.73,-154.54 466.31,-163 470.2,-163 472.33,-163 473.76,-160.47 474.51,-156.64\"/>\n",
       "<polygon fill=\"black\" stroke=\"black\" points=\"478,-156.79 474.88,-146.67 471.01,-156.53 478,-156.79\"/>\n",
       "<text text-anchor=\"middle\" x=\"470.2\" y=\"-166.2\" font-family=\"Times,serif\" font-size=\"14.00\">a</text>\n",
       "</g>\n",
       "<!-- S5&#45;&gt;S5 -->\n",
       "<g id=\"edge13\" class=\"edge\">\n",
       "<title>S5&#45;&gt;S5</title>\n",
       "<path fill=\"none\" stroke=\"black\" d=\"M462.4,-144.7C458.09,-162 460.69,-181 470.2,-181 477.71,-181 480.91,-169.17 479.81,-155.68\"/>\n",
       "<polygon fill=\"black\" stroke=\"black\" points=\"483.33,-155.49 478.25,-146.19 476.42,-156.63 483.33,-155.49\"/>\n",
       "<text text-anchor=\"middle\" x=\"470.2\" y=\"-184.2\" font-family=\"Times,serif\" font-size=\"14.00\">b</text>\n",
       "</g>\n",
       "</g>\n",
       "</svg>\n"
      ],
      "text/plain": [
       "<graphviz.graphs.Digraph at 0x10a47ad80>"
      ]
     },
     "execution_count": 11,
     "metadata": {},
     "output_type": "execute_result"
    }
   ],
   "source": [
    "dot, states2Names = dfa2dot(dfa44)\n",
    "dot"
   ]
  },
  {
   "cell_type": "markdown",
   "metadata": {},
   "source": [
    "In order to inspect the states of this deterministic <span style=\"font-variant:small-caps;\">Fsm</span> we print the dictionary  `states2Names`."
   ]
  },
  {
   "cell_type": "code",
   "execution_count": 12,
   "metadata": {},
   "outputs": [
    {
     "data": {
      "text/plain": [
       "{frozenset({'q3'}): 'S0',\n",
       " frozenset({'q0', 'q1', 'q2'}): 'S1',\n",
       " frozenset({'q0', 'q1', 'q2', 'q5', 'q7'}): 'S2',\n",
       " frozenset({'q0', 'q1', 'q2', 'q6', 'q7'}): 'S3',\n",
       " frozenset({'q4'}): 'S4',\n",
       " frozenset(): 'S5'}"
      ]
     },
     "execution_count": 12,
     "metadata": {},
     "output_type": "execute_result"
    }
   ],
   "source": [
    "states2Names"
   ]
  },
  {
   "cell_type": "markdown",
   "metadata": {},
   "source": [
    "We can also print the <span style=\"font-variant:small-caps;\">Fsm</span>."
   ]
  },
  {
   "cell_type": "code",
   "execution_count": 13,
   "metadata": {},
   "outputs": [
    {
     "data": {
      "text/plain": [
       "({frozenset(),\n",
       "  frozenset({'q3'}),\n",
       "  frozenset({'q0', 'q1', 'q2'}),\n",
       "  frozenset({'q0', 'q1', 'q2', 'q5', 'q7'}),\n",
       "  frozenset({'q0', 'q1', 'q2', 'q6', 'q7'}),\n",
       "  frozenset({'q4'})},\n",
       " {'a', 'b'},\n",
       " {(frozenset({'q3'}), 'a'): frozenset({'q0', 'q1', 'q2', 'q5', 'q7'}),\n",
       "  (frozenset({'q3'}), 'b'): frozenset(),\n",
       "  (frozenset({'q0', 'q1', 'q2'}), 'a'): frozenset({'q4'}),\n",
       "  (frozenset({'q0', 'q1', 'q2'}), 'b'): frozenset({'q3'}),\n",
       "  (frozenset({'q0', 'q1', 'q2', 'q5', 'q7'}), 'a'): frozenset({'q4'}),\n",
       "  (frozenset({'q0', 'q1', 'q2', 'q5', 'q7'}), 'b'): frozenset({'q3'}),\n",
       "  (frozenset({'q0', 'q1', 'q2', 'q6', 'q7'}), 'a'): frozenset({'q4'}),\n",
       "  (frozenset({'q0', 'q1', 'q2', 'q6', 'q7'}), 'b'): frozenset({'q3'}),\n",
       "  (frozenset({'q4'}), 'a'): frozenset(),\n",
       "  (frozenset({'q4'}), 'b'): frozenset({'q0', 'q1', 'q2', 'q6', 'q7'}),\n",
       "  (frozenset(), 'a'): frozenset(),\n",
       "  (frozenset(), 'b'): frozenset()},\n",
       " frozenset({'q0', 'q1', 'q2'}),\n",
       " {frozenset({'q0', 'q1', 'q2', 'q5', 'q7'}),\n",
       "  frozenset({'q0', 'q1', 'q2', 'q6', 'q7'})})"
      ]
     },
     "execution_count": 13,
     "metadata": {},
     "output_type": "execute_result"
    }
   ],
   "source": [
    "dfa44"
   ]
  },
  {
   "cell_type": "code",
   "execution_count": null,
   "metadata": {},
   "outputs": [],
   "source": []
  }
 ],
 "metadata": {
  "kernelspec": {
   "display_name": "Python 3 (ipykernel)",
   "language": "python",
   "name": "python3"
  },
  "language_info": {
   "codemirror_mode": {
    "name": "ipython",
    "version": 3
   },
   "file_extension": ".py",
   "mimetype": "text/x-python",
   "name": "python",
   "nbconvert_exporter": "python",
   "pygments_lexer": "ipython3",
   "version": "3.12.6"
  },
  "varInspector": {
   "cols": {
    "lenName": 16,
    "lenType": 16,
    "lenVar": 40
   },
   "kernels_config": {
    "python": {
     "delete_cmd_postfix": "",
     "delete_cmd_prefix": "del ",
     "library": "var_list.py",
     "varRefreshCmd": "print(var_dic_list())"
    },
    "r": {
     "delete_cmd_postfix": ") ",
     "delete_cmd_prefix": "rm(",
     "library": "var_list.r",
     "varRefreshCmd": "cat(var_dic_list()) "
    }
   },
   "types_to_exclude": [
    "module",
    "function",
    "builtin_function_or_method",
    "instance",
    "_Feature"
   ],
   "window_display": false
  }
 },
 "nbformat": 4,
 "nbformat_minor": 4
}
