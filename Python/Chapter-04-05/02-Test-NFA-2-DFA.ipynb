{
 "cells": [
  {
   "cell_type": "markdown",
   "metadata": {},
   "source": [
    "This notebook is used to test the conversion of non-deterministic <span style=\"font-variant:small-caps;\">Fsm</span>s into deterministic <span style=\"font-variant:small-caps;\">Fsm</span>s."
   ]
  },
  {
   "cell_type": "code",
   "execution_count": 1,
   "metadata": {},
   "outputs": [
    {
     "name": "stdout",
     "output_type": "stream",
     "text": [
      "Requirement already satisfied: mypy in /Users/stroetmann/opt/anaconda3/envs/fl/lib/python3.12/site-packages (1.12.0)\n",
      "Requirement already satisfied: typing-extensions>=4.6.0 in /Users/stroetmann/opt/anaconda3/envs/fl/lib/python3.12/site-packages (from mypy) (4.12.2)\n",
      "Requirement already satisfied: mypy-extensions>=1.0.0 in /Users/stroetmann/opt/anaconda3/envs/fl/lib/python3.12/site-packages (from mypy) (1.0.0)\n",
      "Requirement already satisfied: nb_mypy in /Users/stroetmann/opt/anaconda3/envs/fl/lib/python3.12/site-packages (1.0.5)\n",
      "Requirement already satisfied: astor<1,>=0.8 in /Users/stroetmann/opt/anaconda3/envs/fl/lib/python3.12/site-packages (from nb_mypy) (0.8.1)\n",
      "Requirement already satisfied: mypy<2,>=1 in /Users/stroetmann/opt/anaconda3/envs/fl/lib/python3.12/site-packages (from nb_mypy) (1.12.0)\n",
      "Requirement already satisfied: ipython<9,>=8.0 in /Users/stroetmann/opt/anaconda3/envs/fl/lib/python3.12/site-packages (from nb_mypy) (8.27.0)\n",
      "Requirement already satisfied: decorator in /Users/stroetmann/opt/anaconda3/envs/fl/lib/python3.12/site-packages (from ipython<9,>=8.0->nb_mypy) (5.1.1)\n",
      "Requirement already satisfied: jedi>=0.16 in /Users/stroetmann/opt/anaconda3/envs/fl/lib/python3.12/site-packages (from ipython<9,>=8.0->nb_mypy) (0.19.1)\n",
      "Requirement already satisfied: matplotlib-inline in /Users/stroetmann/opt/anaconda3/envs/fl/lib/python3.12/site-packages (from ipython<9,>=8.0->nb_mypy) (0.1.7)\n",
      "Requirement already satisfied: prompt-toolkit<3.1.0,>=3.0.41 in /Users/stroetmann/opt/anaconda3/envs/fl/lib/python3.12/site-packages (from ipython<9,>=8.0->nb_mypy) (3.0.48)\n",
      "Requirement already satisfied: pygments>=2.4.0 in /Users/stroetmann/opt/anaconda3/envs/fl/lib/python3.12/site-packages (from ipython<9,>=8.0->nb_mypy) (2.18.0)\n",
      "Requirement already satisfied: stack-data in /Users/stroetmann/opt/anaconda3/envs/fl/lib/python3.12/site-packages (from ipython<9,>=8.0->nb_mypy) (0.6.2)\n",
      "Requirement already satisfied: traitlets>=5.13.0 in /Users/stroetmann/opt/anaconda3/envs/fl/lib/python3.12/site-packages (from ipython<9,>=8.0->nb_mypy) (5.14.3)\n",
      "Requirement already satisfied: pexpect>4.3 in /Users/stroetmann/opt/anaconda3/envs/fl/lib/python3.12/site-packages (from ipython<9,>=8.0->nb_mypy) (4.9.0)\n",
      "Requirement already satisfied: typing-extensions>=4.6.0 in /Users/stroetmann/opt/anaconda3/envs/fl/lib/python3.12/site-packages (from mypy<2,>=1->nb_mypy) (4.12.2)\n",
      "Requirement already satisfied: mypy-extensions>=1.0.0 in /Users/stroetmann/opt/anaconda3/envs/fl/lib/python3.12/site-packages (from mypy<2,>=1->nb_mypy) (1.0.0)\n",
      "Requirement already satisfied: parso<0.9.0,>=0.8.3 in /Users/stroetmann/opt/anaconda3/envs/fl/lib/python3.12/site-packages (from jedi>=0.16->ipython<9,>=8.0->nb_mypy) (0.8.4)\n",
      "Requirement already satisfied: ptyprocess>=0.5 in /Users/stroetmann/opt/anaconda3/envs/fl/lib/python3.12/site-packages (from pexpect>4.3->ipython<9,>=8.0->nb_mypy) (0.7.0)\n",
      "Requirement already satisfied: wcwidth in /Users/stroetmann/opt/anaconda3/envs/fl/lib/python3.12/site-packages (from prompt-toolkit<3.1.0,>=3.0.41->ipython<9,>=8.0->nb_mypy) (0.2.13)\n",
      "Requirement already satisfied: executing>=1.2.0 in /Users/stroetmann/opt/anaconda3/envs/fl/lib/python3.12/site-packages (from stack-data->ipython<9,>=8.0->nb_mypy) (2.1.0)\n",
      "Requirement already satisfied: asttokens>=2.1.0 in /Users/stroetmann/opt/anaconda3/envs/fl/lib/python3.12/site-packages (from stack-data->ipython<9,>=8.0->nb_mypy) (2.4.1)\n",
      "Requirement already satisfied: pure-eval in /Users/stroetmann/opt/anaconda3/envs/fl/lib/python3.12/site-packages (from stack-data->ipython<9,>=8.0->nb_mypy) (0.2.3)\n",
      "Requirement already satisfied: six>=1.12.0 in /Users/stroetmann/opt/anaconda3/envs/fl/lib/python3.12/site-packages (from asttokens>=2.1.0->stack-data->ipython<9,>=8.0->nb_mypy) (1.16.0)\n"
     ]
    },
    {
     "name": "stderr",
     "output_type": "stream",
     "text": [
      "Version 1.0.5\n"
     ]
    }
   ],
   "source": [
    "%run 01-NFA-2-DFA.ipynb"
   ]
  },
  {
   "cell_type": "markdown",
   "metadata": {},
   "source": [
    "Unfortunately, the `%run` magic does not work with the `mypy`extension for notebooks.  \n",
    "Hence we have to switch it off."
   ]
  },
  {
   "cell_type": "code",
   "execution_count": 2,
   "metadata": {},
   "outputs": [],
   "source": [
    "%nb_mypy Off"
   ]
  },
  {
   "cell_type": "markdown",
   "metadata": {},
   "source": [
    "In order to represent the <span style=\"font-variant:small-caps;\">Fsm</span>s graphically, we use the notebook `FSM-2-Dot.ipynb`.  This notebook uses the package `graphviz`, wich can be installed by the following commands."
   ]
  },
  {
   "cell_type": "markdown",
   "metadata": {},
   "source": [
    "!conda install -y -c  anaconda graphviz\n",
    "!conda install -y -c  anaconda python-graphviz"
   ]
  },
  {
   "cell_type": "code",
   "execution_count": 4,
   "metadata": {},
   "outputs": [],
   "source": [
    "%run FSM-2-Dot.ipynb"
   ]
  },
  {
   "cell_type": "code",
   "execution_count": 5,
   "metadata": {},
   "outputs": [
    {
     "data": {
      "text/plain": [
       "{'q0', 'q1', 'q2', 'q3', 'q4', 'q5', 'q6', 'q7'}"
      ]
     },
     "execution_count": 5,
     "metadata": {},
     "output_type": "execute_result"
    }
   ],
   "source": [
    "States = { 'q' + str(i) for i in range(8) }\n",
    "States"
   ]
  },
  {
   "cell_type": "code",
   "execution_count": 6,
   "metadata": {},
   "outputs": [],
   "source": [
    "Σ = { 'a', 'b' }"
   ]
  },
  {
   "cell_type": "code",
   "execution_count": 7,
   "metadata": {},
   "outputs": [],
   "source": [
    "δ = {\n",
    "    ('q0',  '𝜀'): { 'q1', 'q2'},\n",
    "    ('q1', 'b'): { 'q3' },\n",
    "    ('q2', 'a'): { 'q4' },\n",
    "    ('q3', 'a'): { 'q5' },\n",
    "    ('q4', 'b'): { 'q6' },\n",
    "    ('q5',  '𝜀'): { 'q7' },\n",
    "    ('q6',  '𝜀'): { 'q7' },\n",
    "    ('q7',  '𝜀'): { 'q0' }\n",
    "}"
   ]
  },
  {
   "cell_type": "markdown",
   "metadata": {},
   "source": [
    "States = {'4', '1', '2', '3'}\n",
    "δ = {\n",
    "    ('4', 'a'): {'4'},\n",
    "    ('4', 'b'): {'4','1'},\n",
    "    ('1', 'a'): {'2'},\n",
    "    ('1', 'b'): {'2'},\n",
    "    ('2', 'a'): {'3'},\n",
    "    ('2', 'b'): {'3'}\n",
    "}"
   ]
  },
  {
   "cell_type": "markdown",
   "metadata": {},
   "source": [
    "The non-deterministic <span style=\"font-variant:small-caps;\">Fsm</span> defined below is taken from the lecture notes."
   ]
  },
  {
   "cell_type": "code",
   "execution_count": 8,
   "metadata": {},
   "outputs": [],
   "source": [
    "nfa44 = States, Σ, δ, 'q0', { 'q7' }"
   ]
  },
  {
   "cell_type": "markdown",
   "metadata": {},
   "source": [
    "The function `nfa2dot`can be used to render this <span style=\"font-variant:small-caps;\">Fsm</span>."
   ]
  },
  {
   "cell_type": "code",
   "execution_count": 9,
   "metadata": {},
   "outputs": [],
   "source": [
    "d = nfa2dot(nfa44)"
   ]
  },
  {
   "cell_type": "code",
   "execution_count": 10,
   "metadata": {},
   "outputs": [
    {
     "data": {
      "image/svg+xml": [
       "<?xml version=\"1.0\" encoding=\"UTF-8\" standalone=\"no\"?>\n",
       "<!DOCTYPE svg PUBLIC \"-//W3C//DTD SVG 1.1//EN\"\n",
       " \"http://www.w3.org/Graphics/SVG/1.1/DTD/svg11.dtd\">\n",
       "<!-- Generated by graphviz version 12.0.0 (0)\n",
       " -->\n",
       "<!-- Title: Non&#45;Deterministic FSM Pages: 1 -->\n",
       "<svg width=\"498pt\" height=\"127pt\"\n",
       " viewBox=\"0.00 0.00 498.20 127.00\" xmlns=\"http://www.w3.org/2000/svg\" xmlns:xlink=\"http://www.w3.org/1999/xlink\">\n",
       "<g id=\"graph0\" class=\"graph\" transform=\"scale(1 1) rotate(0) translate(4 123)\">\n",
       "<title>Non&#45;Deterministic FSM</title>\n",
       "<polygon fill=\"white\" stroke=\"none\" points=\"-4,4 -4,-123 494.2,-123 494.2,4 -4,4\"/>\n",
       "<!-- 0 -->\n",
       "<g id=\"node1\" class=\"node\">\n",
       "<title>0</title>\n",
       "<ellipse fill=\"blue\" stroke=\"blue\" cx=\"3.6\" cy=\"-20\" rx=\"3.6\" ry=\"3.6\"/>\n",
       "</g>\n",
       "<!-- q0 -->\n",
       "<g id=\"node2\" class=\"node\">\n",
       "<title>q0</title>\n",
       "<ellipse fill=\"none\" stroke=\"black\" cx=\"71.2\" cy=\"-20\" rx=\"27\" ry=\"18\"/>\n",
       "<text text-anchor=\"middle\" x=\"71.2\" y=\"-14.95\" font-family=\"Times,serif\" font-size=\"14.00\">q0</text>\n",
       "</g>\n",
       "<!-- 0&#45;&gt;q0 -->\n",
       "<g id=\"edge1\" class=\"edge\">\n",
       "<title>0&#45;&gt;q0</title>\n",
       "<path fill=\"none\" stroke=\"black\" d=\"M7.42,-20C12.07,-20 21.87,-20 32.38,-20\"/>\n",
       "<polygon fill=\"black\" stroke=\"black\" points=\"32.34,-23.5 42.34,-20 32.34,-16.5 32.34,-23.5\"/>\n",
       "</g>\n",
       "<!-- q2 -->\n",
       "<g id=\"node3\" class=\"node\">\n",
       "<title>q2</title>\n",
       "<ellipse fill=\"none\" stroke=\"black\" cx=\"166.45\" cy=\"-101\" rx=\"27\" ry=\"18\"/>\n",
       "<text text-anchor=\"middle\" x=\"166.45\" y=\"-95.95\" font-family=\"Times,serif\" font-size=\"14.00\">q2</text>\n",
       "</g>\n",
       "<!-- q0&#45;&gt;q2 -->\n",
       "<g id=\"edge2\" class=\"edge\">\n",
       "<title>q0&#45;&gt;q2</title>\n",
       "<path fill=\"none\" stroke=\"black\" d=\"M88.44,-34.11C102.8,-46.58 123.95,-64.95 140.46,-79.29\"/>\n",
       "<polygon fill=\"black\" stroke=\"black\" points=\"138.09,-81.87 147.94,-85.79 142.68,-76.59 138.09,-81.87\"/>\n",
       "<text text-anchor=\"middle\" x=\"118.83\" y=\"-61.7\" font-family=\"Times,serif\" font-size=\"14.00\">𝜀</text>\n",
       "</g>\n",
       "<!-- q1 -->\n",
       "<g id=\"node5\" class=\"node\">\n",
       "<title>q1</title>\n",
       "<ellipse fill=\"none\" stroke=\"black\" cx=\"166.45\" cy=\"-47\" rx=\"27\" ry=\"18\"/>\n",
       "<text text-anchor=\"middle\" x=\"166.45\" y=\"-41.95\" font-family=\"Times,serif\" font-size=\"14.00\">q1</text>\n",
       "</g>\n",
       "<!-- q0&#45;&gt;q1 -->\n",
       "<g id=\"edge3\" class=\"edge\">\n",
       "<title>q0&#45;&gt;q1</title>\n",
       "<path fill=\"none\" stroke=\"black\" d=\"M96.21,-26.95C106.58,-29.95 118.9,-33.52 130.26,-36.81\"/>\n",
       "<polygon fill=\"black\" stroke=\"black\" points=\"129.16,-40.14 139.74,-39.56 131.11,-33.41 129.16,-40.14\"/>\n",
       "<text text-anchor=\"middle\" x=\"118.83\" y=\"-34.7\" font-family=\"Times,serif\" font-size=\"14.00\">𝜀</text>\n",
       "</g>\n",
       "<!-- q4 -->\n",
       "<g id=\"node4\" class=\"node\">\n",
       "<title>q4</title>\n",
       "<ellipse fill=\"none\" stroke=\"black\" cx=\"263.2\" cy=\"-101\" rx=\"27\" ry=\"18\"/>\n",
       "<text text-anchor=\"middle\" x=\"263.2\" y=\"-95.95\" font-family=\"Times,serif\" font-size=\"14.00\">q4</text>\n",
       "</g>\n",
       "<!-- q2&#45;&gt;q4 -->\n",
       "<g id=\"edge7\" class=\"edge\">\n",
       "<title>q2&#45;&gt;q4</title>\n",
       "<path fill=\"none\" stroke=\"black\" d=\"M193.84,-101C203.39,-101 214.36,-101 224.68,-101\"/>\n",
       "<polygon fill=\"black\" stroke=\"black\" points=\"224.43,-104.5 234.43,-101 224.43,-97.5 224.43,-104.5\"/>\n",
       "<text text-anchor=\"middle\" x=\"214.83\" y=\"-104.2\" font-family=\"Times,serif\" font-size=\"14.00\">a</text>\n",
       "</g>\n",
       "<!-- q6 -->\n",
       "<g id=\"node6\" class=\"node\">\n",
       "<title>q6</title>\n",
       "<ellipse fill=\"none\" stroke=\"black\" cx=\"359.95\" cy=\"-101\" rx=\"27\" ry=\"18\"/>\n",
       "<text text-anchor=\"middle\" x=\"359.95\" y=\"-95.95\" font-family=\"Times,serif\" font-size=\"14.00\">q6</text>\n",
       "</g>\n",
       "<!-- q4&#45;&gt;q6 -->\n",
       "<g id=\"edge8\" class=\"edge\">\n",
       "<title>q4&#45;&gt;q6</title>\n",
       "<path fill=\"none\" stroke=\"black\" d=\"M290.59,-101C300.14,-101 311.11,-101 321.43,-101\"/>\n",
       "<polygon fill=\"black\" stroke=\"black\" points=\"321.18,-104.5 331.18,-101 321.18,-97.5 321.18,-104.5\"/>\n",
       "<text text-anchor=\"middle\" x=\"311.58\" y=\"-104.2\" font-family=\"Times,serif\" font-size=\"14.00\">b</text>\n",
       "</g>\n",
       "<!-- q3 -->\n",
       "<g id=\"node8\" class=\"node\">\n",
       "<title>q3</title>\n",
       "<ellipse fill=\"none\" stroke=\"black\" cx=\"263.2\" cy=\"-47\" rx=\"27\" ry=\"18\"/>\n",
       "<text text-anchor=\"middle\" x=\"263.2\" y=\"-41.95\" font-family=\"Times,serif\" font-size=\"14.00\">q3</text>\n",
       "</g>\n",
       "<!-- q1&#45;&gt;q3 -->\n",
       "<g id=\"edge9\" class=\"edge\">\n",
       "<title>q1&#45;&gt;q3</title>\n",
       "<path fill=\"none\" stroke=\"black\" d=\"M193.84,-47C203.39,-47 214.36,-47 224.68,-47\"/>\n",
       "<polygon fill=\"black\" stroke=\"black\" points=\"224.43,-50.5 234.43,-47 224.43,-43.5 224.43,-50.5\"/>\n",
       "<text text-anchor=\"middle\" x=\"214.83\" y=\"-50.2\" font-family=\"Times,serif\" font-size=\"14.00\">b</text>\n",
       "</g>\n",
       "<!-- q7 -->\n",
       "<g id=\"node7\" class=\"node\">\n",
       "<title>q7</title>\n",
       "<ellipse fill=\"none\" stroke=\"black\" cx=\"459.2\" cy=\"-22\" rx=\"27\" ry=\"18\"/>\n",
       "<ellipse fill=\"none\" stroke=\"black\" cx=\"459.2\" cy=\"-22\" rx=\"31\" ry=\"22\"/>\n",
       "<text text-anchor=\"middle\" x=\"459.2\" y=\"-16.95\" font-family=\"Times,serif\" font-size=\"14.00\">q7</text>\n",
       "</g>\n",
       "<!-- q6&#45;&gt;q7 -->\n",
       "<g id=\"edge4\" class=\"edge\">\n",
       "<title>q6&#45;&gt;q7</title>\n",
       "<path fill=\"none\" stroke=\"black\" d=\"M377.89,-87.24C392.03,-75.75 412.51,-59.12 429.24,-45.52\"/>\n",
       "<polygon fill=\"black\" stroke=\"black\" points=\"431.36,-48.31 436.92,-39.29 426.95,-42.88 431.36,-48.31\"/>\n",
       "<text text-anchor=\"middle\" x=\"407.58\" y=\"-64.7\" font-family=\"Times,serif\" font-size=\"14.00\">𝜀</text>\n",
       "</g>\n",
       "<!-- q7&#45;&gt;q0 -->\n",
       "<g id=\"edge5\" class=\"edge\">\n",
       "<title>q7&#45;&gt;q0</title>\n",
       "<path fill=\"none\" stroke=\"black\" d=\"M428.43,-17.4C385.86,-11.36 305.13,-1.85 236.2,-5 192.7,-6.99 142.92,-11.92 109.72,-15.59\"/>\n",
       "<polygon fill=\"black\" stroke=\"black\" points=\"109.33,-12.11 99.79,-16.71 110.11,-19.06 109.33,-12.11\"/>\n",
       "<text text-anchor=\"middle\" x=\"263.2\" y=\"-6.7\" font-family=\"Times,serif\" font-size=\"14.00\">𝜀</text>\n",
       "</g>\n",
       "<!-- q5 -->\n",
       "<g id=\"node9\" class=\"node\">\n",
       "<title>q5</title>\n",
       "<ellipse fill=\"none\" stroke=\"black\" cx=\"359.95\" cy=\"-47\" rx=\"27\" ry=\"18\"/>\n",
       "<text text-anchor=\"middle\" x=\"359.95\" y=\"-41.95\" font-family=\"Times,serif\" font-size=\"14.00\">q5</text>\n",
       "</g>\n",
       "<!-- q3&#45;&gt;q5 -->\n",
       "<g id=\"edge10\" class=\"edge\">\n",
       "<title>q3&#45;&gt;q5</title>\n",
       "<path fill=\"none\" stroke=\"black\" d=\"M290.59,-47C300.14,-47 311.11,-47 321.43,-47\"/>\n",
       "<polygon fill=\"black\" stroke=\"black\" points=\"321.18,-50.5 331.18,-47 321.18,-43.5 321.18,-50.5\"/>\n",
       "<text text-anchor=\"middle\" x=\"311.58\" y=\"-50.2\" font-family=\"Times,serif\" font-size=\"14.00\">a</text>\n",
       "</g>\n",
       "<!-- q5&#45;&gt;q7 -->\n",
       "<g id=\"edge6\" class=\"edge\">\n",
       "<title>q5&#45;&gt;q7</title>\n",
       "<path fill=\"none\" stroke=\"black\" d=\"M385.74,-40.63C395.79,-38.04 407.63,-35 418.81,-32.13\"/>\n",
       "<polygon fill=\"black\" stroke=\"black\" points=\"419.38,-35.59 428.2,-29.71 417.64,-28.81 419.38,-35.59\"/>\n",
       "<text text-anchor=\"middle\" x=\"407.58\" y=\"-36.7\" font-family=\"Times,serif\" font-size=\"14.00\">𝜀</text>\n",
       "</g>\n",
       "</g>\n",
       "</svg>\n"
      ],
      "text/plain": [
       "<graphviz.graphs.Digraph at 0x10be7f230>"
      ]
     },
     "execution_count": 10,
     "metadata": {},
     "output_type": "execute_result"
    }
   ],
   "source": [
    "d"
   ]
  },
  {
   "cell_type": "markdown",
   "metadata": {},
   "source": [
    "This recognizes the same language as the language described by\n",
    "$$ (a + b)^* \\cdot b \\cdot (a + b)  \\cdot (a + b) $$\n",
    "Let us convert it into a deterministic <span style=\"font-variant:small-caps;\">Fsm</span>: "
   ]
  },
  {
   "cell_type": "code",
   "execution_count": 11,
   "metadata": {},
   "outputs": [],
   "source": [
    "dfa44 = nfa2dfa(nfa44)"
   ]
  },
  {
   "cell_type": "markdown",
   "metadata": {},
   "source": [
    "The function `dfa2dot`can be used to render this <span style=\"font-variant:small-caps;\">Fsm</span>."
   ]
  },
  {
   "cell_type": "code",
   "execution_count": 12,
   "metadata": {},
   "outputs": [
    {
     "data": {
      "image/svg+xml": [
       "<?xml version=\"1.0\" encoding=\"UTF-8\" standalone=\"no\"?>\n",
       "<!DOCTYPE svg PUBLIC \"-//W3C//DTD SVG 1.1//EN\"\n",
       " \"http://www.w3.org/Graphics/SVG/1.1/DTD/svg11.dtd\">\n",
       "<!-- Generated by graphviz version 12.0.0 (0)\n",
       " -->\n",
       "<!-- Title: Deterministic FSM Pages: 1 -->\n",
       "<svg width=\"508pt\" height=\"264pt\"\n",
       " viewBox=\"0.00 0.00 508.45 264.00\" xmlns=\"http://www.w3.org/2000/svg\" xmlns:xlink=\"http://www.w3.org/1999/xlink\">\n",
       "<g id=\"graph0\" class=\"graph\" transform=\"scale(1 1) rotate(0) translate(4 260)\">\n",
       "<title>Deterministic FSM</title>\n",
       "<polygon fill=\"white\" stroke=\"none\" points=\"-4,4 -4,-260 504.45,-260 504.45,4 -4,4\"/>\n",
       "<!-- 1 -->\n",
       "<g id=\"node1\" class=\"node\">\n",
       "<title>1</title>\n",
       "<ellipse fill=\"blue\" stroke=\"blue\" cx=\"3.6\" cy=\"-18\" rx=\"3.6\" ry=\"3.6\"/>\n",
       "</g>\n",
       "<!-- S0 -->\n",
       "<g id=\"node2\" class=\"node\">\n",
       "<title>S0</title>\n",
       "<ellipse fill=\"none\" stroke=\"black\" cx=\"71.2\" cy=\"-18\" rx=\"27\" ry=\"18\"/>\n",
       "<text text-anchor=\"middle\" x=\"71.2\" y=\"-12.95\" font-family=\"Times,serif\" font-size=\"14.00\">S0</text>\n",
       "</g>\n",
       "<!-- 1&#45;&gt;S0 -->\n",
       "<g id=\"edge1\" class=\"edge\">\n",
       "<title>1&#45;&gt;S0</title>\n",
       "<path fill=\"none\" stroke=\"black\" d=\"M7.42,-18C12.07,-18 21.87,-18 32.38,-18\"/>\n",
       "<polygon fill=\"black\" stroke=\"black\" points=\"32.34,-21.5 42.34,-18 32.34,-14.5 32.34,-21.5\"/>\n",
       "</g>\n",
       "<!-- S1 -->\n",
       "<g id=\"node3\" class=\"node\">\n",
       "<title>S1</title>\n",
       "<ellipse fill=\"none\" stroke=\"black\" cx=\"167.2\" cy=\"-73\" rx=\"27\" ry=\"18\"/>\n",
       "<text text-anchor=\"middle\" x=\"167.2\" y=\"-67.95\" font-family=\"Times,serif\" font-size=\"14.00\">S1</text>\n",
       "</g>\n",
       "<!-- S0&#45;&gt;S1 -->\n",
       "<g id=\"edge2\" class=\"edge\">\n",
       "<title>S0&#45;&gt;S1</title>\n",
       "<path fill=\"none\" stroke=\"black\" d=\"M92.13,-29.66C105.1,-37.25 122.22,-47.27 136.74,-55.76\"/>\n",
       "<polygon fill=\"black\" stroke=\"black\" points=\"134.59,-58.56 144.99,-60.59 138.12,-52.52 134.59,-58.56\"/>\n",
       "<text text-anchor=\"middle\" x=\"119.2\" y=\"-50.2\" font-family=\"Times,serif\" font-size=\"14.00\">a</text>\n",
       "</g>\n",
       "<!-- S3 -->\n",
       "<g id=\"node5\" class=\"node\">\n",
       "<title>S3</title>\n",
       "<ellipse fill=\"none\" stroke=\"black\" cx=\"368.7\" cy=\"-102\" rx=\"27\" ry=\"18\"/>\n",
       "<text text-anchor=\"middle\" x=\"368.7\" y=\"-96.95\" font-family=\"Times,serif\" font-size=\"14.00\">S3</text>\n",
       "</g>\n",
       "<!-- S0&#45;&gt;S3 -->\n",
       "<g id=\"edge3\" class=\"edge\">\n",
       "<title>S0&#45;&gt;S3</title>\n",
       "<path fill=\"none\" stroke=\"black\" d=\"M98.47,-16.79C146.13,-15.7 248.86,-18.49 323.7,-57 333.06,-61.82 341.6,-69.38 348.62,-76.94\"/>\n",
       "<polygon fill=\"black\" stroke=\"black\" points=\"345.95,-79.2 355.13,-84.5 351.26,-74.64 345.95,-79.2\"/>\n",
       "<text text-anchor=\"middle\" x=\"215.58\" y=\"-27.2\" font-family=\"Times,serif\" font-size=\"14.00\">b</text>\n",
       "</g>\n",
       "<!-- S4 -->\n",
       "<g id=\"node6\" class=\"node\">\n",
       "<title>S4</title>\n",
       "<ellipse fill=\"none\" stroke=\"black\" cx=\"469.45\" cy=\"-169\" rx=\"27\" ry=\"18\"/>\n",
       "<text text-anchor=\"middle\" x=\"469.45\" y=\"-163.95\" font-family=\"Times,serif\" font-size=\"14.00\">S4</text>\n",
       "</g>\n",
       "<!-- S1&#45;&gt;S4 -->\n",
       "<g id=\"edge4\" class=\"edge\">\n",
       "<title>S1&#45;&gt;S4</title>\n",
       "<path fill=\"none\" stroke=\"black\" d=\"M181.13,-88.73C193.77,-102.9 214.35,-122.99 236.95,-133 300.92,-161.34 383.45,-167.85 430.71,-169.07\"/>\n",
       "<polygon fill=\"black\" stroke=\"black\" points=\"430.64,-172.57 440.71,-169.25 430.77,-165.57 430.64,-172.57\"/>\n",
       "<text text-anchor=\"middle\" x=\"320.33\" y=\"-161.2\" font-family=\"Times,serif\" font-size=\"14.00\">a</text>\n",
       "</g>\n",
       "<!-- S5 -->\n",
       "<g id=\"node7\" class=\"node\">\n",
       "<title>S5</title>\n",
       "<ellipse fill=\"none\" stroke=\"black\" cx=\"267.95\" cy=\"-102\" rx=\"27\" ry=\"18\"/>\n",
       "<ellipse fill=\"none\" stroke=\"black\" cx=\"267.95\" cy=\"-102\" rx=\"31\" ry=\"22\"/>\n",
       "<text text-anchor=\"middle\" x=\"267.95\" y=\"-96.95\" font-family=\"Times,serif\" font-size=\"14.00\">S5</text>\n",
       "</g>\n",
       "<!-- S1&#45;&gt;S5 -->\n",
       "<g id=\"edge5\" class=\"edge\">\n",
       "<title>S1&#45;&gt;S5</title>\n",
       "<path fill=\"none\" stroke=\"black\" d=\"M190.29,-82.99C197.2,-85.86 204.93,-88.8 212.2,-91 216.74,-92.37 221.55,-93.62 226.35,-94.74\"/>\n",
       "<polygon fill=\"black\" stroke=\"black\" points=\"225.44,-98.13 235.95,-96.82 226.91,-91.28 225.44,-98.13\"/>\n",
       "<text text-anchor=\"middle\" x=\"215.58\" y=\"-95.2\" font-family=\"Times,serif\" font-size=\"14.00\">b</text>\n",
       "</g>\n",
       "<!-- S2 -->\n",
       "<g id=\"node4\" class=\"node\">\n",
       "<title>S2</title>\n",
       "<ellipse fill=\"none\" stroke=\"black\" cx=\"469.45\" cy=\"-73\" rx=\"27\" ry=\"18\"/>\n",
       "<ellipse fill=\"none\" stroke=\"black\" cx=\"469.45\" cy=\"-73\" rx=\"31\" ry=\"22\"/>\n",
       "<text text-anchor=\"middle\" x=\"469.45\" y=\"-67.95\" font-family=\"Times,serif\" font-size=\"14.00\">S2</text>\n",
       "</g>\n",
       "<!-- S2&#45;&gt;S1 -->\n",
       "<g id=\"edge6\" class=\"edge\">\n",
       "<title>S2&#45;&gt;S1</title>\n",
       "<path fill=\"none\" stroke=\"black\" d=\"M439.1,-67.34C432.96,-66.38 426.51,-65.52 420.45,-65 331.22,-57.39 308.51,-64.22 218.95,-64 215.95,-63.99 215.18,-63.7 212.2,-64 209.68,-64.26 207.09,-64.59 204.49,-64.98\"/>\n",
       "<polygon fill=\"black\" stroke=\"black\" points=\"203.92,-61.53 194.69,-66.71 205.14,-68.42 203.92,-61.53\"/>\n",
       "<text text-anchor=\"middle\" x=\"320.33\" y=\"-64.2\" font-family=\"Times,serif\" font-size=\"14.00\">a</text>\n",
       "</g>\n",
       "<!-- S2&#45;&gt;S3 -->\n",
       "<g id=\"edge7\" class=\"edge\">\n",
       "<title>S2&#45;&gt;S3</title>\n",
       "<path fill=\"none\" stroke=\"black\" d=\"M442.02,-83.69C435.07,-86.29 427.54,-88.92 420.45,-91 415.88,-92.35 411.03,-93.6 406.21,-94.75\"/>\n",
       "<polygon fill=\"black\" stroke=\"black\" points=\"405.65,-91.29 396.66,-96.9 407.18,-98.12 405.65,-91.29\"/>\n",
       "<text text-anchor=\"middle\" x=\"417.08\" y=\"-95.2\" font-family=\"Times,serif\" font-size=\"14.00\">b</text>\n",
       "</g>\n",
       "<!-- S3&#45;&gt;S2 -->\n",
       "<g id=\"edge8\" class=\"edge\">\n",
       "<title>S3&#45;&gt;S2</title>\n",
       "<path fill=\"none\" stroke=\"black\" d=\"M385.07,-87.36C392.97,-80.85 403.14,-73.89 413.7,-70.5 418.18,-69.06 422.98,-68.27 427.8,-67.93\"/>\n",
       "<polygon fill=\"black\" stroke=\"black\" points=\"427.47,-71.44 437.45,-67.88 427.43,-64.44 427.47,-71.44\"/>\n",
       "<text text-anchor=\"middle\" x=\"417.08\" y=\"-73.2\" font-family=\"Times,serif\" font-size=\"14.00\">a</text>\n",
       "</g>\n",
       "<!-- S3&#45;&gt;S4 -->\n",
       "<g id=\"edge9\" class=\"edge\">\n",
       "<title>S3&#45;&gt;S4</title>\n",
       "<path fill=\"none\" stroke=\"black\" d=\"M388.27,-114.6C402.94,-124.55 423.64,-138.6 440.33,-149.92\"/>\n",
       "<polygon fill=\"black\" stroke=\"black\" points=\"438.13,-152.66 448.37,-155.38 442.06,-146.87 438.13,-152.66\"/>\n",
       "<text text-anchor=\"middle\" x=\"417.08\" y=\"-138.2\" font-family=\"Times,serif\" font-size=\"14.00\">b</text>\n",
       "</g>\n",
       "<!-- S4&#45;&gt;S4 -->\n",
       "<g id=\"edge10\" class=\"edge\">\n",
       "<title>S4&#45;&gt;S4</title>\n",
       "<path fill=\"none\" stroke=\"black\" d=\"M464.71,-187.15C463.98,-196.54 465.56,-205 469.45,-205 471.58,-205 473.01,-202.47 473.76,-198.64\"/>\n",
       "<polygon fill=\"black\" stroke=\"black\" points=\"477.25,-198.79 474.13,-188.67 470.26,-198.53 477.25,-198.79\"/>\n",
       "<text text-anchor=\"middle\" x=\"469.45\" y=\"-208.2\" font-family=\"Times,serif\" font-size=\"14.00\">a</text>\n",
       "</g>\n",
       "<!-- S4&#45;&gt;S4 -->\n",
       "<g id=\"edge11\" class=\"edge\">\n",
       "<title>S4&#45;&gt;S4</title>\n",
       "<path fill=\"none\" stroke=\"black\" d=\"M461.65,-186.7C457.34,-204 459.94,-223 469.45,-223 476.96,-223 480.16,-211.17 479.06,-197.68\"/>\n",
       "<polygon fill=\"black\" stroke=\"black\" points=\"482.58,-197.49 477.5,-188.19 475.67,-198.63 482.58,-197.49\"/>\n",
       "<text text-anchor=\"middle\" x=\"469.45\" y=\"-226.2\" font-family=\"Times,serif\" font-size=\"14.00\">b</text>\n",
       "</g>\n",
       "<!-- S5&#45;&gt;S1 -->\n",
       "<g id=\"edge12\" class=\"edge\">\n",
       "<title>S5&#45;&gt;S1</title>\n",
       "<path fill=\"none\" stroke=\"black\" d=\"M247.25,-85.35C239.04,-79.45 229.07,-73.53 218.95,-70.5 214.43,-69.15 209.59,-68.47 204.76,-68.25\"/>\n",
       "<polygon fill=\"black\" stroke=\"black\" points=\"205.1,-64.74 195.16,-68.41 205.21,-71.74 205.1,-64.74\"/>\n",
       "<text text-anchor=\"middle\" x=\"215.58\" y=\"-73.2\" font-family=\"Times,serif\" font-size=\"14.00\">a</text>\n",
       "</g>\n",
       "<!-- S5&#45;&gt;S3 -->\n",
       "<g id=\"edge13\" class=\"edge\">\n",
       "<title>S5&#45;&gt;S3</title>\n",
       "<path fill=\"none\" stroke=\"black\" d=\"M299.38,-102C309,-102 319.74,-102 329.81,-102\"/>\n",
       "<polygon fill=\"black\" stroke=\"black\" points=\"329.69,-105.5 339.69,-102 329.69,-98.5 329.69,-105.5\"/>\n",
       "<text text-anchor=\"middle\" x=\"320.33\" y=\"-105.2\" font-family=\"Times,serif\" font-size=\"14.00\">b</text>\n",
       "</g>\n",
       "</g>\n",
       "</svg>\n"
      ],
      "text/plain": [
       "<graphviz.graphs.Digraph at 0x107dcaff0>"
      ]
     },
     "execution_count": 12,
     "metadata": {},
     "output_type": "execute_result"
    }
   ],
   "source": [
    "dot, states2Names = dfa2dot(dfa44)\n",
    "dot"
   ]
  },
  {
   "cell_type": "markdown",
   "metadata": {},
   "source": [
    "In order to inspect the states of this deterministic <span style=\"font-variant:small-caps;\">Fsm</span> we print the dictionary  `states2Names`."
   ]
  },
  {
   "cell_type": "code",
   "execution_count": 13,
   "metadata": {},
   "outputs": [
    {
     "data": {
      "text/plain": [
       "{frozenset({'q0', 'q1', 'q2'}): 'S0',\n",
       " frozenset({'q4'}): 'S1',\n",
       " frozenset({'q0', 'q1', 'q2', 'q5', 'q7'}): 'S2',\n",
       " frozenset({'q3'}): 'S3',\n",
       " frozenset(): 'S4',\n",
       " frozenset({'q0', 'q1', 'q2', 'q6', 'q7'}): 'S5'}"
      ]
     },
     "execution_count": 13,
     "metadata": {},
     "output_type": "execute_result"
    }
   ],
   "source": [
    "states2Names"
   ]
  },
  {
   "cell_type": "markdown",
   "metadata": {},
   "source": [
    "We can also print the <span style=\"font-variant:small-caps;\">Fsm</span>."
   ]
  },
  {
   "cell_type": "code",
   "execution_count": 14,
   "metadata": {},
   "outputs": [
    {
     "data": {
      "text/plain": [
       "({frozenset(),\n",
       "  frozenset({'q0', 'q1', 'q2'}),\n",
       "  frozenset({'q4'}),\n",
       "  frozenset({'q0', 'q1', 'q2', 'q5', 'q7'}),\n",
       "  frozenset({'q3'}),\n",
       "  frozenset({'q0', 'q1', 'q2', 'q6', 'q7'})},\n",
       " {'a', 'b'},\n",
       " {(frozenset({'q0', 'q1', 'q2'}), 'a'): frozenset({'q4'}),\n",
       "  (frozenset({'q0', 'q1', 'q2'}), 'b'): frozenset({'q3'}),\n",
       "  (frozenset({'q4'}), 'a'): frozenset(),\n",
       "  (frozenset({'q4'}), 'b'): frozenset({'q0', 'q1', 'q2', 'q6', 'q7'}),\n",
       "  (frozenset({'q0', 'q1', 'q2', 'q5', 'q7'}), 'a'): frozenset({'q4'}),\n",
       "  (frozenset({'q0', 'q1', 'q2', 'q5', 'q7'}), 'b'): frozenset({'q3'}),\n",
       "  (frozenset({'q3'}), 'a'): frozenset({'q0', 'q1', 'q2', 'q5', 'q7'}),\n",
       "  (frozenset({'q3'}), 'b'): frozenset(),\n",
       "  (frozenset(), 'a'): frozenset(),\n",
       "  (frozenset(), 'b'): frozenset(),\n",
       "  (frozenset({'q0', 'q1', 'q2', 'q6', 'q7'}), 'a'): frozenset({'q4'}),\n",
       "  (frozenset({'q0', 'q1', 'q2', 'q6', 'q7'}), 'b'): frozenset({'q3'})},\n",
       " frozenset({'q0', 'q1', 'q2'}),\n",
       " {frozenset({'q0', 'q1', 'q2', 'q5', 'q7'}),\n",
       "  frozenset({'q0', 'q1', 'q2', 'q6', 'q7'})})"
      ]
     },
     "execution_count": 14,
     "metadata": {},
     "output_type": "execute_result"
    }
   ],
   "source": [
    "dfa44"
   ]
  },
  {
   "cell_type": "code",
   "execution_count": null,
   "metadata": {},
   "outputs": [],
   "source": []
  }
 ],
 "metadata": {
  "kernelspec": {
   "display_name": "Python 3 (ipykernel)",
   "language": "python",
   "name": "python3"
  },
  "language_info": {
   "codemirror_mode": {
    "name": "ipython",
    "version": 3
   },
   "file_extension": ".py",
   "mimetype": "text/x-python",
   "name": "python",
   "nbconvert_exporter": "python",
   "pygments_lexer": "ipython3",
   "version": "3.12.6"
  },
  "varInspector": {
   "cols": {
    "lenName": 16,
    "lenType": 16,
    "lenVar": 40
   },
   "kernels_config": {
    "python": {
     "delete_cmd_postfix": "",
     "delete_cmd_prefix": "del ",
     "library": "var_list.py",
     "varRefreshCmd": "print(var_dic_list())"
    },
    "r": {
     "delete_cmd_postfix": ") ",
     "delete_cmd_prefix": "rm(",
     "library": "var_list.r",
     "varRefreshCmd": "cat(var_dic_list()) "
    }
   },
   "types_to_exclude": [
    "module",
    "function",
    "builtin_function_or_method",
    "instance",
    "_Feature"
   ],
   "window_display": false
  }
 },
 "nbformat": 4,
 "nbformat_minor": 4
}
