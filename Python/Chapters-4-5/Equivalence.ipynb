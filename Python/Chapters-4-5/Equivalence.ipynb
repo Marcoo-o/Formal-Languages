{
 "cells": [
  {
   "cell_type": "code",
   "execution_count": 1,
   "metadata": {},
   "outputs": [
    {
     "data": {
      "text/html": [
       "<link href='http://fonts.googleapis.com/css?family=Alegreya+Sans:100,300,400,500,700,800,900,100italic,300italic,400italic,500italic,700italic,800italic,900italic' rel='stylesheet' type='text/css'>\n",
       "<link href='http://fonts.googleapis.com/css?family=Arvo:400,700,400italic' rel='stylesheet' type='text/css'>\n",
       "<link href='http://fonts.googleapis.com/css?family=PT+Mono' rel='stylesheet' type='text/css'>\n",
       "<link href='http://fonts.googleapis.com/css?family=Shadows+Into+Light' rel='stylesheet' type='text/css'>\n",
       "<link href='http://fonts.googleapis.com/css?family=Philosopher:400,700,400italic,700italic' rel='stylesheet' type='text/css'>\n",
       "\n",
       "<style>\n",
       "\n",
       "@font-face {\n",
       "    font-family: \"Computer Modern\";\n",
       "    src: url('http://mirrors.ctan.org/fonts/cm-unicode/fonts/otf/cmunss.otf');\n",
       "}\n",
       "\n",
       ".container { width: 100% }\n",
       "\n",
       "/* Formatting for header cells */\n",
       ".text_cell_render h1 {\n",
       "    font-family: 'Philosopher', sans-serif;\n",
       "    font-weight: 400;\n",
       "    font-size: 2.2em;\n",
       "    line-height: 100%;\n",
       "    color: rgb(0, 80, 120);\n",
       "    margin-bottom: 0.1em;\n",
       "    margin-top: 0.1em;\n",
       "    display: block;\n",
       "}\t\n",
       ".text_cell_render h2 {\n",
       "    font-family: 'Philosopher', serif;\n",
       "    font-weight: 400;\n",
       "    font-size: 1.9em;\n",
       "    line-height: 100%;\n",
       "    color: rgb(200,100,0);\n",
       "    margin-bottom: 0.1em;\n",
       "    margin-top: 0.1em;\n",
       "    display: block;\n",
       "}\t\n",
       "\n",
       ".text_cell_render h3 {\n",
       "    font-family: 'Philosopher', serif;\n",
       "    margin-top:12px;\n",
       "    margin-bottom: 3px;\n",
       "    font-style: italic;\n",
       "    color: rgb(94,127,192);\n",
       "}\n",
       "\n",
       ".text_cell_render h4 {\n",
       "    font-family: 'Philosopher', serif;\n",
       "}\n",
       "\n",
       ".text_cell_render h5 {\n",
       "    font-family: 'Alegreya Sans', sans-serif;\n",
       "    font-weight: 300;\n",
       "    font-size: 16pt;\n",
       "    color: grey;\n",
       "    font-style: italic;\n",
       "    margin-bottom: .1em;\n",
       "    margin-top: 0.1em;\n",
       "    display: block;\n",
       "}\n",
       "\n",
       ".text_cell_render h6 {\n",
       "    font-family: 'PT Mono', sans-serif;\n",
       "    font-weight: 300;\n",
       "    font-size: 10pt;\n",
       "    color: grey;\n",
       "    margin-bottom: 1px;\n",
       "    margin-top: 1px;\n",
       "}\n",
       "\n",
       ".text_cell_render em {\n",
       "    font-family: 'Philosopher', sans-serif;\n",
       "    color:        blue;\n",
       "    background-color: rgb(255,220,180);\n",
       "    font-size:    110%;\n",
       "    margin-left:   2px;\n",
       "    margin-right:  2px;\n",
       "    font-weight:   100;\n",
       "}\n",
       "\n",
       ".text_cell_render b {\n",
       "    color:            rgb(255,195,195);\n",
       "    background-color: rgb(0,0,0);\n",
       "    font-size:    110%;\n",
       "    margin-left:   2px;\n",
       "    margin-right:  2px;\n",
       "    font-weight:   650;\n",
       "}\n",
       "\n",
       ".text_cell_render tt {\n",
       "    font-size:    120%;\n",
       "    margin-left:   2px;\n",
       "    margin-right:  2px;\n",
       "    font-weight:   150;\n",
       "}\n",
       "\n",
       ".CodeMirror{\n",
       "        font-family: \"PT Mono\";\n",
       "        font-size: 100%;\n",
       "}\n",
       "\n",
       "</style>\n",
       "\n"
      ],
      "text/plain": [
       "<IPython.core.display.HTML object>"
      ]
     },
     "execution_count": 1,
     "metadata": {},
     "output_type": "execute_result"
    }
   ],
   "source": [
    "from IPython.core.display import HTML\n",
    "with open ('../style.css', 'r') as file:\n",
    "    css = file.read()\n",
    "HTML(css)"
   ]
  },
  {
   "cell_type": "code",
   "execution_count": 2,
   "metadata": {},
   "outputs": [
    {
     "name": "stderr",
     "output_type": "stream",
     "text": [
      "Version 1.0.5\n"
     ]
    }
   ],
   "source": [
    "%load_ext nb_mypy"
   ]
  },
  {
   "cell_type": "code",
   "execution_count": 3,
   "metadata": {},
   "outputs": [],
   "source": [
    "from typing import TypeVar\n",
    "from collections.abc import Iterable"
   ]
  },
  {
   "cell_type": "markdown",
   "metadata": {},
   "source": [
    "# Checking the Equivalence of Regular Expressions"
   ]
  },
  {
   "cell_type": "markdown",
   "metadata": {},
   "source": [
    "In order to check whether two regular expressions $r_1$ and $r_2$ are *equivalent*, perform the \n",
    "following steps:\n",
    "- convert the regular expressions $r_1$ and $r_2$ into non-deterministic *FSMs*\n",
    "  $F_1$ and $F_2$ such that $L(r_1) = L(F_1)$ and $L(r_2) = L(F_2)$,\n",
    "- convert the non-deterministic *FSMs* $F_1$ and $F_2$ into deterministic *FSMs*\n",
    "  $D_1$ and $D_2$ such that $L(D_1) = L(F_1)$ and $L(D_2) = L(F_2)$\n",
    "- check whether both $L(D_1) \\backslash L(D_2)$ and $L(D_2) \\backslash L(D_1)$ are empty."
   ]
  },
  {
   "cell_type": "markdown",
   "metadata": {},
   "source": [
    "The notebook `Regexp-2-NFA.ipynb` contains the function `RegExp2NFA.toNFA` that can be used to compute a non-deterministic \n",
    "<span style=\"font-variant:small-caps;\">Fsm</span> that accepts the language described by a given regular expression."
   ]
  },
  {
   "cell_type": "code",
   "execution_count": 4,
   "metadata": {},
   "outputs": [
    {
     "name": "stdout",
     "output_type": "stream",
     "text": [
      "The nb_mypy extension is already loaded. To reload it, use:\n",
      "  %reload_ext nb_mypy\n"
     ]
    }
   ],
   "source": [
    "%run Regexp-2-NFA.ipynb"
   ]
  },
  {
   "cell_type": "markdown",
   "metadata": {},
   "source": [
    "`NFA-2-DFA.ipynb` contains the function `nfa2dfa` that converts a non-deterministic \n",
    "*Fsm* into an equivalent deterministic *Fsm*."
   ]
  },
  {
   "cell_type": "code",
   "execution_count": 5,
   "metadata": {},
   "outputs": [
    {
     "name": "stdout",
     "output_type": "stream",
     "text": [
      "The nb_mypy extension is already loaded. To reload it, use:\n",
      "  %reload_ext nb_mypy\n"
     ]
    }
   ],
   "source": [
    "%run NFA-2-DFA.ipynb"
   ]
  },
  {
   "cell_type": "code",
   "execution_count": 6,
   "metadata": {},
   "outputs": [],
   "source": [
    "S = TypeVar('S', bound=Iterable)\n",
    "T = TypeVar('T', bound=Iterable)"
   ]
  },
  {
   "cell_type": "markdown",
   "metadata": {},
   "source": [
    "Given two sets `A` and `B`, the function `cartesian_product(A, B)` computes the \n",
    "<em style=\"color:blue\">cartesian product</em> $A \\times B$ which is defined as\n",
    "$$ A \\times B := \\{ (x, y) \\mid x \\in A \\wedge y \\in B \\}. $$"
   ]
  },
  {
   "cell_type": "code",
   "execution_count": 7,
   "metadata": {},
   "outputs": [],
   "source": [
    "def cartesian_product(A: S, B: T) -> set[tuple[S, T]]:\n",
    "    return { (x, y) for x in A\n",
    "                    for y in B\n",
    "           }"
   ]
  },
  {
   "cell_type": "code",
   "execution_count": 8,
   "metadata": {},
   "outputs": [
    {
     "data": {
      "text/plain": [
       "{(1, 'a'), (1, 'b'), (2, 'a'), (2, 'b')}"
      ]
     },
     "execution_count": 8,
     "metadata": {},
     "output_type": "execute_result"
    }
   ],
   "source": [
    "cartesian_product({1, 2}, {'a', 'b'})"
   ]
  },
  {
   "cell_type": "code",
   "execution_count": 9,
   "metadata": {},
   "outputs": [],
   "source": [
    "State     = TypeVar('State')\n",
    "TransRel  = dict[tuple[State, str], State]\n",
    "StatePair = tuple[State, State]\n",
    "TransRel1 = dict[tuple[State, str], State]\n",
    "TransRel2 = dict[tuple[StatePair, str], StatePair]\n",
    "DFA1      = tuple[set[State], set[str], TransRel1, State, set[State]]\n",
    "DFA2      = tuple[set[StatePair], set[str], TransRel2, StatePair, set[StatePair]]"
   ]
  },
  {
   "cell_type": "markdown",
   "metadata": {},
   "source": [
    "Given to deterministic *FSMs* `F1` and `F2`, the expression `fsm_complement(F1, F2)` computes a deterministic \n",
    "*FSM* that recognizes the language  $L(F_1)\\backslash L(F_2)$."
   ]
  },
  {
   "cell_type": "code",
   "execution_count": 10,
   "metadata": {},
   "outputs": [],
   "source": [
    "def fsm_complement(F1: DFA1, F2: DFA1) -> DFA2:\n",
    "    States1, Σ, 𝛿1, q1, A1 = F1\n",
    "    States2, _, 𝛿2, q2, A2 = F2\n",
    "    States = cartesian_product(States1, States2)\n",
    "    𝛿 = {}\n",
    "    for p1, p2 in States:\n",
    "        for c in Σ:\n",
    "            𝛿[(p1, p2), c] = (𝛿1[p1, c], 𝛿2[p2, c])\n",
    "    return States, Σ, 𝛿, (q1, q2), cartesian_product(A1, States2 - A2)"
   ]
  },
  {
   "cell_type": "markdown",
   "metadata": {},
   "source": [
    "Given a regular expression $r$ and an alphabet $\\Sigma$, the function $\\texttt{regexp2DFA}(r, \\Sigma)$\n",
    "computes a deterministic *FSM* that accepts\n",
    "the language specified by $r$."
   ]
  },
  {
   "cell_type": "code",
   "execution_count": 11,
   "metadata": {},
   "outputs": [],
   "source": [
    "RegExp = TypeVar('RegExp')\n",
    "RegExp = int | str | tuple[RegExp, ...]"
   ]
  },
  {
   "cell_type": "code",
   "execution_count": 12,
   "metadata": {},
   "outputs": [],
   "source": [
    "def regexp2DFA(r: RegExp, Σ: set[str]) -> DFA1:\n",
    "    converter = RegExp2NFA(Σ)       # type: ignore\n",
    "    nfa       = converter.toNFA(r)\n",
    "    dfa       = nfa2dfa(nfa)        # type: ignore\n",
    "    return dfa # type: ignore"
   ]
  },
  {
   "cell_type": "markdown",
   "metadata": {},
   "source": [
    "Given a deterministic *FSM* $F$ the function \n",
    "`is_empty(F)` checks whether the language accepted by $F$ is empty.\n",
    "In this function, the variable `Reachable` is the set of those states that are already known to be reachable\n",
    "from the start state `q0`. `NewFound` are those states that can be reached from a state in the set \n",
    "`Reachable`.  When we find no new states that are reachable, the iteration stops and we check whether\n",
    "there is a state that is both reachable and acceptable because in that case the language is not empty."
   ]
  },
  {
   "cell_type": "code",
   "execution_count": 14,
   "metadata": {},
   "outputs": [],
   "source": [
    "def is_empty(F: DFA2) -> bool:\n",
    "    States, Σ, δ, q0, Accepting = F\n",
    "    Reachable = { q0 }\n",
    "    while True:\n",
    "        NewFound = { δ[q, c] for q in Reachable for c in Σ }\n",
    "        if NewFound <= Reachable:\n",
    "            break\n",
    "        Reachable |= NewFound\n",
    "    return Reachable & Accepting == set()"
   ]
  },
  {
   "cell_type": "markdown",
   "metadata": {},
   "source": [
    "The function `regExpEquiv` takes three arguments:\n",
    "- $r_1$ and $r_2$ are regular expressions,\n",
    "- $\\Sigma$ is the alphabet used in these regular expressions.\n",
    "\n",
    "The function returns `True` iff $r_1 \\doteq r_2$, i.e. if $r_1$ and $r_2$ are equivalent. "
   ]
  },
  {
   "cell_type": "code",
   "execution_count": 15,
   "metadata": {},
   "outputs": [],
   "source": [
    "def regExpEquiv(r1: RegExp, r2: RegExp, Σ: set[str]) -> bool:\n",
    "    F1 = regexp2DFA(r1, Σ)\n",
    "    F2 = regexp2DFA(r2, Σ)    \n",
    "    r1_minus_r2 = fsm_complement(F1, F2)\n",
    "    r2_minus_r1 = fsm_complement(F2, F1)\n",
    "    return is_empty(r1_minus_r2) and is_empty(r2_minus_r1)"
   ]
  },
  {
   "cell_type": "markdown",
   "metadata": {},
   "source": [
    "The notebook `Test-Equivalence.ipynb` can be used to test this function."
   ]
  },
  {
   "cell_type": "code",
   "execution_count": null,
   "metadata": {},
   "outputs": [],
   "source": []
  }
 ],
 "metadata": {
  "kernelspec": {
   "display_name": "Python 3 (ipykernel)",
   "language": "python",
   "name": "python3"
  },
  "language_info": {
   "codemirror_mode": {
    "name": "ipython",
    "version": 3
   },
   "file_extension": ".py",
   "mimetype": "text/x-python",
   "name": "python",
   "nbconvert_exporter": "python",
   "pygments_lexer": "ipython3",
   "version": "3.11.5"
  },
  "varInspector": {
   "cols": {
    "lenName": 16,
    "lenType": 16,
    "lenVar": 40
   },
   "kernels_config": {
    "python": {
     "delete_cmd_postfix": "",
     "delete_cmd_prefix": "del ",
     "library": "var_list.py",
     "varRefreshCmd": "print(var_dic_list())"
    },
    "r": {
     "delete_cmd_postfix": ") ",
     "delete_cmd_prefix": "rm(",
     "library": "var_list.r",
     "varRefreshCmd": "cat(var_dic_list()) "
    }
   },
   "types_to_exclude": [
    "module",
    "function",
    "builtin_function_or_method",
    "instance",
    "_Feature"
   ],
   "window_display": false
  }
 },
 "nbformat": 4,
 "nbformat_minor": 4
}
