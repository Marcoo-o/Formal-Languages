{
 "cells": [
  {
   "cell_type": "code",
   "execution_count": 1,
   "metadata": {},
   "outputs": [
    {
     "data": {
      "text/html": [
       "<link href='http://fonts.googleapis.com/css?family=Alegreya+Sans:100,300,400,500,700,800,900,100italic,300italic,400italic,500italic,700italic,800italic,900italic' rel='stylesheet' type='text/css'>\n",
       "<link href='http://fonts.googleapis.com/css?family=Arvo:400,700,400italic' rel='stylesheet' type='text/css'>\n",
       "<link href='http://fonts.googleapis.com/css?family=PT+Mono' rel='stylesheet' type='text/css'>\n",
       "<link href='http://fonts.googleapis.com/css?family=Shadows+Into+Light' rel='stylesheet' type='text/css'>\n",
       "<link href='http://fonts.googleapis.com/css?family=Philosopher:400,700,400italic,700italic' rel='stylesheet' type='text/css'>\n",
       "\n",
       "<style>\n",
       "\n",
       "@font-face {\n",
       "    font-family: \"Computer Modern\";\n",
       "    src: url('http://mirrors.ctan.org/fonts/cm-unicode/fonts/otf/cmunss.otf');\n",
       "}\n",
       "\n",
       ".container { width: 100% }\n",
       "\n",
       "/* Formatting for header cells */\n",
       ".text_cell_render h1 {\n",
       "    font-family: 'Philosopher', sans-serif;\n",
       "    font-weight: 400;\n",
       "    font-size: 2.2em;\n",
       "    line-height: 100%;\n",
       "    color: rgb(0, 80, 120);\n",
       "    margin-bottom: 0.1em;\n",
       "    margin-top: 0.1em;\n",
       "    display: block;\n",
       "}\t\n",
       ".text_cell_render h2 {\n",
       "    font-family: 'Philosopher', serif;\n",
       "    font-weight: 400;\n",
       "    font-size: 1.9em;\n",
       "    line-height: 100%;\n",
       "    color: rgb(200,100,0);\n",
       "    margin-bottom: 0.1em;\n",
       "    margin-top: 0.1em;\n",
       "    display: block;\n",
       "}\t\n",
       "\n",
       ".text_cell_render h3 {\n",
       "    font-family: 'Philosopher', serif;\n",
       "    margin-top:12px;\n",
       "    margin-bottom: 3px;\n",
       "    font-style: italic;\n",
       "    color: rgb(94,127,192);\n",
       "}\n",
       "\n",
       ".text_cell_render h4 {\n",
       "    font-family: 'Philosopher', serif;\n",
       "}\n",
       "\n",
       ".text_cell_render h5 {\n",
       "    font-family: 'Alegreya Sans', sans-serif;\n",
       "    font-weight: 300;\n",
       "    font-size: 16pt;\n",
       "    color: grey;\n",
       "    font-style: italic;\n",
       "    margin-bottom: .1em;\n",
       "    margin-top: 0.1em;\n",
       "    display: block;\n",
       "}\n",
       "\n",
       ".text_cell_render h6 {\n",
       "    font-family: 'PT Mono', sans-serif;\n",
       "    font-weight: 300;\n",
       "    font-size: 10pt;\n",
       "    color: grey;\n",
       "    margin-bottom: 1px;\n",
       "    margin-top: 1px;\n",
       "}\n",
       "\n",
       ".text_cell_render em {\n",
       "    font-family: 'Philosopher', sans-serif;\n",
       "    color:        blue;\n",
       "    background-color: rgb(255,220,180);\n",
       "    font-size:    110%;\n",
       "    margin-left:   2px;\n",
       "    margin-right:  2px;\n",
       "    font-weight:   100;\n",
       "}\n",
       "\n",
       ".text_cell_render b {\n",
       "    color:            rgb(255,195,195);\n",
       "    background-color: rgb(0,0,0);\n",
       "    font-size:    110%;\n",
       "    margin-left:   2px;\n",
       "    margin-right:  2px;\n",
       "    font-weight:   650;\n",
       "}\n",
       "\n",
       ".text_cell_render tt {\n",
       "    font-size:    120%;\n",
       "    margin-left:   2px;\n",
       "    margin-right:  2px;\n",
       "    font-weight:   150;\n",
       "}\n",
       "\n",
       ".CodeMirror{\n",
       "        font-family: \"PT Mono\";\n",
       "        font-size: 100%;\n",
       "}\n",
       "\n",
       "</style>\n",
       "\n"
      ],
      "text/plain": [
       "<IPython.core.display.HTML object>"
      ]
     },
     "execution_count": 1,
     "metadata": {},
     "output_type": "execute_result"
    }
   ],
   "source": [
    "from IPython.core.display import HTML\n",
    "with open('../style.css', 'r') as file:\n",
    "    css = file.read()\n",
    "HTML(css)"
   ]
  },
  {
   "cell_type": "markdown",
   "metadata": {},
   "source": [
    "This notebook is used to test the conversion of non-deterministic <span style=\"font-variant:small-caps;\">Fsm</span>s into deterministic <span style=\"font-variant:small-caps;\">Fsm</span>s."
   ]
  },
  {
   "cell_type": "code",
   "execution_count": 2,
   "metadata": {},
   "outputs": [
    {
     "name": "stderr",
     "output_type": "stream",
     "text": [
      "Version 1.0.5\n"
     ]
    }
   ],
   "source": [
    "%run NFA-2-DFA.ipynb"
   ]
  },
  {
   "cell_type": "markdown",
   "metadata": {},
   "source": [
    "Unfortunately, the `%run` magic does not work with the `mypy`extension for notebooks.  \n",
    "Hence we have to switch it off."
   ]
  },
  {
   "cell_type": "code",
   "execution_count": 3,
   "metadata": {},
   "outputs": [],
   "source": [
    "%nb_mypy Off"
   ]
  },
  {
   "cell_type": "markdown",
   "metadata": {},
   "source": [
    "In order to represent the <span style=\"font-variant:small-caps;\">Fsm</span>s graphically, we use the notebook `FSM-2-Dot.ipynb`.  This notebook uses the package `graphviz`, wich can be installed by the following commands."
   ]
  },
  {
   "cell_type": "code",
   "execution_count": 4,
   "metadata": {},
   "outputs": [
    {
     "name": "stdout",
     "output_type": "stream",
     "text": [
      "Retrieving notices: ...working... done\n",
      "Collecting package metadata (current_repodata.json): done\n",
      "Solving environment: done\n",
      "\n",
      "\n",
      "==> WARNING: A newer version of conda exists. <==\n",
      "  current version: 23.7.4\n",
      "  latest version: 23.9.0\n",
      "\n",
      "Please update conda by running\n",
      "\n",
      "    $ conda update -n base -c defaults conda\n",
      "\n",
      "Or to minimize the number of packages updated during conda update use\n",
      "\n",
      "     conda install conda=23.9.0\n",
      "\n",
      "\n",
      "\n",
      "# All requested packages already installed.\n",
      "\n",
      "Collecting package metadata (current_repodata.json): done\n",
      "Solving environment: done\n",
      "\n",
      "\n",
      "==> WARNING: A newer version of conda exists. <==\n",
      "  current version: 23.7.4\n",
      "  latest version: 23.9.0\n",
      "\n",
      "Please update conda by running\n",
      "\n",
      "    $ conda update -n base -c defaults conda\n",
      "\n",
      "Or to minimize the number of packages updated during conda update use\n",
      "\n",
      "     conda install conda=23.9.0\n",
      "\n",
      "\n",
      "\n",
      "# All requested packages already installed.\n",
      "\n"
     ]
    }
   ],
   "source": [
    "!conda install -y -c  anaconda graphviz\n",
    "!conda install -y -c  anaconda python-graphviz"
   ]
  },
  {
   "cell_type": "code",
   "execution_count": 5,
   "metadata": {},
   "outputs": [],
   "source": [
    "%run FSM-2-Dot.ipynb"
   ]
  },
  {
   "cell_type": "code",
   "execution_count": 6,
   "metadata": {},
   "outputs": [
    {
     "data": {
      "text/plain": [
       "{'q0', 'q1', 'q2', 'q3', 'q4', 'q5', 'q6', 'q7'}"
      ]
     },
     "execution_count": 6,
     "metadata": {},
     "output_type": "execute_result"
    }
   ],
   "source": [
    "States = { 'q' + str(i) for i in range(8) }\n",
    "States"
   ]
  },
  {
   "cell_type": "code",
   "execution_count": 7,
   "metadata": {},
   "outputs": [],
   "source": [
    "Sigma = { 'a', 'b' }"
   ]
  },
  {
   "cell_type": "code",
   "execution_count": 8,
   "metadata": {},
   "outputs": [],
   "source": [
    "delta = {\n",
    "    ('q0',  '𝜀'): { 'q1', 'q2'},\n",
    "    ('q1', 'b'): { 'q3' },\n",
    "    ('q2', 'a'): { 'q4' },\n",
    "    ('q3', 'a'): { 'q5' },\n",
    "    ('q4', 'b'): { 'q6' },\n",
    "    ('q5',  '𝜀'): { 'q7' },\n",
    "    ('q6',  '𝜀'): { 'q7' },\n",
    "    ('q7',  '𝜀'): { 'q0' }\n",
    "}"
   ]
  },
  {
   "cell_type": "markdown",
   "metadata": {},
   "source": [
    "The non-deterministic <span style=\"font-variant:small-caps;\">Fsm</span> defined below is taken from the lecture notes."
   ]
  },
  {
   "cell_type": "code",
   "execution_count": 9,
   "metadata": {},
   "outputs": [],
   "source": [
    "nfa44 = States, Sigma, delta, 'q0', { 'q7' }"
   ]
  },
  {
   "cell_type": "markdown",
   "metadata": {},
   "source": [
    "The function `nfa2dot`can be used to render this <span style=\"font-variant:small-caps;\">Fsm</span>."
   ]
  },
  {
   "cell_type": "code",
   "execution_count": 10,
   "metadata": {},
   "outputs": [
    {
     "data": {
      "image/svg+xml": [
       "<?xml version=\"1.0\" encoding=\"UTF-8\" standalone=\"no\"?>\n",
       "<!DOCTYPE svg PUBLIC \"-//W3C//DTD SVG 1.1//EN\"\n",
       " \"http://www.w3.org/Graphics/SVG/1.1/DTD/svg11.dtd\">\n",
       "<!-- Generated by graphviz version 2.50.0 (0)\n",
       " -->\n",
       "<!-- Title: Non&#45;Deterministic FSM Pages: 1 -->\n",
       "<svg width=\"500pt\" height=\"129pt\"\n",
       " viewBox=\"0.00 0.00 500.00 129.00\" xmlns=\"http://www.w3.org/2000/svg\" xmlns:xlink=\"http://www.w3.org/1999/xlink\">\n",
       "<g id=\"graph0\" class=\"graph\" transform=\"scale(1 1) rotate(0) translate(4 125)\">\n",
       "<title>Non&#45;Deterministic FSM</title>\n",
       "<polygon fill=\"white\" stroke=\"transparent\" points=\"-4,4 -4,-125 496,-125 496,4 -4,4\"/>\n",
       "<!-- 0 -->\n",
       "<g id=\"node1\" class=\"node\">\n",
       "<title>0</title>\n",
       "<ellipse fill=\"blue\" stroke=\"blue\" cx=\"3.5\" cy=\"-24\" rx=\"3.5\" ry=\"3.5\"/>\n",
       "</g>\n",
       "<!-- q0 -->\n",
       "<g id=\"node2\" class=\"node\">\n",
       "<title>q0</title>\n",
       "<ellipse fill=\"none\" stroke=\"black\" cx=\"71\" cy=\"-24\" rx=\"27\" ry=\"18\"/>\n",
       "<text text-anchor=\"middle\" x=\"71\" y=\"-20.3\" font-family=\"Times,serif\" font-size=\"14.00\">q0</text>\n",
       "</g>\n",
       "<!-- 0&#45;&gt;q0 -->\n",
       "<g id=\"edge1\" class=\"edge\">\n",
       "<title>0&#45;&gt;q0</title>\n",
       "<path fill=\"none\" stroke=\"black\" d=\"M7.31,-24C12.15,-24 22.59,-24 33.58,-24\"/>\n",
       "<polygon fill=\"black\" stroke=\"black\" points=\"33.69,-27.5 43.69,-24 33.69,-20.5 33.69,-27.5\"/>\n",
       "</g>\n",
       "<!-- q2 -->\n",
       "<g id=\"node7\" class=\"node\">\n",
       "<title>q2</title>\n",
       "<ellipse fill=\"none\" stroke=\"black\" cx=\"167\" cy=\"-103\" rx=\"27\" ry=\"18\"/>\n",
       "<text text-anchor=\"middle\" x=\"167\" y=\"-99.3\" font-family=\"Times,serif\" font-size=\"14.00\">q2</text>\n",
       "</g>\n",
       "<!-- q0&#45;&gt;q2 -->\n",
       "<g id=\"edge5\" class=\"edge\">\n",
       "<title>q0&#45;&gt;q2</title>\n",
       "<path fill=\"none\" stroke=\"black\" d=\"M88.81,-38.12C103.51,-50.48 125.05,-68.58 141.64,-82.53\"/>\n",
       "<polygon fill=\"black\" stroke=\"black\" points=\"139.43,-85.24 149.34,-89 143.94,-79.89 139.43,-85.24\"/>\n",
       "<text text-anchor=\"middle\" x=\"119\" y=\"-68.8\" font-family=\"Times,serif\" font-size=\"14.00\">𝜀</text>\n",
       "</g>\n",
       "<!-- q1 -->\n",
       "<g id=\"node8\" class=\"node\">\n",
       "<title>q1</title>\n",
       "<ellipse fill=\"none\" stroke=\"black\" cx=\"167\" cy=\"-49\" rx=\"27\" ry=\"18\"/>\n",
       "<text text-anchor=\"middle\" x=\"167\" y=\"-45.3\" font-family=\"Times,serif\" font-size=\"14.00\">q1</text>\n",
       "</g>\n",
       "<!-- q0&#45;&gt;q1 -->\n",
       "<g id=\"edge6\" class=\"edge\">\n",
       "<title>q0&#45;&gt;q1</title>\n",
       "<path fill=\"none\" stroke=\"black\" d=\"M96.7,-30.57C107.38,-33.41 120.07,-36.79 131.65,-39.87\"/>\n",
       "<polygon fill=\"black\" stroke=\"black\" points=\"130.9,-43.29 141.47,-42.48 132.7,-36.52 130.9,-43.29\"/>\n",
       "<text text-anchor=\"middle\" x=\"119\" y=\"-40.8\" font-family=\"Times,serif\" font-size=\"14.00\">𝜀</text>\n",
       "</g>\n",
       "<!-- q7 -->\n",
       "<g id=\"node3\" class=\"node\">\n",
       "<title>q7</title>\n",
       "<ellipse fill=\"none\" stroke=\"black\" cx=\"461\" cy=\"-22\" rx=\"27\" ry=\"18\"/>\n",
       "<ellipse fill=\"none\" stroke=\"black\" cx=\"461\" cy=\"-22\" rx=\"31\" ry=\"22\"/>\n",
       "<text text-anchor=\"middle\" x=\"461\" y=\"-18.3\" font-family=\"Times,serif\" font-size=\"14.00\">q7</text>\n",
       "</g>\n",
       "<!-- q7&#45;&gt;q0 -->\n",
       "<g id=\"edge2\" class=\"edge\">\n",
       "<title>q7&#45;&gt;q0</title>\n",
       "<path fill=\"none\" stroke=\"black\" d=\"M430.44,-17.78C387.75,-12.19 306.37,-3.44 237,-7 192.36,-9.29 141.2,-15.05 107.84,-19.24\"/>\n",
       "<polygon fill=\"black\" stroke=\"black\" points=\"107.14,-15.8 97.66,-20.53 108.02,-22.74 107.14,-15.8\"/>\n",
       "<text text-anchor=\"middle\" x=\"264\" y=\"-10.8\" font-family=\"Times,serif\" font-size=\"14.00\">𝜀</text>\n",
       "</g>\n",
       "<!-- q6 -->\n",
       "<g id=\"node4\" class=\"node\">\n",
       "<title>q6</title>\n",
       "<ellipse fill=\"none\" stroke=\"black\" cx=\"361\" cy=\"-103\" rx=\"27\" ry=\"18\"/>\n",
       "<text text-anchor=\"middle\" x=\"361\" y=\"-99.3\" font-family=\"Times,serif\" font-size=\"14.00\">q6</text>\n",
       "</g>\n",
       "<!-- q6&#45;&gt;q7 -->\n",
       "<g id=\"edge3\" class=\"edge\">\n",
       "<title>q6&#45;&gt;q7</title>\n",
       "<path fill=\"none\" stroke=\"black\" d=\"M378.62,-89.26C393.17,-77.23 414.61,-59.51 431.83,-45.28\"/>\n",
       "<polygon fill=\"black\" stroke=\"black\" points=\"434.42,-47.68 439.9,-38.61 429.96,-42.29 434.42,-47.68\"/>\n",
       "<text text-anchor=\"middle\" x=\"409\" y=\"-67.8\" font-family=\"Times,serif\" font-size=\"14.00\">𝜀</text>\n",
       "</g>\n",
       "<!-- q5 -->\n",
       "<g id=\"node5\" class=\"node\">\n",
       "<title>q5</title>\n",
       "<ellipse fill=\"none\" stroke=\"black\" cx=\"361\" cy=\"-49\" rx=\"27\" ry=\"18\"/>\n",
       "<text text-anchor=\"middle\" x=\"361\" y=\"-45.3\" font-family=\"Times,serif\" font-size=\"14.00\">q5</text>\n",
       "</g>\n",
       "<!-- q5&#45;&gt;q7 -->\n",
       "<g id=\"edge4\" class=\"edge\">\n",
       "<title>q5&#45;&gt;q7</title>\n",
       "<path fill=\"none\" stroke=\"black\" d=\"M386.22,-42.33C397.03,-39.35 410.02,-35.77 422.06,-32.45\"/>\n",
       "<polygon fill=\"black\" stroke=\"black\" points=\"423.18,-35.78 431.89,-29.75 421.32,-29.03 423.18,-35.78\"/>\n",
       "<text text-anchor=\"middle\" x=\"409\" y=\"-39.8\" font-family=\"Times,serif\" font-size=\"14.00\">𝜀</text>\n",
       "</g>\n",
       "<!-- q4 -->\n",
       "<g id=\"node6\" class=\"node\">\n",
       "<title>q4</title>\n",
       "<ellipse fill=\"none\" stroke=\"black\" cx=\"264\" cy=\"-103\" rx=\"27\" ry=\"18\"/>\n",
       "<text text-anchor=\"middle\" x=\"264\" y=\"-99.3\" font-family=\"Times,serif\" font-size=\"14.00\">q4</text>\n",
       "</g>\n",
       "<!-- q4&#45;&gt;q6 -->\n",
       "<g id=\"edge7\" class=\"edge\">\n",
       "<title>q4&#45;&gt;q6</title>\n",
       "<path fill=\"none\" stroke=\"black\" d=\"M291.21,-103C301.28,-103 312.96,-103 323.81,-103\"/>\n",
       "<polygon fill=\"black\" stroke=\"black\" points=\"323.87,-106.5 333.87,-103 323.87,-99.5 323.87,-106.5\"/>\n",
       "<text text-anchor=\"middle\" x=\"312.5\" y=\"-106.8\" font-family=\"Times,serif\" font-size=\"14.00\">b</text>\n",
       "</g>\n",
       "<!-- q2&#45;&gt;q4 -->\n",
       "<g id=\"edge8\" class=\"edge\">\n",
       "<title>q2&#45;&gt;q4</title>\n",
       "<path fill=\"none\" stroke=\"black\" d=\"M194.21,-103C204.28,-103 215.96,-103 226.81,-103\"/>\n",
       "<polygon fill=\"black\" stroke=\"black\" points=\"226.87,-106.5 236.87,-103 226.87,-99.5 226.87,-106.5\"/>\n",
       "<text text-anchor=\"middle\" x=\"215.5\" y=\"-106.8\" font-family=\"Times,serif\" font-size=\"14.00\">a</text>\n",
       "</g>\n",
       "<!-- q3 -->\n",
       "<g id=\"node9\" class=\"node\">\n",
       "<title>q3</title>\n",
       "<ellipse fill=\"none\" stroke=\"black\" cx=\"264\" cy=\"-49\" rx=\"27\" ry=\"18\"/>\n",
       "<text text-anchor=\"middle\" x=\"264\" y=\"-45.3\" font-family=\"Times,serif\" font-size=\"14.00\">q3</text>\n",
       "</g>\n",
       "<!-- q1&#45;&gt;q3 -->\n",
       "<g id=\"edge9\" class=\"edge\">\n",
       "<title>q1&#45;&gt;q3</title>\n",
       "<path fill=\"none\" stroke=\"black\" d=\"M194.21,-49C204.28,-49 215.96,-49 226.81,-49\"/>\n",
       "<polygon fill=\"black\" stroke=\"black\" points=\"226.87,-52.5 236.87,-49 226.87,-45.5 226.87,-52.5\"/>\n",
       "<text text-anchor=\"middle\" x=\"215.5\" y=\"-52.8\" font-family=\"Times,serif\" font-size=\"14.00\">b</text>\n",
       "</g>\n",
       "<!-- q3&#45;&gt;q5 -->\n",
       "<g id=\"edge10\" class=\"edge\">\n",
       "<title>q3&#45;&gt;q5</title>\n",
       "<path fill=\"none\" stroke=\"black\" d=\"M291.21,-49C301.28,-49 312.96,-49 323.81,-49\"/>\n",
       "<polygon fill=\"black\" stroke=\"black\" points=\"323.87,-52.5 333.87,-49 323.87,-45.5 323.87,-52.5\"/>\n",
       "<text text-anchor=\"middle\" x=\"312.5\" y=\"-52.8\" font-family=\"Times,serif\" font-size=\"14.00\">a</text>\n",
       "</g>\n",
       "</g>\n",
       "</svg>\n"
      ],
      "text/plain": [
       "<graphviz.graphs.Digraph at 0x1188c3690>"
      ]
     },
     "execution_count": 10,
     "metadata": {},
     "output_type": "execute_result"
    }
   ],
   "source": [
    "nfa2dot(nfa44)"
   ]
  },
  {
   "cell_type": "markdown",
   "metadata": {},
   "source": [
    "This recognizes the same language as the language described by\n",
    "$$ (a\\cdot b + b \\cdot a)  \\cdot (a\\cdot b + b \\cdot a)^* $$\n",
    "Let us convert it into a deterministic <span style=\"font-variant:small-caps;\">Fsm</span>: "
   ]
  },
  {
   "cell_type": "code",
   "execution_count": 11,
   "metadata": {},
   "outputs": [],
   "source": [
    "dfa44 = nfa2dfa(nfa44)"
   ]
  },
  {
   "cell_type": "markdown",
   "metadata": {},
   "source": [
    "The function `dfa2dot`can be used to render this <span style=\"font-variant:small-caps;\">Fsm</span>."
   ]
  },
  {
   "cell_type": "code",
   "execution_count": 12,
   "metadata": {},
   "outputs": [
    {
     "data": {
      "image/svg+xml": [
       "<?xml version=\"1.0\" encoding=\"UTF-8\" standalone=\"no\"?>\n",
       "<!DOCTYPE svg PUBLIC \"-//W3C//DTD SVG 1.1//EN\"\n",
       " \"http://www.w3.org/Graphics/SVG/1.1/DTD/svg11.dtd\">\n",
       "<!-- Generated by graphviz version 2.50.0 (0)\n",
       " -->\n",
       "<!-- Title: Deterministic FSM Pages: 1 -->\n",
       "<svg width=\"510pt\" height=\"256pt\"\n",
       " viewBox=\"0.00 0.00 510.00 256.00\" xmlns=\"http://www.w3.org/2000/svg\" xmlns:xlink=\"http://www.w3.org/1999/xlink\">\n",
       "<g id=\"graph0\" class=\"graph\" transform=\"scale(1 1) rotate(0) translate(4 252)\">\n",
       "<title>Deterministic FSM</title>\n",
       "<polygon fill=\"white\" stroke=\"transparent\" points=\"-4,4 -4,-252 506,-252 506,4 -4,4\"/>\n",
       "<!-- 1 -->\n",
       "<g id=\"node1\" class=\"node\">\n",
       "<title>1</title>\n",
       "<ellipse fill=\"blue\" stroke=\"blue\" cx=\"3.5\" cy=\"-18\" rx=\"3.5\" ry=\"3.5\"/>\n",
       "</g>\n",
       "<!-- S2 -->\n",
       "<g id=\"node2\" class=\"node\">\n",
       "<title>S2</title>\n",
       "<ellipse fill=\"none\" stroke=\"black\" cx=\"71\" cy=\"-18\" rx=\"27\" ry=\"18\"/>\n",
       "<text text-anchor=\"middle\" x=\"71\" y=\"-14.3\" font-family=\"Times,serif\" font-size=\"14.00\">S2</text>\n",
       "</g>\n",
       "<!-- 1&#45;&gt;S2 -->\n",
       "<g id=\"edge1\" class=\"edge\">\n",
       "<title>1&#45;&gt;S2</title>\n",
       "<path fill=\"none\" stroke=\"black\" d=\"M7.31,-18C12.15,-18 22.59,-18 33.58,-18\"/>\n",
       "<polygon fill=\"black\" stroke=\"black\" points=\"33.69,-21.5 43.69,-18 33.69,-14.5 33.69,-21.5\"/>\n",
       "</g>\n",
       "<!-- S0 -->\n",
       "<g id=\"node3\" class=\"node\">\n",
       "<title>S0</title>\n",
       "<ellipse fill=\"none\" stroke=\"black\" cx=\"168\" cy=\"-73\" rx=\"27\" ry=\"18\"/>\n",
       "<text text-anchor=\"middle\" x=\"168\" y=\"-69.3\" font-family=\"Times,serif\" font-size=\"14.00\">S0</text>\n",
       "</g>\n",
       "<!-- S2&#45;&gt;S0 -->\n",
       "<g id=\"edge7\" class=\"edge\">\n",
       "<title>S2&#45;&gt;S0</title>\n",
       "<path fill=\"none\" stroke=\"black\" d=\"M92.15,-29.66C105.5,-37.39 123.22,-47.65 138.07,-56.25\"/>\n",
       "<polygon fill=\"black\" stroke=\"black\" points=\"136.47,-59.37 146.88,-61.35 139.98,-53.31 136.47,-59.37\"/>\n",
       "<text text-anchor=\"middle\" x=\"119.5\" y=\"-50.8\" font-family=\"Times,serif\" font-size=\"14.00\">b</text>\n",
       "</g>\n",
       "<!-- S3 -->\n",
       "<g id=\"node5\" class=\"node\">\n",
       "<title>S3</title>\n",
       "<ellipse fill=\"none\" stroke=\"black\" cx=\"370\" cy=\"-101\" rx=\"27\" ry=\"18\"/>\n",
       "<text text-anchor=\"middle\" x=\"370\" y=\"-97.3\" font-family=\"Times,serif\" font-size=\"14.00\">S3</text>\n",
       "</g>\n",
       "<!-- S2&#45;&gt;S3 -->\n",
       "<g id=\"edge6\" class=\"edge\">\n",
       "<title>S2&#45;&gt;S3</title>\n",
       "<path fill=\"none\" stroke=\"black\" d=\"M98.27,-17.49C145.96,-17.58 248.9,-22.55 325,-60 333.94,-64.4 342.34,-71.22 349.34,-78.05\"/>\n",
       "<polygon fill=\"black\" stroke=\"black\" points=\"346.91,-80.56 356.37,-85.34 351.95,-75.71 346.91,-80.56\"/>\n",
       "<text text-anchor=\"middle\" x=\"216.5\" y=\"-30.8\" font-family=\"Times,serif\" font-size=\"14.00\">a</text>\n",
       "</g>\n",
       "<!-- S1 -->\n",
       "<g id=\"node4\" class=\"node\">\n",
       "<title>S1</title>\n",
       "<ellipse fill=\"none\" stroke=\"black\" cx=\"269\" cy=\"-101\" rx=\"27\" ry=\"18\"/>\n",
       "<ellipse fill=\"none\" stroke=\"black\" cx=\"269\" cy=\"-101\" rx=\"31\" ry=\"22\"/>\n",
       "<text text-anchor=\"middle\" x=\"269\" y=\"-97.3\" font-family=\"Times,serif\" font-size=\"14.00\">S1</text>\n",
       "</g>\n",
       "<!-- S0&#45;&gt;S1 -->\n",
       "<g id=\"edge2\" class=\"edge\">\n",
       "<title>S0&#45;&gt;S1</title>\n",
       "<path fill=\"none\" stroke=\"black\" d=\"M191.65,-81.89C198.45,-84.38 205.97,-86.97 213,-89 218.09,-90.47 223.49,-91.86 228.85,-93.13\"/>\n",
       "<polygon fill=\"black\" stroke=\"black\" points=\"228.46,-96.64 238.99,-95.43 230.01,-89.81 228.46,-96.64\"/>\n",
       "<text text-anchor=\"middle\" x=\"216.5\" y=\"-93.8\" font-family=\"Times,serif\" font-size=\"14.00\">a</text>\n",
       "</g>\n",
       "<!-- S4 -->\n",
       "<g id=\"node6\" class=\"node\">\n",
       "<title>S4</title>\n",
       "<ellipse fill=\"none\" stroke=\"black\" cx=\"471\" cy=\"-164\" rx=\"27\" ry=\"18\"/>\n",
       "<text text-anchor=\"middle\" x=\"471\" y=\"-160.3\" font-family=\"Times,serif\" font-size=\"14.00\">S4</text>\n",
       "</g>\n",
       "<!-- S0&#45;&gt;S4 -->\n",
       "<g id=\"edge3\" class=\"edge\">\n",
       "<title>S0&#45;&gt;S4</title>\n",
       "<path fill=\"none\" stroke=\"black\" d=\"M182.09,-88.36C194.86,-102.22 215.57,-121.92 238,-132 302.65,-161.05 386.83,-165.37 433.96,-165.18\"/>\n",
       "<polygon fill=\"black\" stroke=\"black\" points=\"434.03,-168.68 443.99,-165.06 433.95,-161.68 434.03,-168.68\"/>\n",
       "<text text-anchor=\"middle\" x=\"321.5\" y=\"-159.8\" font-family=\"Times,serif\" font-size=\"14.00\">b</text>\n",
       "</g>\n",
       "<!-- S1&#45;&gt;S0 -->\n",
       "<g id=\"edge5\" class=\"edge\">\n",
       "<title>S1&#45;&gt;S0</title>\n",
       "<path fill=\"none\" stroke=\"black\" d=\"M248.26,-84.61C240.05,-78.8 230.09,-72.97 220,-70 214.97,-68.52 209.55,-67.88 204.18,-67.77\"/>\n",
       "<polygon fill=\"black\" stroke=\"black\" points=\"203.9,-64.28 194.03,-68.15 204.16,-71.28 203.9,-64.28\"/>\n",
       "<text text-anchor=\"middle\" x=\"216.5\" y=\"-73.8\" font-family=\"Times,serif\" font-size=\"14.00\">b</text>\n",
       "</g>\n",
       "<!-- S1&#45;&gt;S3 -->\n",
       "<g id=\"edge4\" class=\"edge\">\n",
       "<title>S1&#45;&gt;S3</title>\n",
       "<path fill=\"none\" stroke=\"black\" d=\"M300.24,-101C310.48,-101 322.01,-101 332.67,-101\"/>\n",
       "<polygon fill=\"black\" stroke=\"black\" points=\"332.96,-104.5 342.96,-101 332.96,-97.5 332.96,-104.5\"/>\n",
       "<text text-anchor=\"middle\" x=\"321.5\" y=\"-104.8\" font-family=\"Times,serif\" font-size=\"14.00\">a</text>\n",
       "</g>\n",
       "<!-- S3&#45;&gt;S4 -->\n",
       "<g id=\"edge8\" class=\"edge\">\n",
       "<title>S3&#45;&gt;S4</title>\n",
       "<path fill=\"none\" stroke=\"black\" d=\"M390.09,-113.15C404.88,-122.56 425.59,-135.74 442.22,-146.32\"/>\n",
       "<polygon fill=\"black\" stroke=\"black\" points=\"440.65,-149.47 450.97,-151.89 444.41,-143.57 440.65,-149.47\"/>\n",
       "<text text-anchor=\"middle\" x=\"418.5\" y=\"-135.8\" font-family=\"Times,serif\" font-size=\"14.00\">a</text>\n",
       "</g>\n",
       "<!-- S5 -->\n",
       "<g id=\"node7\" class=\"node\">\n",
       "<title>S5</title>\n",
       "<ellipse fill=\"none\" stroke=\"black\" cx=\"471\" cy=\"-73\" rx=\"27\" ry=\"18\"/>\n",
       "<ellipse fill=\"none\" stroke=\"black\" cx=\"471\" cy=\"-73\" rx=\"31\" ry=\"22\"/>\n",
       "<text text-anchor=\"middle\" x=\"471\" y=\"-69.3\" font-family=\"Times,serif\" font-size=\"14.00\">S5</text>\n",
       "</g>\n",
       "<!-- S3&#45;&gt;S5 -->\n",
       "<g id=\"edge9\" class=\"edge\">\n",
       "<title>S3&#45;&gt;S5</title>\n",
       "<path fill=\"none\" stroke=\"black\" d=\"M388.38,-87.37C396.08,-82.14 405.54,-76.77 415,-74 419.74,-72.62 424.8,-71.75 429.87,-71.25\"/>\n",
       "<polygon fill=\"black\" stroke=\"black\" points=\"430.37,-74.73 440.17,-70.69 429.99,-67.74 430.37,-74.73\"/>\n",
       "<text text-anchor=\"middle\" x=\"418.5\" y=\"-77.8\" font-family=\"Times,serif\" font-size=\"14.00\">b</text>\n",
       "</g>\n",
       "<!-- S4&#45;&gt;S4 -->\n",
       "<g id=\"edge10\" class=\"edge\">\n",
       "<title>S4&#45;&gt;S4</title>\n",
       "<path fill=\"none\" stroke=\"black\" d=\"M466.33,-181.78C465.53,-191.31 467.09,-200 471,-200 473.38,-200 474.89,-196.77 475.53,-192.1\"/>\n",
       "<polygon fill=\"black\" stroke=\"black\" points=\"479.03,-191.83 475.67,-181.78 472.03,-191.73 479.03,-191.83\"/>\n",
       "<text text-anchor=\"middle\" x=\"471\" y=\"-203.8\" font-family=\"Times,serif\" font-size=\"14.00\">a</text>\n",
       "</g>\n",
       "<!-- S4&#45;&gt;S4 -->\n",
       "<g id=\"edge11\" class=\"edge\">\n",
       "<title>S4&#45;&gt;S4</title>\n",
       "<path fill=\"none\" stroke=\"black\" d=\"M463.32,-181.42C458.94,-198.79 461.5,-218 471,-218 478.64,-218 481.79,-205.56 480.45,-191.65\"/>\n",
       "<polygon fill=\"black\" stroke=\"black\" points=\"483.83,-190.68 478.68,-181.42 476.94,-191.87 483.83,-190.68\"/>\n",
       "<text text-anchor=\"middle\" x=\"471\" y=\"-221.8\" font-family=\"Times,serif\" font-size=\"14.00\">b</text>\n",
       "</g>\n",
       "<!-- S5&#45;&gt;S0 -->\n",
       "<g id=\"edge13\" class=\"edge\">\n",
       "<title>S5&#45;&gt;S0</title>\n",
       "<path fill=\"none\" stroke=\"black\" d=\"M440.33,-69.52C434.27,-68.92 427.94,-68.37 422,-68 332.38,-62.45 309.79,-64.89 220,-64 216.89,-63.97 216.1,-63.69 213,-64 209.92,-64.31 206.73,-64.74 203.55,-65.25\"/>\n",
       "<polygon fill=\"black\" stroke=\"black\" points=\"202.75,-61.84 193.53,-67.07 204,-68.73 202.75,-61.84\"/>\n",
       "<text text-anchor=\"middle\" x=\"321.5\" y=\"-67.8\" font-family=\"Times,serif\" font-size=\"14.00\">b</text>\n",
       "</g>\n",
       "<!-- S5&#45;&gt;S3 -->\n",
       "<g id=\"edge12\" class=\"edge\">\n",
       "<title>S5&#45;&gt;S3</title>\n",
       "<path fill=\"none\" stroke=\"black\" d=\"M442.97,-82.49C436.16,-84.74 428.85,-87.06 422,-89 416.88,-90.45 411.44,-91.87 406.09,-93.19\"/>\n",
       "<polygon fill=\"black\" stroke=\"black\" points=\"404.93,-89.86 396.02,-95.59 406.56,-96.67 404.93,-89.86\"/>\n",
       "<text text-anchor=\"middle\" x=\"418.5\" y=\"-93.8\" font-family=\"Times,serif\" font-size=\"14.00\">a</text>\n",
       "</g>\n",
       "</g>\n",
       "</svg>\n"
      ],
      "text/plain": [
       "<graphviz.graphs.Digraph at 0x1187ee810>"
      ]
     },
     "execution_count": 12,
     "metadata": {},
     "output_type": "execute_result"
    }
   ],
   "source": [
    "dot, states2Names = dfa2dot(dfa44)\n",
    "dot"
   ]
  },
  {
   "cell_type": "markdown",
   "metadata": {},
   "source": [
    "In order to inspect the states of this deterministic <span style=\"font-variant:small-caps;\">Fsm</span> we print the dictionary  `states2Names`."
   ]
  },
  {
   "cell_type": "code",
   "execution_count": null,
   "metadata": {},
   "outputs": [],
   "source": [
    "states2Names"
   ]
  },
  {
   "cell_type": "markdown",
   "metadata": {},
   "source": [
    "We can also print the <span style=\"font-variant:small-caps;\">Fsm</span>."
   ]
  },
  {
   "cell_type": "code",
   "execution_count": null,
   "metadata": {},
   "outputs": [],
   "source": [
    "dfa44"
   ]
  },
  {
   "cell_type": "code",
   "execution_count": null,
   "metadata": {},
   "outputs": [],
   "source": []
  }
 ],
 "metadata": {
  "kernelspec": {
   "display_name": "Python 3 (ipykernel)",
   "language": "python",
   "name": "python3"
  },
  "language_info": {
   "codemirror_mode": {
    "name": "ipython",
    "version": 3
   },
   "file_extension": ".py",
   "mimetype": "text/x-python",
   "name": "python",
   "nbconvert_exporter": "python",
   "pygments_lexer": "ipython3",
   "version": "3.11.5"
  },
  "varInspector": {
   "cols": {
    "lenName": 16,
    "lenType": 16,
    "lenVar": 40
   },
   "kernels_config": {
    "python": {
     "delete_cmd_postfix": "",
     "delete_cmd_prefix": "del ",
     "library": "var_list.py",
     "varRefreshCmd": "print(var_dic_list())"
    },
    "r": {
     "delete_cmd_postfix": ") ",
     "delete_cmd_prefix": "rm(",
     "library": "var_list.r",
     "varRefreshCmd": "cat(var_dic_list()) "
    }
   },
   "types_to_exclude": [
    "module",
    "function",
    "builtin_function_or_method",
    "instance",
    "_Feature"
   ],
   "window_display": false
  }
 },
 "nbformat": 4,
 "nbformat_minor": 4
}
