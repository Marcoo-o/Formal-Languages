{
 "cells": [
  {
   "cell_type": "code",
   "execution_count": 1,
   "metadata": {},
   "outputs": [
    {
     "data": {
      "text/html": [
       "<link href='http://fonts.googleapis.com/css?family=Alegreya+Sans:100,300,400,500,700,800,900,100italic,300italic,400italic,500italic,700italic,800italic,900italic' rel='stylesheet' type='text/css'>\n",
       "<link href='http://fonts.googleapis.com/css?family=Arvo:400,700,400italic' rel='stylesheet' type='text/css'>\n",
       "<link href='http://fonts.googleapis.com/css?family=PT+Mono' rel='stylesheet' type='text/css'>\n",
       "<link href='http://fonts.googleapis.com/css?family=Shadows+Into+Light' rel='stylesheet' type='text/css'>\n",
       "<link href='http://fonts.googleapis.com/css?family=Philosopher:400,700,400italic,700italic' rel='stylesheet' type='text/css'>\n",
       "\n",
       "<style>\n",
       "\n",
       "@font-face {\n",
       "    font-family: \"Computer Modern\";\n",
       "    src: url('http://mirrors.ctan.org/fonts/cm-unicode/fonts/otf/cmunss.otf');\n",
       "}\n",
       "\n",
       ".container { width: 100% }\n",
       "\n",
       "/* Formatting for header cells */\n",
       ".text_cell_render h1 {\n",
       "    font-family: 'Philosopher', sans-serif;\n",
       "    font-weight: 400;\n",
       "    font-size: 2.2em;\n",
       "    line-height: 100%;\n",
       "    color: rgb(0, 80, 120);\n",
       "    margin-bottom: 0.1em;\n",
       "    margin-top: 0.1em;\n",
       "    display: block;\n",
       "}\t\n",
       ".text_cell_render h2 {\n",
       "    font-family: 'Philosopher', serif;\n",
       "    font-weight: 400;\n",
       "    font-size: 1.9em;\n",
       "    line-height: 100%;\n",
       "    color: rgb(200,100,0);\n",
       "    margin-bottom: 0.1em;\n",
       "    margin-top: 0.1em;\n",
       "    display: block;\n",
       "}\t\n",
       "\n",
       ".text_cell_render h3 {\n",
       "    font-family: 'Philosopher', serif;\n",
       "    margin-top:12px;\n",
       "    margin-bottom: 3px;\n",
       "    font-style: italic;\n",
       "    color: rgb(94,127,192);\n",
       "}\n",
       "\n",
       ".text_cell_render h4 {\n",
       "    font-family: 'Philosopher', serif;\n",
       "}\n",
       "\n",
       ".text_cell_render h5 {\n",
       "    font-family: 'Alegreya Sans', sans-serif;\n",
       "    font-weight: 300;\n",
       "    font-size: 16pt;\n",
       "    color: grey;\n",
       "    font-style: italic;\n",
       "    margin-bottom: .1em;\n",
       "    margin-top: 0.1em;\n",
       "    display: block;\n",
       "}\n",
       "\n",
       ".text_cell_render h6 {\n",
       "    font-family: 'PT Mono', sans-serif;\n",
       "    font-weight: 300;\n",
       "    font-size: 10pt;\n",
       "    color: grey;\n",
       "    margin-bottom: 1px;\n",
       "    margin-top: 1px;\n",
       "}\n",
       "\n",
       ".text_cell_render em {\n",
       "    font-family: 'Philosopher', sans-serif;\n",
       "    color:        blue;\n",
       "    background-color: rgb(255,220,180);\n",
       "    font-size:    110%;\n",
       "    margin-left:   2px;\n",
       "    margin-right:  2px;\n",
       "    font-weight:   100;\n",
       "}\n",
       "\n",
       ".text_cell_render b {\n",
       "    color:            rgb(255,195,195);\n",
       "    background-color: rgb(0,0,0);\n",
       "    font-size:    110%;\n",
       "    margin-left:   2px;\n",
       "    margin-right:  2px;\n",
       "    font-weight:   650;\n",
       "}\n",
       "\n",
       ".text_cell_render tt {\n",
       "    font-size:    120%;\n",
       "    margin-left:   2px;\n",
       "    margin-right:  2px;\n",
       "    font-weight:   150;\n",
       "}\n",
       "\n",
       ".CodeMirror{\n",
       "        font-family: \"PT Mono\";\n",
       "        font-size: 100%;\n",
       "}\n",
       "\n",
       "</style>\n",
       "\n"
      ],
      "text/plain": [
       "<IPython.core.display.HTML object>"
      ]
     },
     "execution_count": 1,
     "metadata": {},
     "output_type": "execute_result"
    }
   ],
   "source": [
    "from IPython.core.display import HTML\n",
    "with open('../style.css', 'r') as file:\n",
    "    css = file.read()\n",
    "HTML(css)"
   ]
  },
  {
   "cell_type": "markdown",
   "metadata": {},
   "source": [
    "The following cells loads the `mypy` extension for notebooks.  This enables us to check the type annotation of cells."
   ]
  },
  {
   "cell_type": "code",
   "execution_count": null,
   "metadata": {},
   "outputs": [],
   "source": [
    "%load_ext nb_mypy"
   ]
  },
  {
   "cell_type": "markdown",
   "metadata": {},
   "source": [
    "# A Parser for Regular Expression"
   ]
  },
  {
   "cell_type": "markdown",
   "metadata": {},
   "source": [
    "This notebook implements a parser for regular expressions. The parser that is implemented in the function `parseExpr` parses a regular expression \n",
    "according to the following <em style=\"color:blue\">EBNF grammar</em>.\n",
    "```\n",
    "   regExp  → product ('+' product)*\n",
    "   product → factor factor*\n",
    "   factor  → atom '*'?\n",
    "   atom    → '(' expr ')' | CHAR | '𝜀' | '∅'\n",
    "```\n",
    "The parse tree is represented as a nested tuple.\n",
    "- letters are represented by themselves,\n",
    "- The character `'∅'` is interpreted as the regular expression $\\emptyset$ denoting the empty set,\n",
    "- The character `'𝜀'` represents the regular expression $\\varepsilon$ denoting the empty string,\n",
    "- $r_1 r_2$ is represented as `(`$r_1$ `, '⋅',` $r_2$ `)`, \n",
    "- $r_1 + r_2$ is represented as `(`$r_1$ `, '+',` $r_2$ `)`,\n",
    "- $r^*$ is represented as `(` $r$ `, '*')`.\n",
    "\n",
    "The parser is implemented as a recursive *top-down* parser."
   ]
  },
  {
   "cell_type": "markdown",
   "metadata": {},
   "source": [
    "As we have annotated our function with types, we need to import several items from the module `typing`.  \n",
    "The type `Match` is the type of the object returned by the method `fullmatch` that is used later."
   ]
  },
  {
   "cell_type": "code",
   "execution_count": 2,
   "metadata": {},
   "outputs": [],
   "source": [
    "from typing import TypeVar"
   ]
  },
  {
   "cell_type": "markdown",
   "metadata": {},
   "source": [
    "We start with a definition of the type of the parse trees that are generated.  A parse tree is either\n",
    "* an integer,\n",
    "* a string,\n",
    "* a tuple of parse trees.\n",
    "\n",
    "Hence, this type is a *recursive type*.  First, we define a type variable."
   ]
  },
  {
   "cell_type": "code",
   "execution_count": 3,
   "metadata": {},
   "outputs": [],
   "source": [
    "ParseTree = TypeVar('ParseTree')"
   ]
  },
  {
   "cell_type": "markdown",
   "metadata": {},
   "source": [
    "Next, we give the recursive definition of this type variable.\n",
    "The *ellipsis* `...` specifies that the tuple can be of any length."
   ]
  },
  {
   "cell_type": "code",
   "execution_count": 4,
   "metadata": {},
   "outputs": [],
   "source": [
    "ParseTree = int | str | tuple[ParseTree, ...]"
   ]
  },
  {
   "cell_type": "markdown",
   "metadata": {},
   "source": [
    "In order to tokenize strings, we need regular expressions from the module `re`."
   ]
  },
  {
   "cell_type": "code",
   "execution_count": 5,
   "metadata": {},
   "outputs": [],
   "source": [
    "import re"
   ]
  },
  {
   "cell_type": "markdown",
   "metadata": {},
   "source": [
    "The function `tokenize(s)` partitions the string `s` into a list of tokens.\n",
    "It recognizes \n",
    "- the operator symbols `+` and `*`, \n",
    "- the parentheses `(`, `)`, \n",
    "- single upper or lower case letters, \n",
    "- `0`, \n",
    "- the empty string `\"\"`.\n",
    "\n",
    "All whitespace characters (and, indeed, all characters that could not be matched) are discarded."
   ]
  },
  {
   "cell_type": "code",
   "execution_count": 6,
   "metadata": {},
   "outputs": [],
   "source": [
    "def tokenize(s: str) -> list[str]:\n",
    "    regExp = r'''\n",
    "              [+*()]   |  # operators and parentheses\n",
    "              [a-zA-Z] |  # single characters from the alphabet\n",
    "              ∅        |  # empty regular expression\n",
    "              𝜀           # epsilon\n",
    "              '''\n",
    "    return [t for t in re.findall(regExp, s, flags=re.VERBOSE)]"
   ]
  },
  {
   "cell_type": "code",
   "execution_count": 7,
   "metadata": {},
   "outputs": [
    {
     "data": {
      "text/plain": [
       "['a',\n",
       " '*',\n",
       " 'b',\n",
       " 'c',\n",
       " '+',\n",
       " 'b',\n",
       " 'a',\n",
       " '*',\n",
       " 'c',\n",
       " '+',\n",
       " '(',\n",
       " '𝜀',\n",
       " '+',\n",
       " 'c',\n",
       " '*',\n",
       " ')',\n",
       " '+',\n",
       " '∅',\n",
       " '*']"
      ]
     },
     "execution_count": 7,
     "metadata": {},
     "output_type": "execute_result"
    }
   ],
   "source": [
    "tokenize('a*bc + ba*c + (𝜀+c*) + ∅*')"
   ]
  },
  {
   "cell_type": "markdown",
   "metadata": {},
   "source": [
    "Below we have defined forward declarations of some functions that are used later. \n",
    "This is necessary, since these functions are mutually recursive.  \n",
    "\n",
    "As these are only stubs, there is no need to type check their body.  \n",
    "Therefore, we switch of the type checking for the return statement.  \n",
    "This is done via the *pragma* `# type: ignore`."
   ]
  },
  {
   "cell_type": "code",
   "execution_count": null,
   "metadata": {},
   "outputs": [],
   "source": [
    "def parseRegExp(TokenList: list[str])  -> tuple[ParseTree, list[str]]: \n",
    "    return None # type: ignore\n",
    "\n",
    "def parseProduct(TokenList: list[str]) -> tuple[ParseTree, list[str]]: \n",
    "    return None # type: ignore\n",
    "\n",
    "def parseFactor(TokenList: list[str])  -> tuple[ParseTree, list[str]]: \n",
    "    return None # type: ignore\n",
    "\n",
    "def parseAtom(TokenList: list[str]) -> tuple[str | int | ParseTree, list[str]]:\n",
    "    return None # type: ignore"
   ]
  },
  {
   "cell_type": "markdown",
   "metadata": {},
   "source": [
    "The function `parse` takes a string `s` and tries to parse it as a regular expression.  \n",
    "It returns the parse tree."
   ]
  },
  {
   "cell_type": "code",
   "execution_count": null,
   "metadata": {},
   "outputs": [],
   "source": [
    "def parse(s: str) -> ParseTree:\n",
    "    TokenList = tokenize(s)\n",
    "    regExp, Rest = parseRegExp(TokenList)\n",
    "    assert Rest == [], f'Parse Error: could not parse {TokenList}'\n",
    "    return regExp"
   ]
  },
  {
   "cell_type": "markdown",
   "metadata": {},
   "source": [
    "The function `parseRegExp` takes a token list `TokenList` and tries to interpret this list as a regular expression.  \n",
    "It returns the regular expression in the form of a nested tuple and a list of those tokens that could not be parsed.  \n",
    "It is implemented as a <em style=\"color:blue\">top-down-parser.</em> \n",
    "\n",
    "The function `parseRegExp` implements the following grammar rule:\n",
    "```\n",
    "regExp → product ('+' product)*\n",
    "```"
   ]
  },
  {
   "cell_type": "code",
   "execution_count": null,
   "metadata": {},
   "outputs": [],
   "source": [
    "def parseRegExp(TokenList: list[str]) -> tuple[ParseTree, list[str]]:\n",
    "    result, Rest = parseProduct(TokenList)\n",
    "    while len(Rest) >= 2 and Rest[0] == '+':\n",
    "        arg, Rest = parseProduct(Rest[1:])\n",
    "        result = (result, '+', arg)\n",
    "    return result, Rest"
   ]
  },
  {
   "cell_type": "markdown",
   "metadata": {},
   "source": [
    "The function `parseProduct` implements the following grammar rule:\n",
    "```\n",
    "product → factor factor*\n",
    "```"
   ]
  },
  {
   "cell_type": "code",
   "execution_count": null,
   "metadata": {},
   "outputs": [],
   "source": [
    "def parseProduct(TokenList: list[str]) -> tuple[ParseTree, list[str]]:\n",
    "    result, Rest = parseFactor(TokenList)\n",
    "    while len(Rest) > 0 and not (Rest[0] in [\"+\", \")\"]):\n",
    "        arg, Rest = parseFactor(Rest)\n",
    "        result = (result, '⋅', arg)\n",
    "    return result, Rest"
   ]
  },
  {
   "cell_type": "markdown",
   "metadata": {},
   "source": [
    "The function `parseFactor` implements the following grammar rule:\n",
    "```\n",
    "factor → atom '*'?\n",
    "```"
   ]
  },
  {
   "cell_type": "code",
   "execution_count": null,
   "metadata": {},
   "outputs": [],
   "source": [
    "def parseFactor(TokenList: list[str]) -> tuple[ParseTree, list[str]]:\n",
    "    atom, Rest = parseAtom(TokenList)\n",
    "    if len(Rest) > 0 and Rest[0] == \"*\":\n",
    "        return (atom, '*'), Rest[1:]\n",
    "    return atom, Rest"
   ]
  },
  {
   "cell_type": "markdown",
   "metadata": {},
   "source": [
    "The function `parseAtom` implements the following grammar rule:\n",
    "```\n",
    "atom  → '(' expr ')'\n",
    "      | '∅'            # denotes empty set ∅\n",
    "      | '𝜀'            # denotes empty string 𝜀\n",
    "      | CHAR           # any other character denotes itself\n",
    "```"
   ]
  },
  {
   "cell_type": "code",
   "execution_count": null,
   "metadata": {},
   "outputs": [],
   "source": [
    "def parseAtom(TokenList: list[str]) -> tuple[str | int | ParseTree, list[str]]:\n",
    "    if TokenList[0] == '(':\n",
    "        regExp, Rest = parseRegExp(TokenList[1:])\n",
    "        assert Rest[0] == \")\", \"Parse Error\"\n",
    "        return regExp, Rest[1:]\n",
    "    if TokenList[0] == '∅':\n",
    "        return 0, TokenList[1:]\n",
    "    if TokenList[0] == '𝜀':\n",
    "        return '𝜀', TokenList[1:]\n",
    "    s = TokenList[0]\n",
    "    if s not in ['+', '*', '(', ')']:\n",
    "        return s, TokenList[1:]\n",
    "    assert False, f'parse error: {TokenList}'"
   ]
  },
  {
   "cell_type": "code",
   "execution_count": null,
   "metadata": {},
   "outputs": [],
   "source": [
    "parse('a*+(b*+cd*)*(a+c*)')"
   ]
  },
  {
   "cell_type": "code",
   "execution_count": null,
   "metadata": {},
   "outputs": [],
   "source": []
  }
 ],
 "metadata": {
  "kernelspec": {
   "display_name": "Python 3 (ipykernel)",
   "language": "python",
   "name": "python3"
  },
  "language_info": {
   "codemirror_mode": {
    "name": "ipython",
    "version": 3
   },
   "file_extension": ".py",
   "mimetype": "text/x-python",
   "name": "python",
   "nbconvert_exporter": "python",
   "pygments_lexer": "ipython3",
   "version": "3.11.5"
  },
  "varInspector": {
   "cols": {
    "lenName": 16,
    "lenType": 16,
    "lenVar": 40
   },
   "kernels_config": {
    "python": {
     "delete_cmd_postfix": "",
     "delete_cmd_prefix": "del ",
     "library": "var_list.py",
     "varRefreshCmd": "print(var_dic_list())"
    },
    "r": {
     "delete_cmd_postfix": ") ",
     "delete_cmd_prefix": "rm(",
     "library": "var_list.r",
     "varRefreshCmd": "cat(var_dic_list()) "
    }
   },
   "types_to_exclude": [
    "module",
    "function",
    "builtin_function_or_method",
    "instance",
    "_Feature"
   ],
   "window_display": false
  }
 },
 "nbformat": 4,
 "nbformat_minor": 4
}
