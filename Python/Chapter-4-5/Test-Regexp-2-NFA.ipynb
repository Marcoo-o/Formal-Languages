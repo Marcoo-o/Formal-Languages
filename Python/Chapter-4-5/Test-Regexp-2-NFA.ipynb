{
 "cells": [
  {
   "cell_type": "code",
   "execution_count": 1,
   "metadata": {},
   "outputs": [
    {
     "data": {
      "text/html": [
       "<link href='http://fonts.googleapis.com/css?family=Alegreya+Sans:100,300,400,500,700,800,900,100italic,300italic,400italic,500italic,700italic,800italic,900italic' rel='stylesheet' type='text/css'>\n",
       "<link href='http://fonts.googleapis.com/css?family=Arvo:400,700,400italic' rel='stylesheet' type='text/css'>\n",
       "<link href='http://fonts.googleapis.com/css?family=PT+Mono' rel='stylesheet' type='text/css'>\n",
       "<link href='http://fonts.googleapis.com/css?family=Shadows+Into+Light' rel='stylesheet' type='text/css'>\n",
       "<link href='http://fonts.googleapis.com/css?family=Philosopher:400,700,400italic,700italic' rel='stylesheet' type='text/css'>\n",
       "\n",
       "<style>\n",
       "\n",
       "@font-face {\n",
       "    font-family: \"Computer Modern\";\n",
       "    src: url('http://mirrors.ctan.org/fonts/cm-unicode/fonts/otf/cmunss.otf');\n",
       "}\n",
       "\n",
       ".container { width: 100% }\n",
       "\n",
       "/* Formatting for header cells */\n",
       ".text_cell_render h1 {\n",
       "    font-family: 'Philosopher', sans-serif;\n",
       "    font-weight: 400;\n",
       "    font-size: 2.2em;\n",
       "    line-height: 100%;\n",
       "    color: rgb(0, 80, 120);\n",
       "    margin-bottom: 0.1em;\n",
       "    margin-top: 0.1em;\n",
       "    display: block;\n",
       "}\t\n",
       ".text_cell_render h2 {\n",
       "    font-family: 'Philosopher', serif;\n",
       "    font-weight: 400;\n",
       "    font-size: 1.9em;\n",
       "    line-height: 100%;\n",
       "    color: rgb(200,100,0);\n",
       "    margin-bottom: 0.1em;\n",
       "    margin-top: 0.1em;\n",
       "    display: block;\n",
       "}\t\n",
       "\n",
       ".text_cell_render h3 {\n",
       "    font-family: 'Philosopher', serif;\n",
       "    margin-top:12px;\n",
       "    margin-bottom: 3px;\n",
       "    font-style: italic;\n",
       "    color: rgb(94,127,192);\n",
       "}\n",
       "\n",
       ".text_cell_render h4 {\n",
       "    font-family: 'Philosopher', serif;\n",
       "}\n",
       "\n",
       ".text_cell_render h5 {\n",
       "    font-family: 'Alegreya Sans', sans-serif;\n",
       "    font-weight: 300;\n",
       "    font-size: 16pt;\n",
       "    color: grey;\n",
       "    font-style: italic;\n",
       "    margin-bottom: .1em;\n",
       "    margin-top: 0.1em;\n",
       "    display: block;\n",
       "}\n",
       "\n",
       ".text_cell_render h6 {\n",
       "    font-family: 'PT Mono', sans-serif;\n",
       "    font-weight: 300;\n",
       "    font-size: 10pt;\n",
       "    color: grey;\n",
       "    margin-bottom: 1px;\n",
       "    margin-top: 1px;\n",
       "}\n",
       "\n",
       ".text_cell_render em {\n",
       "    font-family: 'Philosopher', sans-serif;\n",
       "    color:        blue;\n",
       "    background-color: rgb(255,220,180);\n",
       "    font-size:    110%;\n",
       "    margin-left:   2px;\n",
       "    margin-right:  2px;\n",
       "    font-weight:   100;\n",
       "}\n",
       "\n",
       ".text_cell_render b {\n",
       "    color:            rgb(255,195,195);\n",
       "    background-color: rgb(0,0,0);\n",
       "    font-size:    110%;\n",
       "    margin-left:   2px;\n",
       "    margin-right:  2px;\n",
       "    font-weight:   650;\n",
       "}\n",
       "\n",
       ".text_cell_render tt {\n",
       "    font-size:    120%;\n",
       "    margin-left:   2px;\n",
       "    margin-right:  2px;\n",
       "    font-weight:   150;\n",
       "}\n",
       "\n",
       ".CodeMirror{\n",
       "        font-family: \"PT Mono\";\n",
       "        font-size: 100%;\n",
       "}\n",
       "\n",
       "</style>\n",
       "\n"
      ],
      "text/plain": [
       "<IPython.core.display.HTML object>"
      ]
     },
     "execution_count": 1,
     "metadata": {},
     "output_type": "execute_result"
    }
   ],
   "source": [
    "from IPython.core.display import HTML\n",
    "with open('../style.css', 'r') as file:\n",
    "    css = file.read()\n",
    "HTML(css)"
   ]
  },
  {
   "cell_type": "markdown",
   "metadata": {},
   "source": [
    "This notebook contains a test for the function `toNFA`."
   ]
  },
  {
   "cell_type": "code",
   "execution_count": 2,
   "metadata": {},
   "outputs": [
    {
     "name": "stderr",
     "output_type": "stream",
     "text": [
      "Version 1.0.5\n"
     ]
    },
    {
     "name": "stdout",
     "output_type": "stream",
     "text": [
      "The nb_mypy extension is already loaded. To reload it, use:\n",
      "  %reload_ext nb_mypy\n"
     ]
    }
   ],
   "source": [
    "%run Regexp-2-NFA.ipynb\n",
    "%run RegExp-Parser.ipynb"
   ]
  },
  {
   "cell_type": "markdown",
   "metadata": {},
   "source": [
    "The `nb_mypy` extension does not work with notebooks that are imported via the `%run`magic.  \n",
    "Therefore, we have to switch the extension off in this notebook."
   ]
  },
  {
   "cell_type": "code",
   "execution_count": 3,
   "metadata": {},
   "outputs": [],
   "source": [
    "%unload_ext nb_mypy"
   ]
  },
  {
   "cell_type": "markdown",
   "metadata": {},
   "source": [
    "If the regular expression `r` that is defined below is written in the style of the lecture notes, it reads:\n",
    "$$(\\texttt{a}\\cdot\\texttt{b} + \\texttt{b}\\cdot\\texttt{a})^*$$"
   ]
  },
  {
   "cell_type": "code",
   "execution_count": 4,
   "metadata": {},
   "outputs": [
    {
     "data": {
      "text/plain": [
       "((('a', '⋅', 'b'), '+', ('b', '⋅', 'a')), '*')"
      ]
     },
     "execution_count": 4,
     "metadata": {},
     "output_type": "execute_result"
    }
   ],
   "source": [
    "r = parse('(ab+ba)*')\n",
    "r"
   ]
  },
  {
   "cell_type": "code",
   "execution_count": 5,
   "metadata": {},
   "outputs": [],
   "source": [
    "converter = RegExp2NFA({'a', 'b'}) "
   ]
  },
  {
   "cell_type": "markdown",
   "metadata": {},
   "source": [
    "We use `converter` to create a non-deterministic <span style=\"font-variant:small-caps;\">Fsm</span> `nfa` that accepts the language \n",
    "described by the regular expression `r`."
   ]
  },
  {
   "cell_type": "code",
   "execution_count": 6,
   "metadata": {
    "scrolled": true
   },
   "outputs": [
    {
     "data": {
      "text/plain": [
       "({1, 2, 3, 4, 5, 6, 7, 8, 9, 10, 11, 12},\n",
       " {'a', 'b'},\n",
       " {(1, 'a'): {2},\n",
       "  (3, 'b'): {4},\n",
       "  (2, '𝜀'): {3},\n",
       "  (5, 'b'): {6},\n",
       "  (7, 'a'): {8},\n",
       "  (6, '𝜀'): {7},\n",
       "  (9, '𝜀'): {1, 5},\n",
       "  (4, '𝜀'): {10},\n",
       "  (8, '𝜀'): {10},\n",
       "  (11, '𝜀'): {9, 12},\n",
       "  (10, '𝜀'): {9, 12}},\n",
       " 11,\n",
       " {12})"
      ]
     },
     "execution_count": 6,
     "metadata": {},
     "output_type": "execute_result"
    }
   ],
   "source": [
    "nfa = converter.toNFA(r) \n",
    "nfa"
   ]
  },
  {
   "cell_type": "code",
   "execution_count": 7,
   "metadata": {},
   "outputs": [],
   "source": [
    "%run FSM-2-Dot.ipynb"
   ]
  },
  {
   "cell_type": "code",
   "execution_count": 8,
   "metadata": {},
   "outputs": [
    {
     "data": {
      "image/svg+xml": [
       "<?xml version=\"1.0\" encoding=\"UTF-8\" standalone=\"no\"?>\n",
       "<!DOCTYPE svg PUBLIC \"-//W3C//DTD SVG 1.1//EN\"\n",
       " \"http://www.w3.org/Graphics/SVG/1.1/DTD/svg11.dtd\">\n",
       "<!-- Generated by graphviz version 2.50.0 (0)\n",
       " -->\n",
       "<!-- Title: Non&#45;Deterministic FSM Pages: 1 -->\n",
       "<svg width=\"788pt\" height=\"162pt\"\n",
       " viewBox=\"0.00 0.00 788.00 162.00\" xmlns=\"http://www.w3.org/2000/svg\" xmlns:xlink=\"http://www.w3.org/1999/xlink\">\n",
       "<g id=\"graph0\" class=\"graph\" transform=\"scale(1 1) rotate(0) translate(4 158)\">\n",
       "<title>Non&#45;Deterministic FSM</title>\n",
       "<polygon fill=\"white\" stroke=\"transparent\" points=\"-4,4 -4,-158 784,-158 784,4 -4,4\"/>\n",
       "<!-- 0 -->\n",
       "<g id=\"node1\" class=\"node\">\n",
       "<title>0</title>\n",
       "<ellipse fill=\"blue\" stroke=\"blue\" cx=\"3.5\" cy=\"-28\" rx=\"3.5\" ry=\"3.5\"/>\n",
       "</g>\n",
       "<!-- 11 -->\n",
       "<g id=\"node2\" class=\"node\">\n",
       "<title>11</title>\n",
       "<ellipse fill=\"none\" stroke=\"black\" cx=\"71\" cy=\"-28\" rx=\"27\" ry=\"18\"/>\n",
       "<text text-anchor=\"middle\" x=\"71\" y=\"-24.3\" font-family=\"Times,serif\" font-size=\"14.00\">11</text>\n",
       "</g>\n",
       "<!-- 0&#45;&gt;11 -->\n",
       "<g id=\"edge1\" class=\"edge\">\n",
       "<title>0&#45;&gt;11</title>\n",
       "<path fill=\"none\" stroke=\"black\" d=\"M7.31,-28C12.15,-28 22.59,-28 33.58,-28\"/>\n",
       "<polygon fill=\"black\" stroke=\"black\" points=\"33.69,-31.5 43.69,-28 33.69,-24.5 33.69,-31.5\"/>\n",
       "</g>\n",
       "<!-- 9 -->\n",
       "<g id=\"node11\" class=\"node\">\n",
       "<title>9</title>\n",
       "<ellipse fill=\"none\" stroke=\"black\" cx=\"167\" cy=\"-58\" rx=\"27\" ry=\"18\"/>\n",
       "<text text-anchor=\"middle\" x=\"167\" y=\"-54.3\" font-family=\"Times,serif\" font-size=\"14.00\">9</text>\n",
       "</g>\n",
       "<!-- 11&#45;&gt;9 -->\n",
       "<g id=\"edge10\" class=\"edge\">\n",
       "<title>11&#45;&gt;9</title>\n",
       "<path fill=\"none\" stroke=\"black\" d=\"M95.72,-35.57C106.85,-39.12 120.32,-43.42 132.47,-47.3\"/>\n",
       "<polygon fill=\"black\" stroke=\"black\" points=\"131.7,-50.73 142.29,-50.43 133.82,-44.06 131.7,-50.73\"/>\n",
       "<text text-anchor=\"middle\" x=\"119\" y=\"-46.8\" font-family=\"Times,serif\" font-size=\"14.00\">𝜀</text>\n",
       "</g>\n",
       "<!-- 12 -->\n",
       "<g id=\"node13\" class=\"node\">\n",
       "<title>12</title>\n",
       "<ellipse fill=\"none\" stroke=\"black\" cx=\"749\" cy=\"-22\" rx=\"27\" ry=\"18\"/>\n",
       "<ellipse fill=\"none\" stroke=\"black\" cx=\"749\" cy=\"-22\" rx=\"31\" ry=\"22\"/>\n",
       "<text text-anchor=\"middle\" x=\"749\" y=\"-18.3\" font-family=\"Times,serif\" font-size=\"14.00\">12</text>\n",
       "</g>\n",
       "<!-- 11&#45;&gt;12 -->\n",
       "<g id=\"edge11\" class=\"edge\">\n",
       "<title>11&#45;&gt;12</title>\n",
       "<path fill=\"none\" stroke=\"black\" d=\"M98.09,-27.77C201.35,-26.85 582.01,-23.47 707.54,-22.36\"/>\n",
       "<polygon fill=\"black\" stroke=\"black\" points=\"707.89,-25.86 717.86,-22.27 707.83,-18.86 707.89,-25.86\"/>\n",
       "<text text-anchor=\"middle\" x=\"408\" y=\"-28.8\" font-family=\"Times,serif\" font-size=\"14.00\">𝜀</text>\n",
       "</g>\n",
       "<!-- 1 -->\n",
       "<g id=\"node3\" class=\"node\">\n",
       "<title>1</title>\n",
       "<ellipse fill=\"none\" stroke=\"black\" cx=\"263\" cy=\"-136\" rx=\"27\" ry=\"18\"/>\n",
       "<text text-anchor=\"middle\" x=\"263\" y=\"-132.3\" font-family=\"Times,serif\" font-size=\"14.00\">1</text>\n",
       "</g>\n",
       "<!-- 2 -->\n",
       "<g id=\"node4\" class=\"node\">\n",
       "<title>2</title>\n",
       "<ellipse fill=\"none\" stroke=\"black\" cx=\"360\" cy=\"-136\" rx=\"27\" ry=\"18\"/>\n",
       "<text text-anchor=\"middle\" x=\"360\" y=\"-132.3\" font-family=\"Times,serif\" font-size=\"14.00\">2</text>\n",
       "</g>\n",
       "<!-- 1&#45;&gt;2 -->\n",
       "<g id=\"edge12\" class=\"edge\">\n",
       "<title>1&#45;&gt;2</title>\n",
       "<path fill=\"none\" stroke=\"black\" d=\"M290.21,-136C300.28,-136 311.96,-136 322.81,-136\"/>\n",
       "<polygon fill=\"black\" stroke=\"black\" points=\"322.87,-139.5 332.87,-136 322.87,-132.5 322.87,-139.5\"/>\n",
       "<text text-anchor=\"middle\" x=\"311.5\" y=\"-139.8\" font-family=\"Times,serif\" font-size=\"14.00\">a</text>\n",
       "</g>\n",
       "<!-- 3 -->\n",
       "<g id=\"node5\" class=\"node\">\n",
       "<title>3</title>\n",
       "<ellipse fill=\"none\" stroke=\"black\" cx=\"456\" cy=\"-136\" rx=\"27\" ry=\"18\"/>\n",
       "<text text-anchor=\"middle\" x=\"456\" y=\"-132.3\" font-family=\"Times,serif\" font-size=\"14.00\">3</text>\n",
       "</g>\n",
       "<!-- 2&#45;&gt;3 -->\n",
       "<g id=\"edge2\" class=\"edge\">\n",
       "<title>2&#45;&gt;3</title>\n",
       "<path fill=\"none\" stroke=\"black\" d=\"M387.18,-136C396.96,-136 408.25,-136 418.77,-136\"/>\n",
       "<polygon fill=\"black\" stroke=\"black\" points=\"418.96,-139.5 428.96,-136 418.96,-132.5 418.96,-139.5\"/>\n",
       "<text text-anchor=\"middle\" x=\"408\" y=\"-139.8\" font-family=\"Times,serif\" font-size=\"14.00\">𝜀</text>\n",
       "</g>\n",
       "<!-- 4 -->\n",
       "<g id=\"node6\" class=\"node\">\n",
       "<title>4</title>\n",
       "<ellipse fill=\"none\" stroke=\"black\" cx=\"553\" cy=\"-136\" rx=\"27\" ry=\"18\"/>\n",
       "<text text-anchor=\"middle\" x=\"553\" y=\"-132.3\" font-family=\"Times,serif\" font-size=\"14.00\">4</text>\n",
       "</g>\n",
       "<!-- 3&#45;&gt;4 -->\n",
       "<g id=\"edge13\" class=\"edge\">\n",
       "<title>3&#45;&gt;4</title>\n",
       "<path fill=\"none\" stroke=\"black\" d=\"M483.21,-136C493.28,-136 504.96,-136 515.81,-136\"/>\n",
       "<polygon fill=\"black\" stroke=\"black\" points=\"515.87,-139.5 525.87,-136 515.87,-132.5 515.87,-139.5\"/>\n",
       "<text text-anchor=\"middle\" x=\"504.5\" y=\"-139.8\" font-family=\"Times,serif\" font-size=\"14.00\">b</text>\n",
       "</g>\n",
       "<!-- 10 -->\n",
       "<g id=\"node12\" class=\"node\">\n",
       "<title>10</title>\n",
       "<ellipse fill=\"none\" stroke=\"black\" cx=\"649\" cy=\"-51\" rx=\"27\" ry=\"18\"/>\n",
       "<text text-anchor=\"middle\" x=\"649\" y=\"-47.3\" font-family=\"Times,serif\" font-size=\"14.00\">10</text>\n",
       "</g>\n",
       "<!-- 4&#45;&gt;10 -->\n",
       "<g id=\"edge3\" class=\"edge\">\n",
       "<title>4&#45;&gt;10</title>\n",
       "<path fill=\"none\" stroke=\"black\" d=\"M569.95,-121.58C584.89,-108.07 607.42,-87.7 624.44,-72.31\"/>\n",
       "<polygon fill=\"black\" stroke=\"black\" points=\"627.22,-74.51 632.29,-65.21 622.52,-69.32 627.22,-74.51\"/>\n",
       "<text text-anchor=\"middle\" x=\"601\" y=\"-99.8\" font-family=\"Times,serif\" font-size=\"14.00\">𝜀</text>\n",
       "</g>\n",
       "<!-- 5 -->\n",
       "<g id=\"node7\" class=\"node\">\n",
       "<title>5</title>\n",
       "<ellipse fill=\"none\" stroke=\"black\" cx=\"263\" cy=\"-82\" rx=\"27\" ry=\"18\"/>\n",
       "<text text-anchor=\"middle\" x=\"263\" y=\"-78.3\" font-family=\"Times,serif\" font-size=\"14.00\">5</text>\n",
       "</g>\n",
       "<!-- 6 -->\n",
       "<g id=\"node8\" class=\"node\">\n",
       "<title>6</title>\n",
       "<ellipse fill=\"none\" stroke=\"black\" cx=\"360\" cy=\"-82\" rx=\"27\" ry=\"18\"/>\n",
       "<text text-anchor=\"middle\" x=\"360\" y=\"-78.3\" font-family=\"Times,serif\" font-size=\"14.00\">6</text>\n",
       "</g>\n",
       "<!-- 5&#45;&gt;6 -->\n",
       "<g id=\"edge14\" class=\"edge\">\n",
       "<title>5&#45;&gt;6</title>\n",
       "<path fill=\"none\" stroke=\"black\" d=\"M290.21,-82C300.28,-82 311.96,-82 322.81,-82\"/>\n",
       "<polygon fill=\"black\" stroke=\"black\" points=\"322.87,-85.5 332.87,-82 322.87,-78.5 322.87,-85.5\"/>\n",
       "<text text-anchor=\"middle\" x=\"311.5\" y=\"-85.8\" font-family=\"Times,serif\" font-size=\"14.00\">b</text>\n",
       "</g>\n",
       "<!-- 7 -->\n",
       "<g id=\"node9\" class=\"node\">\n",
       "<title>7</title>\n",
       "<ellipse fill=\"none\" stroke=\"black\" cx=\"456\" cy=\"-82\" rx=\"27\" ry=\"18\"/>\n",
       "<text text-anchor=\"middle\" x=\"456\" y=\"-78.3\" font-family=\"Times,serif\" font-size=\"14.00\">7</text>\n",
       "</g>\n",
       "<!-- 6&#45;&gt;7 -->\n",
       "<g id=\"edge4\" class=\"edge\">\n",
       "<title>6&#45;&gt;7</title>\n",
       "<path fill=\"none\" stroke=\"black\" d=\"M387.18,-82C396.96,-82 408.25,-82 418.77,-82\"/>\n",
       "<polygon fill=\"black\" stroke=\"black\" points=\"418.96,-85.5 428.96,-82 418.96,-78.5 418.96,-85.5\"/>\n",
       "<text text-anchor=\"middle\" x=\"408\" y=\"-85.8\" font-family=\"Times,serif\" font-size=\"14.00\">𝜀</text>\n",
       "</g>\n",
       "<!-- 8 -->\n",
       "<g id=\"node10\" class=\"node\">\n",
       "<title>8</title>\n",
       "<ellipse fill=\"none\" stroke=\"black\" cx=\"553\" cy=\"-82\" rx=\"27\" ry=\"18\"/>\n",
       "<text text-anchor=\"middle\" x=\"553\" y=\"-78.3\" font-family=\"Times,serif\" font-size=\"14.00\">8</text>\n",
       "</g>\n",
       "<!-- 7&#45;&gt;8 -->\n",
       "<g id=\"edge15\" class=\"edge\">\n",
       "<title>7&#45;&gt;8</title>\n",
       "<path fill=\"none\" stroke=\"black\" d=\"M483.21,-82C493.28,-82 504.96,-82 515.81,-82\"/>\n",
       "<polygon fill=\"black\" stroke=\"black\" points=\"515.87,-85.5 525.87,-82 515.87,-78.5 515.87,-85.5\"/>\n",
       "<text text-anchor=\"middle\" x=\"504.5\" y=\"-85.8\" font-family=\"Times,serif\" font-size=\"14.00\">a</text>\n",
       "</g>\n",
       "<!-- 8&#45;&gt;10 -->\n",
       "<g id=\"edge5\" class=\"edge\">\n",
       "<title>8&#45;&gt;10</title>\n",
       "<path fill=\"none\" stroke=\"black\" d=\"M577.72,-74.18C588.85,-70.51 602.32,-66.07 614.47,-62.06\"/>\n",
       "<polygon fill=\"black\" stroke=\"black\" points=\"615.89,-65.28 624.29,-58.82 613.69,-58.63 615.89,-65.28\"/>\n",
       "<text text-anchor=\"middle\" x=\"601\" y=\"-70.8\" font-family=\"Times,serif\" font-size=\"14.00\">𝜀</text>\n",
       "</g>\n",
       "<!-- 9&#45;&gt;1 -->\n",
       "<g id=\"edge6\" class=\"edge\">\n",
       "<title>9&#45;&gt;1</title>\n",
       "<path fill=\"none\" stroke=\"black\" d=\"M184.81,-71.94C199.51,-84.15 221.05,-102.02 237.64,-115.79\"/>\n",
       "<polygon fill=\"black\" stroke=\"black\" points=\"235.41,-118.48 245.34,-122.18 239.88,-113.1 235.41,-118.48\"/>\n",
       "<text text-anchor=\"middle\" x=\"215\" y=\"-102.8\" font-family=\"Times,serif\" font-size=\"14.00\">𝜀</text>\n",
       "</g>\n",
       "<!-- 9&#45;&gt;5 -->\n",
       "<g id=\"edge7\" class=\"edge\">\n",
       "<title>9&#45;&gt;5</title>\n",
       "<path fill=\"none\" stroke=\"black\" d=\"M192.7,-64.31C203.38,-67.03 216.07,-70.27 227.65,-73.23\"/>\n",
       "<polygon fill=\"black\" stroke=\"black\" points=\"226.91,-76.65 237.47,-75.74 228.64,-69.87 226.91,-76.65\"/>\n",
       "<text text-anchor=\"middle\" x=\"215\" y=\"-73.8\" font-family=\"Times,serif\" font-size=\"14.00\">𝜀</text>\n",
       "</g>\n",
       "<!-- 10&#45;&gt;9 -->\n",
       "<g id=\"edge8\" class=\"edge\">\n",
       "<title>10&#45;&gt;9</title>\n",
       "<path fill=\"none\" stroke=\"black\" d=\"M621.96,-50.94C556.88,-50.87 381.87,-51.08 236,-55 225.74,-55.28 214.62,-55.71 204.4,-56.16\"/>\n",
       "<polygon fill=\"black\" stroke=\"black\" points=\"203.98,-52.68 194.15,-56.64 204.3,-59.67 203.98,-52.68\"/>\n",
       "<text text-anchor=\"middle\" x=\"408\" y=\"-54.8\" font-family=\"Times,serif\" font-size=\"14.00\">𝜀</text>\n",
       "</g>\n",
       "<!-- 10&#45;&gt;12 -->\n",
       "<g id=\"edge9\" class=\"edge\">\n",
       "<title>10&#45;&gt;12</title>\n",
       "<path fill=\"none\" stroke=\"black\" d=\"M673.97,-43.91C684.86,-40.68 698.01,-36.79 710.18,-33.19\"/>\n",
       "<polygon fill=\"black\" stroke=\"black\" points=\"711.51,-36.45 720.11,-30.25 709.52,-29.74 711.51,-36.45\"/>\n",
       "<text text-anchor=\"middle\" x=\"697\" y=\"-40.8\" font-family=\"Times,serif\" font-size=\"14.00\">𝜀</text>\n",
       "</g>\n",
       "</g>\n",
       "</svg>\n"
      ],
      "text/plain": [
       "<graphviz.graphs.Digraph at 0x103f05710>"
      ]
     },
     "metadata": {},
     "output_type": "display_data"
    }
   ],
   "source": [
    "d = nfa2dot(nfa) \n",
    "display(d)       "
   ]
  },
  {
   "cell_type": "markdown",
   "metadata": {},
   "source": [
    "After having constructed a non-deterministic <span style=\"font-variant:small-caps;\">Fsm</span> for the regular expression,\n",
    "we convert it into a deterministic <span style=\"font-variant:small-caps;\">Fsm</span>."
   ]
  },
  {
   "cell_type": "code",
   "execution_count": 9,
   "metadata": {},
   "outputs": [
    {
     "name": "stderr",
     "output_type": "stream",
     "text": [
      "Version 1.0.5\n"
     ]
    }
   ],
   "source": [
    "%run NFA-2-DFA.ipynb"
   ]
  },
  {
   "cell_type": "code",
   "execution_count": 10,
   "metadata": {},
   "outputs": [],
   "source": [
    "%unload_ext nb_mypy"
   ]
  },
  {
   "cell_type": "code",
   "execution_count": 11,
   "metadata": {},
   "outputs": [
    {
     "data": {
      "text/plain": [
       "({frozenset(),\n",
       "  frozenset({2, 3}),\n",
       "  frozenset({6, 7}),\n",
       "  frozenset({1, 5, 8, 9, 10, 12}),\n",
       "  frozenset({1, 5, 9, 11, 12}),\n",
       "  frozenset({1, 4, 5, 9, 10, 12})},\n",
       " {'a', 'b'},\n",
       " {(frozenset({2, 3}), 'b'): frozenset({1, 4, 5, 9, 10, 12}),\n",
       "  (frozenset({2, 3}), 'a'): frozenset(),\n",
       "  (frozenset({6, 7}), 'b'): frozenset(),\n",
       "  (frozenset({6, 7}), 'a'): frozenset({1, 5, 8, 9, 10, 12}),\n",
       "  (frozenset({1, 5, 8, 9, 10, 12}), 'b'): frozenset({6, 7}),\n",
       "  (frozenset({1, 5, 8, 9, 10, 12}), 'a'): frozenset({2, 3}),\n",
       "  (frozenset({1, 5, 9, 11, 12}), 'b'): frozenset({6, 7}),\n",
       "  (frozenset({1, 5, 9, 11, 12}), 'a'): frozenset({2, 3}),\n",
       "  (frozenset(), 'b'): frozenset(),\n",
       "  (frozenset(), 'a'): frozenset(),\n",
       "  (frozenset({1, 4, 5, 9, 10, 12}), 'b'): frozenset({6, 7}),\n",
       "  (frozenset({1, 4, 5, 9, 10, 12}), 'a'): frozenset({2, 3})},\n",
       " frozenset({1, 5, 9, 11, 12}),\n",
       " {frozenset({1, 5, 8, 9, 10, 12}),\n",
       "  frozenset({1, 5, 9, 11, 12}),\n",
       "  frozenset({1, 4, 5, 9, 10, 12})})"
      ]
     },
     "execution_count": 11,
     "metadata": {},
     "output_type": "execute_result"
    }
   ],
   "source": [
    "dfa = nfa2dfa(nfa) \n",
    "dfa"
   ]
  },
  {
   "cell_type": "code",
   "execution_count": 12,
   "metadata": {
    "scrolled": true
   },
   "outputs": [
    {
     "data": {
      "text/plain": [
       "{frozenset({2, 3}): 'S0',\n",
       " frozenset({6, 7}): 'S1',\n",
       " frozenset({1, 5, 8, 9, 10, 12}): 'S2',\n",
       " frozenset({1, 5, 9, 11, 12}): 'S3',\n",
       " frozenset(): 'S4',\n",
       " frozenset({1, 4, 5, 9, 10, 12}): 'S5'}"
      ]
     },
     "execution_count": 12,
     "metadata": {},
     "output_type": "execute_result"
    }
   ],
   "source": [
    "d, S = dfa2dot(dfa) \n",
    "S"
   ]
  },
  {
   "cell_type": "markdown",
   "metadata": {},
   "source": [
    "Note that the resulting DFA is not minimal, since we can identify some states."
   ]
  },
  {
   "cell_type": "code",
   "execution_count": 13,
   "metadata": {},
   "outputs": [
    {
     "data": {
      "image/svg+xml": [
       "<?xml version=\"1.0\" encoding=\"UTF-8\" standalone=\"no\"?>\n",
       "<!DOCTYPE svg PUBLIC \"-//W3C//DTD SVG 1.1//EN\"\n",
       " \"http://www.w3.org/Graphics/SVG/1.1/DTD/svg11.dtd\">\n",
       "<!-- Generated by graphviz version 2.50.0 (0)\n",
       " -->\n",
       "<!-- Title: Deterministic FSM Pages: 1 -->\n",
       "<svg width=\"518pt\" height=\"260pt\"\n",
       " viewBox=\"0.00 0.00 518.00 260.00\" xmlns=\"http://www.w3.org/2000/svg\" xmlns:xlink=\"http://www.w3.org/1999/xlink\">\n",
       "<g id=\"graph0\" class=\"graph\" transform=\"scale(1 1) rotate(0) translate(4 256)\">\n",
       "<title>Deterministic FSM</title>\n",
       "<polygon fill=\"white\" stroke=\"transparent\" points=\"-4,4 -4,-256 514,-256 514,4 -4,4\"/>\n",
       "<!-- 1 -->\n",
       "<g id=\"node1\" class=\"node\">\n",
       "<title>1</title>\n",
       "<ellipse fill=\"blue\" stroke=\"blue\" cx=\"3.5\" cy=\"-22\" rx=\"3.5\" ry=\"3.5\"/>\n",
       "</g>\n",
       "<!-- S3 -->\n",
       "<g id=\"node2\" class=\"node\">\n",
       "<title>S3</title>\n",
       "<ellipse fill=\"none\" stroke=\"black\" cx=\"75\" cy=\"-22\" rx=\"27\" ry=\"18\"/>\n",
       "<ellipse fill=\"none\" stroke=\"black\" cx=\"75\" cy=\"-22\" rx=\"31\" ry=\"22\"/>\n",
       "<text text-anchor=\"middle\" x=\"75\" y=\"-18.3\" font-family=\"Times,serif\" font-size=\"14.00\">S3</text>\n",
       "</g>\n",
       "<!-- 1&#45;&gt;S3 -->\n",
       "<g id=\"edge1\" class=\"edge\">\n",
       "<title>1&#45;&gt;S3</title>\n",
       "<path fill=\"none\" stroke=\"black\" d=\"M7.14,-22C11.9,-22 22.47,-22 33.84,-22\"/>\n",
       "<polygon fill=\"black\" stroke=\"black\" points=\"33.91,-25.5 43.91,-22 33.91,-18.5 33.91,-25.5\"/>\n",
       "</g>\n",
       "<!-- S0 -->\n",
       "<g id=\"node3\" class=\"node\">\n",
       "<title>S0</title>\n",
       "<ellipse fill=\"none\" stroke=\"black\" cx=\"176\" cy=\"-77\" rx=\"27\" ry=\"18\"/>\n",
       "<text text-anchor=\"middle\" x=\"176\" y=\"-73.3\" font-family=\"Times,serif\" font-size=\"14.00\">S0</text>\n",
       "</g>\n",
       "<!-- S3&#45;&gt;S0 -->\n",
       "<g id=\"edge9\" class=\"edge\">\n",
       "<title>S3&#45;&gt;S0</title>\n",
       "<path fill=\"none\" stroke=\"black\" d=\"M99.97,-35.31C113.67,-42.93 130.98,-52.54 145.51,-60.62\"/>\n",
       "<polygon fill=\"black\" stroke=\"black\" points=\"144.16,-63.87 154.6,-65.67 147.56,-57.75 144.16,-63.87\"/>\n",
       "<text text-anchor=\"middle\" x=\"127.5\" y=\"-54.8\" font-family=\"Times,serif\" font-size=\"14.00\">a</text>\n",
       "</g>\n",
       "<!-- S1 -->\n",
       "<g id=\"node4\" class=\"node\">\n",
       "<title>S1</title>\n",
       "<ellipse fill=\"none\" stroke=\"black\" cx=\"378\" cy=\"-105\" rx=\"27\" ry=\"18\"/>\n",
       "<text text-anchor=\"middle\" x=\"378\" y=\"-101.3\" font-family=\"Times,serif\" font-size=\"14.00\">S1</text>\n",
       "</g>\n",
       "<!-- S3&#45;&gt;S1 -->\n",
       "<g id=\"edge8\" class=\"edge\">\n",
       "<title>S3&#45;&gt;S1</title>\n",
       "<path fill=\"none\" stroke=\"black\" d=\"M106.2,-21.4C156.04,-21.58 257.5,-26.97 333,-64 341.95,-68.39 350.34,-75.21 357.35,-82.03\"/>\n",
       "<polygon fill=\"black\" stroke=\"black\" points=\"354.91,-84.55 364.37,-89.32 359.96,-79.69 354.91,-84.55\"/>\n",
       "<text text-anchor=\"middle\" x=\"224.5\" y=\"-34.8\" font-family=\"Times,serif\" font-size=\"14.00\">b</text>\n",
       "</g>\n",
       "<!-- S4 -->\n",
       "<g id=\"node6\" class=\"node\">\n",
       "<title>S4</title>\n",
       "<ellipse fill=\"none\" stroke=\"black\" cx=\"479\" cy=\"-168\" rx=\"27\" ry=\"18\"/>\n",
       "<text text-anchor=\"middle\" x=\"479\" y=\"-164.3\" font-family=\"Times,serif\" font-size=\"14.00\">S4</text>\n",
       "</g>\n",
       "<!-- S0&#45;&gt;S4 -->\n",
       "<g id=\"edge3\" class=\"edge\">\n",
       "<title>S0&#45;&gt;S4</title>\n",
       "<path fill=\"none\" stroke=\"black\" d=\"M190.09,-92.36C202.86,-106.22 223.57,-125.92 246,-136 310.65,-165.05 394.83,-169.37 441.96,-169.18\"/>\n",
       "<polygon fill=\"black\" stroke=\"black\" points=\"442.03,-172.68 451.99,-169.06 441.95,-165.68 442.03,-172.68\"/>\n",
       "<text text-anchor=\"middle\" x=\"329.5\" y=\"-163.8\" font-family=\"Times,serif\" font-size=\"14.00\">a</text>\n",
       "</g>\n",
       "<!-- S5 -->\n",
       "<g id=\"node7\" class=\"node\">\n",
       "<title>S5</title>\n",
       "<ellipse fill=\"none\" stroke=\"black\" cx=\"277\" cy=\"-105\" rx=\"27\" ry=\"18\"/>\n",
       "<ellipse fill=\"none\" stroke=\"black\" cx=\"277\" cy=\"-105\" rx=\"31\" ry=\"22\"/>\n",
       "<text text-anchor=\"middle\" x=\"277\" y=\"-101.3\" font-family=\"Times,serif\" font-size=\"14.00\">S5</text>\n",
       "</g>\n",
       "<!-- S0&#45;&gt;S5 -->\n",
       "<g id=\"edge2\" class=\"edge\">\n",
       "<title>S0&#45;&gt;S5</title>\n",
       "<path fill=\"none\" stroke=\"black\" d=\"M199.65,-85.89C206.45,-88.38 213.97,-90.97 221,-93 226.09,-94.47 231.49,-95.86 236.85,-97.13\"/>\n",
       "<polygon fill=\"black\" stroke=\"black\" points=\"236.46,-100.64 246.99,-99.43 238.01,-93.81 236.46,-100.64\"/>\n",
       "<text text-anchor=\"middle\" x=\"224.5\" y=\"-97.8\" font-family=\"Times,serif\" font-size=\"14.00\">b</text>\n",
       "</g>\n",
       "<!-- S2 -->\n",
       "<g id=\"node5\" class=\"node\">\n",
       "<title>S2</title>\n",
       "<ellipse fill=\"none\" stroke=\"black\" cx=\"479\" cy=\"-77\" rx=\"27\" ry=\"18\"/>\n",
       "<ellipse fill=\"none\" stroke=\"black\" cx=\"479\" cy=\"-77\" rx=\"31\" ry=\"22\"/>\n",
       "<text text-anchor=\"middle\" x=\"479\" y=\"-73.3\" font-family=\"Times,serif\" font-size=\"14.00\">S2</text>\n",
       "</g>\n",
       "<!-- S1&#45;&gt;S2 -->\n",
       "<g id=\"edge5\" class=\"edge\">\n",
       "<title>S1&#45;&gt;S2</title>\n",
       "<path fill=\"none\" stroke=\"black\" d=\"M396.38,-91.37C404.08,-86.14 413.54,-80.77 423,-78 427.74,-76.62 432.8,-75.75 437.87,-75.25\"/>\n",
       "<polygon fill=\"black\" stroke=\"black\" points=\"438.37,-78.73 448.17,-74.69 437.99,-71.74 438.37,-78.73\"/>\n",
       "<text text-anchor=\"middle\" x=\"426.5\" y=\"-81.8\" font-family=\"Times,serif\" font-size=\"14.00\">a</text>\n",
       "</g>\n",
       "<!-- S1&#45;&gt;S4 -->\n",
       "<g id=\"edge4\" class=\"edge\">\n",
       "<title>S1&#45;&gt;S4</title>\n",
       "<path fill=\"none\" stroke=\"black\" d=\"M398.09,-117.15C412.88,-126.56 433.59,-139.74 450.22,-150.32\"/>\n",
       "<polygon fill=\"black\" stroke=\"black\" points=\"448.65,-153.47 458.97,-155.89 452.41,-147.57 448.65,-153.47\"/>\n",
       "<text text-anchor=\"middle\" x=\"426.5\" y=\"-139.8\" font-family=\"Times,serif\" font-size=\"14.00\">b</text>\n",
       "</g>\n",
       "<!-- S2&#45;&gt;S0 -->\n",
       "<g id=\"edge7\" class=\"edge\">\n",
       "<title>S2&#45;&gt;S0</title>\n",
       "<path fill=\"none\" stroke=\"black\" d=\"M448.33,-73.52C442.27,-72.92 435.94,-72.37 430,-72 340.38,-66.45 317.79,-68.89 228,-68 224.89,-67.97 224.1,-67.69 221,-68 217.92,-68.31 214.73,-68.74 211.55,-69.25\"/>\n",
       "<polygon fill=\"black\" stroke=\"black\" points=\"210.75,-65.84 201.53,-71.07 212,-72.73 210.75,-65.84\"/>\n",
       "<text text-anchor=\"middle\" x=\"329.5\" y=\"-71.8\" font-family=\"Times,serif\" font-size=\"14.00\">a</text>\n",
       "</g>\n",
       "<!-- S2&#45;&gt;S1 -->\n",
       "<g id=\"edge6\" class=\"edge\">\n",
       "<title>S2&#45;&gt;S1</title>\n",
       "<path fill=\"none\" stroke=\"black\" d=\"M450.97,-86.49C444.16,-88.74 436.85,-91.06 430,-93 424.88,-94.45 419.44,-95.87 414.09,-97.19\"/>\n",
       "<polygon fill=\"black\" stroke=\"black\" points=\"412.93,-93.86 404.02,-99.59 414.56,-100.67 412.93,-93.86\"/>\n",
       "<text text-anchor=\"middle\" x=\"426.5\" y=\"-97.8\" font-family=\"Times,serif\" font-size=\"14.00\">b</text>\n",
       "</g>\n",
       "<!-- S4&#45;&gt;S4 -->\n",
       "<g id=\"edge10\" class=\"edge\">\n",
       "<title>S4&#45;&gt;S4</title>\n",
       "<path fill=\"none\" stroke=\"black\" d=\"M474.33,-185.78C473.53,-195.31 475.09,-204 479,-204 481.38,-204 482.89,-200.77 483.53,-196.1\"/>\n",
       "<polygon fill=\"black\" stroke=\"black\" points=\"487.03,-195.83 483.67,-185.78 480.03,-195.73 487.03,-195.83\"/>\n",
       "<text text-anchor=\"middle\" x=\"479\" y=\"-207.8\" font-family=\"Times,serif\" font-size=\"14.00\">b</text>\n",
       "</g>\n",
       "<!-- S4&#45;&gt;S4 -->\n",
       "<g id=\"edge11\" class=\"edge\">\n",
       "<title>S4&#45;&gt;S4</title>\n",
       "<path fill=\"none\" stroke=\"black\" d=\"M471.32,-185.42C466.94,-202.79 469.5,-222 479,-222 486.64,-222 489.79,-209.56 488.45,-195.65\"/>\n",
       "<polygon fill=\"black\" stroke=\"black\" points=\"491.83,-194.68 486.68,-185.42 484.94,-195.87 491.83,-194.68\"/>\n",
       "<text text-anchor=\"middle\" x=\"479\" y=\"-225.8\" font-family=\"Times,serif\" font-size=\"14.00\">a</text>\n",
       "</g>\n",
       "<!-- S5&#45;&gt;S0 -->\n",
       "<g id=\"edge13\" class=\"edge\">\n",
       "<title>S5&#45;&gt;S0</title>\n",
       "<path fill=\"none\" stroke=\"black\" d=\"M256.26,-88.61C248.05,-82.8 238.09,-76.97 228,-74 222.97,-72.52 217.55,-71.88 212.18,-71.77\"/>\n",
       "<polygon fill=\"black\" stroke=\"black\" points=\"211.9,-68.28 202.03,-72.15 212.16,-75.28 211.9,-68.28\"/>\n",
       "<text text-anchor=\"middle\" x=\"224.5\" y=\"-77.8\" font-family=\"Times,serif\" font-size=\"14.00\">a</text>\n",
       "</g>\n",
       "<!-- S5&#45;&gt;S1 -->\n",
       "<g id=\"edge12\" class=\"edge\">\n",
       "<title>S5&#45;&gt;S1</title>\n",
       "<path fill=\"none\" stroke=\"black\" d=\"M308.24,-105C318.48,-105 330.01,-105 340.67,-105\"/>\n",
       "<polygon fill=\"black\" stroke=\"black\" points=\"340.96,-108.5 350.96,-105 340.96,-101.5 340.96,-108.5\"/>\n",
       "<text text-anchor=\"middle\" x=\"329.5\" y=\"-108.8\" font-family=\"Times,serif\" font-size=\"14.00\">b</text>\n",
       "</g>\n",
       "</g>\n",
       "</svg>\n"
      ],
      "text/plain": [
       "<graphviz.graphs.Digraph at 0x1052638d0>"
      ]
     },
     "execution_count": 13,
     "metadata": {},
     "output_type": "execute_result"
    }
   ],
   "source": [
    "d"
   ]
  },
  {
   "cell_type": "code",
   "execution_count": null,
   "metadata": {},
   "outputs": [],
   "source": []
  }
 ],
 "metadata": {
  "kernelspec": {
   "display_name": "Python 3 (ipykernel)",
   "language": "python",
   "name": "python3"
  },
  "language_info": {
   "codemirror_mode": {
    "name": "ipython",
    "version": 3
   },
   "file_extension": ".py",
   "mimetype": "text/x-python",
   "name": "python",
   "nbconvert_exporter": "python",
   "pygments_lexer": "ipython3",
   "version": "3.11.5"
  },
  "varInspector": {
   "cols": {
    "lenName": 16,
    "lenType": 16,
    "lenVar": 40
   },
   "kernels_config": {
    "python": {
     "delete_cmd_postfix": "",
     "delete_cmd_prefix": "del ",
     "library": "var_list.py",
     "varRefreshCmd": "print(var_dic_list())"
    },
    "r": {
     "delete_cmd_postfix": ") ",
     "delete_cmd_prefix": "rm(",
     "library": "var_list.r",
     "varRefreshCmd": "cat(var_dic_list()) "
    }
   },
   "types_to_exclude": [
    "module",
    "function",
    "builtin_function_or_method",
    "instance",
    "_Feature"
   ],
   "window_display": false
  }
 },
 "nbformat": 4,
 "nbformat_minor": 4
}
