{
 "cells": [
  {
   "cell_type": "code",
   "execution_count": 1,
   "metadata": {},
   "outputs": [
    {
     "data": {
      "text/html": [
       "<link href='http://fonts.googleapis.com/css?family=Alegreya+Sans:100,300,400,500,700,800,900,100italic,300italic,400italic,500italic,700italic,800italic,900italic' rel='stylesheet' type='text/css'>\n",
       "<link href='http://fonts.googleapis.com/css?family=Arvo:400,700,400italic' rel='stylesheet' type='text/css'>\n",
       "<link href='http://fonts.googleapis.com/css?family=PT+Mono' rel='stylesheet' type='text/css'>\n",
       "<link href='http://fonts.googleapis.com/css?family=Shadows+Into+Light' rel='stylesheet' type='text/css'>\n",
       "<link href='http://fonts.googleapis.com/css?family=Philosopher:400,700,400italic,700italic' rel='stylesheet' type='text/css'>\n",
       "\n",
       "<style>\n",
       "\n",
       "@font-face {\n",
       "    font-family: \"Computer Modern\";\n",
       "    src: url('http://mirrors.ctan.org/fonts/cm-unicode/fonts/otf/cmunss.otf');\n",
       "}\n",
       "\n",
       ".container { width: 100% }\n",
       "\n",
       "/* Formatting for header cells */\n",
       ".text_cell_render h1 {\n",
       "    font-family: 'Philosopher', sans-serif;\n",
       "    font-weight: 400;\n",
       "    font-size: 2.2em;\n",
       "    line-height: 100%;\n",
       "    color: rgb(0, 80, 120);\n",
       "    margin-bottom: 0.1em;\n",
       "    margin-top: 0.1em;\n",
       "    display: block;\n",
       "}\t\n",
       ".text_cell_render h2 {\n",
       "    font-family: 'Philosopher', serif;\n",
       "    font-weight: 400;\n",
       "    font-size: 1.9em;\n",
       "    line-height: 100%;\n",
       "    color: rgb(200,100,0);\n",
       "    margin-bottom: 0.1em;\n",
       "    margin-top: 0.1em;\n",
       "    display: block;\n",
       "}\t\n",
       "\n",
       ".text_cell_render h3 {\n",
       "    font-family: 'Philosopher', serif;\n",
       "    margin-top:12px;\n",
       "    margin-bottom: 3px;\n",
       "    font-style: italic;\n",
       "    color: rgb(94,127,192);\n",
       "}\n",
       "\n",
       ".text_cell_render h4 {\n",
       "    font-family: 'Philosopher', serif;\n",
       "}\n",
       "\n",
       ".text_cell_render h5 {\n",
       "    font-family: 'Alegreya Sans', sans-serif;\n",
       "    font-weight: 300;\n",
       "    font-size: 16pt;\n",
       "    color: grey;\n",
       "    font-style: italic;\n",
       "    margin-bottom: .1em;\n",
       "    margin-top: 0.1em;\n",
       "    display: block;\n",
       "}\n",
       "\n",
       ".text_cell_render h6 {\n",
       "    font-family: 'PT Mono', sans-serif;\n",
       "    font-weight: 300;\n",
       "    font-size: 10pt;\n",
       "    color: grey;\n",
       "    margin-bottom: 1px;\n",
       "    margin-top: 1px;\n",
       "}\n",
       "\n",
       ".CodeMirror{\n",
       "        font-family: \"PT Mono\";\n",
       "        font-size: 100%;\n",
       "}\n",
       "\n",
       "</style>\n",
       "\n"
      ],
      "text/plain": [
       "<IPython.core.display.HTML object>"
      ]
     },
     "execution_count": 1,
     "metadata": {},
     "output_type": "execute_result"
    }
   ],
   "source": [
    "from IPython.core.display import HTML\n",
    "with open (\"style.css\", \"r\") as file:\n",
    "    css = file.read()\n",
    "HTML(css)"
   ]
  },
  {
   "cell_type": "markdown",
   "metadata": {},
   "source": [
    "# Converting a Deterministic <span style=\"font-variant:small-caps;\">Fsm</span> into a Regular Expression"
   ]
  },
  {
   "cell_type": "markdown",
   "metadata": {},
   "source": [
    "Given a set `S`, the function `arb(S)` returns an arbitrary member from `S`."
   ]
  },
  {
   "cell_type": "code",
   "execution_count": 2,
   "metadata": {},
   "outputs": [],
   "source": [
    "def arb(S):\n",
    "    for x in S:\n",
    "        return x"
   ]
  },
  {
   "cell_type": "markdown",
   "metadata": {},
   "source": [
    "The function `regexp_sum` takes a set $S = \\{ r_1, \\cdots, r_n \\}$ of regular expressions\n",
    "as its argument.  It returns the regular expression \n",
    "$$ r_1 + \\cdots + r_n. $$"
   ]
  },
  {
   "cell_type": "code",
   "execution_count": null,
   "metadata": {},
   "outputs": [],
   "source": [
    "def regexp_sum(S):\n",
    "    n = len(S)\n",
    "    if n == 0:\n",
    "        return 0\n",
    "    elif n == 1:\n",
    "        return arb(S)\n",
    "    else:\n",
    "        r = arb(S)\n",
    "        return ('+', r, regexp_sum(S - { r }))"
   ]
  },
  {
   "cell_type": "markdown",
   "metadata": {},
   "source": [
    "The function `rpq` assumes there is some <span style=\"font-variant:small-caps;\">Fsm</span>\n",
    "$$ F = \\langle \\texttt{States}, \\Sigma, \\delta, \\texttt{q0}, \\texttt{Accepting} \\rangle $$\n",
    "given and takes five arguments:\n",
    "- `p1` and `p2` are states of the <span style=\"font-variant:small-caps;\">Fsm</span> $F$,\n",
    "- $\\Sigma$ is the alphabet of the <span style=\"font-variant:small-caps;\">Fsm</span>,\n",
    "- $\\delta$ is the transition function of the <span style=\"font-variant:small-caps;\">Fsm</span> $F$, and\n",
    "- `Allowed` is a subset of the set `States`.\n",
    "\n",
    "The function `rpq` computes a regular expression that describes those strings that take the \n",
    "<span style=\"font-variant:small-caps;\">Fsm</span> $F$ from the state `p1` to state `p2`.\n",
    "When $F$ switches states from `p1` to `p2` only states in the set `Allowed` may be visited in-between the states `p1` and `p2`.\n",
    "\n",
    "The function is defined by recursion on the set `Allowed`.  There are two cases\n",
    "- $\\texttt{Allowed} = \\{\\}$.  \n",
    "  Define `AllChars`as the set of all characters that when read by $F$ in the state `p1` cause $F$ to enter the state `p2`:\n",
    "  $$ \\texttt{AllChars} = \\{ c \\in \\Sigma \\mid \\delta(p_1, c) = p_2 \\} $$\n",
    "  Then we need a further case distinction:\n",
    "  - $p_1 = p_2$: In this case we have:\n",
    "    $$ \\texttt{rpq}(p_1, p_2, \\{\\}) := \\sum\\limits_{c\\in\\texttt{AllChars}} c \\quad + \\varepsilon$$\n",
    "    If $\\texttt{AllChars} = \\{\\}$ the sum $\\sum\\limits_{c\\in\\texttt{AllChars}} c$ is to be interpreted as the\n",
    "    regular expression $\\emptyset$ that denotes the empty language. \n",
    "    \n",
    "    Otherwise, if $\\texttt{AllChars} = \\{c_1,\\cdots,c_n\\}$ we have\n",
    "    $\\sum\\limits_{c\\in\\texttt{AllChars}} c \\quad = c_1 + \\cdots + c_n$.\n",
    "  - $p_1 \\not= p_2$: In this case we have:\n",
    "    $$ \\texttt{rpq}(p_1, p_2, \\{\\}) := \\sum\\limits_{c\\in\\texttt{AllChars}} c \\quad$$\n",
    "- $\\texttt{Allowed} = \\{ q \\} + \\texttt{RestAllowed}$.  In this case we recursively define the following variables:\n",
    "  1. $\\texttt{rp1p2} := \\texttt{rpq}(p_1, p_2, \\Sigma, \\delta, \\texttt{RestAllowed})$,\n",
    "  2. $\\texttt{rp1q } := \\texttt{rpq}(p_1, q, \\Sigma, \\delta, \\texttt{RestAllowed})$,\n",
    "  3. $\\texttt{rqq }\\texttt{ } := \\texttt{rpq}(q, q, \\Sigma, \\delta, \\texttt{RestAllowed})$,\n",
    "  4. $\\texttt{rqp2 } := \\texttt{rpq}(q, p_2, \\Sigma, \\delta, \\texttt{RestAllowed})$.\n",
    "\n",
    "  Then we can define:\n",
    "  $$ \\texttt{rpq}(p_1, p_2, \\texttt{Allowed}) := \\texttt{rp1p2} + \\texttt{rp1q} \\cdot \\texttt{rqq}^* \\cdot \\texttt{rqp} $$\n",
    "  This formula can be understood as follows:  If a string $w$ is read in state $p_1$ and reading this string takes the \n",
    "  <span style=\"font-variant:small-caps;\">Fsm</span> $F$ from the state $p_1$ to the state $p_2$ without visiting any state from the set \n",
    "  `Allowed` in-between, then there are two cases:\n",
    "  - Reading $w$ does not visit the state $q$ in-between.  Hence the string $w$ can be described by the regular expression\n",
    "    `rp1p2`.\n",
    "  - The string $w$ can be written as $w = t u_1 \\cdots u_n v$ where:\n",
    "    - reading $t$ in the state $p_1$ takes the <span style=\"font-variant:small-caps;\">Fsm</span> $F$ into the state $q$,\n",
    "    - for all $i \\in \\{1,\\cdots,n\\}$ reading $v_i$ in the state $q$ takes the <span style=\"font-variant:small-caps;\">Fsm</span> $F$ from $q$ to $q$, and\n",
    "    - reading $v$ in the state $q$ takes the <span style=\"font-variant:small-caps;\">Fsm</span> $F$ into the state $p_2$."
   ]
  },
  {
   "cell_type": "code",
   "execution_count": 3,
   "metadata": {},
   "outputs": [],
   "source": [
    "def rpq(p1, p2, Σ, 𝛿, Allowed):\n",
    "    if Allowed == set():\n",
    "        AllChars = { c for c in Σ \n",
    "                       if 𝛿.get((p1, c)) == p2 \n",
    "                   }\n",
    "        r = regexp_sum(AllChars)\n",
    "        if p1 == p2:\n",
    "            if AllChars == set():\n",
    "                return ''\n",
    "            else:\n",
    "                return ('+', '', r)\n",
    "        else:\n",
    "             return r\n",
    "    else:\n",
    "        q = arb(Allowed)\n",
    "        RestAllowed = Allowed - { q }\n",
    "        rp1p2 = rpq(p1, p2, Σ, 𝛿, RestAllowed)\n",
    "        rp1q  = rpq(p1,  q, Σ, 𝛿, RestAllowed)\n",
    "        rqq   = rpq( q,  q, Σ, 𝛿, RestAllowed)\n",
    "        rqp2  = rpq( q, p2, Σ, 𝛿, RestAllowed)\n",
    "        return ('+', rp1p2, ('&', ('&', rp1q, ('*', rqq)), rqp2))"
   ]
  },
  {
   "cell_type": "markdown",
   "metadata": {},
   "source": [
    "The function `dfa_2_regexp` takes a deterministic <span style=\"font-variant:small-caps;\">Fsm</span> $F$ and computes a regular expression $r$ that describes the same language as $F$, i.e. we have\n",
    "$$ L(A) = L(r). $$\n",
    "Furthermore, it tries to simplify the regular expression $r$ using some algebraic rules."
   ]
  },
  {
   "cell_type": "code",
   "execution_count": 4,
   "metadata": {},
   "outputs": [],
   "source": [
    "def dfa_2_regexp(F):\n",
    "    States, Σ, 𝛿, q0, Accepting = F\n",
    "    r = regexp_sum({ rpq(q0, p, Σ, 𝛿, States) for p in Accepting })\n",
    "    return r"
   ]
  },
  {
   "cell_type": "markdown",
   "metadata": {},
   "source": [
    "The notebook `Test-DFA-2-RegExp.ipynb` provides a test for the function `dfa_2_regexp`."
   ]
  },
  {
   "cell_type": "code",
   "execution_count": null,
   "metadata": {},
   "outputs": [],
   "source": []
  }
 ],
 "metadata": {
  "kernelspec": {
   "display_name": "Python 3",
   "language": "python",
   "name": "python3"
  },
  "language_info": {
   "codemirror_mode": {
    "name": "ipython",
    "version": 3
   },
   "file_extension": ".py",
   "mimetype": "text/x-python",
   "name": "python",
   "nbconvert_exporter": "python",
   "pygments_lexer": "ipython3",
   "version": "3.8.3"
  },
  "varInspector": {
   "cols": {
    "lenName": 16,
    "lenType": 16,
    "lenVar": 40
   },
   "kernels_config": {
    "python": {
     "delete_cmd_postfix": "",
     "delete_cmd_prefix": "del ",
     "library": "var_list.py",
     "varRefreshCmd": "print(var_dic_list())"
    },
    "r": {
     "delete_cmd_postfix": ") ",
     "delete_cmd_prefix": "rm(",
     "library": "var_list.r",
     "varRefreshCmd": "cat(var_dic_list()) "
    }
   },
   "types_to_exclude": [
    "module",
    "function",
    "builtin_function_or_method",
    "instance",
    "_Feature"
   ],
   "window_display": false
  }
 },
 "nbformat": 4,
 "nbformat_minor": 4
}
