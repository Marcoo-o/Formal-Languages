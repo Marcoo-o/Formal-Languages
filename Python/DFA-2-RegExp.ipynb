{
 "cells": [
  {
   "cell_type": "code",
   "execution_count": null,
   "metadata": {},
   "outputs": [],
   "source": [
    "%%HTML\n",
    "<style>\n",
    ".container { width: 100% }\n",
    "</style>"
   ]
  },
  {
   "cell_type": "markdown",
   "metadata": {},
   "source": [
    "# Converting a Deterministic <span style=\"font-variant:small-caps;\">Fsm</span> into a Regular Expression"
   ]
  },
  {
   "cell_type": "code",
   "execution_count": null,
   "metadata": {},
   "outputs": [],
   "source": [
    "def arb(S):\n",
    "    for x in S:\n",
    "        return x"
   ]
  },
  {
   "cell_type": "markdown",
   "metadata": {},
   "source": [
    "The function `dfa_2_regexp` takes a deterministic <span style=\"font-variant:small-caps;\">Fsm</span> $A$ and computes a regular expression $r$ that describes the same language as $A$, i.e. we have\n",
    "$$ L(A) = L(r). $$\n",
    "It tries to simplify the regular expression $r$ using some algebraic rules."
   ]
  },
  {
   "cell_type": "code",
   "execution_count": null,
   "metadata": {},
   "outputs": [],
   "source": [
    "def dfa_2_regexp(A):\n",
    "    States, Sigma, delta, q0, Accepting = A\n",
    "    r = regexp_sum({ rpq(q0, p, Sigma, delta, States) for p in Accepting })\n",
    "    return r"
   ]
  },
  {
   "cell_type": "markdown",
   "metadata": {},
   "source": [
    "The function `regexp_sum` takes a set $S = \\{ r_1, \\cdots, r_n \\}$ of regular expressions\n",
    "as its argument.  It returns the regular expression \n",
    "$$ r_1 + \\cdots + r_n. $$"
   ]
  },
  {
   "cell_type": "code",
   "execution_count": null,
   "metadata": {},
   "outputs": [],
   "source": [
    "def regexp_sum(S):\n",
    "    n = len(S)\n",
    "    if n == 0:\n",
    "        return 0\n",
    "    elif n == 1:\n",
    "        return arb(S)\n",
    "    else:\n",
    "        r  = arb(S)\n",
    "        S1 = S - { r }\n",
    "        return ('+', r, regexp_sum(S1))"
   ]
  },
  {
   "cell_type": "markdown",
   "metadata": {},
   "source": [
    "The function `rpq` assumes there is some <span style=\"font-variant:small-caps;\">Fsm</span>\n",
    "$$ A = \\langle \\texttt{States}, \\texttt{Sigma}, \\texttt{delta}, \\texttt{q0}, \\texttt{Accepting} \\rangle $$\n",
    "given and takes five arguments:\n",
    "- `p1` and `p2` are states of the <span style=\"font-variant:small-caps;\">Fsm</span> $A$,\n",
    "- `Sigma` is the alphabet of the <span style=\"font-variant:small-caps;\">Fsm</span>,\n",
    "- `delta` is the transition function of the <span style=\"font-variant:small-caps;\">Fsm</span>, and\n",
    "- `Allowed` is a subset of the set `States`.\n",
    "\n",
    "The function `rpq` computes a regular expression that describes those strings that take the \n",
    "<span style=\"font-variant:small-caps;\">Fsm</span> $A$ from the state `p1` to state `p2`.\n",
    "When going `p1` to `p2` only states in the set `Allowed` my be visited."
   ]
  },
  {
   "cell_type": "code",
   "execution_count": null,
   "metadata": {},
   "outputs": [],
   "source": [
    "def rpq(p1, p2, Sigma, delta, Allowed):\n",
    "    if Allowed == set():\n",
    "        all_chars = { c for c in Sigma \n",
    "                        if delta.get((p1, c)) == p2 \n",
    "                    }\n",
    "        r = regexp_sum(all_chars)\n",
    "        if p1 == p2:\n",
    "            if all_chars == set():\n",
    "                return ''\n",
    "            else:\n",
    "                return ('+', '', r)\n",
    "        else:\n",
    "             return r\n",
    "    else:\n",
    "        qk = arb(Allowed)\n",
    "        NewAllowed = Allowed - { qk }\n",
    "        rkp1p2 = rpq(p1, p2, Sigma, delta, NewAllowed)\n",
    "        rkp1qk = rpq(p1, qk, Sigma, delta, NewAllowed)\n",
    "        rkqkqk = rpq(qk, qk, Sigma, delta, NewAllowed)\n",
    "        rkqkp2 = rpq(qk, p2, Sigma, delta, NewAllowed)\n",
    "        return ('+', rkp1p2, ('&', ('&', rkp1qk, ('*', rkqkqk)), rkqkp2))"
   ]
  },
  {
   "cell_type": "code",
   "execution_count": null,
   "metadata": {},
   "outputs": [],
   "source": []
  },
  {
   "cell_type": "code",
   "execution_count": null,
   "metadata": {},
   "outputs": [],
   "source": []
  }
 ],
 "metadata": {
  "kernelspec": {
   "display_name": "Python 3",
   "language": "python",
   "name": "python3"
  },
  "language_info": {
   "codemirror_mode": {
    "name": "ipython",
    "version": 3
   },
   "file_extension": ".py",
   "mimetype": "text/x-python",
   "name": "python",
   "nbconvert_exporter": "python",
   "pygments_lexer": "ipython3",
   "version": "3.8.3"
  },
  "varInspector": {
   "cols": {
    "lenName": 16,
    "lenType": 16,
    "lenVar": 40
   },
   "kernels_config": {
    "python": {
     "delete_cmd_postfix": "",
     "delete_cmd_prefix": "del ",
     "library": "var_list.py",
     "varRefreshCmd": "print(var_dic_list())"
    },
    "r": {
     "delete_cmd_postfix": ") ",
     "delete_cmd_prefix": "rm(",
     "library": "var_list.r",
     "varRefreshCmd": "cat(var_dic_list()) "
    }
   },
   "types_to_exclude": [
    "module",
    "function",
    "builtin_function_or_method",
    "instance",
    "_Feature"
   ],
   "window_display": false
  }
 },
 "nbformat": 4,
 "nbformat_minor": 4
}
