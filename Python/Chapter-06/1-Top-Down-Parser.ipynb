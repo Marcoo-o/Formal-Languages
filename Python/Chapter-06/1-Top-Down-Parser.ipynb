{
 "cells": [
  {
   "cell_type": "code",
   "execution_count": 2,
   "metadata": {},
   "outputs": [
    {
     "name": "stdout",
     "output_type": "stream",
     "text": [
      "Collecting mypy\n",
      "  Downloading mypy-1.13.0-cp312-cp312-macosx_11_0_arm64.whl.metadata (2.1 kB)\n",
      "Requirement already satisfied: typing-extensions>=4.6.0 in /Users/stroetmann/opt/anaconda3/envs/ds/lib/python3.12/site-packages (from mypy) (4.11.0)\n",
      "Collecting mypy-extensions>=1.0.0 (from mypy)\n",
      "  Using cached mypy_extensions-1.0.0-py3-none-any.whl.metadata (1.1 kB)\n",
      "Downloading mypy-1.13.0-cp312-cp312-macosx_11_0_arm64.whl (10.1 MB)\n",
      "\u001b[2K   \u001b[90m━━━━━━━━━━━━━━━━━━━━━━━━━━━━━━━━━━━━━━━━\u001b[0m \u001b[32m10.1/10.1 MB\u001b[0m \u001b[31m16.9 MB/s\u001b[0m eta \u001b[36m0:00:00\u001b[0m \u001b[36m0:00:01\u001b[0m\n",
      "\u001b[?25hUsing cached mypy_extensions-1.0.0-py3-none-any.whl (4.7 kB)\n",
      "Installing collected packages: mypy-extensions, mypy\n",
      "Successfully installed mypy-1.13.0 mypy-extensions-1.0.0\n"
     ]
    }
   ],
   "source": [
    "!pip install mypy"
   ]
  },
  {
   "cell_type": "code",
   "execution_count": 3,
   "metadata": {},
   "outputs": [
    {
     "name": "stdout",
     "output_type": "stream",
     "text": [
      "Collecting nb_mypy\n",
      "  Using cached nb_mypy-1.0.5-py3-none-any.whl\n",
      "Collecting astor<1,>=0.8 (from nb_mypy)\n",
      "  Using cached astor-0.8.1-py2.py3-none-any.whl.metadata (4.2 kB)\n",
      "Requirement already satisfied: mypy<2,>=1 in /Users/stroetmann/opt/anaconda3/envs/ds/lib/python3.12/site-packages (from nb_mypy) (1.13.0)\n",
      "Requirement already satisfied: ipython<9,>=8.0 in /Users/stroetmann/opt/anaconda3/envs/ds/lib/python3.12/site-packages (from nb_mypy) (8.27.0)\n",
      "Requirement already satisfied: decorator in /Users/stroetmann/opt/anaconda3/envs/ds/lib/python3.12/site-packages (from ipython<9,>=8.0->nb_mypy) (5.1.1)\n",
      "Requirement already satisfied: jedi>=0.16 in /Users/stroetmann/opt/anaconda3/envs/ds/lib/python3.12/site-packages (from ipython<9,>=8.0->nb_mypy) (0.19.1)\n",
      "Requirement already satisfied: matplotlib-inline in /Users/stroetmann/opt/anaconda3/envs/ds/lib/python3.12/site-packages (from ipython<9,>=8.0->nb_mypy) (0.1.6)\n",
      "Requirement already satisfied: prompt-toolkit<3.1.0,>=3.0.41 in /Users/stroetmann/opt/anaconda3/envs/ds/lib/python3.12/site-packages (from ipython<9,>=8.0->nb_mypy) (3.0.43)\n",
      "Requirement already satisfied: pygments>=2.4.0 in /Users/stroetmann/opt/anaconda3/envs/ds/lib/python3.12/site-packages (from ipython<9,>=8.0->nb_mypy) (2.15.1)\n",
      "Requirement already satisfied: stack-data in /Users/stroetmann/opt/anaconda3/envs/ds/lib/python3.12/site-packages (from ipython<9,>=8.0->nb_mypy) (0.2.0)\n",
      "Requirement already satisfied: traitlets>=5.13.0 in /Users/stroetmann/opt/anaconda3/envs/ds/lib/python3.12/site-packages (from ipython<9,>=8.0->nb_mypy) (5.14.3)\n",
      "Requirement already satisfied: pexpect>4.3 in /Users/stroetmann/opt/anaconda3/envs/ds/lib/python3.12/site-packages (from ipython<9,>=8.0->nb_mypy) (4.8.0)\n",
      "Requirement already satisfied: typing-extensions>=4.6.0 in /Users/stroetmann/opt/anaconda3/envs/ds/lib/python3.12/site-packages (from mypy<2,>=1->nb_mypy) (4.11.0)\n",
      "Requirement already satisfied: mypy-extensions>=1.0.0 in /Users/stroetmann/opt/anaconda3/envs/ds/lib/python3.12/site-packages (from mypy<2,>=1->nb_mypy) (1.0.0)\n",
      "Requirement already satisfied: parso<0.9.0,>=0.8.3 in /Users/stroetmann/opt/anaconda3/envs/ds/lib/python3.12/site-packages (from jedi>=0.16->ipython<9,>=8.0->nb_mypy) (0.8.3)\n",
      "Requirement already satisfied: ptyprocess>=0.5 in /Users/stroetmann/opt/anaconda3/envs/ds/lib/python3.12/site-packages (from pexpect>4.3->ipython<9,>=8.0->nb_mypy) (0.7.0)\n",
      "Requirement already satisfied: wcwidth in /Users/stroetmann/opt/anaconda3/envs/ds/lib/python3.12/site-packages (from prompt-toolkit<3.1.0,>=3.0.41->ipython<9,>=8.0->nb_mypy) (0.2.5)\n",
      "Requirement already satisfied: executing in /Users/stroetmann/opt/anaconda3/envs/ds/lib/python3.12/site-packages (from stack-data->ipython<9,>=8.0->nb_mypy) (0.8.3)\n",
      "Requirement already satisfied: asttokens in /Users/stroetmann/opt/anaconda3/envs/ds/lib/python3.12/site-packages (from stack-data->ipython<9,>=8.0->nb_mypy) (2.0.5)\n",
      "Requirement already satisfied: pure-eval in /Users/stroetmann/opt/anaconda3/envs/ds/lib/python3.12/site-packages (from stack-data->ipython<9,>=8.0->nb_mypy) (0.2.2)\n",
      "Requirement already satisfied: six in /Users/stroetmann/opt/anaconda3/envs/ds/lib/python3.12/site-packages (from asttokens->stack-data->ipython<9,>=8.0->nb_mypy) (1.16.0)\n",
      "Using cached astor-0.8.1-py2.py3-none-any.whl (27 kB)\n",
      "Installing collected packages: astor, nb_mypy\n",
      "Successfully installed astor-0.8.1 nb_mypy-1.0.5\n"
     ]
    }
   ],
   "source": [
    "!pip install nb_mypy"
   ]
  },
  {
   "cell_type": "code",
   "execution_count": 4,
   "metadata": {},
   "outputs": [
    {
     "name": "stderr",
     "output_type": "stream",
     "text": [
      "Version 1.0.5\n"
     ]
    }
   ],
   "source": [
    "%load_ext nb_mypy"
   ]
  },
  {
   "cell_type": "markdown",
   "metadata": {},
   "source": [
    "# A Recursive Parser for Arithmetic Expressions\n",
    "\n",
    "In this notebook we implement a simple *recursive descend* parser for arithmetic expressions.\n",
    "This parser will implement the following grammar:\n",
    "$$\n",
    "  \\begin{eqnarray*}\n",
    "  \\mathrm{expr}        & \\rightarrow & \\mathrm{product}\\;\\;\\mathrm{exprRest}            \\\\[0.2cm]\n",
    "  \\mathrm{exprRest}    & \\rightarrow & \\texttt{'+'} \\;\\;\\mathrm{product}\\;\\;\\mathrm{exprRest}   \\\\\n",
    "                       & \\mid        & \\texttt{'-'} \\;\\;\\mathrm{product}\\;\\;\\mathrm{exprRest}   \\\\\n",
    "                       & \\mid        & \\lambda                                      \\\\[0.2cm]\n",
    "  \\mathrm{product}     & \\rightarrow & \\mathrm{factor}\\;\\;\\mathrm{productRest}          \\\\[0.2cm]\n",
    "  \\mathrm{productRest} & \\rightarrow & \\texttt{'*'} \\;\\;\\mathrm{factor}\\;\\;\\mathrm{productRest} \\\\\n",
    "                       & \\mid        & \\texttt{'/'} \\;\\;\\mathrm{factor}\\;\\;\\mathrm{productRest} \\\\\n",
    "                       & \\mid        & \\lambda                                      \\\\[0.2cm]\n",
    "  \\mathrm{factor}      & \\rightarrow & \\texttt{'('} \\;\\;\\mathrm{expr} \\;\\;\\texttt{')'}                \\\\\n",
    "                       & \\mid        & \\texttt{NUMBER} \n",
    "  \\end{eqnarray*}\n",
    "$$"
   ]
  },
  {
   "cell_type": "markdown",
   "metadata": {},
   "source": [
    "## Implementing a Scanner\n",
    "\n",
    "We implement a scanner with the help of the module `re`."
   ]
  },
  {
   "cell_type": "code",
   "execution_count": 5,
   "metadata": {},
   "outputs": [],
   "source": [
    "import re"
   ]
  },
  {
   "cell_type": "markdown",
   "metadata": {},
   "source": [
    "The function `tokenize` receives a string `s` as argument and returns a list of tokens.\n",
    "The string `s` is supposed to represent an arithmetical expression. \n",
    "\n",
    "**Note:** \n",
    "1. We need to set the flag `re.VERBOSE` in our call of the function `findall`\n",
    "   below because otherwise we are not able to format the regular expression `lexSpec` the way \n",
    "   we have done it.  Furthermore, we wouldn't have been able to add comments inside the regular expression.\n",
    "2. The regular expression `lexSpec` contains 5 parenthesized groups.  Therefore,\n",
    "   `findall` returns a list of 5-tuples where the 5 components correspond to the 5\n",
    "   groups of the regular expression."
   ]
  },
  {
   "cell_type": "code",
   "execution_count": 6,
   "metadata": {},
   "outputs": [],
   "source": [
    "def tokenize(s: str) -> list[str]:\n",
    "    '''Transform the string s into a list of tokens.  The string s\n",
    "       is supposed to represent an arithmetic expression.\n",
    "    '''\n",
    "    lexSpec = r'''[ \\t]+        |  # blanks and tabs\n",
    "                  [1-9][0-9]*|0 |  # numbers\n",
    "                  [-+*/()]      |  # arithmetical operators and parentheses\n",
    "               '''\n",
    "    tokenList = re.findall(lexSpec, s, re.VERBOSE)\n",
    "    result    = []\n",
    "    for token in tokenList:\n",
    "        if token == '' or token[0] in [' ', '\\t']:        # skip blanks and tabs\n",
    "            continue\n",
    "        result += [ token ]\n",
    "    return result"
   ]
  },
  {
   "cell_type": "code",
   "execution_count": 7,
   "metadata": {},
   "outputs": [
    {
     "data": {
      "text/plain": [
       "['123', '+', '(', '234', '+', '345', '-', '2', '*', '*', '0', ')', '/', '7']"
      ]
     },
     "execution_count": 7,
     "metadata": {},
     "output_type": "execute_result"
    }
   ],
   "source": [
    "tokenize('123 + (234 +  345 - 2**0)/7')"
   ]
  },
  {
   "cell_type": "markdown",
   "metadata": {},
   "source": [
    "## Implementing the Recursive Descend Parser"
   ]
  },
  {
   "cell_type": "markdown",
   "metadata": {},
   "source": [
    "The next cell contains type declarations needed by `mypy`."
   ]
  },
  {
   "cell_type": "code",
   "execution_count": 8,
   "metadata": {},
   "outputs": [],
   "source": [
    "def parseExpr(TL: list[str]) -> tuple[float, list[str]]:\n",
    "    return None # type: ignore\n",
    "\n",
    "def parseExprRest(Sum: float, TL: list[str]) -> tuple[float, list[str]]:\n",
    "    return None # type: ignore\n",
    "\n",
    "def parseProduct(TL: list[str]) -> tuple[float, list[str]]:\n",
    "    return None # type: ignore\n",
    "\n",
    "def parseProductRest(product: float, TL: list[str]) -> tuple[float, list[str]]:\n",
    "    return None # type: ignore\n",
    "\n",
    "def parseFactor(TL: list[str]) -> tuple[float, list[str]]:\n",
    "    return None # type: ignore"
   ]
  },
  {
   "cell_type": "markdown",
   "metadata": {},
   "source": [
    "The function `parse` takes a string `s` as input and parses this string according to the recursive grammar\n",
    "shown above.  The function returns the floating point number that results from evaluation the expression given in the string `s`. "
   ]
  },
  {
   "cell_type": "code",
   "execution_count": 9,
   "metadata": {},
   "outputs": [],
   "source": [
    "def parse(s: str) -> float:\n",
    "    TL           = tokenize(s)\n",
    "    result, Rest = parseExpr(TL)\n",
    "    assert Rest == [], f'Parse Error: could not parse {TL}'\n",
    "    return result"
   ]
  },
  {
   "cell_type": "markdown",
   "metadata": {},
   "source": [
    "The function `parseExpr` implements the following grammar rule:\n",
    "$$ \\mathrm{expr} \\rightarrow \\;\\mathrm{product}\\;\\;\\mathrm{exprRest} $$\n",
    "It takes a token list `TL` as its input and returns a pair of the form `(value, Rest)` where\n",
    "- `value` is the result of evaluating the arithmetical expression\n",
    "  that is represented by `TL` and\n",
    "- `Rest` is a list of those tokens that have not been consumed during the parse process. "
   ]
  },
  {
   "cell_type": "code",
   "execution_count": 10,
   "metadata": {},
   "outputs": [],
   "source": [
    "def parseExpr(TL: list[str]) -> tuple[float, list[str]]:\n",
    "    product, Rest = parseProduct(TL)\n",
    "    return parseExprRest(product, Rest)"
   ]
  },
  {
   "cell_type": "markdown",
   "metadata": {},
   "source": [
    "The function `parseExprRest` implements the following grammar rules:\n",
    "$$\n",
    "  \\begin{eqnarray*}\n",
    "  \\mathrm{exprRest}    & \\rightarrow & \\texttt{'+'} \\;\\;\\mathrm{product}\\;\\;\\mathrm{exprRest}   \\\\\n",
    "                       & \\mid        & \\texttt{'-'} \\;\\;\\mathrm{product}\\;\\;\\mathrm{exprRest}   \\\\\n",
    "                       & \\mid        & \\;\\lambda                                     \\\\[0.2cm]\n",
    "  \\end{eqnarray*}\n",
    "$$\n",
    "It takes two arguments:\n",
    "- `Sum` is the value that has already been computed from the tokens parsed so far,\n",
    "- `TL` is the list of tokens that still need to be consumed.\n",
    "\n",
    "It returns a pair of the form `(value, Rest)` where\n",
    "- `value` is the result of evaluating the arithmetical expression\n",
    "  that is represented by `TL` and\n",
    "- `Rest` is a list of those tokens that have not been consumed during the parse process. "
   ]
  },
  {
   "cell_type": "code",
   "execution_count": 11,
   "metadata": {},
   "outputs": [],
   "source": [
    "def parseExprRest(Sum: float, TL: list[str]) -> tuple[float, list[str]]:\n",
    "    match TL:\n",
    "        case []:\n",
    "            return Sum, []\n",
    "        case '+', *RL:\n",
    "            product, Rest = parseProduct(RL)\n",
    "            return parseExprRest(Sum + product, Rest)\n",
    "        case '-', *RL:\n",
    "            product, Rest = parseProduct(RL)\n",
    "            return parseExprRest(Sum - product, Rest)\n",
    "        case _:\n",
    "            return Sum, TL"
   ]
  },
  {
   "cell_type": "markdown",
   "metadata": {},
   "source": [
    "The function `parseProduct` implements the following grammar rule:\n",
    "$$ \\mathrm{product} \\rightarrow \\;\\mathrm{factor}\\;\\;\\mathrm{productRest} $$\n",
    "\n",
    "It takes one argument:\n",
    "- `TL` is the list of tokens that need to be consumed.\n",
    "\n",
    "It returns a pair of the form `(value, Rest)` where\n",
    "- `value` is the result of evaluating the arithmetical expression\n",
    "  that is represented by `TL` and\n",
    "- `Rest` is a list of those tokens that have not been consumed while trying to parse a product."
   ]
  },
  {
   "cell_type": "code",
   "execution_count": 12,
   "metadata": {},
   "outputs": [],
   "source": [
    "def parseProduct(TL: list[str]) -> tuple[float, list[str]]:\n",
    "    factor, Rest = parseFactor(TL)\n",
    "    return parseProductRest(factor, Rest)"
   ]
  },
  {
   "cell_type": "markdown",
   "metadata": {},
   "source": [
    "The function `parseProductRest` implements the following grammar rules:\n",
    "$$\n",
    "  \\begin{eqnarray*}\n",
    "  \\mathrm{productRest} & \\rightarrow & \\texttt{'*'} \\;\\;\\mathrm{factor}\\;\\;\\mathrm{productRest} \\\\\n",
    "                       & \\mid        & \\texttt{'/'} \\;\\;\\mathrm{factor}\\;\\;\\mathrm{productRest} \\\\\n",
    "                       & \\mid        & \\;\\lambda    \\\\                                  \n",
    "  \\end{eqnarray*}\n",
    "$$\n",
    "\n",
    "It takes two arguments:\n",
    "- `product` is the value that has already been parsed,\n",
    "- `TL` is the list of tokens that still need to be consumed.\n",
    "\n",
    "It returns a pair of the form `(value, Rest)` where\n",
    "- `value` is the result of evaluating the arithmetical expression\n",
    "  that is represented by `TL` and\n",
    "- `Rest` is a list of those tokens that have not been consumed while trying to parse the rest of a product."
   ]
  },
  {
   "cell_type": "code",
   "execution_count": 13,
   "metadata": {},
   "outputs": [],
   "source": [
    "def parseProductRest(product: float, TL: list[str]) -> tuple[float, list[str]]:\n",
    "    match TL:\n",
    "        case []:\n",
    "            return product, []\n",
    "        case '*', *RL: \n",
    "            factor, Rest = parseFactor(RL)\n",
    "            return parseProductRest(product * factor, Rest)\n",
    "        case '/', *RL:\n",
    "            factor, Rest = parseFactor(RL)\n",
    "            return parseProductRest(product / factor, Rest)\n",
    "        case _:\n",
    "            return product, TL"
   ]
  },
  {
   "cell_type": "markdown",
   "metadata": {},
   "source": [
    "The function `parseFactor` implements the following grammar rules:\n",
    "$$\n",
    "  \\begin{eqnarray*}\n",
    "  \\mathrm{factor}      & \\rightarrow & \\texttt{'('} \\;\\;\\mathrm{expr} \\;\\;\\texttt{')'}                \\\\\n",
    "                       & \\mid        & \\;\\texttt{NUMBER} \n",
    "  \\end{eqnarray*}\n",
    "$$\n",
    "\n",
    "It takes one argument:\n",
    "- `TL` is the list of tokens that still need to be consumed.\n",
    "\n",
    "It returns a pair of the form `(value, Rest)` where\n",
    "- `value` is the result of evaluating the arithmetical expression\n",
    "  that is represented by `TL` and\n",
    "- `Rest` is a list of those tokens that have not been consumed while trying to parse a factor."
   ]
  },
  {
   "cell_type": "code",
   "execution_count": 14,
   "metadata": {},
   "outputs": [],
   "source": [
    "def parseFactor(TL: list[str]) -> tuple[float, list[str]]:\n",
    "    match TL:\n",
    "        case '(', *RL: \n",
    "            expr, Rest = parseExpr(RL)\n",
    "            assert Rest[0] == ')', 'Parse Error: expected \")\"'\n",
    "            return expr, Rest[1:]\n",
    "        case _: \n",
    "            return float(TL[0]), TL[1:]"
   ]
  },
  {
   "cell_type": "markdown",
   "metadata": {},
   "source": [
    "## Testing"
   ]
  },
  {
   "cell_type": "code",
   "execution_count": 15,
   "metadata": {},
   "outputs": [],
   "source": [
    "def test(s: str) -> float:\n",
    "    r1 = parse(s)\n",
    "    r2 = eval(s)\n",
    "    assert r1 == r2\n",
    "    return r1"
   ]
  },
  {
   "cell_type": "code",
   "execution_count": 16,
   "metadata": {},
   "outputs": [
    {
     "data": {
      "text/plain": [
       "16.37777777777778"
      ]
     },
     "execution_count": 16,
     "metadata": {},
     "output_type": "execute_result"
    }
   ],
   "source": [
    "test('11+22*(33-44)/(5-10*5/(4-3))')"
   ]
  },
  {
   "cell_type": "code",
   "execution_count": 17,
   "metadata": {},
   "outputs": [
    {
     "data": {
      "text/plain": [
       "5.377777777777778"
      ]
     },
     "execution_count": 17,
     "metadata": {},
     "output_type": "execute_result"
    }
   ],
   "source": [
    "test('0*11+22*(33-44)/(5-10*5/(4-3))')"
   ]
  },
  {
   "cell_type": "code",
   "execution_count": 18,
   "metadata": {},
   "outputs": [
    {
     "data": {
      "text/plain": [
       "-5.0"
      ]
     },
     "execution_count": 18,
     "metadata": {},
     "output_type": "execute_result"
    }
   ],
   "source": [
    "test('2-3-4')"
   ]
  },
  {
   "cell_type": "code",
   "execution_count": null,
   "metadata": {},
   "outputs": [],
   "source": []
  }
 ],
 "metadata": {
  "@webio": {
   "lastCommId": null,
   "lastKernelId": null
  },
  "kernelspec": {
   "display_name": "Python 3 (ipykernel)",
   "language": "python",
   "name": "python3"
  },
  "language_info": {
   "codemirror_mode": {
    "name": "ipython",
    "version": 3
   },
   "file_extension": ".py",
   "mimetype": "text/x-python",
   "name": "python",
   "nbconvert_exporter": "python",
   "pygments_lexer": "ipython3",
   "version": "3.12.7"
  },
  "varInspector": {
   "cols": {
    "lenName": 16,
    "lenType": 16,
    "lenVar": 40
   },
   "kernels_config": {
    "python": {
     "delete_cmd_postfix": "",
     "delete_cmd_prefix": "del ",
     "library": "var_list.py",
     "varRefreshCmd": "print(var_dic_list())"
    },
    "r": {
     "delete_cmd_postfix": ") ",
     "delete_cmd_prefix": "rm(",
     "library": "var_list.r",
     "varRefreshCmd": "cat(var_dic_list()) "
    }
   },
   "types_to_exclude": [
    "module",
    "function",
    "builtin_function_or_method",
    "instance",
    "_Feature"
   ],
   "window_display": false
  }
 },
 "nbformat": 4,
 "nbformat_minor": 4
}
