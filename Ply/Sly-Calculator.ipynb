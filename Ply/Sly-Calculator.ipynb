{
 "cells": [
  {
   "cell_type": "code",
   "execution_count": null,
   "metadata": {},
   "outputs": [],
   "source": [
    "%%HTML\n",
    "<style>\n",
    ".container { width: 100% }\n",
    "</style>"
   ]
  },
  {
   "cell_type": "code",
   "execution_count": null,
   "metadata": {},
   "outputs": [],
   "source": [
    "import sys"
   ]
  },
  {
   "cell_type": "code",
   "execution_count": null,
   "metadata": {},
   "outputs": [],
   "source": [
    "sys.path = ['/Users/karlstroetmann/Dropbox/Software/Sly/sly/'] + sys.path"
   ]
  },
  {
   "cell_type": "code",
   "execution_count": null,
   "metadata": {},
   "outputs": [],
   "source": [
    "from sly import Lexer, Parser"
   ]
  },
  {
   "cell_type": "code",
   "execution_count": null,
   "metadata": {},
   "outputs": [],
   "source": [
    "class CalcLexer(Lexer):\n",
    "    tokens = { NAME, NUMBER }\n",
    "    ignore = ' \\t'\n",
    "    literals = { '=', '+', '-', '*', '/', '(', ')' }\n",
    "    \n",
    "    # Tokens\n",
    "    NAME   = r'[a-zA-Z_][a-zA-Z0-9_]*'\n",
    "    NUMBER = r'\\d+'\n",
    "\n",
    "    # Ignored pattern\n",
    "    ignore_newline = r'\\n+'\n",
    "\n",
    "    # Extra action for newlines\n",
    "    def ignore_newline(self, t):\n",
    "        self.lineno += t.value.count('\\n')\n",
    "\n",
    "    def error(self, t):\n",
    "        print(\"Illegal character '%s'\" % t.value[0])\n",
    "        self.index += 1"
   ]
  },
  {
   "cell_type": "code",
   "execution_count": null,
   "metadata": {},
   "outputs": [],
   "source": [
    "class CalcParser(Parser):\n",
    "    tokens = CalcLexer.tokens\n",
    "\n",
    "    precedence = (\n",
    "        ('left', \"+\", \"-\"),\n",
    "        ('left', \"*\", \"/\"),\n",
    "        ('right', UMINUS)\n",
    "        )\n",
    "\n",
    "    def __init__(self):\n",
    "        self.names = { }\n",
    "\n",
    "    @_('NAME \"=\" expr')\n",
    "    def statement(self, p):\n",
    "        self.names[p.NAME] = p.expr\n",
    "\n",
    "    @_('expr')\n",
    "    def statement(self, p):\n",
    "        print(p.expr)\n",
    "\n",
    "    @_('expr \"+\" expr')\n",
    "    def expr(self, p):\n",
    "        return p.expr0 + p.expr1\n",
    "\n",
    "    @_('expr \"-\" expr')\n",
    "    def expr(self, p):\n",
    "        return p.expr0 - p.expr1\n",
    "\n",
    "    @_('expr \"*\" expr')\n",
    "    def expr(self, p):\n",
    "        return p.expr0 * p.expr1\n",
    "\n",
    "    @_('expr \"/\" expr')\n",
    "    def expr(self, p):\n",
    "        return p.expr0 / p.expr1\n",
    "\n",
    "    @_('\"-\" expr %prec UMINUS')\n",
    "    def expr(self, p):\n",
    "        return -p.expr\n",
    "\n",
    "    @_('\"(\" expr \")\"')\n",
    "    def expr(self, p):\n",
    "        return p.expr"
   ]
  },
  {
   "cell_type": "code",
   "execution_count": null,
   "metadata": {},
   "outputs": [],
   "source": [
    "class CalcParser(Parser):\n",
    "    debugfile = 'parser.out'\n",
    "    \n",
    "    tokens = CalcLexer.tokens\n",
    "\n",
    "    precedence = (\n",
    "        ('left', \"+\", \"-\"),\n",
    "        ('left', \"*\", \"/\"),\n",
    "        ('right', UMINUS)\n",
    "        )\n",
    "\n",
    "    def __init__(self):\n",
    "        self.names = { }\n",
    "\n",
    "    @_('NAME \"=\" expr')\n",
    "    def statement(self, p):\n",
    "        self.names[p.NAME] = p.expr\n",
    "\n",
    "    @_('expr')\n",
    "    def statement(self, p):\n",
    "        print(p.expr)\n",
    "\n",
    "    @_('expr \"+\" expr')\n",
    "    def expr(self, p):\n",
    "        return p.expr0 + p.expr1\n",
    "\n",
    "    @_('expr \"-\" expr')\n",
    "    def expr(self, p):\n",
    "        return p.expr0 - p.expr1\n",
    "\n",
    "    @_('expr \"*\" expr')\n",
    "    def expr(self, p):\n",
    "        return p.expr0 * p.expr1\n",
    "\n",
    "    @_('expr \"/\" expr')\n",
    "    def expr(self, p):\n",
    "        return p.expr0 / p.expr1\n",
    "\n",
    "    @_('\"-\" expr %prec UMINUS')\n",
    "    def expr(self, p):\n",
    "        return -p.expr\n",
    "\n",
    "    @_('\"(\" expr \")\"')\n",
    "    def expr(self, p):\n",
    "        return p.expr\n",
    "\n",
    "    @_('NUMBER')\n",
    "    def expr(self, p):\n",
    "        return int(p.NUMBER)"
   ]
  },
  {
   "cell_type": "code",
   "execution_count": null,
   "metadata": {},
   "outputs": [],
   "source": [
    "def main():\n",
    "    lexer = CalcLexer()\n",
    "    parser = CalcParser()\n",
    "    while True:\n",
    "        try:\n",
    "            text = input('calc > ')\n",
    "        except EOFError:\n",
    "            break\n",
    "        if text != 'quit':\n",
    "            parser.parse(lexer.tokenize(text))\n",
    "        else:\n",
    "            break"
   ]
  },
  {
   "cell_type": "code",
   "execution_count": null,
   "metadata": {},
   "outputs": [],
   "source": [
    "main()"
   ]
  },
  {
   "cell_type": "code",
   "execution_count": null,
   "metadata": {},
   "outputs": [],
   "source": []
  }
 ],
 "metadata": {
  "kernelspec": {
   "display_name": "Python 3",
   "language": "python",
   "name": "python3"
  },
  "language_info": {
   "codemirror_mode": {
    "name": "ipython",
    "version": 3
   },
   "file_extension": ".py",
   "mimetype": "text/x-python",
   "name": "python",
   "nbconvert_exporter": "python",
   "pygments_lexer": "ipython3",
   "version": "3.8.3"
  }
 },
 "nbformat": 4,
 "nbformat_minor": 4
}
