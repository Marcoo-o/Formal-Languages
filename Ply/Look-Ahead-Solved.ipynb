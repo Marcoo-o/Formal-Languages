{
 "cells": [
  {
   "cell_type": "code",
   "execution_count": 5,
   "metadata": {},
   "outputs": [
    {
     "data": {
      "text/html": [
       "<link href='http://fonts.googleapis.com/css?family=Alegreya+Sans:100,300,400,500,700,800,900,100italic,300italic,400italic,500italic,700italic,800italic,900italic' rel='stylesheet' type='text/css'>\n",
       "<link href='http://fonts.googleapis.com/css?family=Arvo:400,700,400italic' rel='stylesheet' type='text/css'>\n",
       "<link href='http://fonts.googleapis.com/css?family=PT+Mono' rel='stylesheet' type='text/css'>\n",
       "<link href='http://fonts.googleapis.com/css?family=Shadows+Into+Light' rel='stylesheet' type='text/css'>\n",
       "<link href='http://fonts.googleapis.com/css?family=Philosopher:400,700,400italic,700italic' rel='stylesheet' type='text/css'>\n",
       "\n",
       "<style>\n",
       "\n",
       "@font-face {\n",
       "    font-family: \"Computer Modern\";\n",
       "    src: url('http://mirrors.ctan.org/fonts/cm-unicode/fonts/otf/cmunss.otf');\n",
       "}\n",
       "\n",
       ".container { width: 100% }\n",
       "\n",
       "/* Formatting for header cells */\n",
       ".text_cell_render h1 {\n",
       "    font-family: 'Philosopher', sans-serif;\n",
       "    font-weight: 400;\n",
       "    font-size: 2.2em;\n",
       "    line-height: 100%;\n",
       "    color: rgb(0, 80, 120);\n",
       "    margin-bottom: 0.1em;\n",
       "    margin-top: 0.1em;\n",
       "    display: block;\n",
       "}\t\n",
       ".text_cell_render h2 {\n",
       "    font-family: 'Philosopher', serif;\n",
       "    font-weight: 400;\n",
       "    font-size: 1.9em;\n",
       "    line-height: 100%;\n",
       "    color: rgb(200,100,0);\n",
       "    margin-bottom: 0.1em;\n",
       "    margin-top: 0.1em;\n",
       "    display: block;\n",
       "}\t\n",
       "\n",
       ".text_cell_render h3 {\n",
       "    font-family: 'Philosopher', serif;\n",
       "    margin-top:12px;\n",
       "    margin-bottom: 3px;\n",
       "    font-style: italic;\n",
       "    color: rgb(94,127,192);\n",
       "}\n",
       "\n",
       ".text_cell_render h4 {\n",
       "    font-family: 'Philosopher', serif;\n",
       "}\n",
       "\n",
       ".text_cell_render h5 {\n",
       "    font-family: 'Alegreya Sans', sans-serif;\n",
       "    font-weight: 300;\n",
       "    font-size: 16pt;\n",
       "    color: grey;\n",
       "    font-style: italic;\n",
       "    margin-bottom: .1em;\n",
       "    margin-top: 0.1em;\n",
       "    display: block;\n",
       "}\n",
       "\n",
       ".text_cell_render h6 {\n",
       "    font-family: 'PT Mono', sans-serif;\n",
       "    font-weight: 300;\n",
       "    font-size: 10pt;\n",
       "    color: grey;\n",
       "    margin-bottom: 1px;\n",
       "    margin-top: 1px;\n",
       "}\n",
       "\n",
       ".text_cell_render em {\n",
       "    font-family: 'Philosopher', sans-serif;\n",
       "    color:        blue;\n",
       "    background-color: rgb(255,220,180);\n",
       "    font-size:    110%;\n",
       "    margin-left:   2px;\n",
       "    margin-right:  2px;\n",
       "    font-weight:   100;\n",
       "}\n",
       "\n",
       ".text_cell_render b {\n",
       "    color:            rgb(255,195,195);\n",
       "    background-color: rgb(0,0,0);\n",
       "    font-size:    110%;\n",
       "    margin-left:   2px;\n",
       "    margin-right:  2px;\n",
       "    font-weight:   650;\n",
       "}\n",
       "\n",
       ".text_cell_render tt {\n",
       "    font-size:    120%;\n",
       "    margin-left:   2px;\n",
       "    margin-right:  2px;\n",
       "    font-weight:   150;\n",
       "}\n",
       "\n",
       ".Codemirror {\n",
       "    font-family: \"PT Mono\";\n",
       "    font-size: 100%;\n",
       "}\n",
       "\n",
       "</style>\n",
       "\n"
      ],
      "text/plain": [
       "<IPython.core.display.HTML object>"
      ]
     },
     "execution_count": 5,
     "metadata": {},
     "output_type": "execute_result"
    }
   ],
   "source": [
    "from IPython.core.display import HTML\n",
    "with open (\"../style.css\", \"r\") as file:\n",
    "    css = file.read()\n",
    "HTML(css)"
   ]
  },
  {
   "cell_type": "markdown",
   "metadata": {},
   "source": [
    "# Dealing with Conflicts\n",
    "\n",
    "This notebook discusses conflicts that have their origin in insufficient looakahead.\n",
    "We will discuss the following grammar:\n",
    "```\n",
    "a : b 'V'\n",
    "  | c 'W'\n",
    "  \n",
    "b : 'X' 'U'\n",
    "\n",
    "c : 'X' 'U'\n",
    "```"
   ]
  },
  {
   "cell_type": "markdown",
   "metadata": {},
   "source": [
    "## Specification of the Scanner\n",
    "\n",
    "We implement a minimal scanner.  Below we need to declare.  The reason is that `Ply` only works when the list\n",
    "`tokens` is defined and contains at least one token.  "
   ]
  },
  {
   "cell_type": "code",
   "execution_count": 6,
   "metadata": {},
   "outputs": [
    {
     "name": "stderr",
     "output_type": "stream",
     "text": [
      "WARNING: No t_error rule is defined\n"
     ]
    }
   ],
   "source": [
    "import ply.lex as lex\n",
    "\n",
    "tokens   = [ 'USELESS' ]\n",
    "literals = ['U', 'V', 'W', 'X']\n",
    "\n",
    "def t_USELESS(t):\n",
    "    r'This will never be used.'\n",
    "\n",
    "__file__ = 'main'\n",
    "\n",
    "lexer = lex.lex()"
   ]
  },
  {
   "cell_type": "markdown",
   "metadata": {},
   "source": [
    "## Specification of the Parser"
   ]
  },
  {
   "cell_type": "code",
   "execution_count": 7,
   "metadata": {},
   "outputs": [],
   "source": [
    "import ply.yacc as yacc"
   ]
  },
  {
   "cell_type": "markdown",
   "metadata": {},
   "source": [
    "The *start variable* of our grammar is `expr`, but we dont't have to specify that.  The default\n",
    "start variable is the first vvariable that is defined."
   ]
  },
  {
   "cell_type": "code",
   "execution_count": 8,
   "metadata": {},
   "outputs": [],
   "source": [
    "start = 'a'"
   ]
  },
  {
   "cell_type": "markdown",
   "metadata": {},
   "source": [
    "We can specify multiple expressions in a single rule.  In this case, we have used the `pass`statement \n",
    "as we just want to generate some conflicts. "
   ]
  },
  {
   "cell_type": "code",
   "execution_count": 9,
   "metadata": {},
   "outputs": [],
   "source": [
    "def p_a(p):\n",
    "    \"\"\"\n",
    "    a : b 'V'\n",
    "      | c 'W'\n",
    "    b : 'X' 'U'\n",
    "    c : 'X' 'U'  \n",
    "    \"\"\"\n",
    "    pass"
   ]
  },
  {
   "cell_type": "code",
   "execution_count": 10,
   "metadata": {},
   "outputs": [],
   "source": [
    "def p_error(p):\n",
    "    if p:\n",
    "        print(f'Syntax error at {p.value}.')\n",
    "    else:\n",
    "        print('Syntax error at end of input.')"
   ]
  },
  {
   "cell_type": "markdown",
   "metadata": {},
   "source": [
    "Setting the optional argument `write_tables` to `False` <B style=\"color:red\">is required</B> to prevent an obscure bug where the parser generator tries  to read an empty parse table."
   ]
  },
  {
   "cell_type": "code",
   "execution_count": 11,
   "metadata": {},
   "outputs": [
    {
     "name": "stderr",
     "output_type": "stream",
     "text": [
      "WARNING: Token 'USELESS' defined, but not used\n",
      "WARNING: There is 1 unused token\n",
      "Generating LALR tables\n"
     ]
    }
   ],
   "source": [
    "parser = yacc.yacc(write_tables=False, debug=True)"
   ]
  },
  {
   "cell_type": "markdown",
   "metadata": {},
   "source": [
    "Let's look at the action table that is generated.  We will see that there are no conflicts."
   ]
  },
  {
   "cell_type": "code",
   "execution_count": 12,
   "metadata": {
    "scrolled": false
   },
   "outputs": [
    {
     "name": "stdout",
     "output_type": "stream",
     "text": [
      "Created by PLY version 3.11 (http://www.dabeaz.com/ply)\r\n",
      "\r\n",
      "Unused terminals:\r\n",
      "\r\n",
      "    USELESS\r\n",
      "\r\n",
      "Grammar\r\n",
      "\r\n",
      "Rule 0     S' -> a\r\n",
      "Rule 1     a -> b V\r\n",
      "Rule 2     a -> c W\r\n",
      "Rule 3     b -> X U\r\n",
      "Rule 4     c -> X U\r\n",
      "\r\n",
      "Terminals, with rules where they appear\r\n",
      "\r\n",
      "U                    : 3 4\r\n",
      "USELESS              : \r\n",
      "V                    : 1\r\n",
      "W                    : 2\r\n",
      "X                    : 3 4\r\n",
      "error                : \r\n",
      "\r\n",
      "Nonterminals, with rules where they appear\r\n",
      "\r\n",
      "a                    : 0\r\n",
      "b                    : 1\r\n",
      "c                    : 2\r\n",
      "\r\n",
      "Parsing method: LALR\r\n",
      "\r\n",
      "state 0\r\n",
      "\r\n",
      "    (0) S' -> . a\r\n",
      "    (1) a -> . b V\r\n",
      "    (2) a -> . c W\r\n",
      "    (3) b -> . X U\r\n",
      "    (4) c -> . X U\r\n",
      "\r\n",
      "    X               shift and go to state 4\r\n",
      "\r\n",
      "    a                              shift and go to state 1\r\n",
      "    b                              shift and go to state 2\r\n",
      "    c                              shift and go to state 3\r\n",
      "\r\n",
      "state 1\r\n",
      "\r\n",
      "    (0) S' -> a .\r\n",
      "\r\n",
      "\r\n",
      "\r\n",
      "state 2\r\n",
      "\r\n",
      "    (1) a -> b . V\r\n",
      "\r\n",
      "    V               shift and go to state 5\r\n",
      "\r\n",
      "\r\n",
      "state 3\r\n",
      "\r\n",
      "    (2) a -> c . W\r\n",
      "\r\n",
      "    W               shift and go to state 6\r\n",
      "\r\n",
      "\r\n",
      "state 4\r\n",
      "\r\n",
      "    (3) b -> X . U\r\n",
      "    (4) c -> X . U\r\n",
      "\r\n",
      "    U               shift and go to state 7\r\n",
      "\r\n",
      "\r\n",
      "state 5\r\n",
      "\r\n",
      "    (1) a -> b V .\r\n",
      "\r\n",
      "    $end            reduce using rule 1 (a -> b V .)\r\n",
      "\r\n",
      "\r\n",
      "state 6\r\n",
      "\r\n",
      "    (2) a -> c W .\r\n",
      "\r\n",
      "    $end            reduce using rule 2 (a -> c W .)\r\n",
      "\r\n",
      "\r\n",
      "state 7\r\n",
      "\r\n",
      "    (3) b -> X U .\r\n",
      "    (4) c -> X U .\r\n",
      "\r\n",
      "    V               reduce using rule 3 (b -> X U .)\r\n",
      "    W               reduce using rule 4 (c -> X U .)\r\n",
      "\r\n"
     ]
    }
   ],
   "source": [
    "!cat parser.out"
   ]
  },
  {
   "cell_type": "code",
   "execution_count": null,
   "metadata": {},
   "outputs": [],
   "source": []
  }
 ],
 "metadata": {
  "kernelspec": {
   "display_name": "Python 3",
   "language": "python",
   "name": "python3"
  },
  "language_info": {
   "codemirror_mode": {
    "name": "ipython",
    "version": 3
   },
   "file_extension": ".py",
   "mimetype": "text/x-python",
   "name": "python",
   "nbconvert_exporter": "python",
   "pygments_lexer": "ipython3",
   "version": "3.9.0"
  },
  "varInspector": {
   "cols": {
    "lenName": 16,
    "lenType": 16,
    "lenVar": 40
   },
   "kernels_config": {
    "python": {
     "delete_cmd_postfix": "",
     "delete_cmd_prefix": "del ",
     "library": "var_list.py",
     "varRefreshCmd": "print(var_dic_list())"
    },
    "r": {
     "delete_cmd_postfix": ") ",
     "delete_cmd_prefix": "rm(",
     "library": "var_list.r",
     "varRefreshCmd": "cat(var_dic_list()) "
    }
   },
   "types_to_exclude": [
    "module",
    "function",
    "builtin_function_or_method",
    "instance",
    "_Feature"
   ],
   "window_display": false
  }
 },
 "nbformat": 4,
 "nbformat_minor": 4
}
