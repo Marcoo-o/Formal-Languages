{
 "cells": [
  {
   "cell_type": "code",
   "execution_count": null,
   "metadata": {},
   "outputs": [],
   "source": [
    "from IPython.core.display import HTML\n",
    "with open (\"../style.css\", \"r\") as file:\n",
    "    css = file.read()\n",
    "HTML(css)"
   ]
  },
  {
   "cell_type": "markdown",
   "metadata": {},
   "source": [
    "# A Simple Compiler for a Fragment of `C`\n",
    "\n",
    "This file shows how a simple compiler for a fragment of the programming language `C` can be implemented using `Ply`."
   ]
  },
  {
   "cell_type": "markdown",
   "metadata": {},
   "source": [
    "## Specification of the Scanner\n",
    "\n",
    "The scanner that we implement here is similar to the scanner that we had used for our symbolic calculator."
   ]
  },
  {
   "cell_type": "code",
   "execution_count": null,
   "metadata": {},
   "outputs": [],
   "source": [
    "import ply.lex as lex"
   ]
  },
  {
   "cell_type": "code",
   "execution_count": null,
   "metadata": {},
   "outputs": [],
   "source": [
    "tokens = [ 'NUMBER', 'ID', 'EQ', 'NE', 'LE', 'GE', 'AND', 'OR',\n",
    "           'INT', 'IF', 'ELSE', 'WHILE', 'RETURN'\n",
    "         ]"
   ]
  },
  {
   "cell_type": "markdown",
   "metadata": {},
   "source": [
    "The token `Number` specifies a natural number."
   ]
  },
  {
   "cell_type": "code",
   "execution_count": null,
   "metadata": {},
   "outputs": [],
   "source": [
    "t_NUMBER = r'0|[1-9][0-9]*'"
   ]
  },
  {
   "cell_type": "markdown",
   "metadata": {},
   "source": [
    "Below, we define the tokens for operator symbols consisting of more than one character."
   ]
  },
  {
   "cell_type": "code",
   "execution_count": null,
   "metadata": {},
   "outputs": [],
   "source": [
    "t_EQ  = r'=='\n",
    "t_NE  = r'!='\n",
    "t_LE  = r'<='\n",
    "t_GE  = r'>='\n",
    "t_AND = r'&&'\n",
    "t_OR  = r'\\|\\|'"
   ]
  },
  {
   "cell_type": "markdown",
   "metadata": {},
   "source": [
    "Our version of `C` allows both single line comments and multi line comments.\n",
    "- The regular expression `//[^\\n]*` recognizes single line comments.\n",
    "  A single line comment starts with `//` and extends to the end of the line.\n",
    "- The regular expression `\\/\\*([^*]|\\*+[^*/])*\\*+\\` recognizes multi line comments.\n",
    "  Multi line comments start with the string `/*` and end with the string `*/`.\n",
    "  Between these strings, the string `*/` must not occur.\n",
    "  * `\\/\\*` matches the opening `/*`.\n",
    "  * `[^*]|\\*+[^*/]` matches any character that is different from the character `*` as\n",
    "    well as non-empty sequences of `*`s that are not followed by a `/`.\n",
    "  * `\\*+/` matches any non-empty sequence of `*`s that is followed by a `/`.\n",
    "  The expression needs to be this complicated in order to match multi line comments of the\n",
    "  following form:\n",
    "  ```\n",
    "  /*** abc *** xyz ***/\n",
    "  ```"
   ]
  },
  {
   "cell_type": "code",
   "execution_count": null,
   "metadata": {},
   "outputs": [],
   "source": [
    "def t_COMMENT(t):\n",
    "    r'//[^\\n]*|\\/\\*([^*]|\\*+[^*/])*\\*+\\/'\n",
    "    t.lexer.lineno += t.value.count('\\n')\n",
    "    pass"
   ]
  },
  {
   "cell_type": "markdown",
   "metadata": {},
   "source": [
    "The keywords `'int', 'if', 'else', 'while', 'return'` have to be dealt with separately as they are syntactical identical to identifiers.  The dictionary `Keywords` shown below maps every keyword to its *token type*."
   ]
  },
  {
   "cell_type": "code",
   "execution_count": null,
   "metadata": {},
   "outputs": [],
   "source": [
    "Keywords = { 'int'   : 'INT', \n",
    "             'if'    : 'IF',\n",
    "             'else'  : 'ELSE', \n",
    "             'while' : 'WHILE', \n",
    "             'return': 'RETURN'\n",
    "           }"
   ]
  },
  {
   "cell_type": "markdown",
   "metadata": {},
   "source": [
    "When an identifier is read, we first have to check whether the identifier is one of our keywords.  If so, we assign the corresponding token type that is stored in the dictionary `Keywords`.  Otherwise, the token type is set to `ID`."
   ]
  },
  {
   "cell_type": "code",
   "execution_count": null,
   "metadata": {},
   "outputs": [],
   "source": [
    "def t_ID(t):\n",
    "    r'[a-zA-Z][a-zA-Z0-9_]*'\n",
    "    t.type = Keywords.get(t.value, 'ID')\n",
    "    return t"
   ]
  },
  {
   "cell_type": "markdown",
   "metadata": {},
   "source": [
    "Operators consisting of a single character do not need an associated token type."
   ]
  },
  {
   "cell_type": "code",
   "execution_count": null,
   "metadata": {},
   "outputs": [],
   "source": [
    "literals = ['+', '-', '*', '/', '%', '(', ')', '{', '}', ';', '=', '<', '>', '!', ',']"
   ]
  },
  {
   "cell_type": "markdown",
   "metadata": {},
   "source": [
    "White space, i.e. *space characters*, *tabulators*, and *carriage returns* are ignored. "
   ]
  },
  {
   "cell_type": "code",
   "execution_count": null,
   "metadata": {},
   "outputs": [],
   "source": [
    "t_ignore  = ' \\t\\r'"
   ]
  },
  {
   "cell_type": "markdown",
   "metadata": {},
   "source": [
    "Syntactically, newline characters are ignored. However, we still need to keep track of them in order to know which line we are in.  This information is needed later for error messages."
   ]
  },
  {
   "cell_type": "code",
   "execution_count": null,
   "metadata": {},
   "outputs": [],
   "source": [
    "def t_newline(t):\n",
    "    r'\\n'\n",
    "    t.lexer.lineno += 1\n",
    "    return"
   ]
  },
  {
   "cell_type": "markdown",
   "metadata": {},
   "source": [
    "Given a `token`, the function `find_colum` returns the column where `token` starts.\n",
    "This is possible, because `token.lexer.lexdata` stores the string that is given to the scanner and `token.lexpos` is the number of characters that precede `token`."
   ]
  },
  {
   "cell_type": "code",
   "execution_count": null,
   "metadata": {},
   "outputs": [],
   "source": [
    "def find_column(token):\n",
    "    program    = token.lexer.lexdata\n",
    "    line_start = program.rfind('\\n', 0, token.lexpos) + 1\n",
    "    return (token.lexpos - line_start) + 1"
   ]
  },
  {
   "cell_type": "markdown",
   "metadata": {},
   "source": [
    "The function `t_error` is called for any token `t` that can not be scanned by the lexer.  In this case, `t.value[0]` is the first character that can not be recognized by the scanner."
   ]
  },
  {
   "cell_type": "code",
   "execution_count": null,
   "metadata": {},
   "outputs": [],
   "source": [
    "def t_error(t):\n",
    "    column = find_column(t)\n",
    "    print(f\"Illegal character '{t.value[0]}' in line {t.lineno}, column {column}.\")\n",
    "    t.lexer.skip(1)"
   ]
  },
  {
   "cell_type": "markdown",
   "metadata": {},
   "source": [
    "The next assignment is necessary to make the lexer think that the code given above is part of some file."
   ]
  },
  {
   "cell_type": "code",
   "execution_count": null,
   "metadata": {},
   "outputs": [],
   "source": [
    "__file__ = 'main'"
   ]
  },
  {
   "cell_type": "code",
   "execution_count": null,
   "metadata": {},
   "outputs": [],
   "source": [
    "lexer = lex.lex()"
   ]
  },
  {
   "cell_type": "code",
   "execution_count": null,
   "metadata": {},
   "outputs": [],
   "source": [
    "def test_scanner(file_name):\n",
    "    with open(file_name, 'r') as handle:\n",
    "        program = handle.read() \n",
    "    print(program)\n",
    "    lexer.input(program)\n",
    "    lexer.lineno = 1\n",
    "    return [t for t in lexer]"
   ]
  },
  {
   "cell_type": "code",
   "execution_count": null,
   "metadata": {
    "scrolled": true
   },
   "outputs": [],
   "source": [
    "for t in test_scanner('Examples/MySum.c'):\n",
    "    print(t)"
   ]
  },
  {
   "cell_type": "markdown",
   "metadata": {},
   "source": [
    "## Specification of the Parser"
   ]
  },
  {
   "cell_type": "markdown",
   "metadata": {},
   "source": [
    "We will use the following grammar to specify the language that our compiler can translate:\n",
    "```\n",
    "program\n",
    "    : function\n",
    "    | function program\n",
    "\n",
    "function \n",
    "    : INT ID '(' param_list ')' '{' decl_list stmnt_list '}'\n",
    "\n",
    "param_list \n",
    "    : /* epsilon */\n",
    "    | INT ID \n",
    "    | INT ID ',' ne_param_list\n",
    "\n",
    "ne_param_list\n",
    "    : INT ID\n",
    "    | INT ID ',' ne_param_list\n",
    "    \n",
    "decl_list\n",
    "    : /* epsilon */\n",
    "    | INT ID ';' decl_list\n",
    "\n",
    "stmnt_list\n",
    "    : /* epsilon */\n",
    "    | stmnt stmnt_list\n",
    "    \n",
    "stmnt \n",
    "    : IF '(' bool_expr ')' stmnt                 \n",
    "    | IF '(' bool_expr ')' stmnt ELSE stmnt\n",
    "    | WHILE '(' bool_expr ')' stmnt\n",
    "    | '{' stmnt_list '}' \n",
    "    | ID '=' expr ';'  \n",
    "    | RETURN expr ';'   \n",
    "    | expr ';'       \n",
    "\n",
    "bool_expr \n",
    "    : bool_expr '||' bool_expr\n",
    "    | bool_expr '&&' bool_expr \n",
    "    | '!' bool_expr   \n",
    "    | '(' bool_expr ')'\n",
    "    | expr '==' expr     \n",
    "    | expr '!=' expr     \n",
    "    | expr '<=' expr     \n",
    "    | expr '>=' expr     \n",
    "    | expr '<'  expr      \n",
    "    | expr '>'  expr     \n",
    " \n",
    "expr: expr '+'  expr                 \n",
    "    | expr '-' expr               \n",
    "    | expr '*' expr               \n",
    "    | expr '/' expr \n",
    "    | expr '%' expr \n",
    "    | '(' expr ')' \n",
    "    | NUMBER\n",
    "    | ID                      \n",
    "    | ID '(' expr_list ')'       \n",
    "\n",
    "expr_list\n",
    "    : /* epsilon */\n",
    "    | expr\n",
    "    | expr ',' ne_expr_list\n",
    "\n",
    "ne_expr_list\n",
    "    : expr\n",
    "    | expr ',' ne_expr_list\n",
    "\n",
    "```\n",
    "We will use precedence declarations to resolve the ambiguity that is inherent in this grammar."
   ]
  },
  {
   "cell_type": "code",
   "execution_count": null,
   "metadata": {},
   "outputs": [],
   "source": [
    "import ply.yacc as yacc"
   ]
  },
  {
   "cell_type": "markdown",
   "metadata": {},
   "source": [
    "The *start variable* of our grammar is `program`."
   ]
  },
  {
   "cell_type": "code",
   "execution_count": null,
   "metadata": {},
   "outputs": [],
   "source": [
    "start = 'program'"
   ]
  },
  {
   "cell_type": "code",
   "execution_count": null,
   "metadata": {},
   "outputs": [],
   "source": [
    "precedence = (\n",
    "    ('nonassoc', 'IF'),\n",
    "    ('nonassoc', 'ELSE'),\n",
    "    ('left', 'OR'),\n",
    "    ('left', 'AND'),\n",
    "    ('right', '!'),\n",
    "    ('nonassoc', 'EQ', 'NE', 'LE', 'GE', '<', '>'),\n",
    "    ('left', '+', '-'),\n",
    "    ('left', '*', '/', '%')\n",
    ")"
   ]
  },
  {
   "cell_type": "code",
   "execution_count": null,
   "metadata": {},
   "outputs": [],
   "source": [
    "def p_program_one(p):\n",
    "    \"program : function\"\n",
    "    p[0] = ('program', p[1])\n",
    "    \n",
    "def p_program_more(p):\n",
    "    \"program : function program\"\n",
    "    p[0] = ('program', p[1]) + p[2][1:]"
   ]
  },
  {
   "cell_type": "code",
   "execution_count": null,
   "metadata": {},
   "outputs": [],
   "source": [
    "def p_function(p):\n",
    "    \"function : INT ID '(' param_list ')' '{' decl_list stmnt_list '}'\"\n",
    "    p[0] = ('fct', p[2], p[4], p[7], p[8])"
   ]
  },
  {
   "cell_type": "code",
   "execution_count": null,
   "metadata": {},
   "outputs": [],
   "source": [
    "def p_param_list_empty(p):\n",
    "    \"param_list :\"\n",
    "    p[0] = ('.', )\n",
    "    \n",
    "def p_param_list_one(p):\n",
    "    \"param_list : INT ID\"\n",
    "    p[0] = ('.', p[2])\n",
    "    \n",
    "def p_param_list_more(p):\n",
    "    \"param_list : INT ID ',' ne_param_list\"\n",
    "    p[0] = ('.', p[2]) + p[4][1:]\n",
    "\n",
    "def p_ne_param_list_one(p):\n",
    "    \"ne_param_list : INT ID\"\n",
    "    p[0] = ('.', p[2])\n",
    "    \n",
    "def p_ne_param_list_more(p):\n",
    "    \"ne_param_list : INT ID ',' ne_param_list\"\n",
    "    p[0] = ('.', p[2]) + p[4][1:]"
   ]
  },
  {
   "cell_type": "code",
   "execution_count": null,
   "metadata": {},
   "outputs": [],
   "source": [
    "def p_decl_list_one(p):\n",
    "    \"decl_list :\"\n",
    "    p[0] = ('.',)\n",
    "\n",
    "def p_decl_list_more(p):\n",
    "    \"decl_list : INT ID ';' decl_list\"\n",
    "    p[0] = ('.', p[2]) + p[4][1:]"
   ]
  },
  {
   "cell_type": "code",
   "execution_count": null,
   "metadata": {},
   "outputs": [],
   "source": [
    "def p_stmnt_list_one(p):\n",
    "    \"stmnt_list :\"\n",
    "    p[0] = ('.',)\n",
    "\n",
    "def p_stmnt_list_more(p):\n",
    "    \"stmnt_list : stmnt stmnt_list\"\n",
    "    p[0] = ('.', p[1]) + p[2][1:]"
   ]
  },
  {
   "cell_type": "markdown",
   "metadata": {},
   "source": [
    "In the grammar rule\n",
    "$$ \\texttt{stmnt} \\rightarrow \\texttt{'if'}\\;\\texttt{'('}\\; \\texttt{bool_expr}\\; \\texttt{')'}\\; \\texttt{stmnt}$$\n",
    "the rightmost token is `')'`.  However, this token does not have a precedence.  Therefore, the grammar rule\n",
    "does not have a precedence either.  Hence, we manually assign the precedence of the token `IF` to this rule via \n",
    "the keyword `%prec`.  This way, the shift/reduce conflict resulting from the *dangling-else ambiguity* is resolved."
   ]
  },
  {
   "cell_type": "code",
   "execution_count": null,
   "metadata": {},
   "outputs": [],
   "source": [
    "def p_stmnt_if(p):\n",
    "    \"stmnt : IF '(' bool_expr ')' stmnt %prec IF\"\n",
    "    p[0] = ('if', p[3], p[5])   \n",
    "    \n",
    "def p_stmnt_if_else(p):\n",
    "    \"stmnt : IF '(' bool_expr ')' stmnt ELSE stmnt\"\n",
    "    p[0] = ('if-else', p[3], p[5], p[7])\n",
    "    \n",
    "def p_stmnt_while(p):\n",
    "    \"stmnt : WHILE '(' bool_expr ')' stmnt\"\n",
    "    p[0] = ('while', p[3], p[5])\n",
    "    \n",
    "def p_stmnt_block(p):\n",
    "    \"stmnt : '{' stmnt_list '}'\"\n",
    "    p[0] = p[2]\n",
    "    \n",
    "def p_stmnt_assign(p):\n",
    "    \"stmnt : ID '=' expr ';'\"\n",
    "    p[0] = ('=', p[1], p[3])\n",
    "\n",
    "def p_stmnt_return(p):\n",
    "    \"stmnt : RETURN expr ';'\"\n",
    "    p[0] = ('return', p[2])\n",
    "    \n",
    "def p_stmnt_expr(p):\n",
    "    \"stmnt : expr ';'\"\n",
    "    p[0] = p[1]"
   ]
  },
  {
   "cell_type": "code",
   "execution_count": null,
   "metadata": {},
   "outputs": [],
   "source": [
    "def p_bool_expr_or(p):\n",
    "    \"bool_expr : bool_expr OR bool_expr\"\n",
    "    p[0] = ('||', p[1], p[3])\n",
    "    \n",
    "def p_bool_expr_and(p):\n",
    "    \"bool_expr : bool_expr AND bool_expr\"\n",
    "    p[0] = ('&&', p[1], p[3])\n",
    "\n",
    "def p_bool_expr_neg(p):\n",
    "    \"bool_expr : '!' bool_expr\"\n",
    "    p[0] = ('!', p[2])\n",
    "    \n",
    "def p_bool_expr_paren(p):\n",
    "    \"bool_expr : '(' bool_expr ')'\"\n",
    "    p[0] = p[2]\n",
    "    \n",
    "def p_bool_expr_eq(p):\n",
    "    \"bool_expr : expr EQ expr\"\n",
    "    p[0] = ('==', p[1], p[3])\n",
    "\n",
    "def p_bool_expr_ne(p):\n",
    "    \"bool_expr : expr NE expr\"\n",
    "    p[0] = ('!=', p[1], p[3])\n",
    "\n",
    "def p_bool_expr_le(p):\n",
    "    \"bool_expr : expr LE expr\"\n",
    "    p[0] = ('<=', p[1], p[3])\n",
    "    \n",
    "def p_bool_expr_ge(p):\n",
    "    \"bool_expr : expr GE expr\"\n",
    "    p[0] = ('>=', p[1], p[3])\n",
    "    \n",
    "def p_bool_expr_lt(p):\n",
    "    \"bool_expr : expr '<' expr\"\n",
    "    p[0] = ('<', p[1], p[3])\n",
    "\n",
    "def p_bool_expr_gt(p):\n",
    "    \"bool_expr : expr '>' expr\"\n",
    "    p[0] = ('>', p[1], p[3])"
   ]
  },
  {
   "cell_type": "code",
   "execution_count": null,
   "metadata": {},
   "outputs": [],
   "source": [
    "def p_expr_plus(p):\n",
    "    \"expr : expr '+' expr\"\n",
    "    p[0] = ('+', p[1], p[3])\n",
    "    \n",
    "def p_expr_minus(p):\n",
    "    \"expr : expr '-' expr\"\n",
    "    p[0] = ('-', p[1], p[3])\n",
    "    \n",
    "def p_expr_times(p):\n",
    "    \"expr : expr '*' expr\"\n",
    "    p[0] = ('*', p[1], p[3])\n",
    "    \n",
    "def p_expr_divide(p):\n",
    "    \"expr : expr '/' expr\"\n",
    "    p[0] = ('/', p[1], p[3])\n",
    "    \n",
    "def p_expr_modulo(p):\n",
    "    \"expr : expr '%' expr\"\n",
    "    p[0] = ('%', p[1], p[3])\n",
    "    \n",
    "def p_expr_group(p):\n",
    "    \"expr : '(' expr ')'\"\n",
    "    p[0] = p[2]\n",
    "\n",
    "def p_expr_number(p):\n",
    "    \"expr : NUMBER\"\n",
    "    p[0] = ('Number', p[1])\n",
    "\n",
    "def p_expr_id(p):\n",
    "    \"expr : ID\"\n",
    "    p[0] = p[1]\n",
    "    \n",
    "def p_expr_fct_call(p):\n",
    "    \"expr : ID '(' expr_list ')'\"\n",
    "    p[0] = ('call', p[1]) + p[3][1:]"
   ]
  },
  {
   "cell_type": "code",
   "execution_count": null,
   "metadata": {},
   "outputs": [],
   "source": [
    "def p_expr_list_empty(p):\n",
    "    \"expr_list :\"\n",
    "    p[0] = ('.',)\n",
    "    \n",
    "def p_expr_list_one(p):\n",
    "    \"expr_list : expr\"\n",
    "    p[0] = ('.', p[1])     \n",
    "\n",
    "def p_expr_list_more(p):\n",
    "    \"expr_list : expr ',' ne_expr_list\"\n",
    "    p[0] = ('.', p[1]) + p[3][1:]     \n",
    "\n",
    "def p_ne_expr_list_one(p):\n",
    "    \"ne_expr_list : expr\"\n",
    "    p[0] = ('.', p[1]) \n",
    "    \n",
    "def p_ne_expr_list_more(p):\n",
    "    \"ne_expr_list : expr ',' ne_expr_list\"\n",
    "    p[0] = ('.', p[1]) + p[3][1:] "
   ]
  },
  {
   "cell_type": "code",
   "execution_count": null,
   "metadata": {},
   "outputs": [],
   "source": [
    "def p_error(p):\n",
    "    column = find_column(p)\n",
    "    if p:\n",
    "        print(f'Syntax error at token \"{p.value}\" in line {p.lineno}, column {column}.')\n",
    "    else:\n",
    "        print('Syntax error at end of input.')"
   ]
  },
  {
   "cell_type": "markdown",
   "metadata": {},
   "source": [
    "Setting the optional argument `write_tables` to `False` **is required** to prevent an obscure bug where the parser generator tries to read an empty parse table.  "
   ]
  },
  {
   "cell_type": "code",
   "execution_count": null,
   "metadata": {},
   "outputs": [],
   "source": [
    "parser = yacc.yacc(write_tables=False, debug=True)"
   ]
  },
  {
   "cell_type": "markdown",
   "metadata": {},
   "source": [
    "As we have used *precedence declarations* to resolve all shift/reduce conflicts, the action table contains no conflict.  "
   ]
  },
  {
   "cell_type": "code",
   "execution_count": null,
   "metadata": {
    "scrolled": true
   },
   "outputs": [],
   "source": [
    "!cat parser.out"
   ]
  },
  {
   "cell_type": "markdown",
   "metadata": {},
   "source": [
    "The notebook `AST-2-Dot.ipynb` provides the function `tuple2dot`.  This function can be used to visualize the abstract syntax tree that is generated by the function `yacc.parse`."
   ]
  },
  {
   "cell_type": "code",
   "execution_count": null,
   "metadata": {},
   "outputs": [],
   "source": [
    "%run ../ANTLR4-Python/AST-2-Dot.ipynb"
   ]
  },
  {
   "cell_type": "markdown",
   "metadata": {},
   "source": [
    "The function `parse` takes a `file_name` as ist sole argument.  The file is read and parsed. \n",
    "The resulting parse tree is visualized using `graphviz`.  It is important to reset the\n",
    "attribute `lineno` of the scanner, for otherwise error messages will not have the correct line numbers."
   ]
  },
  {
   "cell_type": "code",
   "execution_count": null,
   "metadata": {},
   "outputs": [],
   "source": [
    "def parse(file_name):\n",
    "    lexer.lineno = 1\n",
    "    with open(file_name, 'r') as handle:\n",
    "        program = handle.read() \n",
    "    ast = yacc.parse(program)\n",
    "    print(ast)\n",
    "    return tuple2dot(ast)"
   ]
  },
  {
   "cell_type": "code",
   "execution_count": null,
   "metadata": {},
   "outputs": [],
   "source": [
    "!cat -n Examples/MySum.c"
   ]
  },
  {
   "cell_type": "code",
   "execution_count": null,
   "metadata": {},
   "outputs": [],
   "source": [
    "parse('Examples/MySum.c')"
   ]
  },
  {
   "cell_type": "markdown",
   "metadata": {},
   "source": [
    "The function `indent` is used to indent the generated assembler commands by preceding them with 8 space characters. "
   ]
  },
  {
   "cell_type": "code",
   "execution_count": null,
   "metadata": {},
   "outputs": [],
   "source": [
    "def indent(s):\n",
    "    return ' ' * 8 + s"
   ]
  },
  {
   "cell_type": "markdown",
   "metadata": {},
   "source": [
    "The method `compile_expr(expr, st, class_name)` takes three arguments:\n",
    "- `expr` is an *abstract syntax tree* that represents an expression.  \n",
    "  This abstract syntax tree is in turn represented as a nested tuple.  \n",
    "- `st` is short for *symbol table*.  This is a dictionary that maps variable\n",
    "  names to natural numbers.  Given a variable `x`, the number `st[x]` specifies\n",
    "  the location where the variable `x` is stored on the stack with respect to the \n",
    "  local stack frame.\n",
    "- `class_name` is the name of the class that is to be generated.\n",
    "\n",
    "The function returns a pair of the form `(cmds, size)`.\n",
    "- `cmds` is a list of assembler commands,\n",
    "- `size` is the maximum size of the stack that is needed. "
   ]
  },
  {
   "cell_type": "code",
   "execution_count": null,
   "metadata": {},
   "outputs": [],
   "source": [
    "def compile_expr(expr, st, class_name):\n",
    "    if isinstance(expr, str):\n",
    "        Cmd = indent(f'iload {st[expr]}')\n",
    "        return [Cmd], 1\n",
    "    elif expr[0] == 'Number':\n",
    "        _, n = expr\n",
    "        Cmd  = indent(f'ldc {n}')\n",
    "        return [Cmd], 1\n",
    "    elif expr[0] in  ['+', '-', '*', '/', '%']:\n",
    "        op, lhs, rhs = expr\n",
    "        L1, sz1 = compile_expr(lhs, st, class_name)\n",
    "        L2, sz2 = compile_expr(rhs, st, class_name)\n",
    "        OpToCmd = { '+': 'iadd', '-': 'isub', '*': 'imul', '/': 'idiv', '%': 'irem' }\n",
    "        Cmd     = indent(OpToCmd[op])\n",
    "        return L1 + L2 + [Cmd], max(sz1, 1 + sz2)\n",
    "    elif expr[0] == 'call' and expr[1] == 'println':\n",
    "        _, _, *args = expr\n",
    "        CmdLst    = [indent('getstatic java/lang/System/out Ljava/io/PrintStream;')]\n",
    "        stck_size = 0\n",
    "        cnt       = 0\n",
    "        for arg in args:\n",
    "            L, sz_arg = compile_expr(arg, st, class_name)\n",
    "            stck_size = max(stck_size, cnt + 1 + sz_arg)\n",
    "            CmdLst   += L\n",
    "            cnt      += 1\n",
    "        CmdLst += [indent(f'invokevirtual java/io/PrintStream/println({\"I\"*cnt})V')]\n",
    "        return CmdLst, stck_size\n",
    "    elif expr[0] == 'call' and expr[1] != 'println':\n",
    "        _, f, *args = expr\n",
    "        CmdLst    = []\n",
    "        stck_size = 0\n",
    "        cnt       = 0\n",
    "        for arg in args:\n",
    "            L, sz_arg = compile_expr(arg, st, class_name)\n",
    "            stck_size = max(stck_size, cnt + sz_arg)\n",
    "            CmdLst   += L\n",
    "            cnt      += 1\n",
    "        CmdLst += [indent(f'invokestatic {class_name}/{f}({\"I\"*cnt})I')]\n",
    "        return CmdLst, max(stck_size, 1)\n",
    "    else:\n",
    "        assert False, f'Error in compile_expr({expr}, {st}, {class_name})'"
   ]
  },
  {
   "cell_type": "markdown",
   "metadata": {},
   "source": [
    "The following is a test of the function `compile_expr`."
   ]
  },
  {
   "cell_type": "code",
   "execution_count": null,
   "metadata": {},
   "outputs": [],
   "source": [
    "expr = ('call', 'println', 'x', ('call', 'sum', ('+', 'x', ('*', 'y', ('Number','2')))))\n",
    "st   = { 'x': 0, 'y': 1}\n",
    "compile_expr(expr, st, 'Sum')"
   ]
  },
  {
   "cell_type": "markdown",
   "metadata": {},
   "source": [
    "The variable `label_counter` is a global counter that is used to create unique label names.\n",
    "Every call of `new_label` creates a new, unique label."
   ]
  },
  {
   "cell_type": "code",
   "execution_count": null,
   "metadata": {},
   "outputs": [],
   "source": [
    "label_counter = 0\n",
    "\n",
    "def new_label():\n",
    "    global label_counter\n",
    "    label_counter += 1\n",
    "    return 'l' + str(label_counter)"
   ]
  },
  {
   "cell_type": "markdown",
   "metadata": {},
   "source": [
    "The method `compile_bool(expr, st, class_name)` takes three arguments:\n",
    "- `expr` is an *abstract syntax tree* that represents a Boolean expression.  \n",
    "  This abstract syntax tree is in turn represented as a nested tuple.  \n",
    "- `st` is short for *symbol table*.  This is a dictionary that maps variable\n",
    "  names to natural numbers.  Given a variable `x`, the number `st[x]` specifies\n",
    "  the location where the variable `x` is stored on the stack with respect to the \n",
    "  local stack frame.\n",
    "- `class_name` is the name of the class that is to be generated.\n",
    "\n",
    "The function returns a pair of the form `(cmds, size)`.\n",
    "- `cmds` is a list of assembler commands,\n",
    "- `size` is the maximum size of the stack that is needed. "
   ]
  },
  {
   "cell_type": "code",
   "execution_count": null,
   "metadata": {},
   "outputs": [],
   "source": [
    "def compile_bool(expr, st, class_name):\n",
    "    if expr[0] in ['==', '!=', '<=', '>=', '<', '>']:\n",
    "        OpToCmd = { '==': 'if_icmpeq', \n",
    "                    '!=': 'if_icmpne', \n",
    "                    '<=': 'if_icmple',\n",
    "                    '>=': 'if_icmpge',\n",
    "                    '<' : 'if_icmplt',\n",
    "                    '>' : 'if_icmpgt'\n",
    "                  }\n",
    "        op, lhs, rhs = expr\n",
    "        L1, sz1    = compile_expr(lhs, st, class_name)\n",
    "        L2, sz2    = compile_expr(rhs, st, class_name)\n",
    "        true_label = new_label()\n",
    "        next_label = new_label()\n",
    "        CmdLst     = L1 + L2\n",
    "        cmd        = OpToCmd[op]\n",
    "        CmdLst    += [indent(cmd + ' ' + true_label)]\n",
    "        CmdLst    += [indent('bipush 0')]\n",
    "        CmdLst    += [indent('goto ' + next_label)]\n",
    "        CmdLst    += [' ' * 4 + true_label + ':']\n",
    "        CmdLst    += [indent('bipush 1')]\n",
    "        CmdLst    += [' ' * 4 + next_label + ':']\n",
    "        return CmdLst, max(sz1, 1 + sz2)\n",
    "    elif expr[0] in ['&&', '||']:\n",
    "        op, lhs, rhs = expr\n",
    "        OpToCmd      = { '&&': iand, '||': 'ior' }\n",
    "        L1, sz1      = compile_bool(lhs, st, class_name)\n",
    "        L2, sz2      = compile_bool(rhs, st, class_name)\n",
    "        cmd          = OpToCmd[op]\n",
    "        CmdLst       = L1 + L2 + [indent(cmd)]\n",
    "        return CmdLst, max(sz1, 1 + sz2)\n",
    "    elif expr[0] == '!':\n",
    "        _, arg = expr\n",
    "        L, sz  = compile_expr(arg, st, class_name)\n",
    "        CmdLst = [indent('bipush 1')] + L + [indent('isub')]\n",
    "        return CmdLst, max(sz1, sz + 1)\n",
    "    else:\n",
    "        assert False, f'Error in compile_bool({expr}, {st}, {class_name})'"
   ]
  },
  {
   "cell_type": "markdown",
   "metadata": {},
   "source": [
    "Below is a test for the function `compile_bool`."
   ]
  },
  {
   "cell_type": "code",
   "execution_count": null,
   "metadata": {},
   "outputs": [],
   "source": [
    "expr = ('==', 'x', ('Number', '0'))\n",
    "st   = { 'x': 0, 'y': 1}\n",
    "compile_bool(expr, st, 'Sum')"
   ]
  },
  {
   "cell_type": "markdown",
   "metadata": {},
   "source": [
    "The method `compile_stmnt(stmnt, st, class_name)` takes three arguments:\n",
    "- `stmnt` is an *abstract syntax tree* that represents a statement.  \n",
    "  This abstract syntax tree is in turn represented as a nested tuple.  \n",
    "- `st` is short for *symbol table*.  This is a dictionary that maps variable\n",
    "  names to natural numbers.  Given a variable `x`, the number `st[x]` specifies\n",
    "  the location where the variable `x` is stored on the stack with respect to the \n",
    "  local stack frame.\n",
    "- `class_name` is the name of the class that is to be generated.\n",
    "\n",
    "The function returns a pair of the form `(cmds, size)`.\n",
    "- `cmds` is a list of assembler commands,\n",
    "- `size` is the maximum size of the stack that is needed. "
   ]
  },
  {
   "cell_type": "code",
   "execution_count": null,
   "metadata": {},
   "outputs": [],
   "source": [
    "def compile_stmnt(stmnt, st, class_name):\n",
    "    if stmnt[0] == '=':\n",
    "        _, var, expr = stmnt\n",
    "        CmdLst, sz = compile_expr(expr, st, class_name)\n",
    "        CmdLst    += [indent(f'istore {st[var]}')]\n",
    "        return CmdLst, sz\n",
    "    elif stmnt[0] == 'if':\n",
    "        _, expr, sub_stmnt = stmnt\n",
    "        L1, sz1    = compile_bool(expr, st, class_name)\n",
    "        L2, sz2    = compile_stmnt(sub_stmnt, st, class_name)\n",
    "        else_label = new_label()\n",
    "        lbl_stmnt  = ' ' * 4 + else_label + ':'\n",
    "        CmdLst = L1 + [indent(f'ifeq {else_label}')] + L2 + [lbl_stmnt]\n",
    "        return CmdLst, max(sz1, sz2)\n",
    "    elif stmnt[0] == 'if-else':\n",
    "        _, expr, then_stmnt, else_stmnt = stmnt\n",
    "        L1, sz1    = compile_bool(expr, st, class_name)\n",
    "        L2, sz2    = compile_stmnt(then_stmnt, st, class_name)\n",
    "        L3, sz3    = compile_stmnt(else_stmnt, st, class_name)        \n",
    "        else_label = new_label()\n",
    "        next_label = new_label()\n",
    "        if_stmnt   = indent(f'ifeq {else_label}')\n",
    "        else_stmnt = ' ' * 4 + else_label + ':'\n",
    "        next_stmnt = ' ' * 4 + next_label + ':'\n",
    "        goto_stmnt = indent(f'goto {next_label}')\n",
    "        CmdLst = L1 + [if_stmnt] + L2 + [goto_stmnt, else_stmnt] + L3 + [next_stmnt]\n",
    "        return CmdLst, max(sz1, sz2, sz3)\n",
    "    elif stmnt[0] == 'while':\n",
    "        _, expr, body_stmnt = stmnt\n",
    "        L1, sz1    = compile_bool(expr, st, class_name)\n",
    "        L2, sz2    = compile_stmnt(body_stmnt, st, class_name)\n",
    "        loop_label = new_label()\n",
    "        next_label = new_label()\n",
    "        if_stmnt   = indent(f'ifeq {next_label}')\n",
    "        loop_stmnt = ' ' * 4 + loop_label + ':'        \n",
    "        next_stmnt = ' ' * 4 + next_label + ':'\n",
    "        goto_stmnt = indent(f'goto {loop_label}')\n",
    "        CmdLst = [loop_stmnt] + L1 + [if_stmnt] + L2 + [goto_stmnt, next_stmnt]\n",
    "        return CmdLst, max(sz1, sz2)\n",
    "    elif stmnt[0] == 'return':\n",
    "        _, expr = stmnt\n",
    "        CmdLst, sz = compile_expr(expr, st, class_name)\n",
    "        CmdLst    += [indent('ireturn')]\n",
    "        return CmdLst, sz\n",
    "    elif stmnt[0] == '.':\n",
    "        _, *stmnt_lst = stmnt \n",
    "        CmdLst = []\n",
    "        size   = 0\n",
    "        for s in stmnt_lst:\n",
    "            L, sz = compile_stmnt(s, st, class_name)\n",
    "            CmdLst += L\n",
    "            size   = max(size, sz)\n",
    "        return CmdLst, size\n",
    "    else: # it must be an expression statement\n",
    "        return compile_expr(stmnt, st, class_name)"
   ]
  },
  {
   "cell_type": "code",
   "execution_count": null,
   "metadata": {},
   "outputs": [],
   "source": [
    "stmnt = ('if', ('==', ('/', 'x', 'y'), ('Number', '0')), ('=', 'x', 'y'))\n",
    "compile_stmnt(stmnt, st, 'Sum')"
   ]
  },
  {
   "cell_type": "code",
   "execution_count": null,
   "metadata": {},
   "outputs": [],
   "source": [
    "stmnt = ('if-else', ('<', 'x', 'y'), ('=', 'x', 'y'), ('=', 'y', 'x'))\n",
    "compile_stmnt(stmnt, st, 'Sum')"
   ]
  },
  {
   "cell_type": "code",
   "execution_count": null,
   "metadata": {},
   "outputs": [],
   "source": [
    "stmnt = ('while', ('<', 'x', 'y'), ('=', 'x', ('+', 'x', ('Number', '1'))))\n",
    "compile_stmnt(stmnt, st, 'Sum')"
   ]
  },
  {
   "cell_type": "code",
   "execution_count": null,
   "metadata": {},
   "outputs": [],
   "source": [
    "stmnt = ('.', ('=', 'x', 'y'), ('.', ('=', 'x', ('Number', '1')), ('=', 'y', 'x')))\n",
    "compile_stmnt(stmnt, st, 'Sum')"
   ]
  },
  {
   "cell_type": "code",
   "execution_count": null,
   "metadata": {},
   "outputs": [],
   "source": [
    "def compile_fct(fct_def, class_name):\n",
    "    global label_counter\n",
    "    label_counter = 0\n",
    "    _, name, parameters, variables, stmnts = fct_def\n",
    "    _, *parameters = parameters\n",
    "    _, *variables  = variables\n",
    "    _, *stmnts     = stmnts\n",
    "    m   = len(parameters)\n",
    "    n   = len(variables)\n",
    "    st  = {}\n",
    "    cnt = 0\n",
    "    for var in parameters:\n",
    "        st[var] = cnt\n",
    "        cnt    += 1\n",
    "    for var in variables:\n",
    "        st[var] = cnt\n",
    "        cnt    += 1\n",
    "    CmdLst = []\n",
    "    size   = 0\n",
    "    for stmnt in stmnts:\n",
    "        L, sz = compile_stmnt(stmnt, st, class_name)\n",
    "        CmdLst += L\n",
    "        size = max(size, sz)\n",
    "    limit_locals = f'.limit locals {m+n}'\n",
    "    limit_stack  = f'.limit stack  {size}'\n",
    "    return_stmnt = indent('return')\n",
    "    if name != 'main':\n",
    "        method = f'.method public static {name}({\"I\"*m})I'\n",
    "        CmdLst = [method, limit_locals, limit_stack] + CmdLst + ['.end method']\n",
    "        return CmdLst, sz\n",
    "    else:\n",
    "        method = '.method public static main([Ljava/lang/String;)V'\n",
    "        CmdLst = [method, limit_locals, limit_stack] + CmdLst + [return_stmnt, '.end method']\n",
    "        return CmdLst, sz"
   ]
  },
  {
   "cell_type": "code",
   "execution_count": null,
   "metadata": {},
   "outputs": [],
   "source": [
    "f = ('fct', 'sum', ('.', 'x'), ('.', 'y', 'z'), ('.', ('return', 'x')))\n",
    "compile_fct(f, 'Sum')"
   ]
  },
  {
   "cell_type": "code",
   "execution_count": null,
   "metadata": {},
   "outputs": [],
   "source": [
    "import os"
   ]
  },
  {
   "cell_type": "code",
   "execution_count": null,
   "metadata": {},
   "outputs": [],
   "source": [
    "file = \"~/Dropbox/Kurse/Formal-Languages/Ply/Examples/Test.c\"\n",
    "print(os.path.dirname(file))\n",
    "print(os.path.basename(file))"
   ]
  },
  {
   "cell_type": "code",
   "execution_count": null,
   "metadata": {},
   "outputs": [],
   "source": [
    "def compile_program(file_name):\n",
    "    directory = os.path.dirname(file_name)\n",
    "    base      = os.path.basename(file_name)\n",
    "    base      = base[:-2]\n",
    "    outfile   = directory + ('' if directory == '' else '/') + base + '.jas'\n",
    "    with open(file_name, 'r') as handle:\n",
    "        program = handle.read()\n",
    "    lexer.lineno = 0\n",
    "    ast = yacc.parse(program)\n",
    "    _, *fct_lst = ast\n",
    "    CmdLst = []\n",
    "    for fct in fct_lst:\n",
    "        L, _ = compile_fct(fct, base)\n",
    "        CmdLst += L + ['\\n']\n",
    "    with open(outfile, 'w') as handle:\n",
    "        handle.write('.class public ' + base + '\\n');\n",
    "        handle.write('.super java/lang/Object\\n\\n');\n",
    "        handle.write('.method public <init>()V\\n');\n",
    "        handle.write('    aload 0\\n');\n",
    "        handle.write('    invokenonvirtual java/lang/Object/<init>()V\\n');\n",
    "        handle.write('    return\\n');\n",
    "        handle.write('.end method\\n\\n');\n",
    "        for cmd in CmdLst:\n",
    "            handle.write(cmd + '\\n')"
   ]
  },
  {
   "cell_type": "code",
   "execution_count": null,
   "metadata": {},
   "outputs": [],
   "source": [
    "%cd Examples"
   ]
  },
  {
   "cell_type": "code",
   "execution_count": null,
   "metadata": {},
   "outputs": [],
   "source": [
    "%cat Primes.c"
   ]
  },
  {
   "cell_type": "code",
   "execution_count": null,
   "metadata": {},
   "outputs": [],
   "source": [
    "compile_program('Primes.c')"
   ]
  },
  {
   "cell_type": "code",
   "execution_count": null,
   "metadata": {},
   "outputs": [],
   "source": [
    "!ls"
   ]
  },
  {
   "cell_type": "code",
   "execution_count": null,
   "metadata": {},
   "outputs": [],
   "source": [
    "%cat 'Primes.jas'"
   ]
  },
  {
   "cell_type": "markdown",
   "metadata": {},
   "source": [
    "Next, we generate Java byte code using\n",
    "[jasmin](http://jasmin.sourceforge.net)."
   ]
  },
  {
   "cell_type": "code",
   "execution_count": null,
   "metadata": {},
   "outputs": [],
   "source": [
    "!jasmin Primes.jas"
   ]
  },
  {
   "cell_type": "markdown",
   "metadata": {},
   "source": [
    "Finally, we run the generated byte code."
   ]
  },
  {
   "cell_type": "code",
   "execution_count": null,
   "metadata": {},
   "outputs": [],
   "source": [
    "!java Primes"
   ]
  },
  {
   "cell_type": "code",
   "execution_count": null,
   "metadata": {},
   "outputs": [],
   "source": [
    "!rm *.jas *.class"
   ]
  },
  {
   "cell_type": "code",
   "execution_count": null,
   "metadata": {},
   "outputs": [],
   "source": [
    "!ls -al"
   ]
  },
  {
   "cell_type": "code",
   "execution_count": null,
   "metadata": {},
   "outputs": [],
   "source": []
  }
 ],
 "metadata": {
  "kernelspec": {
   "display_name": "Python 3",
   "language": "python",
   "name": "python3"
  },
  "language_info": {
   "codemirror_mode": {
    "name": "ipython",
    "version": 3
   },
   "file_extension": ".py",
   "mimetype": "text/x-python",
   "name": "python",
   "nbconvert_exporter": "python",
   "pygments_lexer": "ipython3",
   "version": "3.9.0"
  },
  "varInspector": {
   "cols": {
    "lenName": 16,
    "lenType": 16,
    "lenVar": 40
   },
   "kernels_config": {
    "python": {
     "delete_cmd_postfix": "",
     "delete_cmd_prefix": "del ",
     "library": "var_list.py",
     "varRefreshCmd": "print(var_dic_list())"
    },
    "r": {
     "delete_cmd_postfix": ") ",
     "delete_cmd_prefix": "rm(",
     "library": "var_list.r",
     "varRefreshCmd": "cat(var_dic_list()) "
    }
   },
   "types_to_exclude": [
    "module",
    "function",
    "builtin_function_or_method",
    "instance",
    "_Feature"
   ],
   "window_display": false
  }
 },
 "nbformat": 4,
 "nbformat_minor": 4
}
